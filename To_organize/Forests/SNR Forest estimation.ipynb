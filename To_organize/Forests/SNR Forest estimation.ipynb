{
 "cells": [
  {
   "cell_type": "markdown",
   "id": "69305875",
   "metadata": {},
   "source": [
    "# First attempts"
   ]
  },
  {
   "cell_type": "code",
   "execution_count": 55,
   "id": "1479a67d",
   "metadata": {
    "ExecuteTime": {
     "end_time": "2023-05-22T02:17:39.878305Z",
     "start_time": "2023-05-22T02:17:30.587421Z"
    }
   },
   "outputs": [
    {
     "name": "stderr",
     "output_type": "stream",
     "text": [
      "/home/colgoat/.local/lib/python3.10/site-packages/numpy/core/fromnumeric.py:3432: RuntimeWarning: Mean of empty slice.\n",
      "  return _methods._mean(a, axis=axis, dtype=dtype,\n",
      "/home/colgoat/.local/lib/python3.10/site-packages/numpy/core/_methods.py:190: RuntimeWarning: invalid value encountered in divide\n",
      "  ret = ret.dtype.type(ret / rcount)\n"
     ]
    },
    {
     "data": {
      "text/plain": [
       "['/home/colgoat/Jupyter/Entorno/Spec/4289/spec-4289-55856-0532.fits Z=2.39217 SNR(F): 0.90047354 1.341343 1.8761525',\n",
       " '/home/colgoat/Jupyter/Entorno/Spec/4629/spec-4629-55630-0536.fits Z=3.0992098 SNR(F): 2.986251 3.203494 3.3270519',\n",
       " '/home/colgoat/Jupyter/Entorno/Spec/5006/spec-5006-55706-0452.fits Z=2.3611636 SNR(F): 0.9722188 1.2114176 1.9686958',\n",
       " '/home/colgoat/Jupyter/Entorno/Spec/5448/spec-5448-56013-0144.fits Z=2.305159 SNR(F): 1.9284124 2.9875946 4.6245346',\n",
       " '/home/colgoat/Jupyter/Entorno/Spec/5801/spec-5801-56328-0944.fits Z=3.1290314 SNR(F): 2.843162 2.3872023 2.405431',\n",
       " '/home/colgoat/Jupyter/Entorno/Spec/6138/spec-6138-56598-0467.fits Z=2.2299812 SNR(F): nan 3.719985 6.631879',\n",
       " '/home/colgoat/Jupyter/Entorno/Spec/6182/spec-6182-56190-0718.fits Z=2.9955041 SNR(F): 5.6637664 5.7456937 4.000906',\n",
       " '/home/colgoat/Jupyter/Entorno/Spec/6253/spec-6253-56574-0924.fits Z=2.3892016 SNR(F): 0.5887586 0.8315658 1.779615',\n",
       " '/home/colgoat/Jupyter/Entorno/Spec/6431/spec-6431-56311-0530.fits Z=2.2933712 SNR(F): nan 1.254436 2.5764081',\n",
       " '/home/colgoat/Jupyter/Entorno/Spec/6604/spec-6604-56337-0658.fits Z=2.489614 SNR(F): 2.673146 3.437641 4.0797906',\n",
       " '/home/colgoat/Jupyter/Entorno/Spec/7107/spec-7107-56740-0667.fits Z=3.2482996 SNR(F): 3.6689537 2.600749 2.9002452']"
      ]
     },
     "execution_count": 55,
     "metadata": {},
     "output_type": "execute_result"
    }
   ],
   "source": [
    "import os\n",
    "import os.path\n",
    "import sys\n",
    "import glob\n",
    "import numpy as np\n",
    "import scipy.optimize    as op\n",
    "import matplotlib.pyplot as plt\n",
    "import urllib.request\n",
    "from astropy.io import fits \n",
    "from astropy.table import Table\n",
    "import pandas as pd\n",
    "\n",
    "def redshift(loc):\n",
    "    z = fits.open(loc)\n",
    "    val = z[2].data\n",
    "    z.close()\n",
    "    return val['Z'][0]\n",
    "\n",
    "local_dir=\"/home/colgoat/Jupyter/Entorno/Spec\"\n",
    "file=\"DR14snrL.txt\"\n",
    "local_file = os.path.join(local_dir,file)\n",
    "df = pd.read_csv(local_file,delim_whitespace=True, skiprows=0,dtype = {'id':str})\n",
    "catlist = df['id']\n",
    "\n",
    "direc = \"/home/colgoat/Jupyter/Entorno/Spec/\"\n",
    "si_list = []\n",
    "no_list = []\n",
    "\n",
    "for a in range(len(catlist)):\n",
    "    if (os.path.isfile(direc+catlist[a]) == True):\n",
    "        si_list.append(direc+catlist[a])\n",
    "    else:\n",
    "        no_list.append(direc+catlist[a])\n",
    "\n",
    "np.savetxt('/home/colgoat/Jupyter/Entorno/Spec/found.txt',si_list, fmt='%s', delimiter=',')\n",
    "np.savetxt('/home/colgoat/Jupyter/Entorno/Spec/not_found.txt',no_list, fmt='%s', delimiter=',')\n",
    "\n",
    "limits = [1050, 1093.3, 1136.6, 1180]\n",
    "snr = [0,0,0]\n",
    "SNR_F = []\n",
    "        \n",
    "for a in range(len(si_list)):\n",
    "    file = fits.open(si_list[a])\n",
    "    spectra = file[1].data\n",
    "    for b in range(3):\n",
    "        wave_cut=((10**spectra['loglam'])>(1. + redshift(si_list[a])) * limits[b]) & ((10**spectra['loglam'])<(1. + redshift(si_list[a])) * limits[b+1])\n",
    "        forest = spectra[wave_cut]\n",
    "        raw = forest['flux'] * np.sqrt(forest['ivar'])\n",
    "        snr[b] = np.mean(raw)\n",
    "    file.close()\n",
    "    SNR_F.append(si_list[a]+\" Z=\"+str(redshift(si_list[a]))+\" SNR(F): \"+str(snr[0])+\" \"+str(snr[1])+\" \"+str(snr[2]))\n",
    "    snr = [0,0,0]    \n",
    "\n",
    "SNR_F\n",
    "    \n",
    "    "
   ]
  },
  {
   "cell_type": "markdown",
   "id": "f07a91e8",
   "metadata": {},
   "source": [
    "# Calculated"
   ]
  },
  {
   "cell_type": "code",
   "execution_count": 48,
   "id": "9c329f8d",
   "metadata": {
    "ExecuteTime": {
     "end_time": "2023-05-30T04:26:42.455576Z",
     "start_time": "2023-05-30T04:26:42.064732Z"
    }
   },
   "outputs": [
    {
     "data": {
      "text/html": [
       "<div><i>Table length=167460</i>\n",
       "<table id=\"table139920886171872\" class=\"table-striped table-bordered table-condensed\">\n",
       "<thead><tr><th>ID</th><th>plate</th><th>mjd</th><th>fiber</th><th>z_qso</th><th>z_fst(A)</th><th>z_fst(B)</th><th>z_fst(C)</th><th>SNR_fst(A)</th><th>SNR_fst(B)</th><th>SNR_fst(C)</th><th>pxlon(A)</th><th>pxlon(B)</th><th>pxlon(C)</th></tr></thead>\n",
       "<thead><tr><th>int64</th><th>int64</th><th>int64</th><th>int64</th><th>float64</th><th>float64</th><th>float64</th><th>float64</th><th>float64</th><th>float64</th><th>float64</th><th>int64</th><th>int64</th><th>int64</th></tr></thead>\n",
       "<tr><td>20935572</td><td>7169</td><td>56628</td><td>130</td><td>3.9245136</td><td>3.3407423</td><td>3.5160778</td><td>3.691479</td><td>3.5978441</td><td>2.2960804</td><td>2.240137</td><td>176</td><td>168</td><td>163</td></tr>\n",
       "<tr><td>20937010</td><td>7169</td><td>56628</td><td>162</td><td>2.4205363</td><td>2.0148382</td><td>2.1369796</td><td>2.2588131</td><td>1.27289</td><td>2.1114523</td><td>3.0693185</td><td>176</td><td>169</td><td>162</td></tr>\n",
       "<tr><td>20953940</td><td>7169</td><td>56628</td><td>323</td><td>2.3754535</td><td>1.9843882</td><td>2.0953636</td><td>2.2159536</td><td>2.7958958</td><td>4.4369555</td><td>5.4902225</td><td>148</td><td>169</td><td>163</td></tr>\n",
       "<tr><td>20968740</td><td>7169</td><td>56628</td><td>403</td><td>3.2385573</td><td>2.7360582</td><td>2.8869746</td><td>3.0384042</td><td>3.422123</td><td>3.10844</td><td>3.3440466</td><td>175</td><td>169</td><td>163</td></tr>\n",
       "<tr><td>20974730</td><td>7168</td><td>56625</td><td>44</td><td>3.0012484</td><td>2.5266633</td><td>2.6695404</td><td>2.8120577</td><td>6.233497</td><td>5.4098277</td><td>5.188599</td><td>176</td><td>169</td><td>162</td></tr>\n",
       "<tr><td>20981686</td><td>7168</td><td>56625</td><td>102</td><td>2.319419</td><td>1.9586275</td><td>2.0441172</td><td>2.1623487</td><td>1.548991</td><td>2.1456432</td><td>4.1762443</td><td>79</td><td>168</td><td>163</td></tr>\n",
       "<tr><td>...</td><td>...</td><td>...</td><td>...</td><td>...</td><td>...</td><td>...</td><td>...</td><td>...</td><td>...</td><td>...</td><td>...</td><td>...</td><td>...</td></tr>\n",
       "<tr><td>553181827</td><td>6966</td><td>56748</td><td>592</td><td>2.794528</td><td>2.3443651</td><td>2.4794586</td><td>2.6150122</td><td>1.8287737</td><td>1.8322306</td><td>2.405217</td><td>175</td><td>169</td><td>163</td></tr>\n",
       "<tr><td>553191513</td><td>6966</td><td>56748</td><td>628</td><td>3.2595193</td><td>2.7541676</td><td>2.9058151</td><td>3.0579786</td><td>9.984613</td><td>9.475096</td><td>8.386737</td><td>175</td><td>169</td><td>163</td></tr>\n",
       "<tr><td>553213422</td><td>6966</td><td>56748</td><td>748</td><td>2.6874943</td><td>2.2502267</td><td>2.381518</td><td>2.513256</td><td>3.1339014</td><td>3.0180192</td><td>3.583998</td><td>175</td><td>169</td><td>163</td></tr>\n",
       "<tr><td>553217575</td><td>6966</td><td>56748</td><td>908</td><td>3.16831</td><td>2.6737845</td><td>2.8221848</td><td>2.9710906</td><td>2.7141979</td><td>2.7357037</td><td>2.6568208</td><td>175</td><td>169</td><td>163</td></tr>\n",
       "<tr><td>553222739</td><td>6966</td><td>56748</td><td>822</td><td>2.2180426</td><td>--</td><td>1.9897653</td><td>2.0655599</td><td>--</td><td>0.8398515</td><td>1.514565</td><td>0</td><td>54</td><td>163</td></tr>\n",
       "<tr><td>553237790</td><td>6966</td><td>56748</td><td>907</td><td>2.6615028</td><td>2.2271092</td><td>2.3574667</td><td>2.4882674</td><td>1.9422058</td><td>1.9136953</td><td>2.2098427</td><td>175</td><td>169</td><td>163</td></tr>\n",
       "<tr><td>553238479</td><td>6966</td><td>56748</td><td>832</td><td>3.0646822</td><td>2.5827265</td><td>2.7274487</td><td>2.8726637</td><td>4.4403415</td><td>4.666795</td><td>3.562449</td><td>175</td><td>169</td><td>163</td></tr>\n",
       "</table></div>"
      ],
      "text/plain": [
       "<Table length=167460>\n",
       "    ID    plate  mjd  fiber   z_qso   ... SNR_fst(C) pxlon(A) pxlon(B) pxlon(C)\n",
       "  int64   int64 int64 int64  float64  ...  float64    int64    int64    int64  \n",
       "--------- ----- ----- ----- --------- ... ---------- -------- -------- --------\n",
       " 20935572  7169 56628   130 3.9245136 ...   2.240137      176      168      163\n",
       " 20937010  7169 56628   162 2.4205363 ...  3.0693185      176      169      162\n",
       " 20953940  7169 56628   323 2.3754535 ...  5.4902225      148      169      163\n",
       " 20968740  7169 56628   403 3.2385573 ...  3.3440466      175      169      163\n",
       " 20974730  7168 56625    44 3.0012484 ...   5.188599      176      169      162\n",
       " 20981686  7168 56625   102  2.319419 ...  4.1762443       79      168      163\n",
       "      ...   ...   ...   ...       ... ...        ...      ...      ...      ...\n",
       "553181827  6966 56748   592  2.794528 ...   2.405217      175      169      163\n",
       "553191513  6966 56748   628 3.2595193 ...   8.386737      175      169      163\n",
       "553213422  6966 56748   748 2.6874943 ...   3.583998      175      169      163\n",
       "553217575  6966 56748   908   3.16831 ...  2.6568208      175      169      163\n",
       "553222739  6966 56748   822 2.2180426 ...   1.514565        0       54      163\n",
       "553237790  6966 56748   907 2.6615028 ...  2.2098427      175      169      163\n",
       "553238479  6966 56748   832 3.0646822 ...   3.562449      175      169      163"
      ]
     },
     "execution_count": 48,
     "metadata": {},
     "output_type": "execute_result"
    }
   ],
   "source": [
    "import os\n",
    "import os.path\n",
    "import sys\n",
    "import glob\n",
    "import numpy as np\n",
    "import scipy.optimize    as op\n",
    "import matplotlib.pyplot as plt\n",
    "import urllib.request\n",
    "from astropy.io import fits \n",
    "from astropy.table import Table\n",
    "import pandas as pd\n",
    "\n",
    "#nuevo = fits.open(\"/home/colgoat/TFPS/SNRForestExctDR14.fits\")\n",
    "catalog = Table.read(\"/home/colgoat/TFPS/SNRForestExctDR14.fits\")\n",
    "\n",
    "w = (catalog['z_qso']>=2.1) & (catalog['ID']>0)\n",
    "\n",
    "reduced_cat=catalog[w]\n",
    "cat_by_ID=reduced_cat.group_by('ID')\n",
    "small_cat=cat_by_ID[0:168045]\n",
    "small_cat\n"
   ]
  },
  {
   "cell_type": "code",
   "execution_count": 39,
   "id": "3ff3b94a",
   "metadata": {
    "ExecuteTime": {
     "end_time": "2023-05-30T04:15:44.035947Z",
     "start_time": "2023-05-30T04:14:39.307557Z"
    }
   },
   "outputs": [
    {
     "data": {
      "text/html": [
       "<div><i>Table length=168045</i>\n",
       "<table id=\"table139920885997600\" class=\"table-striped table-bordered table-condensed\">\n",
       "<thead><tr><th>SDSS_NAME</th><th>RA</th><th>DEC</th><th>THING_ID</th><th>PLATE</th><th>MJD</th><th>FIBERID</th><th>SPECTRO</th><th>Z</th><th>Z_ERR</th><th>SOURCE_Z</th><th>Z_VI</th><th>Z_PIPE</th><th>Z_PIPE_ERR</th><th>ZWARNING</th><th>Z_PCA</th><th>Z_PCA_ER</th><th>Z_MGII</th><th>BOSS_TARGET1</th><th>ANCILLARY_TARGET1</th><th>ANCILLARY_TARGET2</th><th>EBOSS_TARGET0</th><th>EBOSS_TARGET1</th><th>EBOSS_TARGET2</th><th>N_SPEC_SDSS</th><th>N_SPEC_BOSS</th><th>N_SPEC</th><th>PLATE_DUPLICATE</th><th>MJD_DUPLICATE</th><th>FIBERID_DUPLICATE</th><th>SPECTRO_DUPLICATE</th><th>BI_CIV</th><th>ERR_BI_CIV</th><th>RUN_NUMBER</th><th>RERUN_NUMBER</th><th>COL_NUMBER</th><th>FIELD_NUMBER</th><th>OBJ_ID</th><th>PSFFLUX</th><th>IVAR_PSFFLUX</th><th>PSFMAG</th><th>ERR_PSFMAG</th><th>MI</th><th>GAL_EXT</th><th>RASS_COUNTS</th><th>RASS_COUNTS_SNR</th><th>SDSS2ROSAT_SEP</th><th>FLUX_0.2_2.0keV</th><th>FLUX_0.2_2.0keV_ERR</th><th>FLUX_2.0_12.0keV</th><th>FLUX_2.0_12.0keV_ERR</th><th>FLUX_0.2_12.0keV</th><th>FLUX_0.2_12.0keV_ERR</th><th>LUM_0.2_12.0keV</th><th>SDSS2XMM_SEP</th><th>GALEX_MATCHED</th><th>FUV</th><th>FUV_IVAR</th><th>NUV</th><th>NUV_IVAR</th><th>JMAG</th><th>ERR_JMAG</th><th>JSNR</th><th>JRDFLAG</th><th>HMAG</th><th>ERR_HMAG</th><th>HSNR</th><th>HRDFLAG</th><th>KMAG</th><th>ERR_KMAG</th><th>KSNR</th><th>KRDFLAG</th><th>SDSS2MASS_SEP</th><th>W1MAG</th><th>ERR_W1MAG</th><th>W1SNR</th><th>W1CHI2</th><th>W2MAG</th><th>ERR_W2MAG</th><th>W2SNR</th><th>W2CHI2</th><th>W3MAG</th><th>ERR_W3MAG</th><th>W3SNR</th><th>W3CHI2</th><th>W4MAG</th><th>ERR_W4MAG</th><th>W4SNR</th><th>W4CHI2</th><th>CC_FLAGS</th><th>PH_FLAGS</th><th>SDSS2WISE_SEP</th><th>UKIDSS_MATCHED</th><th>YFLUX</th><th>YFLUX_ERR</th><th>JFLUX</th><th>JFLUX_ERR</th><th>HFLUX</th><th>HFLUX_ERR</th><th>KFLUX</th><th>KFLUX_ERR</th><th>FIRST_MATCHED</th><th>FIRST_FLUX</th><th>FIRST_SNR</th><th>SDSS2FIRST_SEP</th></tr></thead>\n",
       "<thead><tr><th>-</th><th>deg</th><th>deg</th><th>-</th><th>-</th><th>-</th><th>-</th><th>-</th><th>-</th><th>-</th><th>-</th><th>-</th><th>-</th><th>-</th><th>-</th><th>-</th><th>-</th><th>-</th><th>-</th><th>-</th><th>-</th><th>-</th><th>-</th><th>-</th><th>-</th><th>-</th><th>-</th><th>-</th><th>-</th><th>-</th><th>-</th><th>km / s</th><th>km / s</th><th>-</th><th>-</th><th>-</th><th>-</th><th>-</th><th>nanomaggies</th><th>-</th><th>mag</th><th>mag</th><th>-</th><th>mag</th><th>counts/s</th><th>-</th><th>arcsec</th><th>erg / (cm2 s)</th><th>erg / (cm2 s)</th><th>erg / (cm2 s)</th><th>erg / (cm2 s)</th><th>erg / (cm2 s)</th><th>erg / (cm2 s)</th><th>erg / s</th><th>arcsec</th><th>-</th><th>-</th><th>-</th><th>-</th><th>-</th><th>Vega</th><th>Vega</th><th>-</th><th>-</th><th>Vega</th><th>Vega</th><th>-</th><th>-</th><th>Vega</th><th>Vega</th><th>-</th><th>-</th><th>arcsec</th><th>-</th><th>-</th><th>-</th><th>-</th><th>-</th><th>-</th><th>-</th><th>-</th><th>-</th><th>-</th><th>-</th><th>-</th><th>-</th><th>-</th><th>-</th><th>-</th><th>-</th><th>-</th><th>arcsec</th><th>-</th><th>W / (Hz m2)</th><th>W / (Hz m2)</th><th>W / (Hz m2)</th><th>W / (Hz m2)</th><th>W / (Hz m2)</th><th>W / (Hz m2)</th><th>W / (Hz m2)</th><th>W / (Hz m2)</th><th>-</th><th>mJy</th><th>-</th><th>arcsec</th></tr></thead>\n",
       "<thead><tr><th>bytes18</th><th>float64</th><th>float64</th><th>int32</th><th>int16</th><th>int32</th><th>int16</th><th>bytes4</th><th>float64</th><th>float64</th><th>bytes4</th><th>float64</th><th>float64</th><th>float64</th><th>int16</th><th>float64</th><th>float64</th><th>float64</th><th>int64</th><th>int64</th><th>int64</th><th>int64</th><th>int64</th><th>int64</th><th>int16</th><th>int16</th><th>int16</th><th>int32[51]</th><th>int32[51]</th><th>int32[51]</th><th>bytes1[51]</th><th>float64</th><th>float64</th><th>int16</th><th>bytes1</th><th>int16</th><th>int16</th><th>bytes1</th><th>float64[5]</th><th>float64[5]</th><th>float64[5]</th><th>float64[5]</th><th>float64</th><th>float64[5]</th><th>float64</th><th>float64</th><th>float64</th><th>float64</th><th>float64</th><th>float64</th><th>float64</th><th>float64</th><th>float64</th><th>float64</th><th>float64</th><th>float32</th><th>float64</th><th>float64</th><th>float64</th><th>float64</th><th>float64</th><th>float64</th><th>float32</th><th>int16</th><th>float64</th><th>float64</th><th>float32</th><th>int16</th><th>float64</th><th>float64</th><th>float32</th><th>int16</th><th>float64</th><th>float64</th><th>float64</th><th>float64</th><th>float64</th><th>float64</th><th>float64</th><th>float64</th><th>float64</th><th>float64</th><th>float64</th><th>float64</th><th>float64</th><th>float64</th><th>float64</th><th>float64</th><th>float64</th><th>bytes4</th><th>bytes4</th><th>float64</th><th>float32</th><th>float64</th><th>float64</th><th>float64</th><th>float64</th><th>float64</th><th>float64</th><th>float64</th><th>float64</th><th>int16</th><th>float64</th><th>float64</th><th>float64</th></tr></thead>\n",
       "<tr><td>001550.63-105421.3</td><td>3.9609720447383534</td><td>-10.90592373671505</td><td>20935572</td><td>7169</td><td>56628</td><td>130</td><td>BOSS</td><td>3.91</td><td>0.0</td><td>VI</td><td>3.910000085830689</td><td>3.924513578414917</td><td>0.0006429765489883723</td><td>0</td><td>3.8881477999999996</td><td>-1.0</td><td>-1.0</td><td>2199023271936</td><td>0</td><td>0</td><td>0</td><td>0</td><td>0</td><td>0</td><td>0</td><td>0</td><td>-1 .. -1</td><td>-1 .. -1</td><td>-1 .. -1</td><td>- .. -</td><td>0.0</td><td>0.0</td><td>0</td><td>-</td><td>0</td><td>0</td><td>-</td><td>0.1254637986421585 .. 16.55965232849121</td><td>12.678911209106445 .. 0.5674679279327393</td><td>24.16314125061035 .. 19.450210571289062</td><td>0.9937875270843506 .. 0.08669116348028183</td><td>-27.645222</td><td>0.16184712946414948 .. 0.04822197183966637</td><td>0.0</td><td>0.0</td><td>-1.0</td><td>--</td><td>--</td><td>--</td><td>--</td><td>--</td><td>--</td><td>--</td><td>--</td><td>1.0</td><td>-0.0991942435503006</td><td>1054.5289006035107</td><td>-0.03879263997077942</td><td>15.740846534586115</td><td>--</td><td>--</td><td>--</td><td>-1</td><td>--</td><td>--</td><td>--</td><td>-1</td><td>--</td><td>--</td><td>--</td><td>-1</td><td>--</td><td>16.407</td><td>0.07400000000000001</td><td>14.699999809265137</td><td>0.8959</td><td>15.94</td><td>0.17</td><td>6.400000095367432</td><td>0.9701</td><td>12.088</td><td>0.454</td><td>2.4000000953674316</td><td>0.858</td><td>8.146</td><td>0.07400000000000001</td><td>1.899999976158142</td><td>0.8638</td><td>0000</td><td>ABCU</td><td>0.047154</td><td>0.0</td><td>0.0</td><td>0.0</td><td>0.0</td><td>0.0</td><td>0.0</td><td>0.0</td><td>0.0</td><td>0.0</td><td>0</td><td>-1.0</td><td>-1.0</td><td>-1.0</td></tr>\n",
       "<tr><td>001501.01-105656.1</td><td>3.7542214874652733</td><td>-10.948936701334851</td><td>20937010</td><td>7169</td><td>56628</td><td>162</td><td>BOSS</td><td>2.412</td><td>0.0</td><td>VI</td><td>2.4119999408721924</td><td>2.4205362796783447</td><td>0.0003491138049867004</td><td>0</td><td>2.4155896</td><td>-1.0</td><td>-1.0</td><td>3298535424000</td><td>0</td><td>1024</td><td>0</td><td>0</td><td>0</td><td>0</td><td>0</td><td>0</td><td>-1 .. -1</td><td>-1 .. -1</td><td>-1 .. -1</td><td>- .. -</td><td>0.0</td><td>0.0</td><td>0</td><td>-</td><td>0</td><td>0</td><td>-</td><td>1.9811794757843018 .. 6.018215179443359</td><td>8.412131309509277 .. 0.6568734049797058</td><td>21.752309799194336 .. 20.535276412963867</td><td>0.18709099292755127 .. 0.21615496277809143</td><td>-25.512043</td><td>0.16155345737934113 .. 0.04813447222113609</td><td>0.0</td><td>0.0</td><td>-1.0</td><td>--</td><td>--</td><td>--</td><td>--</td><td>--</td><td>--</td><td>--</td><td>--</td><td>1.0</td><td>0.06376922130584718</td><td>175.01824343751977</td><td>-0.082896888256073</td><td>333.0062917346512</td><td>--</td><td>--</td><td>--</td><td>-1</td><td>--</td><td>--</td><td>--</td><td>-1</td><td>--</td><td>--</td><td>--</td><td>-1</td><td>--</td><td>17.088</td><td>0.133</td><td>8.100000381469727</td><td>1.047</td><td>16.037</td><td>0.201</td><td>5.400000095367432</td><td>1.091</td><td>12.287</td><td>--</td><td>0.6000000238418579</td><td>0.9918</td><td>8.904</td><td>0.133</td><td>-1.7000000476837158</td><td>0.8536</td><td>0000</td><td>BBUU</td><td>0.44197</td><td>0.0</td><td>0.0</td><td>0.0</td><td>0.0</td><td>0.0</td><td>0.0</td><td>0.0</td><td>0.0</td><td>0.0</td><td>0</td><td>-1.0</td><td>-1.0</td><td>-1.0</td></tr>\n",
       "<tr><td>001228.64-105405.3</td><td>3.1193523788890047</td><td>-10.901491801146324</td><td>20953940</td><td>7169</td><td>56628</td><td>323</td><td>BOSS</td><td>2.377</td><td>0.0</td><td>VI</td><td>2.377000093460083</td><td>2.375453472137451</td><td>0.00019968136621173463</td><td>0</td><td>2.3744774</td><td>2.375466</td><td>2.375466</td><td>3298535424000</td><td>0</td><td>0</td><td>0</td><td>0</td><td>0</td><td>0</td><td>0</td><td>0</td><td>-1 .. -1</td><td>-1 .. -1</td><td>-1 .. -1</td><td>- .. -</td><td>0.0</td><td>0.0</td><td>0</td><td>-</td><td>0</td><td>0</td><td>-</td><td>6.0398173332214355 .. 15.396869659423828</td><td>6.370800971984863 .. 0.53863126039505</td><td>20.546857833862305 .. 19.528919219970703</td><td>0.07114384323358536 .. 0.09564206004142761</td><td>-26.465464</td><td>0.14860403537750244 .. 0.044276222586631775</td><td>0.0</td><td>0.0</td><td>-1.0</td><td>--</td><td>--</td><td>--</td><td>--</td><td>--</td><td>--</td><td>--</td><td>--</td><td>1.0</td><td>0.08533362299203873</td><td>206.4563748349538</td><td>0.17434516549110413</td><td>8.131628219202646</td><td>--</td><td>--</td><td>--</td><td>-1</td><td>--</td><td>--</td><td>--</td><td>-1</td><td>--</td><td>--</td><td>--</td><td>-1</td><td>--</td><td>--</td><td>--</td><td>--</td><td>--</td><td>--</td><td>--</td><td>--</td><td>--</td><td>--</td><td>--</td><td>--</td><td>--</td><td>--</td><td>--</td><td>--</td><td>--</td><td></td><td></td><td>--</td><td>0.0</td><td>0.0</td><td>0.0</td><td>0.0</td><td>0.0</td><td>0.0</td><td>0.0</td><td>0.0</td><td>0.0</td><td>0</td><td>-1.0</td><td>-1.0</td><td>-1.0</td></tr>\n",
       "<tr><td>001055.56-105255.5</td><td>2.7315387185268643</td><td>-10.882094996372542</td><td>20968740</td><td>7169</td><td>56628</td><td>403</td><td>BOSS</td><td>3.239</td><td>0.0</td><td>VI</td><td>3.239000082015991</td><td>3.2385573387146</td><td>0.0004837583692278713</td><td>0</td><td>3.2505648</td><td>-1.0</td><td>-1.0</td><td>3298535424000</td><td>0</td><td>0</td><td>0</td><td>0</td><td>0</td><td>0</td><td>0</td><td>0</td><td>-1 .. -1</td><td>-1 .. -1</td><td>-1 .. -1</td><td>- .. -</td><td>0.0</td><td>0.0</td><td>0</td><td>-</td><td>0</td><td>0</td><td>-</td><td>0.06061798706650734 .. 3.9712188243865967</td><td>9.42923641204834 .. 0.6540688872337341</td><td>24.401424407958984 .. 20.966815948486328</td><td>1.2341893911361694 .. 0.31677258014678955</td><td>-25.771275</td><td>0.15518924593925476 .. 0.04623826965689659</td><td>0.0</td><td>0.0</td><td>-1.0</td><td>--</td><td>--</td><td>--</td><td>--</td><td>--</td><td>--</td><td>--</td><td>--</td><td>1.0</td><td>-0.15832890570163727</td><td>64.88634840659972</td><td>-0.09687691926956177</td><td>160.7767269292624</td><td>--</td><td>--</td><td>--</td><td>-1</td><td>--</td><td>--</td><td>--</td><td>-1</td><td>--</td><td>--</td><td>--</td><td>-1</td><td>--</td><td>--</td><td>--</td><td>--</td><td>--</td><td>--</td><td>--</td><td>--</td><td>--</td><td>--</td><td>--</td><td>--</td><td>--</td><td>--</td><td>--</td><td>--</td><td>--</td><td></td><td></td><td>--</td><td>0.0</td><td>0.0</td><td>0.0</td><td>0.0</td><td>0.0</td><td>0.0</td><td>0.0</td><td>0.0</td><td>0.0</td><td>0</td><td>-1.0</td><td>-1.0</td><td>-1.0</td></tr>\n",
       "<tr><td>000931.79-105614.1</td><td>2.382477644724034</td><td>-10.937265965692065</td><td>20974730</td><td>7168</td><td>56625</td><td>44</td><td>BOSS</td><td>2.9989999999999997</td><td>0.0</td><td>VI</td><td>2.999000072479248</td><td>3.0012483596801762</td><td>0.0008554813684895635</td><td>0</td><td>3.0114205000000003</td><td>-1.0</td><td>-1.0</td><td>3298535424000</td><td>0</td><td>0</td><td>0</td><td>0</td><td>0</td><td>0</td><td>0</td><td>0</td><td>-1 .. -1</td><td>-1 .. -1</td><td>-1 .. -1</td><td>- .. -</td><td>0.0</td><td>0.0</td><td>0</td><td>-</td><td>0</td><td>0</td><td>-</td><td>1.5909963846206665 .. 11.32542896270752</td><td>7.914690971374512 .. 0.5391473174095154</td><td>21.987516403198242 .. 19.860258102416992</td><td>0.2388991415500641 .. 0.12946100533008575</td><td>-26.849813</td><td>0.16197636723518372 .. 0.04826048016548157</td><td>0.0</td><td>0.0</td><td>-1.0</td><td>--</td><td>--</td><td>--</td><td>--</td><td>--</td><td>--</td><td>--</td><td>--</td><td>1.0</td><td>0.17427131533622742</td><td>26.3874465034223</td><td>-0.20246762037277224</td><td>0.5838711372585869</td><td>--</td><td>--</td><td>--</td><td>-1</td><td>--</td><td>--</td><td>--</td><td>-1</td><td>--</td><td>--</td><td>--</td><td>-1</td><td>--</td><td>--</td><td>--</td><td>--</td><td>--</td><td>--</td><td>--</td><td>--</td><td>--</td><td>--</td><td>--</td><td>--</td><td>--</td><td>--</td><td>--</td><td>--</td><td>--</td><td></td><td></td><td>--</td><td>0.0</td><td>0.0</td><td>0.0</td><td>0.0</td><td>0.0</td><td>0.0</td><td>0.0</td><td>0.0</td><td>0.0</td><td>0</td><td>-1.0</td><td>-1.0</td><td>-1.0</td></tr>\n",
       "<tr><td>000822.33-105631.2</td><td>2.093064007238894</td><td>-10.942017803573759</td><td>20981686</td><td>7168</td><td>56625</td><td>102</td><td>BOSS</td><td>2.319</td><td>0.0</td><td>VI</td><td>2.319000005722046</td><td>2.319418907165528</td><td>0.00023366452660411602</td><td>0</td><td>2.315922</td><td>2.328364</td><td>2.328364</td><td>3298535424000</td><td>0</td><td>0</td><td>0</td><td>0</td><td>0</td><td>0</td><td>0</td><td>0</td><td>-1 .. -1</td><td>-1 .. -1</td><td>-1 .. -1</td><td>- .. -</td><td>0.0</td><td>0.0</td><td>0</td><td>-</td><td>0</td><td>0</td><td>-</td><td>5.470447063446045 .. 11.159890174865723</td><td>6.164749622344971 .. 0.5078219175338745</td><td>20.654232025146484 .. 19.876108169555664</td><td>0.07983174920082092 .. 0.1353389471769333</td><td>-26.083267000000006</td><td>0.16060075163841248 .. 0.04785061627626419</td><td>0.0</td><td>0.0</td><td>-1.0</td><td>--</td><td>--</td><td>--</td><td>--</td><td>--</td><td>--</td><td>--</td><td>--</td><td>1.0</td><td>0.5698622465133667</td><td>31.194965676705962</td><td>0.5063597559928894</td><td>12.446624572586325</td><td>--</td><td>--</td><td>--</td><td>-1</td><td>--</td><td>--</td><td>--</td><td>-1</td><td>--</td><td>--</td><td>--</td><td>-1</td><td>--</td><td>17.426</td><td>0.173</td><td>6.300000190734863</td><td>0.9716</td><td>16.597</td><td>0.35700000000000004</td><td>3.0</td><td>0.9681</td><td>12.558</td><td>--</td><td>-0.10000000149011612</td><td>1.028</td><td>8.947000000000003</td><td>0.173</td><td>-0.10000000149011612</td><td>0.8344</td><td>0000</td><td>BCUU</td><td>0.925647</td><td>0.0</td><td>0.0</td><td>0.0</td><td>0.0</td><td>0.0</td><td>0.0</td><td>0.0</td><td>0.0</td><td>0.0</td><td>0</td><td>-1.0</td><td>-1.0</td><td>-1.0</td></tr>\n",
       "<tr><td>...</td><td>...</td><td>...</td><td>...</td><td>...</td><td>...</td><td>...</td><td>...</td><td>...</td><td>...</td><td>...</td><td>...</td><td>...</td><td>...</td><td>...</td><td>...</td><td>...</td><td>...</td><td>...</td><td>...</td><td>...</td><td>...</td><td>...</td><td>...</td><td>...</td><td>...</td><td>...</td><td>...</td><td>...</td><td>...</td><td>...</td><td>...</td><td>...</td><td>...</td><td>...</td><td>...</td><td>...</td><td>...</td><td>...</td><td>...</td><td>...</td><td>...</td><td>...</td><td>...</td><td>...</td><td>...</td><td>...</td><td>...</td><td>...</td><td>...</td><td>...</td><td>...</td><td>...</td><td>...</td><td>...</td><td>...</td><td>...</td><td>...</td><td>...</td><td>...</td><td>...</td><td>...</td><td>...</td><td>...</td><td>...</td><td>...</td><td>...</td><td>...</td><td>...</td><td>...</td><td>...</td><td>...</td><td>...</td><td>...</td><td>...</td><td>...</td><td>...</td><td>...</td><td>...</td><td>...</td><td>...</td><td>...</td><td>...</td><td>...</td><td>...</td><td>...</td><td>...</td><td>...</td><td>...</td><td>...</td><td>...</td><td>...</td><td>...</td><td>...</td><td>...</td><td>...</td><td>...</td><td>...</td><td>...</td><td>...</td><td>...</td><td>...</td><td>...</td><td>...</td><td>...</td></tr>\n",
       "<tr><td>120719.94+683156.3</td><td>181.83308432099426</td><td>68.53231082874652</td><td>553191513</td><td>6966</td><td>56748</td><td>628</td><td>BOSS</td><td>3.258</td><td>0.0</td><td>VI</td><td>3.257999897003174</td><td>3.259519338607788</td><td>0.0003791390918195248</td><td>0</td><td>3.2757377999999995</td><td>-1.0</td><td>-1.0</td><td>3298535424000</td><td>0</td><td>1024</td><td>0</td><td>0</td><td>0</td><td>0</td><td>0</td><td>0</td><td>-1 .. -1</td><td>-1 .. -1</td><td>-1 .. -1</td><td>- .. -</td><td>0.0</td><td>0.0</td><td>0</td><td>-</td><td>0</td><td>0</td><td>-</td><td>0.1006581038236618 .. 12.776203155517578</td><td>12.877035140991211 .. 0.8304184079170227</td><td>24.252317428588867 .. 19.730371475219727</td><td>1.0168715715408325 .. 0.09263593703508377</td><td>-27.124748</td><td>0.09150972217321396 .. 0.02726510539650917</td><td>0.0</td><td>0.0</td><td>-1.0</td><td>--</td><td>--</td><td>--</td><td>--</td><td>--</td><td>--</td><td>--</td><td>--</td><td>1.0</td><td>0.06816732883453369</td><td>19.35142895103229</td><td>-0.046135496348142624</td><td>141.61544443749094</td><td>--</td><td>--</td><td>--</td><td>-1</td><td>--</td><td>--</td><td>--</td><td>-1</td><td>--</td><td>--</td><td>--</td><td>-1</td><td>--</td><td>15.629</td><td>0.038</td><td>28.600000381469727</td><td>0.9114</td><td>14.889</td><td>0.053</td><td>20.600000381469727</td><td>0.8569</td><td>12.039</td><td>0.28600000000000003</td><td>3.799999952316284</td><td>0.8569</td><td>8.761000000000001</td><td>0.038</td><td>3.0999999046325684</td><td>1.028</td><td>0000</td><td>AABB</td><td>0.073401</td><td>0.0</td><td>0.0</td><td>0.0</td><td>0.0</td><td>0.0</td><td>0.0</td><td>0.0</td><td>0.0</td><td>0.0</td><td>-1</td><td>-1.0</td><td>-1.0</td><td>-1.0</td></tr>\n",
       "<tr><td>121532.11+683817.3</td><td>183.88380354855275</td><td>68.63815947103323</td><td>553213422</td><td>6966</td><td>56748</td><td>748</td><td>BOSS</td><td>2.7030000000000003</td><td>0.0</td><td>VI</td><td>2.703000068664551</td><td>2.6874942779541016</td><td>0.0009503178880549967</td><td>0</td><td>2.7130412999999995</td><td>-1.0</td><td>-1.0</td><td>2199023255552</td><td>0</td><td>0</td><td>0</td><td>0</td><td>0</td><td>0</td><td>0</td><td>0</td><td>-1 .. -1</td><td>-1 .. -1</td><td>-1 .. -1</td><td>- .. -</td><td>0.0</td><td>0.0</td><td>0</td><td>-</td><td>0</td><td>0</td><td>-</td><td>0.9882034659385681 .. 5.835099220275879</td><td>11.470301628112793 .. 0.8135300278663635</td><td>22.49172019958496 .. 20.56782341003418</td><td>0.31212010979652405 .. 0.1999634951353073</td><td>-25.396511</td><td>0.06206061318516731 .. 0.018490813672542572</td><td>0.0</td><td>0.0</td><td>-1.0</td><td>--</td><td>--</td><td>--</td><td>--</td><td>--</td><td>--</td><td>--</td><td>--</td><td>1.0</td><td>0.06816732883453369</td><td>19.35142895103229</td><td>-0.046135496348142624</td><td>141.61544443749094</td><td>--</td><td>--</td><td>--</td><td>-1</td><td>--</td><td>--</td><td>--</td><td>-1</td><td>--</td><td>--</td><td>--</td><td>-1</td><td>--</td><td>17.908</td><td>0.183</td><td>5.900000095367432</td><td>0.8915</td><td>16.832</td><td>0.268</td><td>4.099999904632568</td><td>0.8599</td><td>12.352</td><td>--</td><td>1.2999999523162842</td><td>0.8415</td><td>8.618</td><td>0.183</td><td>1.899999976158142</td><td>1.018</td><td>0000</td><td>BBUU</td><td>0.432936</td><td>0.0</td><td>0.0</td><td>0.0</td><td>0.0</td><td>0.0</td><td>0.0</td><td>0.0</td><td>0.0</td><td>0.0</td><td>-1</td><td>-1.0</td><td>-1.0</td><td>-1.0</td></tr>\n",
       "<tr><td>122356.16+683746.4</td><td>185.984029094021</td><td>68.6295577649143</td><td>553217575</td><td>6966</td><td>56748</td><td>908</td><td>BOSS</td><td>3.168</td><td>0.0</td><td>VI</td><td>3.1679999828338623</td><td>3.1683099269866943</td><td>0.00024911115178838367</td><td>0</td><td>3.1599884</td><td>-1.0</td><td>-1.0</td><td>3298535424000</td><td>0</td><td>0</td><td>0</td><td>0</td><td>0</td><td>0</td><td>0</td><td>0</td><td>-1 .. -1</td><td>-1 .. -1</td><td>-1 .. -1</td><td>- .. -</td><td>0.0</td><td>0.0</td><td>0</td><td>-</td><td>0</td><td>0</td><td>-</td><td>0.8132705092430115 .. 6.711737632751465</td><td>12.468753814697266 .. 0.8041868805885315</td><td>22.693580627441406 .. 20.41994857788086</td><td>0.3574810326099396 .. 0.1761574000120163</td><td>-26.420271000000003</td><td>0.0677606388926506 .. 0.02018912136554718</td><td>0.0</td><td>0.0</td><td>-1.0</td><td>--</td><td>--</td><td>--</td><td>--</td><td>--</td><td>--</td><td>--</td><td>--</td><td>1.0</td><td>0.06816732883453369</td><td>19.35142895103229</td><td>-0.046135496348142624</td><td>141.61544443749094</td><td>--</td><td>--</td><td>--</td><td>-1</td><td>--</td><td>--</td><td>--</td><td>-1</td><td>--</td><td>--</td><td>--</td><td>-1</td><td>--</td><td>17.939</td><td>0.189</td><td>5.699999809265137</td><td>0.8723</td><td>16.917</td><td>0.268</td><td>4.0</td><td>0.8301</td><td>12.335</td><td>--</td><td>0.699999988079071</td><td>0.913</td><td>8.972999999999997</td><td>0.189</td><td>0.699999988079071</td><td>0.9223</td><td>0000</td><td>BBUU</td><td>0.6374609999999999</td><td>0.0</td><td>0.0</td><td>0.0</td><td>0.0</td><td>0.0</td><td>0.0</td><td>0.0</td><td>0.0</td><td>0.0</td><td>-1</td><td>-1.0</td><td>-1.0</td><td>-1.0</td></tr>\n",
       "<tr><td>121853.15+684139.5</td><td>184.72149328911803</td><td>68.69431913443749</td><td>553222739</td><td>6966</td><td>56748</td><td>822</td><td>BOSS</td><td>2.22</td><td>0.0</td><td>VI</td><td>2.220000028610229</td><td>2.2180426120758057</td><td>0.0007840782054699957</td><td>0</td><td>2.2294126</td><td>2.2242718</td><td>2.2242718</td><td>0</td><td>0</td><td>1024</td><td>0</td><td>0</td><td>0</td><td>0</td><td>0</td><td>0</td><td>-1 .. -1</td><td>-1 .. -1</td><td>-1 .. -1</td><td>- .. -</td><td>0.0</td><td>0.0</td><td>0</td><td>-</td><td>0</td><td>0</td><td>-</td><td>3.089482069015503 .. 11.970467567443848</td><td>10.554938316345215 .. 0.8388642072677612</td><td>21.27306365966797 .. 19.800596237182617</td><td>0.1077294573187828 .. 0.09828180074691772</td><td>-25.963148</td><td>0.05946759134531021 .. 0.017718227580189705</td><td>0.0</td><td>0.0</td><td>-1.0</td><td>--</td><td>--</td><td>--</td><td>--</td><td>--</td><td>--</td><td>--</td><td>--</td><td>1.0</td><td>0.06816732883453369</td><td>19.35142895103229</td><td>-0.046135496348142624</td><td>141.61544443749094</td><td>--</td><td>--</td><td>--</td><td>-1</td><td>--</td><td>--</td><td>--</td><td>-1</td><td>--</td><td>--</td><td>--</td><td>-1</td><td>--</td><td>16.852</td><td>0.076</td><td>14.199999809265137</td><td>0.9395</td><td>15.845999999999998</td><td>0.102</td><td>10.600000381469727</td><td>0.8783</td><td>12.444</td><td>0.317</td><td>3.4000000953674316</td><td>0.9825</td><td>9.109</td><td>0.076</td><td>2.4000000953674316</td><td>1.032</td><td>0000</td><td>AABC</td><td>0.63986</td><td>0.0</td><td>0.0</td><td>0.0</td><td>0.0</td><td>0.0</td><td>0.0</td><td>0.0</td><td>0.0</td><td>0.0</td><td>-1</td><td>-1.0</td><td>-1.0</td><td>-1.0</td></tr>\n",
       "<tr><td>122309.16+683956.2</td><td>185.788207562586</td><td>68.66562246163812</td><td>553237790</td><td>6966</td><td>56748</td><td>907</td><td>BOSS</td><td>2.665</td><td>0.0</td><td>VI</td><td>2.664999961853028</td><td>2.6615028381347656</td><td>0.0009215596946887672</td><td>0</td><td>2.6606107000000003</td><td>-1.0</td><td>-1.0</td><td>3298534899712</td><td>0</td><td>0</td><td>0</td><td>0</td><td>0</td><td>0</td><td>0</td><td>0</td><td>-1 .. -1</td><td>-1 .. -1</td><td>-1 .. -1</td><td>- .. -</td><td>0.0</td><td>0.0</td><td>0</td><td>-</td><td>0</td><td>0</td><td>-</td><td>1.417036533355713 .. 3.0596981048583984</td><td>17.388992309570312 .. 1.6713404655456543</td><td>22.111101150512695 .. 21.227237701416016</td><td>0.1802557408809662 .. 0.24709297716617584</td><td>-25.275551</td><td>0.06659747660160065 .. 0.019842561334371567</td><td>0.0</td><td>0.0</td><td>-1.0</td><td>--</td><td>--</td><td>--</td><td>--</td><td>--</td><td>--</td><td>--</td><td>--</td><td>1.0</td><td>-0.06342168897390366</td><td>377.7522956872233</td><td>0.03622151538729669</td><td>485.3149905845915</td><td>--</td><td>--</td><td>--</td><td>-1</td><td>--</td><td>--</td><td>--</td><td>-1</td><td>--</td><td>--</td><td>--</td><td>-1</td><td>--</td><td>--</td><td>--</td><td>--</td><td>--</td><td>--</td><td>--</td><td>--</td><td>--</td><td>--</td><td>--</td><td>--</td><td>--</td><td>--</td><td>--</td><td>--</td><td>--</td><td></td><td></td><td>--</td><td>0.0</td><td>0.0</td><td>0.0</td><td>0.0</td><td>0.0</td><td>0.0</td><td>0.0</td><td>0.0</td><td>0.0</td><td>-1</td><td>-1.0</td><td>-1.0</td><td>-1.0</td></tr>\n",
       "<tr><td>121729.74+683952.7</td><td>184.37392041319023</td><td>68.66466592139739</td><td>553238479</td><td>6966</td><td>56748</td><td>832</td><td>BOSS</td><td>3.065</td><td>0.0</td><td>VI</td><td>3.065000057220459</td><td>3.0646822452545166</td><td>0.0005445228307507931</td><td>0</td><td>3.0646315</td><td>-1.0</td><td>-1.0</td><td>3298535424000</td><td>0</td><td>1024</td><td>0</td><td>0</td><td>0</td><td>0</td><td>0</td><td>0</td><td>-1 .. -1</td><td>-1 .. -1</td><td>-1 .. -1</td><td>- .. -</td><td>0.0</td><td>0.0</td><td>0</td><td>-</td><td>0</td><td>0</td><td>-</td><td>1.0109487771987915 .. 9.304450035095215</td><td>15.728480339050293 .. 1.4760111570358276</td><td>22.46792984008789 .. 20.071470260620117</td><td>0.26097697019577026 .. 0.09485561400651932</td><td>-26.716352</td><td>0.061223115772008896 .. 0.018241282552480698</td><td>0.0</td><td>0.0</td><td>-1.0</td><td>--</td><td>--</td><td>--</td><td>--</td><td>--</td><td>--</td><td>--</td><td>--</td><td>1.0</td><td>-0.032858945429325104</td><td>353.06102922142753</td><td>-0.03896485641598702</td><td>90.04071456184325</td><td>--</td><td>--</td><td>--</td><td>-1</td><td>--</td><td>--</td><td>--</td><td>-1</td><td>--</td><td>--</td><td>--</td><td>-1</td><td>--</td><td>17.192</td><td>0.096</td><td>11.399999618530273</td><td>0.8796</td><td>16.357</td><td>0.165</td><td>6.599999904632568</td><td>0.9055</td><td>12.345999999999998</td><td>0.284</td><td>3.799999952316284</td><td>0.9799</td><td>9.328</td><td>0.096</td><td>0.20000000298023224</td><td>0.9601</td><td>0000</td><td>ABBU</td><td>0.233518</td><td>0.0</td><td>0.0</td><td>0.0</td><td>0.0</td><td>0.0</td><td>0.0</td><td>0.0</td><td>0.0</td><td>0.0</td><td>-1</td><td>-1.0</td><td>-1.0</td><td>-1.0</td></tr>\n",
       "</table></div>"
      ],
      "text/plain": [
       "<Table length=168045>\n",
       "    SDSS_NAME              RA         ... FIRST_SNR SDSS2FIRST_SEP\n",
       "        -                 deg         ...     -         arcsec    \n",
       "     bytes18            float64       ...  float64     float64    \n",
       "------------------ ------------------ ... --------- --------------\n",
       "001550.63-105421.3 3.9609720447383534 ...      -1.0           -1.0\n",
       "001501.01-105656.1 3.7542214874652733 ...      -1.0           -1.0\n",
       "001228.64-105405.3 3.1193523788890047 ...      -1.0           -1.0\n",
       "001055.56-105255.5 2.7315387185268643 ...      -1.0           -1.0\n",
       "000931.79-105614.1  2.382477644724034 ...      -1.0           -1.0\n",
       "000822.33-105631.2  2.093064007238894 ...      -1.0           -1.0\n",
       "               ...                ... ...       ...            ...\n",
       "120719.94+683156.3 181.83308432099426 ...      -1.0           -1.0\n",
       "121532.11+683817.3 183.88380354855275 ...      -1.0           -1.0\n",
       "122356.16+683746.4   185.984029094021 ...      -1.0           -1.0\n",
       "121853.15+684139.5 184.72149328911803 ...      -1.0           -1.0\n",
       "122309.16+683956.2   185.788207562586 ...      -1.0           -1.0\n",
       "121729.74+683952.7 184.37392041319023 ...      -1.0           -1.0"
      ]
     },
     "execution_count": 39,
     "metadata": {},
     "output_type": "execute_result"
    }
   ],
   "source": [
    "super_cat=Table.read(\"/home/colgoat/Jupyter/DR14Q_v4_4.fits\")\n",
    "w=(super_cat['THING_ID']>0) & (super_cat['Z']>=2.1) & (super_cat['RA']!=super_cat['DEC'])\\\n",
    " & (super_cat['RA']>0) & (super_cat['MJD']< 56870) & (super_cat['BI_CIV']<=0)\n",
    "\n",
    "\n",
    "super_cat\n",
    "filt_supercat=super_cat[w]\n",
    "cat_by_TI=filt_supercat.group_by('THING_ID')\n",
    "small_supercat=cat_by_TI[0:168045]\n",
    "\n",
    "\n",
    "small_supercat"
   ]
  },
  {
   "cell_type": "code",
   "execution_count": 37,
   "id": "3b635e6b",
   "metadata": {
    "ExecuteTime": {
     "end_time": "2023-05-30T04:13:30.682520Z",
     "start_time": "2023-05-30T04:13:10.069245Z"
    }
   },
   "outputs": [
    {
     "name": "stdout",
     "output_type": "stream",
     "text": [
      "THING_ID    Match:  168045  no Match:  0\n",
      "PLATE       Match:  168045  no Match:  0\n",
      "MJD         Match:  168045  no Match:  0\n",
      "FIBER       Match:  168045  no Match:  0\n",
      "Z DEF       Match:  61473  no Match:  106572\n",
      "Z VIS       Match:  61448  no Match:  106597\n",
      "Z PIPE      Match:  168045  no Match:  0\n",
      "Z PCA       Match:  730  no Match:  167315\n"
     ]
    }
   ],
   "source": [
    "match = 0\n",
    "no_match = 0\n",
    "\n",
    "for a in range(len(small_supercat)):\n",
    "    if (small_supercat['THING_ID'][a]==small_cat['ID'][a]):\n",
    "        match = 1 + match\n",
    "    else:\n",
    "        no_match = 1 + no_match\n",
    "        \n",
    "print(\"THING_ID   \",\"Match: \",match,\" no Match: \",no_match)\n",
    "\n",
    "match = 0\n",
    "no_match = 0\n",
    "\n",
    "\n",
    "for a in range(len(small_supercat)):\n",
    "    if (small_supercat['PLATE'][a]==small_cat['plate'][a]):\n",
    "        match = 1 + match\n",
    "    else:\n",
    "        no_match = 1 + no_match\n",
    "        \n",
    "print(\"PLATE      \",\"Match: \",match,\" no Match: \",no_match)\n",
    "\n",
    "match = 0\n",
    "no_match = 0\n",
    "\n",
    "\n",
    "for a in range(len(small_supercat)):\n",
    "    if (small_supercat['MJD'][a]==small_cat['mjd'][a]):\n",
    "        match = 1 + match\n",
    "    else:\n",
    "        no_match = 1 + no_match\n",
    "        \n",
    "print(\"MJD        \",\"Match: \",match,\" no Match: \",no_match)\n",
    "\n",
    "match = 0\n",
    "no_match = 0\n",
    "\n",
    "\n",
    "for a in range(len(small_supercat)):\n",
    "    if (small_supercat['FIBERID'][a]==small_cat['fiber'][a]):\n",
    "        match = 1 + match\n",
    "    else:\n",
    "        no_match = 1 + no_match\n",
    "        \n",
    "print(\"FIBER      \",\"Match: \",match,\" no Match: \",no_match)\n",
    "        \n",
    "\n",
    "match = 0\n",
    "no_match = 0\n",
    "\n",
    "\n",
    "for a in range(len(small_supercat)):\n",
    "    if (round(small_supercat['Z'][a],3)==round(small_cat['z_qso'][a],3)):\n",
    "        match = 1 + match\n",
    "    else:\n",
    "        no_match = 1 + no_match\n",
    "        \n",
    "print(\"Z DEF      \",\"Match: \",match,\" no Match: \",no_match)\n",
    "\n",
    "match = 0\n",
    "no_match = 0\n",
    "\n",
    "\n",
    "for a in range(len(small_supercat)):\n",
    "    if (round(small_supercat['Z_VI'][a],3)==round(small_cat['z_qso'][a],3)):\n",
    "        match = 1 + match\n",
    "    else:\n",
    "        no_match = 1 + no_match\n",
    "        \n",
    "print(\"Z VIS      \",\"Match: \",match,\" no Match: \",no_match)\n",
    "\n",
    "match = 0\n",
    "no_match = 0\n",
    "\n",
    "\n",
    "for a in range(len(small_supercat)):\n",
    "    if (round(small_supercat['Z_PIPE'][a],1)==round(small_cat['z_qso'][a],1)):\n",
    "        match = 1 + match\n",
    "    else:\n",
    "        no_match = 1 + no_match\n",
    "        \n",
    "print(\"Z PIPE     \",\"Match: \",match,\" no Match: \",no_match)\n",
    "\n",
    "\n",
    "\n",
    "match = 0\n",
    "no_match = 0\n",
    "\n",
    "\n",
    "for a in range(len(small_supercat)):\n",
    "    if (round(small_supercat['Z_PCA'][a],3)==round(small_cat['z_qso'][a],4)):\n",
    "        match = 1 + match\n",
    "    else:\n",
    "        no_match = 1 + no_match\n",
    "        \n",
    "print(\"Z PCA      \",\"Match: \",match,\" no Match: \",no_match)\n",
    "        \n",
    "        "
   ]
  },
  {
   "cell_type": "code",
   "execution_count": 121,
   "id": "87410539",
   "metadata": {
    "ExecuteTime": {
     "end_time": "2023-05-30T06:19:45.799548Z",
     "start_time": "2023-05-30T06:19:45.792552Z"
    }
   },
   "outputs": [
    {
     "data": {
      "text/plain": [
       "masked_array(data=[ True,  True,  True, ...,  True,  True,  True],\n",
       "             mask=False,\n",
       "       fill_value=True)"
      ]
     },
     "execution_count": 121,
     "metadata": {},
     "output_type": "execute_result"
    }
   ],
   "source": [
    "w"
   ]
  },
  {
   "cell_type": "code",
   "execution_count": null,
   "id": "27dd47a4",
   "metadata": {},
   "outputs": [],
   "source": []
  },
  {
   "cell_type": "code",
   "execution_count": null,
   "id": "70ef930c",
   "metadata": {},
   "outputs": [],
   "source": []
  },
  {
   "cell_type": "code",
   "execution_count": 50,
   "id": "ee8e5dbc",
   "metadata": {
    "ExecuteTime": {
     "end_time": "2023-05-30T04:27:25.126799Z",
     "start_time": "2023-05-30T04:27:24.777501Z"
    }
   },
   "outputs": [
    {
     "data": {
      "text/html": [
       "<div><i>Table length=167460</i>\n",
       "<table id=\"table139920885998752\" class=\"table-striped table-bordered table-condensed\">\n",
       "<thead><tr><th>ID</th><th>plate</th><th>mjd</th><th>fiber</th><th>z_qso</th><th>z_fst(A)</th><th>z_fst(B)</th><th>z_fst(C)</th><th>SNR_fst(A)</th><th>SNR_fst(B)</th><th>SNR_fst(C)</th><th>pxlon(A)</th><th>pxlon(B)</th><th>pxlon(C)</th></tr></thead>\n",
       "<thead><tr><th>int64</th><th>int64</th><th>int64</th><th>int64</th><th>float64</th><th>float64</th><th>float64</th><th>float64</th><th>float64</th><th>float64</th><th>float64</th><th>int64</th><th>int64</th><th>int64</th></tr></thead>\n",
       "<tr><td>20935572</td><td>7169</td><td>56628</td><td>130</td><td>3.9245136</td><td>3.3407423</td><td>3.5160778</td><td>3.691479</td><td>3.5978441</td><td>2.2960804</td><td>2.240137</td><td>176</td><td>168</td><td>163</td></tr>\n",
       "<tr><td>20937010</td><td>7169</td><td>56628</td><td>162</td><td>2.4205363</td><td>2.0148382</td><td>2.1369796</td><td>2.2588131</td><td>1.27289</td><td>2.1114523</td><td>3.0693185</td><td>176</td><td>169</td><td>162</td></tr>\n",
       "<tr><td>20953940</td><td>7169</td><td>56628</td><td>323</td><td>2.3754535</td><td>1.9843882</td><td>2.0953636</td><td>2.2159536</td><td>2.7958958</td><td>4.4369555</td><td>5.4902225</td><td>148</td><td>169</td><td>163</td></tr>\n",
       "<tr><td>20968740</td><td>7169</td><td>56628</td><td>403</td><td>3.2385573</td><td>2.7360582</td><td>2.8869746</td><td>3.0384042</td><td>3.422123</td><td>3.10844</td><td>3.3440466</td><td>175</td><td>169</td><td>163</td></tr>\n",
       "<tr><td>20974730</td><td>7168</td><td>56625</td><td>44</td><td>3.0012484</td><td>2.5266633</td><td>2.6695404</td><td>2.8120577</td><td>6.233497</td><td>5.4098277</td><td>5.188599</td><td>176</td><td>169</td><td>162</td></tr>\n",
       "<tr><td>20981686</td><td>7168</td><td>56625</td><td>102</td><td>2.319419</td><td>1.9586275</td><td>2.0441172</td><td>2.1623487</td><td>1.548991</td><td>2.1456432</td><td>4.1762443</td><td>79</td><td>168</td><td>163</td></tr>\n",
       "<tr><td>...</td><td>...</td><td>...</td><td>...</td><td>...</td><td>...</td><td>...</td><td>...</td><td>...</td><td>...</td><td>...</td><td>...</td><td>...</td><td>...</td></tr>\n",
       "<tr><td>553181827</td><td>6966</td><td>56748</td><td>592</td><td>2.794528</td><td>2.3443651</td><td>2.4794586</td><td>2.6150122</td><td>1.8287737</td><td>1.8322306</td><td>2.405217</td><td>175</td><td>169</td><td>163</td></tr>\n",
       "<tr><td>553191513</td><td>6966</td><td>56748</td><td>628</td><td>3.2595193</td><td>2.7541676</td><td>2.9058151</td><td>3.0579786</td><td>9.984613</td><td>9.475096</td><td>8.386737</td><td>175</td><td>169</td><td>163</td></tr>\n",
       "<tr><td>553213422</td><td>6966</td><td>56748</td><td>748</td><td>2.6874943</td><td>2.2502267</td><td>2.381518</td><td>2.513256</td><td>3.1339014</td><td>3.0180192</td><td>3.583998</td><td>175</td><td>169</td><td>163</td></tr>\n",
       "<tr><td>553217575</td><td>6966</td><td>56748</td><td>908</td><td>3.16831</td><td>2.6737845</td><td>2.8221848</td><td>2.9710906</td><td>2.7141979</td><td>2.7357037</td><td>2.6568208</td><td>175</td><td>169</td><td>163</td></tr>\n",
       "<tr><td>553222739</td><td>6966</td><td>56748</td><td>822</td><td>2.2180426</td><td>--</td><td>1.9897653</td><td>2.0655599</td><td>--</td><td>0.8398515</td><td>1.514565</td><td>0</td><td>54</td><td>163</td></tr>\n",
       "<tr><td>553237790</td><td>6966</td><td>56748</td><td>907</td><td>2.6615028</td><td>2.2271092</td><td>2.3574667</td><td>2.4882674</td><td>1.9422058</td><td>1.9136953</td><td>2.2098427</td><td>175</td><td>169</td><td>163</td></tr>\n",
       "<tr><td>553238479</td><td>6966</td><td>56748</td><td>832</td><td>3.0646822</td><td>2.5827265</td><td>2.7274487</td><td>2.8726637</td><td>4.4403415</td><td>4.666795</td><td>3.562449</td><td>175</td><td>169</td><td>163</td></tr>\n",
       "</table></div>"
      ],
      "text/plain": [
       "<Table length=167460>\n",
       "    ID    plate  mjd  fiber   z_qso   ... SNR_fst(C) pxlon(A) pxlon(B) pxlon(C)\n",
       "  int64   int64 int64 int64  float64  ...  float64    int64    int64    int64  \n",
       "--------- ----- ----- ----- --------- ... ---------- -------- -------- --------\n",
       " 20935572  7169 56628   130 3.9245136 ...   2.240137      176      168      163\n",
       " 20937010  7169 56628   162 2.4205363 ...  3.0693185      176      169      162\n",
       " 20953940  7169 56628   323 2.3754535 ...  5.4902225      148      169      163\n",
       " 20968740  7169 56628   403 3.2385573 ...  3.3440466      175      169      163\n",
       " 20974730  7168 56625    44 3.0012484 ...   5.188599      176      169      162\n",
       " 20981686  7168 56625   102  2.319419 ...  4.1762443       79      168      163\n",
       "      ...   ...   ...   ...       ... ...        ...      ...      ...      ...\n",
       "553181827  6966 56748   592  2.794528 ...   2.405217      175      169      163\n",
       "553191513  6966 56748   628 3.2595193 ...   8.386737      175      169      163\n",
       "553213422  6966 56748   748 2.6874943 ...   3.583998      175      169      163\n",
       "553217575  6966 56748   908   3.16831 ...  2.6568208      175      169      163\n",
       "553222739  6966 56748   822 2.2180426 ...   1.514565        0       54      163\n",
       "553237790  6966 56748   907 2.6615028 ...  2.2098427      175      169      163\n",
       "553238479  6966 56748   832 3.0646822 ...   3.562449      175      169      163"
      ]
     },
     "execution_count": 50,
     "metadata": {},
     "output_type": "execute_result"
    }
   ],
   "source": [
    "catalog = Table.read(\"/home/colgoat/TFPS/SNRForestExctDR14.fits\")\n",
    "\n",
    "w = (catalog['z_qso']>=2.1) & (catalog['ID']>0)\n",
    "\n",
    "reduced_cat=catalog[w]\n",
    "cat_by_ID=reduced_cat.group_by('ID')\n",
    "small_cat=cat_by_ID[0:168045]\n",
    "small_cat\n"
   ]
  },
  {
   "cell_type": "code",
   "execution_count": 58,
   "id": "f6113b85",
   "metadata": {
    "ExecuteTime": {
     "end_time": "2023-05-30T04:50:11.701570Z",
     "start_time": "2023-05-30T04:48:23.440997Z"
    }
   },
   "outputs": [
    {
     "data": {
      "text/plain": [
       "463111"
      ]
     },
     "execution_count": 58,
     "metadata": {},
     "output_type": "execute_result"
    }
   ],
   "source": [
    "z_for = []\n",
    "\n",
    "z_for.append('ID'+\" \"+ 'plate'+\" \"+ 'mjd'+\" \"+ \\\n",
    "'fiber'+\" \"+ 'z_qso'+\" \"+ 'z_fst'+\" \"+ \\\n",
    "'SNR_fst'+\" \"+ 'pxlon'+\" \"+ \"Part\")\n",
    "\n",
    "\n",
    "\n",
    "for a in range(len(small_cat)):\n",
    "    if (small_cat['z_fst(A)'][a]>=0 and small_cat['z_qso'][a]>=2.1):\n",
    "        z_for.append(str(small_cat['ID'][a])+\" \"+ str(small_cat['plate'][a])+\" \"+ str(small_cat['mjd'][a])+\" \"+ \\\n",
    "        str(small_cat['fiber'][a])+\" \"+ str(small_cat['z_qso'][a])+\" \"+ str(small_cat['z_fst(A)'][a])+\" \"+ \\\n",
    "        str(small_cat['SNR_fst(A)'][a])+\" \"+ str(small_cat['pxlon(A)'][a])+\" \"+ \"A\")        \n",
    "                                          \n",
    "for b in range(len(small_cat)):\n",
    "    if (small_cat['z_fst(B)'][b]>=0 and small_cat['z_qso'][b]>=2.1):\n",
    "        z_for.append(str(small_cat['ID'][b])+\" \"+ str(small_cat['plate'][b])+\" \"+ str(small_cat['mjd'][b])+\" \"+ \\\n",
    "        str(small_cat['fiber'][b])+\" \"+ str(small_cat['z_qso'][b])+\" \"+ str(small_cat['z_fst(B)'][b])+\" \"+ \\\n",
    "        str(small_cat['SNR_fst(B)'][b])+\" \"+ str(small_cat['pxlon(B)'][b])+\" \"+ \"B\") \n",
    "        \n",
    "for c in range(len(small_cat)):\n",
    "    if (small_cat['z_fst(C)'][c]>=0 and small_cat['z_qso'][c]>=2.1):\n",
    "        z_for.append(str(small_cat['ID'][c])+\" \"+ str(small_cat['plate'][c])+\" \"+ str(small_cat['mjd'][c])+\" \"+ \\\n",
    "        str(small_cat['fiber'][c])+\" \"+ str(small_cat['z_qso'][c])+\" \"+ str(small_cat['z_fst(C)'][c])+\" \"+ \\\n",
    "        str(small_cat['SNR_fst(C)'][c])+\" \"+ str(small_cat['pxlon(C)'][c])+\" \"+ \"C\") \n",
    "        \n",
    "\n",
    "#463349 no filter\n",
    "#463110 filter\n",
    "len(z_for)"
   ]
  },
  {
   "cell_type": "code",
   "execution_count": 59,
   "id": "a6704a4f",
   "metadata": {
    "ExecuteTime": {
     "end_time": "2023-05-30T04:50:18.453983Z",
     "start_time": "2023-05-30T04:50:16.849146Z"
    }
   },
   "outputs": [],
   "source": [
    "np.savetxt('/home/colgoat/Jupyter/DR14indForest_extrac.txt',z_for, fmt='%s', delimiter=',')"
   ]
  },
  {
   "cell_type": "code",
   "execution_count": 61,
   "id": "2d24b80d",
   "metadata": {
    "ExecuteTime": {
     "end_time": "2023-05-30T04:50:39.796213Z",
     "start_time": "2023-05-30T04:50:38.069839Z"
    }
   },
   "outputs": [],
   "source": [
    "SNR_process = pd.read_csv('/home/colgoat/Jupyter/DR14indForest_extrac.txt',delim_whitespace=True, \\\n",
    "skiprows=1, names=['ID','plate','mjd','fiber','z_qso','z_fst','SNR_fst',\\\n",
    "'pxlon','PART'])\n",
    "    \n",
    "TABLA = Table.from_pandas(SNR_process)\n",
    "TABLA.write(\"/home/colgoat/Jupyter/DR14indForest_extrac.fits\", overwrite = True)"
   ]
  },
  {
   "cell_type": "code",
   "execution_count": 62,
   "id": "5b2e375f",
   "metadata": {
    "ExecuteTime": {
     "end_time": "2023-05-30T04:50:42.499826Z",
     "start_time": "2023-05-30T04:50:42.441824Z"
    }
   },
   "outputs": [
    {
     "data": {
      "text/html": [
       "<div><i>Table length=463110</i>\n",
       "<table id=\"table139920923898976\" class=\"table-striped table-bordered table-condensed\">\n",
       "<thead><tr><th>ID</th><th>plate</th><th>mjd</th><th>fiber</th><th>z_qso</th><th>z_fst</th><th>SNR_fst</th><th>pxlon</th><th>PART</th></tr></thead>\n",
       "<thead><tr><th>int64</th><th>int64</th><th>int64</th><th>int64</th><th>float64</th><th>float64</th><th>float64</th><th>int64</th><th>bytes1</th></tr></thead>\n",
       "<tr><td>20935572</td><td>7169</td><td>56628</td><td>130</td><td>3.9245136</td><td>3.3407423</td><td>3.5978441</td><td>176</td><td>A</td></tr>\n",
       "<tr><td>20937010</td><td>7169</td><td>56628</td><td>162</td><td>2.4205363</td><td>2.0148382</td><td>1.27289</td><td>176</td><td>A</td></tr>\n",
       "<tr><td>20953940</td><td>7169</td><td>56628</td><td>323</td><td>2.3754535</td><td>1.9843882</td><td>2.7958958</td><td>148</td><td>A</td></tr>\n",
       "<tr><td>20968740</td><td>7169</td><td>56628</td><td>403</td><td>3.2385573</td><td>2.7360582</td><td>3.422123</td><td>175</td><td>A</td></tr>\n",
       "<tr><td>20974730</td><td>7168</td><td>56625</td><td>44</td><td>3.0012484</td><td>2.5266633</td><td>6.233497</td><td>176</td><td>A</td></tr>\n",
       "<tr><td>20981686</td><td>7168</td><td>56625</td><td>102</td><td>2.319419</td><td>1.9586275</td><td>1.548991</td><td>79</td><td>A</td></tr>\n",
       "<tr><td>...</td><td>...</td><td>...</td><td>...</td><td>...</td><td>...</td><td>...</td><td>...</td><td>...</td></tr>\n",
       "<tr><td>553181827</td><td>6966</td><td>56748</td><td>592</td><td>2.794528</td><td>2.6150122</td><td>2.405217</td><td>163</td><td>C</td></tr>\n",
       "<tr><td>553191513</td><td>6966</td><td>56748</td><td>628</td><td>3.2595193</td><td>3.0579786</td><td>8.386737</td><td>163</td><td>C</td></tr>\n",
       "<tr><td>553213422</td><td>6966</td><td>56748</td><td>748</td><td>2.6874943</td><td>2.513256</td><td>3.583998</td><td>163</td><td>C</td></tr>\n",
       "<tr><td>553217575</td><td>6966</td><td>56748</td><td>908</td><td>3.16831</td><td>2.9710906</td><td>2.6568208</td><td>163</td><td>C</td></tr>\n",
       "<tr><td>553222739</td><td>6966</td><td>56748</td><td>822</td><td>2.2180426</td><td>2.0655599</td><td>1.514565</td><td>163</td><td>C</td></tr>\n",
       "<tr><td>553237790</td><td>6966</td><td>56748</td><td>907</td><td>2.6615028</td><td>2.4882674</td><td>2.2098427</td><td>163</td><td>C</td></tr>\n",
       "<tr><td>553238479</td><td>6966</td><td>56748</td><td>832</td><td>3.0646822</td><td>2.8726637</td><td>3.562449</td><td>163</td><td>C</td></tr>\n",
       "</table></div>"
      ],
      "text/plain": [
       "<Table length=463110>\n",
       "    ID    plate  mjd  fiber   z_qso     z_fst    SNR_fst  pxlon  PART \n",
       "  int64   int64 int64 int64  float64   float64   float64  int64 bytes1\n",
       "--------- ----- ----- ----- --------- --------- --------- ----- ------\n",
       " 20935572  7169 56628   130 3.9245136 3.3407423 3.5978441   176      A\n",
       " 20937010  7169 56628   162 2.4205363 2.0148382   1.27289   176      A\n",
       " 20953940  7169 56628   323 2.3754535 1.9843882 2.7958958   148      A\n",
       " 20968740  7169 56628   403 3.2385573 2.7360582  3.422123   175      A\n",
       " 20974730  7168 56625    44 3.0012484 2.5266633  6.233497   176      A\n",
       " 20981686  7168 56625   102  2.319419 1.9586275  1.548991    79      A\n",
       "      ...   ...   ...   ...       ...       ...       ...   ...    ...\n",
       "553181827  6966 56748   592  2.794528 2.6150122  2.405217   163      C\n",
       "553191513  6966 56748   628 3.2595193 3.0579786  8.386737   163      C\n",
       "553213422  6966 56748   748 2.6874943  2.513256  3.583998   163      C\n",
       "553217575  6966 56748   908   3.16831 2.9710906 2.6568208   163      C\n",
       "553222739  6966 56748   822 2.2180426 2.0655599  1.514565   163      C\n",
       "553237790  6966 56748   907 2.6615028 2.4882674 2.2098427   163      C\n",
       "553238479  6966 56748   832 3.0646822 2.8726637  3.562449   163      C"
      ]
     },
     "execution_count": 62,
     "metadata": {},
     "output_type": "execute_result"
    }
   ],
   "source": [
    "bosques = Table.read(\"/home/colgoat/Jupyter/DR14indForest_extrac.fits\")\n",
    "bosques"
   ]
  },
  {
   "cell_type": "code",
   "execution_count": 81,
   "id": "0f313a3f",
   "metadata": {
    "ExecuteTime": {
     "end_time": "2023-05-30T05:23:12.703590Z",
     "start_time": "2023-05-30T05:23:07.671166Z"
    }
   },
   "outputs": [
    {
     "name": "stdout",
     "output_type": "stream",
     "text": [
      "119499\n"
     ]
    }
   ],
   "source": [
    "ac = 0\n",
    "for_z = []\n",
    "for_id = []\n",
    "\n",
    "for x in range(len(bosques)):\n",
    "    if(bosques['z_fst'][x]>=2.1 and bosques['z_fst'][x]<2.3): #2.2\n",
    "        if(bosques['SNR_fst'][x]>=4.1 and bosques['pxlon'][x]>=75):\n",
    "            ac = ac + 1\n",
    "            for_z.append(bosques['z_fst'][x])\n",
    "            for_id.append(bosques['ID'][x])\n",
    "            \n",
    "            \n",
    "    if(bosques['z_fst'][x]>=2.3 and bosques['z_fst'][x]<2.5): #2.4\n",
    "        if(bosques['SNR_fst'][x]>=3.9 and bosques['pxlon'][x]>=75):\n",
    "            ac = ac + 1\n",
    "            for_z.append(bosques['z_fst'][x])\n",
    "            for_id.append(bosques['ID'][x])\n",
    "\n",
    "    if(bosques['z_fst'][x]>=2.5 and bosques['z_fst'][x]<2.7): #2.6\n",
    "        if(bosques['SNR_fst'][x]>=3.6 and bosques['pxlon'][x]>=75):\n",
    "            ac = ac + 1\n",
    "            for_z.append(bosques['z_fst'][x])\n",
    "            for_id.append(bosques['ID'][x])\n",
    "            \n",
    "    if(bosques['z_fst'][x]>=2.7 and bosques['z_fst'][x]<2.9): #2.8\n",
    "        if(bosques['SNR_fst'][x]>=3.2 and bosques['pxlon'][x]>=75):\n",
    "            ac = ac + 1\n",
    "            for_z.append(bosques['z_fst'][x])\n",
    "            for_id.append(bosques['ID'][x])\n",
    "            \n",
    "    if(bosques['z_fst'][x]>=2.9 and bosques['z_fst'][x]<3.1): #3.0\n",
    "        if(bosques['SNR_fst'][x]>=2.9 and bosques['pxlon'][x]>=75):\n",
    "            ac = ac + 1\n",
    "            for_z.append(bosques['z_fst'][x])\n",
    "            for_id.append(bosques['ID'][x])\n",
    "            \n",
    "    if(bosques['z_fst'][x]>=3.1 and bosques['z_fst'][x]<3.3): #3.2\n",
    "        if(bosques['SNR_fst'][x]>=2.6 and bosques['pxlon'][x]>=75):\n",
    "            ac = ac + 1\n",
    "            for_z.append(bosques['z_fst'][x])\n",
    "            for_id.append(bosques['ID'][x])\n",
    "            \n",
    "    if(bosques['z_fst'][x]>=3.3 and bosques['z_fst'][x]<3.5): #3.4\n",
    "        if(bosques['SNR_fst'][x]>=2.2 and bosques['pxlon'][x]>=75):\n",
    "            ac = ac + 1\n",
    "            for_z.append(bosques['z_fst'][x])\n",
    "            for_id.append(bosques['ID'][x])\n",
    "            \n",
    "    if(bosques['z_fst'][x]>=3.5): #3.6 to 4.6\n",
    "        if(bosques['SNR_fst'][x]>=2.0 and bosques['pxlon'][x]>=75):\n",
    "            ac = ac + 1\n",
    "            for_z.append(bosques['z_fst'][x])\n",
    "            for_id.append(bosques['ID'][x])\n",
    "            \n",
    "            \n",
    "print(ac)"
   ]
  },
  {
   "cell_type": "code",
   "execution_count": null,
   "id": "144f8618",
   "metadata": {},
   "outputs": [],
   "source": []
  },
  {
   "cell_type": "code",
   "execution_count": null,
   "id": "d6d1a27c",
   "metadata": {},
   "outputs": [],
   "source": []
  },
  {
   "cell_type": "code",
   "execution_count": null,
   "id": "f51d99c0",
   "metadata": {},
   "outputs": [],
   "source": []
  },
  {
   "cell_type": "code",
   "execution_count": null,
   "id": "8e64a2bc",
   "metadata": {},
   "outputs": [],
   "source": []
  },
  {
   "cell_type": "code",
   "execution_count": null,
   "id": "eb467058",
   "metadata": {},
   "outputs": [],
   "source": []
  },
  {
   "cell_type": "code",
   "execution_count": 91,
   "id": "2ab798ae",
   "metadata": {
    "ExecuteTime": {
     "end_time": "2023-05-30T05:49:55.205121Z",
     "start_time": "2023-05-30T05:49:54.464151Z"
    }
   },
   "outputs": [],
   "source": [
    "\n",
    "NAME = np.unique(for_id)\n",
    "len(NAME)\n",
    "\n",
    "\n",
    "NAME2 = np.unique(small_supercat['THING_ID'])\n",
    "\n",
    "np.savetxt('/home/colgoat/Jupyter/1tmpDR14specNAME.txt',NAME, fmt='%s', delimiter=',')\n",
    "np.savetxt('/home/colgoat/Jupyter/2tmpDR14specNAME.txt',NAME2, fmt='%s', delimiter=',')\n"
   ]
  },
  {
   "cell_type": "code",
   "execution_count": 141,
   "id": "0f6274cb",
   "metadata": {
    "ExecuteTime": {
     "end_time": "2023-05-30T06:30:34.271632Z",
     "start_time": "2023-05-30T06:30:33.183055Z"
    }
   },
   "outputs": [
    {
     "data": {
      "text/html": [
       "<div><i>Table length=53734</i>\n",
       "<table id=\"table139921505198640\" class=\"table-striped table-bordered table-condensed\">\n",
       "<thead><tr><th>SDSS_NAME</th><th>RA</th><th>DEC</th><th>THING_ID</th><th>PLATE</th><th>MJD</th><th>FIBERID</th><th>SPECTRO</th><th>Z</th><th>Z_ERR</th><th>SOURCE_Z</th><th>Z_VI</th><th>Z_PIPE</th><th>Z_PIPE_ERR</th><th>ZWARNING</th><th>Z_PCA</th><th>Z_PCA_ER</th><th>Z_MGII</th><th>BOSS_TARGET1</th><th>ANCILLARY_TARGET1</th><th>ANCILLARY_TARGET2</th><th>EBOSS_TARGET0</th><th>EBOSS_TARGET1</th><th>EBOSS_TARGET2</th><th>N_SPEC_SDSS</th><th>N_SPEC_BOSS</th><th>N_SPEC</th><th>PLATE_DUPLICATE</th><th>MJD_DUPLICATE</th><th>FIBERID_DUPLICATE</th><th>SPECTRO_DUPLICATE</th><th>BI_CIV</th><th>ERR_BI_CIV</th><th>RUN_NUMBER</th><th>RERUN_NUMBER</th><th>COL_NUMBER</th><th>FIELD_NUMBER</th><th>OBJ_ID</th><th>PSFFLUX</th><th>IVAR_PSFFLUX</th><th>PSFMAG</th><th>ERR_PSFMAG</th><th>MI</th><th>GAL_EXT</th><th>RASS_COUNTS</th><th>RASS_COUNTS_SNR</th><th>SDSS2ROSAT_SEP</th><th>FLUX_0.2_2.0keV</th><th>FLUX_0.2_2.0keV_ERR</th><th>FLUX_2.0_12.0keV</th><th>FLUX_2.0_12.0keV_ERR</th><th>FLUX_0.2_12.0keV</th><th>FLUX_0.2_12.0keV_ERR</th><th>LUM_0.2_12.0keV</th><th>SDSS2XMM_SEP</th><th>GALEX_MATCHED</th><th>FUV</th><th>FUV_IVAR</th><th>NUV</th><th>NUV_IVAR</th><th>JMAG</th><th>ERR_JMAG</th><th>JSNR</th><th>JRDFLAG</th><th>HMAG</th><th>ERR_HMAG</th><th>HSNR</th><th>HRDFLAG</th><th>KMAG</th><th>ERR_KMAG</th><th>KSNR</th><th>KRDFLAG</th><th>SDSS2MASS_SEP</th><th>W1MAG</th><th>ERR_W1MAG</th><th>W1SNR</th><th>W1CHI2</th><th>W2MAG</th><th>ERR_W2MAG</th><th>W2SNR</th><th>W2CHI2</th><th>W3MAG</th><th>ERR_W3MAG</th><th>W3SNR</th><th>W3CHI2</th><th>W4MAG</th><th>ERR_W4MAG</th><th>W4SNR</th><th>W4CHI2</th><th>CC_FLAGS</th><th>PH_FLAGS</th><th>SDSS2WISE_SEP</th><th>UKIDSS_MATCHED</th><th>YFLUX</th><th>YFLUX_ERR</th><th>JFLUX</th><th>JFLUX_ERR</th><th>HFLUX</th><th>HFLUX_ERR</th><th>KFLUX</th><th>KFLUX_ERR</th><th>FIRST_MATCHED</th><th>FIRST_FLUX</th><th>FIRST_SNR</th><th>SDSS2FIRST_SEP</th></tr></thead>\n",
       "<thead><tr><th>-</th><th>deg</th><th>deg</th><th>-</th><th>-</th><th>-</th><th>-</th><th>-</th><th>-</th><th>-</th><th>-</th><th>-</th><th>-</th><th>-</th><th>-</th><th>-</th><th>-</th><th>-</th><th>-</th><th>-</th><th>-</th><th>-</th><th>-</th><th>-</th><th>-</th><th>-</th><th>-</th><th>-</th><th>-</th><th>-</th><th>-</th><th>km / s</th><th>km / s</th><th>-</th><th>-</th><th>-</th><th>-</th><th>-</th><th>nanomaggies</th><th>-</th><th>mag</th><th>mag</th><th>-</th><th>mag</th><th>counts/s</th><th>-</th><th>arcsec</th><th>erg / (cm2 s)</th><th>erg / (cm2 s)</th><th>erg / (cm2 s)</th><th>erg / (cm2 s)</th><th>erg / (cm2 s)</th><th>erg / (cm2 s)</th><th>erg / s</th><th>arcsec</th><th>-</th><th>-</th><th>-</th><th>-</th><th>-</th><th>Vega</th><th>Vega</th><th>-</th><th>-</th><th>Vega</th><th>Vega</th><th>-</th><th>-</th><th>Vega</th><th>Vega</th><th>-</th><th>-</th><th>arcsec</th><th>-</th><th>-</th><th>-</th><th>-</th><th>-</th><th>-</th><th>-</th><th>-</th><th>-</th><th>-</th><th>-</th><th>-</th><th>-</th><th>-</th><th>-</th><th>-</th><th>-</th><th>-</th><th>arcsec</th><th>-</th><th>W / (Hz m2)</th><th>W / (Hz m2)</th><th>W / (Hz m2)</th><th>W / (Hz m2)</th><th>W / (Hz m2)</th><th>W / (Hz m2)</th><th>W / (Hz m2)</th><th>W / (Hz m2)</th><th>-</th><th>mJy</th><th>-</th><th>arcsec</th></tr></thead>\n",
       "<thead><tr><th>bytes18</th><th>float64</th><th>float64</th><th>int32</th><th>int16</th><th>int32</th><th>int16</th><th>bytes4</th><th>float64</th><th>float64</th><th>bytes4</th><th>float64</th><th>float64</th><th>float64</th><th>int16</th><th>float64</th><th>float64</th><th>float64</th><th>int64</th><th>int64</th><th>int64</th><th>int64</th><th>int64</th><th>int64</th><th>int16</th><th>int16</th><th>int16</th><th>int32[51]</th><th>int32[51]</th><th>int32[51]</th><th>bytes1[51]</th><th>float64</th><th>float64</th><th>int16</th><th>bytes1</th><th>int16</th><th>int16</th><th>bytes1</th><th>float64[5]</th><th>float64[5]</th><th>float64[5]</th><th>float64[5]</th><th>float64</th><th>float64[5]</th><th>float64</th><th>float64</th><th>float64</th><th>float64</th><th>float64</th><th>float64</th><th>float64</th><th>float64</th><th>float64</th><th>float64</th><th>float64</th><th>float32</th><th>float64</th><th>float64</th><th>float64</th><th>float64</th><th>float64</th><th>float64</th><th>float32</th><th>int16</th><th>float64</th><th>float64</th><th>float32</th><th>int16</th><th>float64</th><th>float64</th><th>float32</th><th>int16</th><th>float64</th><th>float64</th><th>float64</th><th>float64</th><th>float64</th><th>float64</th><th>float64</th><th>float64</th><th>float64</th><th>float64</th><th>float64</th><th>float64</th><th>float64</th><th>float64</th><th>float64</th><th>float64</th><th>float64</th><th>bytes4</th><th>bytes4</th><th>float64</th><th>float32</th><th>float64</th><th>float64</th><th>float64</th><th>float64</th><th>float64</th><th>float64</th><th>float64</th><th>float64</th><th>int16</th><th>float64</th><th>float64</th><th>float64</th></tr></thead>\n",
       "<tr><td>001550.63-105421.3</td><td>3.9609720447383534</td><td>-10.90592373671505</td><td>20935572</td><td>7169</td><td>56628</td><td>130</td><td>BOSS</td><td>3.91</td><td>0.0</td><td>VI</td><td>3.910000085830689</td><td>3.924513578414917</td><td>0.0006429765489883723</td><td>0</td><td>3.8881477999999996</td><td>-1.0</td><td>-1.0</td><td>2199023271936</td><td>0</td><td>0</td><td>0</td><td>0</td><td>0</td><td>0</td><td>0</td><td>0</td><td>-1 .. -1</td><td>-1 .. -1</td><td>-1 .. -1</td><td>- .. -</td><td>0.0</td><td>0.0</td><td>0</td><td>-</td><td>0</td><td>0</td><td>-</td><td>0.1254637986421585 .. 16.55965232849121</td><td>12.678911209106445 .. 0.5674679279327393</td><td>24.16314125061035 .. 19.450210571289062</td><td>0.9937875270843506 .. 0.08669116348028183</td><td>-27.645222</td><td>0.16184712946414948 .. 0.04822197183966637</td><td>0.0</td><td>0.0</td><td>-1.0</td><td>--</td><td>--</td><td>--</td><td>--</td><td>--</td><td>--</td><td>--</td><td>--</td><td>1.0</td><td>-0.0991942435503006</td><td>1054.5289006035107</td><td>-0.03879263997077942</td><td>15.740846534586115</td><td>--</td><td>--</td><td>--</td><td>-1</td><td>--</td><td>--</td><td>--</td><td>-1</td><td>--</td><td>--</td><td>--</td><td>-1</td><td>--</td><td>16.407</td><td>0.07400000000000001</td><td>14.699999809265137</td><td>0.8959</td><td>15.94</td><td>0.17</td><td>6.400000095367432</td><td>0.9701</td><td>12.088</td><td>0.454</td><td>2.4000000953674316</td><td>0.858</td><td>8.146</td><td>0.07400000000000001</td><td>1.899999976158142</td><td>0.8638</td><td>0000</td><td>ABCU</td><td>0.047154</td><td>0.0</td><td>0.0</td><td>0.0</td><td>0.0</td><td>0.0</td><td>0.0</td><td>0.0</td><td>0.0</td><td>0.0</td><td>0</td><td>-1.0</td><td>-1.0</td><td>-1.0</td></tr>\n",
       "<tr><td>001228.64-105405.3</td><td>3.1193523788890047</td><td>-10.901491801146324</td><td>20953940</td><td>7169</td><td>56628</td><td>323</td><td>BOSS</td><td>2.377</td><td>0.0</td><td>VI</td><td>2.377000093460083</td><td>2.375453472137451</td><td>0.00019968136621173463</td><td>0</td><td>2.3744774</td><td>2.375466</td><td>2.375466</td><td>3298535424000</td><td>0</td><td>0</td><td>0</td><td>0</td><td>0</td><td>0</td><td>0</td><td>0</td><td>-1 .. -1</td><td>-1 .. -1</td><td>-1 .. -1</td><td>- .. -</td><td>0.0</td><td>0.0</td><td>0</td><td>-</td><td>0</td><td>0</td><td>-</td><td>6.0398173332214355 .. 15.396869659423828</td><td>6.370800971984863 .. 0.53863126039505</td><td>20.546857833862305 .. 19.528919219970703</td><td>0.07114384323358536 .. 0.09564206004142761</td><td>-26.465464</td><td>0.14860403537750244 .. 0.044276222586631775</td><td>0.0</td><td>0.0</td><td>-1.0</td><td>--</td><td>--</td><td>--</td><td>--</td><td>--</td><td>--</td><td>--</td><td>--</td><td>1.0</td><td>0.08533362299203873</td><td>206.4563748349538</td><td>0.17434516549110413</td><td>8.131628219202646</td><td>--</td><td>--</td><td>--</td><td>-1</td><td>--</td><td>--</td><td>--</td><td>-1</td><td>--</td><td>--</td><td>--</td><td>-1</td><td>--</td><td>--</td><td>--</td><td>--</td><td>--</td><td>--</td><td>--</td><td>--</td><td>--</td><td>--</td><td>--</td><td>--</td><td>--</td><td>--</td><td>--</td><td>--</td><td>--</td><td></td><td></td><td>--</td><td>0.0</td><td>0.0</td><td>0.0</td><td>0.0</td><td>0.0</td><td>0.0</td><td>0.0</td><td>0.0</td><td>0.0</td><td>0</td><td>-1.0</td><td>-1.0</td><td>-1.0</td></tr>\n",
       "<tr><td>001055.56-105255.5</td><td>2.7315387185268643</td><td>-10.882094996372542</td><td>20968740</td><td>7169</td><td>56628</td><td>403</td><td>BOSS</td><td>3.239</td><td>0.0</td><td>VI</td><td>3.239000082015991</td><td>3.2385573387146</td><td>0.0004837583692278713</td><td>0</td><td>3.2505648</td><td>-1.0</td><td>-1.0</td><td>3298535424000</td><td>0</td><td>0</td><td>0</td><td>0</td><td>0</td><td>0</td><td>0</td><td>0</td><td>-1 .. -1</td><td>-1 .. -1</td><td>-1 .. -1</td><td>- .. -</td><td>0.0</td><td>0.0</td><td>0</td><td>-</td><td>0</td><td>0</td><td>-</td><td>0.06061798706650734 .. 3.9712188243865967</td><td>9.42923641204834 .. 0.6540688872337341</td><td>24.401424407958984 .. 20.966815948486328</td><td>1.2341893911361694 .. 0.31677258014678955</td><td>-25.771275</td><td>0.15518924593925476 .. 0.04623826965689659</td><td>0.0</td><td>0.0</td><td>-1.0</td><td>--</td><td>--</td><td>--</td><td>--</td><td>--</td><td>--</td><td>--</td><td>--</td><td>1.0</td><td>-0.15832890570163727</td><td>64.88634840659972</td><td>-0.09687691926956177</td><td>160.7767269292624</td><td>--</td><td>--</td><td>--</td><td>-1</td><td>--</td><td>--</td><td>--</td><td>-1</td><td>--</td><td>--</td><td>--</td><td>-1</td><td>--</td><td>--</td><td>--</td><td>--</td><td>--</td><td>--</td><td>--</td><td>--</td><td>--</td><td>--</td><td>--</td><td>--</td><td>--</td><td>--</td><td>--</td><td>--</td><td>--</td><td></td><td></td><td>--</td><td>0.0</td><td>0.0</td><td>0.0</td><td>0.0</td><td>0.0</td><td>0.0</td><td>0.0</td><td>0.0</td><td>0.0</td><td>0</td><td>-1.0</td><td>-1.0</td><td>-1.0</td></tr>\n",
       "<tr><td>000931.79-105614.1</td><td>2.382477644724034</td><td>-10.937265965692065</td><td>20974730</td><td>7168</td><td>56625</td><td>44</td><td>BOSS</td><td>2.9989999999999997</td><td>0.0</td><td>VI</td><td>2.999000072479248</td><td>3.0012483596801762</td><td>0.0008554813684895635</td><td>0</td><td>3.0114205000000003</td><td>-1.0</td><td>-1.0</td><td>3298535424000</td><td>0</td><td>0</td><td>0</td><td>0</td><td>0</td><td>0</td><td>0</td><td>0</td><td>-1 .. -1</td><td>-1 .. -1</td><td>-1 .. -1</td><td>- .. -</td><td>0.0</td><td>0.0</td><td>0</td><td>-</td><td>0</td><td>0</td><td>-</td><td>1.5909963846206665 .. 11.32542896270752</td><td>7.914690971374512 .. 0.5391473174095154</td><td>21.987516403198242 .. 19.860258102416992</td><td>0.2388991415500641 .. 0.12946100533008575</td><td>-26.849813</td><td>0.16197636723518372 .. 0.04826048016548157</td><td>0.0</td><td>0.0</td><td>-1.0</td><td>--</td><td>--</td><td>--</td><td>--</td><td>--</td><td>--</td><td>--</td><td>--</td><td>1.0</td><td>0.17427131533622742</td><td>26.3874465034223</td><td>-0.20246762037277224</td><td>0.5838711372585869</td><td>--</td><td>--</td><td>--</td><td>-1</td><td>--</td><td>--</td><td>--</td><td>-1</td><td>--</td><td>--</td><td>--</td><td>-1</td><td>--</td><td>--</td><td>--</td><td>--</td><td>--</td><td>--</td><td>--</td><td>--</td><td>--</td><td>--</td><td>--</td><td>--</td><td>--</td><td>--</td><td>--</td><td>--</td><td>--</td><td></td><td></td><td>--</td><td>0.0</td><td>0.0</td><td>0.0</td><td>0.0</td><td>0.0</td><td>0.0</td><td>0.0</td><td>0.0</td><td>0.0</td><td>0</td><td>-1.0</td><td>-1.0</td><td>-1.0</td></tr>\n",
       "<tr><td>000822.33-105631.2</td><td>2.093064007238894</td><td>-10.942017803573759</td><td>20981686</td><td>7168</td><td>56625</td><td>102</td><td>BOSS</td><td>2.319</td><td>0.0</td><td>VI</td><td>2.319000005722046</td><td>2.319418907165528</td><td>0.00023366452660411602</td><td>0</td><td>2.315922</td><td>2.328364</td><td>2.328364</td><td>3298535424000</td><td>0</td><td>0</td><td>0</td><td>0</td><td>0</td><td>0</td><td>0</td><td>0</td><td>-1 .. -1</td><td>-1 .. -1</td><td>-1 .. -1</td><td>- .. -</td><td>0.0</td><td>0.0</td><td>0</td><td>-</td><td>0</td><td>0</td><td>-</td><td>5.470447063446045 .. 11.159890174865723</td><td>6.164749622344971 .. 0.5078219175338745</td><td>20.654232025146484 .. 19.876108169555664</td><td>0.07983174920082092 .. 0.1353389471769333</td><td>-26.083267000000006</td><td>0.16060075163841248 .. 0.04785061627626419</td><td>0.0</td><td>0.0</td><td>-1.0</td><td>--</td><td>--</td><td>--</td><td>--</td><td>--</td><td>--</td><td>--</td><td>--</td><td>1.0</td><td>0.5698622465133667</td><td>31.194965676705962</td><td>0.5063597559928894</td><td>12.446624572586325</td><td>--</td><td>--</td><td>--</td><td>-1</td><td>--</td><td>--</td><td>--</td><td>-1</td><td>--</td><td>--</td><td>--</td><td>-1</td><td>--</td><td>17.426</td><td>0.173</td><td>6.300000190734863</td><td>0.9716</td><td>16.597</td><td>0.35700000000000004</td><td>3.0</td><td>0.9681</td><td>12.558</td><td>--</td><td>-0.10000000149011612</td><td>1.028</td><td>8.947000000000003</td><td>0.173</td><td>-0.10000000149011612</td><td>0.8344</td><td>0000</td><td>BCUU</td><td>0.925647</td><td>0.0</td><td>0.0</td><td>0.0</td><td>0.0</td><td>0.0</td><td>0.0</td><td>0.0</td><td>0.0</td><td>0.0</td><td>0</td><td>-1.0</td><td>-1.0</td><td>-1.0</td></tr>\n",
       "<tr><td>000356.32-105036.3</td><td>0.9847020750695066</td><td>-10.843426832687557</td><td>21027603</td><td>7168</td><td>56625</td><td>402</td><td>BOSS</td><td>3.1</td><td>0.0</td><td>VI</td><td>3.0999999046325684</td><td>3.101137638092041</td><td>0.0004966015112586318</td><td>0</td><td>3.0937243</td><td>-1.0</td><td>-1.0</td><td>2199023796224</td><td>0</td><td>0</td><td>0</td><td>0</td><td>0</td><td>0</td><td>1</td><td>1</td><td>0 .. -1</td><td>0 .. -1</td><td>0 .. -1</td><td>- .. -</td><td>0.0</td><td>0.0</td><td>0</td><td>-</td><td>0</td><td>0</td><td>-</td><td>1.056141972541809 .. 7.486739158630371</td><td>8.467906951904297 .. 0.611541211605072</td><td>22.422100067138672 .. 20.303813934326172</td><td>0.34147897362709045 .. 0.1819259077310562</td><td>-26.628513</td><td>0.16100125014781952 .. 0.047969941049814224</td><td>0.0</td><td>0.0</td><td>-1.0</td><td>--</td><td>--</td><td>--</td><td>--</td><td>--</td><td>--</td><td>--</td><td>--</td><td>1.0</td><td>-0.08802113682031631</td><td>43.7798153107671</td><td>-0.12656036019325256</td><td>119.39416620372695</td><td>--</td><td>--</td><td>--</td><td>-1</td><td>--</td><td>--</td><td>--</td><td>-1</td><td>--</td><td>--</td><td>--</td><td>-1</td><td>--</td><td>--</td><td>--</td><td>--</td><td>--</td><td>--</td><td>--</td><td>--</td><td>--</td><td>--</td><td>--</td><td>--</td><td>--</td><td>--</td><td>--</td><td>--</td><td>--</td><td></td><td></td><td>--</td><td>0.0</td><td>0.0</td><td>0.0</td><td>0.0</td><td>0.0</td><td>0.0</td><td>0.0</td><td>0.0</td><td>0.0</td><td>0</td><td>-1.0</td><td>-1.0</td><td>-1.0</td></tr>\n",
       "<tr><td>...</td><td>...</td><td>...</td><td>...</td><td>...</td><td>...</td><td>...</td><td>...</td><td>...</td><td>...</td><td>...</td><td>...</td><td>...</td><td>...</td><td>...</td><td>...</td><td>...</td><td>...</td><td>...</td><td>...</td><td>...</td><td>...</td><td>...</td><td>...</td><td>...</td><td>...</td><td>...</td><td>...</td><td>...</td><td>...</td><td>...</td><td>...</td><td>...</td><td>...</td><td>...</td><td>...</td><td>...</td><td>...</td><td>...</td><td>...</td><td>...</td><td>...</td><td>...</td><td>...</td><td>...</td><td>...</td><td>...</td><td>...</td><td>...</td><td>...</td><td>...</td><td>...</td><td>...</td><td>...</td><td>...</td><td>...</td><td>...</td><td>...</td><td>...</td><td>...</td><td>...</td><td>...</td><td>...</td><td>...</td><td>...</td><td>...</td><td>...</td><td>...</td><td>...</td><td>...</td><td>...</td><td>...</td><td>...</td><td>...</td><td>...</td><td>...</td><td>...</td><td>...</td><td>...</td><td>...</td><td>...</td><td>...</td><td>...</td><td>...</td><td>...</td><td>...</td><td>...</td><td>...</td><td>...</td><td>...</td><td>...</td><td>...</td><td>...</td><td>...</td><td>...</td><td>...</td><td>...</td><td>...</td><td>...</td><td>...</td><td>...</td><td>...</td><td>...</td><td>...</td><td>...</td></tr>\n",
       "<tr><td>130038.04+681511.3</td><td>195.15854037564685</td><td>68.2531533001573</td><td>552854102</td><td>6964</td><td>56748</td><td>824</td><td>BOSS</td><td>2.266</td><td>0.0</td><td>VI</td><td>2.2660000324249268</td><td>2.26595139503479</td><td>0.0001848407846409828</td><td>0</td><td>2.2646785</td><td>2.2615924</td><td>2.2615924</td><td>3298535424000</td><td>0</td><td>1024</td><td>0</td><td>0</td><td>0</td><td>0</td><td>0</td><td>0</td><td>-1 .. -1</td><td>-1 .. -1</td><td>-1 .. -1</td><td>- .. -</td><td>0.0</td><td>0.0</td><td>0</td><td>-</td><td>0</td><td>0</td><td>-</td><td>5.439545154571533 .. 13.132674217224121</td><td>8.7238187789917 .. 0.711007297039032</td><td>20.660375595092773 .. 19.700685501098633</td><td>0.0674891248345375 .. 0.09743020683526993</td><td>-26.173737</td><td>0.10796894878149033 .. 0.032169096171855927</td><td>0.0</td><td>0.0</td><td>-1.0</td><td>--</td><td>--</td><td>--</td><td>--</td><td>--</td><td>--</td><td>--</td><td>--</td><td>1.0</td><td>0.06816732883453369</td><td>19.35142895103229</td><td>-0.046135496348142624</td><td>141.61544443749094</td><td>--</td><td>--</td><td>--</td><td>-1</td><td>--</td><td>--</td><td>--</td><td>-1</td><td>--</td><td>--</td><td>--</td><td>-1</td><td>--</td><td>16.567999999999998</td><td>0.06</td><td>18.0</td><td>0.8955</td><td>15.871</td><td>0.105</td><td>10.399999618530273</td><td>0.8290000000000001</td><td>12.334</td><td>0.279</td><td>3.9000000953674316</td><td>0.9378</td><td>8.77</td><td>0.06</td><td>1.7000000476837158</td><td>0.8941</td><td>0000</td><td>AABU</td><td>0.245629</td><td>0.0</td><td>0.0</td><td>0.0</td><td>0.0</td><td>0.0</td><td>0.0</td><td>0.0</td><td>0.0</td><td>0.0</td><td>-1</td><td>-1.0</td><td>-1.0</td><td>-1.0</td></tr>\n",
       "<tr><td>114403.15+682615.6</td><td>176.01314859772842</td><td>68.43769374777679</td><td>552940432</td><td>7115</td><td>56667</td><td>680</td><td>BOSS</td><td>2.759</td><td>0.0</td><td>VI</td><td>2.759000062942505</td><td>2.757731437683105</td><td>0.00016068176773842424</td><td>0</td><td>2.7544816</td><td>-1.0</td><td>-1.0</td><td>3298535424000</td><td>0</td><td>1024</td><td>0</td><td>0</td><td>0</td><td>0</td><td>0</td><td>0</td><td>-1 .. -1</td><td>-1 .. -1</td><td>-1 .. -1</td><td>- .. -</td><td>0.0</td><td>0.0</td><td>0</td><td>-</td><td>0</td><td>0</td><td>-</td><td>4.710343360900879 .. 18.162202835083008</td><td>9.049285888671875 .. 0.7253319025039673</td><td>20.816410064697266 .. 19.35028076171875</td><td>0.07648894190788269 .. 0.06996007263660431</td><td>-27.036341</td><td>0.03761367127299309 .. 0.01120690442621708</td><td>0.0</td><td>0.0</td><td>-1.0</td><td>--</td><td>--</td><td>--</td><td>--</td><td>--</td><td>--</td><td>--</td><td>--</td><td>1.0</td><td>0.06816732883453369</td><td>19.35142895103229</td><td>-0.046135496348142624</td><td>141.61544443749094</td><td>--</td><td>--</td><td>--</td><td>-1</td><td>--</td><td>--</td><td>--</td><td>-1</td><td>--</td><td>--</td><td>--</td><td>-1</td><td>--</td><td>16.082</td><td>0.049</td><td>22.399999618530273</td><td>0.9163</td><td>15.374</td><td>0.078</td><td>13.899999618530273</td><td>0.8211</td><td>12.122</td><td>--</td><td>1.899999976158142</td><td>0.9846</td><td>8.84</td><td>0.049</td><td>0.800000011920929</td><td>0.964</td><td>0000</td><td>AAUU</td><td>0.322493</td><td>0.0</td><td>0.0</td><td>0.0</td><td>0.0</td><td>0.0</td><td>0.0</td><td>0.0</td><td>0.0</td><td>0.0</td><td>-1</td><td>-1.0</td><td>-1.0</td><td>-1.0</td></tr>\n",
       "<tr><td>120312.51+683005.6</td><td>180.80214171746525</td><td>68.50156234733495</td><td>553166220</td><td>6966</td><td>56748</td><td>543</td><td>BOSS</td><td>2.373</td><td>0.0</td><td>VI</td><td>2.372999906539917</td><td>2.372464656829834</td><td>0.00024622035562060773</td><td>0</td><td>2.3722849999999998</td><td>2.3746614</td><td>2.3746614</td><td>3298535428096</td><td>0</td><td>1024</td><td>0</td><td>0</td><td>0</td><td>1</td><td>0</td><td>1</td><td>0 .. -1</td><td>0 .. -1</td><td>0 .. -1</td><td>- .. -</td><td>0.0</td><td>0.0</td><td>0</td><td>-</td><td>0</td><td>0</td><td>-</td><td>16.57255744934082 .. 33.0826301574707</td><td>4.473074913024902 .. 0.48568204045295715</td><td>19.451448440551758 .. 18.700456619262695</td><td>0.030972033739089966 .. 0.04704507067799568</td><td>-27.476274</td><td>0.0803527683019638 .. 0.02394091710448265</td><td>0.0</td><td>0.0</td><td>-1.0</td><td>--</td><td>--</td><td>--</td><td>--</td><td>--</td><td>--</td><td>--</td><td>--</td><td>1.0</td><td>0.06816732883453369</td><td>19.35142895103229</td><td>-0.046135496348142624</td><td>141.61544443749094</td><td>--</td><td>--</td><td>--</td><td>-1</td><td>--</td><td>--</td><td>--</td><td>-1</td><td>--</td><td>--</td><td>--</td><td>-1</td><td>--</td><td>16.226</td><td>0.051</td><td>21.100000381469727</td><td>0.948</td><td>15.067</td><td>0.062</td><td>17.5</td><td>1.005</td><td>11.459</td><td>0.153</td><td>7.099999904632568</td><td>0.9704</td><td>9.049</td><td>0.051</td><td>0.6000000238418579</td><td>0.9271</td><td>0000</td><td>AABU</td><td>0.060371</td><td>0.0</td><td>0.0</td><td>0.0</td><td>0.0</td><td>0.0</td><td>0.0</td><td>0.0</td><td>0.0</td><td>0.0</td><td>-1</td><td>-1.0</td><td>-1.0</td><td>-1.0</td></tr>\n",
       "<tr><td>120443.21+683354.8</td><td>181.18004249634225</td><td>68.56523524893254</td><td>553181774</td><td>6966</td><td>56748</td><td>581</td><td>BOSS</td><td>2.614</td><td>0.0</td><td>VI</td><td>2.6140000820159908</td><td>2.6120009422302246</td><td>0.0009154492290690539</td><td>0</td><td>2.5951647999999996</td><td>-1.0</td><td>-1.0</td><td>0</td><td>0</td><td>256</td><td>0</td><td>0</td><td>0</td><td>0</td><td>0</td><td>0</td><td>-1 .. -1</td><td>-1 .. -1</td><td>-1 .. -1</td><td>- .. -</td><td>0.0</td><td>0.0</td><td>0</td><td>-</td><td>0</td><td>0</td><td>-</td><td>1.5772978067398071 .. 4.456122875213623</td><td>11.51922607421875 .. 0.8272057771682739</td><td>21.996761322021484 .. 20.848833084106445</td><td>0.19969244301319122 .. 0.2542368769645691</td><td>-25.599937</td><td>0.08718383312225342 .. 0.025976218283176422</td><td>0.0</td><td>0.0</td><td>-1.0</td><td>--</td><td>--</td><td>--</td><td>--</td><td>--</td><td>--</td><td>--</td><td>--</td><td>1.0</td><td>0.06816732883453369</td><td>19.35142895103229</td><td>-0.046135496348142624</td><td>141.61544443749094</td><td>--</td><td>--</td><td>--</td><td>-1</td><td>--</td><td>--</td><td>--</td><td>-1</td><td>--</td><td>--</td><td>--</td><td>-1</td><td>--</td><td>17.801</td><td>0.165</td><td>6.599999904632568</td><td>0.8882</td><td>16.956</td><td>0.28</td><td>3.9000000953674316</td><td>0.8668</td><td>12.5</td><td>--</td><td>1.100000023841858</td><td>1.026</td><td>9.164</td><td>0.165</td><td>0.20000000298023224</td><td>0.9741</td><td>0000</td><td>BBUU</td><td>0.675104</td><td>0.0</td><td>0.0</td><td>0.0</td><td>0.0</td><td>0.0</td><td>0.0</td><td>0.0</td><td>0.0</td><td>0.0</td><td>-1</td><td>-1.0</td><td>-1.0</td><td>-1.0</td></tr>\n",
       "<tr><td>120719.94+683156.3</td><td>181.83308432099426</td><td>68.53231082874652</td><td>553191513</td><td>6966</td><td>56748</td><td>628</td><td>BOSS</td><td>3.258</td><td>0.0</td><td>VI</td><td>3.257999897003174</td><td>3.259519338607788</td><td>0.0003791390918195248</td><td>0</td><td>3.2757377999999995</td><td>-1.0</td><td>-1.0</td><td>3298535424000</td><td>0</td><td>1024</td><td>0</td><td>0</td><td>0</td><td>0</td><td>0</td><td>0</td><td>-1 .. -1</td><td>-1 .. -1</td><td>-1 .. -1</td><td>- .. -</td><td>0.0</td><td>0.0</td><td>0</td><td>-</td><td>0</td><td>0</td><td>-</td><td>0.1006581038236618 .. 12.776203155517578</td><td>12.877035140991211 .. 0.8304184079170227</td><td>24.252317428588867 .. 19.730371475219727</td><td>1.0168715715408325 .. 0.09263593703508377</td><td>-27.124748</td><td>0.09150972217321396 .. 0.02726510539650917</td><td>0.0</td><td>0.0</td><td>-1.0</td><td>--</td><td>--</td><td>--</td><td>--</td><td>--</td><td>--</td><td>--</td><td>--</td><td>1.0</td><td>0.06816732883453369</td><td>19.35142895103229</td><td>-0.046135496348142624</td><td>141.61544443749094</td><td>--</td><td>--</td><td>--</td><td>-1</td><td>--</td><td>--</td><td>--</td><td>-1</td><td>--</td><td>--</td><td>--</td><td>-1</td><td>--</td><td>15.629</td><td>0.038</td><td>28.600000381469727</td><td>0.9114</td><td>14.889</td><td>0.053</td><td>20.600000381469727</td><td>0.8569</td><td>12.039</td><td>0.28600000000000003</td><td>3.799999952316284</td><td>0.8569</td><td>8.761000000000001</td><td>0.038</td><td>3.0999999046325684</td><td>1.028</td><td>0000</td><td>AABB</td><td>0.073401</td><td>0.0</td><td>0.0</td><td>0.0</td><td>0.0</td><td>0.0</td><td>0.0</td><td>0.0</td><td>0.0</td><td>0.0</td><td>-1</td><td>-1.0</td><td>-1.0</td><td>-1.0</td></tr>\n",
       "<tr><td>121729.74+683952.7</td><td>184.37392041319023</td><td>68.66466592139739</td><td>553238479</td><td>6966</td><td>56748</td><td>832</td><td>BOSS</td><td>3.065</td><td>0.0</td><td>VI</td><td>3.065000057220459</td><td>3.0646822452545166</td><td>0.0005445228307507931</td><td>0</td><td>3.0646315</td><td>-1.0</td><td>-1.0</td><td>3298535424000</td><td>0</td><td>1024</td><td>0</td><td>0</td><td>0</td><td>0</td><td>0</td><td>0</td><td>-1 .. -1</td><td>-1 .. -1</td><td>-1 .. -1</td><td>- .. -</td><td>0.0</td><td>0.0</td><td>0</td><td>-</td><td>0</td><td>0</td><td>-</td><td>1.0109487771987915 .. 9.304450035095215</td><td>15.728480339050293 .. 1.4760111570358276</td><td>22.46792984008789 .. 20.071470260620117</td><td>0.26097697019577026 .. 0.09485561400651932</td><td>-26.716352</td><td>0.061223115772008896 .. 0.018241282552480698</td><td>0.0</td><td>0.0</td><td>-1.0</td><td>--</td><td>--</td><td>--</td><td>--</td><td>--</td><td>--</td><td>--</td><td>--</td><td>1.0</td><td>-0.032858945429325104</td><td>353.06102922142753</td><td>-0.03896485641598702</td><td>90.04071456184325</td><td>--</td><td>--</td><td>--</td><td>-1</td><td>--</td><td>--</td><td>--</td><td>-1</td><td>--</td><td>--</td><td>--</td><td>-1</td><td>--</td><td>17.192</td><td>0.096</td><td>11.399999618530273</td><td>0.8796</td><td>16.357</td><td>0.165</td><td>6.599999904632568</td><td>0.9055</td><td>12.345999999999998</td><td>0.284</td><td>3.799999952316284</td><td>0.9799</td><td>9.328</td><td>0.096</td><td>0.20000000298023224</td><td>0.9601</td><td>0000</td><td>ABBU</td><td>0.233518</td><td>0.0</td><td>0.0</td><td>0.0</td><td>0.0</td><td>0.0</td><td>0.0</td><td>0.0</td><td>0.0</td><td>0.0</td><td>-1</td><td>-1.0</td><td>-1.0</td><td>-1.0</td></tr>\n",
       "</table></div>"
      ],
      "text/plain": [
       "<Table length=53734>\n",
       "    SDSS_NAME              RA         ... FIRST_SNR SDSS2FIRST_SEP\n",
       "        -                 deg         ...     -         arcsec    \n",
       "     bytes18            float64       ...  float64     float64    \n",
       "------------------ ------------------ ... --------- --------------\n",
       "001550.63-105421.3 3.9609720447383534 ...      -1.0           -1.0\n",
       "001228.64-105405.3 3.1193523788890047 ...      -1.0           -1.0\n",
       "001055.56-105255.5 2.7315387185268643 ...      -1.0           -1.0\n",
       "000931.79-105614.1  2.382477644724034 ...      -1.0           -1.0\n",
       "000822.33-105631.2  2.093064007238894 ...      -1.0           -1.0\n",
       "000356.32-105036.3 0.9847020750695066 ...      -1.0           -1.0\n",
       "               ...                ... ...       ...            ...\n",
       "130038.04+681511.3 195.15854037564685 ...      -1.0           -1.0\n",
       "114403.15+682615.6 176.01314859772842 ...      -1.0           -1.0\n",
       "120312.51+683005.6 180.80214171746525 ...      -1.0           -1.0\n",
       "120443.21+683354.8 181.18004249634225 ...      -1.0           -1.0\n",
       "120719.94+683156.3 181.83308432099426 ...      -1.0           -1.0\n",
       "121729.74+683952.7 184.37392041319023 ...      -1.0           -1.0"
      ]
     },
     "execution_count": 141,
     "metadata": {},
     "output_type": "execute_result"
    }
   ],
   "source": [
    "\n",
    "df = pd.read_csv('/home/colgoat/Jupyter/3tmpDR14specNAME.txt',delim_whitespace=True, skiprows=0,dtype = {'bool_value':bool})\n",
    "catlist = df['bool_value']\n",
    "\n",
    "n = np.ma.masked_array(catlist)\n",
    "\n",
    "#len(qso)\n",
    "cuas = small_supercat[n]\n",
    "#cuasares\n",
    "\n",
    "\n",
    "cuas\n",
    "#len(small_supercat)"
   ]
  },
  {
   "cell_type": "code",
   "execution_count": null,
   "id": "69cb12ba",
   "metadata": {},
   "outputs": [],
   "source": []
  },
  {
   "cell_type": "code",
   "execution_count": null,
   "id": "6947c785",
   "metadata": {},
   "outputs": [],
   "source": []
  },
  {
   "cell_type": "code",
   "execution_count": 142,
   "id": "765b537e",
   "metadata": {
    "ExecuteTime": {
     "end_time": "2023-05-30T06:31:13.954308Z",
     "start_time": "2023-05-30T06:31:13.418315Z"
    }
   },
   "outputs": [
    {
     "data": {
      "image/png": "[encoded data removed]",
      "text/plain": [
       "<Figure size 640x480 with 1 Axes>"
      ]
     },
     "metadata": {},
     "output_type": "display_data"
    },
    {
     "data": {
      "text/plain": [
       "6.605184"
      ]
     },
     "execution_count": 142,
     "metadata": {},
     "output_type": "execute_result"
    }
   ],
   "source": [
    "plt.hist(cuas['Z'], bins=np.arange(min(cuas['Z']), max(cuas['Z']) + 0.1, 0.1) \\\n",
    ", ec=\"violet\", facecolor=\"none\", histtype='step')\n",
    "plt.hist(for_z, bins=np.arange(min(for_z), max(for_z) + 0.1, 0.1),ec=\"orange\", facecolor=\"none\", histtype='step')\n",
    "plt.show()\n",
    "\n",
    "\n",
    "max(for_z)"
   ]
  },
  {
   "cell_type": "code",
   "execution_count": null,
   "id": "0139f619",
   "metadata": {},
   "outputs": [],
   "source": []
  }
 ],
 "metadata": {
  "kernelspec": {
   "display_name": "Python 3 (ipykernel)",
   "language": "python",
   "name": "python3"
  },
  "language_info": {
   "codemirror_mode": {
    "name": "ipython",
    "version": 3
   },
   "file_extension": ".py",
   "mimetype": "text/x-python",
   "name": "python",
   "nbconvert_exporter": "python",
   "pygments_lexer": "ipython3",
   "version": "3.10.9"
  }
 },
 "nbformat": 4,
 "nbformat_minor": 5
}
