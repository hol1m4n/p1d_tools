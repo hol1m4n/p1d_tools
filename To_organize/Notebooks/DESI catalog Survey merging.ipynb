{
 "cells": [
  {
   "cell_type": "code",
   "execution_count": 6,
   "id": "14527afc",
   "metadata": {},
   "outputs": [],
   "source": [
    "# Importing libraries \n",
    "import os\n",
    "import sys\n",
    "import glob\n",
    "import numpy as np\n",
    "import scipy.optimize as op\n",
    "import matplotlib.pyplot as plt\n",
    "import urllib.request\n",
    "from astropy.io import fits\n",
    "from astropy.table import Table\n",
    "from astropy.table import vstack\n",
    "from astropy.io import fits\n",
    "import urllib.request\n",
    "import requests\n",
    "import time"
   ]
  },
  {
   "cell_type": "code",
   "execution_count": 8,
   "id": "91ec06fd",
   "metadata": {},
   "outputs": [
    {
     "name": "stdout",
     "output_type": "stream",
     "text": [
      "\n",
      "\n",
      "---------------------------------------------\n",
      "\n",
      "\n",
      "Number of spectra in SV1:  11853\n",
      "Number of spectra in SV3:  14910\n",
      "Total number of DESI EDR spectra (SV1 & SV3) to be used:  26763\n"
     ]
    }
   ],
   "source": [
    "\n",
    "#Getting the individual coadded files names\n",
    "\n",
    "local_dir = \"/home/colgoat/spc_DESIedr/\" #path to the catalogs\n",
    "pn_sv1 = \"https://data.desi.lbl.gov/public/edr/spectro/redux/fuji/healpix/sv1/dark/\" # File database link for sv1\n",
    "pn_sv3 = \"https://data.desi.lbl.gov/public/edr/spectro/redux/fuji/healpix/sv3/dark/\" # File database link for sv3\n",
    "\n",
    "EDR_qsolist = [] # List of spectra of interest from DESI EDR\n",
    "\n",
    "print(\"\\n\")\n",
    "print(\"---------------------------------------------\")\n",
    "print(\"\\n\")\n",
    "\n",
    "file1 = \"QSO_cat_fuji_sv1_dark_bal_mask_v1.0.fits\" # Name of the first catalog (sv1)\n",
    "lc_sv1 = os.path.join(local_dir,file1) # lc_sv1 = Local file sv1\n",
    "fc_sv1 = fits.open(lc_sv1) # fc_sv1 = Open .fits catalog file of sv1\n",
    "SV1 = Table.read(fc_sv1) # SV1 = Reading the file of SV1 as a BinTable \n",
    "q_sv1 = (SV1['Z']>=2.1) & (SV1['PROGRAM']=='dark') # q_sv1 = Query from main catalog (filtering)\n",
    "catfil_sv1 = SV1[q_sv1] # catfil_sv1 = Filtered catalog sv1\n",
    "catfil_sv1_hpix = catfil_sv1.group_by(\"HPXPIXEL\") # catfil_sv1 = Grouping filtered catalog by HEALPIX criteria\n",
    "HPX_sv1 = catfil_sv1_hpix[\"HPXPIXEL\"]/100 # HPX_sv1 = Getting the healpix ID for path on database\n",
    "\n",
    "print(\"Number of spectra in SV1: \",len(catfil_sv1)) # Showing the number of targets on screen\n",
    "for p,m in zip(HPX_sv1,catfil_sv1_hpix[\"HPXPIXEL\"]): # Adding selected Targets to the list\n",
    "    EDR_qsolist.append(pn_sv1+str(int(p))+\"/\"+str(m)+\"/coadd-sv1-dark-\"+str(m)+\".fits\")\n",
    "fc_sv1.close()\n",
    "\n",
    "file2 = \"QSO_cat_fuji_sv3_dark_bal_mask_v1.0.fits\" # Name of the first catalog (sv3)\n",
    "lc_sv3 = os.path.join(local_dir,file2) # lc_sv3 = Local file sv3\n",
    "fc_sv3 = fits.open(lc_sv3) # fc_sv3 = Open .fits catalog file of sv3\n",
    "SV3 = Table.read(fc_sv3) # SV3 = Reading the file of SV3 as a BinTable\n",
    "q_sv3 = (SV3['Z']>=2.1) & (SV3['PROGRAM']=='dark') # q_sv3 = Query from main catalog (filtering)\n",
    "catfil_sv3 = SV3[q_sv3] # catfil_sv3 = Filtered catalog sv3\n",
    "catfil_sv3_hpix = catfil_sv3.group_by(\"HPXPIXEL\") # catfil_sv3 = Grouping filtered catalog by HEALPIX criteria\n",
    "HPX_sv3 = catfil_sv3_hpix[\"HPXPIXEL\"]/100 # HPX_sv3 = Getting the healpix ID for path on database\n",
    "\n",
    "print(\"Number of spectra in SV3: \",len(catfil_sv3))\n",
    "for p,m in zip(HPX_sv3,catfil_sv3_hpix[\"HPXPIXEL\"]): # Adding selected Targets to the list\n",
    "    EDR_qsolist.append(pn_sv3+str(int(p))+\"/\"+str(m)+\"/coadd-sv3-dark-\"+str(m)+\".fits\")\n",
    "fc_sv3.close()\n",
    "\n",
    "\n",
    "EDRcat_stk = vstack(([catfil_sv1,catfil_sv3])) # EDR filtered catalogs stacked for both surveys and sorted\n",
    "EDRcat_stk.sort(['TARGETID'])\n",
    "\n",
    "\n",
    "print(\"Total number of DESI EDR spectra (SV1 & SV3) to be used: \",len(EDR_qsolist))\n"
   ]
  },
  {
   "cell_type": "code",
   "execution_count": null,
   "id": "86128efe",
   "metadata": {},
   "outputs": [],
   "source": []
  },
  {
   "cell_type": "code",
   "execution_count": null,
   "id": "b5b3dce5",
   "metadata": {},
   "outputs": [],
   "source": []
  },
  {
   "cell_type": "code",
   "execution_count": null,
   "id": "d937141c",
   "metadata": {},
   "outputs": [],
   "source": []
  },
  {
   "cell_type": "code",
   "execution_count": null,
   "id": "7fd40ebc",
   "metadata": {},
   "outputs": [],
   "source": []
  },
  {
   "cell_type": "code",
   "execution_count": null,
   "id": "460e2674",
   "metadata": {},
   "outputs": [],
   "source": []
  },
  {
   "cell_type": "code",
   "execution_count": null,
   "id": "b3766db0",
   "metadata": {},
   "outputs": [],
   "source": []
  },
  {
   "cell_type": "code",
   "execution_count": null,
   "id": "9d3864e4",
   "metadata": {},
   "outputs": [],
   "source": []
  },
  {
   "cell_type": "code",
   "execution_count": null,
   "id": "cc8d9841",
   "metadata": {},
   "outputs": [],
   "source": []
  },
  {
   "cell_type": "code",
   "execution_count": null,
   "id": "13b4739b",
   "metadata": {},
   "outputs": [],
   "source": []
  },
  {
   "cell_type": "code",
   "execution_count": null,
   "id": "5a1da4cb",
   "metadata": {},
   "outputs": [],
   "source": []
  },
  {
   "cell_type": "code",
   "execution_count": null,
   "id": "7490db2a",
   "metadata": {},
   "outputs": [],
   "source": []
  },
  {
   "cell_type": "code",
   "execution_count": null,
   "id": "bc4617fe",
   "metadata": {},
   "outputs": [],
   "source": []
  },
  {
   "cell_type": "code",
   "execution_count": null,
   "id": "f41e4f0d",
   "metadata": {},
   "outputs": [],
   "source": []
  },
  {
   "cell_type": "code",
   "execution_count": null,
   "id": "8a59f937",
   "metadata": {},
   "outputs": [],
   "source": []
  },
  {
   "cell_type": "code",
   "execution_count": null,
   "id": "11a3409e",
   "metadata": {},
   "outputs": [],
   "source": []
  },
  {
   "cell_type": "code",
   "execution_count": null,
   "id": "cf79eae2",
   "metadata": {},
   "outputs": [],
   "source": []
  },
  {
   "cell_type": "code",
   "execution_count": null,
   "id": "152d0849",
   "metadata": {},
   "outputs": [],
   "source": []
  },
  {
   "cell_type": "code",
   "execution_count": 59,
   "id": "3f1bab17",
   "metadata": {},
   "outputs": [],
   "source": [
    "cor_cat = Table.read(fits.open('/home/colgoat/spc_DESIedr/qso_catalog_sv13.fits')[1])\n",
    "#cor_cat[(cor_cat['PROGRAM']=='dark') & ((cor_cat['SURVEY']=='sv1') | (cor_cat['SURVEY']=='sv3'))]\n",
    "cor_cat.sort(['TARGETID'])"
   ]
  },
  {
   "cell_type": "code",
   "execution_count": 71,
   "id": "65503b0e",
   "metadata": {},
   "outputs": [
    {
     "name": "stdout",
     "output_type": "stream",
     "text": [
      "26763 68750 21133\n",
      "21133\n"
     ]
    }
   ],
   "source": [
    "C1_TID = np.array(EDRcat_stk['TARGETID'])\n",
    "C2_TID = np.array(cor_cat['TARGETID'])\n",
    "A = np.intersect1d(C2_TID,C1_TID)\n",
    "print(len(C1_TID), len(C2_TID), len(A))\n",
    "mask = np.isin(C1_TID,(np.intersect1d(C2_TID,C1_TID)))\n",
    "B = EDRcat_stk[mask]"
   ]
  },
  {
   "cell_type": "code",
   "execution_count": 78,
   "id": "efb1a25a",
   "metadata": {},
   "outputs": [
    {
     "data": {
      "text/plain": [
       "21133"
      ]
     },
     "execution_count": 78,
     "metadata": {},
     "output_type": "execute_result"
    }
   ],
   "source": [
    "dup = []\n",
    "for a in range(len(A)):\n",
    "    ix = (C1_TID == A[a]) \n",
    "    dup.append(ix.sum())\n",
    "dup = np.array(dup)\n",
    "np.unique(dup)\n",
    "len(dup)"
   ]
  },
  {
   "cell_type": "code",
   "execution_count": null,
   "id": "96c59eca",
   "metadata": {},
   "outputs": [],
   "source": []
  },
  {
   "cell_type": "code",
   "execution_count": null,
   "id": "43af8888",
   "metadata": {},
   "outputs": [],
   "source": []
  },
  {
   "cell_type": "code",
   "execution_count": null,
   "id": "a008321c",
   "metadata": {},
   "outputs": [],
   "source": [
    "mask = np.isin(C2_TID,C1_TID)\n",
    "len(mask)"
   ]
  },
  {
   "cell_type": "code",
   "execution_count": 41,
   "id": "5a8550b9",
   "metadata": {},
   "outputs": [],
   "source": [
    "new_CORcat = cor_cat[mask]\n",
    "new_CORcat.sort(['TARGETID'])"
   ]
  },
  {
   "cell_type": "code",
   "execution_count": 42,
   "id": "8c465b45",
   "metadata": {},
   "outputs": [
    {
     "data": {
      "text/plain": [
       "26763"
      ]
     },
     "execution_count": 42,
     "metadata": {},
     "output_type": "execute_result"
    }
   ],
   "source": [
    "C1_TID = np.array(new_CORcat['TARGETID'])\n",
    "C2_TID = np.array(EDRcat_stk['TARGETID'])\n",
    "mask = np.isin(C2_TID,C1_TID, assume_unique = True)\n",
    "len(mask)"
   ]
  },
  {
   "cell_type": "code",
   "execution_count": 43,
   "id": "302fad60",
   "metadata": {},
   "outputs": [],
   "source": [
    "new_BALcat = EDRcat_stk[mask]\n",
    "new_BALcat.sort(['TARGETID'])"
   ]
  },
  {
   "cell_type": "code",
   "execution_count": 46,
   "id": "01c0568b",
   "metadata": {
    "scrolled": false
   },
   "outputs": [
    {
     "data": {
      "text/plain": [
       "21133"
      ]
     },
     "execution_count": 46,
     "metadata": {},
     "output_type": "execute_result"
    }
   ],
   "source": []
  },
  {
   "cell_type": "code",
   "execution_count": 34,
   "id": "7a32c3b4",
   "metadata": {},
   "outputs": [
    {
     "data": {
      "text/html": [
       "<div><i>Table length=21133</i>\n",
       "<table id=\"table140013043759376\" class=\"table-striped table-bordered table-condensed\">\n",
       "<thead><tr><th>TARGETID</th><th>Z</th><th>ZERR</th><th>ZWARN</th><th>SPECTYPE</th><th>COADD_FIBERSTATUS</th><th>TARGET_RA</th><th>TARGET_DEC</th><th>MORPHTYPE</th><th>EBV</th><th>FLUX_G</th><th>FLUX_R</th><th>FLUX_Z</th><th>FLUX_W1</th><th>FLUX_W2</th><th>FLUX_IVAR_G</th><th>FLUX_IVAR_R</th><th>FLUX_IVAR_Z</th><th>FLUX_IVAR_W1</th><th>FLUX_IVAR_W2</th><th>MW_TRANSMISSION_G</th><th>MW_TRANSMISSION_R</th><th>MW_TRANSMISSION_Z</th><th>MW_TRANSMISSION_W1</th><th>MW_TRANSMISSION_W2</th><th>PROBA_RF</th><th>MASKBITS</th><th>SV1_DESI_TARGET</th><th>SV1_SCND_TARGET</th><th>DESI_TARGET</th><th>COADD_NUMEXP</th><th>COADD_EXPTIME</th><th>CMX_TARGET</th><th>SV2_DESI_TARGET</th><th>SV3_DESI_TARGET</th><th>SV2_SCND_TARGET</th><th>SV3_SCND_TARGET</th><th>SCND_TARGET</th><th>TSNR2_LYA</th><th>TSNR2_QSO</th><th>DELTA_CHI2_MGII</th><th>A_MGII</th><th>SIGMA_MGII</th><th>B_MGII</th><th>VAR_A_MGII</th><th>VAR_SIGMA_MGII</th><th>VAR_B_MGII</th><th>Z_RR</th><th>Z_QN</th><th>C_LYA</th><th>C_CIV</th><th>C_CIII</th><th>C_MgII</th><th>C_Hbeta</th><th>C_Halpha</th><th>Z_LYA</th><th>Z_CIV</th><th>Z_CIII</th><th>Z_MgII</th><th>Z_Hbeta</th><th>Z_Halpha</th><th>QSO_MASKBITS</th><th>HPXPIXEL</th><th>SURVEY</th><th>PROGRAM</th><th>LASTNIGHT</th><th>PCA_COEFFS</th><th>PCA_CHI2</th><th>BAL_PROB</th><th>BI_CIV</th><th>ERR_BI_CIV</th><th>NCIV_2000</th><th>VMIN_CIV_2000</th><th>VMAX_CIV_2000</th><th>POSMIN_CIV_2000</th><th>FMIN_CIV_2000</th><th>AI_CIV</th><th>ERR_AI_CIV</th><th>NCIV_450</th><th>VMIN_CIV_450</th><th>VMAX_CIV_450</th><th>POSMIN_CIV_450</th><th>FMIN_CIV_450</th><th>BI_SIIV</th><th>ERR_BI_SIIV</th><th>NSIIV_2000</th><th>VMIN_SIIV_2000</th><th>VMAX_SIIV_2000</th><th>POSMIN_SIIV_2000</th><th>FMIN_SIIV_2000</th><th>AI_SIIV</th><th>ERR_AI_SIIV</th><th>NSIIV_450</th><th>VMIN_SIIV_450</th><th>VMAX_SIIV_450</th><th>POSMIN_SIIV_450</th><th>FMIN_SIIV_450</th><th>BALMASK</th></tr></thead>\n",
       "<thead><tr><th>int64</th><th>float64</th><th>float64</th><th>int64</th><th>str6</th><th>int32</th><th>float64</th><th>float64</th><th>str4</th><th>float32</th><th>float32</th><th>float32</th><th>float32</th><th>float32</th><th>float32</th><th>float32</th><th>float32</th><th>float32</th><th>float32</th><th>float32</th><th>float64</th><th>float64</th><th>float64</th><th>float64</th><th>float64</th><th>float64</th><th>int16</th><th>int64</th><th>int64</th><th>int64</th><th>int16</th><th>float32</th><th>int64</th><th>int64</th><th>int64</th><th>int64</th><th>int64</th><th>int64</th><th>float32</th><th>float32</th><th>float32</th><th>float32</th><th>float32</th><th>float32</th><th>float32</th><th>float32</th><th>float32</th><th>float32</th><th>float32</th><th>float32</th><th>float32</th><th>float32</th><th>float32</th><th>float32</th><th>float32</th><th>float32</th><th>float32</th><th>float32</th><th>float32</th><th>float32</th><th>float32</th><th>int32</th><th>int64</th><th>str3</th><th>str4</th><th>int64</th><th>float32[5]</th><th>float32</th><th>float32</th><th>float32</th><th>float32</th><th>int32</th><th>float32[5]</th><th>float32[5]</th><th>float32[5]</th><th>float32[5]</th><th>float32</th><th>float32</th><th>int32</th><th>float32[17]</th><th>float32[17]</th><th>float32[17]</th><th>float32[17]</th><th>float32</th><th>float32</th><th>int32</th><th>float32[5]</th><th>float32[5]</th><th>float32[5]</th><th>float32[5]</th><th>float32</th><th>float32</th><th>int32</th><th>float32[17]</th><th>float32[17]</th><th>float32[17]</th><th>float32[17]</th><th>uint8</th></tr></thead>\n",
       "<tr><td>39627136847319542</td><td>2.334165306571836</td><td>0.00011927768655614493</td><td>0</td><td>QSO</td><td>0</td><td>163.32487960346054</td><td>-27.909257960373424</td><td>PSF</td><td>0.06449058</td><td>8.060436</td><td>9.266329</td><td>13.961395</td><td>17.785593</td><td>32.406742</td><td>215.88075</td><td>199.37141</td><td>63.222946</td><td>1.7885725</td><td>0.5398294</td><td>0.8058177000368452</td><td>0.8058177000368452</td><td>0.8058177000368452</td><td>0.8058177000368452</td><td>0.8058177000368452</td><td>0.9981405733823776</td><td>0</td><td>4665733337124491014</td><td>131072</td><td>0</td><td>19</td><td>17061.107</td><td>0</td><td>0</td><td>0</td><td>0</td><td>0</td><td>0</td><td>270.09314</td><td>130.79248</td><td>361.8064</td><td>0.602876</td><td>44.95604</td><td>2.3683345</td><td>0.0016881061</td><td>17.090488</td><td>0.0011731663</td><td>2.3341653</td><td>2.337243</td><td>0.9999999</td><td>0.9999998</td><td>0.99999934</td><td>0.9999992</td><td>2.1405694e-05</td><td>1.9597617e-05</td><td>2.337243</td><td>2.3374805</td><td>2.3341882</td><td>2.333792</td><td>-0.013425438</td><td>0.46398482</td><td>14</td><td>38771</td><td>sv1</td><td>dark</td><td>20210212</td><td>229.6426 .. 3.6772516</td><td>2.3033245</td><td>0.0</td><td>0.0</td><td>0.0</td><td>0</td><td>-1.0 .. -1.0</td><td>-1.0 .. -1.0</td><td>-1.0 .. -1.0</td><td>-1.0 .. -1.0</td><td>258.45255</td><td>2.6098938</td><td>2</td><td>5701.53 .. -1.0</td><td>6444.535 .. -1.0</td><td>5887.2812 .. -1.0</td><td>0.7411206 .. -1.0</td><td>0.0</td><td>0.0</td><td>0</td><td>-1.0 .. -1.0</td><td>-1.0 .. -1.0</td><td>-1.0 .. -1.0</td><td>-1.0 .. -1.0</td><td>0.0</td><td>0.0</td><td>0</td><td>-1.0 .. -1.0</td><td>-1.0 .. -1.0</td><td>-1.0 .. -1.0</td><td>-1.0 .. -1.0</td><td>0</td></tr>\n",
       "<tr><td>39627142190859939</td><td>2.175128666031821</td><td>0.0002438795433343139</td><td>0</td><td>QSO</td><td>0</td><td>162.88450856962623</td><td>-27.774641891054515</td><td>PSF</td><td>0.06621869</td><td>0.48587924</td><td>0.4227278</td><td>0.7662796</td><td>3.0602136</td><td>2.5776358</td><td>544.62964</td><td>481.0964</td><td>190.13463</td><td>3.5453265</td><td>0.7686863</td><td>0.8011692907279641</td><td>0.8011692907279641</td><td>0.8011692907279641</td><td>0.8011692907279641</td><td>0.8011692907279641</td><td>0.9618029569089412</td><td>0</td><td>72061717206601478</td><td>0</td><td>0</td><td>19</td><td>17061.107</td><td>0</td><td>0</td><td>0</td><td>0</td><td>0</td><td>0</td><td>292.42</td><td>141.81735</td><td>82.94344</td><td>0.089525715</td><td>-22.230644</td><td>0.09703628</td><td>0.00076991005</td><td>78.62632</td><td>0.0001402657</td><td>2.1751287</td><td>2.1828747</td><td>0.9999669</td><td>1.0</td><td>0.99999774</td><td>0.99996704</td><td>4.0566556e-06</td><td>4.4175246e-07</td><td>2.1860728</td><td>2.1828747</td><td>2.1892407</td><td>2.1893008</td><td>-0.06362737</td><td>-0.45145366</td><td>14</td><td>38771</td><td>sv1</td><td>dark</td><td>20210212</td><td>11.221055 .. 0.9191993</td><td>1.4971107</td><td>0.0</td><td>0.0</td><td>0.0</td><td>0</td><td>-1.0 .. -1.0</td><td>-1.0 .. -1.0</td><td>-1.0 .. -1.0</td><td>-1.0 .. -1.0</td><td>0.0</td><td>0.0</td><td>0</td><td>-1.0 .. -1.0</td><td>-1.0 .. -1.0</td><td>-1.0 .. -1.0</td><td>-1.0 .. -1.0</td><td>0.0</td><td>0.0</td><td>0</td><td>-1.0 .. -1.0</td><td>-1.0 .. -1.0</td><td>-1.0 .. -1.0</td><td>-1.0 .. -1.0</td><td>0.0</td><td>0.0</td><td>0</td><td>-1.0 .. -1.0</td><td>-1.0 .. -1.0</td><td>-1.0 .. -1.0</td><td>-1.0 .. -1.0</td><td>0</td></tr>\n",
       "<tr><td>39627152919890882</td><td>2.453393365329811</td><td>0.00045964276141543354</td><td>0</td><td>QSO</td><td>0</td><td>162.7418127945335</td><td>-27.319436661954988</td><td>PSF</td><td>0.074578695</td><td>0.35029408</td><td>0.37503088</td><td>0.69750464</td><td>3.7208774</td><td>3.2596428</td><td>732.7517</td><td>720.92444</td><td>183.09274</td><td>3.4404063</td><td>0.74237216</td><td>0.7790577225100955</td><td>0.7790577225100955</td><td>0.7790577225100955</td><td>0.7790577225100955</td><td>0.7790577225100955</td><td>0.9609364968687296</td><td>0</td><td>72061717206601478</td><td>0</td><td>0</td><td>19</td><td>17061.107</td><td>0</td><td>0</td><td>0</td><td>0</td><td>0</td><td>0</td><td>449.7401</td><td>144.33376</td><td>2.3819792</td><td>35.105515</td><td>2615.5225</td><td>-34.987312</td><td>33266317000.0</td><td>45597020000000.0</td><td>33266321000.0</td><td>2.4533935</td><td>2.449595</td><td>0.9672372</td><td>0.99999994</td><td>0.9999998</td><td>1.0</td><td>1.221325e-05</td><td>4.594353e-06</td><td>2.4615178</td><td>2.4631968</td><td>2.4499788</td><td>2.449595</td><td>0.9556656</td><td>-0.13203338</td><td>10</td><td>38777</td><td>sv1</td><td>dark</td><td>20210212</td><td>6.4839816 .. 0.14133058</td><td>1.4427688</td><td>0.0</td><td>0.0</td><td>0.0</td><td>0</td><td>-1.0 .. -1.0</td><td>-1.0 .. -1.0</td><td>-1.0 .. -1.0</td><td>-1.0 .. -1.0</td><td>0.0</td><td>0.0</td><td>0</td><td>-1.0 .. -1.0</td><td>-1.0 .. -1.0</td><td>-1.0 .. -1.0</td><td>-1.0 .. -1.0</td><td>0.0</td><td>0.0</td><td>0</td><td>-1.0 .. -1.0</td><td>-1.0 .. -1.0</td><td>-1.0 .. -1.0</td><td>-1.0 .. -1.0</td><td>0.0</td><td>0.0</td><td>0</td><td>-1.0 .. -1.0</td><td>-1.0 .. -1.0</td><td>-1.0 .. -1.0</td><td>-1.0 .. -1.0</td><td>0</td></tr>\n",
       "<tr><td>39627152928280526</td><td>2.2729089200538217</td><td>0.0002296021266374737</td><td>4</td><td>GALAXY</td><td>0</td><td>163.39509614779018</td><td>-27.17270941141509</td><td>PSF</td><td>0.07100172</td><td>1.4734815</td><td>1.9267478</td><td>2.9150758</td><td>4.3293386</td><td>4.321927</td><td>440.84396</td><td>346.08878</td><td>156.7693</td><td>3.3608255</td><td>0.75186455</td><td>0.7884428425683854</td><td>0.7884428425683854</td><td>0.7884428425683854</td><td>0.7884428425683854</td><td>0.7884428425683854</td><td>0.9808786861896515</td><td>2048</td><td>54047318697103110</td><td>0</td><td>0</td><td>19</td><td>17061.107</td><td>0</td><td>0</td><td>0</td><td>0</td><td>0</td><td>0</td><td>518.60803</td><td>150.39746</td><td>-3.8038578</td><td>0.064385116</td><td>29.21454</td><td>0.5572626</td><td>0.0013654657</td><td>480.89786</td><td>0.0004169804</td><td>0.9445731</td><td>2.2988348</td><td>1.0</td><td>0.99999994</td><td>0.9999974</td><td>0.96796006</td><td>7.29974e-06</td><td>1.2434528e-05</td><td>2.2988348</td><td>2.299815</td><td>2.2985501</td><td>2.3037276</td><td>0.820018</td><td>-0.23865426</td><td>24</td><td>38774</td><td>sv1</td><td>dark</td><td>20210212</td><td>29.305132 .. 1.219413</td><td>1.4780438</td><td>0.0</td><td>0.0</td><td>0.0</td><td>0</td><td>-1.0 .. -1.0</td><td>-1.0 .. -1.0</td><td>-1.0 .. -1.0</td><td>-1.0 .. -1.0</td><td>0.0</td><td>0.0</td><td>0</td><td>-1.0 .. -1.0</td><td>-1.0 .. -1.0</td><td>-1.0 .. -1.0</td><td>-1.0 .. -1.0</td><td>0.0</td><td>0.0</td><td>0</td><td>-1.0 .. -1.0</td><td>-1.0 .. -1.0</td><td>-1.0 .. -1.0</td><td>-1.0 .. -1.0</td><td>0.0</td><td>0.0</td><td>0</td><td>-1.0 .. -1.0</td><td>-1.0 .. -1.0</td><td>-1.0 .. -1.0</td><td>-1.0 .. -1.0</td><td>0</td></tr>\n",
       "<tr><td>39627152928280792</td><td>2.122640893549859</td><td>0.00022815597608781993</td><td>0</td><td>QSO</td><td>0</td><td>163.41177046352416</td><td>-27.262782543372218</td><td>PSF</td><td>0.072573006</td><td>1.3754135</td><td>1.9243226</td><td>3.666403</td><td>6.7172537</td><td>5.9540443</td><td>457.60394</td><td>354.22873</td><td>126.00258</td><td>3.37291</td><td>0.7697012</td><td>0.7843063273186777</td><td>0.7843063273186777</td><td>0.7843063273186777</td><td>0.7843063273186777</td><td>0.7843063273186777</td><td>0.9667233693003654</td><td>0</td><td>54047318697103110</td><td>0</td><td>0</td><td>19</td><td>17061.107</td><td>0</td><td>0</td><td>0</td><td>0</td><td>0</td><td>0</td><td>546.7196</td><td>152.23041</td><td>425.35443</td><td>0.41769376</td><td>29.949041</td><td>0.544121</td><td>0.00047977336</td><td>4.7859445</td><td>0.00024267328</td><td>2.1226408</td><td>2.1247075</td><td>0.9999987</td><td>0.99999225</td><td>0.99999535</td><td>0.99999434</td><td>0.00035577477</td><td>0.0001546739</td><td>2.1247075</td><td>2.124097</td><td>2.1213324</td><td>2.1195233</td><td>0.33289495</td><td>0.32594845</td><td>14</td><td>38774</td><td>sv1</td><td>dark</td><td>20210212</td><td>34.582954 .. -0.68651813</td><td>1.4652352</td><td>0.0</td><td>0.0</td><td>0.0</td><td>0</td><td>-1.0 .. -1.0</td><td>-1.0 .. -1.0</td><td>-1.0 .. -1.0</td><td>-1.0 .. -1.0</td><td>601.5999</td><td>6.4594502</td><td>1</td><td>258.4958 .. -1.0</td><td>1894.7515 .. -1.0</td><td>1398.9164 .. -1.0</td><td>-0.13371441 .. -1.0</td><td>0.0</td><td>0.0</td><td>0</td><td>-1.0 .. -1.0</td><td>-1.0 .. -1.0</td><td>-1.0 .. -1.0</td><td>-1.0 .. -1.0</td><td>0.0</td><td>0.0</td><td>0</td><td>-1.0 .. -1.0</td><td>-1.0 .. -1.0</td><td>-1.0 .. -1.0</td><td>-1.0 .. -1.0</td><td>0</td></tr>\n",
       "<tr><td>39627158326346599</td><td>2.45183412541748</td><td>0.00017391989923131278</td><td>0</td><td>QSO</td><td>0</td><td>164.09906011543217</td><td>-27.114167905933087</td><td>PSF</td><td>0.076565325</td><td>1.9742076</td><td>2.0585978</td><td>2.731879</td><td>3.9950433</td><td>3.486254</td><td>410.2791</td><td>330.31415</td><td>122.54296</td><td>3.232302</td><td>0.72586495</td><td>0.7738936168606908</td><td>0.7738936168606908</td><td>0.7738936168606908</td><td>0.7738936168606908</td><td>0.7738936168606908</td><td>0.9933896499872208</td><td>0</td><td>54044020162216710</td><td>0</td><td>0</td><td>19</td><td>17061.107</td><td>0</td><td>0</td><td>0</td><td>0</td><td>0</td><td>0</td><td>378.39642</td><td>127.41705</td><td>34.47593</td><td>0.24946949</td><td>40.338688</td><td>0.39560714</td><td>0.0007767596</td><td>43.70613</td><td>0.00047967228</td><td>2.4518342</td><td>2.4619665</td><td>1.0</td><td>0.9999992</td><td>0.99999684</td><td>0.99999803</td><td>1.2723087e-05</td><td>6.2516087e-06</td><td>2.4619665</td><td>2.4496956</td><td>2.4651065</td><td>2.4628642</td><td>0.9321137</td><td>-0.45145366</td><td>14</td><td>38774</td><td>sv1</td><td>dark</td><td>20210212</td><td>36.18863 .. -0.34863842</td><td>1.5870448</td><td>0.0</td><td>0.0</td><td>0.0</td><td>0</td><td>-1.0 .. -1.0</td><td>-1.0 .. -1.0</td><td>-1.0 .. -1.0</td><td>-1.0 .. -1.0</td><td>0.0</td><td>0.0</td><td>0</td><td>-1.0 .. -1.0</td><td>-1.0 .. -1.0</td><td>-1.0 .. -1.0</td><td>-1.0 .. -1.0</td><td>0.0</td><td>0.0</td><td>0</td><td>-1.0 .. -1.0</td><td>-1.0 .. -1.0</td><td>-1.0 .. -1.0</td><td>-1.0 .. -1.0</td><td>0.0</td><td>0.0</td><td>0</td><td>-1.0 .. -1.0</td><td>-1.0 .. -1.0</td><td>-1.0 .. -1.0</td><td>-1.0 .. -1.0</td><td>0</td></tr>\n",
       "<tr><td>...</td><td>...</td><td>...</td><td>...</td><td>...</td><td>...</td><td>...</td><td>...</td><td>...</td><td>...</td><td>...</td><td>...</td><td>...</td><td>...</td><td>...</td><td>...</td><td>...</td><td>...</td><td>...</td><td>...</td><td>...</td><td>...</td><td>...</td><td>...</td><td>...</td><td>...</td><td>...</td><td>...</td><td>...</td><td>...</td><td>...</td><td>...</td><td>...</td><td>...</td><td>...</td><td>...</td><td>...</td><td>...</td><td>...</td><td>...</td><td>...</td><td>...</td><td>...</td><td>...</td><td>...</td><td>...</td><td>...</td><td>...</td><td>...</td><td>...</td><td>...</td><td>...</td><td>...</td><td>...</td><td>...</td><td>...</td><td>...</td><td>...</td><td>...</td><td>...</td><td>...</td><td>...</td><td>...</td><td>...</td><td>...</td><td>...</td><td>...</td><td>...</td><td>...</td><td>...</td><td>...</td><td>...</td><td>...</td><td>...</td><td>...</td><td>...</td><td>...</td><td>...</td><td>...</td><td>...</td><td>...</td><td>...</td><td>...</td><td>...</td><td>...</td><td>...</td><td>...</td><td>...</td><td>...</td><td>...</td><td>...</td><td>...</td><td>...</td><td>...</td><td>...</td><td>...</td><td>...</td><td>...</td></tr>\n",
       "<tr><td>39636931708979738</td><td>3.26625773860568</td><td>0.0011489411117509007</td><td>0</td><td>GALAXY</td><td>0</td><td>240.4683250909006</td><td>14.399162683504695</td><td>PSF</td><td>0.051395856</td><td>0.37777737</td><td>0.51438165</td><td>0.5167631</td><td>0.36179847</td><td>1.2930589</td><td>1637.5415</td><td>642.83685</td><td>109.35608</td><td>3.8885543</td><td>0.89774245</td><td>0.841928654339899</td><td>0.841928654339899</td><td>0.841928654339899</td><td>0.841928654339899</td><td>0.841928654339899</td><td>0.5749444113522768</td><td>0</td><td>36028797018996740</td><td>0</td><td>0</td><td>7</td><td>4531.634</td><td>0</td><td>0</td><td>0</td><td>0</td><td>0</td><td>0</td><td>231.7478</td><td>152.6734</td><td>--</td><td>--</td><td>--</td><td>--</td><td>--</td><td>--</td><td>--</td><td>0.04764234</td><td>3.2839317</td><td>0.31493676</td><td>0.9612857</td><td>0.95672226</td><td>0.00069173827</td><td>2.8658586e-05</td><td>7.262175e-05</td><td>3.2862551</td><td>3.2839317</td><td>3.355296</td><td>1.1185967</td><td>0.33379874</td><td>0.25878072</td><td>24</td><td>8468</td><td>sv1</td><td>dark</td><td>20210404</td><td>6.1628222 .. 0.32794982</td><td>1.1085523</td><td>0.0</td><td>0.0</td><td>0.0</td><td>0</td><td>-1.0 .. -1.0</td><td>-1.0 .. -1.0</td><td>-1.0 .. -1.0</td><td>-1.0 .. -1.0</td><td>0.0</td><td>0.0</td><td>0</td><td>-1.0 .. -1.0</td><td>-1.0 .. -1.0</td><td>-1.0 .. -1.0</td><td>-1.0 .. -1.0</td><td>0.0</td><td>0.0</td><td>0</td><td>-1.0 .. -1.0</td><td>-1.0 .. -1.0</td><td>-1.0 .. -1.0</td><td>-1.0 .. -1.0</td><td>0.0</td><td>0.0</td><td>0</td><td>-1.0 .. -1.0</td><td>-1.0 .. -1.0</td><td>-1.0 .. -1.0</td><td>-1.0 .. -1.0</td><td>0</td></tr>\n",
       "<tr><td>39636931708981011</td><td>2.2212048220180334</td><td>0.000615485227058198</td><td>0</td><td>QSO</td><td>0</td><td>240.5252733008755</td><td>14.419207416161397</td><td>PSF</td><td>0.053237077</td><td>0.6240009</td><td>0.815258</td><td>1.7703918</td><td>6.493576</td><td>9.869025</td><td>1080.0957</td><td>464.66605</td><td>96.82368</td><td>3.0058186</td><td>0.8121746</td><td>0.8367550258519851</td><td>0.8367550258519851</td><td>0.8367550258519851</td><td>0.8367550258519851</td><td>0.8367550258519851</td><td>0.9707638679742813</td><td>0</td><td>4620978815827459846</td><td>34359738368</td><td>0</td><td>7</td><td>4531.634</td><td>0</td><td>0</td><td>0</td><td>0</td><td>0</td><td>0</td><td>233.8325</td><td>155.19632</td><td>33.51306</td><td>0.055217564</td><td>61.20532</td><td>0.23184279</td><td>0.00089077465</td><td>1475.7693</td><td>0.0010574977</td><td>2.2212048</td><td>2.2228954</td><td>1.0</td><td>1.0</td><td>0.9999999</td><td>0.9999998</td><td>1.0227265e-05</td><td>1.5750917e-06</td><td>2.2228954</td><td>2.222422</td><td>2.231509</td><td>2.2299185</td><td>0.71661913</td><td>0.40251103</td><td>10</td><td>8468</td><td>sv1</td><td>dark</td><td>20210404</td><td>7.167488 .. -0.25371382</td><td>1.1050265</td><td>0.0</td><td>0.0</td><td>0.0</td><td>0</td><td>-1.0 .. -1.0</td><td>-1.0 .. -1.0</td><td>-1.0 .. -1.0</td><td>-1.0 .. -1.0</td><td>0.0</td><td>0.0</td><td>0</td><td>-1.0 .. -1.0</td><td>-1.0 .. -1.0</td><td>-1.0 .. -1.0</td><td>-1.0 .. -1.0</td><td>0.0</td><td>0.0</td><td>0</td><td>-1.0 .. -1.0</td><td>-1.0 .. -1.0</td><td>-1.0 .. -1.0</td><td>-1.0 .. -1.0</td><td>0.0</td><td>0.0</td><td>0</td><td>-1.0 .. -1.0</td><td>-1.0 .. -1.0</td><td>-1.0 .. -1.0</td><td>-1.0 .. -1.0</td><td>0</td></tr>\n",
       "<tr><td>39636943411087730</td><td>2.1164474953572743</td><td>0.00037313705908073423</td><td>0</td><td>QSO</td><td>0</td><td>241.15182567849183</td><td>14.993790406480015</td><td>PSF</td><td>0.04544645</td><td>1.4213828</td><td>1.4006101</td><td>2.569474</td><td>1.9932244</td><td>8.790067</td><td>1054.4401</td><td>439.85742</td><td>85.66753</td><td>3.8760386</td><td>0.90672296</td><td>0.8588655063530335</td><td>0.8588655063530335</td><td>0.8588655063530335</td><td>0.8588655063530335</td><td>0.8588655063530335</td><td>0.980420524597168</td><td>0</td><td>54047318697103110</td><td>0</td><td>0</td><td>7</td><td>4531.634</td><td>0</td><td>0</td><td>0</td><td>0</td><td>0</td><td>0</td><td>358.97983</td><td>155.59758</td><td>76.60105</td><td>0.065148175</td><td>40.158916</td><td>0.23425454</td><td>0.00024259262</td><td>238.32555</td><td>0.00019616942</td><td>2.1164474</td><td>2.099882</td><td>0.9999957</td><td>0.999999</td><td>0.9999852</td><td>0.9999897</td><td>0.000809068</td><td>4.114421e-05</td><td>2.103665</td><td>2.099882</td><td>2.1130867</td><td>2.1151109</td><td>0.7216358</td><td>0.34490427</td><td>14</td><td>8469</td><td>sv1</td><td>dark</td><td>20210404</td><td>10.651194 .. -0.5893626</td><td>1.1063673</td><td>0.0</td><td>0.0</td><td>0.0</td><td>0</td><td>-1.0 .. -1.0</td><td>-1.0 .. -1.0</td><td>-1.0 .. -1.0</td><td>-1.0 .. -1.0</td><td>0.0</td><td>0.0</td><td>0</td><td>-1.0 .. -1.0</td><td>-1.0 .. -1.0</td><td>-1.0 .. -1.0</td><td>-1.0 .. -1.0</td><td>0.0</td><td>0.0</td><td>0</td><td>-1.0 .. -1.0</td><td>-1.0 .. -1.0</td><td>-1.0 .. -1.0</td><td>-1.0 .. -1.0</td><td>0.0</td><td>0.0</td><td>0</td><td>-1.0 .. -1.0</td><td>-1.0 .. -1.0</td><td>-1.0 .. -1.0</td><td>-1.0 .. -1.0</td><td>0</td></tr>\n",
       "<tr><td>39636943411087762</td><td>2.2106473063244145</td><td>0.00022649438870463756</td><td>0</td><td>QSO</td><td>0</td><td>241.15370133509785</td><td>15.017817234989401</td><td>PSF</td><td>0.046458486</td><td>2.7938485</td><td>2.753556</td><td>3.1827934</td><td>3.6673303</td><td>5.199359</td><td>922.2446</td><td>397.49515</td><td>85.301575</td><td>3.9854088</td><td>0.9200366</td><td>0.8559605681498006</td><td>0.8559605681498006</td><td>0.8559605681498006</td><td>0.8559605681498006</td><td>0.8559605681498006</td><td>0.99674766933918</td><td>0</td><td>54044020162216710</td><td>0</td><td>0</td><td>7</td><td>4531.634</td><td>0</td><td>0</td><td>0</td><td>0</td><td>0</td><td>0</td><td>594.6035</td><td>174.97751</td><td>114.00932</td><td>13.197679</td><td>956.3723</td><td>-12.66614</td><td>3537050.5</td><td>4744178700.0</td><td>3537073.8</td><td>2.2106473</td><td>2.21086</td><td>0.9917541</td><td>0.99999994</td><td>0.9999867</td><td>0.9999975</td><td>8.103805e-06</td><td>1.7674829e-05</td><td>2.207467</td><td>2.21086</td><td>2.2085161</td><td>2.2090273</td><td>0.029336823</td><td>0.023410944</td><td>10</td><td>8469</td><td>sv1</td><td>dark</td><td>20210404</td><td>35.76041 .. -0.054519273</td><td>1.2985259</td><td>0.0</td><td>0.0</td><td>0.0</td><td>0</td><td>-1.0 .. -1.0</td><td>-1.0 .. -1.0</td><td>-1.0 .. -1.0</td><td>-1.0 .. -1.0</td><td>0.0</td><td>0.0</td><td>0</td><td>-1.0 .. -1.0</td><td>-1.0 .. -1.0</td><td>-1.0 .. -1.0</td><td>-1.0 .. -1.0</td><td>0.0</td><td>0.0</td><td>0</td><td>-1.0 .. -1.0</td><td>-1.0 .. -1.0</td><td>-1.0 .. -1.0</td><td>-1.0 .. -1.0</td><td>0.0</td><td>0.0</td><td>0</td><td>-1.0 .. -1.0</td><td>-1.0 .. -1.0</td><td>-1.0 .. -1.0</td><td>-1.0 .. -1.0</td><td>0</td></tr>\n",
       "<tr><td>39636943411090353</td><td>2.363019788428726</td><td>0.0003761537103971518</td><td>0</td><td>QSO</td><td>0</td><td>241.2750646779111</td><td>14.98299983668791</td><td>PSF</td><td>0.045427475</td><td>0.67092025</td><td>0.5995034</td><td>0.7160719</td><td>1.7973126</td><td>1.7268771</td><td>1178.2909</td><td>601.2733</td><td>100.5875</td><td>4.044699</td><td>0.95048434</td><td>0.858920070810232</td><td>0.858920070810232</td><td>0.858920070810232</td><td>0.858920070810232</td><td>0.858920070810232</td><td>0.9597962411344051</td><td>0</td><td>81065617926464262</td><td>0</td><td>0</td><td>7</td><td>4531.634</td><td>0</td><td>0</td><td>0</td><td>0</td><td>0</td><td>0</td><td>309.5653</td><td>133.86658</td><td>14.685106</td><td>0.9630788</td><td>298.23206</td><td>-0.78148097</td><td>721.2243</td><td>19114512.0</td><td>721.7151</td><td>2.3630197</td><td>2.3566608</td><td>0.9999991</td><td>0.9999994</td><td>0.999996</td><td>1.0</td><td>1.4239682e-05</td><td>8.379227e-05</td><td>2.353203</td><td>2.352952</td><td>2.3556292</td><td>2.3566608</td><td>0.46730208</td><td>0.43978944</td><td>10</td><td>8469</td><td>sv1</td><td>dark</td><td>20210404</td><td>7.783299 .. -0.06335446</td><td>1.099433</td><td>0.0</td><td>0.0</td><td>0.0</td><td>0</td><td>-1.0 .. -1.0</td><td>-1.0 .. -1.0</td><td>-1.0 .. -1.0</td><td>-1.0 .. -1.0</td><td>0.0</td><td>0.0</td><td>0</td><td>-1.0 .. -1.0</td><td>-1.0 .. -1.0</td><td>-1.0 .. -1.0</td><td>-1.0 .. -1.0</td><td>0.0</td><td>0.0</td><td>0</td><td>-1.0 .. -1.0</td><td>-1.0 .. -1.0</td><td>-1.0 .. -1.0</td><td>-1.0 .. -1.0</td><td>0.0</td><td>0.0</td><td>0</td><td>-1.0 .. -1.0</td><td>-1.0 .. -1.0</td><td>-1.0 .. -1.0</td><td>-1.0 .. -1.0</td><td>0</td></tr>\n",
       "<tr><td>39637324216142698</td><td>2.6514860546394026</td><td>0.0002878936938941479</td><td>0</td><td>GALAXY</td><td>0</td><td>234.17531672785034</td><td>32.14308713074139</td><td>PSF</td><td>0.02200672</td><td>4.5372996</td><td>7.6120014</td><td>11.507802</td><td>18.883518</td><td>25.917593</td><td>579.55145</td><td>234.7179</td><td>102.26409</td><td>4.2744417</td><td>1.0924915</td><td>0.9289756098381563</td><td>0.9289756098381563</td><td>0.9289756098381563</td><td>0.9289756098381563</td><td>0.9289756098381563</td><td>0.9929246853590011</td><td>0</td><td>4665729213955883012</td><td>34359869440</td><td>0</td><td>2</td><td>1330.9135</td><td>0</td><td>0</td><td>0</td><td>0</td><td>0</td><td>0</td><td>209.09698</td><td>59.903175</td><td>39.12947</td><td>0.2674034</td><td>29.715805</td><td>1.5288099</td><td>0.004985488</td><td>114.85083</td><td>0.0020306257</td><td>1.1195567</td><td>2.681106</td><td>0.9999982</td><td>0.9999928</td><td>0.9999965</td><td>0.0002910637</td><td>1.464517e-05</td><td>6.4778804e-05</td><td>2.681106</td><td>2.6794825</td><td>2.6865997</td><td>1.4196597</td><td>0.43850917</td><td>-0.10963411</td><td>28</td><td>9738</td><td>sv1</td><td>dark</td><td>20210406</td><td>78.94193 .. 4.8778815</td><td>2.072131</td><td>0.0</td><td>0.0</td><td>0.0</td><td>0</td><td>-1.0 .. -1.0</td><td>-1.0 .. -1.0</td><td>-1.0 .. -1.0</td><td>-1.0 .. -1.0</td><td>98.43577</td><td>5.4873166</td><td>1</td><td>12983.169 .. -1.0</td><td>13704.009 .. -1.0</td><td>13407.192 .. -1.0</td><td>-0.20031928 .. -1.0</td><td>0.0</td><td>0.0</td><td>0</td><td>-1.0 .. -1.0</td><td>-1.0 .. -1.0</td><td>-1.0 .. -1.0</td><td>-1.0 .. -1.0</td><td>902.0596</td><td>11.289164</td><td>2</td><td>9536.085 .. -1.0</td><td>10240.819 .. -1.0</td><td>9911.943 .. -1.0</td><td>-0.17665328 .. -1.0</td><td>0</td></tr>\n",
       "<tr><td>39637324216142968</td><td>2.402410072001555</td><td>0.0003715083793024517</td><td>0</td><td>QSO</td><td>0</td><td>234.1914430023458</td><td>32.316014469374394</td><td>PSF</td><td>0.0262842</td><td>2.423096</td><td>2.5143983</td><td>2.7354505</td><td>4.4767776</td><td>4.181768</td><td>360.48035</td><td>281.2694</td><td>67.11084</td><td>5.1619205</td><td>1.2807993</td><td>0.915767575326626</td><td>0.915767575326626</td><td>0.915767575326626</td><td>0.915767575326626</td><td>0.915767575326626</td><td>0.9953546917438507</td><td>0</td><td>54044020162216710</td><td>0</td><td>0</td><td>2</td><td>1330.9135</td><td>0</td><td>0</td><td>0</td><td>0</td><td>0</td><td>0</td><td>122.23333</td><td>44.90462</td><td>8.965994</td><td>0.2406983</td><td>43.09986</td><td>0.3541518</td><td>0.00137406</td><td>94.965195</td><td>0.0010722921</td><td>2.40241</td><td>2.4007552</td><td>0.99999875</td><td>0.99999976</td><td>0.9999985</td><td>0.9999993</td><td>2.0565652e-05</td><td>2.1917675e-05</td><td>2.40188</td><td>2.4007552</td><td>2.405566</td><td>2.4062366</td><td>0.16241604</td><td>-0.45066813</td><td>10</td><td>9738</td><td>sv1</td><td>dark</td><td>20210406</td><td>30.85951 .. 0.54576373</td><td>0.99009377</td><td>0.0</td><td>0.0</td><td>0.0</td><td>0</td><td>-1.0 .. -1.0</td><td>-1.0 .. -1.0</td><td>-1.0 .. -1.0</td><td>-1.0 .. -1.0</td><td>0.0</td><td>0.0</td><td>0</td><td>-1.0 .. -1.0</td><td>-1.0 .. -1.0</td><td>-1.0 .. -1.0</td><td>-1.0 .. -1.0</td><td>0.0</td><td>0.0</td><td>0</td><td>-1.0 .. -1.0</td><td>-1.0 .. -1.0</td><td>-1.0 .. -1.0</td><td>-1.0 .. -1.0</td><td>0.0</td><td>0.0</td><td>0</td><td>-1.0 .. -1.0</td><td>-1.0 .. -1.0</td><td>-1.0 .. -1.0</td><td>-1.0 .. -1.0</td><td>0</td></tr>\n",
       "</table></div>"
      ],
      "text/plain": [
       "<Table length=21133>\n",
       "     TARGETID             Z          ...    FMIN_SIIV_450    BALMASK\n",
       "      int64            float64       ...     float32[17]      uint8 \n",
       "----------------- ------------------ ... ------------------- -------\n",
       "39627136847319542  2.334165306571836 ...        -1.0 .. -1.0       0\n",
       "39627142190859939  2.175128666031821 ...        -1.0 .. -1.0       0\n",
       "39627152919890882  2.453393365329811 ...        -1.0 .. -1.0       0\n",
       "39627152928280526 2.2729089200538217 ...        -1.0 .. -1.0       0\n",
       "39627152928280792  2.122640893549859 ...        -1.0 .. -1.0       0\n",
       "39627158326346599   2.45183412541748 ...        -1.0 .. -1.0       0\n",
       "              ...                ... ...                 ...     ...\n",
       "39636931708979738   3.26625773860568 ...        -1.0 .. -1.0       0\n",
       "39636931708981011 2.2212048220180334 ...        -1.0 .. -1.0       0\n",
       "39636943411087730 2.1164474953572743 ...        -1.0 .. -1.0       0\n",
       "39636943411087762 2.2106473063244145 ...        -1.0 .. -1.0       0\n",
       "39636943411090353  2.363019788428726 ...        -1.0 .. -1.0       0\n",
       "39637324216142698 2.6514860546394026 ... -0.17665328 .. -1.0       0\n",
       "39637324216142968  2.402410072001555 ...        -1.0 .. -1.0       0"
      ]
     },
     "execution_count": 34,
     "metadata": {},
     "output_type": "execute_result"
    }
   ],
   "source": [
    "new_CORcat"
   ]
  },
  {
   "cell_type": "code",
   "execution_count": null,
   "id": "ac25050d",
   "metadata": {},
   "outputs": [],
   "source": []
  },
  {
   "cell_type": "code",
   "execution_count": 8,
   "id": "41ac55c7",
   "metadata": {},
   "outputs": [
    {
     "data": {
      "text/html": [
       "<div><i>Table length=1237844</i>\n",
       "<table id=\"table140590168408912\" class=\"table-striped table-bordered table-condensed\">\n",
       "<thead><tr><th>TARGETID</th><th>SURVEY</th><th>PROGRAM</th><th>HEALPIX</th><th>SPGRPVAL</th><th>Z</th><th>ZERR</th><th>ZWARN</th><th>CHI2</th><th>COEFF</th><th>NPIXELS</th><th>SPECTYPE</th><th>SUBTYPE</th><th>NCOEFF</th><th>DELTACHI2</th><th>COADD_FIBERSTATUS</th><th>TARGET_RA</th><th>TARGET_DEC</th><th>PMRA</th><th>PMDEC</th><th>REF_EPOCH</th><th>FA_TARGET</th><th>FA_TYPE</th><th>OBJTYPE</th><th>SUBPRIORITY</th><th>OBSCONDITIONS</th><th>RELEASE</th><th>BRICKNAME</th><th>BRICKID</th><th>BRICK_OBJID</th><th>MORPHTYPE</th><th>EBV</th><th>FLUX_G</th><th>FLUX_R</th><th>FLUX_Z</th><th>FLUX_W1</th><th>FLUX_W2</th><th>FLUX_IVAR_G</th><th>FLUX_IVAR_R</th><th>FLUX_IVAR_Z</th><th>FLUX_IVAR_W1</th><th>FLUX_IVAR_W2</th><th>FIBERFLUX_G</th><th>FIBERFLUX_R</th><th>FIBERFLUX_Z</th><th>FIBERTOTFLUX_G</th><th>FIBERTOTFLUX_R</th><th>FIBERTOTFLUX_Z</th><th>MASKBITS</th><th>SERSIC</th><th>SHAPE_R</th><th>SHAPE_E1</th><th>SHAPE_E2</th><th>REF_ID</th><th>REF_CAT</th><th>GAIA_PHOT_G_MEAN_MAG</th><th>GAIA_PHOT_BP_MEAN_MAG</th><th>GAIA_PHOT_RP_MEAN_MAG</th><th>PARALLAX</th><th>PHOTSYS</th><th>PRIORITY_INIT</th><th>NUMOBS_INIT</th><th>CMX_TARGET</th><th>DESI_TARGET</th><th>BGS_TARGET</th><th>MWS_TARGET</th><th>SCND_TARGET</th><th>SV1_DESI_TARGET</th><th>SV1_BGS_TARGET</th><th>SV1_MWS_TARGET</th><th>SV1_SCND_TARGET</th><th>SV2_DESI_TARGET</th><th>SV2_BGS_TARGET</th><th>SV2_MWS_TARGET</th><th>SV2_SCND_TARGET</th><th>SV3_DESI_TARGET</th><th>SV3_BGS_TARGET</th><th>SV3_MWS_TARGET</th><th>SV3_SCND_TARGET</th><th>PLATE_RA</th><th>PLATE_DEC</th><th>COADD_NUMEXP</th><th>COADD_EXPTIME</th><th>COADD_NUMNIGHT</th><th>COADD_NUMTILE</th><th>MEAN_DELTA_X</th><th>RMS_DELTA_X</th><th>MEAN_DELTA_Y</th><th>RMS_DELTA_Y</th><th>MEAN_FIBER_RA</th><th>STD_FIBER_RA</th><th>MEAN_FIBER_DEC</th><th>STD_FIBER_DEC</th><th>MEAN_PSF_TO_FIBER_SPECFLUX</th><th>TSNR2_GPBDARK_B</th><th>TSNR2_ELG_B</th><th>TSNR2_GPBBRIGHT_B</th><th>TSNR2_LYA_B</th><th>TSNR2_BGS_B</th><th>TSNR2_GPBBACKUP_B</th><th>TSNR2_QSO_B</th><th>TSNR2_LRG_B</th><th>TSNR2_GPBDARK_R</th><th>TSNR2_ELG_R</th><th>TSNR2_GPBBRIGHT_R</th><th>TSNR2_LYA_R</th><th>TSNR2_BGS_R</th><th>TSNR2_GPBBACKUP_R</th><th>TSNR2_QSO_R</th><th>TSNR2_LRG_R</th><th>TSNR2_GPBDARK_Z</th><th>TSNR2_ELG_Z</th><th>TSNR2_GPBBRIGHT_Z</th><th>TSNR2_LYA_Z</th><th>TSNR2_BGS_Z</th><th>TSNR2_GPBBACKUP_Z</th><th>TSNR2_QSO_Z</th><th>TSNR2_LRG_Z</th><th>TSNR2_GPBDARK</th><th>TSNR2_ELG</th><th>TSNR2_GPBBRIGHT</th><th>TSNR2_LYA</th><th>TSNR2_BGS</th><th>TSNR2_GPBBACKUP</th><th>TSNR2_QSO</th><th>TSNR2_LRG</th><th>SV_NSPEC</th><th>SV_PRIMARY</th><th>ZCAT_NSPEC</th><th>ZCAT_PRIMARY</th></tr></thead>\n",
       "<thead><tr><th>int64</th><th>str7</th><th>str6</th><th>int32</th><th>int32</th><th>float64</th><th>float64</th><th>int64</th><th>float64</th><th>float64[10]</th><th>int64</th><th>str6</th><th>str20</th><th>int64</th><th>float64</th><th>int32</th><th>float64</th><th>float64</th><th>float32</th><th>float32</th><th>float32</th><th>int64</th><th>uint8</th><th>str3</th><th>float64</th><th>int32</th><th>int16</th><th>str8</th><th>int32</th><th>int32</th><th>str4</th><th>float32</th><th>float32</th><th>float32</th><th>float32</th><th>float32</th><th>float32</th><th>float32</th><th>float32</th><th>float32</th><th>float32</th><th>float32</th><th>float32</th><th>float32</th><th>float32</th><th>float32</th><th>float32</th><th>float32</th><th>int16</th><th>float32</th><th>float32</th><th>float32</th><th>float32</th><th>int64</th><th>str2</th><th>float32</th><th>float32</th><th>float32</th><th>float32</th><th>str1</th><th>int64</th><th>int64</th><th>int64</th><th>int64</th><th>int64</th><th>int64</th><th>int64</th><th>int64</th><th>int64</th><th>int64</th><th>int64</th><th>int64</th><th>int64</th><th>int64</th><th>int64</th><th>int64</th><th>int64</th><th>int64</th><th>int64</th><th>float64</th><th>float64</th><th>int16</th><th>float32</th><th>int16</th><th>int16</th><th>float32</th><th>float32</th><th>float32</th><th>float32</th><th>float64</th><th>float32</th><th>float64</th><th>float32</th><th>float32</th><th>float32</th><th>float32</th><th>float32</th><th>float32</th><th>float32</th><th>float32</th><th>float32</th><th>float32</th><th>float32</th><th>float32</th><th>float32</th><th>float32</th><th>float32</th><th>float32</th><th>float32</th><th>float32</th><th>float32</th><th>float32</th><th>float32</th><th>float32</th><th>float32</th><th>float32</th><th>float32</th><th>float32</th><th>float32</th><th>float32</th><th>float32</th><th>float32</th><th>float32</th><th>float32</th><th>float32</th><th>float32</th><th>int32</th><th>bool</th><th>int64</th><th>bool</th></tr></thead>\n",
       "<tr><td>39628203584653060</td><td>sv1</td><td>dark</td><td>4678</td><td>4678</td><td>-0.0019956912923479522</td><td>4.1311493573349107e-48</td><td>1570</td><td>8.999999999999996e+99</td><td>0.0 .. 0.0</td><td>0</td><td>STAR</td><td>CV</td><td>3</td><td>1.942668892225729e+84</td><td>512</td><td>130.10870428253665</td><td>17.554899097969106</td><td>0.0</td><td>0.0</td><td>2021.1047</td><td>824633721602</td><td>1</td><td>TGT</td><td>0.9305772542840636</td><td>3</td><td>9010</td><td>1301p175</td><td>430231</td><td>1796</td><td>EXP</td><td>0.024541996</td><td>0.6834641</td><td>1.3740861</td><td>2.631381</td><td>1.99353</td><td>6.2011814</td><td>910.74146</td><td>162.94249</td><td>48.262375</td><td>2.7454386</td><td>0.58532184</td><td>0.31644726</td><td>0.63620865</td><td>1.2183423</td><td>0.31893387</td><td>0.64112645</td><td>1.2244456</td><td>0</td><td>1.0</td><td>0.85883695</td><td>-0.30267748</td><td>-0.41440308</td><td>0</td><td>--</td><td>0.0</td><td>0.0</td><td>0.0</td><td>0.0</td><td>S</td><td>3000</td><td>1</td><td>0</td><td>0</td><td>0</td><td>0</td><td>0</td><td>824633721602</td><td>0</td><td>0</td><td>0</td><td>0</td><td>0</td><td>0</td><td>0</td><td>0</td><td>0</td><td>0</td><td>0</td><td>130.10870428253665</td><td>17.554899097969106</td><td>0</td><td>0.0</td><td>0</td><td>0</td><td>-2.1088333</td><td>2.108845</td><td>2.036</td><td>2.0360227</td><td>130.10031224526466</td><td>0.112740636</td><td>17.54755228489917</td><td>0.12959233</td><td>0.0</td><td>1311.8525</td><td>0.56829333</td><td>1225.0863</td><td>171.29367</td><td>16514.455</td><td>962.2802</td><td>7.559137</td><td>19.663568</td><td>75005.06</td><td>174.29616</td><td>66089.29</td><td>0.120630175</td><td>73447.51</td><td>44435.41</td><td>25.931755</td><td>747.1752</td><td>0.00015246919</td><td>588.0757</td><td>0.00013955399</td><td>0.0</td><td>134628.9</td><td>0.00010374343</td><td>62.928356</td><td>850.02905</td><td>76316.914</td><td>762.9401</td><td>67314.375</td><td>171.4143</td><td>224590.88</td><td>45397.69</td><td>96.41925</td><td>1616.8678</td><td>1</td><td>True</td><td>1</td><td>True</td></tr>\n",
       "<tr><td>616088955888075517</td><td>sv1</td><td>dark</td><td>4678</td><td>4678</td><td>0.44367792773914005</td><td>7.584055280579969e-05</td><td>1</td><td>9649.336306087673</td><td>-30.64912006769693 .. -5.227707389715611</td><td>7928</td><td>GALAXY</td><td>--</td><td>10</td><td>12.71258968859911</td><td>0</td><td>130.05856537833105</td><td>17.531232321212844</td><td>0.0</td><td>0.0</td><td>0.0</td><td>4294967296</td><td>4</td><td>SKY</td><td>0.9330034619506492</td><td>63</td><td>9010</td><td>1301p175</td><td>430231</td><td>765</td><td>--</td><td>0.0</td><td>0.0</td><td>0.0</td><td>0.0</td><td>0.0</td><td>0.0</td><td>0.0</td><td>0.0</td><td>0.0</td><td>0.0</td><td>0.0</td><td>0.0043316763</td><td>-0.0051796963</td><td>0.03235035</td><td>0.0</td><td>0.0</td><td>0.0</td><td>0</td><td>0.0</td><td>0.0</td><td>0.0</td><td>0.0</td><td>0</td><td>--</td><td>0.0</td><td>0.0</td><td>0.0</td><td>0.0</td><td>--</td><td>-1</td><td>-1</td><td>0</td><td>4294967296</td><td>0</td><td>0</td><td>0</td><td>0</td><td>0</td><td>0</td><td>0</td><td>0</td><td>0</td><td>0</td><td>0</td><td>0</td><td>0</td><td>0</td><td>0</td><td>130.05856537833105</td><td>17.531232321212844</td><td>6</td><td>6083.957</td><td>2</td><td>1</td><td>0.00016666666</td><td>0.0035355338</td><td>0.004</td><td>0.00728011</td><td>130.05856660640828</td><td>0.054458056</td><td>17.531217581509168</td><td>0.08056586</td><td>0.79282737</td><td>838.01807</td><td>0.37812713</td><td>162.1969</td><td>224.93254</td><td>2270.6106</td><td>1179.934</td><td>9.78037</td><td>4.265371</td><td>48212.34</td><td>110.78269</td><td>8771.71</td><td>0.15433152</td><td>9708.311</td><td>54312.4</td><td>32.144497</td><td>157.48627</td><td>9.274004e-05</td><td>350.42233</td><td>1.7571028e-05</td><td>0.0</td><td>16731.053</td><td>0.000120940604</td><td>73.181114</td><td>168.42615</td><td>49050.36</td><td>461.58316</td><td>8933.907</td><td>225.08687</td><td>28709.973</td><td>55492.332</td><td>115.10598</td><td>330.1778</td><td>1</td><td>True</td><td>1</td><td>True</td></tr>\n",
       "<tr><td>616088955888075294</td><td>sv1</td><td>dark</td><td>4678</td><td>4678</td><td>1.1850717543234899</td><td>0.00012099892659602426</td><td>5</td><td>9967.201849669218</td><td>50.909787740279086 .. 3.8295450063782788</td><td>7928</td><td>GALAXY</td><td>--</td><td>10</td><td>0.14683236181735992</td><td>0</td><td>130.15603040690792</td><td>17.48482579655608</td><td>0.0</td><td>0.0</td><td>0.0</td><td>4294967296</td><td>4</td><td>SKY</td><td>0.9302142935109924</td><td>63</td><td>9010</td><td>1301p175</td><td>430231</td><td>542</td><td>--</td><td>0.0</td><td>0.0</td><td>0.0</td><td>0.0</td><td>0.0</td><td>0.0</td><td>0.0</td><td>0.0</td><td>0.0</td><td>0.0</td><td>0.0</td><td>-0.015337982</td><td>-0.030368252</td><td>0.0032338733</td><td>0.0</td><td>0.0</td><td>0.0</td><td>0</td><td>0.0</td><td>0.0</td><td>0.0</td><td>0.0</td><td>0</td><td>--</td><td>0.0</td><td>0.0</td><td>0.0</td><td>0.0</td><td>--</td><td>-1</td><td>-1</td><td>0</td><td>4294967296</td><td>0</td><td>0</td><td>0</td><td>0</td><td>0</td><td>0</td><td>0</td><td>0</td><td>0</td><td>0</td><td>0</td><td>0</td><td>0</td><td>0</td><td>0</td><td>130.15603040690792</td><td>17.48482579655608</td><td>6</td><td>6083.957</td><td>2</td><td>1</td><td>0.00083333335</td><td>0.0036285901</td><td>0.004833333</td><td>0.008495097</td><td>130.1560344021976</td><td>0.052982412</td><td>17.48480803279253</td><td>0.09156205</td><td>0.79292303</td><td>719.8701</td><td>0.32131657</td><td>140.22623</td><td>188.55984</td><td>1949.1442</td><td>1028.851</td><td>8.275159</td><td>3.6515303</td><td>42488.426</td><td>97.30304</td><td>7784.8193</td><td>0.13403125</td><td>8605.96</td><td>48588.043</td><td>28.17709</td><td>138.59485</td><td>8.3062034e-05</td><td>314.94653</td><td>1.5824187e-05</td><td>0.0</td><td>15221.525</td><td>0.00010953946</td><td>65.72904</td><td>151.90207</td><td>43208.297</td><td>412.5709</td><td>7925.0454</td><td>188.69388</td><td>25776.629</td><td>49616.895</td><td>102.18129</td><td>294.14844</td><td>1</td><td>True</td><td>1</td><td>True</td></tr>\n",
       "<tr><td>39628203584653535</td><td>sv1</td><td>dark</td><td>4678</td><td>4678</td><td>0.8648603590804956</td><td>8.080291294935325e-06</td><td>0</td><td>10053.818264007568</td><td>53.24916310635228 .. -0.0215038345118785</td><td>7929</td><td>GALAXY</td><td>--</td><td>10</td><td>2466.506807923317</td><td>0</td><td>130.1317216199561</td><td>17.509597177198064</td><td>0.0</td><td>0.0</td><td>2021.1047</td><td>4123168608002</td><td>1</td><td>TGT</td><td>0.8405902417573833</td><td>3</td><td>9010</td><td>1301p175</td><td>430231</td><td>2271</td><td>REX</td><td>0.024614336</td><td>0.57915515</td><td>0.9043345</td><td>1.8013848</td><td>3.7645984</td><td>1.3448977</td><td>2232.5605</td><td>535.69055</td><td>105.3732</td><td>2.8961306</td><td>0.6142666</td><td>0.39465874</td><td>0.6162485</td><td>1.2275333</td><td>0.39465874</td><td>0.6162485</td><td>1.2275333</td><td>0</td><td>1.0</td><td>0.25267783</td><td>0.0</td><td>0.0</td><td>0</td><td>--</td><td>0.0</td><td>0.0</td><td>0.0</td><td>0.0</td><td>S</td><td>3000</td><td>1</td><td>0</td><td>0</td><td>0</td><td>0</td><td>0</td><td>4123168608002</td><td>0</td><td>0</td><td>0</td><td>0</td><td>0</td><td>0</td><td>0</td><td>0</td><td>0</td><td>0</td><td>0</td><td>130.1317216199561</td><td>17.509597177198064</td><td>6</td><td>6083.957</td><td>2</td><td>1</td><td>0.0015</td><td>0.003719319</td><td>0.0046666665</td><td>0.007094599</td><td>130.13172834524593</td><td>0.05284217</td><td>17.509579909810512</td><td>0.07073794</td><td>0.78174555</td><td>599.517</td><td>0.2628378</td><td>116.731125</td><td>152.37979</td><td>1596.7507</td><td>865.1698</td><td>6.792994</td><td>3.017362</td><td>36369.406</td><td>84.067154</td><td>6672.251</td><td>0.1155953</td><td>7378.487</td><td>42176.16</td><td>24.331932</td><td>119.30579</td><td>7.1336246e-05</td><td>277.52332</td><td>1.359736e-05</td><td>0.0</td><td>13343.748</td><td>9.528698e-05</td><td>57.94779</td><td>133.33424</td><td>36968.92</td><td>361.8533</td><td>6788.982</td><td>152.49539</td><td>22318.984</td><td>43041.33</td><td>89.072716</td><td>255.65741</td><td>1</td><td>True</td><td>1</td><td>True</td></tr>\n",
       "<tr><td>39628203584652933</td><td>sv1</td><td>dark</td><td>4678</td><td>4678</td><td>0.7201800648516476</td><td>1.4131667905041306e-05</td><td>0</td><td>9952.759631156921</td><td>46.25085426336926 .. 3.73237336643538</td><td>7927</td><td>GALAXY</td><td>--</td><td>10</td><td>2394.3079805374146</td><td>0</td><td>130.10289867841567</td><td>17.501424737077066</td><td>0.0</td><td>0.0</td><td>2021.1047</td><td>549755814402</td><td>1</td><td>TGT</td><td>0.6460613920339683</td><td>3</td><td>9010</td><td>1301p175</td><td>430231</td><td>1669</td><td>PSF</td><td>0.02479877</td><td>0.25925118</td><td>0.418049</td><td>0.69416803</td><td>-0.13433395</td><td>-0.63535523</td><td>2007.7062</td><td>304.11926</td><td>111.49875</td><td>2.9837656</td><td>0.60367113</td><td>0.20189196</td><td>0.32555583</td><td>0.5405836</td><td>0.20189196</td><td>0.32555583</td><td>0.5405836</td><td>0</td><td>0.0</td><td>0.0</td><td>0.0</td><td>0.0</td><td>0</td><td>--</td><td>0.0</td><td>0.0</td><td>0.0</td><td>0.0</td><td>S</td><td>3000</td><td>1</td><td>0</td><td>0</td><td>0</td><td>0</td><td>0</td><td>549755814402</td><td>0</td><td>0</td><td>0</td><td>0</td><td>0</td><td>0</td><td>0</td><td>0</td><td>0</td><td>0</td><td>0</td><td>130.10289867841567</td><td>17.501424737077066</td><td>6</td><td>6083.957</td><td>2</td><td>1</td><td>0.002</td><td>0.004320494</td><td>0.0038333333</td><td>0.0072915475</td><td>130.10290735863035</td><td>0.059837203</td><td>17.501410507894704</td><td>0.08214242</td><td>0.789</td><td>697.2799</td><td>0.3011133</td><td>135.27417</td><td>171.51378</td><td>1821.2661</td><td>985.6434</td><td>7.7567964</td><td>3.483594</td><td>40783.605</td><td>94.96871</td><td>7452.536</td><td>0.12744217</td><td>8240.905</td><td>46419.348</td><td>27.360224</td><td>134.66008</td><td>7.851343e-05</td><td>311.61697</td><td>1.4934453e-05</td><td>0.0</td><td>14828.373</td><td>0.00010337232</td><td>64.7851</td><td>148.80664</td><td>41480.887</td><td>406.8868</td><td>7587.8105</td><td>171.64122</td><td>24890.545</td><td>47404.992</td><td>99.90212</td><td>286.95032</td><td>1</td><td>True</td><td>1</td><td>True</td></tr>\n",
       "<tr><td>39628203601429480</td><td>sv1</td><td>dark</td><td>4679</td><td>4679</td><td>0.8678521258091917</td><td>2.3602948579915343e-05</td><td>0</td><td>9166.772106647491</td><td>34.93190182161047 .. 1.2871570000018053</td><td>7928</td><td>GALAXY</td><td>--</td><td>10</td><td>292.9305745959282</td><td>0</td><td>131.1229166631179</td><td>17.569398423529734</td><td>0.0</td><td>0.0</td><td>2021.1047</td><td>1374389536002</td><td>1</td><td>TGT</td><td>0.9677962392925378</td><td>3</td><td>9010</td><td>1312p175</td><td>430235</td><td>1000</td><td>REX</td><td>0.021890083</td><td>0.60924965</td><td>1.1586366</td><td>2.3454869</td><td>5.5327435</td><td>-4.109396</td><td>499.9467</td><td>184.53479</td><td>26.282192</td><td>2.5758998</td><td>0.5907539</td><td>0.1797631</td><td>0.3418633</td><td>0.69205123</td><td>0.18527094</td><td>0.34799802</td><td>0.7079436</td><td>0</td><td>1.0</td><td>0.95753205</td><td>0.0</td><td>0.0</td><td>0</td><td>--</td><td>0.0</td><td>0.0</td><td>0.0</td><td>0.0</td><td>S</td><td>3000</td><td>1</td><td>0</td><td>0</td><td>0</td><td>0</td><td>0</td><td>1374389536002</td><td>0</td><td>0</td><td>0</td><td>0</td><td>0</td><td>0</td><td>0</td><td>0</td><td>0</td><td>0</td><td>0</td><td>131.1229166631179</td><td>17.569398423529734</td><td>6</td><td>6083.957</td><td>2</td><td>1</td><td>0.0046666665</td><td>0.00591608</td><td>0.0046666665</td><td>0.0056568542</td><td>131.12293562923335</td><td>0.056859072</td><td>17.569381396752643</td><td>0.04278257</td><td>0.74614966</td><td>754.7976</td><td>0.5135654</td><td>141.86392</td><td>501.311</td><td>2588.851</td><td>969.569</td><td>13.740902</td><td>4.149457</td><td>45909.08</td><td>103.87254</td><td>8310.927</td><td>0.16481118</td><td>9572.236</td><td>51791.94</td><td>31.11982</td><td>149.37576</td><td>6.637621e-05</td><td>364.79938</td><td>1.2549593e-05</td><td>0.0</td><td>15612.164</td><td>8.763685e-05</td><td>73.790855</td><td>165.21295</td><td>46663.875</td><td>469.1855</td><td>8452.791</td><td>501.47583</td><td>27773.252</td><td>52761.51</td><td>118.65158</td><td>318.73816</td><td>1</td><td>True</td><td>1</td><td>True</td></tr>\n",
       "<tr><td>...</td><td>...</td><td>...</td><td>...</td><td>...</td><td>...</td><td>...</td><td>...</td><td>...</td><td>...</td><td>...</td><td>...</td><td>...</td><td>...</td><td>...</td><td>...</td><td>...</td><td>...</td><td>...</td><td>...</td><td>...</td><td>...</td><td>...</td><td>...</td><td>...</td><td>...</td><td>...</td><td>...</td><td>...</td><td>...</td><td>...</td><td>...</td><td>...</td><td>...</td><td>...</td><td>...</td><td>...</td><td>...</td><td>...</td><td>...</td><td>...</td><td>...</td><td>...</td><td>...</td><td>...</td><td>...</td><td>...</td><td>...</td><td>...</td><td>...</td><td>...</td><td>...</td><td>...</td><td>...</td><td>...</td><td>...</td><td>...</td><td>...</td><td>...</td><td>...</td><td>...</td><td>...</td><td>...</td><td>...</td><td>...</td><td>...</td><td>...</td><td>...</td><td>...</td><td>...</td><td>...</td><td>...</td><td>...</td><td>...</td><td>...</td><td>...</td><td>...</td><td>...</td><td>...</td><td>...</td><td>...</td><td>...</td><td>...</td><td>...</td><td>...</td><td>...</td><td>...</td><td>...</td><td>...</td><td>...</td><td>...</td><td>...</td><td>...</td><td>...</td><td>...</td><td>...</td><td>...</td><td>...</td><td>...</td><td>...</td><td>...</td><td>...</td><td>...</td><td>...</td><td>...</td><td>...</td><td>...</td><td>...</td><td>...</td><td>...</td><td>...</td><td>...</td><td>...</td><td>...</td><td>...</td><td>...</td><td>...</td><td>...</td><td>...</td><td>...</td><td>...</td><td>...</td><td>...</td><td>...</td><td>...</td><td>...</td><td>...</td><td>...</td><td>...</td><td>...</td></tr>\n",
       "<tr><td>616089190890733816</td><td>sv3</td><td>dark</td><td>28151</td><td>28151</td><td>-0.0019956912923479522</td><td>4.1311493573349107e-48</td><td>1571</td><td>8.999999999999996e+99</td><td>0.0 .. 0.0</td><td>0</td><td>STAR</td><td>CV</td><td>3</td><td>1.942668892225729e+84</td><td>520</td><td>192.9743097402314</td><td>27.92284242194057</td><td>0.0</td><td>0.0</td><td>0.0</td><td>4294967296</td><td>4</td><td>SKY</td><td>0.8919590844415274</td><td>63</td><td>9010</td><td>1928p280</td><td>486260</td><td>248</td><td>--</td><td>0.0</td><td>0.0</td><td>0.0</td><td>0.0</td><td>0.0</td><td>0.0</td><td>0.0</td><td>0.0</td><td>0.0</td><td>0.0</td><td>0.0</td><td>-0.00818547</td><td>0.011869284</td><td>0.06846208</td><td>0.0</td><td>0.0</td><td>0.0</td><td>0</td><td>0.0</td><td>0.0</td><td>0.0</td><td>0.0</td><td>0</td><td>--</td><td>0.0</td><td>0.0</td><td>0.0</td><td>0.0</td><td>--</td><td>-1</td><td>-1</td><td>0</td><td>4294967296</td><td>0</td><td>0</td><td>0</td><td>0</td><td>0</td><td>0</td><td>0</td><td>0</td><td>0</td><td>0</td><td>0</td><td>0</td><td>0</td><td>0</td><td>0</td><td>192.9743097402314</td><td>27.92284242194057</td><td>0</td><td>0.0</td><td>0</td><td>0</td><td>1.525</td><td>1.525</td><td>-0.12</td><td>0.12</td><td>192.98067672462773</td><td>0.0</td><td>27.92329560218124</td><td>0.0</td><td>0.0</td><td>603.8938</td><td>0.3557932</td><td>529.14496</td><td>163.41064</td><td>8522.37</td><td>348.8543</td><td>4.8224454</td><td>9.716128</td><td>15551.864</td><td>43.705643</td><td>13718.321</td><td>0.020822918</td><td>13490.766</td><td>9337.291</td><td>5.659774</td><td>173.70543</td><td>6.5053355e-05</td><td>199.61974</td><td>5.698927e-05</td><td>0.0</td><td>42026.77</td><td>3.7870755e-05</td><td>20.975582</td><td>284.9361</td><td>16155.758</td><td>243.68117</td><td>14247.466</td><td>163.43147</td><td>64039.906</td><td>9686.1455</td><td>31.457802</td><td>468.35767</td><td>1</td><td>True</td><td>1</td><td>True</td></tr>\n",
       "<tr><td>39628438591507446</td><td>sv3</td><td>dark</td><td>28151</td><td>28151</td><td>1.6188228983294508</td><td>5.6934699935663317e-05</td><td>0</td><td>7775.133660554886</td><td>87.16992597125748 .. 6.1170491500433375</td><td>7925</td><td>GALAXY</td><td>--</td><td>10</td><td>44.30346751213074</td><td>0</td><td>193.13822909698175</td><td>28.02570143373259</td><td>0.0</td><td>0.0</td><td>2015.5</td><td>1179714</td><td>1</td><td>TGT</td><td>0.8113519519399416</td><td>1</td><td>9010</td><td>1931p280</td><td>486261</td><td>3062</td><td>REX</td><td>0.0101265535</td><td>0.6643662</td><td>0.7417794</td><td>0.9119717</td><td>2.2341526</td><td>1.2215959</td><td>1236.1249</td><td>453.7157</td><td>117.95439</td><td>4.12137</td><td>0.8988666</td><td>0.45014453</td><td>0.50259626</td><td>0.61791086</td><td>0.45014453</td><td>0.50259626</td><td>0.61791086</td><td>0</td><td>1.0</td><td>0.25930887</td><td>0.0</td><td>0.0</td><td>0</td><td>--</td><td>0.0</td><td>0.0</td><td>0.0</td><td>0.0</td><td>S</td><td>103100</td><td>9</td><td>0</td><td>0</td><td>0</td><td>0</td><td>0</td><td>0</td><td>0</td><td>0</td><td>0</td><td>0</td><td>0</td><td>0</td><td>0</td><td>1179714</td><td>0</td><td>0</td><td>0</td><td>193.13822909698175</td><td>28.02570143373259</td><td>2</td><td>1892.0006</td><td>2</td><td>2</td><td>-0.006</td><td>0.0060827625</td><td>0.0085</td><td>0.008860023</td><td>193.1382046980435</td><td>0.014671117</td><td>28.025667827778584</td><td>0.034781955</td><td>0.78162134</td><td>719.4554</td><td>0.3710176</td><td>128.08931</td><td>300.87546</td><td>1871.191</td><td>761.88727</td><td>9.778713</td><td>3.6277559</td><td>23354.014</td><td>54.84923</td><td>4096.6216</td><td>0.07251317</td><td>4393.127</td><td>23841.324</td><td>15.520684</td><td>76.590836</td><td>7.437796e-05</td><td>224.73581</td><td>1.3296851e-05</td><td>0.0</td><td>10047.171</td><td>8.0735896e-05</td><td>46.97744</td><td>108.24165</td><td>24073.469</td><td>279.95605</td><td>4224.711</td><td>300.94797</td><td>16311.488</td><td>24603.21</td><td>72.27684</td><td>188.46024</td><td>1</td><td>True</td><td>1</td><td>True</td></tr>\n",
       "<tr><td>39628438587314447</td><td>sv3</td><td>dark</td><td>28151</td><td>28151</td><td>0.7914074822009156</td><td>9.9305006387205e-05</td><td>0</td><td>7917.61648952961</td><td>0.00047362460660000554 .. 0.0</td><td>7840</td><td>QSO</td><td>--</td><td>4</td><td>571.8984959721565</td><td>0</td><td>192.92072660376581</td><td>28.06496673406025</td><td>0.0</td><td>0.0</td><td>2015.5</td><td>262148</td><td>1</td><td>TGT</td><td>0.15958925514114475</td><td>1</td><td>9010</td><td>1928p280</td><td>486260</td><td>4367</td><td>PSF</td><td>0.01056724</td><td>2.6817045</td><td>3.0504844</td><td>3.2640734</td><td>9.299197</td><td>7.651994</td><td>1195.0492</td><td>469.5998</td><td>204.62729</td><td>3.6732147</td><td>0.8535289</td><td>2.0834358</td><td>2.3699434</td><td>2.5358822</td><td>2.0834358</td><td>2.3699434</td><td>2.5358822</td><td>0</td><td>0.0</td><td>0.0</td><td>0.0</td><td>0.0</td><td>0</td><td>--</td><td>0.0</td><td>0.0</td><td>0.0</td><td>0.0</td><td>S</td><td>103400</td><td>4</td><td>0</td><td>0</td><td>0</td><td>0</td><td>0</td><td>0</td><td>0</td><td>0</td><td>0</td><td>0</td><td>0</td><td>0</td><td>0</td><td>262148</td><td>0</td><td>0</td><td>0</td><td>192.92072660376581</td><td>28.06496673406025</td><td>1</td><td>1033.5431</td><td>1</td><td>1</td><td>0.001</td><td>0.001</td><td>-0.003</td><td>0.003</td><td>192.92073045611383</td><td>0.0</td><td>28.06497860326054</td><td>0.0</td><td>0.789</td><td>368.9465</td><td>0.21618271</td><td>65.81862</td><td>193.75592</td><td>1051.5754</td><td>396.38004</td><td>5.740284</td><td>1.9471266</td><td>9809.076</td><td>27.06611</td><td>1762.2003</td><td>0.025902253</td><td>1734.4845</td><td>10980.005</td><td>6.8917522</td><td>35.557983</td><td>3.9815393e-05</td><td>124.425766</td><td>7.1089494e-06</td><td>0.0</td><td>5304.5083</td><td>4.331348e-05</td><td>25.610594</td><td>58.468994</td><td>10178.022</td><td>151.70805</td><td>1828.0189</td><td>193.78183</td><td>8090.5684</td><td>11376.385</td><td>38.24263</td><td>95.974106</td><td>1</td><td>True</td><td>1</td><td>True</td></tr>\n",
       "<tr><td>39628438587314411</td><td>sv3</td><td>dark</td><td>28151</td><td>28151</td><td>0.8065244397752959</td><td>6.135224108888501e-05</td><td>0</td><td>7810.633660972118</td><td>0.0004714977765576881 .. 0.0</td><td>7845</td><td>QSO</td><td>--</td><td>4</td><td>836.0214835703373</td><td>0</td><td>192.91985975074007</td><td>28.024179814831857</td><td>0.0</td><td>0.0</td><td>2015.5</td><td>4611686018428829766</td><td>1</td><td>TGT</td><td>0.027015926927710043</td><td>63</td><td>9010</td><td>1928p280</td><td>486260</td><td>4331</td><td>PSF</td><td>0.010889552</td><td>2.7684705</td><td>3.0123773</td><td>3.908153</td><td>11.7156</td><td>15.545705</td><td>1206.7393</td><td>471.6878</td><td>202.52179</td><td>2.9173653</td><td>0.7450885</td><td>2.156117</td><td>2.3460743</td><td>3.0437148</td><td>2.15696</td><td>2.3485167</td><td>3.0485187</td><td>0</td><td>0.0</td><td>0.0</td><td>0.0</td><td>0.0</td><td>0</td><td>--</td><td>0.0</td><td>0.0</td><td>0.0</td><td>0.0</td><td>S</td><td>103400</td><td>9</td><td>0</td><td>0</td><td>0</td><td>0</td><td>0</td><td>0</td><td>0</td><td>0</td><td>0</td><td>0</td><td>0</td><td>0</td><td>0</td><td>4611686018428829766</td><td>0</td><td>0</td><td>34426847232</td><td>192.91985975074007</td><td>28.024179814831857</td><td>1</td><td>1033.5431</td><td>1</td><td>1</td><td>-0.002</td><td>0.002</td><td>-0.002</td><td>0.002</td><td>192.9198512070148</td><td>0.0</td><td>28.024187701957914</td><td>0.0</td><td>0.789</td><td>367.7937</td><td>0.21595891</td><td>65.62036</td><td>193.77979</td><td>1049.1973</td><td>395.04214</td><td>5.7367263</td><td>1.9476643</td><td>9676.288</td><td>26.71453</td><td>1740.7294</td><td>0.025708731</td><td>1723.9392</td><td>10871.654</td><td>6.8121424</td><td>35.11808</td><td>3.927086e-05</td><td>122.964386</td><td>7.018228e-06</td><td>0.0</td><td>5275.273</td><td>4.2822972e-05</td><td>25.347729</td><td>57.869877</td><td>10044.082</td><td>149.89488</td><td>1806.3497</td><td>193.8055</td><td>8048.409</td><td>11266.696</td><td>37.8966</td><td>94.93562</td><td>2</td><td>False</td><td>2</td><td>False</td></tr>\n",
       "<tr><td>39628438587313503</td><td>sv3</td><td>dark</td><td>28151</td><td>28151</td><td>2.034874026533031</td><td>0.0005034853872552341</td><td>0</td><td>8004.65232068859</td><td>9.697094756164827e-05 .. 0.0</td><td>7838</td><td>QSO</td><td>--</td><td>4</td><td>162.76084442064166</td><td>0</td><td>192.87279974173254</td><td>28.058765289587107</td><td>0.0</td><td>0.0</td><td>2015.5</td><td>262148</td><td>1</td><td>TGT</td><td>0.661980766142358</td><td>1</td><td>9010</td><td>1928p280</td><td>486260</td><td>3423</td><td>PSF</td><td>0.010535352</td><td>1.2623484</td><td>1.530674</td><td>1.7497264</td><td>7.132623</td><td>11.54818</td><td>1422.0181</td><td>521.13434</td><td>208.83238</td><td>3.1153421</td><td>0.7451472</td><td>0.98256874</td><td>1.1914241</td><td>1.3619272</td><td>0.98628396</td><td>1.2005963</td><td>1.3789375</td><td>0</td><td>0.0</td><td>0.0</td><td>0.0</td><td>0.0</td><td>0</td><td>--</td><td>0.0</td><td>0.0</td><td>0.0</td><td>0.0</td><td>S</td><td>103400</td><td>4</td><td>0</td><td>0</td><td>0</td><td>0</td><td>0</td><td>0</td><td>0</td><td>0</td><td>0</td><td>0</td><td>0</td><td>0</td><td>0</td><td>262148</td><td>0</td><td>0</td><td>0</td><td>192.87279974173254</td><td>28.058765289587107</td><td>1</td><td>1033.5431</td><td>1</td><td>1</td><td>0.002</td><td>0.002</td><td>-0.001</td><td>0.001</td><td>192.87280790336052</td><td>0.0</td><td>28.0587692549433</td><td>0.0</td><td>0.789</td><td>316.99673</td><td>0.18109576</td><td>56.86232</td><td>154.54852</td><td>901.2779</td><td>345.06064</td><td>4.7909136</td><td>1.6933364</td><td>8875.323</td><td>24.754282</td><td>1599.0463</td><td>0.022909185</td><td>1567.0062</td><td>9987.043</td><td>6.251252</td><td>32.414864</td><td>3.773731e-05</td><td>118.77465</td><td>6.740256e-06</td><td>0.0</td><td>5106.8604</td><td>4.0898063e-05</td><td>24.507788</td><td>56.069145</td><td>9192.32</td><td>143.71002</td><td>1655.9086</td><td>154.57143</td><td>7575.1445</td><td>10332.104</td><td>35.549953</td><td>90.177345</td><td>1</td><td>True</td><td>1</td><td>True</td></tr>\n",
       "<tr><td>39628438587315309</td><td>sv3</td><td>dark</td><td>28151</td><td>28151</td><td>0.7345595602297358</td><td>1.8362228685822765e-05</td><td>0</td><td>7537.196232795715</td><td>50.39080785805784 .. 1.8141969193432412</td><td>7812</td><td>GALAXY</td><td>--</td><td>10</td><td>231.45719400048256</td><td>0</td><td>192.96255536545036</td><td>27.96169960814808</td><td>0.0</td><td>0.0</td><td>2015.5</td><td>655394</td><td>1</td><td>TGT</td><td>0.7434743198646103</td><td>1</td><td>9010</td><td>1928p280</td><td>486260</td><td>5229</td><td>REX</td><td>0.01087526</td><td>0.3718169</td><td>0.5554453</td><td>1.2721419</td><td>1.3308502</td><td>-2.1810644</td><td>1437.6027</td><td>483.93744</td><td>160.07535</td><td>4.060625</td><td>0.8599262</td><td>0.23120162</td><td>0.34538466</td><td>0.791038</td><td>0.23120162</td><td>0.34538466</td><td>0.791038</td><td>0</td><td>1.0</td><td>0.34113547</td><td>0.0</td><td>0.0</td><td>0</td><td>--</td><td>0.0</td><td>0.0</td><td>0.0</td><td>0.0</td><td>S</td><td>103000</td><td>9</td><td>0</td><td>0</td><td>0</td><td>0</td><td>0</td><td>0</td><td>0</td><td>0</td><td>0</td><td>0</td><td>0</td><td>0</td><td>0</td><td>655394</td><td>0</td><td>0</td><td>0</td><td>192.96255536545036</td><td>27.96169960814808</td><td>1</td><td>1033.5431</td><td>1</td><td>1</td><td>0.004</td><td>0.004</td><td>0.002</td><td>0.002</td><td>192.9625723251056</td><td>0.0</td><td>27.961691682470367</td><td>0.0</td><td>0.77816075</td><td>394.58755</td><td>0.23224962</td><td>70.079384</td><td>208.43237</td><td>1121.5143</td><td>418.2203</td><td>6.1679473</td><td>2.0971804</td><td>10237.346</td><td>28.306454</td><td>1833.547</td><td>0.027541313</td><td>1815.7234</td><td>11356.391</td><td>7.2007165</td><td>37.156948</td><td>4.1948046e-05</td><td>129.16806</td><td>7.468582e-06</td><td>0.0</td><td>5540.653</td><td>4.5266646e-05</td><td>26.673681</td><td>60.85678</td><td>10631.934</td><td>157.70676</td><td>1903.6263</td><td>208.45992</td><td>8477.891</td><td>11774.611</td><td>40.042343</td><td>100.11091</td><td>1</td><td>True</td><td>1</td><td>True</td></tr>\n",
       "<tr><td>-1193332</td><td>sv3</td><td>dark</td><td>28151</td><td>28151</td><td>-0.0019956912923479522</td><td>4.1311493573349107e-48</td><td>1570</td><td>8.999999999999996e+99</td><td>0.0 .. 0.0</td><td>0</td><td>STAR</td><td>CV</td><td>3</td><td>1.942668892225729e+84</td><td>515</td><td>193.1904043900987</td><td>28.110882424021103</td><td>0.0</td><td>0.0</td><td>0.0</td><td>0</td><td>0</td><td>--</td><td>0.0</td><td>0</td><td>0</td><td>--</td><td>0</td><td>0</td><td>--</td><td>0.0</td><td>0.0</td><td>0.0</td><td>0.0</td><td>0.0</td><td>0.0</td><td>0.0</td><td>0.0</td><td>0.0</td><td>0.0</td><td>0.0</td><td>0.0</td><td>0.0</td><td>0.0</td><td>0.0</td><td>0.0</td><td>0.0</td><td>0</td><td>0.0</td><td>0.0</td><td>0.0</td><td>0.0</td><td>0</td><td>--</td><td>0.0</td><td>0.0</td><td>0.0</td><td>0.0</td><td>--</td><td>0</td><td>0</td><td>0</td><td>0</td><td>0</td><td>0</td><td>0</td><td>0</td><td>0</td><td>0</td><td>0</td><td>0</td><td>0</td><td>0</td><td>0</td><td>0</td><td>0</td><td>0</td><td>0</td><td>193.1904043900987</td><td>28.110882424021103</td><td>0</td><td>0.0</td><td>0</td><td>0</td><td>0.945</td><td>0.945</td><td>-0.14</td><td>0.14</td><td>193.1943846370905</td><td>0.0</td><td>28.111487487305478</td><td>0.0</td><td>0.0</td><td>361.531</td><td>0.2771026</td><td>323.2895</td><td>97.612335</td><td>7046.8887</td><td>224.75014</td><td>3.74182</td><td>8.85674</td><td>27975.42</td><td>57.612293</td><td>23072.451</td><td>0.081764676</td><td>26392.102</td><td>13369.939</td><td>9.1179905</td><td>254.19821</td><td>6.308911e-05</td><td>190.32076</td><td>5.4463962e-05</td><td>0.0</td><td>43685.09</td><td>3.5023408e-05</td><td>20.898521</td><td>287.06207</td><td>28336.951</td><td>248.21014</td><td>23395.74</td><td>97.6941</td><td>77124.08</td><td>13594.689</td><td>33.75833</td><td>550.11707</td><td>1</td><td>True</td><td>1</td><td>True</td></tr>\n",
       "</table></div>"
      ],
      "text/plain": [
       "<Table length=1237844>\n",
       "     TARGETID      SURVEY PROGRAM ... SV_PRIMARY ZCAT_NSPEC ZCAT_PRIMARY\n",
       "      int64         str7    str6  ...    bool      int64        bool    \n",
       "------------------ ------ ------- ... ---------- ---------- ------------\n",
       " 39628203584653060    sv1    dark ...       True          1         True\n",
       "616088955888075517    sv1    dark ...       True          1         True\n",
       "616088955888075294    sv1    dark ...       True          1         True\n",
       " 39628203584653535    sv1    dark ...       True          1         True\n",
       " 39628203584652933    sv1    dark ...       True          1         True\n",
       " 39628203601429480    sv1    dark ...       True          1         True\n",
       "               ...    ...     ... ...        ...        ...          ...\n",
       "616089190890733816    sv3    dark ...       True          1         True\n",
       " 39628438591507446    sv3    dark ...       True          1         True\n",
       " 39628438587314447    sv3    dark ...       True          1         True\n",
       " 39628438587314411    sv3    dark ...      False          2        False\n",
       " 39628438587313503    sv3    dark ...       True          1         True\n",
       " 39628438587315309    sv3    dark ...       True          1         True\n",
       "          -1193332    sv3    dark ...       True          1         True"
      ]
     },
     "execution_count": 8,
     "metadata": {},
     "output_type": "execute_result"
    }
   ],
   "source": [
    "cor_cat = Table.read(fits.open('/home/colgoat/spc_DESIedr/zall-pix-fuji.fits')[1])\n",
    "cor_cat[(cor_cat['PROGRAM']=='dark') & ((cor_cat['SURVEY']=='sv1') | (cor_cat['SURVEY']=='sv3'))]"
   ]
  },
  {
   "cell_type": "code",
   "execution_count": null,
   "id": "d40c3fa6",
   "metadata": {},
   "outputs": [],
   "source": []
  },
  {
   "cell_type": "code",
   "execution_count": null,
   "id": "1a4e35fd",
   "metadata": {},
   "outputs": [],
   "source": []
  },
  {
   "cell_type": "code",
   "execution_count": null,
   "id": "186f539b",
   "metadata": {},
   "outputs": [],
   "source": []
  },
  {
   "cell_type": "code",
   "execution_count": null,
   "id": "8832154c",
   "metadata": {},
   "outputs": [],
   "source": []
  },
  {
   "cell_type": "code",
   "execution_count": null,
   "id": "dd9b355e",
   "metadata": {},
   "outputs": [],
   "source": []
  },
  {
   "cell_type": "code",
   "execution_count": 94,
   "id": "15936cae",
   "metadata": {},
   "outputs": [],
   "source": [
    "from astropy.io import fits\n",
    "\n",
    "archivo = fits.open('/home/colgoat/spc_DESIedr/DESI_EDRcat_BM_1.0(sv13).fits')\n",
    "hdu = fits.BinTableHDU(EDRcat_stk)\n",
    "archivo[1] = hdu\n",
    "archivo.close()\n",
    "\n",
    "with fits.open('/home/colgoat/spc_DESIedr/DESI_EDRcat_BM_1.0(sv13).fits', mode='update') as passer:\n",
    "    passer[1] = hdu\n",
    "    hdr = passer[1].header\n",
    "    hdr['EXTNAME'] = 'CATALOG'\n",
    "    passer.flush()  # changes are written back to original.fits"
   ]
  },
  {
   "cell_type": "code",
   "execution_count": 95,
   "id": "e1ae696d",
   "metadata": {},
   "outputs": [
    {
     "data": {
      "text/html": [
       "<div><i>Table length=26763</i>\n",
       "<table id=\"table139702346060112\" class=\"table-striped table-bordered table-condensed\">\n",
       "<thead><tr><th>TARGETID</th><th>Z</th><th>ZERR</th><th>ZWARN</th><th>SPECTYPE</th><th>COADD_FIBERSTATUS</th><th>TARGET_RA</th><th>TARGET_DEC</th><th>MORPHTYPE</th><th>EBV</th><th>FLUX_G</th><th>FLUX_R</th><th>FLUX_Z</th><th>FLUX_W1</th><th>FLUX_W2</th><th>FLUX_IVAR_G</th><th>FLUX_IVAR_R</th><th>FLUX_IVAR_Z</th><th>FLUX_IVAR_W1</th><th>FLUX_IVAR_W2</th><th>MW_TRANSMISSION_G</th><th>MW_TRANSMISSION_R</th><th>MW_TRANSMISSION_Z</th><th>MW_TRANSMISSION_W1</th><th>MW_TRANSMISSION_W2</th><th>PROBA_RF</th><th>MASKBITS</th><th>SV1_DESI_TARGET</th><th>SV1_SCND_TARGET</th><th>DESI_TARGET</th><th>COADD_NUMEXP</th><th>COADD_EXPTIME</th><th>CMX_TARGET</th><th>SV2_DESI_TARGET</th><th>SV3_DESI_TARGET</th><th>SV2_SCND_TARGET</th><th>SV3_SCND_TARGET</th><th>SCND_TARGET</th><th>TSNR2_LYA</th><th>TSNR2_QSO</th><th>DELTA_CHI2_MGII</th><th>A_MGII</th><th>SIGMA_MGII</th><th>B_MGII</th><th>VAR_A_MGII</th><th>VAR_SIGMA_MGII</th><th>VAR_B_MGII</th><th>Z_RR</th><th>Z_QN</th><th>C_LYA</th><th>C_CIV</th><th>C_CIII</th><th>C_MgII</th><th>C_Hbeta</th><th>C_Halpha</th><th>Z_LYA</th><th>Z_CIV</th><th>Z_CIII</th><th>Z_MgII</th><th>Z_Hbeta</th><th>Z_Halpha</th><th>QSO_MASKBITS</th><th>HPXPIXEL</th><th>SURVEY</th><th>PROGRAM</th><th>PCA_COEFFS</th><th>PCA_CHI2</th><th>BAL_PROB</th><th>BI_CIV</th><th>ERR_BI_CIV</th><th>NCIV_2000</th><th>VMIN_CIV_2000</th><th>VMAX_CIV_2000</th><th>POSMIN_CIV_2000</th><th>FMIN_CIV_2000</th><th>AI_CIV</th><th>ERR_AI_CIV</th><th>NCIV_450</th><th>VMIN_CIV_450</th><th>VMAX_CIV_450</th><th>POSMIN_CIV_450</th><th>FMIN_CIV_450</th><th>BI_SIIV</th><th>ERR_BI_SIIV</th><th>NSIIV_2000</th><th>VMIN_SIIV_2000</th><th>VMAX_SIIV_2000</th><th>POSMIN_SIIV_2000</th><th>FMIN_SIIV_2000</th><th>AI_SIIV</th><th>ERR_AI_SIIV</th><th>NSIIV_450</th><th>VMIN_SIIV_450</th><th>VMAX_SIIV_450</th><th>POSMIN_SIIV_450</th><th>FMIN_SIIV_450</th><th>BALMASK</th><th>Z_MASK</th><th>ZERR_MASK</th><th>ZWARN_MASK</th><th>CHI2_MASK</th><th>DELTACHI2_MASK</th><th>SPECTYPE_MASK</th><th>SNR_CIV</th></tr></thead>\n",
       "<thead><tr><th></th><th></th><th></th><th></th><th></th><th></th><th>deg</th><th>deg</th><th></th><th>mag</th><th>nanomaggy</th><th>nanomaggy</th><th>nanomaggy</th><th>nanomaggy</th><th>nanomaggy</th><th>nanomaggy^-2</th><th>nanomaggy^-2</th><th>nanomaggy^-2</th><th>nanomaggy^-2</th><th>nanomaggy^-2</th><th></th><th></th><th></th><th></th><th></th><th></th><th></th><th></th><th></th><th></th><th></th><th></th><th></th><th></th><th></th><th></th><th></th><th></th><th></th><th></th><th></th><th></th><th></th><th></th><th></th><th></th><th></th><th></th><th></th><th></th><th></th><th></th><th></th><th></th><th></th><th></th><th></th><th></th><th></th><th></th><th></th><th></th><th></th><th></th><th></th><th></th><th></th><th></th><th>km / s</th><th>km / s</th><th></th><th>km / s</th><th>km / s</th><th>km / s</th><th></th><th>km / s</th><th>km / s</th><th></th><th>km / s</th><th>km / s</th><th>km / s</th><th></th><th>km / s</th><th>km / s</th><th></th><th>km / s</th><th>km / s</th><th>km / s</th><th></th><th>km / s</th><th>km / s</th><th></th><th>km / s</th><th>km / s</th><th>km / s</th><th></th><th></th><th></th><th></th><th></th><th></th><th></th><th></th><th></th></tr></thead>\n",
       "<thead><tr><th>int64</th><th>float64</th><th>float64</th><th>int64</th><th>bytes6</th><th>int32</th><th>float64</th><th>float64</th><th>bytes4</th><th>float32</th><th>float32</th><th>float32</th><th>float32</th><th>float32</th><th>float32</th><th>float32</th><th>float32</th><th>float32</th><th>float32</th><th>float32</th><th>float64</th><th>float64</th><th>float64</th><th>float64</th><th>float64</th><th>float64</th><th>int16</th><th>int64</th><th>int64</th><th>int64</th><th>int16</th><th>float32</th><th>int64</th><th>int64</th><th>int64</th><th>int64</th><th>int64</th><th>int64</th><th>float32</th><th>float32</th><th>float32</th><th>float32</th><th>float32</th><th>float32</th><th>float32</th><th>float32</th><th>float32</th><th>float32</th><th>float32</th><th>float32</th><th>float32</th><th>float32</th><th>float32</th><th>float32</th><th>float32</th><th>float32</th><th>float32</th><th>float32</th><th>float32</th><th>float32</th><th>float32</th><th>int32</th><th>int64</th><th>bytes3</th><th>bytes4</th><th>float32[5]</th><th>float32</th><th>float32</th><th>float32</th><th>float32</th><th>int32</th><th>float32[5]</th><th>float32[5]</th><th>float32[5]</th><th>float32[5]</th><th>float32</th><th>float32</th><th>int32</th><th>float32[17]</th><th>float32[17]</th><th>float32[17]</th><th>float32[17]</th><th>float32</th><th>float32</th><th>int32</th><th>float32[5]</th><th>float32[5]</th><th>float32[5]</th><th>float32[5]</th><th>float32</th><th>float32</th><th>int32</th><th>float32[17]</th><th>float32[17]</th><th>float32[17]</th><th>float32[17]</th><th>uint8</th><th>float64</th><th>float64</th><th>int64</th><th>float64</th><th>float64</th><th>bytes6</th><th>float64</th></tr></thead>\n",
       "<tr><td>39628215118992442</td><td>2.1837342473623393</td><td>0.00013626615461198534</td><td>0</td><td>QSO</td><td>0</td><td>130.64931448777944</td><td>17.92248565776863</td><td>PSF</td><td>0.023616284</td><td>3.5690012</td><td>3.1463985</td><td>4.338265</td><td>7.2705436</td><td>6.3402815</td><td>1239.8733</td><td>408.09125</td><td>75.880165</td><td>2.8767319</td><td>0.6142675</td><td>0.9239833775496703</td><td>0.9239833775496703</td><td>0.9239833775496703</td><td>0.9239833775496703</td><td>0.9239833775496703</td><td>0.9943965839147568</td><td>0</td><td>54047318697103110</td><td>0</td><td>0</td><td>6</td><td>6083.957</td><td>0</td><td>0</td><td>0</td><td>0</td><td>0</td><td>0</td><td>293.5955</td><td>112.386826</td><td>23.017323</td><td>0.21148743</td><td>-35.7064</td><td>0.68574977</td><td>0.0004154714</td><td>21.983559</td><td>0.0001771788</td><td>2.1837342</td><td>2.181272</td><td>1.0</td><td>0.8930895</td><td>0.9996561</td><td>0.9999963</td><td>2.249572e-05</td><td>1.7975288e-05</td><td>2.181272</td><td>2.1808524</td><td>2.188304</td><td>2.1916366</td><td>-0.19505365</td><td>-0.1221109</td><td>14</td><td>4679</td><td>sv1</td><td>dark</td><td>61.846046 .. 2.4299164</td><td>1.4206071</td><td>0.0</td><td>0.0</td><td>0.0</td><td>0</td><td>-1.0 .. -1.0</td><td>-1.0 .. -1.0</td><td>-1.0 .. -1.0</td><td>-1.0 .. -1.0</td><td>0.0</td><td>0.0</td><td>0</td><td>-1.0 .. -1.0</td><td>-1.0 .. -1.0</td><td>-1.0 .. -1.0</td><td>-1.0 .. -1.0</td><td>0.0</td><td>0.0</td><td>0</td><td>-1.0 .. -1.0</td><td>-1.0 .. -1.0</td><td>-1.0 .. -1.0</td><td>-1.0 .. -1.0</td><td>0.0</td><td>0.0</td><td>0</td><td>-1.0 .. -1.0</td><td>-1.0 .. -1.0</td><td>-1.0 .. -1.0</td><td>-1.0 .. -1.0</td><td>0</td><td>-1.0</td><td>-1.0</td><td>-1</td><td>-1.0</td><td>-1.0</td><td>-1</td><td>4.686259937194885</td></tr>\n",
       "<tr><td>39628209360211028</td><td>2.379998216697697</td><td>0.0001367309022860157</td><td>0</td><td>QSO</td><td>0</td><td>130.64326258132235</td><td>17.790880437347397</td><td>PSF</td><td>0.02099619</td><td>5.5868263</td><td>6.355662</td><td>8.894712</td><td>17.68829</td><td>29.616795</td><td>472.5694</td><td>231.43127</td><td>51.24521</td><td>2.6626232</td><td>0.5704455</td><td>0.9321236482870953</td><td>0.9321236482870953</td><td>0.9321236482870953</td><td>0.9321236482870953</td><td>0.9321236482870953</td><td>0.9981658909320831</td><td>0</td><td>4665733337124491014</td><td>34359869440</td><td>0</td><td>6</td><td>6083.957</td><td>0</td><td>0</td><td>0</td><td>0</td><td>0</td><td>0</td><td>299.52124</td><td>115.79789</td><td>252.642</td><td>0.8162872</td><td>27.105427</td><td>1.2413735</td><td>0.0011176108</td><td>1.7980521</td><td>0.0002412979</td><td>2.3799982</td><td>2.381573</td><td>0.9999887</td><td>0.99999917</td><td>0.99999946</td><td>0.9999993</td><td>3.1276253e-05</td><td>5.6267647e-05</td><td>2.3844068</td><td>2.3840988</td><td>2.381573</td><td>2.380935</td><td>0.3083418</td><td>-0.20571752</td><td>14</td><td>4679</td><td>sv1</td><td>dark</td><td>106.65552 .. -2.613535</td><td>1.7681665</td><td>0.0</td><td>0.0</td><td>0.0</td><td>0</td><td>-1.0 .. -1.0</td><td>-1.0 .. -1.0</td><td>-1.0 .. -1.0</td><td>-1.0 .. -1.0</td><td>0.0</td><td>0.0</td><td>0</td><td>-1.0 .. -1.0</td><td>-1.0 .. -1.0</td><td>-1.0 .. -1.0</td><td>-1.0 .. -1.0</td><td>0.0</td><td>0.0</td><td>0</td><td>-1.0 .. -1.0</td><td>-1.0 .. -1.0</td><td>-1.0 .. -1.0</td><td>-1.0 .. -1.0</td><td>0.0</td><td>0.0</td><td>0</td><td>-1.0 .. -1.0</td><td>-1.0 .. -1.0</td><td>-1.0 .. -1.0</td><td>-1.0 .. -1.0</td><td>0</td><td>-1.0</td><td>-1.0</td><td>-1</td><td>-1.0</td><td>-1.0</td><td>-1</td><td>8.752494914401394</td></tr>\n",
       "<tr><td>616088955892269587</td><td>2.5971315676669833</td><td>0.0009061007876880467</td><td>5</td><td>GALAXY</td><td>0</td><td>130.50800267936415</td><td>17.48771823413258</td><td>--</td><td>0.0</td><td>0.0</td><td>0.0</td><td>0.0</td><td>0.0</td><td>0.0</td><td>0.0</td><td>0.0</td><td>0.0</td><td>0.0</td><td>0.0</td><td>1.0</td><td>1.0</td><td>1.0</td><td>1.0</td><td>1.0</td><td>0.997675796508789</td><td>0</td><td>0</td><td>0</td><td>4294967296</td><td>6</td><td>6083.957</td><td>0</td><td>0</td><td>0</td><td>0</td><td>0</td><td>0</td><td>573.2433</td><td>131.74387</td><td>2.8584974</td><td>212.43936</td><td>20548.268</td><td>-212.46445</td><td>238150930000.0</td><td>557045350000000.0</td><td>238150930000.0</td><td>1.5130881</td><td>2.6257803</td><td>0.99792814</td><td>0.91791207</td><td>0.9980847</td><td>0.00012173784</td><td>0.00097000634</td><td>0.00031907175</td><td>2.5875</td><td>2.58788</td><td>2.6257803</td><td>2.487477</td><td>0.8058257</td><td>0.13870285</td><td>24</td><td>4679</td><td>sv1</td><td>dark</td><td>-0.57354563 .. 0.3004979</td><td>1.115602</td><td>0.0</td><td>0.0</td><td>0.0</td><td>0</td><td>-1.0 .. -1.0</td><td>-1.0 .. -1.0</td><td>-1.0 .. -1.0</td><td>-1.0 .. -1.0</td><td>0.0</td><td>0.0</td><td>0</td><td>-1.0 .. -1.0</td><td>-1.0 .. -1.0</td><td>-1.0 .. -1.0</td><td>-1.0 .. -1.0</td><td>0.0</td><td>0.0</td><td>0</td><td>-1.0 .. -1.0</td><td>-1.0 .. -1.0</td><td>-1.0 .. -1.0</td><td>-1.0 .. -1.0</td><td>0.0</td><td>0.0</td><td>0</td><td>-1.0 .. -1.0</td><td>-1.0 .. -1.0</td><td>-1.0 .. -1.0</td><td>-1.0 .. -1.0</td><td>0</td><td>-1.0</td><td>-1.0</td><td>-1</td><td>-1.0</td><td>-1.0</td><td>-1</td><td>0.4339465951321364</td></tr>\n",
       "<tr><td>39628203593041814</td><td>2.8079013224987324</td><td>0.0005989840812583594</td><td>4</td><td>QSO</td><td>0</td><td>130.65942014142595</td><td>17.404729615023136</td><td>REX</td><td>0.020429475</td><td>0.19399005</td><td>0.21637553</td><td>0.030013867</td><td>1.3414879</td><td>0.30725873</td><td>1269.2968</td><td>420.2752</td><td>70.0833</td><td>2.90216</td><td>0.62234944</td><td>0.9338937669565738</td><td>0.9338937669565738</td><td>0.9338937669565738</td><td>0.9338937669565738</td><td>0.9338937669565738</td><td>0.10944151792675257</td><td>0</td><td>549755814402</td><td>0</td><td>0</td><td>6</td><td>6083.957</td><td>0</td><td>0</td><td>0</td><td>0</td><td>0</td><td>0</td><td>422.2199</td><td>110.28888</td><td>--</td><td>--</td><td>--</td><td>--</td><td>--</td><td>--</td><td>--</td><td>2.8079014</td><td>1.8865212</td><td>0.0007418761</td><td>0.005847081</td><td>0.026740354</td><td>0.0008404601</td><td>7.429562e-05</td><td>2.4857657e-06</td><td>2.6414564</td><td>1.8895075</td><td>1.8865212</td><td>1.8798453</td><td>0.8092968</td><td>-0.18898557</td><td>2</td><td>4679</td><td>sv1</td><td>dark</td><td>0.028049631 .. -0.18834104</td><td>1.1972917</td><td>0.0</td><td>0.0</td><td>0.0</td><td>0</td><td>-1.0 .. -1.0</td><td>-1.0 .. -1.0</td><td>-1.0 .. -1.0</td><td>-1.0 .. -1.0</td><td>0.0</td><td>0.0</td><td>0</td><td>-1.0 .. -1.0</td><td>-1.0 .. -1.0</td><td>-1.0 .. -1.0</td><td>-1.0 .. -1.0</td><td>0.0</td><td>0.0</td><td>0</td><td>-1.0 .. -1.0</td><td>-1.0 .. -1.0</td><td>-1.0 .. -1.0</td><td>-1.0 .. -1.0</td><td>0.0</td><td>0.0</td><td>0</td><td>-1.0 .. -1.0</td><td>-1.0 .. -1.0</td><td>-1.0 .. -1.0</td><td>-1.0 .. -1.0</td><td>0</td><td>-1.0</td><td>-1.0</td><td>-1</td><td>-1.0</td><td>-1.0</td><td>-1</td><td>0.5200207468187741</td></tr>\n",
       "<tr><td>39628220869379919</td><td>2.611571231820271</td><td>0.00033182551696189414</td><td>0</td><td>QSO</td><td>0</td><td>130.4326679509037</td><td>18.152087788159587</td><td>PSF</td><td>0.024326205</td><td>1.9797709</td><td>2.250798</td><td>3.1411994</td><td>4.919679</td><td>6.4535885</td><td>842.06134</td><td>124.20459</td><td>32.289257</td><td>2.9298084</td><td>0.60784066</td><td>0.9217900166356564</td><td>0.9217900166356564</td><td>0.9217900166356564</td><td>0.9217900166356564</td><td>0.9217900166356564</td><td>0.9958621953725815</td><td>0</td><td>4665733337124491014</td><td>34359738368</td><td>0</td><td>6</td><td>6083.957</td><td>0</td><td>0</td><td>0</td><td>0</td><td>0</td><td>0</td><td>304.8161</td><td>114.21387</td><td>--</td><td>--</td><td>--</td><td>--</td><td>--</td><td>--</td><td>--</td><td>2.6115713</td><td>2.6176395</td><td>0.9999998</td><td>0.99999946</td><td>0.99999994</td><td>7.330219e-05</td><td>1.5474452e-05</td><td>1.1895483e-05</td><td>2.6174328</td><td>2.620024</td><td>2.6176395</td><td>1.4318179</td><td>-0.250444</td><td>-0.18148762</td><td>10</td><td>4685</td><td>sv1</td><td>dark</td><td>31.392038 .. 0.9303576</td><td>1.2236111</td><td>0.0</td><td>0.0</td><td>0.0</td><td>0</td><td>-1.0 .. -1.0</td><td>-1.0 .. -1.0</td><td>-1.0 .. -1.0</td><td>-1.0 .. -1.0</td><td>0.0</td><td>0.0</td><td>0</td><td>-1.0 .. -1.0</td><td>-1.0 .. -1.0</td><td>-1.0 .. -1.0</td><td>-1.0 .. -1.0</td><td>0.0</td><td>0.0</td><td>0</td><td>-1.0 .. -1.0</td><td>-1.0 .. -1.0</td><td>-1.0 .. -1.0</td><td>-1.0 .. -1.0</td><td>0.0</td><td>0.0</td><td>0</td><td>-1.0 .. -1.0</td><td>-1.0 .. -1.0</td><td>-1.0 .. -1.0</td><td>-1.0 .. -1.0</td><td>0</td><td>-1.0</td><td>-1.0</td><td>-1</td><td>-1.0</td><td>-1.0</td><td>-1</td><td>2.6217502749577846</td></tr>\n",
       "<tr><td>39628215114793309</td><td>2.5811666922249024</td><td>0.0003111231129018288</td><td>0</td><td>QSO</td><td>0</td><td>130.16196895990075</td><td>17.987512270648192</td><td>PSF</td><td>0.025100797</td><td>0.54678106</td><td>0.5488882</td><td>0.77170223</td><td>0.9355877</td><td>0.40979353</td><td>1681.8734</td><td>282.87836</td><td>57.84835</td><td>3.1406977</td><td>0.6381151</td><td>0.9194027883661932</td><td>0.9194027883661932</td><td>0.9194027883661932</td><td>0.9194027883661932</td><td>0.9194027883661932</td><td>0.9320001247823239</td><td>0</td><td>36032920187604742</td><td>0</td><td>0</td><td>6</td><td>6083.957</td><td>0</td><td>0</td><td>0</td><td>0</td><td>0</td><td>0</td><td>225.9433</td><td>121.43204</td><td>--</td><td>--</td><td>--</td><td>--</td><td>--</td><td>--</td><td>--</td><td>2.5811667</td><td>2.576098</td><td>0.9999953</td><td>0.9999974</td><td>1.0</td><td>1.4686445e-05</td><td>9.427151e-06</td><td>3.1077918e-05</td><td>2.5732946</td><td>2.5741124</td><td>2.576098</td><td>1.034728</td><td>0.051854737</td><td>-0.12255226</td><td>10</td><td>4685</td><td>sv1</td><td>dark</td><td>11.30963 .. 0.20294493</td><td>1.1874</td><td>0.0</td><td>0.0</td><td>0.0</td><td>0</td><td>-1.0 .. -1.0</td><td>-1.0 .. -1.0</td><td>-1.0 .. -1.0</td><td>-1.0 .. -1.0</td><td>0.0</td><td>0.0</td><td>0</td><td>-1.0 .. -1.0</td><td>-1.0 .. -1.0</td><td>-1.0 .. -1.0</td><td>-1.0 .. -1.0</td><td>0.0</td><td>0.0</td><td>0</td><td>-1.0 .. -1.0</td><td>-1.0 .. -1.0</td><td>-1.0 .. -1.0</td><td>-1.0 .. -1.0</td><td>0.0</td><td>0.0</td><td>0</td><td>-1.0 .. -1.0</td><td>-1.0 .. -1.0</td><td>-1.0 .. -1.0</td><td>-1.0 .. -1.0</td><td>0</td><td>-1.0</td><td>-1.0</td><td>-1</td><td>-1.0</td><td>-1.0</td><td>-1</td><td>1.467028382717384</td></tr>\n",
       "<tr><td>...</td><td>...</td><td>...</td><td>...</td><td>...</td><td>...</td><td>...</td><td>...</td><td>...</td><td>...</td><td>...</td><td>...</td><td>...</td><td>...</td><td>...</td><td>...</td><td>...</td><td>...</td><td>...</td><td>...</td><td>...</td><td>...</td><td>...</td><td>...</td><td>...</td><td>...</td><td>...</td><td>...</td><td>...</td><td>...</td><td>...</td><td>...</td><td>...</td><td>...</td><td>...</td><td>...</td><td>...</td><td>...</td><td>...</td><td>...</td><td>...</td><td>...</td><td>...</td><td>...</td><td>...</td><td>...</td><td>...</td><td>...</td><td>...</td><td>...</td><td>...</td><td>...</td><td>...</td><td>...</td><td>...</td><td>...</td><td>...</td><td>...</td><td>...</td><td>...</td><td>...</td><td>...</td><td>...</td><td>...</td><td>...</td><td>...</td><td>...</td><td>...</td><td>...</td><td>...</td><td>...</td><td>...</td><td>...</td><td>...</td><td>...</td><td>...</td><td>...</td><td>...</td><td>...</td><td>...</td><td>...</td><td>...</td><td>...</td><td>...</td><td>...</td><td>...</td><td>...</td><td>...</td><td>...</td><td>...</td><td>...</td><td>...</td><td>...</td><td>...</td><td>...</td><td>...</td><td>...</td><td>...</td><td>...</td><td>...</td><td>...</td><td>...</td><td>...</td><td>...</td></tr>\n",
       "<tr><td>39628433243768615</td><td>2.4054545162257366</td><td>0.0006224917597137392</td><td>4</td><td>GALAXY</td><td>0</td><td>193.07603233476254</td><td>27.838229721309443</td><td>REX</td><td>0.011398098</td><td>0.4166391</td><td>0.44655362</td><td>0.6447875</td><td>1.313447</td><td>1.2135321</td><td>1017.4543</td><td>317.2545</td><td>111.75336</td><td>3.9604697</td><td>0.85126805</td><td>0.9625609609326155</td><td>0.9625609609326155</td><td>0.9625609609326155</td><td>0.9625609609326155</td><td>0.9625609609326155</td><td>0.9830963634252549</td><td>0</td><td>0</td><td>0</td><td>0</td><td>1</td><td>834.8022</td><td>0</td><td>0</td><td>1179714</td><td>0</td><td>0</td><td>0</td><td>143.94566</td><td>42.581093</td><td>0.26097405</td><td>-273.68573</td><td>-5189.343</td><td>273.8709</td><td>6130467600000.0</td><td>564153150000000.0</td><td>6130467600000.0</td><td>0.450816</td><td>2.3884091</td><td>0.13958286</td><td>0.014496094</td><td>0.8165452</td><td>0.9980081</td><td>1.8085261e-06</td><td>1.4248769e-06</td><td>2.3864322</td><td>2.392137</td><td>2.378725</td><td>2.3884091</td><td>0.1515387</td><td>0.4602769</td><td>24</td><td>28151</td><td>sv3</td><td>dark</td><td>6.829296 .. 0.50519973</td><td>0.99939454</td><td>0.0</td><td>0.0</td><td>0.0</td><td>0</td><td>-1.0 .. -1.0</td><td>-1.0 .. -1.0</td><td>-1.0 .. -1.0</td><td>-1.0 .. -1.0</td><td>0.0</td><td>0.0</td><td>0</td><td>-1.0 .. -1.0</td><td>-1.0 .. -1.0</td><td>-1.0 .. -1.0</td><td>-1.0 .. -1.0</td><td>0.0</td><td>0.0</td><td>0</td><td>-1.0 .. -1.0</td><td>-1.0 .. -1.0</td><td>-1.0 .. -1.0</td><td>-1.0 .. -1.0</td><td>0.0</td><td>0.0</td><td>0</td><td>-1.0 .. -1.0</td><td>-1.0 .. -1.0</td><td>-1.0 .. -1.0</td><td>-1.0 .. -1.0</td><td>0</td><td>-1.0</td><td>-1.0</td><td>-1</td><td>-1.0</td><td>-1.0</td><td>-1</td><td>0.6351182781580509</td></tr>\n",
       "<tr><td>39628433239577364</td><td>2.3019126940796646</td><td>0.0001849490080351351</td><td>0</td><td>QSO</td><td>0</td><td>192.96304311546356</td><td>27.757008432211247</td><td>PSF</td><td>0.010740051</td><td>1.4980975</td><td>0.9532685</td><td>2.344088</td><td>6.951374</td><td>10.982312</td><td>872.6903</td><td>410.86414</td><td>82.92136</td><td>3.8474288</td><td>0.8519517</td><td>0.9646837932467046</td><td>0.9646837932467046</td><td>0.9646837932467046</td><td>0.9646837932467046</td><td>0.9646837932467046</td><td>0.9537730286121369</td><td>0</td><td>0</td><td>0</td><td>0</td><td>8</td><td>7162.9116</td><td>0</td><td>0</td><td>4611686018428829766</td><td>0</td><td>67108864</td><td>0</td><td>484.6966</td><td>145.25386</td><td>66.66359</td><td>0.30878028</td><td>-41.316753</td><td>0.41130185</td><td>0.00025407848</td><td>9.632654</td><td>0.0002057599</td><td>2.3019128</td><td>2.3060372</td><td>0.9999999</td><td>0.99999934</td><td>0.9999952</td><td>0.9997083</td><td>1.6137963e-05</td><td>7.3951196e-06</td><td>2.3060372</td><td>2.306168</td><td>2.3058496</td><td>2.3063731</td><td>0.7029081</td><td>0.4012012</td><td>14</td><td>28151</td><td>sv3</td><td>dark</td><td>43.931557 .. -0.75723934</td><td>1.1323352</td><td>0.0</td><td>0.0</td><td>0.0</td><td>0</td><td>-1.0 .. -1.0</td><td>-1.0 .. -1.0</td><td>-1.0 .. -1.0</td><td>-1.0 .. -1.0</td><td>0.0</td><td>0.0</td><td>0</td><td>-1.0 .. -1.0</td><td>-1.0 .. -1.0</td><td>-1.0 .. -1.0</td><td>-1.0 .. -1.0</td><td>0.0</td><td>0.0</td><td>0</td><td>-1.0 .. -1.0</td><td>-1.0 .. -1.0</td><td>-1.0 .. -1.0</td><td>-1.0 .. -1.0</td><td>0.0</td><td>0.0</td><td>0</td><td>-1.0 .. -1.0</td><td>-1.0 .. -1.0</td><td>-1.0 .. -1.0</td><td>-1.0 .. -1.0</td><td>0</td><td>-1.0</td><td>-1.0</td><td>-1</td><td>-1.0</td><td>-1.0</td><td>-1</td><td>5.628485248826476</td></tr>\n",
       "<tr><td>39628438587315370</td><td>2.48288906669729</td><td>0.0001784551666335194</td><td>0</td><td>QSO</td><td>0</td><td>192.96484247492822</td><td>27.937436695401022</td><td>PSF</td><td>0.010918078</td><td>2.4269662</td><td>2.6825607</td><td>3.4349477</td><td>7.695988</td><td>7.902134</td><td>1750.391</td><td>680.4556</td><td>248.83694</td><td>3.151338</td><td>0.7741334</td><td>0.964109024447267</td><td>0.964109024447267</td><td>0.964109024447267</td><td>0.964109024447267</td><td>0.964109024447267</td><td>0.9964816968441009</td><td>0</td><td>0</td><td>0</td><td>0</td><td>2</td><td>1664.911</td><td>0</td><td>0</td><td>1441862</td><td>0</td><td>0</td><td>0</td><td>304.26926</td><td>75.58258</td><td>--</td><td>--</td><td>--</td><td>--</td><td>--</td><td>--</td><td>--</td><td>2.4828892</td><td>2.4749892</td><td>1.0</td><td>1.0</td><td>0.9999999</td><td>0.99999994</td><td>1.0972326e-05</td><td>1.0533982e-05</td><td>2.475794</td><td>2.4749892</td><td>2.4824865</td><td>2.4806852</td><td>0.7241893</td><td>-0.12116875</td><td>10</td><td>28151</td><td>sv3</td><td>dark</td><td>63.1594 .. 1.0034151</td><td>0.98921007</td><td>0.0</td><td>0.0</td><td>0.0</td><td>0</td><td>-1.0 .. -1.0</td><td>-1.0 .. -1.0</td><td>-1.0 .. -1.0</td><td>-1.0 .. -1.0</td><td>0.0</td><td>0.0</td><td>0</td><td>-1.0 .. -1.0</td><td>-1.0 .. -1.0</td><td>-1.0 .. -1.0</td><td>-1.0 .. -1.0</td><td>0.0</td><td>0.0</td><td>0</td><td>-1.0 .. -1.0</td><td>-1.0 .. -1.0</td><td>-1.0 .. -1.0</td><td>-1.0 .. -1.0</td><td>0.0</td><td>0.0</td><td>0</td><td>-1.0 .. -1.0</td><td>-1.0 .. -1.0</td><td>-1.0 .. -1.0</td><td>-1.0 .. -1.0</td><td>0</td><td>-1.0</td><td>-1.0</td><td>-1</td><td>-1.0</td><td>-1.0</td><td>-1</td><td>4.913128568568</td></tr>\n",
       "<tr><td>39628433243767434</td><td>2.4791010344027633</td><td>5.5494977172814406e-05</td><td>0</td><td>QSO</td><td>0</td><td>193.00867521857472</td><td>27.838502715912846</td><td>PSF</td><td>0.0105957985</td><td>21.791784</td><td>23.146353</td><td>30.36105</td><td>31.91365</td><td>49.458466</td><td>358.7424</td><td>191.6421</td><td>146.50809</td><td>3.0088067</td><td>0.69257545</td><td>0.9651497709991053</td><td>0.9651497709991053</td><td>0.9651497709991053</td><td>0.9651497709991053</td><td>0.9651497709991053</td><td>0.9981888589859009</td><td>0</td><td>0</td><td>0</td><td>0</td><td>4</td><td>4027.3237</td><td>0</td><td>0</td><td>262148</td><td>0</td><td>0</td><td>0</td><td>543.17535</td><td>145.98853</td><td>--</td><td>--</td><td>--</td><td>--</td><td>--</td><td>--</td><td>--</td><td>2.479101</td><td>2.4910336</td><td>0.99999696</td><td>0.9999988</td><td>0.9999991</td><td>0.9999972</td><td>5.8973535e-05</td><td>1.1429319e-05</td><td>2.4866853</td><td>2.4875512</td><td>2.4910336</td><td>2.4912045</td><td>0.71882665</td><td>0.49272358</td><td>10</td><td>28151</td><td>sv3</td><td>dark</td><td>354.86328 .. 4.5888314</td><td>2.7037628</td><td>0.0</td><td>0.0</td><td>0.0</td><td>0</td><td>-1.0 .. -1.0</td><td>-1.0 .. -1.0</td><td>-1.0 .. -1.0</td><td>-1.0 .. -1.0</td><td>0.0</td><td>0.0</td><td>0</td><td>-1.0 .. -1.0</td><td>-1.0 .. -1.0</td><td>-1.0 .. -1.0</td><td>-1.0 .. -1.0</td><td>0.0</td><td>0.0</td><td>0</td><td>-1.0 .. -1.0</td><td>-1.0 .. -1.0</td><td>-1.0 .. -1.0</td><td>-1.0 .. -1.0</td><td>0.0</td><td>0.0</td><td>0</td><td>-1.0 .. -1.0</td><td>-1.0 .. -1.0</td><td>-1.0 .. -1.0</td><td>-1.0 .. -1.0</td><td>0</td><td>-1.0</td><td>-1.0</td><td>-1</td><td>-1.0</td><td>-1.0</td><td>-1</td><td>25.399272452939968</td></tr>\n",
       "<tr><td>39628438587314469</td><td>2.889453321415095</td><td>0.0002625297929625958</td><td>0</td><td>GALAXY</td><td>0</td><td>192.92174266670034</td><td>27.875023142960064</td><td>PSF</td><td>0.0105423955</td><td>2.6526725</td><td>4.196714</td><td>5.7183356</td><td>7.91932</td><td>10.832435</td><td>1163.9438</td><td>437.023</td><td>122.27504</td><td>3.5879629</td><td>0.8145887</td><td>0.9653223352170737</td><td>0.9653223352170737</td><td>0.9653223352170737</td><td>0.9653223352170737</td><td>0.9653223352170737</td><td>0.986655010342598</td><td>1</td><td>0</td><td>0</td><td>0</td><td>1</td><td>834.8022</td><td>0</td><td>0</td><td>4611686018427650052</td><td>0</td><td>34359738368</td><td>0</td><td>146.50815</td><td>37.707603</td><td>3.4114656</td><td>0.2057293</td><td>117.2021</td><td>0.82765937</td><td>2.4350243</td><td>324055.88</td><td>2.4986677</td><td>1.3370736</td><td>2.889323</td><td>0.9998628</td><td>0.9998611</td><td>0.9997635</td><td>0.00013213503</td><td>2.5835521e-05</td><td>3.7317906e-05</td><td>2.889323</td><td>2.8862686</td><td>2.9052415</td><td>1.6699604</td><td>0.69489413</td><td>0.120426215</td><td>24</td><td>28151</td><td>sv3</td><td>dark</td><td>52.97709 .. 0.44886452</td><td>1.0736812</td><td>0.0</td><td>0.0</td><td>0.0</td><td>0</td><td>-1.0 .. -1.0</td><td>-1.0 .. -1.0</td><td>-1.0 .. -1.0</td><td>-1.0 .. -1.0</td><td>0.0</td><td>0.0</td><td>0</td><td>-1.0 .. -1.0</td><td>-1.0 .. -1.0</td><td>-1.0 .. -1.0</td><td>-1.0 .. -1.0</td><td>0.0</td><td>0.0</td><td>0</td><td>-1.0 .. -1.0</td><td>-1.0 .. -1.0</td><td>-1.0 .. -1.0</td><td>-1.0 .. -1.0</td><td>49.710697</td><td>4.418387</td><td>1</td><td>23325.055 .. -1.0</td><td>23898.457 .. -1.0</td><td>23722.025 .. -1.0</td><td>-0.38626432 .. -1.0</td><td>0</td><td>-1.0</td><td>-1.0</td><td>-1</td><td>-1.0</td><td>-1.0</td><td>-1</td><td>2.4001093788827057</td></tr>\n",
       "<tr><td>39628443922467506</td><td>2.786025645418057</td><td>8.596279695567914e-05</td><td>0</td><td>QSO</td><td>0</td><td>192.88366014102886</td><td>28.2732445934184</td><td>PSF</td><td>0.010948905</td><td>1.8939661</td><td>2.3405228</td><td>2.1375043</td><td>3.193541</td><td>5.8009834</td><td>933.97906</td><td>371.11694</td><td>203.02528</td><td>3.904822</td><td>0.823466</td><td>0.9640095334730497</td><td>0.9640095334730497</td><td>0.9640095334730497</td><td>0.9640095334730497</td><td>0.9640095334730497</td><td>0.9945060176849365</td><td>0</td><td>0</td><td>0</td><td>0</td><td>8</td><td>7162.9116</td><td>0</td><td>0</td><td>262148</td><td>0</td><td>0</td><td>0</td><td>322.46542</td><td>113.64728</td><td>--</td><td>--</td><td>--</td><td>--</td><td>--</td><td>--</td><td>--</td><td>2.7860258</td><td>2.787068</td><td>0.99994993</td><td>0.9999668</td><td>0.9999941</td><td>3.2286753e-06</td><td>1.6105727e-05</td><td>3.6635083e-06</td><td>2.8038852</td><td>2.8070076</td><td>2.787068</td><td>0.81727964</td><td>0.81850797</td><td>-0.12549613</td><td>10</td><td>28151</td><td>sv3</td><td>dark</td><td>27.609463 .. 0.23359382</td><td>1.2603859</td><td>0.0</td><td>0.0</td><td>0.0</td><td>0</td><td>-1.0 .. -1.0</td><td>-1.0 .. -1.0</td><td>-1.0 .. -1.0</td><td>-1.0 .. -1.0</td><td>0.0</td><td>0.0</td><td>0</td><td>-1.0 .. -1.0</td><td>-1.0 .. -1.0</td><td>-1.0 .. -1.0</td><td>-1.0 .. -1.0</td><td>0.0</td><td>0.0</td><td>0</td><td>-1.0 .. -1.0</td><td>-1.0 .. -1.0</td><td>-1.0 .. -1.0</td><td>-1.0 .. -1.0</td><td>0.0</td><td>0.0</td><td>0</td><td>-1.0 .. -1.0</td><td>-1.0 .. -1.0</td><td>-1.0 .. -1.0</td><td>-1.0 .. -1.0</td><td>0</td><td>-1.0</td><td>-1.0</td><td>-1</td><td>-1.0</td><td>-1.0</td><td>-1</td><td>3.440726001228997</td></tr>\n",
       "</table></div>"
      ],
      "text/plain": [
       "<Table length=26763>\n",
       "     TARGETID              Z          ... SPECTYPE_MASK      SNR_CIV      \n",
       "                                      ...                                 \n",
       "      int64             float64       ...     bytes6         float64      \n",
       "------------------ ------------------ ... ------------- ------------------\n",
       " 39628215118992442 2.1837342473623393 ...            -1  4.686259937194885\n",
       " 39628209360211028  2.379998216697697 ...            -1  8.752494914401394\n",
       "616088955892269587 2.5971315676669833 ...            -1 0.4339465951321364\n",
       " 39628203593041814 2.8079013224987324 ...            -1 0.5200207468187741\n",
       " 39628220869379919  2.611571231820271 ...            -1 2.6217502749577846\n",
       " 39628215114793309 2.5811666922249024 ...            -1  1.467028382717384\n",
       "               ...                ... ...           ...                ...\n",
       " 39628433243768615 2.4054545162257366 ...            -1 0.6351182781580509\n",
       " 39628433239577364 2.3019126940796646 ...            -1  5.628485248826476\n",
       " 39628438587315370   2.48288906669729 ...            -1     4.913128568568\n",
       " 39628433243767434 2.4791010344027633 ...            -1 25.399272452939968\n",
       " 39628438587314469  2.889453321415095 ...            -1 2.4001093788827057\n",
       " 39628443922467506  2.786025645418057 ...            -1  3.440726001228997"
      ]
     },
     "execution_count": 95,
     "metadata": {},
     "output_type": "execute_result"
    }
   ],
   "source": [
    "pruf=Table.read('/home/colgoat/spc_DESIedr/DESI_EDRcat_BM_1.0(sv13).fits')\n",
    "pruf"
   ]
  },
  {
   "cell_type": "code",
   "execution_count": 96,
   "id": "cafba0d6",
   "metadata": {
    "scrolled": false
   },
   "outputs": [
    {
     "name": "stdout",
     "output_type": "stream",
     "text": [
      "Filename: /home/colgoat/spc_DESIedr/DESI_EDRcat_BM_1.0(sv13).fits\n",
      "No.    Name      Ver    Type      Cards   Dimensions   Format\n",
      "  0  PRIMARY       1 PrimaryHDU       4   ()      \n",
      "  1  CATALOG       1 BinTableHDU    289   26763R x 104C   [K, D, D, K, 6A, J, D, D, 4A, E, E, E, E, E, E, E, E, E, E, E, D, D, D, D, D, D, I, K, K, K, I, E, K, K, K, K, K, K, E, E, E, E, E, E, E, E, E, E, E, E, E, E, E, E, E, E, E, E, E, E, E, J, K, 3A, 4A, 5E, E, E, E, E, J, 5E, 5E, 5E, 5E, E, E, J, 17E, 17E, 17E, 17E, E, E, J, 5E, 5E, 5E, 5E, E, E, J, 17E, 17E, 17E, 17E, B, D, D, K, D, D, 6A, D]   \n"
     ]
    }
   ],
   "source": [
    "BALS = fits.open('/home/colgoat/spc_DESIedr/DESI_EDRcat_BM_1.0(sv13).fits')\n",
    "BALS.info()"
   ]
  },
  {
   "cell_type": "code",
   "execution_count": 97,
   "id": "2377cc0e",
   "metadata": {
    "scrolled": false
   },
   "outputs": [
    {
     "name": "stdout",
     "output_type": "stream",
     "text": [
      "Filename: /home/colgoat/spc_DESIedr/qso_catalog_sv13.fits\n",
      "No.    Name      Ver    Type      Cards   Dimensions   Format\n",
      "  0  PRIMARY       1 PrimaryHDU       6   ()      \n",
      "  1  ZCATALOG      1 BinTableHDU    205   68750R x 98C   [K, D, D, K, 6A, J, D, D, 4A, E, E, E, E, E, E, E, E, E, E, E, D, D, D, D, D, D, I, K, K, K, I, E, K, K, K, K, K, K, E, E, E, E, E, E, E, E, E, E, E, E, E, E, E, E, E, E, E, E, E, E, E, J, K, 3A, 4A, K, 5E, E, E, E, E, J, 5E, 5E, 5E, 5E, E, E, J, 17E, 17E, 17E, 17E, E, E, J, 5E, 5E, 5E, 5E, E, E, J, 17E, 17E, 17E, 17E, B]   \n"
     ]
    }
   ],
   "source": [
    "ZCAT = fits.open('/home/colgoat/spc_DESIedr/qso_catalog_sv13.fits')\n",
    "ZCAT.info()"
   ]
  },
  {
   "cell_type": "code",
   "execution_count": 98,
   "id": "2bd04a8f",
   "metadata": {},
   "outputs": [],
   "source": [
    "import astropy.units as u\n",
    "from astropy.coordinates import SkyCoord"
   ]
  },
  {
   "cell_type": "code",
   "execution_count": 100,
   "id": "1d523f8d",
   "metadata": {},
   "outputs": [],
   "source": [
    "A1 = Table.read(fits.open('/home/colgoat/spc_DESIedr/DESI_EDRcat_BM_1.0(sv13).fits')[1])\n",
    "A2 = Table.read(fits.open('/home/colgoat/spc_DESIedr/qso_catalog_sv13.fits')[1])"
   ]
  },
  {
   "cell_type": "code",
   "execution_count": 126,
   "id": "44100f27",
   "metadata": {},
   "outputs": [],
   "source": [
    "tar_balcat = np.array(A1['TARGETID'])\n",
    "match_corcat = np.isin(A2[\"TARGETID\"],tar_balcat)\n",
    "chosen_ibool = np.invert(match_corcat)\n",
    "idx = np.where(chosen_ibool)"
   ]
  },
  {
   "cell_type": "code",
   "execution_count": 133,
   "id": "69dcccb5",
   "metadata": {},
   "outputs": [
    {
     "data": {
      "text/html": [
       "<div><i>Table length=21133</i>\n",
       "<table id=\"table139702305742480\" class=\"table-striped table-bordered table-condensed\">\n",
       "<thead><tr><th>TARGETID</th><th>Z</th><th>ZERR</th><th>ZWARN</th><th>SPECTYPE</th><th>COADD_FIBERSTATUS</th><th>TARGET_RA</th><th>TARGET_DEC</th><th>MORPHTYPE</th><th>EBV</th><th>FLUX_G</th><th>FLUX_R</th><th>FLUX_Z</th><th>FLUX_W1</th><th>FLUX_W2</th><th>FLUX_IVAR_G</th><th>FLUX_IVAR_R</th><th>FLUX_IVAR_Z</th><th>FLUX_IVAR_W1</th><th>FLUX_IVAR_W2</th><th>MW_TRANSMISSION_G</th><th>MW_TRANSMISSION_R</th><th>MW_TRANSMISSION_Z</th><th>MW_TRANSMISSION_W1</th><th>MW_TRANSMISSION_W2</th><th>PROBA_RF</th><th>MASKBITS</th><th>SV1_DESI_TARGET</th><th>SV1_SCND_TARGET</th><th>DESI_TARGET</th><th>COADD_NUMEXP</th><th>COADD_EXPTIME</th><th>CMX_TARGET</th><th>SV2_DESI_TARGET</th><th>SV3_DESI_TARGET</th><th>SV2_SCND_TARGET</th><th>SV3_SCND_TARGET</th><th>SCND_TARGET</th><th>TSNR2_LYA</th><th>TSNR2_QSO</th><th>DELTA_CHI2_MGII</th><th>A_MGII</th><th>SIGMA_MGII</th><th>B_MGII</th><th>VAR_A_MGII</th><th>VAR_SIGMA_MGII</th><th>VAR_B_MGII</th><th>Z_RR</th><th>Z_QN</th><th>C_LYA</th><th>C_CIV</th><th>C_CIII</th><th>C_MgII</th><th>C_Hbeta</th><th>C_Halpha</th><th>Z_LYA</th><th>Z_CIV</th><th>Z_CIII</th><th>Z_MgII</th><th>Z_Hbeta</th><th>Z_Halpha</th><th>QSO_MASKBITS</th><th>HPXPIXEL</th><th>SURVEY</th><th>PROGRAM</th><th>LASTNIGHT</th><th>PCA_COEFFS</th><th>PCA_CHI2</th><th>BAL_PROB</th><th>BI_CIV</th><th>ERR_BI_CIV</th><th>NCIV_2000</th><th>VMIN_CIV_2000</th><th>VMAX_CIV_2000</th><th>POSMIN_CIV_2000</th><th>FMIN_CIV_2000</th><th>AI_CIV</th><th>ERR_AI_CIV</th><th>NCIV_450</th><th>VMIN_CIV_450</th><th>VMAX_CIV_450</th><th>POSMIN_CIV_450</th><th>FMIN_CIV_450</th><th>BI_SIIV</th><th>ERR_BI_SIIV</th><th>NSIIV_2000</th><th>VMIN_SIIV_2000</th><th>VMAX_SIIV_2000</th><th>POSMIN_SIIV_2000</th><th>FMIN_SIIV_2000</th><th>AI_SIIV</th><th>ERR_AI_SIIV</th><th>NSIIV_450</th><th>VMIN_SIIV_450</th><th>VMAX_SIIV_450</th><th>POSMIN_SIIV_450</th><th>FMIN_SIIV_450</th><th>BALMASK</th></tr></thead>\n",
       "<thead><tr><th>int64</th><th>float64</th><th>float64</th><th>int64</th><th>str6</th><th>int32</th><th>float64</th><th>float64</th><th>str4</th><th>float32</th><th>float32</th><th>float32</th><th>float32</th><th>float32</th><th>float32</th><th>float32</th><th>float32</th><th>float32</th><th>float32</th><th>float32</th><th>float64</th><th>float64</th><th>float64</th><th>float64</th><th>float64</th><th>float64</th><th>int16</th><th>int64</th><th>int64</th><th>int64</th><th>int16</th><th>float32</th><th>int64</th><th>int64</th><th>int64</th><th>int64</th><th>int64</th><th>int64</th><th>float32</th><th>float32</th><th>float32</th><th>float32</th><th>float32</th><th>float32</th><th>float32</th><th>float32</th><th>float32</th><th>float32</th><th>float32</th><th>float32</th><th>float32</th><th>float32</th><th>float32</th><th>float32</th><th>float32</th><th>float32</th><th>float32</th><th>float32</th><th>float32</th><th>float32</th><th>float32</th><th>int32</th><th>int64</th><th>str3</th><th>str4</th><th>int64</th><th>float32[5]</th><th>float32</th><th>float32</th><th>float32</th><th>float32</th><th>int32</th><th>float32[5]</th><th>float32[5]</th><th>float32[5]</th><th>float32[5]</th><th>float32</th><th>float32</th><th>int32</th><th>float32[17]</th><th>float32[17]</th><th>float32[17]</th><th>float32[17]</th><th>float32</th><th>float32</th><th>int32</th><th>float32[5]</th><th>float32[5]</th><th>float32[5]</th><th>float32[5]</th><th>float32</th><th>float32</th><th>int32</th><th>float32[17]</th><th>float32[17]</th><th>float32[17]</th><th>float32[17]</th><th>uint8</th></tr></thead>\n",
       "<tr><td>39627136847319542</td><td>2.334165306571836</td><td>0.00011927768655614493</td><td>0</td><td>QSO</td><td>0</td><td>163.32487960346054</td><td>-27.909257960373424</td><td>PSF</td><td>0.06449058</td><td>8.060436</td><td>9.266329</td><td>13.961395</td><td>17.785593</td><td>32.406742</td><td>215.88075</td><td>199.37141</td><td>63.222946</td><td>1.7885725</td><td>0.5398294</td><td>0.8058177000368452</td><td>0.8058177000368452</td><td>0.8058177000368452</td><td>0.8058177000368452</td><td>0.8058177000368452</td><td>0.9981405733823776</td><td>0</td><td>4665733337124491014</td><td>131072</td><td>0</td><td>19</td><td>17061.107</td><td>0</td><td>0</td><td>0</td><td>0</td><td>0</td><td>0</td><td>270.09314</td><td>130.79248</td><td>361.8064</td><td>0.602876</td><td>44.95604</td><td>2.3683345</td><td>0.0016881061</td><td>17.090488</td><td>0.0011731663</td><td>2.3341653</td><td>2.337243</td><td>0.9999999</td><td>0.9999998</td><td>0.99999934</td><td>0.9999992</td><td>2.1405694e-05</td><td>1.9597617e-05</td><td>2.337243</td><td>2.3374805</td><td>2.3341882</td><td>2.333792</td><td>-0.013425438</td><td>0.46398482</td><td>14</td><td>38771</td><td>sv1</td><td>dark</td><td>20210212</td><td>229.6426 .. 3.6772516</td><td>2.3033245</td><td>0.0</td><td>0.0</td><td>0.0</td><td>0</td><td>-1.0 .. -1.0</td><td>-1.0 .. -1.0</td><td>-1.0 .. -1.0</td><td>-1.0 .. -1.0</td><td>258.45255</td><td>2.6098938</td><td>2</td><td>5701.53 .. -1.0</td><td>6444.535 .. -1.0</td><td>5887.2812 .. -1.0</td><td>0.7411206 .. -1.0</td><td>0.0</td><td>0.0</td><td>0</td><td>-1.0 .. -1.0</td><td>-1.0 .. -1.0</td><td>-1.0 .. -1.0</td><td>-1.0 .. -1.0</td><td>0.0</td><td>0.0</td><td>0</td><td>-1.0 .. -1.0</td><td>-1.0 .. -1.0</td><td>-1.0 .. -1.0</td><td>-1.0 .. -1.0</td><td>0</td></tr>\n",
       "<tr><td>39627142190859939</td><td>2.175128666031821</td><td>0.0002438795433343139</td><td>0</td><td>QSO</td><td>0</td><td>162.88450856962623</td><td>-27.774641891054515</td><td>PSF</td><td>0.06621869</td><td>0.48587924</td><td>0.4227278</td><td>0.7662796</td><td>3.0602136</td><td>2.5776358</td><td>544.62964</td><td>481.0964</td><td>190.13463</td><td>3.5453265</td><td>0.7686863</td><td>0.8011692907279641</td><td>0.8011692907279641</td><td>0.8011692907279641</td><td>0.8011692907279641</td><td>0.8011692907279641</td><td>0.9618029569089412</td><td>0</td><td>72061717206601478</td><td>0</td><td>0</td><td>19</td><td>17061.107</td><td>0</td><td>0</td><td>0</td><td>0</td><td>0</td><td>0</td><td>292.42</td><td>141.81735</td><td>82.94344</td><td>0.089525715</td><td>-22.230644</td><td>0.09703628</td><td>0.00076991005</td><td>78.62632</td><td>0.0001402657</td><td>2.1751287</td><td>2.1828747</td><td>0.9999669</td><td>1.0</td><td>0.99999774</td><td>0.99996704</td><td>4.0566556e-06</td><td>4.4175246e-07</td><td>2.1860728</td><td>2.1828747</td><td>2.1892407</td><td>2.1893008</td><td>-0.06362737</td><td>-0.45145366</td><td>14</td><td>38771</td><td>sv1</td><td>dark</td><td>20210212</td><td>11.221055 .. 0.9191993</td><td>1.4971107</td><td>0.0</td><td>0.0</td><td>0.0</td><td>0</td><td>-1.0 .. -1.0</td><td>-1.0 .. -1.0</td><td>-1.0 .. -1.0</td><td>-1.0 .. -1.0</td><td>0.0</td><td>0.0</td><td>0</td><td>-1.0 .. -1.0</td><td>-1.0 .. -1.0</td><td>-1.0 .. -1.0</td><td>-1.0 .. -1.0</td><td>0.0</td><td>0.0</td><td>0</td><td>-1.0 .. -1.0</td><td>-1.0 .. -1.0</td><td>-1.0 .. -1.0</td><td>-1.0 .. -1.0</td><td>0.0</td><td>0.0</td><td>0</td><td>-1.0 .. -1.0</td><td>-1.0 .. -1.0</td><td>-1.0 .. -1.0</td><td>-1.0 .. -1.0</td><td>0</td></tr>\n",
       "<tr><td>39627152919890882</td><td>2.453393365329811</td><td>0.00045964276141543354</td><td>0</td><td>QSO</td><td>0</td><td>162.7418127945335</td><td>-27.319436661954988</td><td>PSF</td><td>0.074578695</td><td>0.35029408</td><td>0.37503088</td><td>0.69750464</td><td>3.7208774</td><td>3.2596428</td><td>732.7517</td><td>720.92444</td><td>183.09274</td><td>3.4404063</td><td>0.74237216</td><td>0.7790577225100955</td><td>0.7790577225100955</td><td>0.7790577225100955</td><td>0.7790577225100955</td><td>0.7790577225100955</td><td>0.9609364968687296</td><td>0</td><td>72061717206601478</td><td>0</td><td>0</td><td>19</td><td>17061.107</td><td>0</td><td>0</td><td>0</td><td>0</td><td>0</td><td>0</td><td>449.7401</td><td>144.33376</td><td>2.3819792</td><td>35.105515</td><td>2615.5225</td><td>-34.987312</td><td>33266317000.0</td><td>45597020000000.0</td><td>33266321000.0</td><td>2.4533935</td><td>2.449595</td><td>0.9672372</td><td>0.99999994</td><td>0.9999998</td><td>1.0</td><td>1.221325e-05</td><td>4.594353e-06</td><td>2.4615178</td><td>2.4631968</td><td>2.4499788</td><td>2.449595</td><td>0.9556656</td><td>-0.13203338</td><td>10</td><td>38777</td><td>sv1</td><td>dark</td><td>20210212</td><td>6.4839816 .. 0.14133058</td><td>1.4427688</td><td>0.0</td><td>0.0</td><td>0.0</td><td>0</td><td>-1.0 .. -1.0</td><td>-1.0 .. -1.0</td><td>-1.0 .. -1.0</td><td>-1.0 .. -1.0</td><td>0.0</td><td>0.0</td><td>0</td><td>-1.0 .. -1.0</td><td>-1.0 .. -1.0</td><td>-1.0 .. -1.0</td><td>-1.0 .. -1.0</td><td>0.0</td><td>0.0</td><td>0</td><td>-1.0 .. -1.0</td><td>-1.0 .. -1.0</td><td>-1.0 .. -1.0</td><td>-1.0 .. -1.0</td><td>0.0</td><td>0.0</td><td>0</td><td>-1.0 .. -1.0</td><td>-1.0 .. -1.0</td><td>-1.0 .. -1.0</td><td>-1.0 .. -1.0</td><td>0</td></tr>\n",
       "<tr><td>39627152928280526</td><td>2.2729089200538217</td><td>0.0002296021266374737</td><td>4</td><td>GALAXY</td><td>0</td><td>163.39509614779018</td><td>-27.17270941141509</td><td>PSF</td><td>0.07100172</td><td>1.4734815</td><td>1.9267478</td><td>2.9150758</td><td>4.3293386</td><td>4.321927</td><td>440.84396</td><td>346.08878</td><td>156.7693</td><td>3.3608255</td><td>0.75186455</td><td>0.7884428425683854</td><td>0.7884428425683854</td><td>0.7884428425683854</td><td>0.7884428425683854</td><td>0.7884428425683854</td><td>0.9808786861896515</td><td>2048</td><td>54047318697103110</td><td>0</td><td>0</td><td>19</td><td>17061.107</td><td>0</td><td>0</td><td>0</td><td>0</td><td>0</td><td>0</td><td>518.60803</td><td>150.39746</td><td>-3.8038578</td><td>0.064385116</td><td>29.21454</td><td>0.5572626</td><td>0.0013654657</td><td>480.89786</td><td>0.0004169804</td><td>0.9445731</td><td>2.2988348</td><td>1.0</td><td>0.99999994</td><td>0.9999974</td><td>0.96796006</td><td>7.29974e-06</td><td>1.2434528e-05</td><td>2.2988348</td><td>2.299815</td><td>2.2985501</td><td>2.3037276</td><td>0.820018</td><td>-0.23865426</td><td>24</td><td>38774</td><td>sv1</td><td>dark</td><td>20210212</td><td>29.305132 .. 1.219413</td><td>1.4780438</td><td>0.0</td><td>0.0</td><td>0.0</td><td>0</td><td>-1.0 .. -1.0</td><td>-1.0 .. -1.0</td><td>-1.0 .. -1.0</td><td>-1.0 .. -1.0</td><td>0.0</td><td>0.0</td><td>0</td><td>-1.0 .. -1.0</td><td>-1.0 .. -1.0</td><td>-1.0 .. -1.0</td><td>-1.0 .. -1.0</td><td>0.0</td><td>0.0</td><td>0</td><td>-1.0 .. -1.0</td><td>-1.0 .. -1.0</td><td>-1.0 .. -1.0</td><td>-1.0 .. -1.0</td><td>0.0</td><td>0.0</td><td>0</td><td>-1.0 .. -1.0</td><td>-1.0 .. -1.0</td><td>-1.0 .. -1.0</td><td>-1.0 .. -1.0</td><td>0</td></tr>\n",
       "<tr><td>39627152928280792</td><td>2.122640893549859</td><td>0.00022815597608781993</td><td>0</td><td>QSO</td><td>0</td><td>163.41177046352416</td><td>-27.262782543372218</td><td>PSF</td><td>0.072573006</td><td>1.3754135</td><td>1.9243226</td><td>3.666403</td><td>6.7172537</td><td>5.9540443</td><td>457.60394</td><td>354.22873</td><td>126.00258</td><td>3.37291</td><td>0.7697012</td><td>0.7843063273186777</td><td>0.7843063273186777</td><td>0.7843063273186777</td><td>0.7843063273186777</td><td>0.7843063273186777</td><td>0.9667233693003654</td><td>0</td><td>54047318697103110</td><td>0</td><td>0</td><td>19</td><td>17061.107</td><td>0</td><td>0</td><td>0</td><td>0</td><td>0</td><td>0</td><td>546.7196</td><td>152.23041</td><td>425.35443</td><td>0.41769376</td><td>29.949041</td><td>0.544121</td><td>0.00047977336</td><td>4.7859445</td><td>0.00024267328</td><td>2.1226408</td><td>2.1247075</td><td>0.9999987</td><td>0.99999225</td><td>0.99999535</td><td>0.99999434</td><td>0.00035577477</td><td>0.0001546739</td><td>2.1247075</td><td>2.124097</td><td>2.1213324</td><td>2.1195233</td><td>0.33289495</td><td>0.32594845</td><td>14</td><td>38774</td><td>sv1</td><td>dark</td><td>20210212</td><td>34.582954 .. -0.68651813</td><td>1.4652352</td><td>0.0</td><td>0.0</td><td>0.0</td><td>0</td><td>-1.0 .. -1.0</td><td>-1.0 .. -1.0</td><td>-1.0 .. -1.0</td><td>-1.0 .. -1.0</td><td>601.5999</td><td>6.4594502</td><td>1</td><td>258.4958 .. -1.0</td><td>1894.7515 .. -1.0</td><td>1398.9164 .. -1.0</td><td>-0.13371441 .. -1.0</td><td>0.0</td><td>0.0</td><td>0</td><td>-1.0 .. -1.0</td><td>-1.0 .. -1.0</td><td>-1.0 .. -1.0</td><td>-1.0 .. -1.0</td><td>0.0</td><td>0.0</td><td>0</td><td>-1.0 .. -1.0</td><td>-1.0 .. -1.0</td><td>-1.0 .. -1.0</td><td>-1.0 .. -1.0</td><td>0</td></tr>\n",
       "<tr><td>39627158326346599</td><td>2.45183412541748</td><td>0.00017391989923131278</td><td>0</td><td>QSO</td><td>0</td><td>164.09906011543217</td><td>-27.114167905933087</td><td>PSF</td><td>0.076565325</td><td>1.9742076</td><td>2.0585978</td><td>2.731879</td><td>3.9950433</td><td>3.486254</td><td>410.2791</td><td>330.31415</td><td>122.54296</td><td>3.232302</td><td>0.72586495</td><td>0.7738936168606908</td><td>0.7738936168606908</td><td>0.7738936168606908</td><td>0.7738936168606908</td><td>0.7738936168606908</td><td>0.9933896499872208</td><td>0</td><td>54044020162216710</td><td>0</td><td>0</td><td>19</td><td>17061.107</td><td>0</td><td>0</td><td>0</td><td>0</td><td>0</td><td>0</td><td>378.39642</td><td>127.41705</td><td>34.47593</td><td>0.24946949</td><td>40.338688</td><td>0.39560714</td><td>0.0007767596</td><td>43.70613</td><td>0.00047967228</td><td>2.4518342</td><td>2.4619665</td><td>1.0</td><td>0.9999992</td><td>0.99999684</td><td>0.99999803</td><td>1.2723087e-05</td><td>6.2516087e-06</td><td>2.4619665</td><td>2.4496956</td><td>2.4651065</td><td>2.4628642</td><td>0.9321137</td><td>-0.45145366</td><td>14</td><td>38774</td><td>sv1</td><td>dark</td><td>20210212</td><td>36.18863 .. -0.34863842</td><td>1.5870448</td><td>0.0</td><td>0.0</td><td>0.0</td><td>0</td><td>-1.0 .. -1.0</td><td>-1.0 .. -1.0</td><td>-1.0 .. -1.0</td><td>-1.0 .. -1.0</td><td>0.0</td><td>0.0</td><td>0</td><td>-1.0 .. -1.0</td><td>-1.0 .. -1.0</td><td>-1.0 .. -1.0</td><td>-1.0 .. -1.0</td><td>0.0</td><td>0.0</td><td>0</td><td>-1.0 .. -1.0</td><td>-1.0 .. -1.0</td><td>-1.0 .. -1.0</td><td>-1.0 .. -1.0</td><td>0.0</td><td>0.0</td><td>0</td><td>-1.0 .. -1.0</td><td>-1.0 .. -1.0</td><td>-1.0 .. -1.0</td><td>-1.0 .. -1.0</td><td>0</td></tr>\n",
       "<tr><td>...</td><td>...</td><td>...</td><td>...</td><td>...</td><td>...</td><td>...</td><td>...</td><td>...</td><td>...</td><td>...</td><td>...</td><td>...</td><td>...</td><td>...</td><td>...</td><td>...</td><td>...</td><td>...</td><td>...</td><td>...</td><td>...</td><td>...</td><td>...</td><td>...</td><td>...</td><td>...</td><td>...</td><td>...</td><td>...</td><td>...</td><td>...</td><td>...</td><td>...</td><td>...</td><td>...</td><td>...</td><td>...</td><td>...</td><td>...</td><td>...</td><td>...</td><td>...</td><td>...</td><td>...</td><td>...</td><td>...</td><td>...</td><td>...</td><td>...</td><td>...</td><td>...</td><td>...</td><td>...</td><td>...</td><td>...</td><td>...</td><td>...</td><td>...</td><td>...</td><td>...</td><td>...</td><td>...</td><td>...</td><td>...</td><td>...</td><td>...</td><td>...</td><td>...</td><td>...</td><td>...</td><td>...</td><td>...</td><td>...</td><td>...</td><td>...</td><td>...</td><td>...</td><td>...</td><td>...</td><td>...</td><td>...</td><td>...</td><td>...</td><td>...</td><td>...</td><td>...</td><td>...</td><td>...</td><td>...</td><td>...</td><td>...</td><td>...</td><td>...</td><td>...</td><td>...</td><td>...</td><td>...</td></tr>\n",
       "<tr><td>39636931708979738</td><td>3.26625773860568</td><td>0.0011489411117509007</td><td>0</td><td>GALAXY</td><td>0</td><td>240.4683250909006</td><td>14.399162683504695</td><td>PSF</td><td>0.051395856</td><td>0.37777737</td><td>0.51438165</td><td>0.5167631</td><td>0.36179847</td><td>1.2930589</td><td>1637.5415</td><td>642.83685</td><td>109.35608</td><td>3.8885543</td><td>0.89774245</td><td>0.841928654339899</td><td>0.841928654339899</td><td>0.841928654339899</td><td>0.841928654339899</td><td>0.841928654339899</td><td>0.5749444113522768</td><td>0</td><td>36028797018996740</td><td>0</td><td>0</td><td>7</td><td>4531.634</td><td>0</td><td>0</td><td>0</td><td>0</td><td>0</td><td>0</td><td>231.7478</td><td>152.6734</td><td>--</td><td>--</td><td>--</td><td>--</td><td>--</td><td>--</td><td>--</td><td>0.04764234</td><td>3.2839317</td><td>0.31493676</td><td>0.9612857</td><td>0.95672226</td><td>0.00069173827</td><td>2.8658586e-05</td><td>7.262175e-05</td><td>3.2862551</td><td>3.2839317</td><td>3.355296</td><td>1.1185967</td><td>0.33379874</td><td>0.25878072</td><td>24</td><td>8468</td><td>sv1</td><td>dark</td><td>20210404</td><td>6.1628222 .. 0.32794982</td><td>1.1085523</td><td>0.0</td><td>0.0</td><td>0.0</td><td>0</td><td>-1.0 .. -1.0</td><td>-1.0 .. -1.0</td><td>-1.0 .. -1.0</td><td>-1.0 .. -1.0</td><td>0.0</td><td>0.0</td><td>0</td><td>-1.0 .. -1.0</td><td>-1.0 .. -1.0</td><td>-1.0 .. -1.0</td><td>-1.0 .. -1.0</td><td>0.0</td><td>0.0</td><td>0</td><td>-1.0 .. -1.0</td><td>-1.0 .. -1.0</td><td>-1.0 .. -1.0</td><td>-1.0 .. -1.0</td><td>0.0</td><td>0.0</td><td>0</td><td>-1.0 .. -1.0</td><td>-1.0 .. -1.0</td><td>-1.0 .. -1.0</td><td>-1.0 .. -1.0</td><td>0</td></tr>\n",
       "<tr><td>39636931708981011</td><td>2.2212048220180334</td><td>0.000615485227058198</td><td>0</td><td>QSO</td><td>0</td><td>240.5252733008755</td><td>14.419207416161397</td><td>PSF</td><td>0.053237077</td><td>0.6240009</td><td>0.815258</td><td>1.7703918</td><td>6.493576</td><td>9.869025</td><td>1080.0957</td><td>464.66605</td><td>96.82368</td><td>3.0058186</td><td>0.8121746</td><td>0.8367550258519851</td><td>0.8367550258519851</td><td>0.8367550258519851</td><td>0.8367550258519851</td><td>0.8367550258519851</td><td>0.9707638679742813</td><td>0</td><td>4620978815827459846</td><td>34359738368</td><td>0</td><td>7</td><td>4531.634</td><td>0</td><td>0</td><td>0</td><td>0</td><td>0</td><td>0</td><td>233.8325</td><td>155.19632</td><td>33.51306</td><td>0.055217564</td><td>61.20532</td><td>0.23184279</td><td>0.00089077465</td><td>1475.7693</td><td>0.0010574977</td><td>2.2212048</td><td>2.2228954</td><td>1.0</td><td>1.0</td><td>0.9999999</td><td>0.9999998</td><td>1.0227265e-05</td><td>1.5750917e-06</td><td>2.2228954</td><td>2.222422</td><td>2.231509</td><td>2.2299185</td><td>0.71661913</td><td>0.40251103</td><td>10</td><td>8468</td><td>sv1</td><td>dark</td><td>20210404</td><td>7.167488 .. -0.25371382</td><td>1.1050265</td><td>0.0</td><td>0.0</td><td>0.0</td><td>0</td><td>-1.0 .. -1.0</td><td>-1.0 .. -1.0</td><td>-1.0 .. -1.0</td><td>-1.0 .. -1.0</td><td>0.0</td><td>0.0</td><td>0</td><td>-1.0 .. -1.0</td><td>-1.0 .. -1.0</td><td>-1.0 .. -1.0</td><td>-1.0 .. -1.0</td><td>0.0</td><td>0.0</td><td>0</td><td>-1.0 .. -1.0</td><td>-1.0 .. -1.0</td><td>-1.0 .. -1.0</td><td>-1.0 .. -1.0</td><td>0.0</td><td>0.0</td><td>0</td><td>-1.0 .. -1.0</td><td>-1.0 .. -1.0</td><td>-1.0 .. -1.0</td><td>-1.0 .. -1.0</td><td>0</td></tr>\n",
       "<tr><td>39636943411087730</td><td>2.1164474953572743</td><td>0.00037313705908073423</td><td>0</td><td>QSO</td><td>0</td><td>241.15182567849183</td><td>14.993790406480015</td><td>PSF</td><td>0.04544645</td><td>1.4213828</td><td>1.4006101</td><td>2.569474</td><td>1.9932244</td><td>8.790067</td><td>1054.4401</td><td>439.85742</td><td>85.66753</td><td>3.8760386</td><td>0.90672296</td><td>0.8588655063530335</td><td>0.8588655063530335</td><td>0.8588655063530335</td><td>0.8588655063530335</td><td>0.8588655063530335</td><td>0.980420524597168</td><td>0</td><td>54047318697103110</td><td>0</td><td>0</td><td>7</td><td>4531.634</td><td>0</td><td>0</td><td>0</td><td>0</td><td>0</td><td>0</td><td>358.97983</td><td>155.59758</td><td>76.60105</td><td>0.065148175</td><td>40.158916</td><td>0.23425454</td><td>0.00024259262</td><td>238.32555</td><td>0.00019616942</td><td>2.1164474</td><td>2.099882</td><td>0.9999957</td><td>0.999999</td><td>0.9999852</td><td>0.9999897</td><td>0.000809068</td><td>4.114421e-05</td><td>2.103665</td><td>2.099882</td><td>2.1130867</td><td>2.1151109</td><td>0.7216358</td><td>0.34490427</td><td>14</td><td>8469</td><td>sv1</td><td>dark</td><td>20210404</td><td>10.651194 .. -0.5893626</td><td>1.1063673</td><td>0.0</td><td>0.0</td><td>0.0</td><td>0</td><td>-1.0 .. -1.0</td><td>-1.0 .. -1.0</td><td>-1.0 .. -1.0</td><td>-1.0 .. -1.0</td><td>0.0</td><td>0.0</td><td>0</td><td>-1.0 .. -1.0</td><td>-1.0 .. -1.0</td><td>-1.0 .. -1.0</td><td>-1.0 .. -1.0</td><td>0.0</td><td>0.0</td><td>0</td><td>-1.0 .. -1.0</td><td>-1.0 .. -1.0</td><td>-1.0 .. -1.0</td><td>-1.0 .. -1.0</td><td>0.0</td><td>0.0</td><td>0</td><td>-1.0 .. -1.0</td><td>-1.0 .. -1.0</td><td>-1.0 .. -1.0</td><td>-1.0 .. -1.0</td><td>0</td></tr>\n",
       "<tr><td>39636943411087762</td><td>2.2106473063244145</td><td>0.00022649438870463756</td><td>0</td><td>QSO</td><td>0</td><td>241.15370133509785</td><td>15.017817234989401</td><td>PSF</td><td>0.046458486</td><td>2.7938485</td><td>2.753556</td><td>3.1827934</td><td>3.6673303</td><td>5.199359</td><td>922.2446</td><td>397.49515</td><td>85.301575</td><td>3.9854088</td><td>0.9200366</td><td>0.8559605681498006</td><td>0.8559605681498006</td><td>0.8559605681498006</td><td>0.8559605681498006</td><td>0.8559605681498006</td><td>0.99674766933918</td><td>0</td><td>54044020162216710</td><td>0</td><td>0</td><td>7</td><td>4531.634</td><td>0</td><td>0</td><td>0</td><td>0</td><td>0</td><td>0</td><td>594.6035</td><td>174.97751</td><td>114.00932</td><td>13.197679</td><td>956.3723</td><td>-12.66614</td><td>3537050.5</td><td>4744178700.0</td><td>3537073.8</td><td>2.2106473</td><td>2.21086</td><td>0.9917541</td><td>0.99999994</td><td>0.9999867</td><td>0.9999975</td><td>8.103805e-06</td><td>1.7674829e-05</td><td>2.207467</td><td>2.21086</td><td>2.2085161</td><td>2.2090273</td><td>0.029336823</td><td>0.023410944</td><td>10</td><td>8469</td><td>sv1</td><td>dark</td><td>20210404</td><td>35.76041 .. -0.054519273</td><td>1.2985259</td><td>0.0</td><td>0.0</td><td>0.0</td><td>0</td><td>-1.0 .. -1.0</td><td>-1.0 .. -1.0</td><td>-1.0 .. -1.0</td><td>-1.0 .. -1.0</td><td>0.0</td><td>0.0</td><td>0</td><td>-1.0 .. -1.0</td><td>-1.0 .. -1.0</td><td>-1.0 .. -1.0</td><td>-1.0 .. -1.0</td><td>0.0</td><td>0.0</td><td>0</td><td>-1.0 .. -1.0</td><td>-1.0 .. -1.0</td><td>-1.0 .. -1.0</td><td>-1.0 .. -1.0</td><td>0.0</td><td>0.0</td><td>0</td><td>-1.0 .. -1.0</td><td>-1.0 .. -1.0</td><td>-1.0 .. -1.0</td><td>-1.0 .. -1.0</td><td>0</td></tr>\n",
       "<tr><td>39636943411090353</td><td>2.363019788428726</td><td>0.0003761537103971518</td><td>0</td><td>QSO</td><td>0</td><td>241.2750646779111</td><td>14.98299983668791</td><td>PSF</td><td>0.045427475</td><td>0.67092025</td><td>0.5995034</td><td>0.7160719</td><td>1.7973126</td><td>1.7268771</td><td>1178.2909</td><td>601.2733</td><td>100.5875</td><td>4.044699</td><td>0.95048434</td><td>0.858920070810232</td><td>0.858920070810232</td><td>0.858920070810232</td><td>0.858920070810232</td><td>0.858920070810232</td><td>0.9597962411344051</td><td>0</td><td>81065617926464262</td><td>0</td><td>0</td><td>7</td><td>4531.634</td><td>0</td><td>0</td><td>0</td><td>0</td><td>0</td><td>0</td><td>309.5653</td><td>133.86658</td><td>14.685106</td><td>0.9630788</td><td>298.23206</td><td>-0.78148097</td><td>721.2243</td><td>19114512.0</td><td>721.7151</td><td>2.3630197</td><td>2.3566608</td><td>0.9999991</td><td>0.9999994</td><td>0.999996</td><td>1.0</td><td>1.4239682e-05</td><td>8.379227e-05</td><td>2.353203</td><td>2.352952</td><td>2.3556292</td><td>2.3566608</td><td>0.46730208</td><td>0.43978944</td><td>10</td><td>8469</td><td>sv1</td><td>dark</td><td>20210404</td><td>7.783299 .. -0.06335446</td><td>1.099433</td><td>0.0</td><td>0.0</td><td>0.0</td><td>0</td><td>-1.0 .. -1.0</td><td>-1.0 .. -1.0</td><td>-1.0 .. -1.0</td><td>-1.0 .. -1.0</td><td>0.0</td><td>0.0</td><td>0</td><td>-1.0 .. -1.0</td><td>-1.0 .. -1.0</td><td>-1.0 .. -1.0</td><td>-1.0 .. -1.0</td><td>0.0</td><td>0.0</td><td>0</td><td>-1.0 .. -1.0</td><td>-1.0 .. -1.0</td><td>-1.0 .. -1.0</td><td>-1.0 .. -1.0</td><td>0.0</td><td>0.0</td><td>0</td><td>-1.0 .. -1.0</td><td>-1.0 .. -1.0</td><td>-1.0 .. -1.0</td><td>-1.0 .. -1.0</td><td>0</td></tr>\n",
       "<tr><td>39637324216142698</td><td>2.6514860546394026</td><td>0.0002878936938941479</td><td>0</td><td>GALAXY</td><td>0</td><td>234.17531672785034</td><td>32.14308713074139</td><td>PSF</td><td>0.02200672</td><td>4.5372996</td><td>7.6120014</td><td>11.507802</td><td>18.883518</td><td>25.917593</td><td>579.55145</td><td>234.7179</td><td>102.26409</td><td>4.2744417</td><td>1.0924915</td><td>0.9289756098381563</td><td>0.9289756098381563</td><td>0.9289756098381563</td><td>0.9289756098381563</td><td>0.9289756098381563</td><td>0.9929246853590011</td><td>0</td><td>4665729213955883012</td><td>34359869440</td><td>0</td><td>2</td><td>1330.9135</td><td>0</td><td>0</td><td>0</td><td>0</td><td>0</td><td>0</td><td>209.09698</td><td>59.903175</td><td>39.12947</td><td>0.2674034</td><td>29.715805</td><td>1.5288099</td><td>0.004985488</td><td>114.85083</td><td>0.0020306257</td><td>1.1195567</td><td>2.681106</td><td>0.9999982</td><td>0.9999928</td><td>0.9999965</td><td>0.0002910637</td><td>1.464517e-05</td><td>6.4778804e-05</td><td>2.681106</td><td>2.6794825</td><td>2.6865997</td><td>1.4196597</td><td>0.43850917</td><td>-0.10963411</td><td>28</td><td>9738</td><td>sv1</td><td>dark</td><td>20210406</td><td>78.94193 .. 4.8778815</td><td>2.072131</td><td>0.0</td><td>0.0</td><td>0.0</td><td>0</td><td>-1.0 .. -1.0</td><td>-1.0 .. -1.0</td><td>-1.0 .. -1.0</td><td>-1.0 .. -1.0</td><td>98.43577</td><td>5.4873166</td><td>1</td><td>12983.169 .. -1.0</td><td>13704.009 .. -1.0</td><td>13407.192 .. -1.0</td><td>-0.20031928 .. -1.0</td><td>0.0</td><td>0.0</td><td>0</td><td>-1.0 .. -1.0</td><td>-1.0 .. -1.0</td><td>-1.0 .. -1.0</td><td>-1.0 .. -1.0</td><td>902.0596</td><td>11.289164</td><td>2</td><td>9536.085 .. -1.0</td><td>10240.819 .. -1.0</td><td>9911.943 .. -1.0</td><td>-0.17665328 .. -1.0</td><td>0</td></tr>\n",
       "<tr><td>39637324216142968</td><td>2.402410072001555</td><td>0.0003715083793024517</td><td>0</td><td>QSO</td><td>0</td><td>234.1914430023458</td><td>32.316014469374394</td><td>PSF</td><td>0.0262842</td><td>2.423096</td><td>2.5143983</td><td>2.7354505</td><td>4.4767776</td><td>4.181768</td><td>360.48035</td><td>281.2694</td><td>67.11084</td><td>5.1619205</td><td>1.2807993</td><td>0.915767575326626</td><td>0.915767575326626</td><td>0.915767575326626</td><td>0.915767575326626</td><td>0.915767575326626</td><td>0.9953546917438507</td><td>0</td><td>54044020162216710</td><td>0</td><td>0</td><td>2</td><td>1330.9135</td><td>0</td><td>0</td><td>0</td><td>0</td><td>0</td><td>0</td><td>122.23333</td><td>44.90462</td><td>8.965994</td><td>0.2406983</td><td>43.09986</td><td>0.3541518</td><td>0.00137406</td><td>94.965195</td><td>0.0010722921</td><td>2.40241</td><td>2.4007552</td><td>0.99999875</td><td>0.99999976</td><td>0.9999985</td><td>0.9999993</td><td>2.0565652e-05</td><td>2.1917675e-05</td><td>2.40188</td><td>2.4007552</td><td>2.405566</td><td>2.4062366</td><td>0.16241604</td><td>-0.45066813</td><td>10</td><td>9738</td><td>sv1</td><td>dark</td><td>20210406</td><td>30.85951 .. 0.54576373</td><td>0.99009377</td><td>0.0</td><td>0.0</td><td>0.0</td><td>0</td><td>-1.0 .. -1.0</td><td>-1.0 .. -1.0</td><td>-1.0 .. -1.0</td><td>-1.0 .. -1.0</td><td>0.0</td><td>0.0</td><td>0</td><td>-1.0 .. -1.0</td><td>-1.0 .. -1.0</td><td>-1.0 .. -1.0</td><td>-1.0 .. -1.0</td><td>0.0</td><td>0.0</td><td>0</td><td>-1.0 .. -1.0</td><td>-1.0 .. -1.0</td><td>-1.0 .. -1.0</td><td>-1.0 .. -1.0</td><td>0.0</td><td>0.0</td><td>0</td><td>-1.0 .. -1.0</td><td>-1.0 .. -1.0</td><td>-1.0 .. -1.0</td><td>-1.0 .. -1.0</td><td>0</td></tr>\n",
       "</table></div>"
      ],
      "text/plain": [
       "<Table length=21133>\n",
       "     TARGETID             Z          ...    FMIN_SIIV_450    BALMASK\n",
       "      int64            float64       ...     float32[17]      uint8 \n",
       "----------------- ------------------ ... ------------------- -------\n",
       "39627136847319542  2.334165306571836 ...        -1.0 .. -1.0       0\n",
       "39627142190859939  2.175128666031821 ...        -1.0 .. -1.0       0\n",
       "39627152919890882  2.453393365329811 ...        -1.0 .. -1.0       0\n",
       "39627152928280526 2.2729089200538217 ...        -1.0 .. -1.0       0\n",
       "39627152928280792  2.122640893549859 ...        -1.0 .. -1.0       0\n",
       "39627158326346599   2.45183412541748 ...        -1.0 .. -1.0       0\n",
       "              ...                ... ...                 ...     ...\n",
       "39636931708979738   3.26625773860568 ...        -1.0 .. -1.0       0\n",
       "39636931708981011 2.2212048220180334 ...        -1.0 .. -1.0       0\n",
       "39636943411087730 2.1164474953572743 ...        -1.0 .. -1.0       0\n",
       "39636943411087762 2.2106473063244145 ...        -1.0 .. -1.0       0\n",
       "39636943411090353  2.363019788428726 ...        -1.0 .. -1.0       0\n",
       "39637324216142698 2.6514860546394026 ... -0.17665328 .. -1.0       0\n",
       "39637324216142968  2.402410072001555 ...        -1.0 .. -1.0       0"
      ]
     },
     "execution_count": 133,
     "metadata": {},
     "output_type": "execute_result"
    }
   ],
   "source": [
    "B = A2[match_corcat]\n",
    "B = B.group_by(\"TARGETID\")\n",
    "B"
   ]
  },
  {
   "cell_type": "code",
   "execution_count": 134,
   "id": "cafedb7e",
   "metadata": {},
   "outputs": [
    {
     "data": {
      "text/html": [
       "<div><i>Table length=26763</i>\n",
       "<table id=\"table139702329699216\" class=\"table-striped table-bordered table-condensed\">\n",
       "<thead><tr><th>TARGETID</th><th>Z</th><th>ZERR</th><th>ZWARN</th><th>SPECTYPE</th><th>COADD_FIBERSTATUS</th><th>TARGET_RA</th><th>TARGET_DEC</th><th>MORPHTYPE</th><th>EBV</th><th>FLUX_G</th><th>FLUX_R</th><th>FLUX_Z</th><th>FLUX_W1</th><th>FLUX_W2</th><th>FLUX_IVAR_G</th><th>FLUX_IVAR_R</th><th>FLUX_IVAR_Z</th><th>FLUX_IVAR_W1</th><th>FLUX_IVAR_W2</th><th>MW_TRANSMISSION_G</th><th>MW_TRANSMISSION_R</th><th>MW_TRANSMISSION_Z</th><th>MW_TRANSMISSION_W1</th><th>MW_TRANSMISSION_W2</th><th>PROBA_RF</th><th>MASKBITS</th><th>SV1_DESI_TARGET</th><th>SV1_SCND_TARGET</th><th>DESI_TARGET</th><th>COADD_NUMEXP</th><th>COADD_EXPTIME</th><th>CMX_TARGET</th><th>SV2_DESI_TARGET</th><th>SV3_DESI_TARGET</th><th>SV2_SCND_TARGET</th><th>SV3_SCND_TARGET</th><th>SCND_TARGET</th><th>TSNR2_LYA</th><th>TSNR2_QSO</th><th>DELTA_CHI2_MGII</th><th>A_MGII</th><th>SIGMA_MGII</th><th>B_MGII</th><th>VAR_A_MGII</th><th>VAR_SIGMA_MGII</th><th>VAR_B_MGII</th><th>Z_RR</th><th>Z_QN</th><th>C_LYA</th><th>C_CIV</th><th>C_CIII</th><th>C_MgII</th><th>C_Hbeta</th><th>C_Halpha</th><th>Z_LYA</th><th>Z_CIV</th><th>Z_CIII</th><th>Z_MgII</th><th>Z_Hbeta</th><th>Z_Halpha</th><th>QSO_MASKBITS</th><th>HPXPIXEL</th><th>SURVEY</th><th>PROGRAM</th><th>PCA_COEFFS</th><th>PCA_CHI2</th><th>BAL_PROB</th><th>BI_CIV</th><th>ERR_BI_CIV</th><th>NCIV_2000</th><th>VMIN_CIV_2000</th><th>VMAX_CIV_2000</th><th>POSMIN_CIV_2000</th><th>FMIN_CIV_2000</th><th>AI_CIV</th><th>ERR_AI_CIV</th><th>NCIV_450</th><th>VMIN_CIV_450</th><th>VMAX_CIV_450</th><th>POSMIN_CIV_450</th><th>FMIN_CIV_450</th><th>BI_SIIV</th><th>ERR_BI_SIIV</th><th>NSIIV_2000</th><th>VMIN_SIIV_2000</th><th>VMAX_SIIV_2000</th><th>POSMIN_SIIV_2000</th><th>FMIN_SIIV_2000</th><th>AI_SIIV</th><th>ERR_AI_SIIV</th><th>NSIIV_450</th><th>VMIN_SIIV_450</th><th>VMAX_SIIV_450</th><th>POSMIN_SIIV_450</th><th>FMIN_SIIV_450</th><th>BALMASK</th><th>Z_MASK</th><th>ZERR_MASK</th><th>ZWARN_MASK</th><th>CHI2_MASK</th><th>DELTACHI2_MASK</th><th>SPECTYPE_MASK</th><th>SNR_CIV</th></tr></thead>\n",
       "<thead><tr><th></th><th></th><th></th><th></th><th></th><th></th><th>deg</th><th>deg</th><th></th><th>mag</th><th>nanomaggy</th><th>nanomaggy</th><th>nanomaggy</th><th>nanomaggy</th><th>nanomaggy</th><th>nanomaggy^-2</th><th>nanomaggy^-2</th><th>nanomaggy^-2</th><th>nanomaggy^-2</th><th>nanomaggy^-2</th><th></th><th></th><th></th><th></th><th></th><th></th><th></th><th></th><th></th><th></th><th></th><th></th><th></th><th></th><th></th><th></th><th></th><th></th><th></th><th></th><th></th><th></th><th></th><th></th><th></th><th></th><th></th><th></th><th></th><th></th><th></th><th></th><th></th><th></th><th></th><th></th><th></th><th></th><th></th><th></th><th></th><th></th><th></th><th></th><th></th><th></th><th></th><th></th><th>km / s</th><th>km / s</th><th></th><th>km / s</th><th>km / s</th><th>km / s</th><th></th><th>km / s</th><th>km / s</th><th></th><th>km / s</th><th>km / s</th><th>km / s</th><th></th><th>km / s</th><th>km / s</th><th></th><th>km / s</th><th>km / s</th><th>km / s</th><th></th><th>km / s</th><th>km / s</th><th></th><th>km / s</th><th>km / s</th><th>km / s</th><th></th><th></th><th></th><th></th><th></th><th></th><th></th><th></th><th></th></tr></thead>\n",
       "<thead><tr><th>int64</th><th>float64</th><th>float64</th><th>int64</th><th>str6</th><th>int32</th><th>float64</th><th>float64</th><th>str4</th><th>float32</th><th>float32</th><th>float32</th><th>float32</th><th>float32</th><th>float32</th><th>float32</th><th>float32</th><th>float32</th><th>float32</th><th>float32</th><th>float64</th><th>float64</th><th>float64</th><th>float64</th><th>float64</th><th>float64</th><th>int16</th><th>int64</th><th>int64</th><th>int64</th><th>int16</th><th>float32</th><th>int64</th><th>int64</th><th>int64</th><th>int64</th><th>int64</th><th>int64</th><th>float32</th><th>float32</th><th>float32</th><th>float32</th><th>float32</th><th>float32</th><th>float32</th><th>float32</th><th>float32</th><th>float32</th><th>float32</th><th>float32</th><th>float32</th><th>float32</th><th>float32</th><th>float32</th><th>float32</th><th>float32</th><th>float32</th><th>float32</th><th>float32</th><th>float32</th><th>float32</th><th>int32</th><th>int64</th><th>str3</th><th>str4</th><th>float32[5]</th><th>float32</th><th>float32</th><th>float32</th><th>float32</th><th>int32</th><th>float32[5]</th><th>float32[5]</th><th>float32[5]</th><th>float32[5]</th><th>float32</th><th>float32</th><th>int32</th><th>float32[17]</th><th>float32[17]</th><th>float32[17]</th><th>float32[17]</th><th>float32</th><th>float32</th><th>int32</th><th>float32[5]</th><th>float32[5]</th><th>float32[5]</th><th>float32[5]</th><th>float32</th><th>float32</th><th>int32</th><th>float32[17]</th><th>float32[17]</th><th>float32[17]</th><th>float32[17]</th><th>uint8</th><th>float64</th><th>float64</th><th>int64</th><th>float64</th><th>float64</th><th>str6</th><th>float64</th></tr></thead>\n",
       "<tr><td>1083386135314440</td><td>3.631155815059421</td><td>0.0007740990556025613</td><td>4</td><td>QSO</td><td>0</td><td>150.1172290943953</td><td>3.203639817689895</td><td>--</td><td>0.0</td><td>0.0</td><td>0.0</td><td>0.0</td><td>0.0</td><td>0.0</td><td>0.0</td><td>0.0</td><td>0.0</td><td>0.0</td><td>0.0</td><td>1.0</td><td>1.0</td><td>1.0</td><td>1.0</td><td>1.0</td><td>0.997675796508789</td><td>0</td><td>0</td><td>0</td><td>0</td><td>4</td><td>5545.4507</td><td>0</td><td>0</td><td>4611686018427387904</td><td>0</td><td>70368744177664</td><td>0</td><td>205.45746</td><td>108.59245</td><td>--</td><td>--</td><td>--</td><td>--</td><td>--</td><td>--</td><td>--</td><td>3.6311557</td><td>1.5085001</td><td>0.0007476383</td><td>4.9172184e-05</td><td>0.0020246075</td><td>0.00030511015</td><td>0.00014915048</td><td>0.00031868834</td><td>3.9982815</td><td>4.1089396</td><td>1.5085001</td><td>0.32323426</td><td>0.33692527</td><td>0.22890207</td><td>2</td><td>27259</td><td>sv3</td><td>dark</td><td>0.38701344 .. -0.13898505</td><td>1.0797844</td><td>0.0</td><td>0.0</td><td>0.0</td><td>0</td><td>-1.0 .. -1.0</td><td>-1.0 .. -1.0</td><td>-1.0 .. -1.0</td><td>-1.0 .. -1.0</td><td>0.0</td><td>0.0</td><td>0</td><td>-1.0 .. -1.0</td><td>-1.0 .. -1.0</td><td>-1.0 .. -1.0</td><td>-1.0 .. -1.0</td><td>0.0</td><td>0.0</td><td>0</td><td>-1.0 .. -1.0</td><td>-1.0 .. -1.0</td><td>-1.0 .. -1.0</td><td>-1.0 .. -1.0</td><td>0.0</td><td>0.0</td><td>0</td><td>-1.0 .. -1.0</td><td>-1.0 .. -1.0</td><td>-1.0 .. -1.0</td><td>-1.0 .. -1.0</td><td>0</td><td>-1.0</td><td>-1.0</td><td>-1</td><td>-1.0</td><td>-1.0</td><td>-1</td><td>0.49071757215759687</td></tr>\n",
       "<tr><td>1083393307574272</td><td>2.4328130904523575</td><td>0.0015506419586017728</td><td>4</td><td>GALAXY</td><td>0</td><td>218.11601975479252</td><td>3.456844830548416</td><td>--</td><td>0.0</td><td>0.0</td><td>0.0</td><td>0.0</td><td>0.0</td><td>0.0</td><td>0.0</td><td>0.0</td><td>0.0</td><td>0.0</td><td>0.0</td><td>1.0</td><td>1.0</td><td>1.0</td><td>1.0</td><td>1.0</td><td>0.997675796508789</td><td>0</td><td>0</td><td>0</td><td>0</td><td>1</td><td>1023.7778</td><td>0</td><td>0</td><td>4611686018427387904</td><td>0</td><td>70368744177664</td><td>0</td><td>33.64711</td><td>31.710672</td><td>3.9321053</td><td>0.11392317</td><td>16.187904</td><td>-0.008994076</td><td>0.0032281901</td><td>90.45671</td><td>0.00033598195</td><td>1.225154</td><td>2.4456637</td><td>0.011825093</td><td>0.018332023</td><td>0.6120433</td><td>0.98057455</td><td>2.510112e-05</td><td>1.2357961e-05</td><td>2.437483</td><td>2.504086</td><td>2.451604</td><td>2.4456637</td><td>0.48333326</td><td>0.46334296</td><td>24</td><td>25979</td><td>sv3</td><td>dark</td><td>3.6173832 .. -0.3486411</td><td>0.9208186</td><td>0.0</td><td>0.0</td><td>0.0</td><td>0</td><td>-1.0 .. -1.0</td><td>-1.0 .. -1.0</td><td>-1.0 .. -1.0</td><td>-1.0 .. -1.0</td><td>0.0</td><td>0.0</td><td>0</td><td>-1.0 .. -1.0</td><td>-1.0 .. -1.0</td><td>-1.0 .. -1.0</td><td>-1.0 .. -1.0</td><td>0.0</td><td>0.0</td><td>0</td><td>-1.0 .. -1.0</td><td>-1.0 .. -1.0</td><td>-1.0 .. -1.0</td><td>-1.0 .. -1.0</td><td>0.0</td><td>0.0</td><td>0</td><td>-1.0 .. -1.0</td><td>-1.0 .. -1.0</td><td>-1.0 .. -1.0</td><td>-1.0 .. -1.0</td><td>0</td><td>-1.0</td><td>-1.0</td><td>-1</td><td>-1.0</td><td>-1.0</td><td>-1</td><td>0.5238561644399842</td></tr>\n",
       "<tr><td>1084093743759365</td><td>3.645523913700645</td><td>0.0012711898171387358</td><td>4</td><td>QSO</td><td>0</td><td>217.2226705300488</td><td>34.459661780173505</td><td>--</td><td>0.0</td><td>0.0</td><td>0.0</td><td>0.0</td><td>0.0</td><td>0.0</td><td>0.0</td><td>0.0</td><td>0.0</td><td>0.0</td><td>0.0</td><td>1.0</td><td>1.0</td><td>1.0</td><td>1.0</td><td>1.0</td><td>0.997675796508789</td><td>0</td><td>0</td><td>0</td><td>0</td><td>3</td><td>1657.0813</td><td>0</td><td>0</td><td>4611686018427387904</td><td>0</td><td>70368744177664</td><td>0</td><td>89.06348</td><td>38.096607</td><td>--</td><td>--</td><td>--</td><td>--</td><td>--</td><td>--</td><td>--</td><td>3.645524</td><td>3.6743855</td><td>0.01218972</td><td>0.0027902036</td><td>0.0129107</td><td>0.0021819957</td><td>2.0823612e-05</td><td>4.612523e-06</td><td>2.056969</td><td>2.057216</td><td>3.6743855</td><td>1.0428545</td><td>1.0406367</td><td>0.13064273</td><td>2</td><td>10513</td><td>sv3</td><td>dark</td><td>2.102309 .. -0.30831492</td><td>1.0063334</td><td>0.0</td><td>0.0</td><td>0.0</td><td>0</td><td>-1.0 .. -1.0</td><td>-1.0 .. -1.0</td><td>-1.0 .. -1.0</td><td>-1.0 .. -1.0</td><td>0.0</td><td>0.0</td><td>0</td><td>-1.0 .. -1.0</td><td>-1.0 .. -1.0</td><td>-1.0 .. -1.0</td><td>-1.0 .. -1.0</td><td>0.0</td><td>0.0</td><td>0</td><td>-1.0 .. -1.0</td><td>-1.0 .. -1.0</td><td>-1.0 .. -1.0</td><td>-1.0 .. -1.0</td><td>0.0</td><td>0.0</td><td>0</td><td>-1.0 .. -1.0</td><td>-1.0 .. -1.0</td><td>-1.0 .. -1.0</td><td>-1.0 .. -1.0</td><td>0</td><td>-1.0</td><td>-1.0</td><td>-1</td><td>-1.0</td><td>-1.0</td><td>-1</td><td>0.5403630106950745</td></tr>\n",
       "<tr><td>1084393787490304</td><td>5.466968684083191</td><td>0.0009857454825403862</td><td>4</td><td>QSO</td><td>0</td><td>216.17297287740098</td><td>51.429790978104556</td><td>--</td><td>0.0</td><td>0.0</td><td>0.0</td><td>0.0</td><td>0.0</td><td>0.0</td><td>0.0</td><td>0.0</td><td>0.0</td><td>0.0</td><td>0.0</td><td>1.0</td><td>1.0</td><td>1.0</td><td>1.0</td><td>1.0</td><td>0.997675796508789</td><td>0</td><td>0</td><td>0</td><td>0</td><td>2</td><td>2572.7515</td><td>0</td><td>0</td><td>4611686018427387904</td><td>0</td><td>70368744177664</td><td>0</td><td>120.2545</td><td>50.096535</td><td>--</td><td>--</td><td>--</td><td>--</td><td>--</td><td>--</td><td>--</td><td>5.4669685</td><td>3.6038098</td><td>3.629465e-05</td><td>0.00014134408</td><td>0.00032877663</td><td>0.00027801716</td><td>8.817196e-05</td><td>6.7565506e-06</td><td>3.8454633</td><td>3.8437564</td><td>3.6038098</td><td>0.5707822</td><td>0.5759846</td><td>0.46310148</td><td>2</td><td>11403</td><td>sv3</td><td>dark</td><td>0.0 .. 0.0</td><td>0.0</td><td>-99.0</td><td>0.0</td><td>0.0</td><td>0</td><td>0.0 .. 0.0</td><td>0.0 .. 0.0</td><td>0.0 .. 0.0</td><td>0.0 .. 0.0</td><td>0.0</td><td>0.0</td><td>0</td><td>0.0 .. 0.0</td><td>0.0 .. 0.0</td><td>0.0 .. 0.0</td><td>0.0 .. 0.0</td><td>0.0</td><td>0.0</td><td>0</td><td>0.0 .. 0.0</td><td>0.0 .. 0.0</td><td>0.0 .. 0.0</td><td>0.0 .. 0.0</td><td>0.0</td><td>0.0</td><td>0</td><td>0.0 .. 0.0</td><td>0.0 .. 0.0</td><td>0.0 .. 0.0</td><td>0.0 .. 0.0</td><td>5</td><td>-1.0</td><td>-1.0</td><td>-1</td><td>-1.0</td><td>-1.0</td><td>-1</td><td>0.3905742323798082</td></tr>\n",
       "<tr><td>1084458555932679</td><td>2.70067312907354</td><td>0.0005362549563869834</td><td>0</td><td>GALAXY</td><td>0</td><td>244.3757235012527</td><td>56.0687399275527</td><td>--</td><td>0.0</td><td>0.0</td><td>0.0</td><td>0.0</td><td>0.0</td><td>0.0</td><td>0.0</td><td>0.0</td><td>0.0</td><td>0.0</td><td>0.0</td><td>1.0</td><td>1.0</td><td>1.0</td><td>1.0</td><td>1.0</td><td>0.997675796508789</td><td>0</td><td>0</td><td>0</td><td>0</td><td>3</td><td>2196.4836</td><td>0</td><td>0</td><td>4611686018427387904</td><td>0</td><td>70368744177664</td><td>0</td><td>60.240444</td><td>35.437492</td><td>4.246727</td><td>-0.11157566</td><td>13.568046</td><td>0.047505233</td><td>0.003948811</td><td>85.33372</td><td>0.0003633091</td><td>1.168033</td><td>2.726223</td><td>0.0016541609</td><td>4.0603587e-05</td><td>0.98118603</td><td>0.003501597</td><td>0.09932269</td><td>1.5336249e-07</td><td>2.6707294</td><td>2.6773942</td><td>2.726223</td><td>0.83918893</td><td>0.844608</td><td>-0.18481976</td><td>24</td><td>10158</td><td>sv3</td><td>dark</td><td>2.911212 .. -0.3946469</td><td>1.0617774</td><td>0.0</td><td>0.0</td><td>0.0</td><td>0</td><td>-1.0 .. -1.0</td><td>-1.0 .. -1.0</td><td>-1.0 .. -1.0</td><td>-1.0 .. -1.0</td><td>0.0</td><td>0.0</td><td>0</td><td>-1.0 .. -1.0</td><td>-1.0 .. -1.0</td><td>-1.0 .. -1.0</td><td>-1.0 .. -1.0</td><td>0.0</td><td>0.0</td><td>0</td><td>-1.0 .. -1.0</td><td>-1.0 .. -1.0</td><td>-1.0 .. -1.0</td><td>-1.0 .. -1.0</td><td>0.0</td><td>0.0</td><td>0</td><td>-1.0 .. -1.0</td><td>-1.0 .. -1.0</td><td>-1.0 .. -1.0</td><td>-1.0 .. -1.0</td><td>0</td><td>-1.0</td><td>-1.0</td><td>-1</td><td>-1.0</td><td>-1.0</td><td>-1</td><td>0.4693648886834431</td></tr>\n",
       "<tr><td>1084542089691137</td><td>5.048299491244062</td><td>0.0011767915953822216</td><td>0</td><td>QSO</td><td>0</td><td>270.52677277168857</td><td>62.73332781432875</td><td>--</td><td>0.0</td><td>0.0</td><td>0.0</td><td>0.0</td><td>0.0</td><td>0.0</td><td>0.0</td><td>0.0</td><td>0.0</td><td>0.0</td><td>0.0</td><td>1.0</td><td>1.0</td><td>1.0</td><td>1.0</td><td>1.0</td><td>0.997675796508789</td><td>0</td><td>0</td><td>0</td><td>0</td><td>1</td><td>950.2497</td><td>0</td><td>0</td><td>4611686018427387904</td><td>0</td><td>70368744177664</td><td>0</td><td>170.49971</td><td>45.332985</td><td>--</td><td>--</td><td>--</td><td>--</td><td>--</td><td>--</td><td>--</td><td>5.0482993</td><td>0.5511373</td><td>0.00010406026</td><td>0.00017223286</td><td>0.00013546343</td><td>0.0027940513</td><td>0.04904388</td><td>1.3279033e-06</td><td>3.8344736</td><td>2.9676428</td><td>3.8316941</td><td>0.5478073</td><td>0.5511373</td><td>0.14188653</td><td>2</td><td>15343</td><td>sv3</td><td>dark</td><td>0.0 .. 0.0</td><td>0.0</td><td>-99.0</td><td>0.0</td><td>0.0</td><td>0</td><td>0.0 .. 0.0</td><td>0.0 .. 0.0</td><td>0.0 .. 0.0</td><td>0.0 .. 0.0</td><td>0.0</td><td>0.0</td><td>0</td><td>0.0 .. 0.0</td><td>0.0 .. 0.0</td><td>0.0 .. 0.0</td><td>0.0 .. 0.0</td><td>0.0</td><td>0.0</td><td>0</td><td>0.0 .. 0.0</td><td>0.0 .. 0.0</td><td>0.0 .. 0.0</td><td>0.0 .. 0.0</td><td>0.0</td><td>0.0</td><td>0</td><td>0.0 .. 0.0</td><td>0.0 .. 0.0</td><td>0.0 .. 0.0</td><td>0.0 .. 0.0</td><td>5</td><td>-1.0</td><td>-1.0</td><td>-1</td><td>-1.0</td><td>-1.0</td><td>-1</td><td>0.3608913479682382</td></tr>\n",
       "<tr><td>...</td><td>...</td><td>...</td><td>...</td><td>...</td><td>...</td><td>...</td><td>...</td><td>...</td><td>...</td><td>...</td><td>...</td><td>...</td><td>...</td><td>...</td><td>...</td><td>...</td><td>...</td><td>...</td><td>...</td><td>...</td><td>...</td><td>...</td><td>...</td><td>...</td><td>...</td><td>...</td><td>...</td><td>...</td><td>...</td><td>...</td><td>...</td><td>...</td><td>...</td><td>...</td><td>...</td><td>...</td><td>...</td><td>...</td><td>...</td><td>...</td><td>...</td><td>...</td><td>...</td><td>...</td><td>...</td><td>...</td><td>...</td><td>...</td><td>...</td><td>...</td><td>...</td><td>...</td><td>...</td><td>...</td><td>...</td><td>...</td><td>...</td><td>...</td><td>...</td><td>...</td><td>...</td><td>...</td><td>...</td><td>...</td><td>...</td><td>...</td><td>...</td><td>...</td><td>...</td><td>...</td><td>...</td><td>...</td><td>...</td><td>...</td><td>...</td><td>...</td><td>...</td><td>...</td><td>...</td><td>...</td><td>...</td><td>...</td><td>...</td><td>...</td><td>...</td><td>...</td><td>...</td><td>...</td><td>...</td><td>...</td><td>...</td><td>...</td><td>...</td><td>...</td><td>...</td><td>...</td><td>...</td><td>...</td><td>...</td><td>...</td><td>...</td><td>...</td><td>...</td></tr>\n",
       "<tr><td>616094315965317603</td><td>5.137974917136235</td><td>0.0006002420518283906</td><td>1</td><td>QSO</td><td>0</td><td>170.29665476510212</td><td>82.97163824363831</td><td>--</td><td>0.0</td><td>0.0</td><td>0.0</td><td>0.0</td><td>0.0</td><td>0.0</td><td>0.0</td><td>0.0</td><td>0.0</td><td>0.0</td><td>0.0</td><td>1.0</td><td>1.0</td><td>1.0</td><td>1.0</td><td>1.0</td><td>0.997675796508789</td><td>0</td><td>0</td><td>0</td><td>4294967296</td><td>19</td><td>14843.96</td><td>0</td><td>0</td><td>0</td><td>0</td><td>0</td><td>0</td><td>774.41626</td><td>204.64026</td><td>--</td><td>--</td><td>--</td><td>--</td><td>--</td><td>--</td><td>--</td><td>5.1379747</td><td>0.55648273</td><td>0.00014278728</td><td>0.0013085587</td><td>9.496055e-05</td><td>0.0016522353</td><td>0.0003849112</td><td>0.0002101087</td><td>4.3025374</td><td>2.3540084</td><td>3.924598</td><td>0.55648273</td><td>0.55957127</td><td>0.12004923</td><td>2</td><td>8062</td><td>sv1</td><td>dark</td><td>0.0 .. 0.0</td><td>0.0</td><td>-99.0</td><td>0.0</td><td>0.0</td><td>0</td><td>0.0 .. 0.0</td><td>0.0 .. 0.0</td><td>0.0 .. 0.0</td><td>0.0 .. 0.0</td><td>0.0</td><td>0.0</td><td>0</td><td>0.0 .. 0.0</td><td>0.0 .. 0.0</td><td>0.0 .. 0.0</td><td>0.0 .. 0.0</td><td>0.0</td><td>0.0</td><td>0</td><td>0.0 .. 0.0</td><td>0.0 .. 0.0</td><td>0.0 .. 0.0</td><td>0.0 .. 0.0</td><td>0.0</td><td>0.0</td><td>0</td><td>0.0 .. 0.0</td><td>0.0 .. 0.0</td><td>0.0 .. 0.0</td><td>0.0 .. 0.0</td><td>5</td><td>-1.0</td><td>-1.0</td><td>-1</td><td>-1.0</td><td>-1.0</td><td>-1</td><td>0.2367086843890445</td></tr>\n",
       "<tr><td>616094317391381068</td><td>4.622389109432799</td><td>0.0010734712999040654</td><td>5</td><td>QSO</td><td>0</td><td>152.47971199068976</td><td>83.49470300369478</td><td>--</td><td>0.0</td><td>0.0</td><td>0.0</td><td>0.0</td><td>0.0</td><td>0.0</td><td>0.0</td><td>0.0</td><td>0.0</td><td>0.0</td><td>0.0</td><td>1.0</td><td>1.0</td><td>1.0</td><td>1.0</td><td>1.0</td><td>0.997675796508789</td><td>0</td><td>0</td><td>0</td><td>4294967296</td><td>2</td><td>1553.3754</td><td>0</td><td>0</td><td>0</td><td>0</td><td>0</td><td>0</td><td>84.77094</td><td>36.03066</td><td>--</td><td>--</td><td>--</td><td>--</td><td>--</td><td>--</td><td>--</td><td>4.6223893</td><td>2.136265</td><td>0.00013706087</td><td>0.00058458647</td><td>0.005788103</td><td>0.0012387107</td><td>4.5857847e-05</td><td>6.252065e-05</td><td>4.8541284</td><td>1.4262965</td><td>2.136265</td><td>2.150957</td><td>0.98576754</td><td>0.3311731</td><td>2</td><td>8147</td><td>sv1</td><td>dark</td><td>-1.3760478 .. 0.061793</td><td>1.0367191</td><td>0.0</td><td>0.0</td><td>0.0</td><td>0</td><td>-1.0 .. -1.0</td><td>-1.0 .. -1.0</td><td>-1.0 .. -1.0</td><td>-1.0 .. -1.0</td><td>0.0</td><td>0.0</td><td>0</td><td>-1.0 .. -1.0</td><td>-1.0 .. -1.0</td><td>-1.0 .. -1.0</td><td>-1.0 .. -1.0</td><td>0.0</td><td>0.0</td><td>0</td><td>-1.0 .. -1.0</td><td>-1.0 .. -1.0</td><td>-1.0 .. -1.0</td><td>-1.0 .. -1.0</td><td>0.0</td><td>0.0</td><td>0</td><td>-1.0 .. -1.0</td><td>-1.0 .. -1.0</td><td>-1.0 .. -1.0</td><td>-1.0 .. -1.0</td><td>0</td><td>-1.0</td><td>-1.0</td><td>-1</td><td>-1.0</td><td>-1.0</td><td>-1</td><td>0.34873247873762536</td></tr>\n",
       "<tr><td>616094318045692832</td><td>2.1315028393780797</td><td>0.00038165484079742776</td><td>5</td><td>QSO</td><td>0</td><td>133.77128856427052</td><td>83.81632686293491</td><td>--</td><td>0.0</td><td>0.0</td><td>0.0</td><td>0.0</td><td>0.0</td><td>0.0</td><td>0.0</td><td>0.0</td><td>0.0</td><td>0.0</td><td>0.0</td><td>1.0</td><td>1.0</td><td>1.0</td><td>1.0</td><td>1.0</td><td>0.997675796508789</td><td>0</td><td>0</td><td>0</td><td>4294967296</td><td>11</td><td>9900.561</td><td>0</td><td>0</td><td>0</td><td>0</td><td>0</td><td>0</td><td>369.91943</td><td>143.84598</td><td>8.606501</td><td>0.009635851</td><td>38.266884</td><td>-0.031574536</td><td>0.00048766003</td><td>15039.625</td><td>0.00032095128</td><td>2.1315029</td><td>1.9440756</td><td>0.00015512561</td><td>0.001063296</td><td>0.00050363987</td><td>0.011640287</td><td>3.347683e-05</td><td>1.4459454e-05</td><td>2.814538</td><td>2.8214962</td><td>1.4850944</td><td>1.9440756</td><td>0.14147086</td><td>0.16077627</td><td>2</td><td>8143</td><td>sv1</td><td>dark</td><td>2.2026935 .. -0.21752276</td><td>0.9513512</td><td>0.0</td><td>0.0</td><td>0.0</td><td>0</td><td>-1.0 .. -1.0</td><td>-1.0 .. -1.0</td><td>-1.0 .. -1.0</td><td>-1.0 .. -1.0</td><td>0.0</td><td>0.0</td><td>0</td><td>-1.0 .. -1.0</td><td>-1.0 .. -1.0</td><td>-1.0 .. -1.0</td><td>-1.0 .. -1.0</td><td>0.0</td><td>0.0</td><td>0</td><td>-1.0 .. -1.0</td><td>-1.0 .. -1.0</td><td>-1.0 .. -1.0</td><td>-1.0 .. -1.0</td><td>0.0</td><td>0.0</td><td>0</td><td>-1.0 .. -1.0</td><td>-1.0 .. -1.0</td><td>-1.0 .. -1.0</td><td>-1.0 .. -1.0</td><td>0</td><td>-1.0</td><td>-1.0</td><td>-1</td><td>-1.0</td><td>-1.0</td><td>-1</td><td>0.6322519651126809</td></tr>\n",
       "<tr><td>616094319358509095</td><td>3.790011912948501</td><td>0.0010074079036712646</td><td>1</td><td>GALAXY</td><td>0</td><td>143.2195804829999</td><td>84.13225501007828</td><td>--</td><td>0.0</td><td>0.0</td><td>0.0</td><td>0.0</td><td>0.0</td><td>0.0</td><td>0.0</td><td>0.0</td><td>0.0</td><td>0.0</td><td>0.0</td><td>1.0</td><td>1.0</td><td>1.0</td><td>1.0</td><td>1.0</td><td>0.997675796508789</td><td>0</td><td>0</td><td>0</td><td>4294967296</td><td>11</td><td>9900.561</td><td>0</td><td>0</td><td>0</td><td>0</td><td>0</td><td>0</td><td>434.5055</td><td>130.9518</td><td>5.0688505</td><td>-0.14174435</td><td>84.51464</td><td>0.0815478</td><td>0.22010349</td><td>49770.945</td><td>0.23882188</td><td>0.48899174</td><td>3.789538</td><td>0.9730577</td><td>0.99709225</td><td>0.99237484</td><td>8.9826055e-05</td><td>6.6589405e-07</td><td>1.2222662e-06</td><td>3.7843373</td><td>3.789538</td><td>3.7837603</td><td>1.1077429</td><td>0.024394128</td><td>-0.05643516</td><td>24</td><td>8154</td><td>sv1</td><td>dark</td><td>0.49001488 .. -0.29049996</td><td>1.1661887</td><td>0.0</td><td>0.0</td><td>0.0</td><td>0</td><td>-1.0 .. -1.0</td><td>-1.0 .. -1.0</td><td>-1.0 .. -1.0</td><td>-1.0 .. -1.0</td><td>0.0</td><td>0.0</td><td>0</td><td>-1.0 .. -1.0</td><td>-1.0 .. -1.0</td><td>-1.0 .. -1.0</td><td>-1.0 .. -1.0</td><td>0.0</td><td>0.0</td><td>0</td><td>-1.0 .. -1.0</td><td>-1.0 .. -1.0</td><td>-1.0 .. -1.0</td><td>-1.0 .. -1.0</td><td>0.0</td><td>0.0</td><td>0</td><td>-1.0 .. -1.0</td><td>-1.0 .. -1.0</td><td>-1.0 .. -1.0</td><td>-1.0 .. -1.0</td><td>0</td><td>-1.0</td><td>-1.0</td><td>-1</td><td>-1.0</td><td>-1.0</td><td>-1</td><td>0.3670923783792454</td></tr>\n",
       "<tr><td>616094319379481599</td><td>5.813123526469343</td><td>0.0005786879464977549</td><td>1</td><td>QSO</td><td>0</td><td>155.16375213740855</td><td>84.33941922186328</td><td>--</td><td>0.0</td><td>0.0</td><td>0.0</td><td>0.0</td><td>0.0</td><td>0.0</td><td>0.0</td><td>0.0</td><td>0.0</td><td>0.0</td><td>0.0</td><td>1.0</td><td>1.0</td><td>1.0</td><td>1.0</td><td>1.0</td><td>0.997675796508789</td><td>0</td><td>0</td><td>0</td><td>4294967296</td><td>19</td><td>14843.96</td><td>0</td><td>0</td><td>0</td><td>0</td><td>0</td><td>0</td><td>573.58026</td><td>159.49986</td><td>--</td><td>--</td><td>--</td><td>--</td><td>--</td><td>--</td><td>--</td><td>5.8131237</td><td>1.9460748</td><td>0.0010377254</td><td>0.0009216733</td><td>0.13008976</td><td>0.010836527</td><td>0.00018433819</td><td>2.8549131e-05</td><td>3.4792936</td><td>1.9135529</td><td>1.9460748</td><td>1.932896</td><td>0.6800207</td><td>0.23661129</td><td>2</td><td>8153</td><td>sv1</td><td>dark</td><td>0.0 .. 0.0</td><td>0.0</td><td>-99.0</td><td>0.0</td><td>0.0</td><td>0</td><td>0.0 .. 0.0</td><td>0.0 .. 0.0</td><td>0.0 .. 0.0</td><td>0.0 .. 0.0</td><td>0.0</td><td>0.0</td><td>0</td><td>0.0 .. 0.0</td><td>0.0 .. 0.0</td><td>0.0 .. 0.0</td><td>0.0 .. 0.0</td><td>0.0</td><td>0.0</td><td>0</td><td>0.0 .. 0.0</td><td>0.0 .. 0.0</td><td>0.0 .. 0.0</td><td>0.0 .. 0.0</td><td>0.0</td><td>0.0</td><td>0</td><td>0.0 .. 0.0</td><td>0.0 .. 0.0</td><td>0.0 .. 0.0</td><td>0.0 .. 0.0</td><td>5</td><td>-1.0</td><td>-1.0</td><td>-1</td><td>-1.0</td><td>-1.0</td><td>-1</td><td>0.7948061941466067</td></tr>\n",
       "<tr><td>616094319404646696</td><td>3.836116061122512</td><td>0.0008397858473472297</td><td>1</td><td>GALAXY</td><td>0</td><td>169.16139389538571</td><td>84.18234294774518</td><td>--</td><td>0.0</td><td>0.0</td><td>0.0</td><td>0.0</td><td>0.0</td><td>0.0</td><td>0.0</td><td>0.0</td><td>0.0</td><td>0.0</td><td>0.0</td><td>1.0</td><td>1.0</td><td>1.0</td><td>1.0</td><td>1.0</td><td>0.997675796508789</td><td>0</td><td>0</td><td>0</td><td>4294967296</td><td>17</td><td>13290.584</td><td>0</td><td>0</td><td>0</td><td>0</td><td>0</td><td>0</td><td>376.0161</td><td>127.598656</td><td>18.804201</td><td>507.85434</td><td>49563.27</td><td>-507.86072</td><td>165907810000.0</td><td>394994080000000.0</td><td>165907810000.0</td><td>1.5425358</td><td>3.8319767</td><td>0.9506522</td><td>0.99907744</td><td>0.9787302</td><td>0.0007626543</td><td>9.185645e-06</td><td>8.232039e-06</td><td>3.8398635</td><td>3.8319767</td><td>3.813784</td><td>1.1243407</td><td>0.55622345</td><td>-0.18225203</td><td>24</td><td>8151</td><td>sv1</td><td>dark</td><td>-0.06245965 .. -0.27928638</td><td>1.4242396</td><td>0.0</td><td>0.0</td><td>0.0</td><td>0</td><td>-1.0 .. -1.0</td><td>-1.0 .. -1.0</td><td>-1.0 .. -1.0</td><td>-1.0 .. -1.0</td><td>0.0</td><td>0.0</td><td>0</td><td>-1.0 .. -1.0</td><td>-1.0 .. -1.0</td><td>-1.0 .. -1.0</td><td>-1.0 .. -1.0</td><td>0.0</td><td>0.0</td><td>0</td><td>-1.0 .. -1.0</td><td>-1.0 .. -1.0</td><td>-1.0 .. -1.0</td><td>-1.0 .. -1.0</td><td>0.0</td><td>0.0</td><td>0</td><td>-1.0 .. -1.0</td><td>-1.0 .. -1.0</td><td>-1.0 .. -1.0</td><td>-1.0 .. -1.0</td><td>0</td><td>-1.0</td><td>-1.0</td><td>-1</td><td>-1.0</td><td>-1.0</td><td>-1</td><td>0.409872142196808</td></tr>\n",
       "</table></div>"
      ],
      "text/plain": [
       "<Table length=26763>\n",
       "     TARGETID              Z          ... SPECTYPE_MASK       SNR_CIV      \n",
       "                                      ...                                  \n",
       "      int64             float64       ...      str6           float64      \n",
       "------------------ ------------------ ... ------------- -------------------\n",
       "  1083386135314440  3.631155815059421 ...            -1 0.49071757215759687\n",
       "  1083393307574272 2.4328130904523575 ...            -1  0.5238561644399842\n",
       "  1084093743759365  3.645523913700645 ...            -1  0.5403630106950745\n",
       "  1084393787490304  5.466968684083191 ...            -1  0.3905742323798082\n",
       "  1084458555932679   2.70067312907354 ...            -1  0.4693648886834431\n",
       "  1084542089691137  5.048299491244062 ...            -1  0.3608913479682382\n",
       "               ...                ... ...           ...                 ...\n",
       "616094315965317603  5.137974917136235 ...            -1  0.2367086843890445\n",
       "616094317391381068  4.622389109432799 ...            -1 0.34873247873762536\n",
       "616094318045692832 2.1315028393780797 ...            -1  0.6322519651126809\n",
       "616094319358509095  3.790011912948501 ...            -1  0.3670923783792454\n",
       "616094319379481599  5.813123526469343 ...            -1  0.7948061941466067\n",
       "616094319404646696  3.836116061122512 ...            -1   0.409872142196808"
      ]
     },
     "execution_count": 134,
     "metadata": {},
     "output_type": "execute_result"
    }
   ],
   "source": [
    "A1 = A1.group_by(\"TARGETID\")\n",
    "A1"
   ]
  },
  {
   "cell_type": "code",
   "execution_count": null,
   "id": "22c13bcb",
   "metadata": {},
   "outputs": [],
   "source": [
    "cor_cat = Table.read(fits.open('/home/colgoat/spc_DESIedr/zall-pix-fuji.fits')[1])\n",
    "cor_cat[(cor_cat['PROGRAM']=='dark') & ((cor_cat['SURVEY']=='sv1') | (cor_cat['SURVEY']=='sv3'))]"
   ]
  },
  {
   "cell_type": "code",
   "execution_count": null,
   "id": "8add0127",
   "metadata": {},
   "outputs": [],
   "source": []
  }
 ],
 "metadata": {
  "kernelspec": {
   "display_name": "Python 3 (ipykernel)",
   "language": "python",
   "name": "python3"
  },
  "language_info": {
   "codemirror_mode": {
    "name": "ipython",
    "version": 3
   },
   "file_extension": ".py",
   "mimetype": "text/x-python",
   "name": "python",
   "nbconvert_exporter": "python",
   "pygments_lexer": "ipython3",
   "version": "3.11.3"
  }
 },
 "nbformat": 4,
 "nbformat_minor": 5
}
