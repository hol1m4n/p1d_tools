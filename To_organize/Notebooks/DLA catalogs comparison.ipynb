{
 "cells": [
  {
   "cell_type": "code",
   "execution_count": 2,
   "id": "b0b79d13",
   "metadata": {
    "ExecuteTime": {
     "end_time": "2023-06-23T22:59:36.403294Z",
     "start_time": "2023-06-23T22:59:33.234176Z"
    }
   },
   "outputs": [
    {
     "data": {
      "text/html": [
       "<div><i>Table length=16640</i>\n",
       "<table id=\"table140456920389648\" class=\"table-striped table-bordered table-condensed\">\n",
       "<thead><tr><th>THING_ID</th><th>MJD-PLATE-FIBER</th><th>RA</th><th>DEC</th><th>ZQSO</th><th>fDLA</th><th>fBAL</th><th>BI</th><th>CNR</th><th>Z</th><th>NHI</th><th>cc</th><th>log(Pcc)</th><th>saap</th><th>Dcore</th><th>Pcore</th><th>Fcore</th><th>Ecore</th><th>Ccore</th><th>fg</th><th>CII_1334</th><th>b1</th><th>SiII_1526</th><th>b2</th><th>FeII_1608</th><th>b3</th><th>AlII_1670</th><th>b4</th><th>FeII_2344</th><th>b5</th><th>FeII_2374</th><th>b6</th><th>FeII_2382</th><th>b7</th><th>FeII_2586</th><th>b8</th><th>FeII_2600</th><th>b9</th><th>MgII_2796</th><th>b10</th><th>MgII_2803</th><th>b11</th><th>MgI_2852</th><th>b12</th></tr></thead>\n",
       "<thead><tr><th>int32</th><th>bytes16</th><th>float64</th><th>float32</th><th>float32</th><th>int16</th><th>int16</th><th>int16</th><th>float32</th><th>float32</th><th>float32</th><th>float32</th><th>float32</th><th>float32</th><th>float32</th><th>float32</th><th>bytes6</th><th>bytes6</th><th>float32</th><th>int16</th><th>float32</th><th>float32</th><th>float32</th><th>float32</th><th>float32</th><th>float32</th><th>float32</th><th>float32</th><th>float32</th><th>float32</th><th>float32</th><th>float32</th><th>float32</th><th>float32</th><th>float32</th><th>float32</th><th>float32</th><th>float32</th><th>float32</th><th>float32</th><th>float32</th><th>float32</th><th>float32</th><th>float32</th></tr></thead>\n",
       "<tr><td>21073834</td><td>56604-07167-0290</td><td>0.02128</td><td>-10.8139</td><td>2.715</td><td>1</td><td>0</td><td>-1</td><td>1.9</td><td>2.484</td><td>21.06</td><td>0.495</td><td>-8.23</td><td>0.49</td><td>0.19</td><td>0.342</td><td>0.199</td><td>0.550</td><td>1.183</td><td>0</td><td>0.6</td><td>-1.0</td><td>1.14</td><td>-1.0</td><td>1.43</td><td>-1.0</td><td>1.18</td><td>-1.0</td><td>3.48</td><td>-1.0</td><td>6.18</td><td>-1.0</td><td>7.16</td><td>-1.0</td><td>12.59</td><td>-1.0</td><td>4.79</td><td>-1.0</td><td>9.86</td><td>-1.0</td><td>19.72</td><td>-1.0</td><td>28.23</td><td>-1.0</td></tr>\n",
       "<tr><td>198508864</td><td>56190-06182-0338</td><td>0.04538</td><td>9.7097</td><td>2.777</td><td>1</td><td>0</td><td>-1</td><td>7.1</td><td>2.3447</td><td>21.12</td><td>0.737</td><td>-15.41</td><td>0.33</td><td>0.22</td><td>0.156</td><td>0.180</td><td>0.357</td><td>2.75</td><td>0</td><td>0.0</td><td>0.0</td><td>1.42</td><td>0.07</td><td>0.39</td><td>0.09</td><td>1.53</td><td>0.11</td><td>1.2</td><td>0.29</td><td>0.83</td><td>-1.0</td><td>1.15</td><td>0.35</td><td>1.34</td><td>0.17</td><td>1.75</td><td>0.14</td><td>2.26</td><td>0.53</td><td>2.73</td><td>-1.0</td><td>3.2</td><td>-1.0</td></tr>\n",
       "<tr><td>113418794</td><td>55477-04216-0718</td><td>0.06321</td><td>0.8092</td><td>3.028</td><td>0</td><td>0</td><td>-1</td><td>9.5</td><td>2.524</td><td>20.88</td><td>0.895</td><td>-21.66</td><td>0.15</td><td>0.103</td><td>0.983</td><td>0.104</td><td>0.400</td><td>3.989</td><td>0</td><td>0.0</td><td>0.0</td><td>1.54</td><td>0.06</td><td>0.73</td><td>0.05</td><td>1.85</td><td>0.11</td><td>1.89</td><td>0.14</td><td>1.56</td><td>0.34</td><td>1.86</td><td>-1.0</td><td>2.14</td><td>0.14</td><td>2.62</td><td>0.1</td><td>2.86</td><td>-1.0</td><td>2.81</td><td>0.56</td><td>0.0</td><td>0.0</td></tr>\n",
       "<tr><td>351285912</td><td>56540-06511-0114</td><td>0.07352</td><td>27.6466</td><td>2.52</td><td>1</td><td>0</td><td>-1</td><td>2.4</td><td>2.5134</td><td>20.48</td><td>0.874</td><td>-15.59</td><td>0.46</td><td>0.175</td><td>0.82</td><td>0.100</td><td>0.512</td><td>2.593</td><td>0</td><td>0.76</td><td>0.19</td><td>1.33</td><td>0.19</td><td>1.04</td><td>-1.0</td><td>1.09</td><td>-1.0</td><td>1.79</td><td>-1.0</td><td>4.65</td><td>-1.0</td><td>4.32</td><td>-1.0</td><td>1.73</td><td>-1.0</td><td>2.72</td><td>-1.0</td><td>5.06</td><td>-1.0</td><td>5.4</td><td>-1.0</td><td>0.0</td><td>0.0</td></tr>\n",
       "<tr><td>254324264</td><td>56269-06172-0643</td><td>0.08025</td><td>16.1681</td><td>2.624</td><td>1</td><td>0</td><td>-1</td><td>2.9</td><td>2.5609</td><td>20.61</td><td>0.755</td><td>-9.43</td><td>0.38</td><td>0.226</td><td>0.42</td><td>0.023</td><td>0.305</td><td>1.461</td><td>0</td><td>0.4</td><td>-1.0</td><td>0.7</td><td>0.13</td><td>0.6</td><td>0.13</td><td>0.53</td><td>-1.0</td><td>3.23</td><td>-1.0</td><td>2.67</td><td>-1.0</td><td>1.14</td><td>-1.0</td><td>0.69</td><td>-1.0</td><td>1.12</td><td>-1.0</td><td>6.88</td><td>-1.0</td><td>3.3</td><td>-1.0</td><td>0.0</td><td>0.0</td></tr>\n",
       "<tr><td>75087955</td><td>55477-04216-0290</td><td>0.0852</td><td>-0.8446</td><td>2.735</td><td>1</td><td>0</td><td>-1</td><td>2.2</td><td>2.4283</td><td>20.44</td><td>0.39</td><td>-2.72</td><td>0.47</td><td>0.248</td><td>0.449</td><td>0.046</td><td>0.464</td><td>0.92</td><td>0</td><td>0.0</td><td>0.0</td><td>0.58</td><td>-1.0</td><td>0.6</td><td>-1.0</td><td>0.48</td><td>-1.0</td><td>2.39</td><td>-1.0</td><td>1.91</td><td>-1.0</td><td>1.58</td><td>-1.0</td><td>3.89</td><td>-1.0</td><td>6.34</td><td>-1.0</td><td>4.52</td><td>-1.0</td><td>4.94</td><td>-1.0</td><td>4.98</td><td>-1.0</td></tr>\n",
       "<tr><td>...</td><td>...</td><td>...</td><td>...</td><td>...</td><td>...</td><td>...</td><td>...</td><td>...</td><td>...</td><td>...</td><td>...</td><td>...</td><td>...</td><td>...</td><td>...</td><td>...</td><td>...</td><td>...</td><td>...</td><td>...</td><td>...</td><td>...</td><td>...</td><td>...</td><td>...</td><td>...</td><td>...</td><td>...</td><td>...</td><td>...</td><td>...</td><td>...</td><td>...</td><td>...</td><td>...</td><td>...</td><td>...</td><td>...</td><td>...</td><td>...</td><td>...</td><td>...</td><td>...</td></tr>\n",
       "<tr><td>23017942</td><td>56604-07167-0306</td><td>359.93361</td><td>-10.2119</td><td>2.423</td><td>1</td><td>0</td><td>-1</td><td>3.3</td><td>2.215</td><td>20.48</td><td>0.662</td><td>-6.64</td><td>0.37</td><td>0.245</td><td>0.412</td><td>-0.050</td><td>0.916</td><td>3.401</td><td>0</td><td>0.48</td><td>-1.0</td><td>0.56</td><td>-1.0</td><td>0.48</td><td>-1.0</td><td>0.46</td><td>-1.0</td><td>2.15</td><td>-1.0</td><td>2.77</td><td>-1.0</td><td>2.48</td><td>-1.0</td><td>3.6</td><td>-1.0</td><td>7.65</td><td>-1.0</td><td>7.64</td><td>-1.0</td><td>7.0</td><td>-1.0</td><td>3.47</td><td>-1.0</td></tr>\n",
       "<tr><td>23017942</td><td>56604-07167-0306</td><td>359.93361</td><td>-10.2119</td><td>2.423</td><td>1</td><td>0</td><td>-1</td><td>3.3</td><td>2.2817</td><td>21.77</td><td>0.609</td><td>-25.59</td><td>0.45</td><td>0.086</td><td>0.825</td><td>0.084</td><td>0.691</td><td>3.422</td><td>0</td><td>0.68</td><td>-1.0</td><td>1.09</td><td>0.16</td><td>0.62</td><td>0.11</td><td>0.69</td><td>-1.0</td><td>2.46</td><td>-1.0</td><td>3.57</td><td>-1.0</td><td>4.38</td><td>-1.0</td><td>2.9</td><td>-1.0</td><td>2.29</td><td>-1.0</td><td>3.31</td><td>-1.0</td><td>2.4</td><td>0.57</td><td>20.48</td><td>-1.0</td></tr>\n",
       "<tr><td>275194404</td><td>56945-07596-0189</td><td>359.94819</td><td>18.6491</td><td>2.88</td><td>0</td><td>0</td><td>-1</td><td>5.1</td><td>2.5276</td><td>20.44</td><td>0.605</td><td>-4.77</td><td>0.56</td><td>0.304</td><td>0.215</td><td>0.400</td><td>0.376</td><td>2.034</td><td>0</td><td>0.0</td><td>0.0</td><td>0.52</td><td>-1.0</td><td>0.52</td><td>-1.0</td><td>2.64</td><td>-1.0</td><td>0.94</td><td>-1.0</td><td>0.94</td><td>-1.0</td><td>2.5</td><td>-1.0</td><td>0.66</td><td>-1.0</td><td>0.76</td><td>-1.0</td><td>2.76</td><td>-1.0</td><td>2.52</td><td>-1.0</td><td>0.0</td><td>0.0</td></tr>\n",
       "<tr><td>224763520</td><td>56265-06151-0940</td><td>359.98277</td><td>12.8052</td><td>2.365</td><td>1</td><td>0</td><td>-1</td><td>5.1</td><td>2.1549</td><td>20.4</td><td>0.835</td><td>-13.03</td><td>0.47</td><td>0.196</td><td>0.743</td><td>0.015</td><td>0.652</td><td>4.099</td><td>0</td><td>0.7</td><td>0.07</td><td>1.18</td><td>0.2</td><td>0.36</td><td>-1.0</td><td>0.41</td><td>0.08</td><td>0.85</td><td>-1.0</td><td>0.73</td><td>-1.0</td><td>0.68</td><td>-1.0</td><td>0.48</td><td>-1.0</td><td>0.62</td><td>0.14</td><td>1.63</td><td>-1.0</td><td>1.16</td><td>0.23</td><td>1.55</td><td>-1.0</td></tr>\n",
       "<tr><td>96667435</td><td>56959-07848-0076</td><td>359.98735</td><td>0.046</td><td>2.815</td><td>0</td><td>0</td><td>-1</td><td>4.5</td><td>2.4118</td><td>20.53</td><td>0.83</td><td>-11.24</td><td>0.16</td><td>0.494</td><td>0.002</td><td>-0.476</td><td>0.284</td><td>1.341</td><td>0</td><td>0.0</td><td>0.0</td><td>0.66</td><td>-1.0</td><td>0.74</td><td>-1.0</td><td>0.98</td><td>-1.0</td><td>3.28</td><td>-1.0</td><td>1.97</td><td>-1.0</td><td>1.32</td><td>-1.0</td><td>1.93</td><td>-1.0</td><td>1.82</td><td>-1.0</td><td>8.82</td><td>-1.0</td><td>10.94</td><td>-1.0</td><td>28.56</td><td>-1.0</td></tr>\n",
       "<tr><td>398731303</td><td>56567-07145-0232</td><td>359.98774</td><td>34.3494</td><td>2.307</td><td>0</td><td>0</td><td>-1</td><td>3.4</td><td>2.2442</td><td>20.9</td><td>0.729</td><td>-14.95</td><td>0.45</td><td>0.171</td><td>0.593</td><td>-0.042</td><td>0.463</td><td>2.031</td><td>0</td><td>0.98</td><td>-1.0</td><td>0.72</td><td>-1.0</td><td>0.51</td><td>-1.0</td><td>0.8</td><td>-1.0</td><td>1.85</td><td>-1.0</td><td>1.54</td><td>-1.0</td><td>1.68</td><td>-1.0</td><td>2.62</td><td>-1.0</td><td>1.85</td><td>-1.0</td><td>1.68</td><td>0.31</td><td>1.57</td><td>0.28</td><td>0.89</td><td>-1.0</td></tr>\n",
       "<tr><td>401165277</td><td>56567-07145-0240</td><td>359.9993</td><td>34.7208</td><td>3.109</td><td>1</td><td>0</td><td>-1</td><td>6.5</td><td>2.6422</td><td>21.33</td><td>0.693</td><td>-20.37</td><td>0.39</td><td>0.09</td><td>0.954</td><td>-0.076</td><td>0.313</td><td>2.132</td><td>0</td><td>0.0</td><td>0.0</td><td>1.07</td><td>0.11</td><td>0.73</td><td>0.11</td><td>0.95</td><td>0.12</td><td>1.45</td><td>0.12</td><td>1.21</td><td>0.17</td><td>1.48</td><td>0.18</td><td>1.5</td><td>-1.0</td><td>2.12</td><td>0.36</td><td>0.0</td><td>0.0</td><td>0.0</td><td>0.0</td><td>0.0</td><td>0.0</td></tr>\n",
       "</table></div>"
      ],
      "text/plain": [
       "<Table length=16640>\n",
       " THING_ID MJD-PLATE-FIBER      RA      DEC    ...   b11   MgI_2852   b12  \n",
       "  int32       bytes16       float64  float32  ... float32 float32  float32\n",
       "--------- ---------------- --------- -------- ... ------- -------- -------\n",
       " 21073834 56604-07167-0290   0.02128 -10.8139 ...    -1.0    28.23    -1.0\n",
       "198508864 56190-06182-0338   0.04538   9.7097 ...    -1.0      3.2    -1.0\n",
       "113418794 55477-04216-0718   0.06321   0.8092 ...    0.56      0.0     0.0\n",
       "351285912 56540-06511-0114   0.07352  27.6466 ...    -1.0      0.0     0.0\n",
       "254324264 56269-06172-0643   0.08025  16.1681 ...    -1.0      0.0     0.0\n",
       " 75087955 55477-04216-0290    0.0852  -0.8446 ...    -1.0     4.98    -1.0\n",
       "      ...              ...       ...      ... ...     ...      ...     ...\n",
       " 23017942 56604-07167-0306 359.93361 -10.2119 ...    -1.0     3.47    -1.0\n",
       " 23017942 56604-07167-0306 359.93361 -10.2119 ...    0.57    20.48    -1.0\n",
       "275194404 56945-07596-0189 359.94819  18.6491 ...    -1.0      0.0     0.0\n",
       "224763520 56265-06151-0940 359.98277  12.8052 ...    0.23     1.55    -1.0\n",
       " 96667435 56959-07848-0076 359.98735    0.046 ...    -1.0    28.56    -1.0\n",
       "398731303 56567-07145-0232 359.98774  34.3494 ...    0.28     0.89    -1.0\n",
       "401165277 56567-07145-0240  359.9993  34.7208 ...     0.0      0.0     0.0"
      ]
     },
     "execution_count": 2,
     "metadata": {},
     "output_type": "execute_result"
    }
   ],
   "source": [
    "import os\n",
    "import sys\n",
    "import glob\n",
    "import numpy as np\n",
    "import  scipy.optimize    as op\n",
    "import matplotlib.pyplot as plt\n",
    "import urllib.request\n",
    "from astropy.io import fits as pyfits\n",
    "from astropy.table import Table\n",
    "from astropy.io import fits\n",
    "\n",
    "catalog=Table.read(\"/home/colgoat/Jupyter/DLA_DR14.fits\")\n",
    "catalog\n",
    "#w=(catalog['THING_ID']>0)\n",
    "\n",
    "#reduced_cat=catalog[w]\n",
    "#reduced_cat\n",
    "\n",
    "#small_cat=reduced_cat[0:16648]\n",
    "#nuevo = fits.open('DLA_DR14.fits')\n",
    "#nuevo.info()\n",
    "#nuevo.close()\n",
    "\n",
    "#DLA14=Table.read('DLA_DR14.fits')\n",
    "#DLA14\n",
    "#DLA_DR14_v1a_Pasquier.fits\n",
    "\n",
    "#plt.hist(small_cat['ZQSO'])\n",
    "#reduced_cat"
   ]
  },
  {
   "cell_type": "code",
   "execution_count": 3,
   "id": "a0a51340",
   "metadata": {
    "ExecuteTime": {
     "end_time": "2023-06-23T22:59:36.408013Z",
     "start_time": "2023-06-23T22:59:36.407984Z"
    },
    "scrolled": false
   },
   "outputs": [
    {
     "ename": "NameError",
     "evalue": "name 'small_cat' is not defined",
     "output_type": "error",
     "traceback": [
      "\u001b[0;31m---------------------------------------------------------------------------\u001b[0m",
      "\u001b[0;31mNameError\u001b[0m                                 Traceback (most recent call last)",
      "Cell \u001b[0;32mIn[3], line 8\u001b[0m\n\u001b[1;32m      3\u001b[0m archivo \u001b[38;5;241m=\u001b[39m fits\u001b[38;5;241m.\u001b[39mopen(\u001b[38;5;124m'\u001b[39m\u001b[38;5;124mDLA_DR14.fits\u001b[39m\u001b[38;5;124m'\u001b[39m)\n\u001b[1;32m      4\u001b[0m \u001b[38;5;66;03m#archivo.info()\u001b[39;00m\n\u001b[1;32m      5\u001b[0m \u001b[38;5;66;03m#archivo[1] = hdu # assuming the first extension is a table\u001b[39;00m\n\u001b[1;32m      6\u001b[0m \n\u001b[1;32m      7\u001b[0m \u001b[38;5;66;03m#hdu[0] = archivo[0]\u001b[39;00m\n\u001b[0;32m----> 8\u001b[0m hdu \u001b[38;5;241m=\u001b[39m fits\u001b[38;5;241m.\u001b[39mBinTableHDU(small_cat)\n\u001b[1;32m      9\u001b[0m archivo[\u001b[38;5;241m1\u001b[39m] \u001b[38;5;241m=\u001b[39m hdu\n\u001b[1;32m     12\u001b[0m archivo\u001b[38;5;241m.\u001b[39mclose()\n",
      "\u001b[0;31mNameError\u001b[0m: name 'small_cat' is not defined"
     ]
    }
   ],
   "source": [
    "\n",
    "from astropy.io import fits\n",
    "\n",
    "archivo = fits.open('DLA_DR14.fits')\n",
    "#archivo.info()\n",
    "#archivo[1] = hdu # assuming the first extension is a table\n",
    "\n",
    "#hdu[0] = archivo[0]\n",
    "hdu = fits.BinTableHDU(small_cat)\n",
    "archivo[1] = hdu\n",
    "\n",
    "\n",
    "archivo.close()\n",
    "\n",
    "passer = archivo\n",
    "\n",
    "with fits.open('DLA_DR14.fits', mode='update') as passer:\n",
    "    # Change something in hdul.\n",
    "    \n",
    "    passer[1] = hdu\n",
    "    \n",
    "    \n",
    "    \n",
    "    passer.flush()  # changes are written back to original.fits\n",
    "\n",
    "# closing the file will also flush any changes and prevent further writing\n"
   ]
  },
  {
   "cell_type": "code",
   "execution_count": 6,
   "id": "7ac5f3b6",
   "metadata": {
    "ExecuteTime": {
     "end_time": "2023-06-23T23:05:52.517303Z",
     "start_time": "2023-06-23T23:05:52.447219Z"
    }
   },
   "outputs": [
    {
     "name": "stdout",
     "output_type": "stream",
     "text": [
      "<TableColumns names=('THING_ID','MJD-PLATE-FIBER','RA','DEC','ZQSO','fDLA','fBAL','BI','CNR','Z','NHI','cc','log(Pcc)','saap','Dcore','Pcore','Fcore','Ecore','Ccore','fg','CII_1334','b1','SiII_1526','b2','FeII_1608','b3','AlII_1670','b4','FeII_2344','b5','FeII_2374','b6','FeII_2382','b7','FeII_2586','b8','FeII_2600','b9','MgII_2796','b10','MgII_2803','b11','MgI_2852','b12')>\n"
     ]
    },
    {
     "data": {
      "text/plain": [
       "16640"
      ]
     },
     "execution_count": 6,
     "metadata": {},
     "output_type": "execute_result"
    }
   ],
   "source": [
    "pruf=Table.read('DLA_DR14.fits')\n",
    "print(pruf.columns)\n",
    "len(pruf)"
   ]
  },
  {
   "cell_type": "code",
   "execution_count": 4,
   "id": "d86cb311",
   "metadata": {
    "ExecuteTime": {
     "end_time": "2023-06-23T22:59:36.416115Z",
     "start_time": "2023-06-23T22:59:36.416089Z"
    }
   },
   "outputs": [
    {
     "name": "stdout",
     "output_type": "stream",
     "text": [
      "Filename: DLA_DR14.fits\n",
      "No.    Name      Ver    Type      Cards   Dimensions   Format\n",
      "  0  PRIMARY       1 PrimaryHDU       5   ()      \n",
      "  1  DLACAT        1 BinTableHDU    105   16640R x 44C   [J, 16A, D, E, E, I, I, I, E, E, E, E, E, E, E, E, 6A, 6A, E, I, E, E, E, E, E, E, E, E, E, E, E, E, E, E, E, E, E, E, E, E, E, E, E, E]   \n"
     ]
    }
   ],
   "source": [
    "nuevo = fits.open('DLA_DR14.fits')\n",
    "nuevo.info()"
   ]
  },
  {
   "cell_type": "code",
   "execution_count": 5,
   "id": "3570fd08",
   "metadata": {},
   "outputs": [
    {
     "name": "stdout",
     "output_type": "stream",
     "text": [
      "Filename: DLA_DR14CorRa.fits\n",
      "No.    Name      Ver    Type      Cards   Dimensions   Format\n",
      "  0  PRIMARY       1 PrimaryHDU       5   ()      \n",
      "  1  DLACAT        1 BinTableHDU     97   39023R x 44C   [J, 16A, D, E, E, I, I, I, E, E, E, E, E, E, E, E, 6A, 6A, E, I, E, E, E, E, E, E, E, E, E, E, E, E, E, E, E, E, E, E, E, E, E, E, E, E]   \n"
     ]
    }
   ],
   "source": [
    "nuevo = fits.open('DLA_DR14CorRa.fits')\n",
    "nuevo.info()"
   ]
  },
  {
   "cell_type": "code",
   "execution_count": 3,
   "id": "c822a66b",
   "metadata": {
    "ExecuteTime": {
     "end_time": "2023-06-23T22:59:36.418476Z",
     "start_time": "2023-06-23T22:59:36.418452Z"
    }
   },
   "outputs": [
    {
     "name": "stdout",
     "output_type": "stream",
     "text": [
      "Filename: DLA_DR16.fits\n",
      "No.    Name      Ver    Type      Cards   Dimensions   Format\n",
      "  0  PRIMARY       1 PrimaryHDU       6   ()      \n",
      "  1  DLACAT        1 BinTableHDU     29   39514R x 10C   [D, D, D, D, D, D, D, D, D, D]   \n"
     ]
    }
   ],
   "source": [
    "nuevo = fits.open('DLA_DR16.fits')\n",
    "nuevo.info()"
   ]
  },
  {
   "cell_type": "code",
   "execution_count": null,
   "id": "cd64fb38",
   "metadata": {
    "ExecuteTime": {
     "end_time": "2023-06-23T22:59:36.420798Z",
     "start_time": "2023-06-23T22:59:36.420767Z"
    }
   },
   "outputs": [],
   "source": [
    "import os\n",
    "import sys\n",
    "import glob\n",
    "import numpy as np\n",
    "import  scipy.optimize    as op\n",
    "import matplotlib.pyplot as plt\n",
    "import urllib.request\n",
    "from astropy.io import fits as pyfits\n",
    "from astropy.table import Table\n",
    "from astropy.io import fits\n",
    "\n",
    "file = \"zall-pix-fuji.fits\"\n",
    "\n",
    "\n",
    "local_dir=\"/home/colgoat/Jupyter/\"\n",
    "\n",
    "local_file = os.path.join(local_dir,file)\n",
    "\n",
    "\n",
    "q=Table.read(local_file)\n",
    "w = (q['SPECTYPE']=='QSO') & (q['Z']>=2.1)\n",
    "new_cat = q[w]\n",
    "new_cat\n",
    "\n",
    "\n",
    "\n"
   ]
  },
  {
   "cell_type": "code",
   "execution_count": null,
   "id": "9af47941",
   "metadata": {
    "ExecuteTime": {
     "end_time": "2023-06-23T22:59:36.422840Z",
     "start_time": "2023-06-23T22:59:36.422807Z"
    }
   },
   "outputs": [],
   "source": [
    "max(new_cat['Z'])"
   ]
  },
  {
   "cell_type": "code",
   "execution_count": null,
   "id": "8ff6dee8",
   "metadata": {
    "ExecuteTime": {
     "end_time": "2023-06-23T22:59:36.425822Z",
     "start_time": "2023-06-23T22:59:36.425790Z"
    }
   },
   "outputs": [],
   "source": [
    "min(new_cat['Z'])"
   ]
  },
  {
   "cell_type": "code",
   "execution_count": null,
   "id": "de76934a",
   "metadata": {
    "ExecuteTime": {
     "end_time": "2023-06-23T22:59:36.428407Z",
     "start_time": "2023-06-23T22:59:36.428371Z"
    }
   },
   "outputs": [],
   "source": [
    "plt.hist(new_cat['Z'],bins=np.arange(min(new_cat['Z']), max(new_cat['Z']) + 0.01, 0.01))\n",
    "plt.show()"
   ]
  },
  {
   "cell_type": "code",
   "execution_count": 7,
   "id": "ac9beccd",
   "metadata": {},
   "outputs": [
    {
     "data": {
      "text/html": [
       "<div><i>Table length=16640</i>\n",
       "<table id=\"table139842536810192\" class=\"table-striped table-bordered table-condensed\">\n",
       "<thead><tr><th>THING_ID</th><th>MJD-PLATE-FIBER</th><th>RA</th><th>DEC</th><th>ZQSO</th><th>fDLA</th><th>fBAL</th><th>BI</th><th>CNR</th><th>Z</th><th>NHI</th><th>cc</th><th>log(Pcc)</th><th>saap</th><th>Dcore</th><th>Pcore</th><th>Fcore</th><th>Ecore</th><th>Ccore</th><th>fg</th><th>CII_1334</th><th>b1</th><th>SiII_1526</th><th>b2</th><th>FeII_1608</th><th>b3</th><th>AlII_1670</th><th>b4</th><th>FeII_2344</th><th>b5</th><th>FeII_2374</th><th>b6</th><th>FeII_2382</th><th>b7</th><th>FeII_2586</th><th>b8</th><th>FeII_2600</th><th>b9</th><th>MgII_2796</th><th>b10</th><th>MgII_2803</th><th>b11</th><th>MgI_2852</th><th>b12</th></tr></thead>\n",
       "<thead><tr><th>int32</th><th>bytes16</th><th>float64</th><th>float32</th><th>float32</th><th>int16</th><th>int16</th><th>int16</th><th>float32</th><th>float32</th><th>float32</th><th>float32</th><th>float32</th><th>float32</th><th>float32</th><th>float32</th><th>bytes6</th><th>bytes6</th><th>float32</th><th>int16</th><th>float32</th><th>float32</th><th>float32</th><th>float32</th><th>float32</th><th>float32</th><th>float32</th><th>float32</th><th>float32</th><th>float32</th><th>float32</th><th>float32</th><th>float32</th><th>float32</th><th>float32</th><th>float32</th><th>float32</th><th>float32</th><th>float32</th><th>float32</th><th>float32</th><th>float32</th><th>float32</th><th>float32</th></tr></thead>\n",
       "<tr><td>21073834</td><td>56604-07167-0290</td><td>0.02128</td><td>-10.8139</td><td>2.715</td><td>1</td><td>0</td><td>-1</td><td>1.9</td><td>2.484</td><td>21.06</td><td>0.495</td><td>-8.23</td><td>0.49</td><td>0.19</td><td>0.342</td><td>0.199</td><td>0.550</td><td>1.183</td><td>0</td><td>0.6</td><td>-1.0</td><td>1.14</td><td>-1.0</td><td>1.43</td><td>-1.0</td><td>1.18</td><td>-1.0</td><td>3.48</td><td>-1.0</td><td>6.18</td><td>-1.0</td><td>7.16</td><td>-1.0</td><td>12.59</td><td>-1.0</td><td>4.79</td><td>-1.0</td><td>9.86</td><td>-1.0</td><td>19.72</td><td>-1.0</td><td>28.23</td><td>-1.0</td></tr>\n",
       "<tr><td>198508864</td><td>56190-06182-0338</td><td>0.04538</td><td>9.7097</td><td>2.777</td><td>1</td><td>0</td><td>-1</td><td>7.1</td><td>2.3447</td><td>21.12</td><td>0.737</td><td>-15.41</td><td>0.33</td><td>0.22</td><td>0.156</td><td>0.180</td><td>0.357</td><td>2.75</td><td>0</td><td>0.0</td><td>0.0</td><td>1.42</td><td>0.07</td><td>0.39</td><td>0.09</td><td>1.53</td><td>0.11</td><td>1.2</td><td>0.29</td><td>0.83</td><td>-1.0</td><td>1.15</td><td>0.35</td><td>1.34</td><td>0.17</td><td>1.75</td><td>0.14</td><td>2.26</td><td>0.53</td><td>2.73</td><td>-1.0</td><td>3.2</td><td>-1.0</td></tr>\n",
       "<tr><td>113418794</td><td>55477-04216-0718</td><td>0.06321</td><td>0.8092</td><td>3.028</td><td>0</td><td>0</td><td>-1</td><td>9.5</td><td>2.524</td><td>20.88</td><td>0.895</td><td>-21.66</td><td>0.15</td><td>0.103</td><td>0.983</td><td>0.104</td><td>0.400</td><td>3.989</td><td>0</td><td>0.0</td><td>0.0</td><td>1.54</td><td>0.06</td><td>0.73</td><td>0.05</td><td>1.85</td><td>0.11</td><td>1.89</td><td>0.14</td><td>1.56</td><td>0.34</td><td>1.86</td><td>-1.0</td><td>2.14</td><td>0.14</td><td>2.62</td><td>0.1</td><td>2.86</td><td>-1.0</td><td>2.81</td><td>0.56</td><td>0.0</td><td>0.0</td></tr>\n",
       "<tr><td>351285912</td><td>56540-06511-0114</td><td>0.07352</td><td>27.6466</td><td>2.52</td><td>1</td><td>0</td><td>-1</td><td>2.4</td><td>2.5134</td><td>20.48</td><td>0.874</td><td>-15.59</td><td>0.46</td><td>0.175</td><td>0.82</td><td>0.100</td><td>0.512</td><td>2.593</td><td>0</td><td>0.76</td><td>0.19</td><td>1.33</td><td>0.19</td><td>1.04</td><td>-1.0</td><td>1.09</td><td>-1.0</td><td>1.79</td><td>-1.0</td><td>4.65</td><td>-1.0</td><td>4.32</td><td>-1.0</td><td>1.73</td><td>-1.0</td><td>2.72</td><td>-1.0</td><td>5.06</td><td>-1.0</td><td>5.4</td><td>-1.0</td><td>0.0</td><td>0.0</td></tr>\n",
       "<tr><td>254324264</td><td>56269-06172-0643</td><td>0.08025</td><td>16.1681</td><td>2.624</td><td>1</td><td>0</td><td>-1</td><td>2.9</td><td>2.5609</td><td>20.61</td><td>0.755</td><td>-9.43</td><td>0.38</td><td>0.226</td><td>0.42</td><td>0.023</td><td>0.305</td><td>1.461</td><td>0</td><td>0.4</td><td>-1.0</td><td>0.7</td><td>0.13</td><td>0.6</td><td>0.13</td><td>0.53</td><td>-1.0</td><td>3.23</td><td>-1.0</td><td>2.67</td><td>-1.0</td><td>1.14</td><td>-1.0</td><td>0.69</td><td>-1.0</td><td>1.12</td><td>-1.0</td><td>6.88</td><td>-1.0</td><td>3.3</td><td>-1.0</td><td>0.0</td><td>0.0</td></tr>\n",
       "<tr><td>75087955</td><td>55477-04216-0290</td><td>0.0852</td><td>-0.8446</td><td>2.735</td><td>1</td><td>0</td><td>-1</td><td>2.2</td><td>2.4283</td><td>20.44</td><td>0.39</td><td>-2.72</td><td>0.47</td><td>0.248</td><td>0.449</td><td>0.046</td><td>0.464</td><td>0.92</td><td>0</td><td>0.0</td><td>0.0</td><td>0.58</td><td>-1.0</td><td>0.6</td><td>-1.0</td><td>0.48</td><td>-1.0</td><td>2.39</td><td>-1.0</td><td>1.91</td><td>-1.0</td><td>1.58</td><td>-1.0</td><td>3.89</td><td>-1.0</td><td>6.34</td><td>-1.0</td><td>4.52</td><td>-1.0</td><td>4.94</td><td>-1.0</td><td>4.98</td><td>-1.0</td></tr>\n",
       "<tr><td>...</td><td>...</td><td>...</td><td>...</td><td>...</td><td>...</td><td>...</td><td>...</td><td>...</td><td>...</td><td>...</td><td>...</td><td>...</td><td>...</td><td>...</td><td>...</td><td>...</td><td>...</td><td>...</td><td>...</td><td>...</td><td>...</td><td>...</td><td>...</td><td>...</td><td>...</td><td>...</td><td>...</td><td>...</td><td>...</td><td>...</td><td>...</td><td>...</td><td>...</td><td>...</td><td>...</td><td>...</td><td>...</td><td>...</td><td>...</td><td>...</td><td>...</td><td>...</td><td>...</td></tr>\n",
       "<tr><td>23017942</td><td>56604-07167-0306</td><td>359.93361</td><td>-10.2119</td><td>2.423</td><td>1</td><td>0</td><td>-1</td><td>3.3</td><td>2.215</td><td>20.48</td><td>0.662</td><td>-6.64</td><td>0.37</td><td>0.245</td><td>0.412</td><td>-0.050</td><td>0.916</td><td>3.401</td><td>0</td><td>0.48</td><td>-1.0</td><td>0.56</td><td>-1.0</td><td>0.48</td><td>-1.0</td><td>0.46</td><td>-1.0</td><td>2.15</td><td>-1.0</td><td>2.77</td><td>-1.0</td><td>2.48</td><td>-1.0</td><td>3.6</td><td>-1.0</td><td>7.65</td><td>-1.0</td><td>7.64</td><td>-1.0</td><td>7.0</td><td>-1.0</td><td>3.47</td><td>-1.0</td></tr>\n",
       "<tr><td>23017942</td><td>56604-07167-0306</td><td>359.93361</td><td>-10.2119</td><td>2.423</td><td>1</td><td>0</td><td>-1</td><td>3.3</td><td>2.2817</td><td>21.77</td><td>0.609</td><td>-25.59</td><td>0.45</td><td>0.086</td><td>0.825</td><td>0.084</td><td>0.691</td><td>3.422</td><td>0</td><td>0.68</td><td>-1.0</td><td>1.09</td><td>0.16</td><td>0.62</td><td>0.11</td><td>0.69</td><td>-1.0</td><td>2.46</td><td>-1.0</td><td>3.57</td><td>-1.0</td><td>4.38</td><td>-1.0</td><td>2.9</td><td>-1.0</td><td>2.29</td><td>-1.0</td><td>3.31</td><td>-1.0</td><td>2.4</td><td>0.57</td><td>20.48</td><td>-1.0</td></tr>\n",
       "<tr><td>275194404</td><td>56945-07596-0189</td><td>359.94819</td><td>18.6491</td><td>2.88</td><td>0</td><td>0</td><td>-1</td><td>5.1</td><td>2.5276</td><td>20.44</td><td>0.605</td><td>-4.77</td><td>0.56</td><td>0.304</td><td>0.215</td><td>0.400</td><td>0.376</td><td>2.034</td><td>0</td><td>0.0</td><td>0.0</td><td>0.52</td><td>-1.0</td><td>0.52</td><td>-1.0</td><td>2.64</td><td>-1.0</td><td>0.94</td><td>-1.0</td><td>0.94</td><td>-1.0</td><td>2.5</td><td>-1.0</td><td>0.66</td><td>-1.0</td><td>0.76</td><td>-1.0</td><td>2.76</td><td>-1.0</td><td>2.52</td><td>-1.0</td><td>0.0</td><td>0.0</td></tr>\n",
       "<tr><td>224763520</td><td>56265-06151-0940</td><td>359.98277</td><td>12.8052</td><td>2.365</td><td>1</td><td>0</td><td>-1</td><td>5.1</td><td>2.1549</td><td>20.4</td><td>0.835</td><td>-13.03</td><td>0.47</td><td>0.196</td><td>0.743</td><td>0.015</td><td>0.652</td><td>4.099</td><td>0</td><td>0.7</td><td>0.07</td><td>1.18</td><td>0.2</td><td>0.36</td><td>-1.0</td><td>0.41</td><td>0.08</td><td>0.85</td><td>-1.0</td><td>0.73</td><td>-1.0</td><td>0.68</td><td>-1.0</td><td>0.48</td><td>-1.0</td><td>0.62</td><td>0.14</td><td>1.63</td><td>-1.0</td><td>1.16</td><td>0.23</td><td>1.55</td><td>-1.0</td></tr>\n",
       "<tr><td>96667435</td><td>56959-07848-0076</td><td>359.98735</td><td>0.046</td><td>2.815</td><td>0</td><td>0</td><td>-1</td><td>4.5</td><td>2.4118</td><td>20.53</td><td>0.83</td><td>-11.24</td><td>0.16</td><td>0.494</td><td>0.002</td><td>-0.476</td><td>0.284</td><td>1.341</td><td>0</td><td>0.0</td><td>0.0</td><td>0.66</td><td>-1.0</td><td>0.74</td><td>-1.0</td><td>0.98</td><td>-1.0</td><td>3.28</td><td>-1.0</td><td>1.97</td><td>-1.0</td><td>1.32</td><td>-1.0</td><td>1.93</td><td>-1.0</td><td>1.82</td><td>-1.0</td><td>8.82</td><td>-1.0</td><td>10.94</td><td>-1.0</td><td>28.56</td><td>-1.0</td></tr>\n",
       "<tr><td>398731303</td><td>56567-07145-0232</td><td>359.98774</td><td>34.3494</td><td>2.307</td><td>0</td><td>0</td><td>-1</td><td>3.4</td><td>2.2442</td><td>20.9</td><td>0.729</td><td>-14.95</td><td>0.45</td><td>0.171</td><td>0.593</td><td>-0.042</td><td>0.463</td><td>2.031</td><td>0</td><td>0.98</td><td>-1.0</td><td>0.72</td><td>-1.0</td><td>0.51</td><td>-1.0</td><td>0.8</td><td>-1.0</td><td>1.85</td><td>-1.0</td><td>1.54</td><td>-1.0</td><td>1.68</td><td>-1.0</td><td>2.62</td><td>-1.0</td><td>1.85</td><td>-1.0</td><td>1.68</td><td>0.31</td><td>1.57</td><td>0.28</td><td>0.89</td><td>-1.0</td></tr>\n",
       "<tr><td>401165277</td><td>56567-07145-0240</td><td>359.9993</td><td>34.7208</td><td>3.109</td><td>1</td><td>0</td><td>-1</td><td>6.5</td><td>2.6422</td><td>21.33</td><td>0.693</td><td>-20.37</td><td>0.39</td><td>0.09</td><td>0.954</td><td>-0.076</td><td>0.313</td><td>2.132</td><td>0</td><td>0.0</td><td>0.0</td><td>1.07</td><td>0.11</td><td>0.73</td><td>0.11</td><td>0.95</td><td>0.12</td><td>1.45</td><td>0.12</td><td>1.21</td><td>0.17</td><td>1.48</td><td>0.18</td><td>1.5</td><td>-1.0</td><td>2.12</td><td>0.36</td><td>0.0</td><td>0.0</td><td>0.0</td><td>0.0</td><td>0.0</td><td>0.0</td></tr>\n",
       "</table></div>"
      ],
      "text/plain": [
       "<Table length=16640>\n",
       " THING_ID MJD-PLATE-FIBER      RA      DEC    ...   b11   MgI_2852   b12  \n",
       "  int32       bytes16       float64  float32  ... float32 float32  float32\n",
       "--------- ---------------- --------- -------- ... ------- -------- -------\n",
       " 21073834 56604-07167-0290   0.02128 -10.8139 ...    -1.0    28.23    -1.0\n",
       "198508864 56190-06182-0338   0.04538   9.7097 ...    -1.0      3.2    -1.0\n",
       "113418794 55477-04216-0718   0.06321   0.8092 ...    0.56      0.0     0.0\n",
       "351285912 56540-06511-0114   0.07352  27.6466 ...    -1.0      0.0     0.0\n",
       "254324264 56269-06172-0643   0.08025  16.1681 ...    -1.0      0.0     0.0\n",
       " 75087955 55477-04216-0290    0.0852  -0.8446 ...    -1.0     4.98    -1.0\n",
       "      ...              ...       ...      ... ...     ...      ...     ...\n",
       " 23017942 56604-07167-0306 359.93361 -10.2119 ...    -1.0     3.47    -1.0\n",
       " 23017942 56604-07167-0306 359.93361 -10.2119 ...    0.57    20.48    -1.0\n",
       "275194404 56945-07596-0189 359.94819  18.6491 ...    -1.0      0.0     0.0\n",
       "224763520 56265-06151-0940 359.98277  12.8052 ...    0.23     1.55    -1.0\n",
       " 96667435 56959-07848-0076 359.98735    0.046 ...    -1.0    28.56    -1.0\n",
       "398731303 56567-07145-0232 359.98774  34.3494 ...    0.28     0.89    -1.0\n",
       "401165277 56567-07145-0240  359.9993  34.7208 ...     0.0      0.0     0.0"
      ]
     },
     "execution_count": 7,
     "metadata": {},
     "output_type": "execute_result"
    }
   ],
   "source": [
    "catalog"
   ]
  },
  {
   "cell_type": "code",
   "execution_count": 37,
   "id": "b5a4b18f",
   "metadata": {
    "scrolled": false
   },
   "outputs": [
    {
     "name": "stdout",
     "output_type": "stream",
     "text": [
      "Done\n",
      "28\n"
     ]
    },
    {
     "data": {
      "text/html": [
       "<div><i>Table length=38995</i>\n",
       "<table id=\"table139842599514320\" class=\"table-striped table-bordered table-condensed\">\n",
       "<thead><tr><th>THING_ID</th><th>MJD-PLATE-FIBER</th><th>RA</th><th>DEC</th><th>ZQSO</th><th>fDLA</th><th>fBAL</th><th>BI</th><th>CNR</th><th>Z</th><th>NHI</th><th>cc</th><th>log(Pcc)</th><th>saap</th><th>Dcore</th><th>Pcore</th><th>Fcore</th><th>Ecore</th><th>Ccore</th><th>fg</th><th>CII_1334</th><th>b1</th><th>SiII_1526</th><th>b2</th><th>FeII_1608</th><th>b3</th><th>AlII_1670</th><th>b4</th><th>FeII_2344</th><th>b5</th><th>FeII_2374</th><th>b6</th><th>FeII_2382</th><th>b7</th><th>FeII_2586</th><th>b8</th><th>FeII_2600</th><th>b9</th><th>MgII_2796</th><th>b10</th><th>MgII_2803</th><th>b11</th><th>MgI_2852</th><th>b12</th></tr></thead>\n",
       "<thead><tr><th>int32</th><th>str16</th><th>float64</th><th>float32</th><th>float32</th><th>int16</th><th>int16</th><th>int16</th><th>float32</th><th>float32</th><th>float32</th><th>float32</th><th>float32</th><th>float32</th><th>float32</th><th>float32</th><th>str6</th><th>str6</th><th>float32</th><th>int16</th><th>float32</th><th>float32</th><th>float32</th><th>float32</th><th>float32</th><th>float32</th><th>float32</th><th>float32</th><th>float32</th><th>float32</th><th>float32</th><th>float32</th><th>float32</th><th>float32</th><th>float32</th><th>float32</th><th>float32</th><th>float32</th><th>float32</th><th>float32</th><th>float32</th><th>float32</th><th>float32</th><th>float32</th></tr></thead>\n",
       "<tr><td>21073834</td><td>56604-07167-0290</td><td>0.02128</td><td>-10.8139</td><td>2.715</td><td>1</td><td>0</td><td>-1</td><td>1.9</td><td>2.484</td><td>21.06</td><td>0.495</td><td>-8.23</td><td>0.49</td><td>0.19</td><td>0.342</td><td>0.199</td><td>0.550</td><td>1.183</td><td>0</td><td>0.6</td><td>-1.0</td><td>1.14</td><td>-1.0</td><td>1.43</td><td>-1.0</td><td>1.18</td><td>-1.0</td><td>3.48</td><td>-1.0</td><td>6.18</td><td>-1.0</td><td>7.16</td><td>-1.0</td><td>12.59</td><td>-1.0</td><td>4.79</td><td>-1.0</td><td>9.86</td><td>-1.0</td><td>19.72</td><td>-1.0</td><td>28.23</td><td>-1.0</td></tr>\n",
       "<tr><td>223053451</td><td>56265-06151-0936</td><td>0.04045</td><td>12.6252</td><td>2.481</td><td>0</td><td>0</td><td>-1</td><td>5.2</td><td>2.3735</td><td>20.11</td><td>0.914</td><td>-12.17</td><td>0.21</td><td>0.32</td><td>0.396</td><td>-0.212</td><td>0.412</td><td>3.448</td><td>1</td><td>0.29</td><td>-1.0</td><td>0.28</td><td>-1.0</td><td>0.28</td><td>-1.0</td><td>0.3</td><td>-1.0</td><td>0.87</td><td>-1.0</td><td>0.91</td><td>-1.0</td><td>0.56</td><td>-1.0</td><td>0.85</td><td>-1.0</td><td>1.74</td><td>-1.0</td><td>2.48</td><td>-1.0</td><td>3.05</td><td>-1.0</td><td>1.36</td><td>-1.0</td></tr>\n",
       "<tr><td>198508864</td><td>56190-06182-0338</td><td>0.04538</td><td>9.7097</td><td>2.777</td><td>1</td><td>0</td><td>-1</td><td>7.1</td><td>2.3447</td><td>21.12</td><td>0.737</td><td>-15.41</td><td>0.33</td><td>0.22</td><td>0.156</td><td>0.180</td><td>0.357</td><td>2.75</td><td>0</td><td>0.0</td><td>0.0</td><td>1.42</td><td>0.07</td><td>0.39</td><td>0.09</td><td>1.53</td><td>0.11</td><td>1.2</td><td>0.29</td><td>0.83</td><td>-1.0</td><td>1.15</td><td>0.35</td><td>1.34</td><td>0.17</td><td>1.75</td><td>0.14</td><td>2.26</td><td>0.53</td><td>2.73</td><td>-1.0</td><td>3.2</td><td>-1.0</td></tr>\n",
       "<tr><td>113418794</td><td>55477-04216-0718</td><td>0.06321</td><td>0.8092</td><td>3.028</td><td>0</td><td>0</td><td>-1</td><td>9.5</td><td>2.0817</td><td>20.08</td><td>0.521</td><td>-2.58</td><td>0.39</td><td>0.342</td><td>0.314</td><td>0.241</td><td>1.324</td><td>4.151</td><td>1</td><td>0.0</td><td>0.0</td><td>0.0</td><td>0.0</td><td>0.62</td><td>0.15</td><td>0.2</td><td>-1.0</td><td>0.69</td><td>-1.0</td><td>0.72</td><td>-1.0</td><td>0.66</td><td>-1.0</td><td>1.17</td><td>-1.0</td><td>0.83</td><td>-1.0</td><td>0.69</td><td>-1.0</td><td>0.96</td><td>-1.0</td><td>1.9</td><td>-1.0</td></tr>\n",
       "<tr><td>113418794</td><td>55477-04216-0718</td><td>0.06321</td><td>0.8092</td><td>3.028</td><td>0</td><td>0</td><td>-1</td><td>9.5</td><td>2.1281</td><td>20.0</td><td>0.748</td><td>-5.15</td><td>0.12</td><td>0.389</td><td>0.184</td><td>-0.193</td><td>0.910</td><td>4.131</td><td>1</td><td>0.0</td><td>0.0</td><td>0.0</td><td>0.0</td><td>0.37</td><td>0.06</td><td>0.22</td><td>-1.0</td><td>0.63</td><td>-1.0</td><td>0.46</td><td>-1.0</td><td>0.4</td><td>-1.0</td><td>0.7</td><td>-1.0</td><td>0.5</td><td>-1.0</td><td>1.25</td><td>-1.0</td><td>0.59</td><td>0.19</td><td>3.72</td><td>-1.0</td></tr>\n",
       "<tr><td>113418794</td><td>55477-04216-0718</td><td>0.06321</td><td>0.8092</td><td>3.028</td><td>0</td><td>0</td><td>-1</td><td>9.5</td><td>2.524</td><td>20.88</td><td>0.895</td><td>-21.66</td><td>0.15</td><td>0.103</td><td>0.983</td><td>0.104</td><td>0.400</td><td>3.989</td><td>0</td><td>0.0</td><td>0.0</td><td>1.54</td><td>0.06</td><td>0.73</td><td>0.05</td><td>1.85</td><td>0.11</td><td>1.89</td><td>0.14</td><td>1.56</td><td>0.34</td><td>1.86</td><td>-1.0</td><td>2.14</td><td>0.14</td><td>2.62</td><td>0.1</td><td>2.86</td><td>-1.0</td><td>2.81</td><td>0.56</td><td>0.0</td><td>0.0</td></tr>\n",
       "<tr><td>...</td><td>...</td><td>...</td><td>...</td><td>...</td><td>...</td><td>...</td><td>...</td><td>...</td><td>...</td><td>...</td><td>...</td><td>...</td><td>...</td><td>...</td><td>...</td><td>...</td><td>...</td><td>...</td><td>...</td><td>...</td><td>...</td><td>...</td><td>...</td><td>...</td><td>...</td><td>...</td><td>...</td><td>...</td><td>...</td><td>...</td><td>...</td><td>...</td><td>...</td><td>...</td><td>...</td><td>...</td><td>...</td><td>...</td><td>...</td><td>...</td><td>...</td><td>...</td><td>...</td></tr>\n",
       "<tr><td>60587938</td><td>56956-07850-0346</td><td>359.98686</td><td>-2.1076</td><td>3.306</td><td>0</td><td>0</td><td>-1</td><td>2.6</td><td>3.0727</td><td>20.24</td><td>0.617</td><td>-3.65</td><td>0.2</td><td>0.321</td><td>0.256</td><td>-0.066</td><td>0.250</td><td>0.699</td><td>1</td><td>0.58</td><td>-1.0</td><td>1.11</td><td>-1.0</td><td>1.54</td><td>-1.0</td><td>0.89</td><td>-1.0</td><td>8.05</td><td>-1.0</td><td>7.37</td><td>-1.0</td><td>6.74</td><td>-1.0</td><td>0.0</td><td>0.0</td><td>0.0</td><td>0.0</td><td>0.0</td><td>0.0</td><td>0.0</td><td>0.0</td><td>0.0</td><td>0.0</td></tr>\n",
       "<tr><td>96667435</td><td>56959-07848-0076</td><td>359.98735</td><td>0.046</td><td>2.815</td><td>0</td><td>0</td><td>-1</td><td>4.5</td><td>2.4118</td><td>20.53</td><td>0.83</td><td>-11.24</td><td>0.16</td><td>0.494</td><td>0.002</td><td>-0.476</td><td>0.284</td><td>1.341</td><td>0</td><td>0.0</td><td>0.0</td><td>0.66</td><td>-1.0</td><td>0.74</td><td>-1.0</td><td>0.98</td><td>-1.0</td><td>3.28</td><td>-1.0</td><td>1.97</td><td>-1.0</td><td>1.32</td><td>-1.0</td><td>1.93</td><td>-1.0</td><td>1.82</td><td>-1.0</td><td>8.82</td><td>-1.0</td><td>10.94</td><td>-1.0</td><td>28.56</td><td>-1.0</td></tr>\n",
       "<tr><td>235300459</td><td>56268-06177-0394</td><td>359.98768</td><td>13.9453</td><td>2.151</td><td>1</td><td>0</td><td>-1</td><td>2.3</td><td>2.1109</td><td>20.28</td><td>0.704</td><td>-6.86</td><td>0.43</td><td>0.153</td><td>0.974</td><td>0.643</td><td>0.768</td><td>3.361</td><td>1</td><td>0.43</td><td>-1.0</td><td>0.45</td><td>0.11</td><td>0.41</td><td>-1.0</td><td>0.53</td><td>-1.0</td><td>1.1</td><td>-1.0</td><td>0.97</td><td>-1.0</td><td>0.93</td><td>-1.0</td><td>1.45</td><td>-1.0</td><td>1.06</td><td>-1.0</td><td>1.66</td><td>-1.0</td><td>1.44</td><td>-1.0</td><td>2.19</td><td>-1.0</td></tr>\n",
       "<tr><td>398731303</td><td>56567-07145-0232</td><td>359.98774</td><td>34.3494</td><td>2.307</td><td>0</td><td>0</td><td>-1</td><td>3.4</td><td>2.2442</td><td>20.9</td><td>0.729</td><td>-14.95</td><td>0.45</td><td>0.171</td><td>0.593</td><td>-0.042</td><td>0.463</td><td>2.031</td><td>0</td><td>0.98</td><td>-1.0</td><td>0.72</td><td>-1.0</td><td>0.51</td><td>-1.0</td><td>0.8</td><td>-1.0</td><td>1.85</td><td>-1.0</td><td>1.54</td><td>-1.0</td><td>1.68</td><td>-1.0</td><td>2.62</td><td>-1.0</td><td>1.85</td><td>-1.0</td><td>1.68</td><td>0.31</td><td>1.57</td><td>0.28</td><td>0.89</td><td>-1.0</td></tr>\n",
       "<tr><td>63649488</td><td>55810-04354-0660</td><td>359.98914</td><td>-1.6793</td><td>3.126</td><td>1</td><td>0</td><td>-1</td><td>6.4</td><td>2.6123</td><td>20.3</td><td>0.802</td><td>-9.08</td><td>0.22</td><td>0.204</td><td>0.801</td><td>-0.209</td><td>0.408</td><td>2.943</td><td>1</td><td>0.0</td><td>0.0</td><td>0.31</td><td>0.09</td><td>0.58</td><td>0.12</td><td>0.78</td><td>0.18</td><td>1.72</td><td>0.5</td><td>1.53</td><td>-1.0</td><td>2.24</td><td>-1.0</td><td>4.05</td><td>-1.0</td><td>14.73</td><td>-1.0</td><td>0.0</td><td>0.0</td><td>0.0</td><td>0.0</td><td>0.0</td><td>0.0</td></tr>\n",
       "<tr><td>167197203</td><td>57367-08740-0676</td><td>359.99139</td><td>6.4118</td><td>2.788</td><td>0</td><td>0</td><td>-1</td><td>5.6</td><td>2.5982</td><td>20.16</td><td>0.584</td><td>-2.86</td><td>0.61</td><td>0.375</td><td>0.121</td><td>0.258</td><td>0.371</td><td>1.863</td><td>1</td><td>0.36</td><td>-1.0</td><td>0.49</td><td>-1.0</td><td>0.35</td><td>-1.0</td><td>0.46</td><td>-1.0</td><td>2.56</td><td>-1.0</td><td>1.23</td><td>-1.0</td><td>0.79</td><td>-1.0</td><td>2.14</td><td>0.4</td><td>3.04</td><td>-1.0</td><td>0.0</td><td>0.0</td><td>0.0</td><td>0.0</td><td>0.0</td><td>0.0</td></tr>\n",
       "<tr><td>401165277</td><td>56567-07145-0240</td><td>359.9993</td><td>34.7208</td><td>3.109</td><td>1</td><td>0</td><td>-1</td><td>6.5</td><td>2.6422</td><td>21.33</td><td>0.693</td><td>-20.37</td><td>0.39</td><td>0.09</td><td>0.954</td><td>-0.076</td><td>0.313</td><td>2.132</td><td>0</td><td>0.0</td><td>0.0</td><td>1.07</td><td>0.11</td><td>0.73</td><td>0.11</td><td>0.95</td><td>0.12</td><td>1.45</td><td>0.12</td><td>1.21</td><td>0.17</td><td>1.48</td><td>0.18</td><td>1.5</td><td>-1.0</td><td>2.12</td><td>0.36</td><td>0.0</td><td>0.0</td><td>0.0</td><td>0.0</td><td>0.0</td><td>0.0</td></tr>\n",
       "</table></div>"
      ],
      "text/plain": [
       "<Table length=38995>\n",
       " THING_ID MJD-PLATE-FIBER      RA      DEC    ...   b11   MgI_2852   b12  \n",
       "  int32        str16        float64  float32  ... float32 float32  float32\n",
       "--------- ---------------- --------- -------- ... ------- -------- -------\n",
       " 21073834 56604-07167-0290   0.02128 -10.8139 ...    -1.0    28.23    -1.0\n",
       "223053451 56265-06151-0936   0.04045  12.6252 ...    -1.0     1.36    -1.0\n",
       "198508864 56190-06182-0338   0.04538   9.7097 ...    -1.0      3.2    -1.0\n",
       "113418794 55477-04216-0718   0.06321   0.8092 ...    -1.0      1.9    -1.0\n",
       "113418794 55477-04216-0718   0.06321   0.8092 ...    0.19     3.72    -1.0\n",
       "113418794 55477-04216-0718   0.06321   0.8092 ...    0.56      0.0     0.0\n",
       "      ...              ...       ...      ... ...     ...      ...     ...\n",
       " 60587938 56956-07850-0346 359.98686  -2.1076 ...     0.0      0.0     0.0\n",
       " 96667435 56959-07848-0076 359.98735    0.046 ...    -1.0    28.56    -1.0\n",
       "235300459 56268-06177-0394 359.98768  13.9453 ...    -1.0     2.19    -1.0\n",
       "398731303 56567-07145-0232 359.98774  34.3494 ...    0.28     0.89    -1.0\n",
       " 63649488 55810-04354-0660 359.98914  -1.6793 ...     0.0      0.0     0.0\n",
       "167197203 57367-08740-0676 359.99139   6.4118 ...     0.0      0.0     0.0\n",
       "401165277 56567-07145-0240  359.9993  34.7208 ...     0.0      0.0     0.0"
      ]
     },
     "execution_count": 37,
     "metadata": {},
     "output_type": "execute_result"
    }
   ],
   "source": [
    "import os\n",
    "import sys\n",
    "import glob\n",
    "import numpy as np\n",
    "import scipy.optimize    as op\n",
    "import matplotlib.pyplot as plt\n",
    "import urllib.request\n",
    "from astropy.io import fits as pyfits\n",
    "from astropy.table import Table\n",
    "from scipy.interpolate import make_interp_spline\n",
    "import pandas as pd\n",
    "\n",
    "\n",
    "local_dir=\"/home/colgoat/Spyder/\"\n",
    "\n",
    "file=\"DLA_DR14_v1a(Corentin).txt\"\n",
    "file = os.path.join(local_dir,file)\n",
    "\n",
    "\n",
    "lines = []\n",
    "longi = []\n",
    "\n",
    "f = open(file, \"r\")\n",
    "for x in f:\n",
    "  #print(len(x))\n",
    "  lines.append(x)\n",
    "  longi.append(len(x))\n",
    "\n",
    "for i in range(len(lines)):\n",
    "    if \"        \" in lines[i]:\n",
    "        lines[i] = lines[i].replace(\"        \", \" \")\n",
    "    if \"       \" in lines[i]:\n",
    "        lines[i] = lines[i].replace(\"       \", \" \")\n",
    "    if \"      \" in lines[i]:\n",
    "        lines[i] = lines[i].replace(\"      \", \" \")\n",
    "    if \"     \" in lines[i]:\n",
    "        lines[i] = lines[i].replace(\"     \", \" \")\n",
    "    if \"    \" in lines[i]:\n",
    "        lines[i] = lines[i].replace(\"    \", \" \")\n",
    "    if \"   \" in lines[i]:\n",
    "        lines[i] = lines[i].replace(\"   \", \" \")\n",
    "    if \"  \" in lines[i]:\n",
    "        lines[i] = lines[i].replace(\"  \", \" \")\n",
    "    if \"MgI_2852 \" in lines[i]:\n",
    "        lines[i] = lines[i].replace(\"MgI_2852 \", \"MgI_2852\")\n",
    "    #if \"+\" in lines[i]:\n",
    "        #lines[i] = lines[i].replace(\"+\", \"\")\n",
    "    if \"99999*\" in lines[i]:\n",
    "        lines[i] = lines[i].replace(\"99999*\", \"99999\")\n",
    "        \n",
    "with open(\"/home/colgoat/Spyder/DLA_DR14_v1a(Corrected).txt\", 'w') as fp:\n",
    "    for item in lines:\n",
    "        # write each item on a new line\n",
    "        fp.write(\"%s\" % item)\n",
    "    print('Done')\n",
    "    \n",
    "\n",
    "file_cor = \"/home/colgoat/Spyder/DLA_DR14_v1a(Corrected).txt\"\n",
    "df = pd.read_csv(file_cor,sep = ' ', skiprows=1,\n",
    "                 names = ['THING_ID',\n",
    "                          'MJD-PLATE-FIBER',\n",
    "                          'RA',\n",
    "                          'DEC',\n",
    "                          'ZQSO',\n",
    "                          'fDLA',\n",
    "                          'fBAL',\n",
    "                          'BI',\n",
    "                          'CNR',\n",
    "                          'Z',\n",
    "                          'NHI',\n",
    "                          'cc',\n",
    "                          'log(Pcc)',\n",
    "                          'saap',\n",
    "                          'Dcore',\n",
    "                          'Pcore',\n",
    "                          'Fcore',\n",
    "                          'Ecore',\n",
    "                          'Ccore',\n",
    "                          'fg',\n",
    "                          'CII_1334',\n",
    "                          'b1',\n",
    "                          'SiII_1526',\n",
    "                          'b2',\n",
    "                          'FeII_1608',\n",
    "                          'b3',\n",
    "                          'AlII_1670',\n",
    "                          'b4',\n",
    "                          'FeII_2344',\n",
    "                          'b5',\n",
    "                          'FeII_2374',\n",
    "                          'b6',\n",
    "                          'FeII_2382',\n",
    "                          'b7',\n",
    "                          'FeII_2586',\n",
    "                          'b8',\n",
    "                          'FeII_2600',\n",
    "                          'b9',\n",
    "                          'MgII_2796',\n",
    "                          'b10',\n",
    "                          'MgII_2803',\n",
    "                          'b11',\n",
    "                          'MgI_2852',\n",
    "                          'b12'],\n",
    "                 dtype = {'THING_ID':'int32',\n",
    "                          'MJD-PLATE-FIBER':'object',\n",
    "                          'RA':'float64',\n",
    "                          'DEC':'float32',\n",
    "                          'ZQSO':'float32',\n",
    "                          'fDLA':'int16',\n",
    "                          'fBAL':'int16',\n",
    "                          'BI':'int16',\n",
    "                          'CNR':'float32',\n",
    "                          'Z':'float32',\n",
    "                          'NHI':'float32',\n",
    "                          'cc':'float32',\n",
    "                          'log(Pcc)':'float32',\n",
    "                          'saap':'float32',\n",
    "                          'Dcore':'float32',\n",
    "                          'Pcore':'float32',\n",
    "                          'Fcore':'object',\n",
    "                          'Ecore':'object',\n",
    "                          'Ccore':'float32',\n",
    "                          'fg':'int16',\n",
    "                          'CII_1334':'float32',\n",
    "                          'b1':'float32',\n",
    "                          'SiII_1526':'float32',\n",
    "                          'b2':'float32',\n",
    "                          'FeII_1608':'float32',\n",
    "                          'b3':'float32',\n",
    "                          'AlII_1670':'float32',\n",
    "                          'b4':'float32',\n",
    "                          'FeII_2344':'float32',\n",
    "                          'b5':'float32',\n",
    "                          'FeII_2374':'float32',\n",
    "                          'b6':'float32',\n",
    "                          'FeII_2382':'float32',\n",
    "                          'b7':'float32',\n",
    "                          'FeII_2586':'float32',\n",
    "                          'b8':'float32',\n",
    "                          'FeII_2600':'float32',\n",
    "                          'b9':'float32',\n",
    "                          'MgII_2796':'float32',\n",
    "                          'b10':'float32',\n",
    "                          'MgII_2803':'float32',\n",
    "                          'b11':'float32',\n",
    "                          'MgI_2852':'float32',\n",
    "                          'b12':'float32'})\n",
    "t = Table.from_pandas(df)\n",
    "direc = \"/home/colgoat/Spyder/DLA_DR14_v1a_CRavoux.fits\"\n",
    "t.write(direc, overwrite = True)\n",
    "nuevo = pyfits.open(direc)\n",
    "tab = Table.read(nuevo)\n",
    "thing_idCUT = (tab['THING_ID']>0)\n",
    "new =tab[thing_idCUT]\n",
    "print(len(tab)-len(new))\n",
    "new"
   ]
  },
  {
   "cell_type": "code",
   "execution_count": 49,
   "id": "790bd335",
   "metadata": {},
   "outputs": [],
   "source": [
    "\n",
    "from astropy.io import fits\n",
    "\n",
    "archivo = fits.open('/home/colgoat/Jupyter/DLA_DR14CorRa.fits')\n",
    "#archivo.info()\n",
    "#archivo[1] = hdu # assuming the first extension is a table\n",
    "\n",
    "#hdu[0] = archivo[0]\n",
    "hdu = fits.BinTableHDU(tab, name = 'DLACAT')\n",
    "archivo[1] = hdu\n",
    "\n",
    "\n",
    "archivo.close()\n",
    "\n",
    "passer = archivo\n",
    "\n",
    "with fits.open('/home/colgoat/Jupyter/DLA_DR14CorRa.fits', mode='update') as passer:\n",
    "    # Change something in hdul.\n",
    "    \n",
    "    passer[1] = hdu\n",
    "    \n",
    "    \n",
    "    \n",
    "    passer.flush()  # changes are written back to original.fits\n",
    "\n",
    "# closing the file will also flush any changes and prevent further writing\n"
   ]
  },
  {
   "cell_type": "code",
   "execution_count": 50,
   "id": "32a31e25",
   "metadata": {},
   "outputs": [
    {
     "name": "stdout",
     "output_type": "stream",
     "text": [
      "<TableColumns names=('THING_ID','MJD-PLATE-FIBER','RA','DEC','ZQSO','fDLA','fBAL','BI','CNR','Z','NHI','cc','log(Pcc)','saap','Dcore','Pcore','Fcore','Ecore','Ccore','fg','CII_1334','b1','SiII_1526','b2','FeII_1608','b3','AlII_1670','b4','FeII_2344','b5','FeII_2374','b6','FeII_2382','b7','FeII_2586','b8','FeII_2600','b9','MgII_2796','b10','MgII_2803','b11','MgI_2852','b12')>\n"
     ]
    },
    {
     "data": {
      "text/plain": [
       "39023"
      ]
     },
     "execution_count": 50,
     "metadata": {},
     "output_type": "execute_result"
    }
   ],
   "source": [
    "pruf=Table.read('DLA_DR14CorRa.fits')\n",
    "print(pruf.columns)\n",
    "len(pruf)"
   ]
  },
  {
   "cell_type": "code",
   "execution_count": 51,
   "id": "4816ac83",
   "metadata": {},
   "outputs": [
    {
     "name": "stdout",
     "output_type": "stream",
     "text": [
      "Filename: DLA_DR14CorRa.fits\n",
      "No.    Name      Ver    Type      Cards   Dimensions   Format\n",
      "  0  PRIMARY       1 PrimaryHDU       5   ()      \n",
      "  1  DLACAT        1 BinTableHDU     97   39023R x 44C   [J, 16A, D, E, E, I, I, I, E, E, E, E, E, E, E, E, 6A, 6A, E, I, E, E, E, E, E, E, E, E, E, E, E, E, E, E, E, E, E, E, E, E, E, E, E, E]   \n"
     ]
    }
   ],
   "source": [
    "nuevo = fits.open('DLA_DR14CorRa.fits')\n",
    "nuevo.info()"
   ]
  },
  {
   "cell_type": "code",
   "execution_count": 52,
   "id": "f5350b13",
   "metadata": {},
   "outputs": [
    {
     "name": "stdout",
     "output_type": "stream",
     "text": [
      "Filename: DLA_DR14.fits\n",
      "No.    Name      Ver    Type      Cards   Dimensions   Format\n",
      "  0  PRIMARY       1 PrimaryHDU       5   ()      \n",
      "  1  DLACAT        1 BinTableHDU    105   16640R x 44C   [J, 16A, D, E, E, I, I, I, E, E, E, E, E, E, E, E, 6A, 6A, E, I, E, E, E, E, E, E, E, E, E, E, E, E, E, E, E, E, E, E, E, E, E, E, E, E]   \n"
     ]
    }
   ],
   "source": [
    "nuevo = fits.open('DLA_DR14.fits')\n",
    "nuevo.info()"
   ]
  },
  {
   "cell_type": "code",
   "execution_count": 53,
   "id": "3c5b7504",
   "metadata": {},
   "outputs": [
    {
     "data": {
      "text/html": [
       "<div><i>Table length=39023</i>\n",
       "<table id=\"table139842517593232\" class=\"table-striped table-bordered table-condensed\">\n",
       "<thead><tr><th>THING_ID</th><th>MJD-PLATE-FIBER</th><th>RA</th><th>DEC</th><th>ZQSO</th><th>fDLA</th><th>fBAL</th><th>BI</th><th>CNR</th><th>Z</th><th>NHI</th><th>cc</th><th>log(Pcc)</th><th>saap</th><th>Dcore</th><th>Pcore</th><th>Fcore</th><th>Ecore</th><th>Ccore</th><th>fg</th><th>CII_1334</th><th>b1</th><th>SiII_1526</th><th>b2</th><th>FeII_1608</th><th>b3</th><th>AlII_1670</th><th>b4</th><th>FeII_2344</th><th>b5</th><th>FeII_2374</th><th>b6</th><th>FeII_2382</th><th>b7</th><th>FeII_2586</th><th>b8</th><th>FeII_2600</th><th>b9</th><th>MgII_2796</th><th>b10</th><th>MgII_2803</th><th>b11</th><th>MgI_2852</th><th>b12</th></tr></thead>\n",
       "<thead><tr><th>int32</th><th>bytes16</th><th>float64</th><th>float32</th><th>float32</th><th>int16</th><th>int16</th><th>int16</th><th>float32</th><th>float32</th><th>float32</th><th>float32</th><th>float32</th><th>float32</th><th>float32</th><th>float32</th><th>bytes6</th><th>bytes6</th><th>float32</th><th>int16</th><th>float32</th><th>float32</th><th>float32</th><th>float32</th><th>float32</th><th>float32</th><th>float32</th><th>float32</th><th>float32</th><th>float32</th><th>float32</th><th>float32</th><th>float32</th><th>float32</th><th>float32</th><th>float32</th><th>float32</th><th>float32</th><th>float32</th><th>float32</th><th>float32</th><th>float32</th><th>float32</th><th>float32</th></tr></thead>\n",
       "<tr><td>0</td><td>56603-07235-0691</td><td>0.0</td><td>0.0</td><td>3.305</td><td>0</td><td>0</td><td>-1</td><td>2.5</td><td>2.7782</td><td>20.25</td><td>0.808</td><td>-8.36</td><td>0.36</td><td>0.38</td><td>0.113</td><td>0.047</td><td>0.166</td><td>0.424</td><td>1</td><td>0.0</td><td>0.0</td><td>0.73</td><td>-1.0</td><td>0.77</td><td>-1.0</td><td>0.93</td><td>-1.0</td><td>4.24</td><td>-1.0</td><td>2.87</td><td>-1.0</td><td>5.96</td><td>-1.0</td><td>4.58</td><td>-1.0</td><td>3.8</td><td>-1.0</td><td>0.0</td><td>0.0</td><td>0.0</td><td>0.0</td><td>0.0</td><td>0.0</td></tr>\n",
       "<tr><td>0</td><td>56603-07235-0518</td><td>0.0</td><td>0.0</td><td>2.489</td><td>0</td><td>0</td><td>-1</td><td>2.6</td><td>2.3627</td><td>20.12</td><td>0.656</td><td>-5.24</td><td>0.57</td><td>0.191</td><td>0.937</td><td>0.184</td><td>0.428</td><td>1.21</td><td>1</td><td>0.62</td><td>-1.0</td><td>0.65</td><td>-1.0</td><td>0.44</td><td>-1.0</td><td>0.61</td><td>0.15</td><td>2.76</td><td>-1.0</td><td>2.49</td><td>-1.0</td><td>1.62</td><td>-1.0</td><td>3.42</td><td>-1.0</td><td>1.48</td><td>-1.0</td><td>4.33</td><td>-1.0</td><td>12.89</td><td>-1.0</td><td>3.54</td><td>-1.0</td></tr>\n",
       "<tr><td>0</td><td>56603-07235-0092</td><td>0.0</td><td>0.0</td><td>2.629</td><td>1</td><td>0</td><td>-1</td><td>2.9</td><td>2.3774</td><td>20.63</td><td>0.661</td><td>-8.17</td><td>0.46</td><td>0.286</td><td>0.141</td><td>0.028</td><td>0.255</td><td>0.883</td><td>0</td><td>0.38</td><td>-1.0</td><td>0.79</td><td>-1.0</td><td>0.89</td><td>-1.0</td><td>0.46</td><td>-1.0</td><td>6.44</td><td>-1.0</td><td>4.67</td><td>-1.0</td><td>3.24</td><td>-1.0</td><td>3.69</td><td>-1.0</td><td>9.63</td><td>-1.0</td><td>34.61</td><td>-1.0</td><td>16.89</td><td>-1.0</td><td>5.31</td><td>-1.0</td></tr>\n",
       "<tr><td>0</td><td>56603-07235-0073</td><td>0.0</td><td>0.0</td><td>2.9</td><td>1</td><td>0</td><td>-1</td><td>5.2</td><td>2.8166</td><td>20.25</td><td>0.851</td><td>-11.16</td><td>0.53</td><td>0.232</td><td>0.655</td><td>-0.013</td><td>0.143</td><td>1.057</td><td>1</td><td>0.66</td><td>0.11</td><td>0.54</td><td>-1.0</td><td>0.35</td><td>-1.0</td><td>0.71</td><td>-1.0</td><td>3.87</td><td>-1.0</td><td>1.56</td><td>-1.0</td><td>1.2</td><td>0.27</td><td>7.37</td><td>-1.0</td><td>9.16</td><td>-1.0</td><td>0.0</td><td>0.0</td><td>0.0</td><td>0.0</td><td>0.0</td><td>0.0</td></tr>\n",
       "<tr><td>21073834</td><td>56604-07167-0290</td><td>0.02128</td><td>-10.8139</td><td>2.715</td><td>1</td><td>0</td><td>-1</td><td>1.9</td><td>2.484</td><td>21.06</td><td>0.495</td><td>-8.23</td><td>0.49</td><td>0.19</td><td>0.342</td><td>0.199</td><td>0.550</td><td>1.183</td><td>0</td><td>0.6</td><td>-1.0</td><td>1.14</td><td>-1.0</td><td>1.43</td><td>-1.0</td><td>1.18</td><td>-1.0</td><td>3.48</td><td>-1.0</td><td>6.18</td><td>-1.0</td><td>7.16</td><td>-1.0</td><td>12.59</td><td>-1.0</td><td>4.79</td><td>-1.0</td><td>9.86</td><td>-1.0</td><td>19.72</td><td>-1.0</td><td>28.23</td><td>-1.0</td></tr>\n",
       "<tr><td>223053451</td><td>56265-06151-0936</td><td>0.04045</td><td>12.6252</td><td>2.481</td><td>0</td><td>0</td><td>-1</td><td>5.2</td><td>2.3735</td><td>20.11</td><td>0.914</td><td>-12.17</td><td>0.21</td><td>0.32</td><td>0.396</td><td>-0.212</td><td>0.412</td><td>3.448</td><td>1</td><td>0.29</td><td>-1.0</td><td>0.28</td><td>-1.0</td><td>0.28</td><td>-1.0</td><td>0.3</td><td>-1.0</td><td>0.87</td><td>-1.0</td><td>0.91</td><td>-1.0</td><td>0.56</td><td>-1.0</td><td>0.85</td><td>-1.0</td><td>1.74</td><td>-1.0</td><td>2.48</td><td>-1.0</td><td>3.05</td><td>-1.0</td><td>1.36</td><td>-1.0</td></tr>\n",
       "<tr><td>...</td><td>...</td><td>...</td><td>...</td><td>...</td><td>...</td><td>...</td><td>...</td><td>...</td><td>...</td><td>...</td><td>...</td><td>...</td><td>...</td><td>...</td><td>...</td><td>...</td><td>...</td><td>...</td><td>...</td><td>...</td><td>...</td><td>...</td><td>...</td><td>...</td><td>...</td><td>...</td><td>...</td><td>...</td><td>...</td><td>...</td><td>...</td><td>...</td><td>...</td><td>...</td><td>...</td><td>...</td><td>...</td><td>...</td><td>...</td><td>...</td><td>...</td><td>...</td><td>...</td></tr>\n",
       "<tr><td>60587938</td><td>56956-07850-0346</td><td>359.98686</td><td>-2.1076</td><td>3.306</td><td>0</td><td>0</td><td>-1</td><td>2.6</td><td>3.0727</td><td>20.24</td><td>0.617</td><td>-3.65</td><td>0.2</td><td>0.321</td><td>0.256</td><td>-0.066</td><td>0.250</td><td>0.699</td><td>1</td><td>0.58</td><td>-1.0</td><td>1.11</td><td>-1.0</td><td>1.54</td><td>-1.0</td><td>0.89</td><td>-1.0</td><td>8.05</td><td>-1.0</td><td>7.37</td><td>-1.0</td><td>6.74</td><td>-1.0</td><td>0.0</td><td>0.0</td><td>0.0</td><td>0.0</td><td>0.0</td><td>0.0</td><td>0.0</td><td>0.0</td><td>0.0</td><td>0.0</td></tr>\n",
       "<tr><td>96667435</td><td>56959-07848-0076</td><td>359.98735</td><td>0.046</td><td>2.815</td><td>0</td><td>0</td><td>-1</td><td>4.5</td><td>2.4118</td><td>20.53</td><td>0.83</td><td>-11.24</td><td>0.16</td><td>0.494</td><td>0.002</td><td>-0.476</td><td>0.284</td><td>1.341</td><td>0</td><td>0.0</td><td>0.0</td><td>0.66</td><td>-1.0</td><td>0.74</td><td>-1.0</td><td>0.98</td><td>-1.0</td><td>3.28</td><td>-1.0</td><td>1.97</td><td>-1.0</td><td>1.32</td><td>-1.0</td><td>1.93</td><td>-1.0</td><td>1.82</td><td>-1.0</td><td>8.82</td><td>-1.0</td><td>10.94</td><td>-1.0</td><td>28.56</td><td>-1.0</td></tr>\n",
       "<tr><td>235300459</td><td>56268-06177-0394</td><td>359.98768</td><td>13.9453</td><td>2.151</td><td>1</td><td>0</td><td>-1</td><td>2.3</td><td>2.1109</td><td>20.28</td><td>0.704</td><td>-6.86</td><td>0.43</td><td>0.153</td><td>0.974</td><td>0.643</td><td>0.768</td><td>3.361</td><td>1</td><td>0.43</td><td>-1.0</td><td>0.45</td><td>0.11</td><td>0.41</td><td>-1.0</td><td>0.53</td><td>-1.0</td><td>1.1</td><td>-1.0</td><td>0.97</td><td>-1.0</td><td>0.93</td><td>-1.0</td><td>1.45</td><td>-1.0</td><td>1.06</td><td>-1.0</td><td>1.66</td><td>-1.0</td><td>1.44</td><td>-1.0</td><td>2.19</td><td>-1.0</td></tr>\n",
       "<tr><td>398731303</td><td>56567-07145-0232</td><td>359.98774</td><td>34.3494</td><td>2.307</td><td>0</td><td>0</td><td>-1</td><td>3.4</td><td>2.2442</td><td>20.9</td><td>0.729</td><td>-14.95</td><td>0.45</td><td>0.171</td><td>0.593</td><td>-0.042</td><td>0.463</td><td>2.031</td><td>0</td><td>0.98</td><td>-1.0</td><td>0.72</td><td>-1.0</td><td>0.51</td><td>-1.0</td><td>0.8</td><td>-1.0</td><td>1.85</td><td>-1.0</td><td>1.54</td><td>-1.0</td><td>1.68</td><td>-1.0</td><td>2.62</td><td>-1.0</td><td>1.85</td><td>-1.0</td><td>1.68</td><td>0.31</td><td>1.57</td><td>0.28</td><td>0.89</td><td>-1.0</td></tr>\n",
       "<tr><td>63649488</td><td>55810-04354-0660</td><td>359.98914</td><td>-1.6793</td><td>3.126</td><td>1</td><td>0</td><td>-1</td><td>6.4</td><td>2.6123</td><td>20.3</td><td>0.802</td><td>-9.08</td><td>0.22</td><td>0.204</td><td>0.801</td><td>-0.209</td><td>0.408</td><td>2.943</td><td>1</td><td>0.0</td><td>0.0</td><td>0.31</td><td>0.09</td><td>0.58</td><td>0.12</td><td>0.78</td><td>0.18</td><td>1.72</td><td>0.5</td><td>1.53</td><td>-1.0</td><td>2.24</td><td>-1.0</td><td>4.05</td><td>-1.0</td><td>14.73</td><td>-1.0</td><td>0.0</td><td>0.0</td><td>0.0</td><td>0.0</td><td>0.0</td><td>0.0</td></tr>\n",
       "<tr><td>167197203</td><td>57367-08740-0676</td><td>359.99139</td><td>6.4118</td><td>2.788</td><td>0</td><td>0</td><td>-1</td><td>5.6</td><td>2.5982</td><td>20.16</td><td>0.584</td><td>-2.86</td><td>0.61</td><td>0.375</td><td>0.121</td><td>0.258</td><td>0.371</td><td>1.863</td><td>1</td><td>0.36</td><td>-1.0</td><td>0.49</td><td>-1.0</td><td>0.35</td><td>-1.0</td><td>0.46</td><td>-1.0</td><td>2.56</td><td>-1.0</td><td>1.23</td><td>-1.0</td><td>0.79</td><td>-1.0</td><td>2.14</td><td>0.4</td><td>3.04</td><td>-1.0</td><td>0.0</td><td>0.0</td><td>0.0</td><td>0.0</td><td>0.0</td><td>0.0</td></tr>\n",
       "<tr><td>401165277</td><td>56567-07145-0240</td><td>359.9993</td><td>34.7208</td><td>3.109</td><td>1</td><td>0</td><td>-1</td><td>6.5</td><td>2.6422</td><td>21.33</td><td>0.693</td><td>-20.37</td><td>0.39</td><td>0.09</td><td>0.954</td><td>-0.076</td><td>0.313</td><td>2.132</td><td>0</td><td>0.0</td><td>0.0</td><td>1.07</td><td>0.11</td><td>0.73</td><td>0.11</td><td>0.95</td><td>0.12</td><td>1.45</td><td>0.12</td><td>1.21</td><td>0.17</td><td>1.48</td><td>0.18</td><td>1.5</td><td>-1.0</td><td>2.12</td><td>0.36</td><td>0.0</td><td>0.0</td><td>0.0</td><td>0.0</td><td>0.0</td><td>0.0</td></tr>\n",
       "</table></div>"
      ],
      "text/plain": [
       "<Table length=39023>\n",
       " THING_ID MJD-PLATE-FIBER      RA      DEC    ...   b11   MgI_2852   b12  \n",
       "  int32       bytes16       float64  float32  ... float32 float32  float32\n",
       "--------- ---------------- --------- -------- ... ------- -------- -------\n",
       "        0 56603-07235-0691       0.0      0.0 ...     0.0      0.0     0.0\n",
       "        0 56603-07235-0518       0.0      0.0 ...    -1.0     3.54    -1.0\n",
       "        0 56603-07235-0092       0.0      0.0 ...    -1.0     5.31    -1.0\n",
       "        0 56603-07235-0073       0.0      0.0 ...     0.0      0.0     0.0\n",
       " 21073834 56604-07167-0290   0.02128 -10.8139 ...    -1.0    28.23    -1.0\n",
       "223053451 56265-06151-0936   0.04045  12.6252 ...    -1.0     1.36    -1.0\n",
       "      ...              ...       ...      ... ...     ...      ...     ...\n",
       " 60587938 56956-07850-0346 359.98686  -2.1076 ...     0.0      0.0     0.0\n",
       " 96667435 56959-07848-0076 359.98735    0.046 ...    -1.0    28.56    -1.0\n",
       "235300459 56268-06177-0394 359.98768  13.9453 ...    -1.0     2.19    -1.0\n",
       "398731303 56567-07145-0232 359.98774  34.3494 ...    0.28     0.89    -1.0\n",
       " 63649488 55810-04354-0660 359.98914  -1.6793 ...     0.0      0.0     0.0\n",
       "167197203 57367-08740-0676 359.99139   6.4118 ...     0.0      0.0     0.0\n",
       "401165277 56567-07145-0240  359.9993  34.7208 ...     0.0      0.0     0.0"
      ]
     },
     "execution_count": 53,
     "metadata": {},
     "output_type": "execute_result"
    }
   ],
   "source": [
    "pruf"
   ]
  },
  {
   "cell_type": "code",
   "execution_count": null,
   "id": "9a266d2f",
   "metadata": {},
   "outputs": [],
   "source": [
    "\n",
    "from astropy.io import fits\n",
    "\n",
    "archivo = fits.open('DLA_DR14.fits')\n",
    "#archivo.info()\n",
    "#archivo[1] = hdu # assuming the first extension is a table\n",
    "\n",
    "#hdu[0] = archivo[0]\n",
    "hdu = fits.BinTableHDU(small_cat)\n",
    "archivo[1] = hdu\n",
    "\n",
    "\n",
    "archivo.close()\n",
    "\n",
    "passer = archivo\n",
    "\n",
    "with fits.open('DLA_DR14.fits', mode='update') as passer:\n",
    "    # Change something in hdul.\n",
    "    \n",
    "    passer[1] = hdu\n",
    "    \n",
    "    \n",
    "    \n",
    "    passer.flush()  # changes are written back to original.fits\n",
    "\n",
    "# closing the file will also flush any changes and prevent further writing"
   ]
  }
 ],
 "metadata": {
  "kernelspec": {
   "display_name": "Python 3 (ipykernel)",
   "language": "python",
   "name": "python3"
  },
  "language_info": {
   "codemirror_mode": {
    "name": "ipython",
    "version": 3
   },
   "file_extension": ".py",
   "mimetype": "text/x-python",
   "name": "python",
   "nbconvert_exporter": "python",
   "pygments_lexer": "ipython3",
   "version": "3.10.9"
  }
 },
 "nbformat": 4,
 "nbformat_minor": 5
}
