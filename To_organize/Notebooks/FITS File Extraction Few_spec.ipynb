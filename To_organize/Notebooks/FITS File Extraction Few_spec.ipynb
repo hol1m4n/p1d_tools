{
 "cells": [
  {
   "cell_type": "markdown",
   "id": "59b4fe9f",
   "metadata": {},
   "source": [
    "### Import Quasar catalog for DR14"
   ]
  },
  {
   "cell_type": "code",
   "execution_count": 1,
   "id": "f9647207",
   "metadata": {
    "ExecuteTime": {
     "end_time": "2023-05-19T13:22:39.585842Z",
     "start_time": "2023-05-19T13:22:37.301552Z"
    },
    "scrolled": false
   },
   "outputs": [
    {
     "name": "stderr",
     "output_type": "stream",
     "text": [
      "WARNING: UnitsWarning: '-' did not parse as fits unit: Invalid character at col 0 If this is meant to be a custom unit, define it with 'u.def_unit'. To have it recognized inside a file reader or other code, enable it with 'u.add_enabled_units'. For details, see https://docs.astropy.org/en/latest/units/combining_and_defining.html [astropy.units.core]\n",
      "WARNING: UnitsWarning: 'nanomaggies' did not parse as fits unit: At col 0, Unit 'nanomaggies' not supported by the FITS standard.  If this is meant to be a custom unit, define it with 'u.def_unit'. To have it recognized inside a file reader or other code, enable it with 'u.add_enabled_units'. For details, see https://docs.astropy.org/en/latest/units/combining_and_defining.html [astropy.units.core]\n",
      "WARNING: UnitsWarning: 'counts/s' did not parse as fits unit: At col 0, Unit 'counts' not supported by the FITS standard. Did you mean count? If this is meant to be a custom unit, define it with 'u.def_unit'. To have it recognized inside a file reader or other code, enable it with 'u.add_enabled_units'. For details, see https://docs.astropy.org/en/latest/units/combining_and_defining.html [astropy.units.core]\n",
      "WARNING: UnitsWarning: 'Vega' did not parse as fits unit: At col 0, Unit 'Vega' not supported by the FITS standard.  If this is meant to be a custom unit, define it with 'u.def_unit'. To have it recognized inside a file reader or other code, enable it with 'u.add_enabled_units'. For details, see https://docs.astropy.org/en/latest/units/combining_and_defining.html [astropy.units.core]\n"
     ]
    },
    {
     "data": {
      "text/html": [
       "<div><i>Table length=11</i>\n",
       "<table id=\"table140019632732912\" class=\"table-striped table-bordered table-condensed\">\n",
       "<thead><tr><th>SDSS_NAME</th><th>RA</th><th>DEC</th><th>THING_ID</th><th>PLATE</th><th>MJD</th><th>FIBERID</th><th>SPECTRO</th><th>Z</th><th>Z_ERR</th><th>SOURCE_Z</th><th>Z_VI</th><th>Z_PIPE</th><th>Z_PIPE_ERR</th><th>ZWARNING</th><th>Z_PCA</th><th>Z_PCA_ER</th><th>Z_MGII</th><th>BOSS_TARGET1</th><th>ANCILLARY_TARGET1</th><th>ANCILLARY_TARGET2</th><th>EBOSS_TARGET0</th><th>EBOSS_TARGET1</th><th>EBOSS_TARGET2</th><th>N_SPEC_SDSS</th><th>N_SPEC_BOSS</th><th>N_SPEC</th><th>PLATE_DUPLICATE</th><th>MJD_DUPLICATE</th><th>FIBERID_DUPLICATE</th><th>SPECTRO_DUPLICATE</th><th>BI_CIV</th><th>ERR_BI_CIV</th><th>RUN_NUMBER</th><th>RERUN_NUMBER</th><th>COL_NUMBER</th><th>FIELD_NUMBER</th><th>OBJ_ID</th><th>PSFFLUX</th><th>IVAR_PSFFLUX</th><th>PSFMAG</th><th>ERR_PSFMAG</th><th>MI</th><th>GAL_EXT</th><th>RASS_COUNTS</th><th>RASS_COUNTS_SNR</th><th>SDSS2ROSAT_SEP</th><th>FLUX_0.2_2.0keV</th><th>FLUX_0.2_2.0keV_ERR</th><th>FLUX_2.0_12.0keV</th><th>FLUX_2.0_12.0keV_ERR</th><th>FLUX_0.2_12.0keV</th><th>FLUX_0.2_12.0keV_ERR</th><th>LUM_0.2_12.0keV</th><th>SDSS2XMM_SEP</th><th>GALEX_MATCHED</th><th>FUV</th><th>FUV_IVAR</th><th>NUV</th><th>NUV_IVAR</th><th>JMAG</th><th>ERR_JMAG</th><th>JSNR</th><th>JRDFLAG</th><th>HMAG</th><th>ERR_HMAG</th><th>HSNR</th><th>HRDFLAG</th><th>KMAG</th><th>ERR_KMAG</th><th>KSNR</th><th>KRDFLAG</th><th>SDSS2MASS_SEP</th><th>W1MAG</th><th>ERR_W1MAG</th><th>W1SNR</th><th>W1CHI2</th><th>W2MAG</th><th>ERR_W2MAG</th><th>W2SNR</th><th>W2CHI2</th><th>W3MAG</th><th>ERR_W3MAG</th><th>W3SNR</th><th>W3CHI2</th><th>W4MAG</th><th>ERR_W4MAG</th><th>W4SNR</th><th>W4CHI2</th><th>CC_FLAGS</th><th>PH_FLAGS</th><th>SDSS2WISE_SEP</th><th>UKIDSS_MATCHED</th><th>YFLUX</th><th>YFLUX_ERR</th><th>JFLUX</th><th>JFLUX_ERR</th><th>HFLUX</th><th>HFLUX_ERR</th><th>KFLUX</th><th>KFLUX_ERR</th><th>FIRST_MATCHED</th><th>FIRST_FLUX</th><th>FIRST_SNR</th><th>SDSS2FIRST_SEP</th></tr></thead>\n",
       "<thead><tr><th>-</th><th>deg</th><th>deg</th><th>-</th><th>-</th><th>-</th><th>-</th><th>-</th><th>-</th><th>-</th><th>-</th><th>-</th><th>-</th><th>-</th><th>-</th><th>-</th><th>-</th><th>-</th><th>-</th><th>-</th><th>-</th><th>-</th><th>-</th><th>-</th><th>-</th><th>-</th><th>-</th><th>-</th><th>-</th><th>-</th><th>-</th><th>km / s</th><th>km / s</th><th>-</th><th>-</th><th>-</th><th>-</th><th>-</th><th>nanomaggies</th><th>-</th><th>mag</th><th>mag</th><th>-</th><th>mag</th><th>counts/s</th><th>-</th><th>arcsec</th><th>erg / (cm2 s)</th><th>erg / (cm2 s)</th><th>erg / (cm2 s)</th><th>erg / (cm2 s)</th><th>erg / (cm2 s)</th><th>erg / (cm2 s)</th><th>erg / s</th><th>arcsec</th><th>-</th><th>-</th><th>-</th><th>-</th><th>-</th><th>Vega</th><th>Vega</th><th>-</th><th>-</th><th>Vega</th><th>Vega</th><th>-</th><th>-</th><th>Vega</th><th>Vega</th><th>-</th><th>-</th><th>arcsec</th><th>-</th><th>-</th><th>-</th><th>-</th><th>-</th><th>-</th><th>-</th><th>-</th><th>-</th><th>-</th><th>-</th><th>-</th><th>-</th><th>-</th><th>-</th><th>-</th><th>-</th><th>-</th><th>arcsec</th><th>-</th><th>W / (Hz m2)</th><th>W / (Hz m2)</th><th>W / (Hz m2)</th><th>W / (Hz m2)</th><th>W / (Hz m2)</th><th>W / (Hz m2)</th><th>W / (Hz m2)</th><th>W / (Hz m2)</th><th>-</th><th>mJy</th><th>-</th><th>arcsec</th></tr></thead>\n",
       "<thead><tr><th>bytes18</th><th>float64</th><th>float64</th><th>int32</th><th>int16</th><th>int32</th><th>int16</th><th>bytes4</th><th>float64</th><th>float64</th><th>bytes4</th><th>float64</th><th>float64</th><th>float64</th><th>int16</th><th>float64</th><th>float64</th><th>float64</th><th>int64</th><th>int64</th><th>int64</th><th>int64</th><th>int64</th><th>int64</th><th>int16</th><th>int16</th><th>int16</th><th>int32[51]</th><th>int32[51]</th><th>int32[51]</th><th>bytes1[51]</th><th>float64</th><th>float64</th><th>int16</th><th>bytes1</th><th>int16</th><th>int16</th><th>bytes1</th><th>float64[5]</th><th>float64[5]</th><th>float64[5]</th><th>float64[5]</th><th>float64</th><th>float64[5]</th><th>float64</th><th>float64</th><th>float64</th><th>float64</th><th>float64</th><th>float64</th><th>float64</th><th>float64</th><th>float64</th><th>float64</th><th>float64</th><th>float32</th><th>float64</th><th>float64</th><th>float64</th><th>float64</th><th>float64</th><th>float64</th><th>float32</th><th>int16</th><th>float64</th><th>float64</th><th>float32</th><th>int16</th><th>float64</th><th>float64</th><th>float32</th><th>int16</th><th>float64</th><th>float64</th><th>float64</th><th>float64</th><th>float64</th><th>float64</th><th>float64</th><th>float64</th><th>float64</th><th>float64</th><th>float64</th><th>float64</th><th>float64</th><th>float64</th><th>float64</th><th>float64</th><th>float64</th><th>bytes4</th><th>bytes4</th><th>float64</th><th>float32</th><th>float64</th><th>float64</th><th>float64</th><th>float64</th><th>float64</th><th>float64</th><th>float64</th><th>float64</th><th>int16</th><th>float64</th><th>float64</th><th>float64</th></tr></thead>\n",
       "<tr><td>000043.13+104623.6</td><td>0.17973486041364595</td><td>10.773231908866133</td><td>207816820</td><td>6182</td><td>56190</td><td>718</td><td>BOSS</td><td>3.005</td><td>0.0</td><td>VI</td><td>3.005000114440918</td><td>2.995504140853882</td><td>0.0006966799846850336</td><td>0</td><td>3.0169102999999997</td><td>-1.0</td><td>-1.0</td><td>3298535424000</td><td>0</td><td>0</td><td>0</td><td>0</td><td>0</td><td>0</td><td>0</td><td>0</td><td>-1 .. -1</td><td>-1 .. -1</td><td>-1 .. -1</td><td>- .. -</td><td>0.0</td><td>0.0</td><td>0</td><td>-</td><td>0</td><td>0</td><td>-</td><td>0.69926917552948 .. 6.339705467224121</td><td>37.4472541809082 .. 2.379213809967041</td><td>22.847274780273438 .. 20.480327606201172</td><td>0.23554739356040955 .. 0.10812235623598099</td><td>-26.450527</td><td>0.29111263155937195 .. 0.08673632144927979</td><td>0.0</td><td>0.0</td><td>-1.0</td><td>--</td><td>--</td><td>--</td><td>--</td><td>--</td><td>--</td><td>--</td><td>--</td><td>1.0</td><td>-0.17561469972133634</td><td>7.2417462281258835</td><td>0.051094744354486465</td><td>38.157109483219976</td><td>--</td><td>--</td><td>--</td><td>-1</td><td>--</td><td>--</td><td>--</td><td>-1</td><td>--</td><td>--</td><td>--</td><td>-1</td><td>--</td><td>17.267</td><td>0.151</td><td>7.199999809265137</td><td>0.909</td><td>17.156</td><td>--</td><td>0.30000001192092896</td><td>0.9531</td><td>11.834</td><td>--</td><td>1.600000023841858</td><td>0.8321</td><td>8.558</td><td>0.151</td><td>3.0999999046325684</td><td>0.945</td><td>0000</td><td>BUUB</td><td>0.568887</td><td>1.0</td><td>2.0823967060410074e-31</td><td>2.866109134084514e-32</td><td>1.9651517239956425e-31</td><td>4.191943334905218e-32</td><td>2.7520297583259128e-31</td><td>4.162475160898041e-32</td><td>2.255682675965216e-31</td><td>5.913823916910617e-32</td><td>0</td><td>-1.0</td><td>-1.0</td><td>-1.0</td></tr>\n",
       "<tr><td>005416.26+281024.3</td><td>13.56776467504153</td><td>28.173443170781212</td><td>355050230</td><td>6253</td><td>56574</td><td>924</td><td>BOSS</td><td>2.3890000000000002</td><td>0.0</td><td>VI</td><td>2.388999938964844</td><td>2.389201641082764</td><td>0.00031180441146716475</td><td>0</td><td>2.3840357999999995</td><td>2.389455</td><td>2.389455</td><td>2199023255552</td><td>0</td><td>0</td><td>0</td><td>0</td><td>0</td><td>0</td><td>0</td><td>0</td><td>-1 .. -1</td><td>-1 .. -1</td><td>-1 .. -1</td><td>- .. -</td><td>0.0</td><td>0.0</td><td>0</td><td>-</td><td>0</td><td>0</td><td>-</td><td>1.5042932033538818 .. 2.2706892490386963</td><td>15.566292762756348 .. 1.714791178703308</td><td>22.04738426208496 .. 21.509258270263672</td><td>0.17984707653522491 .. 0.3059007525444031</td><td>-24.766731</td><td>0.17492736876010895 .. 0.05211919546127319</td><td>0.0</td><td>0.0</td><td>-1.0</td><td>--</td><td>--</td><td>--</td><td>--</td><td>--</td><td>--</td><td>--</td><td>--</td><td>1.0</td><td>0.09660270065069199</td><td>13.769344091289975</td><td>-0.5608768463134766</td><td>19.690749071689872</td><td>--</td><td>--</td><td>--</td><td>-1</td><td>--</td><td>--</td><td>--</td><td>-1</td><td>--</td><td>--</td><td>--</td><td>-1</td><td>--</td><td>--</td><td>--</td><td>--</td><td>--</td><td>--</td><td>--</td><td>--</td><td>--</td><td>--</td><td>--</td><td>--</td><td>--</td><td>--</td><td>--</td><td>--</td><td>--</td><td></td><td></td><td>--</td><td>0.0</td><td>0.0</td><td>0.0</td><td>0.0</td><td>0.0</td><td>0.0</td><td>0.0</td><td>0.0</td><td>0.0</td><td>-1</td><td>-1.0</td><td>-1.0</td><td>-1.0</td></tr>\n",
       "<tr><td>014612.25+332935.8</td><td>26.55107795887977</td><td>33.493302036682856</td><td>392778186</td><td>6604</td><td>56337</td><td>658</td><td>BOSS</td><td>2.5</td><td>0.0</td><td>VI</td><td>2.5</td><td>2.4896140098571777</td><td>0.00030850604525767267</td><td>0</td><td>2.4919187999999997</td><td>-1.0</td><td>-1.0</td><td>0</td><td>0</td><td>1024</td><td>0</td><td>0</td><td>0</td><td>0</td><td>0</td><td>0</td><td>-1 .. -1</td><td>-1 .. -1</td><td>-1 .. -1</td><td>- .. -</td><td>0.0</td><td>0.0</td><td>0</td><td>-</td><td>0</td><td>0</td><td>-</td><td>3.113743543624878 .. 9.851359367370605</td><td>5.606935024261475 .. 0.5180257558822632</td><td>21.264604568481445 .. 20.01018524169922</td><td>0.14666613936424255 .. 0.15142792463302612</td><td>-26.03047</td><td>0.19512556493282318 .. 0.0581372044980526</td><td>0.0</td><td>0.0</td><td>-1.0</td><td>--</td><td>--</td><td>--</td><td>--</td><td>--</td><td>--</td><td>--</td><td>--</td><td>1.0</td><td>-0.1935645043849945</td><td>42.26483055167292</td><td>-0.18263813853263847</td><td>7.287586654900923</td><td>--</td><td>--</td><td>--</td><td>-1</td><td>--</td><td>--</td><td>--</td><td>-1</td><td>--</td><td>--</td><td>--</td><td>-1</td><td>--</td><td>17.284000000000002</td><td>0.122</td><td>8.899999618530273</td><td>0.9428</td><td>15.983</td><td>0.157</td><td>6.900000095367432</td><td>0.8775</td><td>12.247</td><td>--</td><td>1.7000000476837158</td><td>0.9716</td><td>9.063</td><td>0.122</td><td>2.5999999046325684</td><td>0.8586</td><td>0000</td><td>BBUC</td><td>0.390536</td><td>0.0</td><td>0.0</td><td>0.0</td><td>0.0</td><td>0.0</td><td>0.0</td><td>0.0</td><td>0.0</td><td>0.0</td><td>-1</td><td>-1.0</td><td>-1.0</td><td>-1.0</td></tr>\n",
       "<tr><td>095241.16+310431.0</td><td>148.17152190269488</td><td>31.075279200839034</td><td>377924340</td><td>5801</td><td>56328</td><td>944</td><td>BOSS</td><td>3.1289999999999996</td><td>0.0</td><td>VI</td><td>3.128999948501587</td><td>3.1290314197540283</td><td>0.000246513809543103</td><td>0</td><td>3.1198215</td><td>-1.0</td><td>-1.0</td><td>2199023271936</td><td>0</td><td>0</td><td>0</td><td>0</td><td>0</td><td>0</td><td>0</td><td>0</td><td>-1 .. -1</td><td>-1 .. -1</td><td>-1 .. -1</td><td>- .. -</td><td>0.0</td><td>0.0</td><td>0</td><td>-</td><td>0</td><td>0</td><td>-</td><td>0.3891043961048126 .. 3.790256977081299</td><td>6.603194236755371 .. 1.6048932075500488</td><td>23.40567398071289 .. 21.01412582397461</td><td>0.8813941478729248 .. 0.21062874794006348</td><td>-25.882631</td><td>0.09585897624492645 .. 0.028560955077409744</td><td>0.0</td><td>0.0</td><td>-1.0</td><td>--</td><td>--</td><td>--</td><td>--</td><td>--</td><td>--</td><td>--</td><td>--</td><td>1.0</td><td>-0.1858992874622345</td><td>57.6809241567025</td><td>-0.19890272617340088</td><td>38.52740495364835</td><td>--</td><td>--</td><td>--</td><td>-1</td><td>--</td><td>--</td><td>--</td><td>-1</td><td>--</td><td>--</td><td>--</td><td>-1</td><td>--</td><td>17.521</td><td>0.182</td><td>5.900000095367432</td><td>0.9546</td><td>16.852999999999998</td><td>--</td><td>0.800000011920929</td><td>0.8448</td><td>12.374</td><td>--</td><td>0.4000000059604645</td><td>0.8542</td><td>9.149</td><td>0.182</td><td>2.0999999046325684</td><td>0.9543</td><td>0000</td><td>BUUC</td><td>1.130303</td><td>0.0</td><td>0.0</td><td>0.0</td><td>0.0</td><td>0.0</td><td>0.0</td><td>0.0</td><td>0.0</td><td>0.0</td><td>0</td><td>-1.0</td><td>-1.0</td><td>-1.0</td></tr>\n",
       "<tr><td>104526.51+394902.3</td><td>161.36047839055416</td><td>39.817308368951174</td><td>432663422</td><td>4629</td><td>55630</td><td>536</td><td>BOSS</td><td>3.0989999999999998</td><td>0.0</td><td>VI</td><td>3.0989999771118164</td><td>3.0992097854614262</td><td>0.0003824571904260665</td><td>0</td><td>3.0934383999999997</td><td>-1.0</td><td>-1.0</td><td>16492675088384</td><td>0</td><td>0</td><td>0</td><td>0</td><td>0</td><td>0</td><td>0</td><td>0</td><td>-1 .. -1</td><td>-1 .. -1</td><td>-1 .. -1</td><td>- .. -</td><td>0.0</td><td>0.0</td><td>0</td><td>-</td><td>0</td><td>0</td><td>-</td><td>0.6038678288459778 .. 8.007780075073242</td><td>29.087970733642578 .. 1.2601516246795654</td><td>22.993499755859375 .. 20.232065200805664</td><td>0.30243921279907227 .. 0.11877012252807617</td><td>-26.348383</td><td>0.06118635833263397 .. 0.01823033019900322</td><td>0.0</td><td>0.0</td><td>-1.0</td><td>--</td><td>--</td><td>--</td><td>--</td><td>--</td><td>--</td><td>--</td><td>--</td><td>1.0</td><td>0.2694782614707947</td><td>4.958958694152764</td><td>-0.07857353240251541</td><td>385.39539499694644</td><td>--</td><td>--</td><td>--</td><td>-1</td><td>--</td><td>--</td><td>--</td><td>-1</td><td>--</td><td>--</td><td>--</td><td>-1</td><td>--</td><td>17.212</td><td>0.13</td><td>8.399999618530273</td><td>0.9875</td><td>17.192</td><td>0.493</td><td>2.200000047683716</td><td>0.8548</td><td>12.537</td><td>0.477</td><td>2.299999952316284</td><td>0.9498</td><td>8.485</td><td>0.13</td><td>1.7000000476837158</td><td>0.9581</td><td>0000</td><td>BCCU</td><td>0.434061</td><td>0.0</td><td>0.0</td><td>0.0</td><td>0.0</td><td>0.0</td><td>0.0</td><td>0.0</td><td>0.0</td><td>0.0</td><td>0</td><td>-1.0</td><td>-1.0</td><td>-1.0</td></tr>\n",
       "<tr><td>113135.10+213400.9</td><td>172.89625240185433</td><td>21.566932196479375</td><td>299427309</td><td>6431</td><td>56311</td><td>530</td><td>BOSS</td><td>2.293</td><td>0.0</td><td>VI</td><td>2.2929999828338623</td><td>2.2933712005615234</td><td>0.0003631478175520897</td><td>0</td><td>2.2956374</td><td>2.2948112000000003</td><td>2.2948112000000003</td><td>3298535424000</td><td>0</td><td>0</td><td>0</td><td>0</td><td>0</td><td>0</td><td>0</td><td>0</td><td>-1 .. -1</td><td>-1 .. -1</td><td>-1 .. -1</td><td>- .. -</td><td>0.0</td><td>0.0</td><td>0</td><td>-</td><td>0</td><td>0</td><td>-</td><td>1.8537297248840332 .. 5.287595272064209</td><td>17.1368408203125 .. 1.6660819053649902</td><td>21.82374382019043 .. 20.671188354492188</td><td>0.13989879190921783 .. 0.15319310128688812</td><td>-25.182148</td><td>0.08702856302261353 .. 0.025929955765604973</td><td>0.0</td><td>0.0</td><td>-1.0</td><td>--</td><td>--</td><td>--</td><td>--</td><td>--</td><td>--</td><td>--</td><td>--</td><td>1.0</td><td>-0.1811992973089218</td><td>26.75878714172857</td><td>0.7665120959281921</td><td>9.270352349112654</td><td>--</td><td>--</td><td>--</td><td>-1</td><td>--</td><td>--</td><td>--</td><td>-1</td><td>--</td><td>--</td><td>--</td><td>-1</td><td>--</td><td>--</td><td>--</td><td>--</td><td>--</td><td>--</td><td>--</td><td>--</td><td>--</td><td>--</td><td>--</td><td>--</td><td>--</td><td>--</td><td>--</td><td>--</td><td>--</td><td></td><td></td><td>--</td><td>0.0</td><td>0.0</td><td>0.0</td><td>0.0</td><td>0.0</td><td>0.0</td><td>0.0</td><td>0.0</td><td>0.0</td><td>0</td><td>-1.0</td><td>-1.0</td><td>-1.0</td></tr>\n",
       "<tr><td>113437.00+623423.5</td><td>173.65418883359618</td><td>62.57320165036267</td><td>536573905</td><td>7107</td><td>56740</td><td>667</td><td>BOSS</td><td>3.248</td><td>0.0</td><td>VI</td><td>3.247999906539917</td><td>3.248299598693848</td><td>0.0003707199066411704</td><td>0</td><td>3.2464201</td><td>-1.0</td><td>-1.0</td><td>3298535686144</td><td>0</td><td>1024</td><td>0</td><td>0</td><td>0</td><td>0</td><td>1</td><td>1</td><td>0 .. -1</td><td>0 .. -1</td><td>0 .. -1</td><td>- .. -</td><td>0.0</td><td>0.0</td><td>0</td><td>-</td><td>0</td><td>0</td><td>-</td><td>0.5764795541763306 .. 4.656691074371338</td><td>19.690444946289062 .. 1.1425701379776</td><td>23.039026260375977 .. 20.803373336791992</td><td>0.38178515434265137 .. 0.20787853002548218</td><td>-26.342548</td><td>0.0464259535074234 .. 0.01383250392973423</td><td>0.0</td><td>0.0</td><td>-1.0</td><td>--</td><td>--</td><td>--</td><td>--</td><td>--</td><td>--</td><td>--</td><td>--</td><td>1.0</td><td>-0.0934818759560585</td><td>3.7953007149492586</td><td>-0.11485450714826585</td><td>444.5071124784394</td><td>--</td><td>--</td><td>--</td><td>-1</td><td>--</td><td>--</td><td>--</td><td>-1</td><td>--</td><td>--</td><td>--</td><td>-1</td><td>--</td><td>17.472</td><td>0.139</td><td>7.800000190734863</td><td>0.9232</td><td>16.859</td><td>0.302</td><td>3.5999999046325684</td><td>0.8375</td><td>12.385</td><td>--</td><td>1.2000000476837158</td><td>1.009</td><td>8.911</td><td>0.139</td><td>0.5</td><td>0.8327</td><td>0000</td><td>BBUU</td><td>0.695445</td><td>0.0</td><td>0.0</td><td>0.0</td><td>0.0</td><td>0.0</td><td>0.0</td><td>0.0</td><td>0.0</td><td>0.0</td><td>1</td><td>23.17</td><td>155.68954499999995</td><td>0.634001</td></tr>\n",
       "<tr><td>140131.85+125143.6</td><td>210.3827339842588</td><td>12.862111265678491</td><td>225650603</td><td>5448</td><td>56013</td><td>144</td><td>BOSS</td><td>2.305</td><td>0.0</td><td>VI</td><td>2.3050000667572017</td><td>2.305159091949463</td><td>0.0003094509884249419</td><td>0</td><td>2.3012552000000004</td><td>2.3054552000000004</td><td>2.3054552000000004</td><td>3298535424000</td><td>0</td><td>0</td><td>0</td><td>0</td><td>0</td><td>0</td><td>0</td><td>0</td><td>-1 .. -1</td><td>-1 .. -1</td><td>-1 .. -1</td><td>- .. -</td><td>0.0</td><td>0.0</td><td>0</td><td>-</td><td>0</td><td>0</td><td>-</td><td>4.633001327514648 .. 11.072439193725586</td><td>9.932494163513184 .. 1.2494227886199951</td><td>20.834354400634766 .. 19.88457489013672</td><td>0.07422343641519547 .. 0.08695226907730103</td><td>-26.138252</td><td>0.12663120031356812 .. 0.03772946447134018</td><td>0.0</td><td>0.0</td><td>-1.0</td><td>--</td><td>--</td><td>--</td><td>--</td><td>--</td><td>--</td><td>--</td><td>--</td><td>1.0</td><td>0.2449834048748017</td><td>2.894030545886104</td><td>1.5846705436706543</td><td>12.970698597300828</td><td>--</td><td>--</td><td>--</td><td>-1</td><td>--</td><td>--</td><td>--</td><td>-1</td><td>--</td><td>--</td><td>--</td><td>-1</td><td>--</td><td>17.158</td><td>0.113</td><td>9.600000381469727</td><td>0.9486</td><td>15.664</td><td>0.114</td><td>9.5</td><td>0.9064</td><td>11.858</td><td>0.214</td><td>5.099999904632568</td><td>0.9412</td><td>8.915</td><td>0.113</td><td>0.699999988079071</td><td>0.9989</td><td>0000</td><td>BBBU</td><td>0.350491</td><td>1.0</td><td>4.0326452775580565e-31</td><td>3.307313306250398e-32</td><td>4.485611681297136e-31</td><td>2.4051103717347527e-32</td><td>5.0826706527577535e-31</td><td>3.274464116616668e-32</td><td>5.736605683284038e-31</td><td>4.0511840577395914e-32</td><td>0</td><td>-1.0</td><td>-1.0</td><td>-1.0</td></tr>\n",
       "<tr><td>162000.81+254834.1</td><td>245.00337948995644</td><td>25.809488954168753</td><td>336462818</td><td>5006</td><td>55706</td><td>452</td><td>BOSS</td><td>2.362</td><td>0.0</td><td>VI</td><td>2.361999988555908</td><td>2.36116361618042</td><td>0.00044653302757069474</td><td>0</td><td>2.3641799999999997</td><td>2.36614</td><td>2.36614</td><td>2199023927296</td><td>0</td><td>0</td><td>0</td><td>0</td><td>0</td><td>0</td><td>0</td><td>0</td><td>-1 .. -1</td><td>-1 .. -1</td><td>-1 .. -1</td><td>- .. -</td><td>0.0</td><td>0.0</td><td>0</td><td>-</td><td>0</td><td>0</td><td>-</td><td>2.99753475189209 .. 5.417895317077637</td><td>16.306028366088867 .. 2.7963147163391113</td><td>21.305728912353516 .. 20.645713806152344</td><td>0.08930987864732742 .. 0.11560402810573578</td><td>-25.405699</td><td>0.1895046979188919 .. 0.05646247789263725</td><td>0.0</td><td>0.0</td><td>-1.0</td><td>--</td><td>--</td><td>--</td><td>--</td><td>--</td><td>--</td><td>--</td><td>--</td><td>1.0</td><td>-0.08439649641513823</td><td>30.656580415499395</td><td>0.12141937762498856</td><td>17.509420572130196</td><td>--</td><td>--</td><td>--</td><td>-1</td><td>--</td><td>--</td><td>--</td><td>-1</td><td>--</td><td>--</td><td>--</td><td>-1</td><td>--</td><td>--</td><td>--</td><td>--</td><td>--</td><td>--</td><td>--</td><td>--</td><td>--</td><td>--</td><td>--</td><td>--</td><td>--</td><td>--</td><td>--</td><td>--</td><td>--</td><td></td><td></td><td>--</td><td>1.0</td><td>1.7643058188186655e-31</td><td>2.6747445312423997e-32</td><td>1.8537537684007016e-31</td><td>2.590704913619062e-32</td><td>1.829079201581461e-31</td><td>4.527070602979311e-32</td><td>2.705796154914852e-31</td><td>5.561958490901578e-32</td><td>0</td><td>-1.0</td><td>-1.0</td><td>-1.0</td></tr>\n",
       "<tr><td>225959.52+041715.7</td><td>344.99802712196885</td><td>4.287710456702423</td><td>149703743</td><td>4289</td><td>55856</td><td>532</td><td>BOSS</td><td>2.391</td><td>0.0</td><td>VI</td><td>2.3910000324249268</td><td>2.392169952392578</td><td>0.0007389519014395772</td><td>0</td><td>2.3880432000000003</td><td>2.394154</td><td>2.394154</td><td>16492675088384</td><td>0</td><td>0</td><td>0</td><td>0</td><td>0</td><td>0</td><td>0</td><td>0</td><td>-1 .. -1</td><td>-1 .. -1</td><td>-1 .. -1</td><td>- .. -</td><td>0.0</td><td>0.0</td><td>0</td><td>-</td><td>0</td><td>0</td><td>-</td><td>2.208561897277832 .. 6.432742595672607</td><td>17.994895935058594 .. 1.3258217573165894</td><td>21.63538932800293 .. 20.46491813659668</td><td>0.11496816575527191 .. 0.1428515911102295</td><td>-25.460062</td><td>0.2483738660812378 .. 0.07400240749120712</td><td>0.0</td><td>0.0</td><td>-1.0</td><td>--</td><td>--</td><td>--</td><td>--</td><td>--</td><td>--</td><td>--</td><td>--</td><td>1.0</td><td>0.0</td><td>0.0</td><td>0.0</td><td>0.0</td><td>--</td><td>--</td><td>--</td><td>-1</td><td>--</td><td>--</td><td>--</td><td>-1</td><td>--</td><td>--</td><td>--</td><td>-1</td><td>--</td><td>--</td><td>--</td><td>--</td><td>--</td><td>--</td><td>--</td><td>--</td><td>--</td><td>--</td><td>--</td><td>--</td><td>--</td><td>--</td><td>--</td><td>--</td><td>--</td><td></td><td></td><td>--</td><td>1.0</td><td>2.0514417080041945e-31</td><td>3.181501909123413e-32</td><td>2.2697857869886407e-31</td><td>4.0490614088155935e-32</td><td>2.0125069841162578e-31</td><td>4.305236598816708e-32</td><td>1.9712926240337725e-31</td><td>5.421077843944229e-32</td><td>0</td><td>-1.0</td><td>-1.0</td><td>-1.0</td></tr>\n",
       "<tr><td>234041.24+154036.4</td><td>355.1718557729174</td><td>15.67678164376909</td><td>251588367</td><td>6138</td><td>56598</td><td>467</td><td>BOSS</td><td>2.208</td><td>0.0</td><td>VI</td><td>2.2079999446868896</td><td>2.2299811840057373</td><td>-1.0</td><td>0</td><td>0.0</td><td>0.0</td><td>0.0</td><td>3298535424000</td><td>0</td><td>1024</td><td>0</td><td>0</td><td>0</td><td>0</td><td>1</td><td>1</td><td>0 .. -1</td><td>0 .. -1</td><td>0 .. -1</td><td>- .. -</td><td>0.0</td><td>0.0</td><td>0</td><td>-</td><td>0</td><td>0</td><td>-</td><td>2.272266387939453 .. 4.7453107833862305</td><td>15.997715950012207 .. 2.0064337253570557</td><td>21.604753494262695 .. 20.783849716186523</td><td>0.11856693774461746 .. 0.154201939702034</td><td>-24.940897</td><td>0.14794383943080902 .. 0.04407951608300209</td><td>0.0</td><td>0.0</td><td>-1.0</td><td>--</td><td>--</td><td>--</td><td>--</td><td>--</td><td>--</td><td>--</td><td>--</td><td>1.0</td><td>-0.06420454382896422</td><td>162.76429678277526</td><td>0.036196015775203705</td><td>334.19074305601595</td><td>--</td><td>--</td><td>--</td><td>-1</td><td>--</td><td>--</td><td>--</td><td>-1</td><td>--</td><td>--</td><td>--</td><td>-1</td><td>--</td><td>17.39</td><td>0.163</td><td>6.699999809265137</td><td>1.001</td><td>15.893</td><td>0.16399999999999998</td><td>6.599999904632568</td><td>0.9002</td><td>12.315</td><td>--</td><td>0.6000000238418579</td><td>1.037</td><td>8.953</td><td>0.163</td><td>0.0</td><td>0.9267</td><td>0000</td><td>BBUU</td><td>0.093312</td><td>1.0</td><td>1.3285015150521548e-31</td><td>3.401534468193383e-32</td><td>1.6451099863486753e-31</td><td>3.9151399822887e-32</td><td>1.2489783818235464e-31</td><td>5.653100445392582e-32</td><td>3.2128644510516585e-31</td><td>5.53662893863006e-32</td><td>-1</td><td>-1.0</td><td>-1.0</td><td>-1.0</td></tr>\n",
       "</table></div>"
      ],
      "text/plain": [
       "<Table length=11>\n",
       "    SDSS_NAME               RA         ...     FIRST_SNR      SDSS2FIRST_SEP\n",
       "        -                  deg         ...         -              arcsec    \n",
       "     bytes18             float64       ...      float64          float64    \n",
       "------------------ ------------------- ... ------------------ --------------\n",
       "000043.13+104623.6 0.17973486041364595 ...               -1.0           -1.0\n",
       "005416.26+281024.3   13.56776467504153 ...               -1.0           -1.0\n",
       "014612.25+332935.8   26.55107795887977 ...               -1.0           -1.0\n",
       "095241.16+310431.0  148.17152190269488 ...               -1.0           -1.0\n",
       "104526.51+394902.3  161.36047839055416 ...               -1.0           -1.0\n",
       "113135.10+213400.9  172.89625240185433 ...               -1.0           -1.0\n",
       "113437.00+623423.5  173.65418883359618 ... 155.68954499999995       0.634001\n",
       "140131.85+125143.6   210.3827339842588 ...               -1.0           -1.0\n",
       "162000.81+254834.1  245.00337948995644 ...               -1.0           -1.0\n",
       "225959.52+041715.7  344.99802712196885 ...               -1.0           -1.0\n",
       "234041.24+154036.4   355.1718557729174 ...               -1.0           -1.0"
      ]
     },
     "execution_count": 1,
     "metadata": {},
     "output_type": "execute_result"
    }
   ],
   "source": [
    "import os\n",
    "import sys\n",
    "import glob\n",
    "import numpy as np\n",
    "import  scipy.optimize    as op\n",
    "import matplotlib.pyplot as plt\n",
    "import urllib.request\n",
    "from astropy.io import fits as pyfits\n",
    "from astropy.table import Table\n",
    "\n",
    "local_dir=\"/home/colgoat/Jupyter/Entorno/cata_files/exDR14Qcat.fits\"\n",
    "local_file = os.path.join(local_dir)\n",
    "\n",
    "    \n",
    "catalog=Table.read(local_file)\n",
    "\n",
    "w=(catalog['THING_ID']>0) & (catalog['Z']>=2.1) & (catalog['RA']!=catalog['DEC'])\\\n",
    " & (catalog['RA']>0) & (catalog['MJD']< 56870) & (catalog['BI_CIV']<=0) \\\n",
    " & ( (catalog['THING_ID']==207816820) | (catalog['THING_ID']==377924340) | (catalog['THING_ID']==225650603) \n",
    " | (catalog['THING_ID']==392778186) | (catalog['THING_ID']==355050230) | (catalog['THING_ID']==336462818)  \n",
    " | (catalog['THING_ID']==299427309) | (catalog['THING_ID']==149703743) | (catalog['THING_ID']==432663422) \n",
    " | (catalog['THING_ID']==251588367) | (catalog['THING_ID']==536573905)  )\n",
    "\n",
    "reduced_cat=catalog[w]\n",
    "reduced_cat\n",
    "#catalog\n",
    "#plt.style.use('bmh')\n",
    "#plt.hist(reduced_cat['FIRST_SNR'])\n",
    "#stats.describe(reduced_cat['FIRST_SNR'])"
   ]
  },
  {
   "cell_type": "markdown",
   "id": "72498e4b",
   "metadata": {},
   "source": [
    "### Creating small catalog"
   ]
  },
  {
   "cell_type": "code",
   "execution_count": 3,
   "id": "5a19d1d8",
   "metadata": {
    "ExecuteTime": {
     "end_time": "2023-05-19T12:53:41.596056Z",
     "start_time": "2023-05-19T12:53:40.848691Z"
    }
   },
   "outputs": [
    {
     "name": "stdout",
     "output_type": "stream",
     "text": [
      "-- 1\n",
      "Label: 3.248\n",
      "-- 2\n"
     ]
    },
    {
     "ename": "IndexError",
     "evalue": "index 1 is out of bounds for axis 0 with size 1",
     "output_type": "error",
     "traceback": [
      "\u001b[0;31m---------------------------------------------------------------------------\u001b[0m",
      "\u001b[0;31mIndexError\u001b[0m                                Traceback (most recent call last)",
      "Cell \u001b[0;32mIn[3], line 7\u001b[0m\n\u001b[1;32m      5\u001b[0m \u001b[38;5;28;01mfor\u001b[39;00m i \u001b[38;5;129;01min\u001b[39;00m \u001b[38;5;28mrange\u001b[39m(\u001b[38;5;241m10\u001b[39m):\n\u001b[1;32m      6\u001b[0m     \u001b[38;5;28mprint\u001b[39m(\u001b[38;5;124m\"\u001b[39m\u001b[38;5;124m--\u001b[39m\u001b[38;5;124m\"\u001b[39m, i \u001b[38;5;241m+\u001b[39m \u001b[38;5;241m1\u001b[39m)\n\u001b[0;32m----> 7\u001b[0m     \u001b[38;5;28mprint\u001b[39m(\u001b[38;5;124m\"\u001b[39m\u001b[38;5;124mLabel:\u001b[39m\u001b[38;5;124m\"\u001b[39m, \u001b[43msmall_cat\u001b[49m\u001b[43m[\u001b[49m\u001b[38;5;124;43m'\u001b[39;49m\u001b[38;5;124;43mZ\u001b[39;49m\u001b[38;5;124;43m'\u001b[39;49m\u001b[43m]\u001b[49m\u001b[43m[\u001b[49m\u001b[43mi\u001b[49m\u001b[43m]\u001b[49m)\n",
      "File \u001b[0;32mastropy/table/_column_mixins.pyx:81\u001b[0m, in \u001b[0;36mastropy.table._column_mixins._ColumnGetitemShim.__getitem__\u001b[0;34m()\u001b[0m\n",
      "File \u001b[0;32mastropy/table/_column_mixins.pyx:64\u001b[0m, in \u001b[0;36mastropy.table._column_mixins.base_getitem\u001b[0;34m()\u001b[0m\n",
      "File \u001b[0;32mastropy/table/_column_mixins.pyx:76\u001b[0m, in \u001b[0;36mastropy.table._column_mixins.column_getitem\u001b[0;34m()\u001b[0m\n",
      "\u001b[0;31mIndexError\u001b[0m: index 1 is out of bounds for axis 0 with size 1"
     ]
    }
   ],
   "source": [
    "small_cat=reduced_cat[0:168045]\n",
    "\n",
    "#small_cat\n",
    "\n",
    "for i in range(10):\n",
    "    print(\"--\", i + 1)\n",
    "    print(\"Label:\", small_cat['Z'][i])"
   ]
  },
  {
   "cell_type": "markdown",
   "id": "0cd5de29",
   "metadata": {},
   "source": [
    "### Plot data"
   ]
  },
  {
   "cell_type": "code",
   "execution_count": 4,
   "id": "d445a19b",
   "metadata": {
    "ExecuteTime": {
     "end_time": "2023-05-19T12:53:47.478753Z",
     "start_time": "2023-05-19T12:53:47.223214Z"
    },
    "scrolled": false
   },
   "outputs": [
    {
     "data": {
      "text/plain": [
       "(array([0., 0., 0., 0., 0., 1., 0., 0., 0., 0.]),\n",
       " array([2.748, 2.848, 2.948, 3.048, 3.148, 3.248, 3.348, 3.448, 3.548,\n",
       "        3.648, 3.748]),\n",
       " <BarContainer object of 10 artists>)"
      ]
     },
     "execution_count": 4,
     "metadata": {},
     "output_type": "execute_result"
    },
    {
     "data": {
      "image/png": "[encoded data removed]",
      "text/plain": [
       "<Figure size 640x480 with 1 Axes>"
      ]
     },
     "metadata": {},
     "output_type": "display_data"
    }
   ],
   "source": [
    "plt.hist(small_cat['Z'])"
   ]
  },
  {
   "cell_type": "markdown",
   "id": "da105cb2",
   "metadata": {},
   "source": [
    "### Saving data as a new fits catalog file for quasars with query"
   ]
  },
  {
   "cell_type": "code",
   "execution_count": 5,
   "id": "aa05364c",
   "metadata": {
    "ExecuteTime": {
     "end_time": "2023-05-19T12:53:52.641879Z",
     "start_time": "2023-05-19T12:53:52.163932Z"
    }
   },
   "outputs": [],
   "source": [
    "from astropy.io import fits\n",
    "\n",
    "archivo = fits.open('cataloguito.fits')\n",
    "#archivo.info()\n",
    "#archivo[1] = hdu # assuming the first extension is a table\n",
    "\n",
    "#hdu[0] = archivo[0]\n",
    "hdu = fits.BinTableHDU(small_cat)\n",
    "archivo[1] = hdu\n",
    "\n",
    "\n",
    "archivo.close()\n",
    "\n",
    "passer = archivo\n",
    "\n",
    "with fits.open('cataloguito.fits', mode='update') as passer:\n",
    "    # Change something in hdul.\n",
    "    \n",
    "    passer[1] = hdu\n",
    "    \n",
    "    \n",
    "    \n",
    "    passer.flush()  # changes are written back to original.fits\n",
    "\n",
    "# closing the file will also flush any changes and prevent further writing\n"
   ]
  },
  {
   "cell_type": "markdown",
   "id": "bf5cc285",
   "metadata": {},
   "source": [
    "### Checking the number of saved objects in small catalog"
   ]
  },
  {
   "cell_type": "code",
   "execution_count": 6,
   "id": "63c37ca2",
   "metadata": {
    "ExecuteTime": {
     "end_time": "2023-05-19T12:53:55.780822Z",
     "start_time": "2023-05-19T12:53:55.533439Z"
    },
    "scrolled": false
   },
   "outputs": [
    {
     "data": {
      "text/html": [
       "<div><i>Table length=1</i>\n",
       "<table id=\"table140091429516432\" class=\"table-striped table-bordered table-condensed\">\n",
       "<thead><tr><th>SDSS_NAME</th><th>RA</th><th>DEC</th><th>THING_ID</th><th>PLATE</th><th>MJD</th><th>FIBERID</th><th>SPECTRO</th><th>Z</th><th>Z_ERR</th><th>SOURCE_Z</th><th>Z_VI</th><th>Z_PIPE</th><th>Z_PIPE_ERR</th><th>ZWARNING</th><th>Z_PCA</th><th>Z_PCA_ER</th><th>Z_MGII</th><th>BOSS_TARGET1</th><th>ANCILLARY_TARGET1</th><th>ANCILLARY_TARGET2</th><th>EBOSS_TARGET0</th><th>EBOSS_TARGET1</th><th>EBOSS_TARGET2</th><th>N_SPEC_SDSS</th><th>N_SPEC_BOSS</th><th>N_SPEC</th><th>PLATE_DUPLICATE</th><th>MJD_DUPLICATE</th><th>FIBERID_DUPLICATE</th><th>SPECTRO_DUPLICATE</th><th>BI_CIV</th><th>ERR_BI_CIV</th><th>RUN_NUMBER</th><th>RERUN_NUMBER</th><th>COL_NUMBER</th><th>FIELD_NUMBER</th><th>OBJ_ID</th><th>PSFFLUX</th><th>IVAR_PSFFLUX</th><th>PSFMAG</th><th>ERR_PSFMAG</th><th>MI</th><th>GAL_EXT</th><th>RASS_COUNTS</th><th>RASS_COUNTS_SNR</th><th>SDSS2ROSAT_SEP</th><th>FLUX_0.2_2.0keV</th><th>FLUX_0.2_2.0keV_ERR</th><th>FLUX_2.0_12.0keV</th><th>FLUX_2.0_12.0keV_ERR</th><th>FLUX_0.2_12.0keV</th><th>FLUX_0.2_12.0keV_ERR</th><th>LUM_0.2_12.0keV</th><th>SDSS2XMM_SEP</th><th>GALEX_MATCHED</th><th>FUV</th><th>FUV_IVAR</th><th>NUV</th><th>NUV_IVAR</th><th>JMAG</th><th>ERR_JMAG</th><th>JSNR</th><th>JRDFLAG</th><th>HMAG</th><th>ERR_HMAG</th><th>HSNR</th><th>HRDFLAG</th><th>KMAG</th><th>ERR_KMAG</th><th>KSNR</th><th>KRDFLAG</th><th>SDSS2MASS_SEP</th><th>W1MAG</th><th>ERR_W1MAG</th><th>W1SNR</th><th>W1CHI2</th><th>W2MAG</th><th>ERR_W2MAG</th><th>W2SNR</th><th>W2CHI2</th><th>W3MAG</th><th>ERR_W3MAG</th><th>W3SNR</th><th>W3CHI2</th><th>W4MAG</th><th>ERR_W4MAG</th><th>W4SNR</th><th>W4CHI2</th><th>CC_FLAGS</th><th>PH_FLAGS</th><th>SDSS2WISE_SEP</th><th>UKIDSS_MATCHED</th><th>YFLUX</th><th>YFLUX_ERR</th><th>JFLUX</th><th>JFLUX_ERR</th><th>HFLUX</th><th>HFLUX_ERR</th><th>KFLUX</th><th>KFLUX_ERR</th><th>FIRST_MATCHED</th><th>FIRST_FLUX</th><th>FIRST_SNR</th><th>SDSS2FIRST_SEP</th></tr></thead>\n",
       "<thead><tr><th>-</th><th>deg</th><th>deg</th><th>-</th><th>-</th><th>-</th><th>-</th><th>-</th><th>-</th><th>-</th><th>-</th><th>-</th><th>-</th><th>-</th><th>-</th><th>-</th><th>-</th><th>-</th><th>-</th><th>-</th><th>-</th><th>-</th><th>-</th><th>-</th><th>-</th><th>-</th><th>-</th><th>-</th><th>-</th><th>-</th><th>-</th><th>km / s</th><th>km / s</th><th>-</th><th>-</th><th>-</th><th>-</th><th>-</th><th>nanomaggies</th><th>-</th><th>mag</th><th>mag</th><th>-</th><th>mag</th><th>counts/s</th><th>-</th><th>arcsec</th><th>erg / (cm2 s)</th><th>erg / (cm2 s)</th><th>erg / (cm2 s)</th><th>erg / (cm2 s)</th><th>erg / (cm2 s)</th><th>erg / (cm2 s)</th><th>erg / s</th><th>arcsec</th><th>-</th><th>-</th><th>-</th><th>-</th><th>-</th><th>Vega</th><th>Vega</th><th>-</th><th>-</th><th>Vega</th><th>Vega</th><th>-</th><th>-</th><th>Vega</th><th>Vega</th><th>-</th><th>-</th><th>arcsec</th><th>-</th><th>-</th><th>-</th><th>-</th><th>-</th><th>-</th><th>-</th><th>-</th><th>-</th><th>-</th><th>-</th><th>-</th><th>-</th><th>-</th><th>-</th><th>-</th><th>-</th><th>-</th><th>arcsec</th><th>-</th><th>W / (Hz m2)</th><th>W / (Hz m2)</th><th>W / (Hz m2)</th><th>W / (Hz m2)</th><th>W / (Hz m2)</th><th>W / (Hz m2)</th><th>W / (Hz m2)</th><th>W / (Hz m2)</th><th>-</th><th>mJy</th><th>-</th><th>arcsec</th></tr></thead>\n",
       "<thead><tr><th>bytes18</th><th>float64</th><th>float64</th><th>int32</th><th>int16</th><th>int32</th><th>int16</th><th>bytes4</th><th>float64</th><th>float64</th><th>bytes4</th><th>float64</th><th>float64</th><th>float64</th><th>int16</th><th>float64</th><th>float64</th><th>float64</th><th>int64</th><th>int64</th><th>int64</th><th>int64</th><th>int64</th><th>int64</th><th>int16</th><th>int16</th><th>int16</th><th>int32[51]</th><th>int32[51]</th><th>int32[51]</th><th>bytes1[51]</th><th>float64</th><th>float64</th><th>int16</th><th>bytes1</th><th>int16</th><th>int16</th><th>bytes1</th><th>float64[5]</th><th>float64[5]</th><th>float64[5]</th><th>float64[5]</th><th>float64</th><th>float64[5]</th><th>float64</th><th>float64</th><th>float64</th><th>float64</th><th>float64</th><th>float64</th><th>float64</th><th>float64</th><th>float64</th><th>float64</th><th>float64</th><th>float32</th><th>float64</th><th>float64</th><th>float64</th><th>float64</th><th>float64</th><th>float64</th><th>float32</th><th>int16</th><th>float64</th><th>float64</th><th>float32</th><th>int16</th><th>float64</th><th>float64</th><th>float32</th><th>int16</th><th>float64</th><th>float64</th><th>float64</th><th>float64</th><th>float64</th><th>float64</th><th>float64</th><th>float64</th><th>float64</th><th>float64</th><th>float64</th><th>float64</th><th>float64</th><th>float64</th><th>float64</th><th>float64</th><th>float64</th><th>bytes4</th><th>bytes4</th><th>float64</th><th>float32</th><th>float64</th><th>float64</th><th>float64</th><th>float64</th><th>float64</th><th>float64</th><th>float64</th><th>float64</th><th>int16</th><th>float64</th><th>float64</th><th>float64</th></tr></thead>\n",
       "<tr><td>113437.00+623423.5</td><td>173.65418883359618</td><td>62.57320165036267</td><td>536573905</td><td>7107</td><td>56740</td><td>667</td><td>BOSS</td><td>3.248</td><td>0.0</td><td>VI</td><td>3.247999906539917</td><td>3.248299598693848</td><td>0.0003707199066411704</td><td>0</td><td>3.2464201</td><td>-1.0</td><td>-1.0</td><td>3298535686144</td><td>0</td><td>1024</td><td>0</td><td>0</td><td>0</td><td>0</td><td>1</td><td>1</td><td>0 .. -1</td><td>0 .. -1</td><td>0 .. -1</td><td>- .. -</td><td>0.0</td><td>0.0</td><td>0</td><td>-</td><td>0</td><td>0</td><td>-</td><td>0.5764795541763306 .. 4.656691074371338</td><td>19.690444946289062 .. 1.1425701379776</td><td>23.039026260375977 .. 20.803373336791992</td><td>0.38178515434265137 .. 0.20787853002548218</td><td>-26.342548</td><td>0.0464259535074234 .. 0.01383250392973423</td><td>0.0</td><td>0.0</td><td>-1.0</td><td>--</td><td>--</td><td>--</td><td>--</td><td>--</td><td>--</td><td>--</td><td>--</td><td>1.0</td><td>-0.0934818759560585</td><td>3.7953007149492586</td><td>-0.11485450714826585</td><td>444.5071124784394</td><td>--</td><td>--</td><td>--</td><td>-1</td><td>--</td><td>--</td><td>--</td><td>-1</td><td>--</td><td>--</td><td>--</td><td>-1</td><td>--</td><td>17.472</td><td>0.139</td><td>7.800000190734863</td><td>0.9232</td><td>16.859</td><td>0.302</td><td>3.5999999046325684</td><td>0.8375</td><td>12.385</td><td>--</td><td>1.2000000476837158</td><td>1.009</td><td>8.911</td><td>0.139</td><td>0.5</td><td>0.8327</td><td>0000</td><td>BBUU</td><td>0.695445</td><td>0.0</td><td>0.0</td><td>0.0</td><td>0.0</td><td>0.0</td><td>0.0</td><td>0.0</td><td>0.0</td><td>0.0</td><td>1</td><td>23.17</td><td>155.68954499999995</td><td>0.634001</td></tr>\n",
       "</table></div>"
      ],
      "text/plain": [
       "<Table length=1>\n",
       "    SDSS_NAME              RA         ...     FIRST_SNR      SDSS2FIRST_SEP\n",
       "        -                 deg         ...         -              arcsec    \n",
       "     bytes18            float64       ...      float64          float64    \n",
       "------------------ ------------------ ... ------------------ --------------\n",
       "113437.00+623423.5 173.65418883359618 ... 155.68954499999995       0.634001"
      ]
     },
     "execution_count": 6,
     "metadata": {},
     "output_type": "execute_result"
    }
   ],
   "source": [
    "pruf=Table.read('cataloguito.fits')\n",
    "pruf"
   ]
  },
  {
   "cell_type": "markdown",
   "id": "0ffae7cd",
   "metadata": {},
   "source": [
    "### Comparing the FITS properties between saved and prior catalog"
   ]
  },
  {
   "cell_type": "code",
   "execution_count": 7,
   "id": "3aede9b9",
   "metadata": {
    "ExecuteTime": {
     "end_time": "2023-05-19T12:54:01.200108Z",
     "start_time": "2023-05-19T12:54:01.180801Z"
    }
   },
   "outputs": [
    {
     "name": "stdout",
     "output_type": "stream",
     "text": [
      "Filename: cataloguito.fits\n",
      "No.    Name      Ver    Type      Cards   Dimensions   Format\n",
      "  0  PRIMARY       1 PrimaryHDU      16   (7055,)   uint8   \n",
      "  1  DR14Q_v4_4    1 BinTableHDU    357   1R x 105C   [18A, D, D, J, I, J, I, 4A, D, D, 4A, D, D, D, I, D, D, D, K, K, K, K, K, K, I, I, I, 51J, 51J, 51J, 51A, D, D, I, 1A, I, I, 1A, 5D, 5D, 5D, 5D, D, 5D, D, D, D, D, D, D, D, D, D, D, D, E, D, D, D, D, D, D, E, I, D, D, E, I, D, D, E, I, D, D, D, D, D, D, D, D, D, D, D, D, D, D, D, D, D, 4A, 4A, D, E, D, D, D, D, D, D, D, D, I, D, D, D]   \n"
     ]
    }
   ],
   "source": [
    "nuevo = fits.open('cataloguito.fits')\n",
    "nuevo.info()"
   ]
  },
  {
   "cell_type": "code",
   "execution_count": 8,
   "id": "b6589781",
   "metadata": {
    "ExecuteTime": {
     "end_time": "2023-05-19T12:54:06.395816Z",
     "start_time": "2023-05-19T12:54:06.374060Z"
    }
   },
   "outputs": [
    {
     "name": "stdout",
     "output_type": "stream",
     "text": [
      "Filename: /home/colgoat/Jupyter/Entorno/cata_files/exDR14Qcat.fits\n",
      "No.    Name      Ver    Type      Cards   Dimensions   Format\n",
      "  0  PRIMARY       1 PrimaryHDU      16   (7055,)   uint8   \n",
      "  1  DR14Q_v4_4    1 BinTableHDU    357   168045R x 105C   [18A, D, D, J, I, J, I, 4A, D, D, 4A, D, D, D, I, D, D, D, K, K, K, K, K, K, I, I, I, 51J, 51J, 51J, 51A, D, D, I, 1A, I, I, 1A, 5D, 5D, 5D, 5D, D, 5D, D, D, D, D, D, D, D, D, D, D, D, E, D, D, D, D, D, D, E, I, D, D, E, I, D, D, E, I, D, D, D, D, D, D, D, D, D, D, D, D, D, D, D, D, D, 4A, 4A, D, E, D, D, D, D, D, D, D, D, I, D, D, D]   \n"
     ]
    }
   ],
   "source": [
    "nuevo = fits.open(local_file)\n",
    "nuevo.info()"
   ]
  },
  {
   "cell_type": "code",
   "execution_count": 65,
   "id": "fa9ce5e0",
   "metadata": {
    "scrolled": false
   },
   "outputs": [
    {
     "name": "stderr",
     "output_type": "stream",
     "text": [
      "WARNING: UnitsWarning: '-' did not parse as fits unit: Invalid character at col 0 If this is meant to be a custom unit, define it with 'u.def_unit'. To have it recognized inside a file reader or other code, enable it with 'u.add_enabled_units'. For details, see https://docs.astropy.org/en/latest/units/combining_and_defining.html [astropy.units.core]\n",
      "WARNING: UnitsWarning: 'nanomaggies' did not parse as fits unit: At col 0, Unit 'nanomaggies' not supported by the FITS standard.  If this is meant to be a custom unit, define it with 'u.def_unit'. To have it recognized inside a file reader or other code, enable it with 'u.add_enabled_units'. For details, see https://docs.astropy.org/en/latest/units/combining_and_defining.html [astropy.units.core]\n",
      "WARNING: UnitsWarning: 'counts/s' did not parse as fits unit: At col 0, Unit 'counts' not supported by the FITS standard. Did you mean count? If this is meant to be a custom unit, define it with 'u.def_unit'. To have it recognized inside a file reader or other code, enable it with 'u.add_enabled_units'. For details, see https://docs.astropy.org/en/latest/units/combining_and_defining.html [astropy.units.core]\n",
      "WARNING: UnitsWarning: 'Vega' did not parse as fits unit: At col 0, Unit 'Vega' not supported by the FITS standard.  If this is meant to be a custom unit, define it with 'u.def_unit'. To have it recognized inside a file reader or other code, enable it with 'u.add_enabled_units'. For details, see https://docs.astropy.org/en/latest/units/combining_and_defining.html [astropy.units.core]\n"
     ]
    },
    {
     "data": {
      "text/plain": [
       "'\\nfor a in range(len(red_cat)): #len(red_cat)\\n    \\n    for b in range(len(t)): #len(t)\\n        if (red_cat[\\'THING_ID\\'][a]==t[\\'ID\\'][b]):\\n            rf[a] = False\\n        else:\\n            rf[a] = True\\n    print(a,\" \",rf[a])\\n'"
      ]
     },
     "execution_count": 65,
     "metadata": {},
     "output_type": "execute_result"
    }
   ],
   "source": [
    "import os\n",
    "import sys\n",
    "import glob\n",
    "import numpy as np\n",
    "import scipy.optimize    as op\n",
    "import matplotlib.pyplot as plt\n",
    "import urllib.request\n",
    "from astropy.io import fits as pyfits\n",
    "from astropy.table import Table\n",
    "from scipy.interpolate import make_interp_spline\n",
    "import pandas as pd\n",
    "\n",
    "\n",
    "file=\"forest_reject.txt\"\n",
    "df = pd.read_csv(file,delim_whitespace=True, skiprows=1, names=['IDENT', 'ID', 'CAUSE','ARG'])\n",
    "t = Table.from_pandas(df)\n",
    "#direc = \"/Users/hollman/Documents/TFPS/MEANPK/uncor_meanPk1d_Chab19.fits\"\n",
    "#t.write(direc)\n",
    "\n",
    "#nuevo = pyfits.open(direc)\n",
    "\n",
    "#tab = Table.read(nuevo)\n",
    "\n",
    "local_dir=\"/home/colgoat/Jupyter/Entorno/cata_files/exDR14Qcat.fits\"\n",
    "local_file = os.path.join(local_dir)\n",
    "\n",
    "    \n",
    "catalog=Table.read(local_file)\n",
    "\n",
    "w=(catalog['THING_ID']>0) & (catalog['Z']>=2.1) & (catalog['RA']!=catalog['DEC']) & (catalog['RA']>0) \\\n",
    "  & (catalog['MJD']< 56870) & (catalog['BI_CIV']<=0) \n",
    "\n",
    "red_cat=catalog[w]\n",
    "\n",
    "rf = np.empty(shape=len(red_cat),dtype=bool)\n",
    "\n",
    "'''\n",
    "for a in range(len(red_cat)): #len(red_cat)\n",
    "    \n",
    "    for b in range(len(t)): #len(t)\n",
    "        if (red_cat['THING_ID'][a]==t['ID'][b]):\n",
    "            rf[a] = False\n",
    "        else:\n",
    "            rf[a] = True\n",
    "    print(a,\" \",rf[a])\n",
    "'''"
   ]
  },
  {
   "cell_type": "code",
   "execution_count": 62,
   "id": "465fbc0b",
   "metadata": {},
   "outputs": [
    {
     "data": {
      "text/html": [
       "<div><i>Table length=9719</i>\n",
       "<table id=\"table140132047399488\" class=\"table-striped table-bordered table-condensed\">\n",
       "<thead><tr><th>LABEL</th><th>STATE</th><th>PLATE1</th><th>PLATE2</th><th>MJD</th><th>FIBER</th><th>FORMAT</th></tr></thead>\n",
       "<thead><tr><th>str10</th><th>str4</th><th>int64</th><th>int64</th><th>int64</th><th>int64</th><th>str4</th></tr></thead>\n",
       "<tr><td>[WARNING]:</td><td>Errd</td><td>6511</td><td>6511</td><td>56540</td><td>92</td><td>fits</td></tr>\n",
       "<tr><td>[WARNING]:</td><td>Errd</td><td>6151</td><td>6151</td><td>56265</td><td>88</td><td>fits</td></tr>\n",
       "<tr><td>[WARNING]:</td><td>Errd</td><td>6152</td><td>6152</td><td>56164</td><td>4</td><td>fits</td></tr>\n",
       "<tr><td>[WARNING]:</td><td>Errd</td><td>7033</td><td>7033</td><td>56565</td><td>2</td><td>fits</td></tr>\n",
       "<tr><td>[WARNING]:</td><td>Errd</td><td>7033</td><td>7033</td><td>56565</td><td>14</td><td>fits</td></tr>\n",
       "<tr><td>[WARNING]:</td><td>Errd</td><td>6152</td><td>6152</td><td>56164</td><td>18</td><td>fits</td></tr>\n",
       "<tr><td>...</td><td>...</td><td>...</td><td>...</td><td>...</td><td>...</td><td>...</td></tr>\n",
       "<tr><td>[WARNING]:</td><td>Errd</td><td>6139</td><td>6139</td><td>56192</td><td>54</td><td>fits</td></tr>\n",
       "<tr><td>[WARNING]:</td><td>Errd</td><td>6152</td><td>6152</td><td>56164</td><td>40</td><td>fits</td></tr>\n",
       "<tr><td>[WARNING]:</td><td>Errd</td><td>7033</td><td>7033</td><td>56565</td><td>50</td><td>fits</td></tr>\n",
       "<tr><td>[WARNING]:</td><td>Errd</td><td>6152</td><td>6152</td><td>56164</td><td>36</td><td>fits</td></tr>\n",
       "<tr><td>[WARNING]:</td><td>Errd</td><td>6517</td><td>6517</td><td>56563</td><td>2</td><td>fits</td></tr>\n",
       "<tr><td>[WARNING]:</td><td>Errd</td><td>6139</td><td>6139</td><td>56192</td><td>32</td><td>fits</td></tr>\n",
       "<tr><td>[WARNING]:</td><td>Errd</td><td>6521</td><td>6521</td><td>56537</td><td>14</td><td>fits</td></tr>\n",
       "</table></div>"
      ],
      "text/plain": [
       "<Table length=9719>\n",
       "  LABEL    STATE PLATE1 PLATE2  MJD  FIBER FORMAT\n",
       "  str10     str4 int64  int64  int64 int64  str4 \n",
       "---------- ----- ------ ------ ----- ----- ------\n",
       "[WARNING]:  Errd   6511   6511 56540    92   fits\n",
       "[WARNING]:  Errd   6151   6151 56265    88   fits\n",
       "[WARNING]:  Errd   6152   6152 56164     4   fits\n",
       "[WARNING]:  Errd   7033   7033 56565     2   fits\n",
       "[WARNING]:  Errd   7033   7033 56565    14   fits\n",
       "[WARNING]:  Errd   6152   6152 56164    18   fits\n",
       "       ...   ...    ...    ...   ...   ...    ...\n",
       "[WARNING]:  Errd   6139   6139 56192    54   fits\n",
       "[WARNING]:  Errd   6152   6152 56164    40   fits\n",
       "[WARNING]:  Errd   7033   7033 56565    50   fits\n",
       "[WARNING]:  Errd   6152   6152 56164    36   fits\n",
       "[WARNING]:  Errd   6517   6517 56563     2   fits\n",
       "[WARNING]:  Errd   6139   6139 56192    32   fits\n",
       "[WARNING]:  Errd   6521   6521 56537    14   fits"
      ]
     },
     "execution_count": 62,
     "metadata": {},
     "output_type": "execute_result"
    }
   ],
   "source": [
    "import os\n",
    "import sys\n",
    "import glob\n",
    "import numpy as np\n",
    "import scipy.optimize    as op\n",
    "import matplotlib.pyplot as plt\n",
    "import urllib.request\n",
    "from astropy.io import fits as pyfits\n",
    "from astropy.table import Table\n",
    "from scipy.interpolate import make_interp_spline\n",
    "import pandas as pd\n",
    "\n",
    "\n",
    "file=\"error_read(log).txt\"\n",
    "df = pd.read_csv(file,sep = ' ', skiprows=1, names=['LABEL','STATE','PLATE1','PLATE2','MJD','FIBER','FORMAT'])\n",
    "ET = Table.from_pandas(df)\n",
    "\n",
    "\n",
    "a = (ET['STATE']=='Errd')\n",
    "\n",
    "new_table=ET[a]\n",
    "\n",
    "new_table\n",
    "\n",
    "\n",
    "np.savetxt('error_read(flt).txt',new_table, fmt='%s', delimiter=' ')\n",
    "\n"
   ]
  },
  {
   "cell_type": "code",
   "execution_count": 83,
   "id": "b69ac4ff",
   "metadata": {},
   "outputs": [
    {
     "name": "stderr",
     "output_type": "stream",
     "text": [
      "WARNING: UnitsWarning: '-' did not parse as fits unit: Invalid character at col 0 If this is meant to be a custom unit, define it with 'u.def_unit'. To have it recognized inside a file reader or other code, enable it with 'u.add_enabled_units'. For details, see https://docs.astropy.org/en/latest/units/combining_and_defining.html [astropy.units.core]\n",
      "WARNING: UnitsWarning: 'nanomaggies' did not parse as fits unit: At col 0, Unit 'nanomaggies' not supported by the FITS standard.  If this is meant to be a custom unit, define it with 'u.def_unit'. To have it recognized inside a file reader or other code, enable it with 'u.add_enabled_units'. For details, see https://docs.astropy.org/en/latest/units/combining_and_defining.html [astropy.units.core]\n",
      "WARNING: UnitsWarning: 'counts/s' did not parse as fits unit: At col 0, Unit 'counts' not supported by the FITS standard. Did you mean count? If this is meant to be a custom unit, define it with 'u.def_unit'. To have it recognized inside a file reader or other code, enable it with 'u.add_enabled_units'. For details, see https://docs.astropy.org/en/latest/units/combining_and_defining.html [astropy.units.core]\n",
      "WARNING: UnitsWarning: 'Vega' did not parse as fits unit: At col 0, Unit 'Vega' not supported by the FITS standard.  If this is meant to be a custom unit, define it with 'u.def_unit'. To have it recognized inside a file reader or other code, enable it with 'u.add_enabled_units'. For details, see https://docs.astropy.org/en/latest/units/combining_and_defining.html [astropy.units.core]\n"
     ]
    },
    {
     "ename": "TypeError",
     "evalue": "'list' object is not callable",
     "output_type": "error",
     "traceback": [
      "\u001b[0;31m---------------------------------------------------------------------------\u001b[0m",
      "\u001b[0;31mTypeError\u001b[0m                                 Traceback (most recent call last)",
      "Cell \u001b[0;32mIn[83], line 16\u001b[0m\n\u001b[1;32m     11\u001b[0m w\u001b[38;5;241m=\u001b[39m(catalog[\u001b[38;5;124m'\u001b[39m\u001b[38;5;124mTHING_ID\u001b[39m\u001b[38;5;124m'\u001b[39m]\u001b[38;5;241m>\u001b[39m\u001b[38;5;241m0\u001b[39m) \u001b[38;5;241m&\u001b[39m (catalog[\u001b[38;5;124m'\u001b[39m\u001b[38;5;124mZ\u001b[39m\u001b[38;5;124m'\u001b[39m]\u001b[38;5;241m>\u001b[39m\u001b[38;5;241m=\u001b[39m\u001b[38;5;241m2.1\u001b[39m) \u001b[38;5;241m&\u001b[39m (catalog[\u001b[38;5;124m'\u001b[39m\u001b[38;5;124mRA\u001b[39m\u001b[38;5;124m'\u001b[39m]\u001b[38;5;241m!=\u001b[39mcatalog[\u001b[38;5;124m'\u001b[39m\u001b[38;5;124mDEC\u001b[39m\u001b[38;5;124m'\u001b[39m]) \u001b[38;5;241m&\u001b[39m (catalog[\u001b[38;5;124m'\u001b[39m\u001b[38;5;124mRA\u001b[39m\u001b[38;5;124m'\u001b[39m]\u001b[38;5;241m>\u001b[39m\u001b[38;5;241m0\u001b[39m) \\\n\u001b[1;32m     12\u001b[0m   \u001b[38;5;241m&\u001b[39m (catalog[\u001b[38;5;124m'\u001b[39m\u001b[38;5;124mMJD\u001b[39m\u001b[38;5;124m'\u001b[39m]\u001b[38;5;241m<\u001b[39m \u001b[38;5;241m56870\u001b[39m) \u001b[38;5;241m&\u001b[39m (catalog[\u001b[38;5;124m'\u001b[39m\u001b[38;5;124mBI_CIV\u001b[39m\u001b[38;5;124m'\u001b[39m]\u001b[38;5;241m<\u001b[39m\u001b[38;5;241m=\u001b[39m\u001b[38;5;241m0\u001b[39m) \n\u001b[1;32m     14\u001b[0m red_cat\u001b[38;5;241m=\u001b[39mcatalog[w]\n\u001b[0;32m---> 16\u001b[0m colas \u001b[38;5;241m=\u001b[39m \u001b[43mred_cat\u001b[49m\u001b[38;5;241;43m.\u001b[39;49m\u001b[43mcolnames\u001b[49m\u001b[43m(\u001b[49m\u001b[43m)\u001b[49m\n\u001b[1;32m     18\u001b[0m colas\n",
      "\u001b[0;31mTypeError\u001b[0m: 'list' object is not callable"
     ]
    }
   ],
   "source": [
    "file1=\"error_read(flt).txt\"\n",
    "df_n = pd.read_csv(file1,sep = ' ', skiprows=1, names=['LABEL','STATE','PLATE1','PLATE2','MJD','FIBER','FORMAT'])\n",
    "NT = Table.from_pandas(df_n)\n",
    "\n",
    "local_dir=\"/home/colgoat/Jupyter/Entorno/cata_files/exDR14Qcat.fits\"\n",
    "local_file = os.path.join(local_dir)\n",
    "\n",
    "    \n",
    "catalog=Table.read(local_file)\n",
    "\n",
    "w=(catalog['THING_ID']>0) & (catalog['Z']>=2.1) & (catalog['RA']!=catalog['DEC']) & (catalog['RA']>0) \\\n",
    "  & (catalog['MJD']< 56870) & (catalog['BI_CIV']<=0) \n",
    "\n",
    "red_cat=catalog[w]\n"
   ]
  },
  {
   "cell_type": "code",
   "execution_count": 69,
   "id": "44222d3c",
   "metadata": {},
   "outputs": [
    {
     "data": {
      "text/html": [
       "<div><i>Table length=32386</i>\n",
       "<table id=\"table140132550708480\" class=\"table-striped table-bordered table-condensed\">\n",
       "<thead><tr><th>IDENT</th><th>ID</th><th>CAUSE</th><th>ARG</th></tr></thead>\n",
       "<thead><tr><th>str8</th><th>int64</th><th>str12</th><th>str29</th></tr></thead>\n",
       "<tr><td>THING_ID</td><td>21073834</td><td>low_SNR</td><td>(0.988977706133896&lt;1.0)</td></tr>\n",
       "<tr><td>THING_ID</td><td>233380948</td><td>low_SNR</td><td>(0.8606772765038269&lt;1.0)</td></tr>\n",
       "<tr><td>THING_ID</td><td>36027746</td><td>low_SNR</td><td>(0.46877759264779423&lt;1.0)</td></tr>\n",
       "<tr><td>THING_ID</td><td>202298564</td><td>low_SNR</td><td>(0.6635149652615954&lt;1.0)</td></tr>\n",
       "<tr><td>THING_ID</td><td>235330672</td><td>short_forest</td><td>(46)</td></tr>\n",
       "<tr><td>THING_ID</td><td>309535119</td><td>low_SNR</td><td>(0.8575075163548305&lt;1.0)</td></tr>\n",
       "<tr><td>...</td><td>...</td><td>...</td><td>...</td></tr>\n",
       "<tr><td>THING_ID</td><td>401931983</td><td>short_forest</td><td>(36)</td></tr>\n",
       "<tr><td>THING_ID</td><td>124230616</td><td>low_SNR</td><td>(0.29305088369503873&lt;1.0)</td></tr>\n",
       "<tr><td>THING_ID</td><td>87711420</td><td>low_SNR</td><td>(0.839816045598127&lt;1.0)</td></tr>\n",
       "<tr><td>THING_ID</td><td>407754540</td><td>low_SNR</td><td>(0.8636922886573963&lt;1.0)</td></tr>\n",
       "<tr><td>THING_ID</td><td>24413973</td><td>short_forest</td><td>(48)</td></tr>\n",
       "<tr><td>THING_ID</td><td>202268211</td><td>short_forest</td><td>(17)</td></tr>\n",
       "<tr><td>THING_ID</td><td>401165277</td><td>short_forest</td><td>(39)</td></tr>\n",
       "</table></div>"
      ],
      "text/plain": [
       "<Table length=32386>\n",
       " IDENT       ID       CAUSE                ARG           \n",
       "  str8     int64      str12               str29          \n",
       "-------- --------- ------------ -------------------------\n",
       "THING_ID  21073834      low_SNR   (0.988977706133896<1.0)\n",
       "THING_ID 233380948      low_SNR  (0.8606772765038269<1.0)\n",
       "THING_ID  36027746      low_SNR (0.46877759264779423<1.0)\n",
       "THING_ID 202298564      low_SNR  (0.6635149652615954<1.0)\n",
       "THING_ID 235330672 short_forest                      (46)\n",
       "THING_ID 309535119      low_SNR  (0.8575075163548305<1.0)\n",
       "     ...       ...          ...                       ...\n",
       "THING_ID 401931983 short_forest                      (36)\n",
       "THING_ID 124230616      low_SNR (0.29305088369503873<1.0)\n",
       "THING_ID  87711420      low_SNR   (0.839816045598127<1.0)\n",
       "THING_ID 407754540      low_SNR  (0.8636922886573963<1.0)\n",
       "THING_ID  24413973 short_forest                      (48)\n",
       "THING_ID 202268211 short_forest                      (17)\n",
       "THING_ID 401165277 short_forest                      (39)"
      ]
     },
     "execution_count": 69,
     "metadata": {},
     "output_type": "execute_result"
    }
   ],
   "source": [
    "file=\"forest_reject.txt\"\n",
    "df = pd.read_csv(file,delim_whitespace=True, skiprows=1, names=['IDENT', 'ID', 'CAUSE','ARG'])\n",
    "t = Table.from_pandas(df)\n",
    "\n",
    "t"
   ]
  },
  {
   "cell_type": "code",
   "execution_count": 89,
   "id": "242fc52d",
   "metadata": {},
   "outputs": [
    {
     "data": {
      "text/html": [
       "<div><i>Table length=168045</i>\n",
       "<table id=\"table140131960651248\" class=\"table-striped table-bordered table-condensed\">\n",
       "<thead><tr><th>THING_ID</th><th>PLATE</th><th>MJD</th><th>FIBERID</th></tr></thead>\n",
       "<thead><tr><th>-</th><th>-</th><th>-</th><th>-</th></tr></thead>\n",
       "<thead><tr><th>int32</th><th>int16</th><th>int32</th><th>int16</th></tr></thead>\n",
       "<tr><td>244864389</td><td>6177</td><td>56268</td><td>595</td></tr>\n",
       "<tr><td>66666942</td><td>4354</td><td>55810</td><td>646</td></tr>\n",
       "<tr><td>373839246</td><td>6498</td><td>56565</td><td>177</td></tr>\n",
       "<tr><td>237177970</td><td>6177</td><td>56268</td><td>608</td></tr>\n",
       "<tr><td>216253507</td><td>6182</td><td>56190</td><td>652</td></tr>\n",
       "<tr><td>304272558</td><td>6879</td><td>56539</td><td>414</td></tr>\n",
       "<tr><td>...</td><td>...</td><td>...</td><td>...</td></tr>\n",
       "<tr><td>368262933</td><td>7134</td><td>56566</td><td>436</td></tr>\n",
       "<tr><td>24413973</td><td>7167</td><td>56604</td><td>276</td></tr>\n",
       "<tr><td>190787316</td><td>6152</td><td>56164</td><td>12</td></tr>\n",
       "<tr><td>202268211</td><td>6182</td><td>56190</td><td>380</td></tr>\n",
       "<tr><td>360831416</td><td>6511</td><td>56540</td><td>912</td></tr>\n",
       "<tr><td>401165277</td><td>7145</td><td>56567</td><td>240</td></tr>\n",
       "</table></div>"
      ],
      "text/plain": [
       "<Table length=168045>\n",
       " THING_ID PLATE  MJD  FIBERID\n",
       "    -       -     -      -   \n",
       "  int32   int16 int32  int16 \n",
       "--------- ----- ----- -------\n",
       "244864389  6177 56268     595\n",
       " 66666942  4354 55810     646\n",
       "373839246  6498 56565     177\n",
       "237177970  6177 56268     608\n",
       "216253507  6182 56190     652\n",
       "304272558  6879 56539     414\n",
       "      ...   ...   ...     ...\n",
       "368262933  7134 56566     436\n",
       " 24413973  7167 56604     276\n",
       "190787316  6152 56164      12\n",
       "202268211  6182 56190     380\n",
       "360831416  6511 56540     912\n",
       "401165277  7145 56567     240"
      ]
     },
     "execution_count": 89,
     "metadata": {},
     "output_type": "execute_result"
    }
   ],
   "source": [
    "local_dir=\"/home/colgoat/Jupyter/Entorno/cata_files/exDR14Qcat.fits\"\n",
    "local_file = os.path.join(local_dir)\n",
    "\n",
    "    \n",
    "catalog=Table.read(local_file)\n",
    "\n",
    "w=(catalog['THING_ID']>0) & (catalog['Z']>=2.1) & (catalog['RA']!=catalog['DEC']) & (catalog['RA']>0) \\\n",
    "  & (catalog['MJD']< 56870) & (catalog['BI_CIV']<=0) \n",
    "\n",
    "red_cat=catalog[w]\n",
    "\n",
    "\n",
    "del red_cat['SDSS_NAME']\n",
    "del red_cat['RA']\n",
    "del red_cat['DEC']\n",
    "del red_cat['SPECTRO']\n",
    "del red_cat['Z']\n",
    "del red_cat['Z_ERR']\n",
    "del red_cat['SOURCE_Z']\n",
    "del red_cat['Z_VI']\n",
    "del red_cat['Z_PIPE']\n",
    "del red_cat['Z_PIPE_ERR']\n",
    "del red_cat['ZWARNING']\n",
    "del red_cat['Z_PCA']\n",
    "del red_cat['Z_PCA_ER']\n",
    "del red_cat['Z_MGII']\n",
    "del red_cat['BOSS_TARGET1']\n",
    "del red_cat['ANCILLARY_TARGET1']\n",
    "del red_cat['ANCILLARY_TARGET2']\n",
    "del red_cat['EBOSS_TARGET0']\n",
    "del red_cat['EBOSS_TARGET1']\n",
    "del red_cat['EBOSS_TARGET2']\n",
    "del red_cat['N_SPEC_SDSS']\n",
    "del red_cat['N_SPEC_BOSS']\n",
    "del red_cat['N_SPEC']\n",
    "del red_cat['PLATE_DUPLICATE']\n",
    "del red_cat['MJD_DUPLICATE']\n",
    "del red_cat['FIBERID_DUPLICATE']\n",
    "del red_cat['SPECTRO_DUPLICATE']\n",
    "del red_cat['BI_CIV']\n",
    "del red_cat['ERR_BI_CIV']\n",
    "del red_cat['RUN_NUMBER']\n",
    "del red_cat['RERUN_NUMBER']\n",
    "del red_cat['COL_NUMBER']\n",
    "del red_cat['FIELD_NUMBER']\n",
    "del red_cat['OBJ_ID']\n",
    "del red_cat['PSFFLUX']\n",
    "del red_cat['IVAR_PSFFLUX']\n",
    "del red_cat['PSFMAG']\n",
    "del red_cat['ERR_PSFMAG']\n",
    "del red_cat['MI']\n",
    "del red_cat['GAL_EXT']\n",
    "del red_cat['RASS_COUNTS']\n",
    "del red_cat['RASS_COUNTS_SNR']\n",
    "del red_cat['SDSS2ROSAT_SEP']\n",
    "del red_cat['FLUX_0.2_2.0keV']\n",
    "del red_cat['FLUX_0.2_2.0keV_ERR']\n",
    "del red_cat['FLUX_2.0_12.0keV']\n",
    "del red_cat['FLUX_2.0_12.0keV_ERR']\n",
    "del red_cat['FLUX_0.2_12.0keV']\n",
    "del red_cat['FLUX_0.2_12.0keV_ERR']\n",
    "del red_cat['LUM_0.2_12.0keV']\n",
    "del red_cat['SDSS2XMM_SEP']\n",
    "del red_cat['GALEX_MATCHED']\n",
    "del red_cat['FUV']\n",
    "del red_cat['FUV_IVAR']\n",
    "del red_cat['NUV']\n",
    "del red_cat['NUV_IVAR']\n",
    "del red_cat['JMAG']\n",
    "del red_cat['ERR_JMAG']\n",
    "del red_cat['JSNR']\n",
    "del red_cat['JRDFLAG']\n",
    "del red_cat['HMAG']\n",
    "del red_cat['ERR_HMAG']\n",
    "del red_cat['HSNR']\n",
    "del red_cat['HRDFLAG']\n",
    "del red_cat['KMAG']\n",
    "del red_cat['ERR_KMAG']\n",
    "del red_cat['KSNR']\n",
    "del red_cat['KRDFLAG']\n",
    "del red_cat['SDSS2MASS_SEP']\n",
    "del red_cat['W1MAG']\n",
    "del red_cat['ERR_W1MAG']\n",
    "del red_cat['W1SNR']\n",
    "del red_cat['W1CHI2']\n",
    "del red_cat['W2MAG']\n",
    "del red_cat['ERR_W2MAG']\n",
    "del red_cat['W2SNR']\n",
    "del red_cat['W2CHI2']\n",
    "del red_cat['W3MAG']\n",
    "del red_cat['ERR_W3MAG']\n",
    "del red_cat['W3SNR']\n",
    "del red_cat['W3CHI2']\n",
    "del red_cat['W4MAG']\n",
    "del red_cat['ERR_W4MAG']\n",
    "del red_cat['W4SNR']\n",
    "del red_cat['W4CHI2']\n",
    "del red_cat['CC_FLAGS']\n",
    "del red_cat['PH_FLAGS']\n",
    "del red_cat['SDSS2WISE_SEP']\n",
    "del red_cat['UKIDSS_MATCHED']\n",
    "del red_cat['YFLUX']\n",
    "del red_cat['YFLUX_ERR']\n",
    "del red_cat['JFLUX']\n",
    "del red_cat['JFLUX_ERR']\n",
    "del red_cat['HFLUX']\n",
    "del red_cat['HFLUX_ERR']\n",
    "del red_cat['KFLUX']\n",
    "del red_cat['KFLUX_ERR']\n",
    "del red_cat['FIRST_MATCHED']\n",
    "del red_cat['FIRST_FLUX']\n",
    "del red_cat['FIRST_SNR']\n",
    "del red_cat['SDSS2FIRST_SEP']\n",
    "\n",
    "\n",
    "\n",
    "red_cat\n",
    "\n",
    "#np.savetxt('catDR14.txt',red_cat, fmt='%s', delimiter=' ')\n"
   ]
  },
  {
   "cell_type": "code",
   "execution_count": null,
   "id": "bb73036d",
   "metadata": {},
   "outputs": [],
   "source": []
  }
 ],
 "metadata": {
  "kernelspec": {
   "display_name": "Python 3 (ipykernel)",
   "language": "python",
   "name": "python3"
  },
  "language_info": {
   "codemirror_mode": {
    "name": "ipython",
    "version": 3
   },
   "file_extension": ".py",
   "mimetype": "text/x-python",
   "name": "python",
   "nbconvert_exporter": "python",
   "pygments_lexer": "ipython3",
   "version": "3.11.3"
  }
 },
 "nbformat": 4,
 "nbformat_minor": 5
}
