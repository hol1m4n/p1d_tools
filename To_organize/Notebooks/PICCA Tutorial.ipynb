{
 "cells": [
  {
   "cell_type": "code",
   "execution_count": 1,
   "id": "6bd4f3ab",
   "metadata": {
    "ExecuteTime": {
     "end_time": "2023-05-28T05:26:59.182843Z",
     "start_time": "2023-05-28T05:26:57.819795Z"
    }
   },
   "outputs": [],
   "source": [
    "import numpy as np\n",
    "import pylab as plt\n",
    "import os\n",
    "\n",
    "from astropy.table import Table\n",
    "\n",
    "from picca.data import Forest, Delta\n",
    "from picca.dla import DLA\n",
    "from picca import prep_del, io, constants"
   ]
  },
  {
   "cell_type": "code",
   "execution_count": 2,
   "id": "ea152c4b",
   "metadata": {
    "ExecuteTime": {
     "end_time": "2023-05-28T05:28:23.703527Z",
     "start_time": "2023-05-28T05:28:23.696144Z"
    }
   },
   "outputs": [
    {
     "name": "stdout",
     "output_type": "stream",
     "text": [
      "zqso_min = 2.000\n",
      "zqso_max = 4.288\n"
     ]
    }
   ],
   "source": [
    "\n",
    "#-- Observer-frame \n",
    "lambda_min = 3600.\n",
    "lambda_max = 5500.\n",
    "Forest.log_lambda_min = np.log10(lambda_min)\n",
    "Forest.log_lambda_max = np.log10(lambda_max)\n",
    "\n",
    "#-- Rest-frame : Lyman-alpha forest \n",
    "lambda_rest_min = 1040.\n",
    "lambda_rest_max = 1200.\n",
    "Forest.log_lambda_min_rest_frame = np.log10(lambda_rest_min)\n",
    "Forest.log_lambda_max_rest_frame = np.log10(lambda_rest_max)\n",
    "\n",
    "#-- Rebin 3 native pixels into one\n",
    "rebin = 3\n",
    "Forest.rebin = rebin\n",
    "Forest.delta_log_lambda = rebin * 1e-4\n",
    "\n",
    "#-- Minimum and maximum redshifts of quasars\n",
    "zqso_min = lambda_min / lambda_rest_max - 1.\n",
    "zqso_max = lambda_max / lambda_rest_min - 1.\n",
    "\n",
    "print(f'zqso_min = {zqso_min:.3f}')\n",
    "print(f'zqso_max = {zqso_max:.3f}')\n",
    "\n"
   ]
  },
  {
   "cell_type": "code",
   "execution_count": 3,
   "id": "ba0aa61c",
   "metadata": {
    "ExecuteTime": {
     "end_time": "2023-05-28T05:37:07.217689Z",
     "start_time": "2023-05-28T05:37:05.714065Z"
    }
   },
   "outputs": [
    {
     "name": "stdout",
     "output_type": "stream",
     "text": [
      "mode: spplate\n",
      "Reading catalog from  Catalogs/DR16Q_v2_S82.fits\n"
     ]
    },
    {
     "ename": "OSError",
     "evalue": "FITSIO status = 104: could not open the named file\nfailed to find or open the following file: (ffopen)\nCatalogs/DR16Q_v2_S82.fits\n",
     "output_type": "error",
     "traceback": [
      "\u001b[0;31m---------------------------------------------------------------------------\u001b[0m",
      "\u001b[0;31mOSError\u001b[0m                                   Traceback (most recent call last)",
      "Cell \u001b[0;32mIn[3], line 18\u001b[0m\n\u001b[1;32m     14\u001b[0m \u001b[38;5;66;03m#-- For spplate and sp\u001b[39;00m\n\u001b[1;32m     15\u001b[0m use_only_best_exposure \u001b[38;5;241m=\u001b[39m \u001b[38;5;28;01mFalse\u001b[39;00m\n\u001b[1;32m     17\u001b[0m (data, num_data, nside,\n\u001b[0;32m---> 18\u001b[0m      healpy_pix_ordering) \u001b[38;5;241m=\u001b[39m \u001b[43mio\u001b[49m\u001b[38;5;241;43m.\u001b[39;49m\u001b[43mread_data\u001b[49m\u001b[43m(\u001b[49m\u001b[43mfolder_with_data\u001b[49m\u001b[43m,\u001b[49m\n\u001b[1;32m     19\u001b[0m \u001b[43m                                         \u001b[49m\u001b[43mpath_to_quasar_catalog\u001b[49m\u001b[43m,\u001b[49m\n\u001b[1;32m     20\u001b[0m \u001b[43m                                         \u001b[49m\u001b[43mmode\u001b[49m\u001b[43m,\u001b[49m\n\u001b[1;32m     21\u001b[0m \u001b[43m                                         \u001b[49m\u001b[43mz_min\u001b[49m\u001b[43m \u001b[49m\u001b[38;5;241;43m=\u001b[39;49m\u001b[43m \u001b[49m\u001b[43mzqso_min\u001b[49m\u001b[43m,\u001b[49m\n\u001b[1;32m     22\u001b[0m \u001b[43m                                         \u001b[49m\u001b[43mz_max\u001b[49m\u001b[43m \u001b[49m\u001b[38;5;241;43m=\u001b[39;49m\u001b[43m \u001b[49m\u001b[43mzqso_max\u001b[49m\u001b[43m,\u001b[49m\n\u001b[1;32m     23\u001b[0m \u001b[43m                                         \u001b[49m\u001b[43mmax_num_spec\u001b[49m\u001b[43m \u001b[49m\u001b[38;5;241;43m=\u001b[39;49m\u001b[43m \u001b[49m\u001b[43mmax_number_of_spectra\u001b[49m\u001b[43m,\u001b[49m\n\u001b[1;32m     24\u001b[0m \u001b[43m                                         \u001b[49m\u001b[43mbest_obs\u001b[49m\u001b[43m \u001b[49m\u001b[38;5;241;43m=\u001b[39;49m\u001b[43m \u001b[49m\u001b[43muse_only_best_exposure\u001b[49m\u001b[43m,\u001b[49m\n\u001b[1;32m     25\u001b[0m \u001b[43m                                         \u001b[49m\u001b[43mspall\u001b[49m\u001b[43m \u001b[49m\u001b[38;5;241;43m=\u001b[39;49m\u001b[43m \u001b[49m\u001b[43mpath_to_spall\u001b[49m\u001b[43m)\u001b[49m\n",
      "File \u001b[0;32m~/picca-master/py/picca/io.py:353\u001b[0m, in \u001b[0;36mread_data\u001b[0;34m(in_dir, drq_filename, mode, z_min, z_max, max_num_spec, log_file, keep_bal, bi_max, best_obs, single_exp, pk1d, spall, useall, usesinglenights, blinding_desi)\u001b[0m\n\u001b[1;32m    350\u001b[0m userprint(\u001b[38;5;124m\"\u001b[39m\u001b[38;5;124mmode: \u001b[39m\u001b[38;5;124m\"\u001b[39m \u001b[38;5;241m+\u001b[39m mode)\n\u001b[1;32m    351\u001b[0m \u001b[38;5;66;03m# read quasar characteristics from DRQ or DESI-miniSV catalogue\u001b[39;00m\n\u001b[0;32m--> 353\u001b[0m catalog \u001b[38;5;241m=\u001b[39m \u001b[43mread_drq\u001b[49m\u001b[43m(\u001b[49m\u001b[43mdrq_filename\u001b[49m\u001b[43m,\u001b[49m\n\u001b[1;32m    354\u001b[0m \u001b[43m                   \u001b[49m\u001b[43mz_min\u001b[49m\u001b[38;5;241;43m=\u001b[39;49m\u001b[43mz_min\u001b[49m\u001b[43m,\u001b[49m\n\u001b[1;32m    355\u001b[0m \u001b[43m                   \u001b[49m\u001b[43mz_max\u001b[49m\u001b[38;5;241;43m=\u001b[39;49m\u001b[43mz_max\u001b[49m\u001b[43m,\u001b[49m\n\u001b[1;32m    356\u001b[0m \u001b[43m                   \u001b[49m\u001b[43mkeep_bal\u001b[49m\u001b[38;5;241;43m=\u001b[39;49m\u001b[43mkeep_bal\u001b[49m\u001b[43m,\u001b[49m\n\u001b[1;32m    357\u001b[0m \u001b[43m                   \u001b[49m\u001b[43mbi_max\u001b[49m\u001b[38;5;241;43m=\u001b[39;49m\u001b[43mbi_max\u001b[49m\u001b[43m,\u001b[49m\n\u001b[1;32m    358\u001b[0m \u001b[43m                   \u001b[49m\u001b[43mmode\u001b[49m\u001b[38;5;241;43m=\u001b[39;49m\u001b[43mmode\u001b[49m\u001b[43m)\u001b[49m\n\u001b[1;32m    360\u001b[0m \u001b[38;5;66;03m# if there is a maximum number of spectra, make sure they are selected\u001b[39;00m\n\u001b[1;32m    361\u001b[0m \u001b[38;5;66;03m# in a contiguous regions\u001b[39;00m\n\u001b[1;32m    362\u001b[0m \u001b[38;5;28;01mif\u001b[39;00m max_num_spec \u001b[38;5;129;01mis\u001b[39;00m \u001b[38;5;129;01mnot\u001b[39;00m \u001b[38;5;28;01mNone\u001b[39;00m:\n\u001b[1;32m    363\u001b[0m     \u001b[38;5;66;03m## choose them in a small number of pixels\u001b[39;00m\n",
      "File \u001b[0;32m~/picca-master/py/picca/io.py:153\u001b[0m, in \u001b[0;36mread_drq\u001b[0;34m(drq_filename, z_min, z_max, keep_bal, bi_max, mode)\u001b[0m\n\u001b[1;32m    131\u001b[0m \u001b[38;5;124;03m\"\"\"Reads the quasars in the DRQ quasar catalog.\u001b[39;00m\n\u001b[1;32m    132\u001b[0m \n\u001b[1;32m    133\u001b[0m \u001b[38;5;124;03mArgs:\u001b[39;00m\n\u001b[0;32m   (...)\u001b[0m\n\u001b[1;32m    150\u001b[0m \u001b[38;5;124;03m        Table containing the metadata of the selected objects\u001b[39;00m\n\u001b[1;32m    151\u001b[0m \u001b[38;5;124;03m\"\"\"\u001b[39;00m\n\u001b[1;32m    152\u001b[0m userprint(\u001b[38;5;124m'\u001b[39m\u001b[38;5;124mReading catalog from \u001b[39m\u001b[38;5;124m'\u001b[39m, drq_filename)\n\u001b[0;32m--> 153\u001b[0m catalog \u001b[38;5;241m=\u001b[39m Table(\u001b[43mfitsio\u001b[49m\u001b[38;5;241;43m.\u001b[39;49m\u001b[43mread\u001b[49m\u001b[43m(\u001b[49m\u001b[43mdrq_filename\u001b[49m\u001b[43m,\u001b[49m\u001b[43m \u001b[49m\u001b[43mext\u001b[49m\u001b[38;5;241;43m=\u001b[39;49m\u001b[38;5;241;43m1\u001b[39;49m\u001b[43m)\u001b[49m)\n\u001b[1;32m    155\u001b[0m keep_columns \u001b[38;5;241m=\u001b[39m [\u001b[38;5;124m'\u001b[39m\u001b[38;5;124mRA\u001b[39m\u001b[38;5;124m'\u001b[39m, \u001b[38;5;124m'\u001b[39m\u001b[38;5;124mDEC\u001b[39m\u001b[38;5;124m'\u001b[39m, \u001b[38;5;124m'\u001b[39m\u001b[38;5;124mZ\u001b[39m\u001b[38;5;124m'\u001b[39m]\n\u001b[1;32m    157\u001b[0m \u001b[38;5;28;01mif\u001b[39;00m \u001b[38;5;124m'\u001b[39m\u001b[38;5;124mdesi\u001b[39m\u001b[38;5;124m'\u001b[39m \u001b[38;5;129;01min\u001b[39;00m mode \u001b[38;5;129;01mand\u001b[39;00m \u001b[38;5;124m'\u001b[39m\u001b[38;5;124mTARGETID\u001b[39m\u001b[38;5;124m'\u001b[39m \u001b[38;5;129;01min\u001b[39;00m catalog\u001b[38;5;241m.\u001b[39mcolnames:\n",
      "File \u001b[0;32m~/.local/lib/python3.10/site-packages/fitsio/fitslib.py:139\u001b[0m, in \u001b[0;36mread\u001b[0;34m(filename, ext, extver, columns, rows, header, case_sensitive, upper, lower, vstorage, verbose, trim_strings, **keys)\u001b[0m\n\u001b[1;32m    136\u001b[0m \u001b[38;5;28;01mif\u001b[39;00m rows \u001b[38;5;129;01mis\u001b[39;00m \u001b[38;5;129;01mnot\u001b[39;00m \u001b[38;5;28;01mNone\u001b[39;00m:\n\u001b[1;32m    137\u001b[0m     read_kwargs[\u001b[38;5;124m'\u001b[39m\u001b[38;5;124mrows\u001b[39m\u001b[38;5;124m'\u001b[39m] \u001b[38;5;241m=\u001b[39m rows\n\u001b[0;32m--> 139\u001b[0m \u001b[38;5;28;01mwith\u001b[39;00m \u001b[43mFITS\u001b[49m\u001b[43m(\u001b[49m\u001b[43mfilename\u001b[49m\u001b[43m,\u001b[49m\u001b[43m \u001b[49m\u001b[38;5;241;43m*\u001b[39;49m\u001b[38;5;241;43m*\u001b[39;49m\u001b[43mkwargs\u001b[49m\u001b[43m)\u001b[49m \u001b[38;5;28;01mas\u001b[39;00m fits:\n\u001b[1;32m    141\u001b[0m     \u001b[38;5;28;01mif\u001b[39;00m ext \u001b[38;5;129;01mis\u001b[39;00m \u001b[38;5;28;01mNone\u001b[39;00m:\n\u001b[1;32m    142\u001b[0m         \u001b[38;5;28;01mfor\u001b[39;00m i \u001b[38;5;129;01min\u001b[39;00m xrange(\u001b[38;5;28mlen\u001b[39m(fits)):\n",
      "File \u001b[0;32m~/.local/lib/python3.10/site-packages/fitsio/fitslib.py:520\u001b[0m, in \u001b[0;36mFITS.__init__\u001b[0;34m(self, filename, mode, lower, upper, trim_strings, vstorage, case_sensitive, iter_row_buffer, write_bitcols, ignore_empty, verbose, clobber, **keys)\u001b[0m\n\u001b[1;32m    517\u001b[0m             create \u001b[38;5;241m=\u001b[39m \u001b[38;5;241m1\u001b[39m\n\u001b[1;32m    519\u001b[0m \u001b[38;5;28mself\u001b[39m\u001b[38;5;241m.\u001b[39m_did_create \u001b[38;5;241m=\u001b[39m (create \u001b[38;5;241m==\u001b[39m \u001b[38;5;241m1\u001b[39m)\n\u001b[0;32m--> 520\u001b[0m \u001b[38;5;28mself\u001b[39m\u001b[38;5;241m.\u001b[39m_FITS \u001b[38;5;241m=\u001b[39m \u001b[43m_fitsio_wrap\u001b[49m\u001b[38;5;241;43m.\u001b[39;49m\u001b[43mFITS\u001b[49m\u001b[43m(\u001b[49m\u001b[43mfilename\u001b[49m\u001b[43m,\u001b[49m\u001b[43m \u001b[49m\u001b[38;5;28;43mself\u001b[39;49m\u001b[38;5;241;43m.\u001b[39;49m\u001b[43mintmode\u001b[49m\u001b[43m,\u001b[49m\u001b[43m \u001b[49m\u001b[43mcreate\u001b[49m\u001b[43m)\u001b[49m\n",
      "\u001b[0;31mOSError\u001b[0m: FITSIO status = 104: could not open the named file\nfailed to find or open the following file: (ffopen)\nCatalogs/DR16Q_v2_S82.fits\n"
     ]
    }
   ],
   "source": [
    "#-- Type of input spectra files: pix, spec, spcframe, spplate, desi\n",
    "mode = 'spplate'\n",
    "\n",
    "folder_with_data = '/global/projecta/projectdirs/sdss/data/sdss/dr16/eboss/spectro/redux/v5_13_0'\n",
    "\n",
    "#-- I created a small version of the catalog containing only the Stripe 82\n",
    "path_to_quasar_catalog = 'Catalogs/DR16Q_v2_S82.fits'\n",
    "#-- I created a small version of the spAll file containing only quasars \n",
    "path_to_spall = 'Catalogs/spAll-v5_13_0-DR16Q_v2.fits'\n",
    "\n",
    "#-- For testing purposes, it is useful to read just a few forests\n",
    "#-- Setting it to None will read all spectra\n",
    "max_number_of_spectra = None\n",
    "#-- For spplate and sp\n",
    "use_only_best_exposure = False\n",
    "\n",
    "(data, num_data, nside,\n",
    "     healpy_pix_ordering) = io.read_data(folder_with_data,\n",
    "                                         path_to_quasar_catalog,\n",
    "                                         mode,\n",
    "                                         z_min = zqso_min,\n",
    "                                         z_max = zqso_max,\n",
    "                                         max_num_spec = max_number_of_spectra,\n",
    "                                         best_obs = use_only_best_exposure,\n",
    "                                         spall = path_to_spall)\n"
   ]
  },
  {
   "cell_type": "code",
   "execution_count": null,
   "id": "1e675ef4",
   "metadata": {},
   "outputs": [],
   "source": []
  }
 ],
 "metadata": {
  "kernelspec": {
   "display_name": "Python 3 (ipykernel)",
   "language": "python",
   "name": "python3"
  },
  "language_info": {
   "codemirror_mode": {
    "name": "ipython",
    "version": 3
   },
   "file_extension": ".py",
   "mimetype": "text/x-python",
   "name": "python",
   "nbconvert_exporter": "python",
   "pygments_lexer": "ipython3",
   "version": "3.10.9"
  }
 },
 "nbformat": 4,
 "nbformat_minor": 5
}
