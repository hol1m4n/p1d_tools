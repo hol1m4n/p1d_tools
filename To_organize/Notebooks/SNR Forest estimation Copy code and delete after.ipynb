{
 "cells": [
  {
   "cell_type": "code",
   "execution_count": 16,
   "id": "1479a67d",
   "metadata": {
    "ExecuteTime": {
     "end_time": "2023-05-23T03:02:10.536456Z",
     "start_time": "2023-05-23T03:02:10.393784Z"
    },
    "scrolled": false
   },
   "outputs": [
    {
     "data": {
      "text/plain": [
       "0         3586/spec-3586-55181-0158.fits\n",
       "1         3586/spec-3586-55181-0188.fits\n",
       "2         3586/spec-3586-55181-0228.fits\n",
       "3         3586/spec-3586-55181-0312.fits\n",
       "4         3586/spec-3586-55181-0320.fits\n",
       "                       ...              \n",
       "168040    7517/spec-7517-56772-0020.fits\n",
       "168041    7517/spec-7517-56772-0024.fits\n",
       "168042    7517/spec-7517-56772-0038.fits\n",
       "168043    7517/spec-7517-56772-0047.fits\n",
       "168044    7517/spec-7517-56772-0053.fits\n",
       "Name: id, Length: 168045, dtype: object"
      ]
     },
     "execution_count": 16,
     "metadata": {},
     "output_type": "execute_result"
    }
   ],
   "source": [
    "import os\n",
    "import os.path\n",
    "import sys\n",
    "import glob\n",
    "import numpy as np\n",
    "import scipy.optimize    as op\n",
    "import matplotlib.pyplot as plt\n",
    "import urllib.request\n",
    "from astropy.io import fits \n",
    "from astropy.table import Table\n",
    "import pandas as pd\n",
    "\n",
    "def redshift(loc):\n",
    "    z = fits.open(loc)\n",
    "    val = z[2].data\n",
    "    z.close()\n",
    "    return val['Z'][0]\n",
    "\n",
    "local_dir=\"/home/colgoat/Jupyter/Entorno/Spec\"\n",
    "file=\"Finalsubcat_DR14.txt\"\n",
    "local_file = os.path.join(local_dir,file)\n",
    "df = pd.read_csv(local_file,delim_whitespace=True, skiprows=0,dtype = {'id':str})\n",
    "catlist = df['id']\n",
    "\n",
    "catlist"
   ]
  },
  {
   "cell_type": "code",
   "execution_count": 17,
   "id": "f5603eb9",
   "metadata": {
    "ExecuteTime": {
     "end_time": "2023-05-23T03:02:14.684524Z",
     "start_time": "2023-05-23T03:02:12.506117Z"
    }
   },
   "outputs": [
    {
     "data": {
      "text/plain": [
       "11"
      ]
     },
     "execution_count": 17,
     "metadata": {},
     "output_type": "execute_result"
    }
   ],
   "source": [
    "direc = \"/home/colgoat/Jupyter/Entorno/Spec/\"\n",
    "si_list = []\n",
    "no_list = []\n",
    "\n",
    "for a in range(len(catlist)):\n",
    "    if (os.path.isfile(direc+catlist[a]) == True):\n",
    "        si_list.append(direc+catlist[a])\n",
    "    else:\n",
    "        no_list.append(direc+catlist[a])\n",
    "\n",
    "np.savetxt('/home/colgoat/Jupyter/Entorno/Spec/found.txt',si_list, fmt='%s', delimiter=',')\n",
    "np.savetxt('/home/colgoat/Jupyter/Entorno/Spec/not_found.txt',no_list, fmt='%s', delimiter=',')\n",
    "\n",
    "len(si_list)"
   ]
  },
  {
   "cell_type": "code",
   "execution_count": 28,
   "id": "bf80272c",
   "metadata": {
    "ExecuteTime": {
     "end_time": "2023-05-23T03:27:21.903430Z",
     "start_time": "2023-05-23T03:27:14.831780Z"
    },
    "scrolled": false
   },
   "outputs": [
    {
     "name": "stderr",
     "output_type": "stream",
     "text": [
      "/home/colgoat/.local/lib/python3.10/site-packages/numpy/core/fromnumeric.py:3432: RuntimeWarning: Mean of empty slice.\n",
      "  return _methods._mean(a, axis=axis, dtype=dtype,\n",
      "/home/colgoat/.local/lib/python3.10/site-packages/numpy/core/_methods.py:190: RuntimeWarning: invalid value encountered in divide\n",
      "  ret = ret.dtype.type(ret / rcount)\n"
     ]
    },
    {
     "data": {
      "text/plain": [
       "['ID: spec-4289-55856-0532 Z_QSO: 2.39217 SubforestSNR: 0.90047354 1.341343 1.8761525 z_forest: 2.0019495 2.1107233 2.2315419',\n",
       " 'ID: spec-4629-55630-0536 Z_QSO: 3.0992098 SubforestSNR: 2.986251 3.203494 3.3270519 z_forest: 2.612967 2.7593408 2.9053457',\n",
       " 'ID: spec-5006-55706-0452 Z_QSO: 2.3611636 SubforestSNR: 0.9722188 1.2114176 1.9686958 z_forest: 1.9740868 2.0822039 2.2019148',\n",
       " 'ID: spec-5448-56013-0144 Z_QSO: 2.305159 SubforestSNR: 1.9284124 2.9875946 4.6245346 z_forest: 1.9514673 2.0308285 2.1489043',\n",
       " 'ID: spec-5801-56328-0944 Z_QSO: 3.1290314 SubforestSNR: 2.843162 2.3872023 2.405431 z_forest: 2.6392646 2.7862709 2.9337773',\n",
       " 'ID: spec-6138-56598-0467 Z_QSO: 2.2299812 SubforestSNR: nan 3.719985 6.631879 z_forest: nan 1.9754353 2.0772264',\n",
       " 'ID: spec-6182-56190-0718 Z_QSO: 2.9955041 SubforestSNR: 5.6637664 5.7456937 4.000906 z_forest: 2.5217943 2.6640499 2.8063595',\n",
       " 'ID: spec-6253-56574-0924 Z_QSO: 2.3892016 SubforestSNR: 0.5887586 0.8315658 1.779615 z_forest: 2.0081327 2.1082196 2.2289362',\n",
       " 'ID: spec-6431-56311-0530 Z_QSO: 2.2933712 SubforestSNR: nan 1.254436 2.5764081 z_forest: nan 2.0248744 2.137688',\n",
       " 'ID: spec-6604-56337-0658 Z_QSO: 2.489614 SubforestSNR: 2.673146 3.437641 4.0797906 z_forest: 2.075842 2.2000837 2.3243732',\n",
       " 'ID: spec-7107-56740-0667 Z_QSO: 3.2482996 SubforestSNR: 3.6689537 2.600749 2.9002452 z_forest: 2.744671 2.8959348 3.0472448']"
      ]
     },
     "execution_count": 28,
     "metadata": {},
     "output_type": "execute_result"
    }
   ],
   "source": [
    "limits = [1050, 1093.3, 1136.6, 1180] # (Three forest subdivisions) & The Lyman-a line\n",
    "lya = 1215.67\n",
    "snr = [0,0,0]\n",
    "z_for = [0,0,0]\n",
    "SNR_F = []\n",
    "\n",
    "for a in range(11):\n",
    "    file = fits.open(si_list[a])\n",
    "    spectra = file[1].data\n",
    "    for b in range(3):\n",
    "        wave_cut=((10**spectra['loglam'])>(1. + redshift(si_list[a])) * limits[b]) \\\n",
    "        & ((10**spectra['loglam'])<(1. + redshift(si_list[a])) * limits[b+1])\n",
    "        \n",
    "        forest = spectra[wave_cut]\n",
    "        \n",
    "        raw_snr = forest['flux'] * np.sqrt(forest['ivar'])\n",
    "        \n",
    "        snr[b] = np.mean(raw_snr)\n",
    "        \n",
    "        raw_z = ((10**forest['loglam'])/lya)-1\n",
    "        \n",
    "        z_for[b] = np.mean(raw_z)\n",
    "        \n",
    "    file.close()   \n",
    "    SNR_F.append(\"ID: \" + si_list[a][40:60]+\" Z_QSO: \"+str(redshift(si_list[a]))+\" SubforestSNR: \" \\\n",
    "    +str(snr[0])+\" \"+str(snr[1])+\" \"+str(snr[2])+\" z_forest: \"+str(z_for[0])+\" \"+str(z_for[1])+\" \"+str(z_for[2]))\n",
    "    \n",
    "    snr = [0,0,0]\n",
    "    z_for = [0,0,0]\n",
    "    \n",
    "SNR_F\n",
    "\n"
   ]
  },
  {
   "cell_type": "code",
   "execution_count": null,
   "id": "f66d2672",
   "metadata": {},
   "outputs": [],
   "source": []
  }
 ],
 "metadata": {
  "kernelspec": {
   "display_name": "Python 3 (ipykernel)",
   "language": "python",
   "name": "python3"
  },
  "language_info": {
   "codemirror_mode": {
    "name": "ipython",
    "version": 3
   },
   "file_extension": ".py",
   "mimetype": "text/x-python",
   "name": "python",
   "nbconvert_exporter": "python",
   "pygments_lexer": "ipython3",
   "version": "3.11.3"
  }
 },
 "nbformat": 4,
 "nbformat_minor": 5
}
