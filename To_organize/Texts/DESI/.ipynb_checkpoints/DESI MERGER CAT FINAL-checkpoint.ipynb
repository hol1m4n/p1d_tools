{
 "cells": [
  {
   "cell_type": "code",
   "execution_count": 1,
   "id": "14527afc",
   "metadata": {
    "ExecuteTime": {
     "end_time": "2023-08-26T21:21:32.973117Z",
     "start_time": "2023-08-26T21:21:22.197584Z"
    }
   },
   "outputs": [],
   "source": [
    "# Importing libraries \n",
    "import os\n",
    "import sys\n",
    "import glob\n",
    "import numpy as np\n",
    "import scipy.optimize as op\n",
    "import matplotlib.pyplot as plt\n",
    "import urllib.request\n",
    "from astropy.io import fits\n",
    "from astropy.table import Table\n",
    "from astropy.table import vstack\n",
    "from astropy.io import fits\n",
    "import pandas as pd\n",
    "import urllib.request\n",
    "import requests\n",
    "import time"
   ]
  },
  {
   "cell_type": "code",
   "execution_count": 2,
   "id": "91ec06fd",
   "metadata": {
    "ExecuteTime": {
     "end_time": "2023-08-26T21:21:37.539033Z",
     "start_time": "2023-08-26T21:21:32.976975Z"
    }
   },
   "outputs": [
    {
     "name": "stdout",
     "output_type": "stream",
     "text": [
      "\n",
      "\n",
      "---------------------------------------------\n",
      "\n",
      "\n"
     ]
    },
    {
     "name": "stderr",
     "output_type": "stream",
     "text": [
      "WARNING: UnitsWarning: 'nanomaggy' did not parse as fits unit: At col 0, Unit 'nanomaggy' not supported by the FITS standard.  If this is meant to be a custom unit, define it with 'u.def_unit'. To have it recognized inside a file reader or other code, enable it with 'u.add_enabled_units'. For details, see https://docs.astropy.org/en/latest/units/combining_and_defining.html [astropy.units.core]\n",
      "WARNING: UnitsWarning: 'nanomaggy^-2' did not parse as fits unit: At col 0, Unit 'nanomaggy' not supported by the FITS standard.  If this is meant to be a custom unit, define it with 'u.def_unit'. To have it recognized inside a file reader or other code, enable it with 'u.add_enabled_units'. For details, see https://docs.astropy.org/en/latest/units/combining_and_defining.html [astropy.units.core]\n"
     ]
    },
    {
     "name": "stdout",
     "output_type": "stream",
     "text": [
      "Number of spectra in SV1:  11853\n",
      "Number of spectra in SV3:  14910\n",
      "Total number of DESI EDR spectra (SV1 & SV3) to be used:  26763\n"
     ]
    },
    {
     "name": "stderr",
     "output_type": "stream",
     "text": [
      "WARNING: MergeConflictWarning: Cannot merge meta key 'EXTNAME' types <class 'str'> and <class 'str'>, choosing EXTNAME='BAL_SV3_DARK' [astropy.utils.metadata]\n"
     ]
    }
   ],
   "source": [
    "#Getting the individual coadded files names\n",
    "local_dir = \"/home/colgoat/spc_DESIedr/\" #path to the catalogs\n",
    "pn_sv1 = \"https://data.desi.lbl.gov/public/edr/spectro/redux/fuji/healpix/sv1/dark/\" # File database link for sv1\n",
    "pn_sv3 = \"https://data.desi.lbl.gov/public/edr/spectro/redux/fuji/healpix/sv3/dark/\" # File database link for sv3\n",
    "EDR_qsolist = [] # List of spectra of interest from DESI EDR\n",
    "print(\"\\n\")\n",
    "print(\"---------------------------------------------\")\n",
    "print(\"\\n\")\n",
    "file1 = \"QSO_cat_fuji_sv1_dark_bal_mask_v1.0.fits\" # Name of the first catalog (sv1)\n",
    "lc_sv1 = os.path.join(local_dir,file1) # lc_sv1 = Local file sv1\n",
    "fc_sv1 = fits.open(lc_sv1) # fc_sv1 = Open .fits catalog file of sv1\n",
    "SV1 = Table.read(fc_sv1) # SV1 = Reading the file of SV1 as a BinTable \n",
    "q_sv1 = (SV1['Z']>=2.1) & (SV1['PROGRAM']=='dark') # q_sv1 = Query from main catalog (filtering)\n",
    "catfil_sv1 = SV1[q_sv1] # catfil_sv1 = Filtered catalog sv1\n",
    "catfil_sv1_hpix = catfil_sv1.group_by(\"HPXPIXEL\") # catfil_sv1 = Grouping filtered catalog by HEALPIX criteria\n",
    "HPX_sv1 = catfil_sv1_hpix[\"HPXPIXEL\"]/100 # HPX_sv1 = Getting the healpix ID for path on database\n",
    "print(\"Number of spectra in SV1: \",len(catfil_sv1)) # Showing the number of targets on screen\n",
    "for p,m in zip(HPX_sv1,catfil_sv1_hpix[\"HPXPIXEL\"]): # Adding selected Targets to the list\n",
    "    EDR_qsolist.append(pn_sv1+str(int(p))+\"/\"+str(m)+\"/coadd-sv1-dark-\"+str(m)+\".fits\")\n",
    "fc_sv1.close()\n",
    "file2 = \"QSO_cat_fuji_sv3_dark_bal_mask_v1.0.fits\" # Name of the first catalog (sv3)\n",
    "lc_sv3 = os.path.join(local_dir,file2) # lc_sv3 = Local file sv3\n",
    "fc_sv3 = fits.open(lc_sv3) # fc_sv3 = Open .fits catalog file of sv3\n",
    "SV3 = Table.read(fc_sv3) # SV3 = Reading the file of SV3 as a BinTable\n",
    "q_sv3 = (SV3['Z']>=2.1) & (SV3['PROGRAM']=='dark') # q_sv3 = Query from main catalog (filtering)\n",
    "catfil_sv3 = SV3[q_sv3] # catfil_sv3 = Filtered catalog sv3\n",
    "catfil_sv3_hpix = catfil_sv3.group_by(\"HPXPIXEL\") # catfil_sv3 = Grouping filtered catalog by HEALPIX criteria\n",
    "HPX_sv3 = catfil_sv3_hpix[\"HPXPIXEL\"]/100 # HPX_sv3 = Getting the healpix ID for path on database\n",
    "print(\"Number of spectra in SV3: \",len(catfil_sv3))\n",
    "for p,m in zip(HPX_sv3,catfil_sv3_hpix[\"HPXPIXEL\"]): # Adding selected Targets to the list\n",
    "    EDR_qsolist.append(pn_sv3+str(int(p))+\"/\"+str(m)+\"/coadd-sv3-dark-\"+str(m)+\".fits\")\n",
    "fc_sv3.close()\n",
    "EDRcat_stk = vstack(([catfil_sv1,catfil_sv3])) # EDR filtered catalogs stacked for both surveys and sorted\n",
    "EDRcat_stk.sort(['TARGETID','SURVEY'])\n",
    "print(\"Total number of DESI EDR spectra (SV1 & SV3) to be used: \",len(EDR_qsolist))"
   ]
  },
  {
   "cell_type": "markdown",
   "id": "bcce9696",
   "metadata": {},
   "source": [
    "## First Survey (SV1)"
   ]
  },
  {
   "cell_type": "code",
   "execution_count": 3,
   "id": "11fbdb90",
   "metadata": {
    "ExecuteTime": {
     "end_time": "2023-08-26T21:23:05.810507Z",
     "start_time": "2023-08-26T21:21:37.542508Z"
    }
   },
   "outputs": [
    {
     "data": {
      "text/plain": [
       "374897"
      ]
     },
     "execution_count": 3,
     "metadata": {},
     "output_type": "execute_result"
    }
   ],
   "source": [
    "maincat = Table.read(fits.open('/home/colgoat/spc_DESIedr/zall-pix-edr-vac.fits')[1])\n",
    "maincat = maincat[(maincat['PROGRAM']=='dark') & (maincat['SURVEY']=='sv1')] # | (cor_cat['SURVEY']=='sv3'))]\n",
    "maincat.sort(['TARGETID'])\n",
    "len(maincat)"
   ]
  },
  {
   "cell_type": "code",
   "execution_count": 4,
   "id": "a7265944",
   "metadata": {
    "ExecuteTime": {
     "end_time": "2023-08-26T21:23:05.906586Z",
     "start_time": "2023-08-26T21:23:05.841547Z"
    }
   },
   "outputs": [
    {
     "data": {
      "text/plain": [
       "11853"
      ]
     },
     "execution_count": 4,
     "metadata": {},
     "output_type": "execute_result"
    }
   ],
   "source": [
    "catfil_sv1.sort(['TARGETID'])\n",
    "len(catfil_sv1)"
   ]
  },
  {
   "cell_type": "code",
   "execution_count": 5,
   "id": "86128efe",
   "metadata": {
    "ExecuteTime": {
     "end_time": "2023-08-26T21:23:06.443701Z",
     "start_time": "2023-08-26T21:23:05.909665Z"
    }
   },
   "outputs": [
    {
     "data": {
      "text/plain": [
       "11853"
      ]
     },
     "execution_count": 5,
     "metadata": {},
     "output_type": "execute_result"
    }
   ],
   "source": [
    "MC_TID = np.array(maincat['TARGETID']) # Main cat Target ID\n",
    "SV1_TID = np.array(catfil_sv1['TARGETID']) # SV1 cat Target ID\n",
    "A = np.intersect1d(MC_TID,SV1_TID)\n",
    "mask1 = np.isin(MC_TID,A)\n",
    "F1 = maincat[mask1]\n",
    "len(F1)"
   ]
  },
  {
   "cell_type": "code",
   "execution_count": 6,
   "id": "b5b3dce5",
   "metadata": {
    "ExecuteTime": {
     "end_time": "2023-08-26T21:23:07.139854Z",
     "start_time": "2023-08-26T21:23:06.447155Z"
    },
    "scrolled": false
   },
   "outputs": [
    {
     "data": {
      "text/html": [
       "<div>\n",
       "<style scoped>\n",
       "    .dataframe tbody tr th:only-of-type {\n",
       "        vertical-align: middle;\n",
       "    }\n",
       "\n",
       "    .dataframe tbody tr th {\n",
       "        vertical-align: top;\n",
       "    }\n",
       "\n",
       "    .dataframe thead th {\n",
       "        text-align: right;\n",
       "    }\n",
       "</style>\n",
       "<table border=\"1\" class=\"dataframe\">\n",
       "  <thead>\n",
       "    <tr style=\"text-align: right;\">\n",
       "      <th></th>\n",
       "      <th>MCID</th>\n",
       "      <th>LN</th>\n",
       "      <th>SV1ID</th>\n",
       "    </tr>\n",
       "  </thead>\n",
       "  <tbody>\n",
       "    <tr>\n",
       "      <th>0</th>\n",
       "      <td>39627126193784363</td>\n",
       "      <td>20210212</td>\n",
       "      <td>39627126193784363</td>\n",
       "    </tr>\n",
       "    <tr>\n",
       "      <th>1</th>\n",
       "      <td>39627131495384271</td>\n",
       "      <td>20210212</td>\n",
       "      <td>39627131495384271</td>\n",
       "    </tr>\n",
       "    <tr>\n",
       "      <th>2</th>\n",
       "      <td>39627131507969517</td>\n",
       "      <td>20210212</td>\n",
       "      <td>39627131507969517</td>\n",
       "    </tr>\n",
       "    <tr>\n",
       "      <th>3</th>\n",
       "      <td>39627131507970322</td>\n",
       "      <td>20210212</td>\n",
       "      <td>39627131507970322</td>\n",
       "    </tr>\n",
       "    <tr>\n",
       "      <th>4</th>\n",
       "      <td>39627136847319542</td>\n",
       "      <td>20210212</td>\n",
       "      <td>39627136847319542</td>\n",
       "    </tr>\n",
       "    <tr>\n",
       "      <th>...</th>\n",
       "      <td>...</td>\n",
       "      <td>...</td>\n",
       "      <td>...</td>\n",
       "    </tr>\n",
       "    <tr>\n",
       "      <th>11848</th>\n",
       "      <td>616094317391381068</td>\n",
       "      <td>20210306</td>\n",
       "      <td>616094317391381068</td>\n",
       "    </tr>\n",
       "    <tr>\n",
       "      <th>11849</th>\n",
       "      <td>616094318045692832</td>\n",
       "      <td>20210204</td>\n",
       "      <td>616094318045692832</td>\n",
       "    </tr>\n",
       "    <tr>\n",
       "      <th>11850</th>\n",
       "      <td>616094319358509095</td>\n",
       "      <td>20210204</td>\n",
       "      <td>616094319358509095</td>\n",
       "    </tr>\n",
       "    <tr>\n",
       "      <th>11851</th>\n",
       "      <td>616094319379481599</td>\n",
       "      <td>20210306</td>\n",
       "      <td>616094319379481599</td>\n",
       "    </tr>\n",
       "    <tr>\n",
       "      <th>11852</th>\n",
       "      <td>616094319404646696</td>\n",
       "      <td>20210214</td>\n",
       "      <td>616094319404646696</td>\n",
       "    </tr>\n",
       "  </tbody>\n",
       "</table>\n",
       "<p>11853 rows × 3 columns</p>\n",
       "</div>"
      ],
      "text/plain": [
       "                     MCID        LN               SV1ID\n",
       "0       39627126193784363  20210212   39627126193784363\n",
       "1       39627131495384271  20210212   39627131495384271\n",
       "2       39627131507969517  20210212   39627131507969517\n",
       "3       39627131507970322  20210212   39627131507970322\n",
       "4       39627136847319542  20210212   39627136847319542\n",
       "...                   ...       ...                 ...\n",
       "11848  616094317391381068  20210306  616094317391381068\n",
       "11849  616094318045692832  20210204  616094318045692832\n",
       "11850  616094319358509095  20210204  616094319358509095\n",
       "11851  616094319379481599  20210306  616094319379481599\n",
       "11852  616094319404646696  20210214  616094319404646696\n",
       "\n",
       "[11853 rows x 3 columns]"
      ]
     },
     "execution_count": 6,
     "metadata": {},
     "output_type": "execute_result"
    }
   ],
   "source": [
    "F1TID = np.array(F1['TARGETID'])\n",
    "F1LN = np.array(F1['LASTNIGHT'])\n",
    "data1 = {'MCID': F1TID, 'LN': F1LN, 'SV1ID': SV1_TID}\n",
    "df1 = pd.DataFrame(data = data1)\n",
    "df1"
   ]
  },
  {
   "cell_type": "markdown",
   "id": "018d1fad",
   "metadata": {},
   "source": [
    "Sanity check!"
   ]
  },
  {
   "cell_type": "code",
   "execution_count": 7,
   "id": "d937141c",
   "metadata": {
    "ExecuteTime": {
     "end_time": "2023-08-26T21:23:07.376486Z",
     "start_time": "2023-08-26T21:23:07.143877Z"
    }
   },
   "outputs": [
    {
     "name": "stdout",
     "output_type": "stream",
     "text": [
      "0\n"
     ]
    }
   ],
   "source": [
    "a = 0\n",
    "for i in range(len(df1)):\n",
    "    if (df1['MCID'][i] == df1['SV1ID'][i]):\n",
    "        a = a + 0\n",
    "    else:\n",
    "        a = a + 1\n",
    "print(a)"
   ]
  },
  {
   "cell_type": "markdown",
   "id": "c7cbcb2c",
   "metadata": {},
   "source": [
    "Run once!"
   ]
  },
  {
   "cell_type": "code",
   "execution_count": 8,
   "id": "586bb08a",
   "metadata": {
    "ExecuteTime": {
     "end_time": "2023-08-26T21:23:07.387328Z",
     "start_time": "2023-08-26T21:23:07.379854Z"
    }
   },
   "outputs": [],
   "source": [
    "#catfil_sv1.colnames\n",
    "#catfil_sv1.colnames[64] = 'PROGRAM'\n",
    "catfil_sv1.add_column(data1['LN'], name='LASTNIGHT', index=65)"
   ]
  },
  {
   "cell_type": "markdown",
   "id": "38bba227",
   "metadata": {},
   "source": [
    "Verification for SV1"
   ]
  },
  {
   "cell_type": "code",
   "execution_count": 9,
   "id": "7fd40ebc",
   "metadata": {
    "ExecuteTime": {
     "end_time": "2023-08-26T21:23:07.542275Z",
     "start_time": "2023-08-26T21:23:07.391458Z"
    }
   },
   "outputs": [
    {
     "data": {
      "text/html": [
       "<div><i>Table length=11853</i>\n",
       "<table id=\"table139989363276144\" class=\"table-striped table-bordered table-condensed\">\n",
       "<thead><tr><th>TARGETID</th><th>Z</th><th>ZERR</th><th>ZWARN</th><th>SPECTYPE</th><th>COADD_FIBERSTATUS</th><th>TARGET_RA</th><th>TARGET_DEC</th><th>MORPHTYPE</th><th>EBV</th><th>FLUX_G</th><th>FLUX_R</th><th>FLUX_Z</th><th>FLUX_W1</th><th>FLUX_W2</th><th>FLUX_IVAR_G</th><th>FLUX_IVAR_R</th><th>FLUX_IVAR_Z</th><th>FLUX_IVAR_W1</th><th>FLUX_IVAR_W2</th><th>MW_TRANSMISSION_G</th><th>MW_TRANSMISSION_R</th><th>MW_TRANSMISSION_Z</th><th>MW_TRANSMISSION_W1</th><th>MW_TRANSMISSION_W2</th><th>PROBA_RF</th><th>MASKBITS</th><th>SV1_DESI_TARGET</th><th>SV1_SCND_TARGET</th><th>DESI_TARGET</th><th>COADD_NUMEXP</th><th>COADD_EXPTIME</th><th>CMX_TARGET</th><th>SV2_DESI_TARGET</th><th>SV3_DESI_TARGET</th><th>SV2_SCND_TARGET</th><th>SV3_SCND_TARGET</th><th>SCND_TARGET</th><th>TSNR2_LYA</th><th>TSNR2_QSO</th><th>DELTA_CHI2_MGII</th><th>A_MGII</th><th>SIGMA_MGII</th><th>B_MGII</th><th>VAR_A_MGII</th><th>VAR_SIGMA_MGII</th><th>VAR_B_MGII</th><th>Z_RR</th><th>Z_QN</th><th>C_LYA</th><th>C_CIV</th><th>C_CIII</th><th>C_MgII</th><th>C_Hbeta</th><th>C_Halpha</th><th>Z_LYA</th><th>Z_CIV</th><th>Z_CIII</th><th>Z_MgII</th><th>Z_Hbeta</th><th>Z_Halpha</th><th>QSO_MASKBITS</th><th>HPXPIXEL</th><th>SURVEY</th><th>PROGRAM</th><th>LASTNIGHT</th><th>PCA_COEFFS</th><th>PCA_CHI2</th><th>BAL_PROB</th><th>BI_CIV</th><th>ERR_BI_CIV</th><th>NCIV_2000</th><th>VMIN_CIV_2000</th><th>VMAX_CIV_2000</th><th>POSMIN_CIV_2000</th><th>FMIN_CIV_2000</th><th>AI_CIV</th><th>ERR_AI_CIV</th><th>NCIV_450</th><th>VMIN_CIV_450</th><th>VMAX_CIV_450</th><th>POSMIN_CIV_450</th><th>FMIN_CIV_450</th><th>BI_SIIV</th><th>ERR_BI_SIIV</th><th>NSIIV_2000</th><th>VMIN_SIIV_2000</th><th>VMAX_SIIV_2000</th><th>POSMIN_SIIV_2000</th><th>FMIN_SIIV_2000</th><th>AI_SIIV</th><th>ERR_AI_SIIV</th><th>NSIIV_450</th><th>VMIN_SIIV_450</th><th>VMAX_SIIV_450</th><th>POSMIN_SIIV_450</th><th>FMIN_SIIV_450</th><th>BALMASK</th><th>Z_MASK</th><th>ZERR_MASK</th><th>ZWARN_MASK</th><th>CHI2_MASK</th><th>DELTACHI2_MASK</th><th>SPECTYPE_MASK</th><th>SNR_CIV</th></tr></thead>\n",
       "<thead><tr><th></th><th></th><th></th><th></th><th></th><th></th><th>deg</th><th>deg</th><th></th><th>mag</th><th>nanomaggy</th><th>nanomaggy</th><th>nanomaggy</th><th>nanomaggy</th><th>nanomaggy</th><th>nanomaggy^-2</th><th>nanomaggy^-2</th><th>nanomaggy^-2</th><th>nanomaggy^-2</th><th>nanomaggy^-2</th><th></th><th></th><th></th><th></th><th></th><th></th><th></th><th></th><th></th><th></th><th></th><th></th><th></th><th></th><th></th><th></th><th></th><th></th><th></th><th></th><th></th><th></th><th></th><th></th><th></th><th></th><th></th><th></th><th></th><th></th><th></th><th></th><th></th><th></th><th></th><th></th><th></th><th></th><th></th><th></th><th></th><th></th><th></th><th></th><th></th><th></th><th></th><th></th><th></th><th>km / s</th><th>km / s</th><th></th><th>km / s</th><th>km / s</th><th>km / s</th><th></th><th>km / s</th><th>km / s</th><th></th><th>km / s</th><th>km / s</th><th>km / s</th><th></th><th>km / s</th><th>km / s</th><th></th><th>km / s</th><th>km / s</th><th>km / s</th><th></th><th>km / s</th><th>km / s</th><th></th><th>km / s</th><th>km / s</th><th>km / s</th><th></th><th></th><th></th><th></th><th></th><th></th><th></th><th></th><th></th></tr></thead>\n",
       "<thead><tr><th>int64</th><th>float64</th><th>float64</th><th>int64</th><th>str6</th><th>int32</th><th>float64</th><th>float64</th><th>str4</th><th>float32</th><th>float32</th><th>float32</th><th>float32</th><th>float32</th><th>float32</th><th>float32</th><th>float32</th><th>float32</th><th>float32</th><th>float32</th><th>float64</th><th>float64</th><th>float64</th><th>float64</th><th>float64</th><th>float64</th><th>int16</th><th>int64</th><th>int64</th><th>int64</th><th>int16</th><th>float32</th><th>int64</th><th>int64</th><th>int64</th><th>int64</th><th>int64</th><th>int64</th><th>float32</th><th>float32</th><th>float32</th><th>float32</th><th>float32</th><th>float32</th><th>float32</th><th>float32</th><th>float32</th><th>float32</th><th>float32</th><th>float32</th><th>float32</th><th>float32</th><th>float32</th><th>float32</th><th>float32</th><th>float32</th><th>float32</th><th>float32</th><th>float32</th><th>float32</th><th>float32</th><th>int32</th><th>int64</th><th>str3</th><th>str4</th><th>int32</th><th>float32[5]</th><th>float32</th><th>float32</th><th>float32</th><th>float32</th><th>int32</th><th>float32[5]</th><th>float32[5]</th><th>float32[5]</th><th>float32[5]</th><th>float32</th><th>float32</th><th>int32</th><th>float32[17]</th><th>float32[17]</th><th>float32[17]</th><th>float32[17]</th><th>float32</th><th>float32</th><th>int32</th><th>float32[5]</th><th>float32[5]</th><th>float32[5]</th><th>float32[5]</th><th>float32</th><th>float32</th><th>int32</th><th>float32[17]</th><th>float32[17]</th><th>float32[17]</th><th>float32[17]</th><th>uint8</th><th>float64</th><th>float64</th><th>int64</th><th>float64</th><th>float64</th><th>str6</th><th>float64</th></tr></thead>\n",
       "<tr><td>39627126193784363</td><td>2.861444156203475</td><td>0.0004390203909165424</td><td>0</td><td>QSO</td><td>0</td><td>163.34224841332946</td><td>-28.383592117072975</td><td>PSF</td><td>0.056114484</td><td>0.22035833</td><td>0.24633299</td><td>0.2883746</td><td>5.040667</td><td>3.8000672</td><td>1079.8296</td><td>834.0869</td><td>183.63834</td><td>3.4844775</td><td>0.7739383</td><td>0.8287334193652452</td><td>0.8287334193652452</td><td>0.8287334193652452</td><td>0.8287334193652452</td><td>0.8287334193652452</td><td>0.2498812813325785</td><td>0</td><td>549755814402</td><td>0</td><td>0</td><td>19</td><td>17061.107</td><td>0</td><td>0</td><td>0</td><td>0</td><td>0</td><td>0</td><td>429.65128</td><td>131.00398</td><td>--</td><td>--</td><td>--</td><td>--</td><td>--</td><td>--</td><td>--</td><td>2.8614442</td><td>2.8628533</td><td>0.9959417</td><td>0.92074513</td><td>0.5857079</td><td>0.4896148</td><td>0.001158042</td><td>0.0001235028</td><td>2.8628533</td><td>2.8609123</td><td>2.1212556</td><td>2.1074882</td><td>0.36590034</td><td>0.05881108</td><td>10</td><td>38771</td><td>sv1</td><td>dark</td><td>20210212</td><td>3.7389505 .. -1.0375798</td><td>1.8037806</td><td>0.0</td><td>0.0</td><td>0.0</td><td>0</td><td>-1.0 .. -1.0</td><td>-1.0 .. -1.0</td><td>-1.0 .. -1.0</td><td>-1.0 .. -1.0</td><td>0.0</td><td>0.0</td><td>0</td><td>-1.0 .. -1.0</td><td>-1.0 .. -1.0</td><td>-1.0 .. -1.0</td><td>-1.0 .. -1.0</td><td>0.0</td><td>0.0</td><td>0</td><td>-1.0 .. -1.0</td><td>-1.0 .. -1.0</td><td>-1.0 .. -1.0</td><td>-1.0 .. -1.0</td><td>0.0</td><td>0.0</td><td>0</td><td>-1.0 .. -1.0</td><td>-1.0 .. -1.0</td><td>-1.0 .. -1.0</td><td>-1.0 .. -1.0</td><td>0</td><td>-1.0</td><td>-1.0</td><td>-1</td><td>-1.0</td><td>-1.0</td><td>-1</td><td>0.8195935774921809</td></tr>\n",
       "<tr><td>39627131495384271</td><td>2.2484643217033646</td><td>0.0003227390116080642</td><td>0</td><td>GALAXY</td><td>0</td><td>161.91828131658428</td><td>-28.192263156157672</td><td>REX</td><td>0.062367868</td><td>0.38231152</td><td>0.6488977</td><td>1.5420872</td><td>2.10844</td><td>3.2716653</td><td>423.10953</td><td>321.8081</td><td>78.951126</td><td>3.4995875</td><td>0.77653664</td><td>0.8115644671584047</td><td>0.8115644671584047</td><td>0.8115644671584047</td><td>0.8115644671584047</td><td>0.8115644671584047</td><td>0.7119825367890298</td><td>0</td><td>4123168608002</td><td>0</td><td>0</td><td>19</td><td>17061.107</td><td>0</td><td>0</td><td>0</td><td>0</td><td>0</td><td>0</td><td>129.02957</td><td>126.519226</td><td>2.0043762</td><td>103.66812</td><td>3941.6396</td><td>-103.52978</td><td>6101342400000.0</td><td>2206055300000000.0</td><td>6101343000000.0</td><td>0.82062626</td><td>2.2044537</td><td>0.00058004295</td><td>0.000117315016</td><td>0.98509276</td><td>0.35787344</td><td>1.9994082e-05</td><td>7.00337e-07</td><td>2.181541</td><td>2.2812526</td><td>2.2044537</td><td>2.2091928</td><td>0.5625591</td><td>0.061835185</td><td>24</td><td>38776</td><td>sv1</td><td>dark</td><td>20210212</td><td>7.030149 .. -0.04720141</td><td>1.5978751</td><td>0.0</td><td>0.0</td><td>0.0</td><td>0</td><td>-1.0 .. -1.0</td><td>-1.0 .. -1.0</td><td>-1.0 .. -1.0</td><td>-1.0 .. -1.0</td><td>0.0</td><td>0.0</td><td>0</td><td>-1.0 .. -1.0</td><td>-1.0 .. -1.0</td><td>-1.0 .. -1.0</td><td>-1.0 .. -1.0</td><td>0.0</td><td>0.0</td><td>0</td><td>-1.0 .. -1.0</td><td>-1.0 .. -1.0</td><td>-1.0 .. -1.0</td><td>-1.0 .. -1.0</td><td>0.0</td><td>0.0</td><td>0</td><td>-1.0 .. -1.0</td><td>-1.0 .. -1.0</td><td>-1.0 .. -1.0</td><td>-1.0 .. -1.0</td><td>0</td><td>-1.0</td><td>-1.0</td><td>-1</td><td>-1.0</td><td>-1.0</td><td>-1</td><td>0.7660470114283564</td></tr>\n",
       "<tr><td>39627131507969517</td><td>2.33464680293142</td><td>0.0002608130353115237</td><td>0</td><td>QSO</td><td>0</td><td>162.9177792876319</td><td>-28.26687687686011</td><td>PSF</td><td>0.07280108</td><td>0.2906743</td><td>0.20007244</td><td>0.56312853</td><td>8.939368</td><td>15.872808</td><td>571.44104</td><td>512.46173</td><td>119.94766</td><td>3.331404</td><td>0.72458297</td><td>0.783707704082199</td><td>0.783707704082199</td><td>0.783707704082199</td><td>0.783707704082199</td><td>0.783707704082199</td><td>0.1568238693517633</td><td>0</td><td>2748779072002</td><td>0</td><td>0</td><td>19</td><td>17061.107</td><td>0</td><td>0</td><td>0</td><td>0</td><td>0</td><td>0</td><td>264.65802</td><td>129.26712</td><td>7.636312</td><td>1.0038822</td><td>361.42804</td><td>-0.88919437</td><td>4002.6777</td><td>143109660.0</td><td>4004.8918</td><td>2.3346467</td><td>2.3293674</td><td>0.99999976</td><td>0.9999995</td><td>1.0</td><td>1.0</td><td>1.0072326e-05</td><td>9.119165e-06</td><td>2.3290715</td><td>2.3294525</td><td>2.327736</td><td>2.3293674</td><td>0.7193936</td><td>-0.15980369</td><td>10</td><td>38771</td><td>sv1</td><td>dark</td><td>20210212</td><td>4.1117835 .. -0.09368848</td><td>1.42652</td><td>0.0</td><td>0.0</td><td>0.0</td><td>0</td><td>-1.0 .. -1.0</td><td>-1.0 .. -1.0</td><td>-1.0 .. -1.0</td><td>-1.0 .. -1.0</td><td>0.0</td><td>0.0</td><td>0</td><td>-1.0 .. -1.0</td><td>-1.0 .. -1.0</td><td>-1.0 .. -1.0</td><td>-1.0 .. -1.0</td><td>0.0</td><td>0.0</td><td>0</td><td>-1.0 .. -1.0</td><td>-1.0 .. -1.0</td><td>-1.0 .. -1.0</td><td>-1.0 .. -1.0</td><td>0.0</td><td>0.0</td><td>0</td><td>-1.0 .. -1.0</td><td>-1.0 .. -1.0</td><td>-1.0 .. -1.0</td><td>-1.0 .. -1.0</td><td>0</td><td>-1.0</td><td>-1.0</td><td>-1</td><td>-1.0</td><td>-1.0</td><td>-1</td><td>0.8932599670963901</td></tr>\n",
       "<tr><td>39627131507970322</td><td>2.5485485551305027</td><td>0.00021850375537279848</td><td>0</td><td>QSO</td><td>0</td><td>162.96527319225862</td><td>-28.129906664475783</td><td>PSF</td><td>0.07075773</td><td>1.5521915</td><td>1.5672305</td><td>2.0498343</td><td>2.7582824</td><td>-0.37862152</td><td>439.37424</td><td>407.05936</td><td>113.63421</td><td>3.490648</td><td>0.77466345</td><td>0.7890871220747506</td><td>0.7890871220747506</td><td>0.7890871220747506</td><td>0.7890871220747506</td><td>0.7890871220747506</td><td>0.7374692501500248</td><td>0</td><td>824633721602</td><td>0</td><td>0</td><td>19</td><td>17061.107</td><td>0</td><td>0</td><td>0</td><td>0</td><td>0</td><td>0</td><td>417.29892</td><td>139.85483</td><td>--</td><td>--</td><td>--</td><td>--</td><td>--</td><td>--</td><td>--</td><td>2.5485485</td><td>2.5553668</td><td>0.99999875</td><td>1.0</td><td>0.9999976</td><td>0.99999976</td><td>2.0146634e-05</td><td>1.0424913e-05</td><td>2.5542123</td><td>2.5553668</td><td>2.5503817</td><td>2.55558</td><td>-0.20434706</td><td>0.49615356</td><td>10</td><td>38771</td><td>sv1</td><td>dark</td><td>20210212</td><td>15.50722 .. 0.021319406</td><td>1.4977623</td><td>0.0</td><td>0.0</td><td>0.0</td><td>0</td><td>-1.0 .. -1.0</td><td>-1.0 .. -1.0</td><td>-1.0 .. -1.0</td><td>-1.0 .. -1.0</td><td>168.16423</td><td>5.0478888</td><td>1</td><td>1347.2339 .. -1.0</td><td>2045.3514 .. -1.0</td><td>1390.8662 .. -1.0</td><td>-0.27373993 .. -1.0</td><td>0.0</td><td>0.0</td><td>0</td><td>-1.0 .. -1.0</td><td>-1.0 .. -1.0</td><td>-1.0 .. -1.0</td><td>-1.0 .. -1.0</td><td>0.0</td><td>0.0</td><td>0</td><td>-1.0 .. -1.0</td><td>-1.0 .. -1.0</td><td>-1.0 .. -1.0</td><td>-1.0 .. -1.0</td><td>0</td><td>2.5450530665013145</td><td>0.00012228177042953822</td><td>4</td><td>13813.454411387444</td><td>0.0</td><td>QSO</td><td>1.9225935759093555</td></tr>\n",
       "<tr><td>39627136847319542</td><td>2.334165306571836</td><td>0.00011927768655614493</td><td>0</td><td>QSO</td><td>0</td><td>163.32487960346054</td><td>-27.909257960373424</td><td>PSF</td><td>0.06449058</td><td>8.060436</td><td>9.266329</td><td>13.961395</td><td>17.785593</td><td>32.406742</td><td>215.88075</td><td>199.37141</td><td>63.222946</td><td>1.7885725</td><td>0.5398294</td><td>0.8058177000368452</td><td>0.8058177000368452</td><td>0.8058177000368452</td><td>0.8058177000368452</td><td>0.8058177000368452</td><td>0.9981405733823776</td><td>0</td><td>4665733337124491014</td><td>131072</td><td>0</td><td>19</td><td>17061.107</td><td>0</td><td>0</td><td>0</td><td>0</td><td>0</td><td>0</td><td>270.09314</td><td>130.79248</td><td>361.8064</td><td>0.602876</td><td>44.95604</td><td>2.3683345</td><td>0.0016881061</td><td>17.090488</td><td>0.0011731663</td><td>2.3341653</td><td>2.337243</td><td>0.9999999</td><td>0.9999998</td><td>0.99999934</td><td>0.9999992</td><td>2.1405694e-05</td><td>1.9597617e-05</td><td>2.337243</td><td>2.3374805</td><td>2.3341882</td><td>2.333792</td><td>-0.013425438</td><td>0.46398482</td><td>14</td><td>38771</td><td>sv1</td><td>dark</td><td>20210212</td><td>229.6426 .. 3.6772516</td><td>2.3033245</td><td>0.0</td><td>0.0</td><td>0.0</td><td>0</td><td>-1.0 .. -1.0</td><td>-1.0 .. -1.0</td><td>-1.0 .. -1.0</td><td>-1.0 .. -1.0</td><td>258.45255</td><td>2.6098938</td><td>2</td><td>5701.53 .. -1.0</td><td>6444.535 .. -1.0</td><td>5887.2812 .. -1.0</td><td>0.7411206 .. -1.0</td><td>0.0</td><td>0.0</td><td>0</td><td>-1.0 .. -1.0</td><td>-1.0 .. -1.0</td><td>-1.0 .. -1.0</td><td>-1.0 .. -1.0</td><td>0.0</td><td>0.0</td><td>0</td><td>-1.0 .. -1.0</td><td>-1.0 .. -1.0</td><td>-1.0 .. -1.0</td><td>-1.0 .. -1.0</td><td>0</td><td>2.3355071346961145</td><td>8.793429345364795e-05</td><td>4</td><td>28198.15796983242</td><td>0.0</td><td>QSO</td><td>20.436907698978683</td></tr>\n",
       "<tr><td>39627136855706167</td><td>2.3056549208746</td><td>0.0004066152323503047</td><td>0</td><td>GALAXY</td><td>0</td><td>163.7736877725022</td><td>-28.062269445189365</td><td>PSF</td><td>0.055616926</td><td>0.20278943</td><td>0.20011568</td><td>0.13047992</td><td>5.5004673</td><td>7.6691504</td><td>554.9627</td><td>358.52893</td><td>135.10875</td><td>3.411194</td><td>0.7222724</td><td>0.8301149848007436</td><td>0.8301149848007436</td><td>0.8301149848007436</td><td>0.8301149848007436</td><td>0.8301149848007436</td><td>0.04315127735026181</td><td>0</td><td>549755814402</td><td>0</td><td>0</td><td>19</td><td>17061.107</td><td>0</td><td>0</td><td>0</td><td>0</td><td>0</td><td>0</td><td>265.72916</td><td>121.97529</td><td>13.429698</td><td>-96.10703</td><td>4285.7104</td><td>96.11451</td><td>524620860000.0</td><td>259971320000000.0</td><td>524620860000.0</td><td>1.3933244</td><td>2.3134308</td><td>0.90258396</td><td>0.08237478</td><td>0.9878568</td><td>0.9637829</td><td>2.5538478e-05</td><td>8.147446e-06</td><td>2.3072474</td><td>2.3152096</td><td>2.3134308</td><td>2.3136456</td><td>0.8244072</td><td>0.4057671</td><td>24</td><td>38769</td><td>sv1</td><td>dark</td><td>20210212</td><td>0.02332556 .. -0.060189288</td><td>1.5516937</td><td>0.0</td><td>0.0</td><td>0.0</td><td>0</td><td>-1.0 .. -1.0</td><td>-1.0 .. -1.0</td><td>-1.0 .. -1.0</td><td>-1.0 .. -1.0</td><td>0.0</td><td>0.0</td><td>0</td><td>-1.0 .. -1.0</td><td>-1.0 .. -1.0</td><td>-1.0 .. -1.0</td><td>-1.0 .. -1.0</td><td>0.0</td><td>0.0</td><td>0</td><td>-1.0 .. -1.0</td><td>-1.0 .. -1.0</td><td>-1.0 .. -1.0</td><td>-1.0 .. -1.0</td><td>0.0</td><td>0.0</td><td>0</td><td>-1.0 .. -1.0</td><td>-1.0 .. -1.0</td><td>-1.0 .. -1.0</td><td>-1.0 .. -1.0</td><td>0</td><td>-1.0</td><td>-1.0</td><td>-1</td><td>-1.0</td><td>-1.0</td><td>-1</td><td>0.5204190753516182</td></tr>\n",
       "<tr><td>...</td><td>...</td><td>...</td><td>...</td><td>...</td><td>...</td><td>...</td><td>...</td><td>...</td><td>...</td><td>...</td><td>...</td><td>...</td><td>...</td><td>...</td><td>...</td><td>...</td><td>...</td><td>...</td><td>...</td><td>...</td><td>...</td><td>...</td><td>...</td><td>...</td><td>...</td><td>...</td><td>...</td><td>...</td><td>...</td><td>...</td><td>...</td><td>...</td><td>...</td><td>...</td><td>...</td><td>...</td><td>...</td><td>...</td><td>...</td><td>...</td><td>...</td><td>...</td><td>...</td><td>...</td><td>...</td><td>...</td><td>...</td><td>...</td><td>...</td><td>...</td><td>...</td><td>...</td><td>...</td><td>...</td><td>...</td><td>...</td><td>...</td><td>...</td><td>...</td><td>...</td><td>...</td><td>...</td><td>...</td><td>...</td><td>...</td><td>...</td><td>...</td><td>...</td><td>...</td><td>...</td><td>...</td><td>...</td><td>...</td><td>...</td><td>...</td><td>...</td><td>...</td><td>...</td><td>...</td><td>...</td><td>...</td><td>...</td><td>...</td><td>...</td><td>...</td><td>...</td><td>...</td><td>...</td><td>...</td><td>...</td><td>...</td><td>...</td><td>...</td><td>...</td><td>...</td><td>...</td><td>...</td><td>...</td><td>...</td><td>...</td><td>...</td><td>...</td><td>...</td><td>...</td></tr>\n",
       "<tr><td>616094315965317603</td><td>5.137974917136235</td><td>0.0006002420518283906</td><td>1</td><td>QSO</td><td>0</td><td>170.29665476510212</td><td>82.97163824363831</td><td>--</td><td>0.0</td><td>0.0</td><td>0.0</td><td>0.0</td><td>0.0</td><td>0.0</td><td>0.0</td><td>0.0</td><td>0.0</td><td>0.0</td><td>0.0</td><td>1.0</td><td>1.0</td><td>1.0</td><td>1.0</td><td>1.0</td><td>0.997675796508789</td><td>0</td><td>0</td><td>0</td><td>4294967296</td><td>19</td><td>14843.96</td><td>0</td><td>0</td><td>0</td><td>0</td><td>0</td><td>0</td><td>774.41626</td><td>204.64026</td><td>--</td><td>--</td><td>--</td><td>--</td><td>--</td><td>--</td><td>--</td><td>5.1379747</td><td>0.55648273</td><td>0.00014278728</td><td>0.0013085587</td><td>9.496055e-05</td><td>0.0016522353</td><td>0.0003849112</td><td>0.0002101087</td><td>4.3025374</td><td>2.3540084</td><td>3.924598</td><td>0.55648273</td><td>0.55957127</td><td>0.12004923</td><td>2</td><td>8062</td><td>sv1</td><td>dark</td><td>20210306</td><td>0.0 .. 0.0</td><td>0.0</td><td>-99.0</td><td>0.0</td><td>0.0</td><td>0</td><td>0.0 .. 0.0</td><td>0.0 .. 0.0</td><td>0.0 .. 0.0</td><td>0.0 .. 0.0</td><td>0.0</td><td>0.0</td><td>0</td><td>0.0 .. 0.0</td><td>0.0 .. 0.0</td><td>0.0 .. 0.0</td><td>0.0 .. 0.0</td><td>0.0</td><td>0.0</td><td>0</td><td>0.0 .. 0.0</td><td>0.0 .. 0.0</td><td>0.0 .. 0.0</td><td>0.0 .. 0.0</td><td>0.0</td><td>0.0</td><td>0</td><td>0.0 .. 0.0</td><td>0.0 .. 0.0</td><td>0.0 .. 0.0</td><td>0.0 .. 0.0</td><td>5</td><td>-1.0</td><td>-1.0</td><td>-1</td><td>-1.0</td><td>-1.0</td><td>-1</td><td>0.2367086843890445</td></tr>\n",
       "<tr><td>616094317391381068</td><td>4.622389109432799</td><td>0.0010734712999040654</td><td>5</td><td>QSO</td><td>0</td><td>152.47971199068976</td><td>83.49470300369478</td><td>--</td><td>0.0</td><td>0.0</td><td>0.0</td><td>0.0</td><td>0.0</td><td>0.0</td><td>0.0</td><td>0.0</td><td>0.0</td><td>0.0</td><td>0.0</td><td>1.0</td><td>1.0</td><td>1.0</td><td>1.0</td><td>1.0</td><td>0.997675796508789</td><td>0</td><td>0</td><td>0</td><td>4294967296</td><td>2</td><td>1553.3754</td><td>0</td><td>0</td><td>0</td><td>0</td><td>0</td><td>0</td><td>84.77094</td><td>36.03066</td><td>--</td><td>--</td><td>--</td><td>--</td><td>--</td><td>--</td><td>--</td><td>4.6223893</td><td>2.136265</td><td>0.00013706087</td><td>0.00058458647</td><td>0.005788103</td><td>0.0012387107</td><td>4.5857847e-05</td><td>6.252065e-05</td><td>4.8541284</td><td>1.4262965</td><td>2.136265</td><td>2.150957</td><td>0.98576754</td><td>0.3311731</td><td>2</td><td>8147</td><td>sv1</td><td>dark</td><td>20210306</td><td>-1.3760478 .. 0.061793</td><td>1.0367191</td><td>0.0</td><td>0.0</td><td>0.0</td><td>0</td><td>-1.0 .. -1.0</td><td>-1.0 .. -1.0</td><td>-1.0 .. -1.0</td><td>-1.0 .. -1.0</td><td>0.0</td><td>0.0</td><td>0</td><td>-1.0 .. -1.0</td><td>-1.0 .. -1.0</td><td>-1.0 .. -1.0</td><td>-1.0 .. -1.0</td><td>0.0</td><td>0.0</td><td>0</td><td>-1.0 .. -1.0</td><td>-1.0 .. -1.0</td><td>-1.0 .. -1.0</td><td>-1.0 .. -1.0</td><td>0.0</td><td>0.0</td><td>0</td><td>-1.0 .. -1.0</td><td>-1.0 .. -1.0</td><td>-1.0 .. -1.0</td><td>-1.0 .. -1.0</td><td>0</td><td>-1.0</td><td>-1.0</td><td>-1</td><td>-1.0</td><td>-1.0</td><td>-1</td><td>0.34873247873762536</td></tr>\n",
       "<tr><td>616094318045692832</td><td>2.1315028393780797</td><td>0.00038165484079742776</td><td>5</td><td>QSO</td><td>0</td><td>133.77128856427052</td><td>83.81632686293491</td><td>--</td><td>0.0</td><td>0.0</td><td>0.0</td><td>0.0</td><td>0.0</td><td>0.0</td><td>0.0</td><td>0.0</td><td>0.0</td><td>0.0</td><td>0.0</td><td>1.0</td><td>1.0</td><td>1.0</td><td>1.0</td><td>1.0</td><td>0.997675796508789</td><td>0</td><td>0</td><td>0</td><td>4294967296</td><td>11</td><td>9900.561</td><td>0</td><td>0</td><td>0</td><td>0</td><td>0</td><td>0</td><td>369.91943</td><td>143.84598</td><td>8.606501</td><td>0.009635851</td><td>38.266884</td><td>-0.031574536</td><td>0.00048766003</td><td>15039.625</td><td>0.00032095128</td><td>2.1315029</td><td>1.9440756</td><td>0.00015512561</td><td>0.001063296</td><td>0.00050363987</td><td>0.011640287</td><td>3.347683e-05</td><td>1.4459454e-05</td><td>2.814538</td><td>2.8214962</td><td>1.4850944</td><td>1.9440756</td><td>0.14147086</td><td>0.16077627</td><td>2</td><td>8143</td><td>sv1</td><td>dark</td><td>20210204</td><td>2.2026935 .. -0.21752276</td><td>0.9513512</td><td>0.0</td><td>0.0</td><td>0.0</td><td>0</td><td>-1.0 .. -1.0</td><td>-1.0 .. -1.0</td><td>-1.0 .. -1.0</td><td>-1.0 .. -1.0</td><td>0.0</td><td>0.0</td><td>0</td><td>-1.0 .. -1.0</td><td>-1.0 .. -1.0</td><td>-1.0 .. -1.0</td><td>-1.0 .. -1.0</td><td>0.0</td><td>0.0</td><td>0</td><td>-1.0 .. -1.0</td><td>-1.0 .. -1.0</td><td>-1.0 .. -1.0</td><td>-1.0 .. -1.0</td><td>0.0</td><td>0.0</td><td>0</td><td>-1.0 .. -1.0</td><td>-1.0 .. -1.0</td><td>-1.0 .. -1.0</td><td>-1.0 .. -1.0</td><td>0</td><td>-1.0</td><td>-1.0</td><td>-1</td><td>-1.0</td><td>-1.0</td><td>-1</td><td>0.6322519651126809</td></tr>\n",
       "<tr><td>616094319358509095</td><td>3.790011912948501</td><td>0.0010074079036712646</td><td>1</td><td>GALAXY</td><td>0</td><td>143.2195804829999</td><td>84.13225501007828</td><td>--</td><td>0.0</td><td>0.0</td><td>0.0</td><td>0.0</td><td>0.0</td><td>0.0</td><td>0.0</td><td>0.0</td><td>0.0</td><td>0.0</td><td>0.0</td><td>1.0</td><td>1.0</td><td>1.0</td><td>1.0</td><td>1.0</td><td>0.997675796508789</td><td>0</td><td>0</td><td>0</td><td>4294967296</td><td>11</td><td>9900.561</td><td>0</td><td>0</td><td>0</td><td>0</td><td>0</td><td>0</td><td>434.5055</td><td>130.9518</td><td>5.0688505</td><td>-0.14174435</td><td>84.51464</td><td>0.0815478</td><td>0.22010349</td><td>49770.945</td><td>0.23882188</td><td>0.48899174</td><td>3.789538</td><td>0.9730577</td><td>0.99709225</td><td>0.99237484</td><td>8.9826055e-05</td><td>6.6589405e-07</td><td>1.2222662e-06</td><td>3.7843373</td><td>3.789538</td><td>3.7837603</td><td>1.1077429</td><td>0.024394128</td><td>-0.05643516</td><td>24</td><td>8154</td><td>sv1</td><td>dark</td><td>20210204</td><td>0.49001488 .. -0.29049996</td><td>1.1661887</td><td>0.0</td><td>0.0</td><td>0.0</td><td>0</td><td>-1.0 .. -1.0</td><td>-1.0 .. -1.0</td><td>-1.0 .. -1.0</td><td>-1.0 .. -1.0</td><td>0.0</td><td>0.0</td><td>0</td><td>-1.0 .. -1.0</td><td>-1.0 .. -1.0</td><td>-1.0 .. -1.0</td><td>-1.0 .. -1.0</td><td>0.0</td><td>0.0</td><td>0</td><td>-1.0 .. -1.0</td><td>-1.0 .. -1.0</td><td>-1.0 .. -1.0</td><td>-1.0 .. -1.0</td><td>0.0</td><td>0.0</td><td>0</td><td>-1.0 .. -1.0</td><td>-1.0 .. -1.0</td><td>-1.0 .. -1.0</td><td>-1.0 .. -1.0</td><td>0</td><td>-1.0</td><td>-1.0</td><td>-1</td><td>-1.0</td><td>-1.0</td><td>-1</td><td>0.3670923783792454</td></tr>\n",
       "<tr><td>616094319379481599</td><td>5.813123526469343</td><td>0.0005786879464977549</td><td>1</td><td>QSO</td><td>0</td><td>155.16375213740855</td><td>84.33941922186328</td><td>--</td><td>0.0</td><td>0.0</td><td>0.0</td><td>0.0</td><td>0.0</td><td>0.0</td><td>0.0</td><td>0.0</td><td>0.0</td><td>0.0</td><td>0.0</td><td>1.0</td><td>1.0</td><td>1.0</td><td>1.0</td><td>1.0</td><td>0.997675796508789</td><td>0</td><td>0</td><td>0</td><td>4294967296</td><td>19</td><td>14843.96</td><td>0</td><td>0</td><td>0</td><td>0</td><td>0</td><td>0</td><td>573.58026</td><td>159.49986</td><td>--</td><td>--</td><td>--</td><td>--</td><td>--</td><td>--</td><td>--</td><td>5.8131237</td><td>1.9460748</td><td>0.0010377254</td><td>0.0009216733</td><td>0.13008976</td><td>0.010836527</td><td>0.00018433819</td><td>2.8549131e-05</td><td>3.4792936</td><td>1.9135529</td><td>1.9460748</td><td>1.932896</td><td>0.6800207</td><td>0.23661129</td><td>2</td><td>8153</td><td>sv1</td><td>dark</td><td>20210306</td><td>0.0 .. 0.0</td><td>0.0</td><td>-99.0</td><td>0.0</td><td>0.0</td><td>0</td><td>0.0 .. 0.0</td><td>0.0 .. 0.0</td><td>0.0 .. 0.0</td><td>0.0 .. 0.0</td><td>0.0</td><td>0.0</td><td>0</td><td>0.0 .. 0.0</td><td>0.0 .. 0.0</td><td>0.0 .. 0.0</td><td>0.0 .. 0.0</td><td>0.0</td><td>0.0</td><td>0</td><td>0.0 .. 0.0</td><td>0.0 .. 0.0</td><td>0.0 .. 0.0</td><td>0.0 .. 0.0</td><td>0.0</td><td>0.0</td><td>0</td><td>0.0 .. 0.0</td><td>0.0 .. 0.0</td><td>0.0 .. 0.0</td><td>0.0 .. 0.0</td><td>5</td><td>-1.0</td><td>-1.0</td><td>-1</td><td>-1.0</td><td>-1.0</td><td>-1</td><td>0.7948061941466067</td></tr>\n",
       "<tr><td>616094319404646696</td><td>3.836116061122512</td><td>0.0008397858473472297</td><td>1</td><td>GALAXY</td><td>0</td><td>169.16139389538571</td><td>84.18234294774518</td><td>--</td><td>0.0</td><td>0.0</td><td>0.0</td><td>0.0</td><td>0.0</td><td>0.0</td><td>0.0</td><td>0.0</td><td>0.0</td><td>0.0</td><td>0.0</td><td>1.0</td><td>1.0</td><td>1.0</td><td>1.0</td><td>1.0</td><td>0.997675796508789</td><td>0</td><td>0</td><td>0</td><td>4294967296</td><td>17</td><td>13290.584</td><td>0</td><td>0</td><td>0</td><td>0</td><td>0</td><td>0</td><td>376.0161</td><td>127.598656</td><td>18.804201</td><td>507.85434</td><td>49563.27</td><td>-507.86072</td><td>165907810000.0</td><td>394994080000000.0</td><td>165907810000.0</td><td>1.5425358</td><td>3.8319767</td><td>0.9506522</td><td>0.99907744</td><td>0.9787302</td><td>0.0007626543</td><td>9.185645e-06</td><td>8.232039e-06</td><td>3.8398635</td><td>3.8319767</td><td>3.813784</td><td>1.1243407</td><td>0.55622345</td><td>-0.18225203</td><td>24</td><td>8151</td><td>sv1</td><td>dark</td><td>20210214</td><td>-0.06245965 .. -0.27928638</td><td>1.4242396</td><td>0.0</td><td>0.0</td><td>0.0</td><td>0</td><td>-1.0 .. -1.0</td><td>-1.0 .. -1.0</td><td>-1.0 .. -1.0</td><td>-1.0 .. -1.0</td><td>0.0</td><td>0.0</td><td>0</td><td>-1.0 .. -1.0</td><td>-1.0 .. -1.0</td><td>-1.0 .. -1.0</td><td>-1.0 .. -1.0</td><td>0.0</td><td>0.0</td><td>0</td><td>-1.0 .. -1.0</td><td>-1.0 .. -1.0</td><td>-1.0 .. -1.0</td><td>-1.0 .. -1.0</td><td>0.0</td><td>0.0</td><td>0</td><td>-1.0 .. -1.0</td><td>-1.0 .. -1.0</td><td>-1.0 .. -1.0</td><td>-1.0 .. -1.0</td><td>0</td><td>-1.0</td><td>-1.0</td><td>-1</td><td>-1.0</td><td>-1.0</td><td>-1</td><td>0.409872142196808</td></tr>\n",
       "</table></div>"
      ],
      "text/plain": [
       "<Table length=11853>\n",
       "     TARGETID              Z          ... SPECTYPE_MASK       SNR_CIV      \n",
       "                                      ...                                  \n",
       "      int64             float64       ...      str6           float64      \n",
       "------------------ ------------------ ... ------------- -------------------\n",
       " 39627126193784363  2.861444156203475 ...            -1  0.8195935774921809\n",
       " 39627131495384271 2.2484643217033646 ...            -1  0.7660470114283564\n",
       " 39627131507969517   2.33464680293142 ...            -1  0.8932599670963901\n",
       " 39627131507970322 2.5485485551305027 ...           QSO  1.9225935759093555\n",
       " 39627136847319542  2.334165306571836 ...           QSO  20.436907698978683\n",
       " 39627136855706167    2.3056549208746 ...            -1  0.5204190753516182\n",
       "               ...                ... ...           ...                 ...\n",
       "616094315965317603  5.137974917136235 ...            -1  0.2367086843890445\n",
       "616094317391381068  4.622389109432799 ...            -1 0.34873247873762536\n",
       "616094318045692832 2.1315028393780797 ...            -1  0.6322519651126809\n",
       "616094319358509095  3.790011912948501 ...            -1  0.3670923783792454\n",
       "616094319379481599  5.813123526469343 ...            -1  0.7948061941466067\n",
       "616094319404646696  3.836116061122512 ...            -1   0.409872142196808"
      ]
     },
     "execution_count": 9,
     "metadata": {},
     "output_type": "execute_result"
    }
   ],
   "source": [
    "sv1_addcol = catfil_sv1\n",
    "sv1_addcol"
   ]
  },
  {
   "cell_type": "markdown",
   "id": "c60ad507",
   "metadata": {},
   "source": [
    "#### Done for SV1"
   ]
  },
  {
   "cell_type": "markdown",
   "id": "9c4780ae",
   "metadata": {},
   "source": [
    "## Second Survey (SV3)"
   ]
  },
  {
   "cell_type": "code",
   "execution_count": 10,
   "id": "e6b51e93",
   "metadata": {
    "ExecuteTime": {
     "end_time": "2023-08-26T21:23:45.763533Z",
     "start_time": "2023-08-26T21:23:07.549769Z"
    }
   },
   "outputs": [
    {
     "data": {
      "text/plain": [
       "699584"
      ]
     },
     "execution_count": 10,
     "metadata": {},
     "output_type": "execute_result"
    }
   ],
   "source": [
    "maincat = Table.read(fits.open('/home/colgoat/spc_DESIedr/zall-pix-edr-vac.fits')[1])\n",
    "maincat = maincat[(maincat['PROGRAM']=='dark') & (maincat['SURVEY']=='sv3')]\n",
    "maincat.sort(['TARGETID'])\n",
    "len(maincat)"
   ]
  },
  {
   "cell_type": "code",
   "execution_count": 11,
   "id": "9d3864e4",
   "metadata": {
    "ExecuteTime": {
     "end_time": "2023-08-26T21:23:45.877046Z",
     "start_time": "2023-08-26T21:23:45.766698Z"
    }
   },
   "outputs": [
    {
     "data": {
      "text/plain": [
       "14910"
      ]
     },
     "execution_count": 11,
     "metadata": {},
     "output_type": "execute_result"
    }
   ],
   "source": [
    "catfil_sv3.sort(['TARGETID'])\n",
    "len(catfil_sv3)"
   ]
  },
  {
   "cell_type": "code",
   "execution_count": 12,
   "id": "cc8d9841",
   "metadata": {
    "ExecuteTime": {
     "end_time": "2023-08-26T21:23:46.645726Z",
     "start_time": "2023-08-26T21:23:45.880947Z"
    }
   },
   "outputs": [
    {
     "data": {
      "text/plain": [
       "14910"
      ]
     },
     "execution_count": 12,
     "metadata": {},
     "output_type": "execute_result"
    }
   ],
   "source": [
    "MC_TID = np.array(maincat['TARGETID']) # Main cat Target ID\n",
    "SV3_TID = np.array(catfil_sv3['TARGETID']) # SV1 cat Target ID\n",
    "B = np.intersect1d(MC_TID,SV3_TID)\n",
    "mask2 = np.isin(MC_TID,B)\n",
    "F2 = maincat[mask2]\n",
    "len(F2)"
   ]
  },
  {
   "cell_type": "code",
   "execution_count": 13,
   "id": "13b4739b",
   "metadata": {
    "ExecuteTime": {
     "end_time": "2023-08-26T21:23:46.900881Z",
     "start_time": "2023-08-26T21:23:46.649045Z"
    }
   },
   "outputs": [
    {
     "data": {
      "text/html": [
       "<div>\n",
       "<style scoped>\n",
       "    .dataframe tbody tr th:only-of-type {\n",
       "        vertical-align: middle;\n",
       "    }\n",
       "\n",
       "    .dataframe tbody tr th {\n",
       "        vertical-align: top;\n",
       "    }\n",
       "\n",
       "    .dataframe thead th {\n",
       "        text-align: right;\n",
       "    }\n",
       "</style>\n",
       "<table border=\"1\" class=\"dataframe\">\n",
       "  <thead>\n",
       "    <tr style=\"text-align: right;\">\n",
       "      <th></th>\n",
       "      <th>MCID</th>\n",
       "      <th>LN</th>\n",
       "      <th>SV1ID</th>\n",
       "    </tr>\n",
       "  </thead>\n",
       "  <tbody>\n",
       "    <tr>\n",
       "      <th>0</th>\n",
       "      <td>1083386135314440</td>\n",
       "      <td>20210507</td>\n",
       "      <td>1083386135314440</td>\n",
       "    </tr>\n",
       "    <tr>\n",
       "      <th>1</th>\n",
       "      <td>1083393307574272</td>\n",
       "      <td>20210505</td>\n",
       "      <td>1083393307574272</td>\n",
       "    </tr>\n",
       "    <tr>\n",
       "      <th>2</th>\n",
       "      <td>1084093743759365</td>\n",
       "      <td>20210416</td>\n",
       "      <td>1084093743759365</td>\n",
       "    </tr>\n",
       "    <tr>\n",
       "      <th>3</th>\n",
       "      <td>1084393787490304</td>\n",
       "      <td>20210429</td>\n",
       "      <td>1084393787490304</td>\n",
       "    </tr>\n",
       "    <tr>\n",
       "      <th>4</th>\n",
       "      <td>1084458555932679</td>\n",
       "      <td>20210419</td>\n",
       "      <td>1084458555932679</td>\n",
       "    </tr>\n",
       "    <tr>\n",
       "      <th>...</th>\n",
       "      <td>...</td>\n",
       "      <td>...</td>\n",
       "      <td>...</td>\n",
       "    </tr>\n",
       "    <tr>\n",
       "      <th>14905</th>\n",
       "      <td>616094218179314456</td>\n",
       "      <td>20210412</td>\n",
       "      <td>616094218179314456</td>\n",
       "    </tr>\n",
       "    <tr>\n",
       "      <th>14906</th>\n",
       "      <td>616094218179314845</td>\n",
       "      <td>20210406</td>\n",
       "      <td>616094218179314845</td>\n",
       "    </tr>\n",
       "    <tr>\n",
       "      <th>14907</th>\n",
       "      <td>616094218187702398</td>\n",
       "      <td>20210407</td>\n",
       "      <td>616094218187702398</td>\n",
       "    </tr>\n",
       "    <tr>\n",
       "      <th>14908</th>\n",
       "      <td>616094218191896647</td>\n",
       "      <td>20210411</td>\n",
       "      <td>616094218191896647</td>\n",
       "    </tr>\n",
       "    <tr>\n",
       "      <th>14909</th>\n",
       "      <td>616094220507152830</td>\n",
       "      <td>20210417</td>\n",
       "      <td>616094220507152830</td>\n",
       "    </tr>\n",
       "  </tbody>\n",
       "</table>\n",
       "<p>14910 rows × 3 columns</p>\n",
       "</div>"
      ],
      "text/plain": [
       "                     MCID        LN               SV1ID\n",
       "0        1083386135314440  20210507    1083386135314440\n",
       "1        1083393307574272  20210505    1083393307574272\n",
       "2        1084093743759365  20210416    1084093743759365\n",
       "3        1084393787490304  20210429    1084393787490304\n",
       "4        1084458555932679  20210419    1084458555932679\n",
       "...                   ...       ...                 ...\n",
       "14905  616094218179314456  20210412  616094218179314456\n",
       "14906  616094218179314845  20210406  616094218179314845\n",
       "14907  616094218187702398  20210407  616094218187702398\n",
       "14908  616094218191896647  20210411  616094218191896647\n",
       "14909  616094220507152830  20210417  616094220507152830\n",
       "\n",
       "[14910 rows x 3 columns]"
      ]
     },
     "execution_count": 13,
     "metadata": {},
     "output_type": "execute_result"
    }
   ],
   "source": [
    "F2TID = np.array(F2['TARGETID'])\n",
    "F2LN = np.array(F2['LASTNIGHT'])\n",
    "data2 = {'MCID': F2TID, 'LN': F2LN, 'SV1ID': SV3_TID}\n",
    "df2 = pd.DataFrame(data = data2)\n",
    "df2"
   ]
  },
  {
   "cell_type": "markdown",
   "id": "717d4d83",
   "metadata": {},
   "source": [
    "Sanity check!!"
   ]
  },
  {
   "cell_type": "code",
   "execution_count": 14,
   "id": "7490db2a",
   "metadata": {
    "ExecuteTime": {
     "end_time": "2023-08-26T21:23:47.530596Z",
     "start_time": "2023-08-26T21:23:46.905446Z"
    }
   },
   "outputs": [
    {
     "name": "stdout",
     "output_type": "stream",
     "text": [
      "0\n"
     ]
    }
   ],
   "source": [
    "a = 0\n",
    "for i in range(len(df2)):\n",
    "    if (df2['MCID'][i] == df2['SV1ID'][i]):\n",
    "        a = a + 0\n",
    "    else:\n",
    "        a = a + 1\n",
    "print(a)"
   ]
  },
  {
   "cell_type": "markdown",
   "id": "3936914f",
   "metadata": {},
   "source": [
    "Run once!!"
   ]
  },
  {
   "cell_type": "code",
   "execution_count": 15,
   "id": "f41e4f0d",
   "metadata": {
    "ExecuteTime": {
     "end_time": "2023-08-26T21:23:47.541034Z",
     "start_time": "2023-08-26T21:23:47.533803Z"
    }
   },
   "outputs": [],
   "source": [
    "#catfil_sv1.colnames\n",
    "#catfil_sv1.colnames[64] = 'PROGRAM'\n",
    "catfil_sv3.add_column(data2['LN'], name='LASTNIGHT', index=65)"
   ]
  },
  {
   "cell_type": "markdown",
   "id": "7a546a32",
   "metadata": {},
   "source": [
    "Verification for SV3"
   ]
  },
  {
   "cell_type": "code",
   "execution_count": 16,
   "id": "11a3409e",
   "metadata": {
    "ExecuteTime": {
     "end_time": "2023-08-26T21:23:47.717959Z",
     "start_time": "2023-08-26T21:23:47.545056Z"
    }
   },
   "outputs": [
    {
     "data": {
      "text/html": [
       "<div><i>Table length=14910</i>\n",
       "<table id=\"table139988188377680\" class=\"table-striped table-bordered table-condensed\">\n",
       "<thead><tr><th>TARGETID</th><th>Z</th><th>ZERR</th><th>ZWARN</th><th>SPECTYPE</th><th>COADD_FIBERSTATUS</th><th>TARGET_RA</th><th>TARGET_DEC</th><th>MORPHTYPE</th><th>EBV</th><th>FLUX_G</th><th>FLUX_R</th><th>FLUX_Z</th><th>FLUX_W1</th><th>FLUX_W2</th><th>FLUX_IVAR_G</th><th>FLUX_IVAR_R</th><th>FLUX_IVAR_Z</th><th>FLUX_IVAR_W1</th><th>FLUX_IVAR_W2</th><th>MW_TRANSMISSION_G</th><th>MW_TRANSMISSION_R</th><th>MW_TRANSMISSION_Z</th><th>MW_TRANSMISSION_W1</th><th>MW_TRANSMISSION_W2</th><th>PROBA_RF</th><th>MASKBITS</th><th>SV3_DESI_TARGET</th><th>SV3_SCND_TARGET</th><th>DESI_TARGET</th><th>COADD_NUMEXP</th><th>COADD_EXPTIME</th><th>CMX_TARGET</th><th>SV1_DESI_TARGET</th><th>SV2_DESI_TARGET</th><th>SV1_SCND_TARGET</th><th>SV2_SCND_TARGET</th><th>SCND_TARGET</th><th>TSNR2_LYA</th><th>TSNR2_QSO</th><th>DELTA_CHI2_MGII</th><th>A_MGII</th><th>SIGMA_MGII</th><th>B_MGII</th><th>VAR_A_MGII</th><th>VAR_SIGMA_MGII</th><th>VAR_B_MGII</th><th>Z_RR</th><th>Z_QN</th><th>C_LYA</th><th>C_CIV</th><th>C_CIII</th><th>C_MgII</th><th>C_Hbeta</th><th>C_Halpha</th><th>Z_LYA</th><th>Z_CIV</th><th>Z_CIII</th><th>Z_MgII</th><th>Z_Hbeta</th><th>Z_Halpha</th><th>QSO_MASKBITS</th><th>HPXPIXEL</th><th>SURVEY</th><th>PROGRAM</th><th>LASTNIGHT</th><th>PCA_COEFFS</th><th>PCA_CHI2</th><th>BAL_PROB</th><th>BI_CIV</th><th>ERR_BI_CIV</th><th>NCIV_2000</th><th>VMIN_CIV_2000</th><th>VMAX_CIV_2000</th><th>POSMIN_CIV_2000</th><th>FMIN_CIV_2000</th><th>AI_CIV</th><th>ERR_AI_CIV</th><th>NCIV_450</th><th>VMIN_CIV_450</th><th>VMAX_CIV_450</th><th>POSMIN_CIV_450</th><th>FMIN_CIV_450</th><th>BI_SIIV</th><th>ERR_BI_SIIV</th><th>NSIIV_2000</th><th>VMIN_SIIV_2000</th><th>VMAX_SIIV_2000</th><th>POSMIN_SIIV_2000</th><th>FMIN_SIIV_2000</th><th>AI_SIIV</th><th>ERR_AI_SIIV</th><th>NSIIV_450</th><th>VMIN_SIIV_450</th><th>VMAX_SIIV_450</th><th>POSMIN_SIIV_450</th><th>FMIN_SIIV_450</th><th>BALMASK</th><th>Z_MASK</th><th>ZERR_MASK</th><th>ZWARN_MASK</th><th>CHI2_MASK</th><th>DELTACHI2_MASK</th><th>SPECTYPE_MASK</th><th>SNR_CIV</th></tr></thead>\n",
       "<thead><tr><th></th><th></th><th></th><th></th><th></th><th></th><th>deg</th><th>deg</th><th></th><th>mag</th><th>nanomaggy</th><th>nanomaggy</th><th>nanomaggy</th><th>nanomaggy</th><th>nanomaggy</th><th>nanomaggy^-2</th><th>nanomaggy^-2</th><th>nanomaggy^-2</th><th>nanomaggy^-2</th><th>nanomaggy^-2</th><th></th><th></th><th></th><th></th><th></th><th></th><th></th><th></th><th></th><th></th><th></th><th></th><th></th><th></th><th></th><th></th><th></th><th></th><th></th><th></th><th></th><th></th><th></th><th></th><th></th><th></th><th></th><th></th><th></th><th></th><th></th><th></th><th></th><th></th><th></th><th></th><th></th><th></th><th></th><th></th><th></th><th></th><th></th><th></th><th></th><th></th><th></th><th></th><th></th><th>km / s</th><th>km / s</th><th></th><th>km / s</th><th>km / s</th><th>km / s</th><th></th><th>km / s</th><th>km / s</th><th></th><th>km / s</th><th>km / s</th><th>km / s</th><th></th><th>km / s</th><th>km / s</th><th></th><th>km / s</th><th>km / s</th><th>km / s</th><th></th><th>km / s</th><th>km / s</th><th></th><th>km / s</th><th>km / s</th><th>km / s</th><th></th><th></th><th></th><th></th><th></th><th></th><th></th><th></th><th></th></tr></thead>\n",
       "<thead><tr><th>int64</th><th>float64</th><th>float64</th><th>int64</th><th>str6</th><th>int32</th><th>float64</th><th>float64</th><th>str4</th><th>float32</th><th>float32</th><th>float32</th><th>float32</th><th>float32</th><th>float32</th><th>float32</th><th>float32</th><th>float32</th><th>float32</th><th>float32</th><th>float64</th><th>float64</th><th>float64</th><th>float64</th><th>float64</th><th>float64</th><th>int16</th><th>int64</th><th>int64</th><th>int64</th><th>int16</th><th>float32</th><th>int64</th><th>int64</th><th>int64</th><th>int64</th><th>int64</th><th>int64</th><th>float32</th><th>float32</th><th>float32</th><th>float32</th><th>float32</th><th>float32</th><th>float32</th><th>float32</th><th>float32</th><th>float32</th><th>float32</th><th>float32</th><th>float32</th><th>float32</th><th>float32</th><th>float32</th><th>float32</th><th>float32</th><th>float32</th><th>float32</th><th>float32</th><th>float32</th><th>float32</th><th>int32</th><th>int64</th><th>str3</th><th>str4</th><th>int32</th><th>float32[5]</th><th>float32</th><th>float32</th><th>float32</th><th>float32</th><th>int32</th><th>float32[5]</th><th>float32[5]</th><th>float32[5]</th><th>float32[5]</th><th>float32</th><th>float32</th><th>int32</th><th>float32[17]</th><th>float32[17]</th><th>float32[17]</th><th>float32[17]</th><th>float32</th><th>float32</th><th>int32</th><th>float32[5]</th><th>float32[5]</th><th>float32[5]</th><th>float32[5]</th><th>float32</th><th>float32</th><th>int32</th><th>float32[17]</th><th>float32[17]</th><th>float32[17]</th><th>float32[17]</th><th>uint8</th><th>float64</th><th>float64</th><th>int64</th><th>float64</th><th>float64</th><th>str6</th><th>float64</th></tr></thead>\n",
       "<tr><td>1083386135314440</td><td>3.631155815059421</td><td>0.0007740990556025613</td><td>4</td><td>QSO</td><td>0</td><td>150.1172290943953</td><td>3.203639817689895</td><td>--</td><td>0.0</td><td>0.0</td><td>0.0</td><td>0.0</td><td>0.0</td><td>0.0</td><td>0.0</td><td>0.0</td><td>0.0</td><td>0.0</td><td>0.0</td><td>1.0</td><td>1.0</td><td>1.0</td><td>1.0</td><td>1.0</td><td>0.997675796508789</td><td>0</td><td>4611686018427387904</td><td>70368744177664</td><td>0</td><td>4</td><td>5545.4507</td><td>0</td><td>0</td><td>0</td><td>0</td><td>0</td><td>0</td><td>205.45746</td><td>108.59245</td><td>--</td><td>--</td><td>--</td><td>--</td><td>--</td><td>--</td><td>--</td><td>3.6311557</td><td>1.5085001</td><td>0.0007476383</td><td>4.9172184e-05</td><td>0.0020246075</td><td>0.00030511015</td><td>0.00014915048</td><td>0.00031868834</td><td>3.9982815</td><td>4.1089396</td><td>1.5085001</td><td>0.32323426</td><td>0.33692527</td><td>0.22890207</td><td>2</td><td>27259</td><td>sv3</td><td>dark</td><td>20210507</td><td>0.38701344 .. -0.13898505</td><td>1.0797844</td><td>0.0</td><td>0.0</td><td>0.0</td><td>0</td><td>-1.0 .. -1.0</td><td>-1.0 .. -1.0</td><td>-1.0 .. -1.0</td><td>-1.0 .. -1.0</td><td>0.0</td><td>0.0</td><td>0</td><td>-1.0 .. -1.0</td><td>-1.0 .. -1.0</td><td>-1.0 .. -1.0</td><td>-1.0 .. -1.0</td><td>0.0</td><td>0.0</td><td>0</td><td>-1.0 .. -1.0</td><td>-1.0 .. -1.0</td><td>-1.0 .. -1.0</td><td>-1.0 .. -1.0</td><td>0.0</td><td>0.0</td><td>0</td><td>-1.0 .. -1.0</td><td>-1.0 .. -1.0</td><td>-1.0 .. -1.0</td><td>-1.0 .. -1.0</td><td>0</td><td>-1.0</td><td>-1.0</td><td>-1</td><td>-1.0</td><td>-1.0</td><td>-1</td><td>0.49071757215759687</td></tr>\n",
       "<tr><td>1083393307574272</td><td>2.4328130904523575</td><td>0.0015506419586017728</td><td>4</td><td>GALAXY</td><td>0</td><td>218.11601975479252</td><td>3.456844830548416</td><td>--</td><td>0.0</td><td>0.0</td><td>0.0</td><td>0.0</td><td>0.0</td><td>0.0</td><td>0.0</td><td>0.0</td><td>0.0</td><td>0.0</td><td>0.0</td><td>1.0</td><td>1.0</td><td>1.0</td><td>1.0</td><td>1.0</td><td>0.997675796508789</td><td>0</td><td>4611686018427387904</td><td>70368744177664</td><td>0</td><td>1</td><td>1023.7778</td><td>0</td><td>0</td><td>0</td><td>0</td><td>0</td><td>0</td><td>33.64711</td><td>31.710672</td><td>3.9321053</td><td>0.11392317</td><td>16.187904</td><td>-0.008994076</td><td>0.0032281901</td><td>90.45671</td><td>0.00033598195</td><td>1.225154</td><td>2.4456637</td><td>0.011825093</td><td>0.018332023</td><td>0.6120433</td><td>0.98057455</td><td>2.510112e-05</td><td>1.2357961e-05</td><td>2.437483</td><td>2.504086</td><td>2.451604</td><td>2.4456637</td><td>0.48333326</td><td>0.46334296</td><td>24</td><td>25979</td><td>sv3</td><td>dark</td><td>20210505</td><td>3.6173832 .. -0.3486411</td><td>0.9208186</td><td>0.0</td><td>0.0</td><td>0.0</td><td>0</td><td>-1.0 .. -1.0</td><td>-1.0 .. -1.0</td><td>-1.0 .. -1.0</td><td>-1.0 .. -1.0</td><td>0.0</td><td>0.0</td><td>0</td><td>-1.0 .. -1.0</td><td>-1.0 .. -1.0</td><td>-1.0 .. -1.0</td><td>-1.0 .. -1.0</td><td>0.0</td><td>0.0</td><td>0</td><td>-1.0 .. -1.0</td><td>-1.0 .. -1.0</td><td>-1.0 .. -1.0</td><td>-1.0 .. -1.0</td><td>0.0</td><td>0.0</td><td>0</td><td>-1.0 .. -1.0</td><td>-1.0 .. -1.0</td><td>-1.0 .. -1.0</td><td>-1.0 .. -1.0</td><td>0</td><td>-1.0</td><td>-1.0</td><td>-1</td><td>-1.0</td><td>-1.0</td><td>-1</td><td>0.5238561644399842</td></tr>\n",
       "<tr><td>1084093743759365</td><td>3.645523913700645</td><td>0.0012711898171387358</td><td>4</td><td>QSO</td><td>0</td><td>217.2226705300488</td><td>34.459661780173505</td><td>--</td><td>0.0</td><td>0.0</td><td>0.0</td><td>0.0</td><td>0.0</td><td>0.0</td><td>0.0</td><td>0.0</td><td>0.0</td><td>0.0</td><td>0.0</td><td>1.0</td><td>1.0</td><td>1.0</td><td>1.0</td><td>1.0</td><td>0.997675796508789</td><td>0</td><td>4611686018427387904</td><td>70368744177664</td><td>0</td><td>3</td><td>1657.0813</td><td>0</td><td>0</td><td>0</td><td>0</td><td>0</td><td>0</td><td>89.06348</td><td>38.096607</td><td>--</td><td>--</td><td>--</td><td>--</td><td>--</td><td>--</td><td>--</td><td>3.645524</td><td>3.6743855</td><td>0.01218972</td><td>0.0027902036</td><td>0.0129107</td><td>0.0021819957</td><td>2.0823612e-05</td><td>4.612523e-06</td><td>2.056969</td><td>2.057216</td><td>3.6743855</td><td>1.0428545</td><td>1.0406367</td><td>0.13064273</td><td>2</td><td>10513</td><td>sv3</td><td>dark</td><td>20210416</td><td>2.102309 .. -0.30831492</td><td>1.0063334</td><td>0.0</td><td>0.0</td><td>0.0</td><td>0</td><td>-1.0 .. -1.0</td><td>-1.0 .. -1.0</td><td>-1.0 .. -1.0</td><td>-1.0 .. -1.0</td><td>0.0</td><td>0.0</td><td>0</td><td>-1.0 .. -1.0</td><td>-1.0 .. -1.0</td><td>-1.0 .. -1.0</td><td>-1.0 .. -1.0</td><td>0.0</td><td>0.0</td><td>0</td><td>-1.0 .. -1.0</td><td>-1.0 .. -1.0</td><td>-1.0 .. -1.0</td><td>-1.0 .. -1.0</td><td>0.0</td><td>0.0</td><td>0</td><td>-1.0 .. -1.0</td><td>-1.0 .. -1.0</td><td>-1.0 .. -1.0</td><td>-1.0 .. -1.0</td><td>0</td><td>-1.0</td><td>-1.0</td><td>-1</td><td>-1.0</td><td>-1.0</td><td>-1</td><td>0.5403630106950745</td></tr>\n",
       "<tr><td>1084393787490304</td><td>5.466968684083191</td><td>0.0009857454825403862</td><td>4</td><td>QSO</td><td>0</td><td>216.17297287740098</td><td>51.429790978104556</td><td>--</td><td>0.0</td><td>0.0</td><td>0.0</td><td>0.0</td><td>0.0</td><td>0.0</td><td>0.0</td><td>0.0</td><td>0.0</td><td>0.0</td><td>0.0</td><td>1.0</td><td>1.0</td><td>1.0</td><td>1.0</td><td>1.0</td><td>0.997675796508789</td><td>0</td><td>4611686018427387904</td><td>70368744177664</td><td>0</td><td>2</td><td>2572.7515</td><td>0</td><td>0</td><td>0</td><td>0</td><td>0</td><td>0</td><td>120.2545</td><td>50.096535</td><td>--</td><td>--</td><td>--</td><td>--</td><td>--</td><td>--</td><td>--</td><td>5.4669685</td><td>3.6038098</td><td>3.629465e-05</td><td>0.00014134408</td><td>0.00032877663</td><td>0.00027801716</td><td>8.817196e-05</td><td>6.7565506e-06</td><td>3.8454633</td><td>3.8437564</td><td>3.6038098</td><td>0.5707822</td><td>0.5759846</td><td>0.46310148</td><td>2</td><td>11403</td><td>sv3</td><td>dark</td><td>20210429</td><td>0.0 .. 0.0</td><td>0.0</td><td>-99.0</td><td>0.0</td><td>0.0</td><td>0</td><td>0.0 .. 0.0</td><td>0.0 .. 0.0</td><td>0.0 .. 0.0</td><td>0.0 .. 0.0</td><td>0.0</td><td>0.0</td><td>0</td><td>0.0 .. 0.0</td><td>0.0 .. 0.0</td><td>0.0 .. 0.0</td><td>0.0 .. 0.0</td><td>0.0</td><td>0.0</td><td>0</td><td>0.0 .. 0.0</td><td>0.0 .. 0.0</td><td>0.0 .. 0.0</td><td>0.0 .. 0.0</td><td>0.0</td><td>0.0</td><td>0</td><td>0.0 .. 0.0</td><td>0.0 .. 0.0</td><td>0.0 .. 0.0</td><td>0.0 .. 0.0</td><td>5</td><td>-1.0</td><td>-1.0</td><td>-1</td><td>-1.0</td><td>-1.0</td><td>-1</td><td>0.3905742323798082</td></tr>\n",
       "<tr><td>1084458555932679</td><td>2.70067312907354</td><td>0.0005362549563869834</td><td>0</td><td>GALAXY</td><td>0</td><td>244.3757235012527</td><td>56.0687399275527</td><td>--</td><td>0.0</td><td>0.0</td><td>0.0</td><td>0.0</td><td>0.0</td><td>0.0</td><td>0.0</td><td>0.0</td><td>0.0</td><td>0.0</td><td>0.0</td><td>1.0</td><td>1.0</td><td>1.0</td><td>1.0</td><td>1.0</td><td>0.997675796508789</td><td>0</td><td>4611686018427387904</td><td>70368744177664</td><td>0</td><td>3</td><td>2196.4836</td><td>0</td><td>0</td><td>0</td><td>0</td><td>0</td><td>0</td><td>60.240444</td><td>35.437492</td><td>4.246727</td><td>-0.11157566</td><td>13.568046</td><td>0.047505233</td><td>0.003948811</td><td>85.33372</td><td>0.0003633091</td><td>1.168033</td><td>2.726223</td><td>0.0016541609</td><td>4.0603587e-05</td><td>0.98118603</td><td>0.003501597</td><td>0.09932269</td><td>1.5336249e-07</td><td>2.6707294</td><td>2.6773942</td><td>2.726223</td><td>0.83918893</td><td>0.844608</td><td>-0.18481976</td><td>24</td><td>10158</td><td>sv3</td><td>dark</td><td>20210419</td><td>2.911212 .. -0.3946469</td><td>1.0617774</td><td>0.0</td><td>0.0</td><td>0.0</td><td>0</td><td>-1.0 .. -1.0</td><td>-1.0 .. -1.0</td><td>-1.0 .. -1.0</td><td>-1.0 .. -1.0</td><td>0.0</td><td>0.0</td><td>0</td><td>-1.0 .. -1.0</td><td>-1.0 .. -1.0</td><td>-1.0 .. -1.0</td><td>-1.0 .. -1.0</td><td>0.0</td><td>0.0</td><td>0</td><td>-1.0 .. -1.0</td><td>-1.0 .. -1.0</td><td>-1.0 .. -1.0</td><td>-1.0 .. -1.0</td><td>0.0</td><td>0.0</td><td>0</td><td>-1.0 .. -1.0</td><td>-1.0 .. -1.0</td><td>-1.0 .. -1.0</td><td>-1.0 .. -1.0</td><td>0</td><td>-1.0</td><td>-1.0</td><td>-1</td><td>-1.0</td><td>-1.0</td><td>-1</td><td>0.4693648886834431</td></tr>\n",
       "<tr><td>1084542089691137</td><td>5.048299491244062</td><td>0.0011767915953822216</td><td>0</td><td>QSO</td><td>0</td><td>270.52677277168857</td><td>62.73332781432875</td><td>--</td><td>0.0</td><td>0.0</td><td>0.0</td><td>0.0</td><td>0.0</td><td>0.0</td><td>0.0</td><td>0.0</td><td>0.0</td><td>0.0</td><td>0.0</td><td>1.0</td><td>1.0</td><td>1.0</td><td>1.0</td><td>1.0</td><td>0.997675796508789</td><td>0</td><td>4611686018427387904</td><td>70368744177664</td><td>0</td><td>1</td><td>950.2497</td><td>0</td><td>0</td><td>0</td><td>0</td><td>0</td><td>0</td><td>170.49971</td><td>45.332985</td><td>--</td><td>--</td><td>--</td><td>--</td><td>--</td><td>--</td><td>--</td><td>5.0482993</td><td>0.5511373</td><td>0.00010406026</td><td>0.00017223286</td><td>0.00013546343</td><td>0.0027940513</td><td>0.04904388</td><td>1.3279033e-06</td><td>3.8344736</td><td>2.9676428</td><td>3.8316941</td><td>0.5478073</td><td>0.5511373</td><td>0.14188653</td><td>2</td><td>15343</td><td>sv3</td><td>dark</td><td>20210512</td><td>0.0 .. 0.0</td><td>0.0</td><td>-99.0</td><td>0.0</td><td>0.0</td><td>0</td><td>0.0 .. 0.0</td><td>0.0 .. 0.0</td><td>0.0 .. 0.0</td><td>0.0 .. 0.0</td><td>0.0</td><td>0.0</td><td>0</td><td>0.0 .. 0.0</td><td>0.0 .. 0.0</td><td>0.0 .. 0.0</td><td>0.0 .. 0.0</td><td>0.0</td><td>0.0</td><td>0</td><td>0.0 .. 0.0</td><td>0.0 .. 0.0</td><td>0.0 .. 0.0</td><td>0.0 .. 0.0</td><td>0.0</td><td>0.0</td><td>0</td><td>0.0 .. 0.0</td><td>0.0 .. 0.0</td><td>0.0 .. 0.0</td><td>0.0 .. 0.0</td><td>5</td><td>-1.0</td><td>-1.0</td><td>-1</td><td>-1.0</td><td>-1.0</td><td>-1</td><td>0.3608913479682382</td></tr>\n",
       "<tr><td>...</td><td>...</td><td>...</td><td>...</td><td>...</td><td>...</td><td>...</td><td>...</td><td>...</td><td>...</td><td>...</td><td>...</td><td>...</td><td>...</td><td>...</td><td>...</td><td>...</td><td>...</td><td>...</td><td>...</td><td>...</td><td>...</td><td>...</td><td>...</td><td>...</td><td>...</td><td>...</td><td>...</td><td>...</td><td>...</td><td>...</td><td>...</td><td>...</td><td>...</td><td>...</td><td>...</td><td>...</td><td>...</td><td>...</td><td>...</td><td>...</td><td>...</td><td>...</td><td>...</td><td>...</td><td>...</td><td>...</td><td>...</td><td>...</td><td>...</td><td>...</td><td>...</td><td>...</td><td>...</td><td>...</td><td>...</td><td>...</td><td>...</td><td>...</td><td>...</td><td>...</td><td>...</td><td>...</td><td>...</td><td>...</td><td>...</td><td>...</td><td>...</td><td>...</td><td>...</td><td>...</td><td>...</td><td>...</td><td>...</td><td>...</td><td>...</td><td>...</td><td>...</td><td>...</td><td>...</td><td>...</td><td>...</td><td>...</td><td>...</td><td>...</td><td>...</td><td>...</td><td>...</td><td>...</td><td>...</td><td>...</td><td>...</td><td>...</td><td>...</td><td>...</td><td>...</td><td>...</td><td>...</td><td>...</td><td>...</td><td>...</td><td>...</td><td>...</td><td>...</td><td>...</td></tr>\n",
       "<tr><td>616094218175120154</td><td>5.596570988966069</td><td>0.0012132306388712517</td><td>1</td><td>QSO</td><td>0</td><td>268.9082091222442</td><td>67.28579251718276</td><td>--</td><td>0.0</td><td>0.0</td><td>0.0</td><td>0.0</td><td>0.0</td><td>0.0</td><td>0.0</td><td>0.0</td><td>0.0</td><td>0.0</td><td>0.0</td><td>1.0</td><td>1.0</td><td>1.0</td><td>1.0</td><td>1.0</td><td>0.997675796508789</td><td>0</td><td>0</td><td>0</td><td>4294967296</td><td>1</td><td>782.6985</td><td>0</td><td>0</td><td>0</td><td>0</td><td>0</td><td>0</td><td>83.59529</td><td>38.082844</td><td>--</td><td>--</td><td>--</td><td>--</td><td>--</td><td>--</td><td>--</td><td>5.596571</td><td>2.634383</td><td>0.0017818969</td><td>0.011091358</td><td>0.6669671</td><td>0.0002881781</td><td>5.1790124e-05</td><td>9.361303e-05</td><td>2.675346</td><td>2.805466</td><td>2.634383</td><td>0.36690912</td><td>0.5797004</td><td>0.34395584</td><td>2</td><td>11607</td><td>sv3</td><td>dark</td><td>20210413</td><td>0.0 .. 0.0</td><td>0.0</td><td>-99.0</td><td>0.0</td><td>0.0</td><td>0</td><td>0.0 .. 0.0</td><td>0.0 .. 0.0</td><td>0.0 .. 0.0</td><td>0.0 .. 0.0</td><td>0.0</td><td>0.0</td><td>0</td><td>0.0 .. 0.0</td><td>0.0 .. 0.0</td><td>0.0 .. 0.0</td><td>0.0 .. 0.0</td><td>0.0</td><td>0.0</td><td>0</td><td>0.0 .. 0.0</td><td>0.0 .. 0.0</td><td>0.0 .. 0.0</td><td>0.0 .. 0.0</td><td>0.0</td><td>0.0</td><td>0</td><td>0.0 .. 0.0</td><td>0.0 .. 0.0</td><td>0.0 .. 0.0</td><td>0.0 .. 0.0</td><td>5</td><td>-1.0</td><td>-1.0</td><td>-1</td><td>-1.0</td><td>-1.0</td><td>-1</td><td>0.31185241355253523</td></tr>\n",
       "<tr><td>616094218179314456</td><td>4.718485470851825</td><td>0.001172222333616132</td><td>5</td><td>QSO</td><td>0</td><td>269.58817627912345</td><td>67.29113043196614</td><td>--</td><td>0.0</td><td>0.0</td><td>0.0</td><td>0.0</td><td>0.0</td><td>0.0</td><td>0.0</td><td>0.0</td><td>0.0</td><td>0.0</td><td>0.0</td><td>1.0</td><td>1.0</td><td>1.0</td><td>1.0</td><td>1.0</td><td>0.997675796508789</td><td>0</td><td>0</td><td>0</td><td>4294967296</td><td>3</td><td>2085.501</td><td>0</td><td>0</td><td>0</td><td>0</td><td>0</td><td>0</td><td>68.05509</td><td>36.144512</td><td>--</td><td>--</td><td>--</td><td>--</td><td>--</td><td>--</td><td>--</td><td>4.7184854</td><td>2.35118</td><td>0.00016207423</td><td>8.2275554e-05</td><td>0.0001852919</td><td>0.002528342</td><td>0.002482982</td><td>5.6920202e-05</td><td>2.307915</td><td>3.5031724</td><td>1.5345113</td><td>2.35118</td><td>0.55950654</td><td>0.44415006</td><td>2</td><td>11607</td><td>sv3</td><td>dark</td><td>20210412</td><td>-0.7774709 .. 0.093127556</td><td>1.0458666</td><td>0.0</td><td>0.0</td><td>0.0</td><td>0</td><td>-1.0 .. -1.0</td><td>-1.0 .. -1.0</td><td>-1.0 .. -1.0</td><td>-1.0 .. -1.0</td><td>0.0</td><td>0.0</td><td>0</td><td>-1.0 .. -1.0</td><td>-1.0 .. -1.0</td><td>-1.0 .. -1.0</td><td>-1.0 .. -1.0</td><td>0.0</td><td>0.0</td><td>0</td><td>-1.0 .. -1.0</td><td>-1.0 .. -1.0</td><td>-1.0 .. -1.0</td><td>-1.0 .. -1.0</td><td>0.0</td><td>0.0</td><td>0</td><td>-1.0 .. -1.0</td><td>-1.0 .. -1.0</td><td>-1.0 .. -1.0</td><td>-1.0 .. -1.0</td><td>0</td><td>-1.0</td><td>-1.0</td><td>-1</td><td>-1.0</td><td>-1.0</td><td>-1</td><td>0.4032498440303089</td></tr>\n",
       "<tr><td>616094218179314845</td><td>5.608092219228064</td><td>0.001237050759102965</td><td>1</td><td>QSO</td><td>0</td><td>269.4988227554733</td><td>67.36594385671475</td><td>--</td><td>0.0</td><td>0.0</td><td>0.0</td><td>0.0</td><td>0.0</td><td>0.0</td><td>0.0</td><td>0.0</td><td>0.0</td><td>0.0</td><td>0.0</td><td>1.0</td><td>1.0</td><td>1.0</td><td>1.0</td><td>1.0</td><td>0.997675796508789</td><td>0</td><td>0</td><td>0</td><td>4294967296</td><td>1</td><td>769.1617</td><td>0</td><td>0</td><td>0</td><td>0</td><td>0</td><td>0</td><td>59.39539</td><td>33.78589</td><td>--</td><td>--</td><td>--</td><td>--</td><td>--</td><td>--</td><td>--</td><td>5.6080923</td><td>2.2866373</td><td>0.0056803613</td><td>0.0019865576</td><td>0.0007303966</td><td>0.0024062344</td><td>5.040588e-05</td><td>9.8524615e-05</td><td>2.2866373</td><td>2.300043</td><td>1.6947527</td><td>2.1493094</td><td>0.11675716</td><td>0.16149856</td><td>2</td><td>11607</td><td>sv3</td><td>dark</td><td>20210406</td><td>0.0 .. 0.0</td><td>0.0</td><td>-99.0</td><td>0.0</td><td>0.0</td><td>0</td><td>0.0 .. 0.0</td><td>0.0 .. 0.0</td><td>0.0 .. 0.0</td><td>0.0 .. 0.0</td><td>0.0</td><td>0.0</td><td>0</td><td>0.0 .. 0.0</td><td>0.0 .. 0.0</td><td>0.0 .. 0.0</td><td>0.0 .. 0.0</td><td>0.0</td><td>0.0</td><td>0</td><td>0.0 .. 0.0</td><td>0.0 .. 0.0</td><td>0.0 .. 0.0</td><td>0.0 .. 0.0</td><td>0.0</td><td>0.0</td><td>0</td><td>0.0 .. 0.0</td><td>0.0 .. 0.0</td><td>0.0 .. 0.0</td><td>0.0 .. 0.0</td><td>5</td><td>-1.0</td><td>-1.0</td><td>-1</td><td>-1.0</td><td>-1.0</td><td>-1</td><td>0.3263936106489056</td></tr>\n",
       "<tr><td>616094218187702398</td><td>2.6155452326742075</td><td>0.000816847663372755</td><td>5</td><td>GALAXY</td><td>0</td><td>270.8776265526053</td><td>67.14412138634127</td><td>--</td><td>0.0</td><td>0.0</td><td>0.0</td><td>0.0</td><td>0.0</td><td>0.0</td><td>0.0</td><td>0.0</td><td>0.0</td><td>0.0</td><td>0.0</td><td>1.0</td><td>1.0</td><td>1.0</td><td>1.0</td><td>1.0</td><td>0.997675796508789</td><td>0</td><td>0</td><td>0</td><td>4294967296</td><td>2</td><td>1323.326</td><td>0</td><td>0</td><td>0</td><td>0</td><td>0</td><td>0</td><td>96.14569</td><td>43.14362</td><td>1.7679732</td><td>65.54402</td><td>4242.233</td><td>-65.502106</td><td>2895305200000.0</td><td>3256072000000000.0</td><td>2895305500000.0</td><td>1.0723258</td><td>2.6100345</td><td>0.74638724</td><td>0.7779422</td><td>0.9997758</td><td>5.076688e-06</td><td>5.9522986e-06</td><td>0.000101524696</td><td>2.604717</td><td>2.6090322</td><td>2.6100345</td><td>0.5583677</td><td>0.14281675</td><td>0.18472767</td><td>24</td><td>16043</td><td>sv3</td><td>dark</td><td>20210407</td><td>1.5530185 .. 0.13349554</td><td>0.9990643</td><td>0.0</td><td>0.0</td><td>0.0</td><td>0</td><td>-1.0 .. -1.0</td><td>-1.0 .. -1.0</td><td>-1.0 .. -1.0</td><td>-1.0 .. -1.0</td><td>0.0</td><td>0.0</td><td>0</td><td>-1.0 .. -1.0</td><td>-1.0 .. -1.0</td><td>-1.0 .. -1.0</td><td>-1.0 .. -1.0</td><td>0.0</td><td>0.0</td><td>0</td><td>-1.0 .. -1.0</td><td>-1.0 .. -1.0</td><td>-1.0 .. -1.0</td><td>-1.0 .. -1.0</td><td>0.0</td><td>0.0</td><td>0</td><td>-1.0 .. -1.0</td><td>-1.0 .. -1.0</td><td>-1.0 .. -1.0</td><td>-1.0 .. -1.0</td><td>0</td><td>-1.0</td><td>-1.0</td><td>-1</td><td>-1.0</td><td>-1.0</td><td>-1</td><td>0.504323857635416</td></tr>\n",
       "<tr><td>616094218191896647</td><td>2.5913525629226766</td><td>0.0008382483501918614</td><td>5</td><td>GALAXY</td><td>0</td><td>271.9057785067862</td><td>67.13375011409214</td><td>--</td><td>0.0</td><td>0.0</td><td>0.0</td><td>0.0</td><td>0.0</td><td>0.0</td><td>0.0</td><td>0.0</td><td>0.0</td><td>0.0</td><td>0.0</td><td>1.0</td><td>1.0</td><td>1.0</td><td>1.0</td><td>1.0</td><td>0.997675796508789</td><td>0</td><td>0</td><td>0</td><td>4294967296</td><td>1</td><td>929.0727</td><td>0</td><td>0</td><td>0</td><td>0</td><td>0</td><td>0</td><td>131.00568</td><td>44.67247</td><td>2.208895</td><td>-141.28963</td><td>4286.848</td><td>141.26836</td><td>866887200000.0</td><td>205228020000000.0</td><td>866887200000.0</td><td>1.2525421</td><td>2.589978</td><td>0.46179932</td><td>0.031178556</td><td>0.9935011</td><td>8.607594e-05</td><td>1.3409107e-05</td><td>9.932994e-06</td><td>2.6124213</td><td>2.6191304</td><td>2.589978</td><td>0.5571379</td><td>0.56214964</td><td>0.46644393</td><td>24</td><td>16043</td><td>sv3</td><td>dark</td><td>20210411</td><td>-0.033173528 .. -0.2658162</td><td>0.9241207</td><td>0.0</td><td>0.0</td><td>0.0</td><td>0</td><td>-1.0 .. -1.0</td><td>-1.0 .. -1.0</td><td>-1.0 .. -1.0</td><td>-1.0 .. -1.0</td><td>0.0</td><td>0.0</td><td>0</td><td>-1.0 .. -1.0</td><td>-1.0 .. -1.0</td><td>-1.0 .. -1.0</td><td>-1.0 .. -1.0</td><td>0.0</td><td>0.0</td><td>0</td><td>-1.0 .. -1.0</td><td>-1.0 .. -1.0</td><td>-1.0 .. -1.0</td><td>-1.0 .. -1.0</td><td>0.0</td><td>0.0</td><td>0</td><td>-1.0 .. -1.0</td><td>-1.0 .. -1.0</td><td>-1.0 .. -1.0</td><td>-1.0 .. -1.0</td><td>0</td><td>-1.0</td><td>-1.0</td><td>-1</td><td>-1.0</td><td>-1.0</td><td>-1</td><td>0.37662607832689926</td></tr>\n",
       "<tr><td>616094220507152830</td><td>5.3852931083549125</td><td>0.0006936708711524979</td><td>5</td><td>QSO</td><td>0</td><td>269.16646187344423</td><td>67.4640526806483</td><td>--</td><td>0.0</td><td>0.0</td><td>0.0</td><td>0.0</td><td>0.0</td><td>0.0</td><td>0.0</td><td>0.0</td><td>0.0</td><td>0.0</td><td>0.0</td><td>1.0</td><td>1.0</td><td>1.0</td><td>1.0</td><td>1.0</td><td>0.997675796508789</td><td>0</td><td>0</td><td>0</td><td>4294967296</td><td>1</td><td>894.5191</td><td>0</td><td>0</td><td>0</td><td>0</td><td>0</td><td>0</td><td>102.61457</td><td>40.256477</td><td>--</td><td>--</td><td>--</td><td>--</td><td>--</td><td>--</td><td>--</td><td>5.385293</td><td>0.5369672</td><td>5.2842508e-05</td><td>0.00050949893</td><td>7.4532385e-05</td><td>2.0113752e-05</td><td>0.0010094945</td><td>2.396517e-06</td><td>2.9485352</td><td>2.115856</td><td>2.9544857</td><td>0.5376436</td><td>0.5369672</td><td>0.26035058</td><td>2</td><td>11607</td><td>sv3</td><td>dark</td><td>20210417</td><td>0.0 .. 0.0</td><td>0.0</td><td>-99.0</td><td>0.0</td><td>0.0</td><td>0</td><td>0.0 .. 0.0</td><td>0.0 .. 0.0</td><td>0.0 .. 0.0</td><td>0.0 .. 0.0</td><td>0.0</td><td>0.0</td><td>0</td><td>0.0 .. 0.0</td><td>0.0 .. 0.0</td><td>0.0 .. 0.0</td><td>0.0 .. 0.0</td><td>0.0</td><td>0.0</td><td>0</td><td>0.0 .. 0.0</td><td>0.0 .. 0.0</td><td>0.0 .. 0.0</td><td>0.0 .. 0.0</td><td>0.0</td><td>0.0</td><td>0</td><td>0.0 .. 0.0</td><td>0.0 .. 0.0</td><td>0.0 .. 0.0</td><td>0.0 .. 0.0</td><td>5</td><td>-1.0</td><td>-1.0</td><td>-1</td><td>-1.0</td><td>-1.0</td><td>-1</td><td>0.3270850038196708</td></tr>\n",
       "</table></div>"
      ],
      "text/plain": [
       "<Table length=14910>\n",
       "     TARGETID              Z          ... SPECTYPE_MASK       SNR_CIV      \n",
       "                                      ...                                  \n",
       "      int64             float64       ...      str6           float64      \n",
       "------------------ ------------------ ... ------------- -------------------\n",
       "  1083386135314440  3.631155815059421 ...            -1 0.49071757215759687\n",
       "  1083393307574272 2.4328130904523575 ...            -1  0.5238561644399842\n",
       "  1084093743759365  3.645523913700645 ...            -1  0.5403630106950745\n",
       "  1084393787490304  5.466968684083191 ...            -1  0.3905742323798082\n",
       "  1084458555932679   2.70067312907354 ...            -1  0.4693648886834431\n",
       "  1084542089691137  5.048299491244062 ...            -1  0.3608913479682382\n",
       "               ...                ... ...           ...                 ...\n",
       "616094218175120154  5.596570988966069 ...            -1 0.31185241355253523\n",
       "616094218179314456  4.718485470851825 ...            -1  0.4032498440303089\n",
       "616094218179314845  5.608092219228064 ...            -1  0.3263936106489056\n",
       "616094218187702398 2.6155452326742075 ...            -1   0.504323857635416\n",
       "616094218191896647 2.5913525629226766 ...            -1 0.37662607832689926\n",
       "616094220507152830 5.3852931083549125 ...            -1  0.3270850038196708"
      ]
     },
     "execution_count": 16,
     "metadata": {},
     "output_type": "execute_result"
    }
   ],
   "source": [
    "sv3_addcol = catfil_sv3\n",
    "sv3_addcol"
   ]
  },
  {
   "cell_type": "markdown",
   "id": "907feed3",
   "metadata": {},
   "source": [
    "#### Done for SV3"
   ]
  },
  {
   "cell_type": "markdown",
   "id": "ccac064f",
   "metadata": {},
   "source": [
    "## Stacking tables and saving as new catalog"
   ]
  },
  {
   "cell_type": "code",
   "execution_count": 17,
   "id": "3f1bab17",
   "metadata": {
    "ExecuteTime": {
     "end_time": "2023-08-26T21:23:47.982000Z",
     "start_time": "2023-08-26T21:23:47.722320Z"
    }
   },
   "outputs": [
    {
     "name": "stderr",
     "output_type": "stream",
     "text": [
      "WARNING: MergeConflictWarning: Cannot merge meta key 'EXTNAME' types <class 'str'> and <class 'str'>, choosing EXTNAME='BAL_SV3_DARK' [astropy.utils.metadata]\n"
     ]
    },
    {
     "data": {
      "text/plain": [
       "26763"
      ]
     },
     "execution_count": 17,
     "metadata": {},
     "output_type": "execute_result"
    }
   ],
   "source": [
    "bal_13_LNc = vstack(([sv1_addcol,sv3_addcol])) #BAL catalogs sv1 and sv3 with LASTNIGHT column added\n",
    "len(bal_13_LNc)"
   ]
  },
  {
   "cell_type": "code",
   "execution_count": 18,
   "id": "65503b0e",
   "metadata": {
    "ExecuteTime": {
     "end_time": "2023-08-26T21:23:48.033861Z",
     "start_time": "2023-08-26T21:23:47.986163Z"
    }
   },
   "outputs": [
    {
     "data": {
      "text/html": [
       "<div><i>Table length=26763</i>\n",
       "<table id=\"table139988188370000\" class=\"table-striped table-bordered table-condensed\">\n",
       "<thead><tr><th>TARGETID</th><th>Z</th><th>ZERR</th><th>ZWARN</th><th>SPECTYPE</th><th>COADD_FIBERSTATUS</th><th>TARGET_RA</th><th>TARGET_DEC</th><th>MORPHTYPE</th><th>EBV</th><th>FLUX_G</th><th>FLUX_R</th><th>FLUX_Z</th><th>FLUX_W1</th><th>FLUX_W2</th><th>FLUX_IVAR_G</th><th>FLUX_IVAR_R</th><th>FLUX_IVAR_Z</th><th>FLUX_IVAR_W1</th><th>FLUX_IVAR_W2</th><th>MW_TRANSMISSION_G</th><th>MW_TRANSMISSION_R</th><th>MW_TRANSMISSION_Z</th><th>MW_TRANSMISSION_W1</th><th>MW_TRANSMISSION_W2</th><th>PROBA_RF</th><th>MASKBITS</th><th>SV1_DESI_TARGET</th><th>SV1_SCND_TARGET</th><th>DESI_TARGET</th><th>COADD_NUMEXP</th><th>COADD_EXPTIME</th><th>CMX_TARGET</th><th>SV2_DESI_TARGET</th><th>SV3_DESI_TARGET</th><th>SV2_SCND_TARGET</th><th>SV3_SCND_TARGET</th><th>SCND_TARGET</th><th>TSNR2_LYA</th><th>TSNR2_QSO</th><th>DELTA_CHI2_MGII</th><th>A_MGII</th><th>SIGMA_MGII</th><th>B_MGII</th><th>VAR_A_MGII</th><th>VAR_SIGMA_MGII</th><th>VAR_B_MGII</th><th>Z_RR</th><th>Z_QN</th><th>C_LYA</th><th>C_CIV</th><th>C_CIII</th><th>C_MgII</th><th>C_Hbeta</th><th>C_Halpha</th><th>Z_LYA</th><th>Z_CIV</th><th>Z_CIII</th><th>Z_MgII</th><th>Z_Hbeta</th><th>Z_Halpha</th><th>QSO_MASKBITS</th><th>HPXPIXEL</th><th>SURVEY</th><th>PROGRAM</th><th>LASTNIGHT</th><th>PCA_COEFFS</th><th>PCA_CHI2</th><th>BAL_PROB</th><th>BI_CIV</th><th>ERR_BI_CIV</th><th>NCIV_2000</th><th>VMIN_CIV_2000</th><th>VMAX_CIV_2000</th><th>POSMIN_CIV_2000</th><th>FMIN_CIV_2000</th><th>AI_CIV</th><th>ERR_AI_CIV</th><th>NCIV_450</th><th>VMIN_CIV_450</th><th>VMAX_CIV_450</th><th>POSMIN_CIV_450</th><th>FMIN_CIV_450</th><th>BI_SIIV</th><th>ERR_BI_SIIV</th><th>NSIIV_2000</th><th>VMIN_SIIV_2000</th><th>VMAX_SIIV_2000</th><th>POSMIN_SIIV_2000</th><th>FMIN_SIIV_2000</th><th>AI_SIIV</th><th>ERR_AI_SIIV</th><th>NSIIV_450</th><th>VMIN_SIIV_450</th><th>VMAX_SIIV_450</th><th>POSMIN_SIIV_450</th><th>FMIN_SIIV_450</th><th>BALMASK</th><th>Z_MASK</th><th>ZERR_MASK</th><th>ZWARN_MASK</th><th>CHI2_MASK</th><th>DELTACHI2_MASK</th><th>SPECTYPE_MASK</th><th>SNR_CIV</th></tr></thead>\n",
       "<thead><tr><th></th><th></th><th></th><th></th><th></th><th></th><th>deg</th><th>deg</th><th></th><th>mag</th><th>nanomaggy</th><th>nanomaggy</th><th>nanomaggy</th><th>nanomaggy</th><th>nanomaggy</th><th>nanomaggy^-2</th><th>nanomaggy^-2</th><th>nanomaggy^-2</th><th>nanomaggy^-2</th><th>nanomaggy^-2</th><th></th><th></th><th></th><th></th><th></th><th></th><th></th><th></th><th></th><th></th><th></th><th></th><th></th><th></th><th></th><th></th><th></th><th></th><th></th><th></th><th></th><th></th><th></th><th></th><th></th><th></th><th></th><th></th><th></th><th></th><th></th><th></th><th></th><th></th><th></th><th></th><th></th><th></th><th></th><th></th><th></th><th></th><th></th><th></th><th></th><th></th><th></th><th></th><th></th><th>km / s</th><th>km / s</th><th></th><th>km / s</th><th>km / s</th><th>km / s</th><th></th><th>km / s</th><th>km / s</th><th></th><th>km / s</th><th>km / s</th><th>km / s</th><th></th><th>km / s</th><th>km / s</th><th></th><th>km / s</th><th>km / s</th><th>km / s</th><th></th><th>km / s</th><th>km / s</th><th></th><th>km / s</th><th>km / s</th><th>km / s</th><th></th><th></th><th></th><th></th><th></th><th></th><th></th><th></th><th></th></tr></thead>\n",
       "<thead><tr><th>int64</th><th>float64</th><th>float64</th><th>int64</th><th>str6</th><th>int32</th><th>float64</th><th>float64</th><th>str4</th><th>float32</th><th>float32</th><th>float32</th><th>float32</th><th>float32</th><th>float32</th><th>float32</th><th>float32</th><th>float32</th><th>float32</th><th>float32</th><th>float64</th><th>float64</th><th>float64</th><th>float64</th><th>float64</th><th>float64</th><th>int16</th><th>int64</th><th>int64</th><th>int64</th><th>int16</th><th>float32</th><th>int64</th><th>int64</th><th>int64</th><th>int64</th><th>int64</th><th>int64</th><th>float32</th><th>float32</th><th>float32</th><th>float32</th><th>float32</th><th>float32</th><th>float32</th><th>float32</th><th>float32</th><th>float32</th><th>float32</th><th>float32</th><th>float32</th><th>float32</th><th>float32</th><th>float32</th><th>float32</th><th>float32</th><th>float32</th><th>float32</th><th>float32</th><th>float32</th><th>float32</th><th>int32</th><th>int64</th><th>str3</th><th>str4</th><th>int32</th><th>float32[5]</th><th>float32</th><th>float32</th><th>float32</th><th>float32</th><th>int32</th><th>float32[5]</th><th>float32[5]</th><th>float32[5]</th><th>float32[5]</th><th>float32</th><th>float32</th><th>int32</th><th>float32[17]</th><th>float32[17]</th><th>float32[17]</th><th>float32[17]</th><th>float32</th><th>float32</th><th>int32</th><th>float32[5]</th><th>float32[5]</th><th>float32[5]</th><th>float32[5]</th><th>float32</th><th>float32</th><th>int32</th><th>float32[17]</th><th>float32[17]</th><th>float32[17]</th><th>float32[17]</th><th>uint8</th><th>float64</th><th>float64</th><th>int64</th><th>float64</th><th>float64</th><th>str6</th><th>float64</th></tr></thead>\n",
       "<tr><td>39627126193784363</td><td>2.861444156203475</td><td>0.0004390203909165424</td><td>0</td><td>QSO</td><td>0</td><td>163.34224841332946</td><td>-28.383592117072975</td><td>PSF</td><td>0.056114484</td><td>0.22035833</td><td>0.24633299</td><td>0.2883746</td><td>5.040667</td><td>3.8000672</td><td>1079.8296</td><td>834.0869</td><td>183.63834</td><td>3.4844775</td><td>0.7739383</td><td>0.8287334193652452</td><td>0.8287334193652452</td><td>0.8287334193652452</td><td>0.8287334193652452</td><td>0.8287334193652452</td><td>0.2498812813325785</td><td>0</td><td>549755814402</td><td>0</td><td>0</td><td>19</td><td>17061.107</td><td>0</td><td>0</td><td>0</td><td>0</td><td>0</td><td>0</td><td>429.65128</td><td>131.00398</td><td>--</td><td>--</td><td>--</td><td>--</td><td>--</td><td>--</td><td>--</td><td>2.8614442</td><td>2.8628533</td><td>0.9959417</td><td>0.92074513</td><td>0.5857079</td><td>0.4896148</td><td>0.001158042</td><td>0.0001235028</td><td>2.8628533</td><td>2.8609123</td><td>2.1212556</td><td>2.1074882</td><td>0.36590034</td><td>0.05881108</td><td>10</td><td>38771</td><td>sv1</td><td>dark</td><td>20210212</td><td>3.7389505 .. -1.0375798</td><td>1.8037806</td><td>0.0</td><td>0.0</td><td>0.0</td><td>0</td><td>-1.0 .. -1.0</td><td>-1.0 .. -1.0</td><td>-1.0 .. -1.0</td><td>-1.0 .. -1.0</td><td>0.0</td><td>0.0</td><td>0</td><td>-1.0 .. -1.0</td><td>-1.0 .. -1.0</td><td>-1.0 .. -1.0</td><td>-1.0 .. -1.0</td><td>0.0</td><td>0.0</td><td>0</td><td>-1.0 .. -1.0</td><td>-1.0 .. -1.0</td><td>-1.0 .. -1.0</td><td>-1.0 .. -1.0</td><td>0.0</td><td>0.0</td><td>0</td><td>-1.0 .. -1.0</td><td>-1.0 .. -1.0</td><td>-1.0 .. -1.0</td><td>-1.0 .. -1.0</td><td>0</td><td>-1.0</td><td>-1.0</td><td>-1</td><td>-1.0</td><td>-1.0</td><td>-1</td><td>0.8195935774921809</td></tr>\n",
       "<tr><td>39627131495384271</td><td>2.2484643217033646</td><td>0.0003227390116080642</td><td>0</td><td>GALAXY</td><td>0</td><td>161.91828131658428</td><td>-28.192263156157672</td><td>REX</td><td>0.062367868</td><td>0.38231152</td><td>0.6488977</td><td>1.5420872</td><td>2.10844</td><td>3.2716653</td><td>423.10953</td><td>321.8081</td><td>78.951126</td><td>3.4995875</td><td>0.77653664</td><td>0.8115644671584047</td><td>0.8115644671584047</td><td>0.8115644671584047</td><td>0.8115644671584047</td><td>0.8115644671584047</td><td>0.7119825367890298</td><td>0</td><td>4123168608002</td><td>0</td><td>0</td><td>19</td><td>17061.107</td><td>0</td><td>0</td><td>0</td><td>0</td><td>0</td><td>0</td><td>129.02957</td><td>126.519226</td><td>2.0043762</td><td>103.66812</td><td>3941.6396</td><td>-103.52978</td><td>6101342400000.0</td><td>2206055300000000.0</td><td>6101343000000.0</td><td>0.82062626</td><td>2.2044537</td><td>0.00058004295</td><td>0.000117315016</td><td>0.98509276</td><td>0.35787344</td><td>1.9994082e-05</td><td>7.00337e-07</td><td>2.181541</td><td>2.2812526</td><td>2.2044537</td><td>2.2091928</td><td>0.5625591</td><td>0.061835185</td><td>24</td><td>38776</td><td>sv1</td><td>dark</td><td>20210212</td><td>7.030149 .. -0.04720141</td><td>1.5978751</td><td>0.0</td><td>0.0</td><td>0.0</td><td>0</td><td>-1.0 .. -1.0</td><td>-1.0 .. -1.0</td><td>-1.0 .. -1.0</td><td>-1.0 .. -1.0</td><td>0.0</td><td>0.0</td><td>0</td><td>-1.0 .. -1.0</td><td>-1.0 .. -1.0</td><td>-1.0 .. -1.0</td><td>-1.0 .. -1.0</td><td>0.0</td><td>0.0</td><td>0</td><td>-1.0 .. -1.0</td><td>-1.0 .. -1.0</td><td>-1.0 .. -1.0</td><td>-1.0 .. -1.0</td><td>0.0</td><td>0.0</td><td>0</td><td>-1.0 .. -1.0</td><td>-1.0 .. -1.0</td><td>-1.0 .. -1.0</td><td>-1.0 .. -1.0</td><td>0</td><td>-1.0</td><td>-1.0</td><td>-1</td><td>-1.0</td><td>-1.0</td><td>-1</td><td>0.7660470114283564</td></tr>\n",
       "<tr><td>39627131507969517</td><td>2.33464680293142</td><td>0.0002608130353115237</td><td>0</td><td>QSO</td><td>0</td><td>162.9177792876319</td><td>-28.26687687686011</td><td>PSF</td><td>0.07280108</td><td>0.2906743</td><td>0.20007244</td><td>0.56312853</td><td>8.939368</td><td>15.872808</td><td>571.44104</td><td>512.46173</td><td>119.94766</td><td>3.331404</td><td>0.72458297</td><td>0.783707704082199</td><td>0.783707704082199</td><td>0.783707704082199</td><td>0.783707704082199</td><td>0.783707704082199</td><td>0.1568238693517633</td><td>0</td><td>2748779072002</td><td>0</td><td>0</td><td>19</td><td>17061.107</td><td>0</td><td>0</td><td>0</td><td>0</td><td>0</td><td>0</td><td>264.65802</td><td>129.26712</td><td>7.636312</td><td>1.0038822</td><td>361.42804</td><td>-0.88919437</td><td>4002.6777</td><td>143109660.0</td><td>4004.8918</td><td>2.3346467</td><td>2.3293674</td><td>0.99999976</td><td>0.9999995</td><td>1.0</td><td>1.0</td><td>1.0072326e-05</td><td>9.119165e-06</td><td>2.3290715</td><td>2.3294525</td><td>2.327736</td><td>2.3293674</td><td>0.7193936</td><td>-0.15980369</td><td>10</td><td>38771</td><td>sv1</td><td>dark</td><td>20210212</td><td>4.1117835 .. -0.09368848</td><td>1.42652</td><td>0.0</td><td>0.0</td><td>0.0</td><td>0</td><td>-1.0 .. -1.0</td><td>-1.0 .. -1.0</td><td>-1.0 .. -1.0</td><td>-1.0 .. -1.0</td><td>0.0</td><td>0.0</td><td>0</td><td>-1.0 .. -1.0</td><td>-1.0 .. -1.0</td><td>-1.0 .. -1.0</td><td>-1.0 .. -1.0</td><td>0.0</td><td>0.0</td><td>0</td><td>-1.0 .. -1.0</td><td>-1.0 .. -1.0</td><td>-1.0 .. -1.0</td><td>-1.0 .. -1.0</td><td>0.0</td><td>0.0</td><td>0</td><td>-1.0 .. -1.0</td><td>-1.0 .. -1.0</td><td>-1.0 .. -1.0</td><td>-1.0 .. -1.0</td><td>0</td><td>-1.0</td><td>-1.0</td><td>-1</td><td>-1.0</td><td>-1.0</td><td>-1</td><td>0.8932599670963901</td></tr>\n",
       "<tr><td>39627131507970322</td><td>2.5485485551305027</td><td>0.00021850375537279848</td><td>0</td><td>QSO</td><td>0</td><td>162.96527319225862</td><td>-28.129906664475783</td><td>PSF</td><td>0.07075773</td><td>1.5521915</td><td>1.5672305</td><td>2.0498343</td><td>2.7582824</td><td>-0.37862152</td><td>439.37424</td><td>407.05936</td><td>113.63421</td><td>3.490648</td><td>0.77466345</td><td>0.7890871220747506</td><td>0.7890871220747506</td><td>0.7890871220747506</td><td>0.7890871220747506</td><td>0.7890871220747506</td><td>0.7374692501500248</td><td>0</td><td>824633721602</td><td>0</td><td>0</td><td>19</td><td>17061.107</td><td>0</td><td>0</td><td>0</td><td>0</td><td>0</td><td>0</td><td>417.29892</td><td>139.85483</td><td>--</td><td>--</td><td>--</td><td>--</td><td>--</td><td>--</td><td>--</td><td>2.5485485</td><td>2.5553668</td><td>0.99999875</td><td>1.0</td><td>0.9999976</td><td>0.99999976</td><td>2.0146634e-05</td><td>1.0424913e-05</td><td>2.5542123</td><td>2.5553668</td><td>2.5503817</td><td>2.55558</td><td>-0.20434706</td><td>0.49615356</td><td>10</td><td>38771</td><td>sv1</td><td>dark</td><td>20210212</td><td>15.50722 .. 0.021319406</td><td>1.4977623</td><td>0.0</td><td>0.0</td><td>0.0</td><td>0</td><td>-1.0 .. -1.0</td><td>-1.0 .. -1.0</td><td>-1.0 .. -1.0</td><td>-1.0 .. -1.0</td><td>168.16423</td><td>5.0478888</td><td>1</td><td>1347.2339 .. -1.0</td><td>2045.3514 .. -1.0</td><td>1390.8662 .. -1.0</td><td>-0.27373993 .. -1.0</td><td>0.0</td><td>0.0</td><td>0</td><td>-1.0 .. -1.0</td><td>-1.0 .. -1.0</td><td>-1.0 .. -1.0</td><td>-1.0 .. -1.0</td><td>0.0</td><td>0.0</td><td>0</td><td>-1.0 .. -1.0</td><td>-1.0 .. -1.0</td><td>-1.0 .. -1.0</td><td>-1.0 .. -1.0</td><td>0</td><td>2.5450530665013145</td><td>0.00012228177042953822</td><td>4</td><td>13813.454411387444</td><td>0.0</td><td>QSO</td><td>1.9225935759093555</td></tr>\n",
       "<tr><td>39627136847319542</td><td>2.334165306571836</td><td>0.00011927768655614493</td><td>0</td><td>QSO</td><td>0</td><td>163.32487960346054</td><td>-27.909257960373424</td><td>PSF</td><td>0.06449058</td><td>8.060436</td><td>9.266329</td><td>13.961395</td><td>17.785593</td><td>32.406742</td><td>215.88075</td><td>199.37141</td><td>63.222946</td><td>1.7885725</td><td>0.5398294</td><td>0.8058177000368452</td><td>0.8058177000368452</td><td>0.8058177000368452</td><td>0.8058177000368452</td><td>0.8058177000368452</td><td>0.9981405733823776</td><td>0</td><td>4665733337124491014</td><td>131072</td><td>0</td><td>19</td><td>17061.107</td><td>0</td><td>0</td><td>0</td><td>0</td><td>0</td><td>0</td><td>270.09314</td><td>130.79248</td><td>361.8064</td><td>0.602876</td><td>44.95604</td><td>2.3683345</td><td>0.0016881061</td><td>17.090488</td><td>0.0011731663</td><td>2.3341653</td><td>2.337243</td><td>0.9999999</td><td>0.9999998</td><td>0.99999934</td><td>0.9999992</td><td>2.1405694e-05</td><td>1.9597617e-05</td><td>2.337243</td><td>2.3374805</td><td>2.3341882</td><td>2.333792</td><td>-0.013425438</td><td>0.46398482</td><td>14</td><td>38771</td><td>sv1</td><td>dark</td><td>20210212</td><td>229.6426 .. 3.6772516</td><td>2.3033245</td><td>0.0</td><td>0.0</td><td>0.0</td><td>0</td><td>-1.0 .. -1.0</td><td>-1.0 .. -1.0</td><td>-1.0 .. -1.0</td><td>-1.0 .. -1.0</td><td>258.45255</td><td>2.6098938</td><td>2</td><td>5701.53 .. -1.0</td><td>6444.535 .. -1.0</td><td>5887.2812 .. -1.0</td><td>0.7411206 .. -1.0</td><td>0.0</td><td>0.0</td><td>0</td><td>-1.0 .. -1.0</td><td>-1.0 .. -1.0</td><td>-1.0 .. -1.0</td><td>-1.0 .. -1.0</td><td>0.0</td><td>0.0</td><td>0</td><td>-1.0 .. -1.0</td><td>-1.0 .. -1.0</td><td>-1.0 .. -1.0</td><td>-1.0 .. -1.0</td><td>0</td><td>2.3355071346961145</td><td>8.793429345364795e-05</td><td>4</td><td>28198.15796983242</td><td>0.0</td><td>QSO</td><td>20.436907698978683</td></tr>\n",
       "<tr><td>39627136855706167</td><td>2.3056549208746</td><td>0.0004066152323503047</td><td>0</td><td>GALAXY</td><td>0</td><td>163.7736877725022</td><td>-28.062269445189365</td><td>PSF</td><td>0.055616926</td><td>0.20278943</td><td>0.20011568</td><td>0.13047992</td><td>5.5004673</td><td>7.6691504</td><td>554.9627</td><td>358.52893</td><td>135.10875</td><td>3.411194</td><td>0.7222724</td><td>0.8301149848007436</td><td>0.8301149848007436</td><td>0.8301149848007436</td><td>0.8301149848007436</td><td>0.8301149848007436</td><td>0.04315127735026181</td><td>0</td><td>549755814402</td><td>0</td><td>0</td><td>19</td><td>17061.107</td><td>0</td><td>0</td><td>0</td><td>0</td><td>0</td><td>0</td><td>265.72916</td><td>121.97529</td><td>13.429698</td><td>-96.10703</td><td>4285.7104</td><td>96.11451</td><td>524620860000.0</td><td>259971320000000.0</td><td>524620860000.0</td><td>1.3933244</td><td>2.3134308</td><td>0.90258396</td><td>0.08237478</td><td>0.9878568</td><td>0.9637829</td><td>2.5538478e-05</td><td>8.147446e-06</td><td>2.3072474</td><td>2.3152096</td><td>2.3134308</td><td>2.3136456</td><td>0.8244072</td><td>0.4057671</td><td>24</td><td>38769</td><td>sv1</td><td>dark</td><td>20210212</td><td>0.02332556 .. -0.060189288</td><td>1.5516937</td><td>0.0</td><td>0.0</td><td>0.0</td><td>0</td><td>-1.0 .. -1.0</td><td>-1.0 .. -1.0</td><td>-1.0 .. -1.0</td><td>-1.0 .. -1.0</td><td>0.0</td><td>0.0</td><td>0</td><td>-1.0 .. -1.0</td><td>-1.0 .. -1.0</td><td>-1.0 .. -1.0</td><td>-1.0 .. -1.0</td><td>0.0</td><td>0.0</td><td>0</td><td>-1.0 .. -1.0</td><td>-1.0 .. -1.0</td><td>-1.0 .. -1.0</td><td>-1.0 .. -1.0</td><td>0.0</td><td>0.0</td><td>0</td><td>-1.0 .. -1.0</td><td>-1.0 .. -1.0</td><td>-1.0 .. -1.0</td><td>-1.0 .. -1.0</td><td>0</td><td>-1.0</td><td>-1.0</td><td>-1</td><td>-1.0</td><td>-1.0</td><td>-1</td><td>0.5204190753516182</td></tr>\n",
       "<tr><td>...</td><td>...</td><td>...</td><td>...</td><td>...</td><td>...</td><td>...</td><td>...</td><td>...</td><td>...</td><td>...</td><td>...</td><td>...</td><td>...</td><td>...</td><td>...</td><td>...</td><td>...</td><td>...</td><td>...</td><td>...</td><td>...</td><td>...</td><td>...</td><td>...</td><td>...</td><td>...</td><td>...</td><td>...</td><td>...</td><td>...</td><td>...</td><td>...</td><td>...</td><td>...</td><td>...</td><td>...</td><td>...</td><td>...</td><td>...</td><td>...</td><td>...</td><td>...</td><td>...</td><td>...</td><td>...</td><td>...</td><td>...</td><td>...</td><td>...</td><td>...</td><td>...</td><td>...</td><td>...</td><td>...</td><td>...</td><td>...</td><td>...</td><td>...</td><td>...</td><td>...</td><td>...</td><td>...</td><td>...</td><td>...</td><td>...</td><td>...</td><td>...</td><td>...</td><td>...</td><td>...</td><td>...</td><td>...</td><td>...</td><td>...</td><td>...</td><td>...</td><td>...</td><td>...</td><td>...</td><td>...</td><td>...</td><td>...</td><td>...</td><td>...</td><td>...</td><td>...</td><td>...</td><td>...</td><td>...</td><td>...</td><td>...</td><td>...</td><td>...</td><td>...</td><td>...</td><td>...</td><td>...</td><td>...</td><td>...</td><td>...</td><td>...</td><td>...</td><td>...</td><td>...</td></tr>\n",
       "<tr><td>616094218175120154</td><td>5.596570988966069</td><td>0.0012132306388712517</td><td>1</td><td>QSO</td><td>0</td><td>268.9082091222442</td><td>67.28579251718276</td><td>--</td><td>0.0</td><td>0.0</td><td>0.0</td><td>0.0</td><td>0.0</td><td>0.0</td><td>0.0</td><td>0.0</td><td>0.0</td><td>0.0</td><td>0.0</td><td>1.0</td><td>1.0</td><td>1.0</td><td>1.0</td><td>1.0</td><td>0.997675796508789</td><td>0</td><td>0</td><td>0</td><td>4294967296</td><td>1</td><td>782.6985</td><td>0</td><td>0</td><td>0</td><td>0</td><td>0</td><td>0</td><td>83.59529</td><td>38.082844</td><td>--</td><td>--</td><td>--</td><td>--</td><td>--</td><td>--</td><td>--</td><td>5.596571</td><td>2.634383</td><td>0.0017818969</td><td>0.011091358</td><td>0.6669671</td><td>0.0002881781</td><td>5.1790124e-05</td><td>9.361303e-05</td><td>2.675346</td><td>2.805466</td><td>2.634383</td><td>0.36690912</td><td>0.5797004</td><td>0.34395584</td><td>2</td><td>11607</td><td>sv3</td><td>dark</td><td>20210413</td><td>0.0 .. 0.0</td><td>0.0</td><td>-99.0</td><td>0.0</td><td>0.0</td><td>0</td><td>0.0 .. 0.0</td><td>0.0 .. 0.0</td><td>0.0 .. 0.0</td><td>0.0 .. 0.0</td><td>0.0</td><td>0.0</td><td>0</td><td>0.0 .. 0.0</td><td>0.0 .. 0.0</td><td>0.0 .. 0.0</td><td>0.0 .. 0.0</td><td>0.0</td><td>0.0</td><td>0</td><td>0.0 .. 0.0</td><td>0.0 .. 0.0</td><td>0.0 .. 0.0</td><td>0.0 .. 0.0</td><td>0.0</td><td>0.0</td><td>0</td><td>0.0 .. 0.0</td><td>0.0 .. 0.0</td><td>0.0 .. 0.0</td><td>0.0 .. 0.0</td><td>5</td><td>-1.0</td><td>-1.0</td><td>-1</td><td>-1.0</td><td>-1.0</td><td>-1</td><td>0.31185241355253523</td></tr>\n",
       "<tr><td>616094218179314456</td><td>4.718485470851825</td><td>0.001172222333616132</td><td>5</td><td>QSO</td><td>0</td><td>269.58817627912345</td><td>67.29113043196614</td><td>--</td><td>0.0</td><td>0.0</td><td>0.0</td><td>0.0</td><td>0.0</td><td>0.0</td><td>0.0</td><td>0.0</td><td>0.0</td><td>0.0</td><td>0.0</td><td>1.0</td><td>1.0</td><td>1.0</td><td>1.0</td><td>1.0</td><td>0.997675796508789</td><td>0</td><td>0</td><td>0</td><td>4294967296</td><td>3</td><td>2085.501</td><td>0</td><td>0</td><td>0</td><td>0</td><td>0</td><td>0</td><td>68.05509</td><td>36.144512</td><td>--</td><td>--</td><td>--</td><td>--</td><td>--</td><td>--</td><td>--</td><td>4.7184854</td><td>2.35118</td><td>0.00016207423</td><td>8.2275554e-05</td><td>0.0001852919</td><td>0.002528342</td><td>0.002482982</td><td>5.6920202e-05</td><td>2.307915</td><td>3.5031724</td><td>1.5345113</td><td>2.35118</td><td>0.55950654</td><td>0.44415006</td><td>2</td><td>11607</td><td>sv3</td><td>dark</td><td>20210412</td><td>-0.7774709 .. 0.093127556</td><td>1.0458666</td><td>0.0</td><td>0.0</td><td>0.0</td><td>0</td><td>-1.0 .. -1.0</td><td>-1.0 .. -1.0</td><td>-1.0 .. -1.0</td><td>-1.0 .. -1.0</td><td>0.0</td><td>0.0</td><td>0</td><td>-1.0 .. -1.0</td><td>-1.0 .. -1.0</td><td>-1.0 .. -1.0</td><td>-1.0 .. -1.0</td><td>0.0</td><td>0.0</td><td>0</td><td>-1.0 .. -1.0</td><td>-1.0 .. -1.0</td><td>-1.0 .. -1.0</td><td>-1.0 .. -1.0</td><td>0.0</td><td>0.0</td><td>0</td><td>-1.0 .. -1.0</td><td>-1.0 .. -1.0</td><td>-1.0 .. -1.0</td><td>-1.0 .. -1.0</td><td>0</td><td>-1.0</td><td>-1.0</td><td>-1</td><td>-1.0</td><td>-1.0</td><td>-1</td><td>0.4032498440303089</td></tr>\n",
       "<tr><td>616094218179314845</td><td>5.608092219228064</td><td>0.001237050759102965</td><td>1</td><td>QSO</td><td>0</td><td>269.4988227554733</td><td>67.36594385671475</td><td>--</td><td>0.0</td><td>0.0</td><td>0.0</td><td>0.0</td><td>0.0</td><td>0.0</td><td>0.0</td><td>0.0</td><td>0.0</td><td>0.0</td><td>0.0</td><td>1.0</td><td>1.0</td><td>1.0</td><td>1.0</td><td>1.0</td><td>0.997675796508789</td><td>0</td><td>0</td><td>0</td><td>4294967296</td><td>1</td><td>769.1617</td><td>0</td><td>0</td><td>0</td><td>0</td><td>0</td><td>0</td><td>59.39539</td><td>33.78589</td><td>--</td><td>--</td><td>--</td><td>--</td><td>--</td><td>--</td><td>--</td><td>5.6080923</td><td>2.2866373</td><td>0.0056803613</td><td>0.0019865576</td><td>0.0007303966</td><td>0.0024062344</td><td>5.040588e-05</td><td>9.8524615e-05</td><td>2.2866373</td><td>2.300043</td><td>1.6947527</td><td>2.1493094</td><td>0.11675716</td><td>0.16149856</td><td>2</td><td>11607</td><td>sv3</td><td>dark</td><td>20210406</td><td>0.0 .. 0.0</td><td>0.0</td><td>-99.0</td><td>0.0</td><td>0.0</td><td>0</td><td>0.0 .. 0.0</td><td>0.0 .. 0.0</td><td>0.0 .. 0.0</td><td>0.0 .. 0.0</td><td>0.0</td><td>0.0</td><td>0</td><td>0.0 .. 0.0</td><td>0.0 .. 0.0</td><td>0.0 .. 0.0</td><td>0.0 .. 0.0</td><td>0.0</td><td>0.0</td><td>0</td><td>0.0 .. 0.0</td><td>0.0 .. 0.0</td><td>0.0 .. 0.0</td><td>0.0 .. 0.0</td><td>0.0</td><td>0.0</td><td>0</td><td>0.0 .. 0.0</td><td>0.0 .. 0.0</td><td>0.0 .. 0.0</td><td>0.0 .. 0.0</td><td>5</td><td>-1.0</td><td>-1.0</td><td>-1</td><td>-1.0</td><td>-1.0</td><td>-1</td><td>0.3263936106489056</td></tr>\n",
       "<tr><td>616094218187702398</td><td>2.6155452326742075</td><td>0.000816847663372755</td><td>5</td><td>GALAXY</td><td>0</td><td>270.8776265526053</td><td>67.14412138634127</td><td>--</td><td>0.0</td><td>0.0</td><td>0.0</td><td>0.0</td><td>0.0</td><td>0.0</td><td>0.0</td><td>0.0</td><td>0.0</td><td>0.0</td><td>0.0</td><td>1.0</td><td>1.0</td><td>1.0</td><td>1.0</td><td>1.0</td><td>0.997675796508789</td><td>0</td><td>0</td><td>0</td><td>4294967296</td><td>2</td><td>1323.326</td><td>0</td><td>0</td><td>0</td><td>0</td><td>0</td><td>0</td><td>96.14569</td><td>43.14362</td><td>1.7679732</td><td>65.54402</td><td>4242.233</td><td>-65.502106</td><td>2895305200000.0</td><td>3256072000000000.0</td><td>2895305500000.0</td><td>1.0723258</td><td>2.6100345</td><td>0.74638724</td><td>0.7779422</td><td>0.9997758</td><td>5.076688e-06</td><td>5.9522986e-06</td><td>0.000101524696</td><td>2.604717</td><td>2.6090322</td><td>2.6100345</td><td>0.5583677</td><td>0.14281675</td><td>0.18472767</td><td>24</td><td>16043</td><td>sv3</td><td>dark</td><td>20210407</td><td>1.5530185 .. 0.13349554</td><td>0.9990643</td><td>0.0</td><td>0.0</td><td>0.0</td><td>0</td><td>-1.0 .. -1.0</td><td>-1.0 .. -1.0</td><td>-1.0 .. -1.0</td><td>-1.0 .. -1.0</td><td>0.0</td><td>0.0</td><td>0</td><td>-1.0 .. -1.0</td><td>-1.0 .. -1.0</td><td>-1.0 .. -1.0</td><td>-1.0 .. -1.0</td><td>0.0</td><td>0.0</td><td>0</td><td>-1.0 .. -1.0</td><td>-1.0 .. -1.0</td><td>-1.0 .. -1.0</td><td>-1.0 .. -1.0</td><td>0.0</td><td>0.0</td><td>0</td><td>-1.0 .. -1.0</td><td>-1.0 .. -1.0</td><td>-1.0 .. -1.0</td><td>-1.0 .. -1.0</td><td>0</td><td>-1.0</td><td>-1.0</td><td>-1</td><td>-1.0</td><td>-1.0</td><td>-1</td><td>0.504323857635416</td></tr>\n",
       "<tr><td>616094218191896647</td><td>2.5913525629226766</td><td>0.0008382483501918614</td><td>5</td><td>GALAXY</td><td>0</td><td>271.9057785067862</td><td>67.13375011409214</td><td>--</td><td>0.0</td><td>0.0</td><td>0.0</td><td>0.0</td><td>0.0</td><td>0.0</td><td>0.0</td><td>0.0</td><td>0.0</td><td>0.0</td><td>0.0</td><td>1.0</td><td>1.0</td><td>1.0</td><td>1.0</td><td>1.0</td><td>0.997675796508789</td><td>0</td><td>0</td><td>0</td><td>4294967296</td><td>1</td><td>929.0727</td><td>0</td><td>0</td><td>0</td><td>0</td><td>0</td><td>0</td><td>131.00568</td><td>44.67247</td><td>2.208895</td><td>-141.28963</td><td>4286.848</td><td>141.26836</td><td>866887200000.0</td><td>205228020000000.0</td><td>866887200000.0</td><td>1.2525421</td><td>2.589978</td><td>0.46179932</td><td>0.031178556</td><td>0.9935011</td><td>8.607594e-05</td><td>1.3409107e-05</td><td>9.932994e-06</td><td>2.6124213</td><td>2.6191304</td><td>2.589978</td><td>0.5571379</td><td>0.56214964</td><td>0.46644393</td><td>24</td><td>16043</td><td>sv3</td><td>dark</td><td>20210411</td><td>-0.033173528 .. -0.2658162</td><td>0.9241207</td><td>0.0</td><td>0.0</td><td>0.0</td><td>0</td><td>-1.0 .. -1.0</td><td>-1.0 .. -1.0</td><td>-1.0 .. -1.0</td><td>-1.0 .. -1.0</td><td>0.0</td><td>0.0</td><td>0</td><td>-1.0 .. -1.0</td><td>-1.0 .. -1.0</td><td>-1.0 .. -1.0</td><td>-1.0 .. -1.0</td><td>0.0</td><td>0.0</td><td>0</td><td>-1.0 .. -1.0</td><td>-1.0 .. -1.0</td><td>-1.0 .. -1.0</td><td>-1.0 .. -1.0</td><td>0.0</td><td>0.0</td><td>0</td><td>-1.0 .. -1.0</td><td>-1.0 .. -1.0</td><td>-1.0 .. -1.0</td><td>-1.0 .. -1.0</td><td>0</td><td>-1.0</td><td>-1.0</td><td>-1</td><td>-1.0</td><td>-1.0</td><td>-1</td><td>0.37662607832689926</td></tr>\n",
       "<tr><td>616094220507152830</td><td>5.3852931083549125</td><td>0.0006936708711524979</td><td>5</td><td>QSO</td><td>0</td><td>269.16646187344423</td><td>67.4640526806483</td><td>--</td><td>0.0</td><td>0.0</td><td>0.0</td><td>0.0</td><td>0.0</td><td>0.0</td><td>0.0</td><td>0.0</td><td>0.0</td><td>0.0</td><td>0.0</td><td>1.0</td><td>1.0</td><td>1.0</td><td>1.0</td><td>1.0</td><td>0.997675796508789</td><td>0</td><td>0</td><td>0</td><td>4294967296</td><td>1</td><td>894.5191</td><td>0</td><td>0</td><td>0</td><td>0</td><td>0</td><td>0</td><td>102.61457</td><td>40.256477</td><td>--</td><td>--</td><td>--</td><td>--</td><td>--</td><td>--</td><td>--</td><td>5.385293</td><td>0.5369672</td><td>5.2842508e-05</td><td>0.00050949893</td><td>7.4532385e-05</td><td>2.0113752e-05</td><td>0.0010094945</td><td>2.396517e-06</td><td>2.9485352</td><td>2.115856</td><td>2.9544857</td><td>0.5376436</td><td>0.5369672</td><td>0.26035058</td><td>2</td><td>11607</td><td>sv3</td><td>dark</td><td>20210417</td><td>0.0 .. 0.0</td><td>0.0</td><td>-99.0</td><td>0.0</td><td>0.0</td><td>0</td><td>0.0 .. 0.0</td><td>0.0 .. 0.0</td><td>0.0 .. 0.0</td><td>0.0 .. 0.0</td><td>0.0</td><td>0.0</td><td>0</td><td>0.0 .. 0.0</td><td>0.0 .. 0.0</td><td>0.0 .. 0.0</td><td>0.0 .. 0.0</td><td>0.0</td><td>0.0</td><td>0</td><td>0.0 .. 0.0</td><td>0.0 .. 0.0</td><td>0.0 .. 0.0</td><td>0.0 .. 0.0</td><td>0.0</td><td>0.0</td><td>0</td><td>0.0 .. 0.0</td><td>0.0 .. 0.0</td><td>0.0 .. 0.0</td><td>0.0 .. 0.0</td><td>5</td><td>-1.0</td><td>-1.0</td><td>-1</td><td>-1.0</td><td>-1.0</td><td>-1</td><td>0.3270850038196708</td></tr>\n",
       "</table></div>"
      ],
      "text/plain": [
       "<Table length=26763>\n",
       "     TARGETID              Z          ... SPECTYPE_MASK       SNR_CIV      \n",
       "                                      ...                                  \n",
       "      int64             float64       ...      str6           float64      \n",
       "------------------ ------------------ ... ------------- -------------------\n",
       " 39627126193784363  2.861444156203475 ...            -1  0.8195935774921809\n",
       " 39627131495384271 2.2484643217033646 ...            -1  0.7660470114283564\n",
       " 39627131507969517   2.33464680293142 ...            -1  0.8932599670963901\n",
       " 39627131507970322 2.5485485551305027 ...           QSO  1.9225935759093555\n",
       " 39627136847319542  2.334165306571836 ...           QSO  20.436907698978683\n",
       " 39627136855706167    2.3056549208746 ...            -1  0.5204190753516182\n",
       "               ...                ... ...           ...                 ...\n",
       "616094218175120154  5.596570988966069 ...            -1 0.31185241355253523\n",
       "616094218179314456  4.718485470851825 ...            -1  0.4032498440303089\n",
       "616094218179314845  5.608092219228064 ...            -1  0.3263936106489056\n",
       "616094218187702398 2.6155452326742075 ...            -1   0.504323857635416\n",
       "616094218191896647 2.5913525629226766 ...            -1 0.37662607832689926\n",
       "616094220507152830 5.3852931083549125 ...            -1  0.3270850038196708"
      ]
     },
     "execution_count": 18,
     "metadata": {},
     "output_type": "execute_result"
    }
   ],
   "source": [
    "bal_13_LNc"
   ]
  },
  {
   "cell_type": "code",
   "execution_count": 19,
   "id": "efb1a25a",
   "metadata": {
    "ExecuteTime": {
     "end_time": "2023-08-26T21:23:50.146568Z",
     "start_time": "2023-08-26T21:23:48.037419Z"
    }
   },
   "outputs": [
    {
     "name": "stderr",
     "output_type": "stream",
     "text": [
      "WARNING: UnitsWarning: 'nanomaggy' did not parse as fits unit: At col 0, Unit 'nanomaggy' not supported by the FITS standard.  If this is meant to be a custom unit, define it with 'u.def_unit'. To have it recognized inside a file reader or other code, enable it with 'u.add_enabled_units'. For details, see https://docs.astropy.org/en/latest/units/combining_and_defining.html [astropy.units.core]\n",
      "WARNING: UnitsWarning: 'nanomaggy^-2' did not parse as fits unit: At col 0, Unit 'nanomaggy' not supported by the FITS standard.  If this is meant to be a custom unit, define it with 'u.def_unit'. To have it recognized inside a file reader or other code, enable it with 'u.add_enabled_units'. For details, see https://docs.astropy.org/en/latest/units/combining_and_defining.html [astropy.units.core]\n"
     ]
    }
   ],
   "source": [
    "hdu = fits.BinTableHDU(bal_13_LNc)\n",
    "\n",
    "with fits.open('/home/colgoat/spc_DESIedr/catQSO_dark_bal_mask_sv13_wLN.fits', mode='update') as passer:\n",
    "    passer[1] = hdu\n",
    "    hdr = passer[1].header\n",
    "    hdr['EXTNAME'] = 'CATALOG'\n",
    "    passer.flush()  # changes are written back to original.fits"
   ]
  },
  {
   "cell_type": "code",
   "execution_count": 20,
   "id": "e1ae696d",
   "metadata": {
    "ExecuteTime": {
     "end_time": "2023-08-26T21:23:50.889560Z",
     "start_time": "2023-08-26T21:23:50.148947Z"
    }
   },
   "outputs": [
    {
     "data": {
      "text/html": [
       "<div><i>Table length=26763</i>\n",
       "<table id=\"table139988162940784\" class=\"table-striped table-bordered table-condensed\">\n",
       "<thead><tr><th>TARGETID</th><th>Z</th><th>ZERR</th><th>ZWARN</th><th>SPECTYPE</th><th>COADD_FIBERSTATUS</th><th>TARGET_RA</th><th>TARGET_DEC</th><th>MORPHTYPE</th><th>EBV</th><th>FLUX_G</th><th>FLUX_R</th><th>FLUX_Z</th><th>FLUX_W1</th><th>FLUX_W2</th><th>FLUX_IVAR_G</th><th>FLUX_IVAR_R</th><th>FLUX_IVAR_Z</th><th>FLUX_IVAR_W1</th><th>FLUX_IVAR_W2</th><th>MW_TRANSMISSION_G</th><th>MW_TRANSMISSION_R</th><th>MW_TRANSMISSION_Z</th><th>MW_TRANSMISSION_W1</th><th>MW_TRANSMISSION_W2</th><th>PROBA_RF</th><th>MASKBITS</th><th>SV1_DESI_TARGET</th><th>SV1_SCND_TARGET</th><th>DESI_TARGET</th><th>COADD_NUMEXP</th><th>COADD_EXPTIME</th><th>CMX_TARGET</th><th>SV2_DESI_TARGET</th><th>SV3_DESI_TARGET</th><th>SV2_SCND_TARGET</th><th>SV3_SCND_TARGET</th><th>SCND_TARGET</th><th>TSNR2_LYA</th><th>TSNR2_QSO</th><th>DELTA_CHI2_MGII</th><th>A_MGII</th><th>SIGMA_MGII</th><th>B_MGII</th><th>VAR_A_MGII</th><th>VAR_SIGMA_MGII</th><th>VAR_B_MGII</th><th>Z_RR</th><th>Z_QN</th><th>C_LYA</th><th>C_CIV</th><th>C_CIII</th><th>C_MgII</th><th>C_Hbeta</th><th>C_Halpha</th><th>Z_LYA</th><th>Z_CIV</th><th>Z_CIII</th><th>Z_MgII</th><th>Z_Hbeta</th><th>Z_Halpha</th><th>QSO_MASKBITS</th><th>HPXPIXEL</th><th>SURVEY</th><th>PROGRAM</th><th>LASTNIGHT</th><th>PCA_COEFFS</th><th>PCA_CHI2</th><th>BAL_PROB</th><th>BI_CIV</th><th>ERR_BI_CIV</th><th>NCIV_2000</th><th>VMIN_CIV_2000</th><th>VMAX_CIV_2000</th><th>POSMIN_CIV_2000</th><th>FMIN_CIV_2000</th><th>AI_CIV</th><th>ERR_AI_CIV</th><th>NCIV_450</th><th>VMIN_CIV_450</th><th>VMAX_CIV_450</th><th>POSMIN_CIV_450</th><th>FMIN_CIV_450</th><th>BI_SIIV</th><th>ERR_BI_SIIV</th><th>NSIIV_2000</th><th>VMIN_SIIV_2000</th><th>VMAX_SIIV_2000</th><th>POSMIN_SIIV_2000</th><th>FMIN_SIIV_2000</th><th>AI_SIIV</th><th>ERR_AI_SIIV</th><th>NSIIV_450</th><th>VMIN_SIIV_450</th><th>VMAX_SIIV_450</th><th>POSMIN_SIIV_450</th><th>FMIN_SIIV_450</th><th>BALMASK</th><th>Z_MASK</th><th>ZERR_MASK</th><th>ZWARN_MASK</th><th>CHI2_MASK</th><th>DELTACHI2_MASK</th><th>SPECTYPE_MASK</th><th>SNR_CIV</th></tr></thead>\n",
       "<thead><tr><th></th><th></th><th></th><th></th><th></th><th></th><th>deg</th><th>deg</th><th></th><th>mag</th><th>nanomaggy</th><th>nanomaggy</th><th>nanomaggy</th><th>nanomaggy</th><th>nanomaggy</th><th>nanomaggy^-2</th><th>nanomaggy^-2</th><th>nanomaggy^-2</th><th>nanomaggy^-2</th><th>nanomaggy^-2</th><th></th><th></th><th></th><th></th><th></th><th></th><th></th><th></th><th></th><th></th><th></th><th></th><th></th><th></th><th></th><th></th><th></th><th></th><th></th><th></th><th></th><th></th><th></th><th></th><th></th><th></th><th></th><th></th><th></th><th></th><th></th><th></th><th></th><th></th><th></th><th></th><th></th><th></th><th></th><th></th><th></th><th></th><th></th><th></th><th></th><th></th><th></th><th></th><th></th><th>km / s</th><th>km / s</th><th></th><th>km / s</th><th>km / s</th><th>km / s</th><th></th><th>km / s</th><th>km / s</th><th></th><th>km / s</th><th>km / s</th><th>km / s</th><th></th><th>km / s</th><th>km / s</th><th></th><th>km / s</th><th>km / s</th><th>km / s</th><th></th><th>km / s</th><th>km / s</th><th></th><th>km / s</th><th>km / s</th><th>km / s</th><th></th><th></th><th></th><th></th><th></th><th></th><th></th><th></th><th></th></tr></thead>\n",
       "<thead><tr><th>int64</th><th>float64</th><th>float64</th><th>int64</th><th>bytes6</th><th>int32</th><th>float64</th><th>float64</th><th>bytes4</th><th>float32</th><th>float32</th><th>float32</th><th>float32</th><th>float32</th><th>float32</th><th>float32</th><th>float32</th><th>float32</th><th>float32</th><th>float32</th><th>float64</th><th>float64</th><th>float64</th><th>float64</th><th>float64</th><th>float64</th><th>int16</th><th>int64</th><th>int64</th><th>int64</th><th>int16</th><th>float32</th><th>int64</th><th>int64</th><th>int64</th><th>int64</th><th>int64</th><th>int64</th><th>float32</th><th>float32</th><th>float32</th><th>float32</th><th>float32</th><th>float32</th><th>float32</th><th>float32</th><th>float32</th><th>float32</th><th>float32</th><th>float32</th><th>float32</th><th>float32</th><th>float32</th><th>float32</th><th>float32</th><th>float32</th><th>float32</th><th>float32</th><th>float32</th><th>float32</th><th>float32</th><th>int32</th><th>int64</th><th>bytes3</th><th>bytes4</th><th>int32</th><th>float32[5]</th><th>float32</th><th>float32</th><th>float32</th><th>float32</th><th>int32</th><th>float32[5]</th><th>float32[5]</th><th>float32[5]</th><th>float32[5]</th><th>float32</th><th>float32</th><th>int32</th><th>float32[17]</th><th>float32[17]</th><th>float32[17]</th><th>float32[17]</th><th>float32</th><th>float32</th><th>int32</th><th>float32[5]</th><th>float32[5]</th><th>float32[5]</th><th>float32[5]</th><th>float32</th><th>float32</th><th>int32</th><th>float32[17]</th><th>float32[17]</th><th>float32[17]</th><th>float32[17]</th><th>uint8</th><th>float64</th><th>float64</th><th>int64</th><th>float64</th><th>float64</th><th>bytes6</th><th>float64</th></tr></thead>\n",
       "<tr><td>39627126193784363</td><td>2.861444156203475</td><td>0.0004390203909165424</td><td>0</td><td>QSO</td><td>0</td><td>163.34224841332946</td><td>-28.383592117072975</td><td>PSF</td><td>0.056114484</td><td>0.22035833</td><td>0.24633299</td><td>0.2883746</td><td>5.040667</td><td>3.8000672</td><td>1079.8296</td><td>834.0869</td><td>183.63834</td><td>3.4844775</td><td>0.7739383</td><td>0.8287334193652452</td><td>0.8287334193652452</td><td>0.8287334193652452</td><td>0.8287334193652452</td><td>0.8287334193652452</td><td>0.2498812813325785</td><td>0</td><td>549755814402</td><td>0</td><td>0</td><td>19</td><td>17061.107</td><td>0</td><td>0</td><td>0</td><td>0</td><td>0</td><td>0</td><td>429.65128</td><td>131.00398</td><td>--</td><td>--</td><td>--</td><td>--</td><td>--</td><td>--</td><td>--</td><td>2.8614442</td><td>2.8628533</td><td>0.9959417</td><td>0.92074513</td><td>0.5857079</td><td>0.4896148</td><td>0.001158042</td><td>0.0001235028</td><td>2.8628533</td><td>2.8609123</td><td>2.1212556</td><td>2.1074882</td><td>0.36590034</td><td>0.05881108</td><td>10</td><td>38771</td><td>sv1</td><td>dark</td><td>20210212</td><td>3.7389505 .. -1.0375798</td><td>1.8037806</td><td>0.0</td><td>0.0</td><td>0.0</td><td>0</td><td>-1.0 .. -1.0</td><td>-1.0 .. -1.0</td><td>-1.0 .. -1.0</td><td>-1.0 .. -1.0</td><td>0.0</td><td>0.0</td><td>0</td><td>-1.0 .. -1.0</td><td>-1.0 .. -1.0</td><td>-1.0 .. -1.0</td><td>-1.0 .. -1.0</td><td>0.0</td><td>0.0</td><td>0</td><td>-1.0 .. -1.0</td><td>-1.0 .. -1.0</td><td>-1.0 .. -1.0</td><td>-1.0 .. -1.0</td><td>0.0</td><td>0.0</td><td>0</td><td>-1.0 .. -1.0</td><td>-1.0 .. -1.0</td><td>-1.0 .. -1.0</td><td>-1.0 .. -1.0</td><td>0</td><td>-1.0</td><td>-1.0</td><td>-1</td><td>-1.0</td><td>-1.0</td><td>-1</td><td>0.8195935774921809</td></tr>\n",
       "<tr><td>39627131495384271</td><td>2.2484643217033646</td><td>0.0003227390116080642</td><td>0</td><td>GALAXY</td><td>0</td><td>161.91828131658428</td><td>-28.192263156157672</td><td>REX</td><td>0.062367868</td><td>0.38231152</td><td>0.6488977</td><td>1.5420872</td><td>2.10844</td><td>3.2716653</td><td>423.10953</td><td>321.8081</td><td>78.951126</td><td>3.4995875</td><td>0.77653664</td><td>0.8115644671584047</td><td>0.8115644671584047</td><td>0.8115644671584047</td><td>0.8115644671584047</td><td>0.8115644671584047</td><td>0.7119825367890298</td><td>0</td><td>4123168608002</td><td>0</td><td>0</td><td>19</td><td>17061.107</td><td>0</td><td>0</td><td>0</td><td>0</td><td>0</td><td>0</td><td>129.02957</td><td>126.519226</td><td>2.0043762</td><td>103.66812</td><td>3941.6396</td><td>-103.52978</td><td>6101342400000.0</td><td>2206055300000000.0</td><td>6101343000000.0</td><td>0.82062626</td><td>2.2044537</td><td>0.00058004295</td><td>0.000117315016</td><td>0.98509276</td><td>0.35787344</td><td>1.9994082e-05</td><td>7.00337e-07</td><td>2.181541</td><td>2.2812526</td><td>2.2044537</td><td>2.2091928</td><td>0.5625591</td><td>0.061835185</td><td>24</td><td>38776</td><td>sv1</td><td>dark</td><td>20210212</td><td>7.030149 .. -0.04720141</td><td>1.5978751</td><td>0.0</td><td>0.0</td><td>0.0</td><td>0</td><td>-1.0 .. -1.0</td><td>-1.0 .. -1.0</td><td>-1.0 .. -1.0</td><td>-1.0 .. -1.0</td><td>0.0</td><td>0.0</td><td>0</td><td>-1.0 .. -1.0</td><td>-1.0 .. -1.0</td><td>-1.0 .. -1.0</td><td>-1.0 .. -1.0</td><td>0.0</td><td>0.0</td><td>0</td><td>-1.0 .. -1.0</td><td>-1.0 .. -1.0</td><td>-1.0 .. -1.0</td><td>-1.0 .. -1.0</td><td>0.0</td><td>0.0</td><td>0</td><td>-1.0 .. -1.0</td><td>-1.0 .. -1.0</td><td>-1.0 .. -1.0</td><td>-1.0 .. -1.0</td><td>0</td><td>-1.0</td><td>-1.0</td><td>-1</td><td>-1.0</td><td>-1.0</td><td>-1</td><td>0.7660470114283564</td></tr>\n",
       "<tr><td>39627131507969517</td><td>2.33464680293142</td><td>0.0002608130353115237</td><td>0</td><td>QSO</td><td>0</td><td>162.9177792876319</td><td>-28.26687687686011</td><td>PSF</td><td>0.07280108</td><td>0.2906743</td><td>0.20007244</td><td>0.56312853</td><td>8.939368</td><td>15.872808</td><td>571.44104</td><td>512.46173</td><td>119.94766</td><td>3.331404</td><td>0.72458297</td><td>0.783707704082199</td><td>0.783707704082199</td><td>0.783707704082199</td><td>0.783707704082199</td><td>0.783707704082199</td><td>0.1568238693517633</td><td>0</td><td>2748779072002</td><td>0</td><td>0</td><td>19</td><td>17061.107</td><td>0</td><td>0</td><td>0</td><td>0</td><td>0</td><td>0</td><td>264.65802</td><td>129.26712</td><td>7.636312</td><td>1.0038822</td><td>361.42804</td><td>-0.88919437</td><td>4002.6777</td><td>143109660.0</td><td>4004.8918</td><td>2.3346467</td><td>2.3293674</td><td>0.99999976</td><td>0.9999995</td><td>1.0</td><td>1.0</td><td>1.0072326e-05</td><td>9.119165e-06</td><td>2.3290715</td><td>2.3294525</td><td>2.327736</td><td>2.3293674</td><td>0.7193936</td><td>-0.15980369</td><td>10</td><td>38771</td><td>sv1</td><td>dark</td><td>20210212</td><td>4.1117835 .. -0.09368848</td><td>1.42652</td><td>0.0</td><td>0.0</td><td>0.0</td><td>0</td><td>-1.0 .. -1.0</td><td>-1.0 .. -1.0</td><td>-1.0 .. -1.0</td><td>-1.0 .. -1.0</td><td>0.0</td><td>0.0</td><td>0</td><td>-1.0 .. -1.0</td><td>-1.0 .. -1.0</td><td>-1.0 .. -1.0</td><td>-1.0 .. -1.0</td><td>0.0</td><td>0.0</td><td>0</td><td>-1.0 .. -1.0</td><td>-1.0 .. -1.0</td><td>-1.0 .. -1.0</td><td>-1.0 .. -1.0</td><td>0.0</td><td>0.0</td><td>0</td><td>-1.0 .. -1.0</td><td>-1.0 .. -1.0</td><td>-1.0 .. -1.0</td><td>-1.0 .. -1.0</td><td>0</td><td>-1.0</td><td>-1.0</td><td>-1</td><td>-1.0</td><td>-1.0</td><td>-1</td><td>0.8932599670963901</td></tr>\n",
       "<tr><td>39627131507970322</td><td>2.5485485551305027</td><td>0.00021850375537279848</td><td>0</td><td>QSO</td><td>0</td><td>162.96527319225862</td><td>-28.129906664475783</td><td>PSF</td><td>0.07075773</td><td>1.5521915</td><td>1.5672305</td><td>2.0498343</td><td>2.7582824</td><td>-0.37862152</td><td>439.37424</td><td>407.05936</td><td>113.63421</td><td>3.490648</td><td>0.77466345</td><td>0.7890871220747506</td><td>0.7890871220747506</td><td>0.7890871220747506</td><td>0.7890871220747506</td><td>0.7890871220747506</td><td>0.7374692501500248</td><td>0</td><td>824633721602</td><td>0</td><td>0</td><td>19</td><td>17061.107</td><td>0</td><td>0</td><td>0</td><td>0</td><td>0</td><td>0</td><td>417.29892</td><td>139.85483</td><td>--</td><td>--</td><td>--</td><td>--</td><td>--</td><td>--</td><td>--</td><td>2.5485485</td><td>2.5553668</td><td>0.99999875</td><td>1.0</td><td>0.9999976</td><td>0.99999976</td><td>2.0146634e-05</td><td>1.0424913e-05</td><td>2.5542123</td><td>2.5553668</td><td>2.5503817</td><td>2.55558</td><td>-0.20434706</td><td>0.49615356</td><td>10</td><td>38771</td><td>sv1</td><td>dark</td><td>20210212</td><td>15.50722 .. 0.021319406</td><td>1.4977623</td><td>0.0</td><td>0.0</td><td>0.0</td><td>0</td><td>-1.0 .. -1.0</td><td>-1.0 .. -1.0</td><td>-1.0 .. -1.0</td><td>-1.0 .. -1.0</td><td>168.16423</td><td>5.0478888</td><td>1</td><td>1347.2339 .. -1.0</td><td>2045.3514 .. -1.0</td><td>1390.8662 .. -1.0</td><td>-0.27373993 .. -1.0</td><td>0.0</td><td>0.0</td><td>0</td><td>-1.0 .. -1.0</td><td>-1.0 .. -1.0</td><td>-1.0 .. -1.0</td><td>-1.0 .. -1.0</td><td>0.0</td><td>0.0</td><td>0</td><td>-1.0 .. -1.0</td><td>-1.0 .. -1.0</td><td>-1.0 .. -1.0</td><td>-1.0 .. -1.0</td><td>0</td><td>2.5450530665013145</td><td>0.00012228177042953822</td><td>4</td><td>13813.454411387444</td><td>0.0</td><td>QSO</td><td>1.9225935759093555</td></tr>\n",
       "<tr><td>39627136847319542</td><td>2.334165306571836</td><td>0.00011927768655614493</td><td>0</td><td>QSO</td><td>0</td><td>163.32487960346054</td><td>-27.909257960373424</td><td>PSF</td><td>0.06449058</td><td>8.060436</td><td>9.266329</td><td>13.961395</td><td>17.785593</td><td>32.406742</td><td>215.88075</td><td>199.37141</td><td>63.222946</td><td>1.7885725</td><td>0.5398294</td><td>0.8058177000368452</td><td>0.8058177000368452</td><td>0.8058177000368452</td><td>0.8058177000368452</td><td>0.8058177000368452</td><td>0.9981405733823776</td><td>0</td><td>4665733337124491014</td><td>131072</td><td>0</td><td>19</td><td>17061.107</td><td>0</td><td>0</td><td>0</td><td>0</td><td>0</td><td>0</td><td>270.09314</td><td>130.79248</td><td>361.8064</td><td>0.602876</td><td>44.95604</td><td>2.3683345</td><td>0.0016881061</td><td>17.090488</td><td>0.0011731663</td><td>2.3341653</td><td>2.337243</td><td>0.9999999</td><td>0.9999998</td><td>0.99999934</td><td>0.9999992</td><td>2.1405694e-05</td><td>1.9597617e-05</td><td>2.337243</td><td>2.3374805</td><td>2.3341882</td><td>2.333792</td><td>-0.013425438</td><td>0.46398482</td><td>14</td><td>38771</td><td>sv1</td><td>dark</td><td>20210212</td><td>229.6426 .. 3.6772516</td><td>2.3033245</td><td>0.0</td><td>0.0</td><td>0.0</td><td>0</td><td>-1.0 .. -1.0</td><td>-1.0 .. -1.0</td><td>-1.0 .. -1.0</td><td>-1.0 .. -1.0</td><td>258.45255</td><td>2.6098938</td><td>2</td><td>5701.53 .. -1.0</td><td>6444.535 .. -1.0</td><td>5887.2812 .. -1.0</td><td>0.7411206 .. -1.0</td><td>0.0</td><td>0.0</td><td>0</td><td>-1.0 .. -1.0</td><td>-1.0 .. -1.0</td><td>-1.0 .. -1.0</td><td>-1.0 .. -1.0</td><td>0.0</td><td>0.0</td><td>0</td><td>-1.0 .. -1.0</td><td>-1.0 .. -1.0</td><td>-1.0 .. -1.0</td><td>-1.0 .. -1.0</td><td>0</td><td>2.3355071346961145</td><td>8.793429345364795e-05</td><td>4</td><td>28198.15796983242</td><td>0.0</td><td>QSO</td><td>20.436907698978683</td></tr>\n",
       "<tr><td>39627136855706167</td><td>2.3056549208746</td><td>0.0004066152323503047</td><td>0</td><td>GALAXY</td><td>0</td><td>163.7736877725022</td><td>-28.062269445189365</td><td>PSF</td><td>0.055616926</td><td>0.20278943</td><td>0.20011568</td><td>0.13047992</td><td>5.5004673</td><td>7.6691504</td><td>554.9627</td><td>358.52893</td><td>135.10875</td><td>3.411194</td><td>0.7222724</td><td>0.8301149848007436</td><td>0.8301149848007436</td><td>0.8301149848007436</td><td>0.8301149848007436</td><td>0.8301149848007436</td><td>0.04315127735026181</td><td>0</td><td>549755814402</td><td>0</td><td>0</td><td>19</td><td>17061.107</td><td>0</td><td>0</td><td>0</td><td>0</td><td>0</td><td>0</td><td>265.72916</td><td>121.97529</td><td>13.429698</td><td>-96.10703</td><td>4285.7104</td><td>96.11451</td><td>524620860000.0</td><td>259971320000000.0</td><td>524620860000.0</td><td>1.3933244</td><td>2.3134308</td><td>0.90258396</td><td>0.08237478</td><td>0.9878568</td><td>0.9637829</td><td>2.5538478e-05</td><td>8.147446e-06</td><td>2.3072474</td><td>2.3152096</td><td>2.3134308</td><td>2.3136456</td><td>0.8244072</td><td>0.4057671</td><td>24</td><td>38769</td><td>sv1</td><td>dark</td><td>20210212</td><td>0.02332556 .. -0.060189288</td><td>1.5516937</td><td>0.0</td><td>0.0</td><td>0.0</td><td>0</td><td>-1.0 .. -1.0</td><td>-1.0 .. -1.0</td><td>-1.0 .. -1.0</td><td>-1.0 .. -1.0</td><td>0.0</td><td>0.0</td><td>0</td><td>-1.0 .. -1.0</td><td>-1.0 .. -1.0</td><td>-1.0 .. -1.0</td><td>-1.0 .. -1.0</td><td>0.0</td><td>0.0</td><td>0</td><td>-1.0 .. -1.0</td><td>-1.0 .. -1.0</td><td>-1.0 .. -1.0</td><td>-1.0 .. -1.0</td><td>0.0</td><td>0.0</td><td>0</td><td>-1.0 .. -1.0</td><td>-1.0 .. -1.0</td><td>-1.0 .. -1.0</td><td>-1.0 .. -1.0</td><td>0</td><td>-1.0</td><td>-1.0</td><td>-1</td><td>-1.0</td><td>-1.0</td><td>-1</td><td>0.5204190753516182</td></tr>\n",
       "<tr><td>...</td><td>...</td><td>...</td><td>...</td><td>...</td><td>...</td><td>...</td><td>...</td><td>...</td><td>...</td><td>...</td><td>...</td><td>...</td><td>...</td><td>...</td><td>...</td><td>...</td><td>...</td><td>...</td><td>...</td><td>...</td><td>...</td><td>...</td><td>...</td><td>...</td><td>...</td><td>...</td><td>...</td><td>...</td><td>...</td><td>...</td><td>...</td><td>...</td><td>...</td><td>...</td><td>...</td><td>...</td><td>...</td><td>...</td><td>...</td><td>...</td><td>...</td><td>...</td><td>...</td><td>...</td><td>...</td><td>...</td><td>...</td><td>...</td><td>...</td><td>...</td><td>...</td><td>...</td><td>...</td><td>...</td><td>...</td><td>...</td><td>...</td><td>...</td><td>...</td><td>...</td><td>...</td><td>...</td><td>...</td><td>...</td><td>...</td><td>...</td><td>...</td><td>...</td><td>...</td><td>...</td><td>...</td><td>...</td><td>...</td><td>...</td><td>...</td><td>...</td><td>...</td><td>...</td><td>...</td><td>...</td><td>...</td><td>...</td><td>...</td><td>...</td><td>...</td><td>...</td><td>...</td><td>...</td><td>...</td><td>...</td><td>...</td><td>...</td><td>...</td><td>...</td><td>...</td><td>...</td><td>...</td><td>...</td><td>...</td><td>...</td><td>...</td><td>...</td><td>...</td><td>...</td></tr>\n",
       "<tr><td>616094218175120154</td><td>5.596570988966069</td><td>0.0012132306388712517</td><td>1</td><td>QSO</td><td>0</td><td>268.9082091222442</td><td>67.28579251718276</td><td>--</td><td>0.0</td><td>0.0</td><td>0.0</td><td>0.0</td><td>0.0</td><td>0.0</td><td>0.0</td><td>0.0</td><td>0.0</td><td>0.0</td><td>0.0</td><td>1.0</td><td>1.0</td><td>1.0</td><td>1.0</td><td>1.0</td><td>0.997675796508789</td><td>0</td><td>0</td><td>0</td><td>4294967296</td><td>1</td><td>782.6985</td><td>0</td><td>0</td><td>0</td><td>0</td><td>0</td><td>0</td><td>83.59529</td><td>38.082844</td><td>--</td><td>--</td><td>--</td><td>--</td><td>--</td><td>--</td><td>--</td><td>5.596571</td><td>2.634383</td><td>0.0017818969</td><td>0.011091358</td><td>0.6669671</td><td>0.0002881781</td><td>5.1790124e-05</td><td>9.361303e-05</td><td>2.675346</td><td>2.805466</td><td>2.634383</td><td>0.36690912</td><td>0.5797004</td><td>0.34395584</td><td>2</td><td>11607</td><td>sv3</td><td>dark</td><td>20210413</td><td>0.0 .. 0.0</td><td>0.0</td><td>-99.0</td><td>0.0</td><td>0.0</td><td>0</td><td>0.0 .. 0.0</td><td>0.0 .. 0.0</td><td>0.0 .. 0.0</td><td>0.0 .. 0.0</td><td>0.0</td><td>0.0</td><td>0</td><td>0.0 .. 0.0</td><td>0.0 .. 0.0</td><td>0.0 .. 0.0</td><td>0.0 .. 0.0</td><td>0.0</td><td>0.0</td><td>0</td><td>0.0 .. 0.0</td><td>0.0 .. 0.0</td><td>0.0 .. 0.0</td><td>0.0 .. 0.0</td><td>0.0</td><td>0.0</td><td>0</td><td>0.0 .. 0.0</td><td>0.0 .. 0.0</td><td>0.0 .. 0.0</td><td>0.0 .. 0.0</td><td>5</td><td>-1.0</td><td>-1.0</td><td>-1</td><td>-1.0</td><td>-1.0</td><td>-1</td><td>0.31185241355253523</td></tr>\n",
       "<tr><td>616094218179314456</td><td>4.718485470851825</td><td>0.001172222333616132</td><td>5</td><td>QSO</td><td>0</td><td>269.58817627912345</td><td>67.29113043196614</td><td>--</td><td>0.0</td><td>0.0</td><td>0.0</td><td>0.0</td><td>0.0</td><td>0.0</td><td>0.0</td><td>0.0</td><td>0.0</td><td>0.0</td><td>0.0</td><td>1.0</td><td>1.0</td><td>1.0</td><td>1.0</td><td>1.0</td><td>0.997675796508789</td><td>0</td><td>0</td><td>0</td><td>4294967296</td><td>3</td><td>2085.501</td><td>0</td><td>0</td><td>0</td><td>0</td><td>0</td><td>0</td><td>68.05509</td><td>36.144512</td><td>--</td><td>--</td><td>--</td><td>--</td><td>--</td><td>--</td><td>--</td><td>4.7184854</td><td>2.35118</td><td>0.00016207423</td><td>8.2275554e-05</td><td>0.0001852919</td><td>0.002528342</td><td>0.002482982</td><td>5.6920202e-05</td><td>2.307915</td><td>3.5031724</td><td>1.5345113</td><td>2.35118</td><td>0.55950654</td><td>0.44415006</td><td>2</td><td>11607</td><td>sv3</td><td>dark</td><td>20210412</td><td>-0.7774709 .. 0.093127556</td><td>1.0458666</td><td>0.0</td><td>0.0</td><td>0.0</td><td>0</td><td>-1.0 .. -1.0</td><td>-1.0 .. -1.0</td><td>-1.0 .. -1.0</td><td>-1.0 .. -1.0</td><td>0.0</td><td>0.0</td><td>0</td><td>-1.0 .. -1.0</td><td>-1.0 .. -1.0</td><td>-1.0 .. -1.0</td><td>-1.0 .. -1.0</td><td>0.0</td><td>0.0</td><td>0</td><td>-1.0 .. -1.0</td><td>-1.0 .. -1.0</td><td>-1.0 .. -1.0</td><td>-1.0 .. -1.0</td><td>0.0</td><td>0.0</td><td>0</td><td>-1.0 .. -1.0</td><td>-1.0 .. -1.0</td><td>-1.0 .. -1.0</td><td>-1.0 .. -1.0</td><td>0</td><td>-1.0</td><td>-1.0</td><td>-1</td><td>-1.0</td><td>-1.0</td><td>-1</td><td>0.4032498440303089</td></tr>\n",
       "<tr><td>616094218179314845</td><td>5.608092219228064</td><td>0.001237050759102965</td><td>1</td><td>QSO</td><td>0</td><td>269.4988227554733</td><td>67.36594385671475</td><td>--</td><td>0.0</td><td>0.0</td><td>0.0</td><td>0.0</td><td>0.0</td><td>0.0</td><td>0.0</td><td>0.0</td><td>0.0</td><td>0.0</td><td>0.0</td><td>1.0</td><td>1.0</td><td>1.0</td><td>1.0</td><td>1.0</td><td>0.997675796508789</td><td>0</td><td>0</td><td>0</td><td>4294967296</td><td>1</td><td>769.1617</td><td>0</td><td>0</td><td>0</td><td>0</td><td>0</td><td>0</td><td>59.39539</td><td>33.78589</td><td>--</td><td>--</td><td>--</td><td>--</td><td>--</td><td>--</td><td>--</td><td>5.6080923</td><td>2.2866373</td><td>0.0056803613</td><td>0.0019865576</td><td>0.0007303966</td><td>0.0024062344</td><td>5.040588e-05</td><td>9.8524615e-05</td><td>2.2866373</td><td>2.300043</td><td>1.6947527</td><td>2.1493094</td><td>0.11675716</td><td>0.16149856</td><td>2</td><td>11607</td><td>sv3</td><td>dark</td><td>20210406</td><td>0.0 .. 0.0</td><td>0.0</td><td>-99.0</td><td>0.0</td><td>0.0</td><td>0</td><td>0.0 .. 0.0</td><td>0.0 .. 0.0</td><td>0.0 .. 0.0</td><td>0.0 .. 0.0</td><td>0.0</td><td>0.0</td><td>0</td><td>0.0 .. 0.0</td><td>0.0 .. 0.0</td><td>0.0 .. 0.0</td><td>0.0 .. 0.0</td><td>0.0</td><td>0.0</td><td>0</td><td>0.0 .. 0.0</td><td>0.0 .. 0.0</td><td>0.0 .. 0.0</td><td>0.0 .. 0.0</td><td>0.0</td><td>0.0</td><td>0</td><td>0.0 .. 0.0</td><td>0.0 .. 0.0</td><td>0.0 .. 0.0</td><td>0.0 .. 0.0</td><td>5</td><td>-1.0</td><td>-1.0</td><td>-1</td><td>-1.0</td><td>-1.0</td><td>-1</td><td>0.3263936106489056</td></tr>\n",
       "<tr><td>616094218187702398</td><td>2.6155452326742075</td><td>0.000816847663372755</td><td>5</td><td>GALAXY</td><td>0</td><td>270.8776265526053</td><td>67.14412138634127</td><td>--</td><td>0.0</td><td>0.0</td><td>0.0</td><td>0.0</td><td>0.0</td><td>0.0</td><td>0.0</td><td>0.0</td><td>0.0</td><td>0.0</td><td>0.0</td><td>1.0</td><td>1.0</td><td>1.0</td><td>1.0</td><td>1.0</td><td>0.997675796508789</td><td>0</td><td>0</td><td>0</td><td>4294967296</td><td>2</td><td>1323.326</td><td>0</td><td>0</td><td>0</td><td>0</td><td>0</td><td>0</td><td>96.14569</td><td>43.14362</td><td>1.7679732</td><td>65.54402</td><td>4242.233</td><td>-65.502106</td><td>2895305200000.0</td><td>3256072000000000.0</td><td>2895305500000.0</td><td>1.0723258</td><td>2.6100345</td><td>0.74638724</td><td>0.7779422</td><td>0.9997758</td><td>5.076688e-06</td><td>5.9522986e-06</td><td>0.000101524696</td><td>2.604717</td><td>2.6090322</td><td>2.6100345</td><td>0.5583677</td><td>0.14281675</td><td>0.18472767</td><td>24</td><td>16043</td><td>sv3</td><td>dark</td><td>20210407</td><td>1.5530185 .. 0.13349554</td><td>0.9990643</td><td>0.0</td><td>0.0</td><td>0.0</td><td>0</td><td>-1.0 .. -1.0</td><td>-1.0 .. -1.0</td><td>-1.0 .. -1.0</td><td>-1.0 .. -1.0</td><td>0.0</td><td>0.0</td><td>0</td><td>-1.0 .. -1.0</td><td>-1.0 .. -1.0</td><td>-1.0 .. -1.0</td><td>-1.0 .. -1.0</td><td>0.0</td><td>0.0</td><td>0</td><td>-1.0 .. -1.0</td><td>-1.0 .. -1.0</td><td>-1.0 .. -1.0</td><td>-1.0 .. -1.0</td><td>0.0</td><td>0.0</td><td>0</td><td>-1.0 .. -1.0</td><td>-1.0 .. -1.0</td><td>-1.0 .. -1.0</td><td>-1.0 .. -1.0</td><td>0</td><td>-1.0</td><td>-1.0</td><td>-1</td><td>-1.0</td><td>-1.0</td><td>-1</td><td>0.504323857635416</td></tr>\n",
       "<tr><td>616094218191896647</td><td>2.5913525629226766</td><td>0.0008382483501918614</td><td>5</td><td>GALAXY</td><td>0</td><td>271.9057785067862</td><td>67.13375011409214</td><td>--</td><td>0.0</td><td>0.0</td><td>0.0</td><td>0.0</td><td>0.0</td><td>0.0</td><td>0.0</td><td>0.0</td><td>0.0</td><td>0.0</td><td>0.0</td><td>1.0</td><td>1.0</td><td>1.0</td><td>1.0</td><td>1.0</td><td>0.997675796508789</td><td>0</td><td>0</td><td>0</td><td>4294967296</td><td>1</td><td>929.0727</td><td>0</td><td>0</td><td>0</td><td>0</td><td>0</td><td>0</td><td>131.00568</td><td>44.67247</td><td>2.208895</td><td>-141.28963</td><td>4286.848</td><td>141.26836</td><td>866887200000.0</td><td>205228020000000.0</td><td>866887200000.0</td><td>1.2525421</td><td>2.589978</td><td>0.46179932</td><td>0.031178556</td><td>0.9935011</td><td>8.607594e-05</td><td>1.3409107e-05</td><td>9.932994e-06</td><td>2.6124213</td><td>2.6191304</td><td>2.589978</td><td>0.5571379</td><td>0.56214964</td><td>0.46644393</td><td>24</td><td>16043</td><td>sv3</td><td>dark</td><td>20210411</td><td>-0.033173528 .. -0.2658162</td><td>0.9241207</td><td>0.0</td><td>0.0</td><td>0.0</td><td>0</td><td>-1.0 .. -1.0</td><td>-1.0 .. -1.0</td><td>-1.0 .. -1.0</td><td>-1.0 .. -1.0</td><td>0.0</td><td>0.0</td><td>0</td><td>-1.0 .. -1.0</td><td>-1.0 .. -1.0</td><td>-1.0 .. -1.0</td><td>-1.0 .. -1.0</td><td>0.0</td><td>0.0</td><td>0</td><td>-1.0 .. -1.0</td><td>-1.0 .. -1.0</td><td>-1.0 .. -1.0</td><td>-1.0 .. -1.0</td><td>0.0</td><td>0.0</td><td>0</td><td>-1.0 .. -1.0</td><td>-1.0 .. -1.0</td><td>-1.0 .. -1.0</td><td>-1.0 .. -1.0</td><td>0</td><td>-1.0</td><td>-1.0</td><td>-1</td><td>-1.0</td><td>-1.0</td><td>-1</td><td>0.37662607832689926</td></tr>\n",
       "<tr><td>616094220507152830</td><td>5.3852931083549125</td><td>0.0006936708711524979</td><td>5</td><td>QSO</td><td>0</td><td>269.16646187344423</td><td>67.4640526806483</td><td>--</td><td>0.0</td><td>0.0</td><td>0.0</td><td>0.0</td><td>0.0</td><td>0.0</td><td>0.0</td><td>0.0</td><td>0.0</td><td>0.0</td><td>0.0</td><td>1.0</td><td>1.0</td><td>1.0</td><td>1.0</td><td>1.0</td><td>0.997675796508789</td><td>0</td><td>0</td><td>0</td><td>4294967296</td><td>1</td><td>894.5191</td><td>0</td><td>0</td><td>0</td><td>0</td><td>0</td><td>0</td><td>102.61457</td><td>40.256477</td><td>--</td><td>--</td><td>--</td><td>--</td><td>--</td><td>--</td><td>--</td><td>5.385293</td><td>0.5369672</td><td>5.2842508e-05</td><td>0.00050949893</td><td>7.4532385e-05</td><td>2.0113752e-05</td><td>0.0010094945</td><td>2.396517e-06</td><td>2.9485352</td><td>2.115856</td><td>2.9544857</td><td>0.5376436</td><td>0.5369672</td><td>0.26035058</td><td>2</td><td>11607</td><td>sv3</td><td>dark</td><td>20210417</td><td>0.0 .. 0.0</td><td>0.0</td><td>-99.0</td><td>0.0</td><td>0.0</td><td>0</td><td>0.0 .. 0.0</td><td>0.0 .. 0.0</td><td>0.0 .. 0.0</td><td>0.0 .. 0.0</td><td>0.0</td><td>0.0</td><td>0</td><td>0.0 .. 0.0</td><td>0.0 .. 0.0</td><td>0.0 .. 0.0</td><td>0.0 .. 0.0</td><td>0.0</td><td>0.0</td><td>0</td><td>0.0 .. 0.0</td><td>0.0 .. 0.0</td><td>0.0 .. 0.0</td><td>0.0 .. 0.0</td><td>0.0</td><td>0.0</td><td>0</td><td>0.0 .. 0.0</td><td>0.0 .. 0.0</td><td>0.0 .. 0.0</td><td>0.0 .. 0.0</td><td>5</td><td>-1.0</td><td>-1.0</td><td>-1</td><td>-1.0</td><td>-1.0</td><td>-1</td><td>0.3270850038196708</td></tr>\n",
       "</table></div>"
      ],
      "text/plain": [
       "<Table length=26763>\n",
       "     TARGETID              Z          ... SPECTYPE_MASK       SNR_CIV      \n",
       "                                      ...                                  \n",
       "      int64             float64       ...     bytes6          float64      \n",
       "------------------ ------------------ ... ------------- -------------------\n",
       " 39627126193784363  2.861444156203475 ...            -1  0.8195935774921809\n",
       " 39627131495384271 2.2484643217033646 ...            -1  0.7660470114283564\n",
       " 39627131507969517   2.33464680293142 ...            -1  0.8932599670963901\n",
       " 39627131507970322 2.5485485551305027 ...           QSO  1.9225935759093555\n",
       " 39627136847319542  2.334165306571836 ...           QSO  20.436907698978683\n",
       " 39627136855706167    2.3056549208746 ...            -1  0.5204190753516182\n",
       "               ...                ... ...           ...                 ...\n",
       "616094218175120154  5.596570988966069 ...            -1 0.31185241355253523\n",
       "616094218179314456  4.718485470851825 ...            -1  0.4032498440303089\n",
       "616094218179314845  5.608092219228064 ...            -1  0.3263936106489056\n",
       "616094218187702398 2.6155452326742075 ...            -1   0.504323857635416\n",
       "616094218191896647 2.5913525629226766 ...            -1 0.37662607832689926\n",
       "616094220507152830 5.3852931083549125 ...            -1  0.3270850038196708"
      ]
     },
     "execution_count": 20,
     "metadata": {},
     "output_type": "execute_result"
    }
   ],
   "source": [
    "pruf=Table.read('/home/colgoat/spc_DESIedr/catQSO_dark_bal_mask_sv13_wLN.fits')\n",
    "pruf"
   ]
  },
  {
   "cell_type": "code",
   "execution_count": 21,
   "id": "cafba0d6",
   "metadata": {
    "ExecuteTime": {
     "end_time": "2023-08-26T21:23:50.915212Z",
     "start_time": "2023-08-26T21:23:50.894405Z"
    },
    "scrolled": false
   },
   "outputs": [
    {
     "name": "stdout",
     "output_type": "stream",
     "text": [
      "Filename: /home/colgoat/spc_DESIedr/catQSO_dark_bal_mask_sv13_wLN.fits\n",
      "No.    Name      Ver    Type      Cards   Dimensions   Format\n",
      "  0  PRIMARY       1 PrimaryHDU       4   ()      \n",
      "  1  CATALOG       1 BinTableHDU    292   26763R x 105C   [K, D, D, K, 6A, J, D, D, 4A, E, E, E, E, E, E, E, E, E, E, E, D, D, D, D, D, D, I, K, K, K, I, E, K, K, K, K, K, K, E, E, E, E, E, E, E, E, E, E, E, E, E, E, E, E, E, E, E, E, E, E, E, J, K, 3A, 4A, J, 5E, E, E, E, E, J, 5E, 5E, 5E, 5E, E, E, J, 17E, 17E, 17E, 17E, E, E, J, 5E, 5E, 5E, 5E, E, E, J, 17E, 17E, 17E, 17E, B, D, D, K, D, D, 6A, D]   \n"
     ]
    }
   ],
   "source": [
    "BALS = fits.open('/home/colgoat/spc_DESIedr/catQSO_dark_bal_mask_sv13_wLN.fits')\n",
    "BALS.info()"
   ]
  },
  {
   "cell_type": "code",
   "execution_count": null,
   "id": "2377cc0e",
   "metadata": {
    "scrolled": false
   },
   "outputs": [],
   "source": []
  }
 ],
 "metadata": {
  "kernelspec": {
   "display_name": "Python 3 (ipykernel)",
   "language": "python",
   "name": "python3"
  },
  "language_info": {
   "codemirror_mode": {
    "name": "ipython",
    "version": 3
   },
   "file_extension": ".py",
   "mimetype": "text/x-python",
   "name": "python",
   "nbconvert_exporter": "python",
   "pygments_lexer": "ipython3",
   "version": "3.10.6"
  }
 },
 "nbformat": 4,
 "nbformat_minor": 5
}
