{
 "cells": [
  {
   "cell_type": "code",
   "execution_count": 2,
   "id": "77c65d40",
   "metadata": {},
   "outputs": [],
   "source": [
    "# Importing libraries \n",
    "import os\n",
    "import sys\n",
    "import glob\n",
    "import numpy as np\n",
    "import scipy.optimize as op\n",
    "import matplotlib.pyplot as plt\n",
    "import urllib.request\n",
    "from astropy.io import fits\n",
    "from astropy.table import Table\n",
    "from astropy.table import vstack\n",
    "from astropy.io import fits\n",
    "import urllib.request\n",
    "import requests\n",
    "import time"
   ]
  },
  {
   "cell_type": "code",
   "execution_count": 3,
   "id": "341f36fe",
   "metadata": {},
   "outputs": [],
   "source": [
    "# Some useful functions to be used ahead\n",
    "\n",
    "def check_link(path): # Function that takes care of seeing if the file exists on the web or not\n",
    "    r = requests.head(path)\n",
    "    status = r.status_code == requests.codes.ok\n",
    "    if (status == True):\n",
    "        return True\n",
    "    else:\n",
    "        return False"
   ]
  },
  {
   "cell_type": "code",
   "execution_count": 4,
   "id": "9cd424c5",
   "metadata": {},
   "outputs": [
    {
     "name": "stdout",
     "output_type": "stream",
     "text": [
      "\n",
      "\n",
      "---------------------------------------------\n",
      "\n",
      "\n"
     ]
    },
    {
     "name": "stderr",
     "output_type": "stream",
     "text": [
      "WARNING: UnitsWarning: 'nanomaggy' did not parse as fits unit: At col 0, Unit 'nanomaggy' not supported by the FITS standard.  If this is meant to be a custom unit, define it with 'u.def_unit'. To have it recognized inside a file reader or other code, enable it with 'u.add_enabled_units'. For details, see https://docs.astropy.org/en/latest/units/combining_and_defining.html [astropy.units.core]\n",
      "WARNING: UnitsWarning: 'nanomaggy^-2' did not parse as fits unit: At col 0, Unit 'nanomaggy' not supported by the FITS standard.  If this is meant to be a custom unit, define it with 'u.def_unit'. To have it recognized inside a file reader or other code, enable it with 'u.add_enabled_units'. For details, see https://docs.astropy.org/en/latest/units/combining_and_defining.html [astropy.units.core]\n"
     ]
    },
    {
     "name": "stdout",
     "output_type": "stream",
     "text": [
      "Number of spectra in SV1:  11853\n",
      "Number of spectra in SV3:  14910\n",
      "Total number of DESI EDR spectra (SV1 & SV3) to be used:  26763\n",
      "List of files to be downloaded and/or modified:  1247\n",
      "\n",
      "\n",
      "---------------------------------------------\n",
      "\n",
      "\n"
     ]
    },
    {
     "name": "stderr",
     "output_type": "stream",
     "text": [
      "WARNING: MergeConflictWarning: Cannot merge meta key 'EXTNAME' types <class 'str'> and <class 'str'>, choosing EXTNAME='BAL_SV3_DARK' [astropy.utils.metadata]\n"
     ]
    }
   ],
   "source": [
    "\n",
    "#Getting the individual coadded files names\n",
    "\n",
    "local_dir = \"/home/colgoat/spc_DESIedr/\" #path to the catalogs\n",
    "pn_sv1 = \"https://data.desi.lbl.gov/public/edr/spectro/redux/fuji/healpix/sv1/dark/\" # File database link for sv1\n",
    "pn_sv3 = \"https://data.desi.lbl.gov/public/edr/spectro/redux/fuji/healpix/sv3/dark/\" # File database link for sv3\n",
    "\n",
    "EDR_qsolist = [] # List of spectra of interest from DESI EDR\n",
    "\n",
    "print(\"\\n\")\n",
    "print(\"---------------------------------------------\")\n",
    "print(\"\\n\")\n",
    "\n",
    "file1 = \"QSO_cat_fuji_sv1_dark_bal_mask_v1.0.fits\" # Name of the first catalog (sv1)\n",
    "lc_sv1 = os.path.join(local_dir,file1) # lc_sv1 = Local file sv1\n",
    "fc_sv1 = fits.open(lc_sv1) # fc_sv1 = Open .fits catalog file of sv1\n",
    "SV1 = Table.read(fc_sv1) # SV1 = Reading the file of SV1 as a BinTable \n",
    "q_sv1 = (SV1['Z']>=2.1) & (SV1['PROGRAM']=='dark') # q_sv1 = Query from main catalog (filtering)\n",
    "catfil_sv1 = SV1[q_sv1] # catfil_sv1 = Filtered catalog sv1\n",
    "catfil_sv1_hpix = catfil_sv1.group_by(\"HPXPIXEL\") # catfil_sv1 = Grouping filtered catalog by HEALPIX criteria\n",
    "HPX_sv1 = catfil_sv1_hpix[\"HPXPIXEL\"]/100 # HPX_sv1 = Getting the healpix ID for path on database\n",
    "\n",
    "print(\"Number of spectra in SV1: \",len(catfil_sv1)) # Showing the number of targets on screen\n",
    "for p,m in zip(HPX_sv1,catfil_sv1_hpix[\"HPXPIXEL\"]): # Adding selected Targets to the list\n",
    "    EDR_qsolist.append(pn_sv1+str(int(p))+\"/\"+str(m)+\"/coadd-sv1-dark-\"+str(m)+\".fits\")\n",
    "fc_sv1.close()\n",
    "\n",
    "file2 = \"QSO_cat_fuji_sv3_dark_bal_mask_v1.0.fits\" # Name of the first catalog (sv3)\n",
    "lc_sv3 = os.path.join(local_dir,file2) # lc_sv3 = Local file sv3\n",
    "fc_sv3 = fits.open(lc_sv3) # fc_sv3 = Open .fits catalog file of sv3\n",
    "SV3 = Table.read(fc_sv3) # SV3 = Reading the file of SV3 as a BinTable\n",
    "q_sv3 = (SV3['Z']>=2.1) & (SV3['PROGRAM']=='dark') # q_sv3 = Query from main catalog (filtering)\n",
    "catfil_sv3 = SV3[q_sv3] # catfil_sv3 = Filtered catalog sv3\n",
    "catfil_sv3_hpix = catfil_sv3.group_by(\"HPXPIXEL\") # catfil_sv3 = Grouping filtered catalog by HEALPIX criteria\n",
    "HPX_sv3 = catfil_sv3_hpix[\"HPXPIXEL\"]/100 # HPX_sv3 = Getting the healpix ID for path on database\n",
    "\n",
    "print(\"Number of spectra in SV3: \",len(catfil_sv3))\n",
    "for p,m in zip(HPX_sv3,catfil_sv3_hpix[\"HPXPIXEL\"]): # Adding selected Targets to the list\n",
    "    EDR_qsolist.append(pn_sv3+str(int(p))+\"/\"+str(m)+\"/coadd-sv3-dark-\"+str(m)+\".fits\")\n",
    "fc_sv3.close()\n",
    "\n",
    "\n",
    "EDRcat_stk = vstack(([catfil_sv1_hpix,catfil_sv3_hpix])) # EDR filtered catalogs stacked for both surveys and sorted\n",
    "EDRcat_stk.sort(['SURVEY','HPXPIXEL'])\n",
    "\n",
    "\n",
    "print(\"Total number of DESI EDR spectra (SV1 & SV3) to be used: \",len(EDR_qsolist))\n",
    "\n",
    "# Creating the list containing the number of files on database grouped by HEALPIX \n",
    "\n",
    "web_list = np.unique(EDR_qsolist) # List of web links to be tested (sorted) \n",
    "#web_list.sort()\n",
    "\n",
    "nf_coadd = [] # nf_coadd = Name of files on folder related to the coadded names \n",
    "\n",
    "for b in range(len(web_list)):\n",
    "    if (len(str(web_list[b])) == 105):\n",
    "        nf_coadd.append(str(web_list[b][81:105]))\n",
    "    if (len(str(web_list[b])) == 108):\n",
    "        nf_coadd.append(str(web_list[b][83:108]))\n",
    "    \n",
    "print(\"List of files to be downloaded and/or modified: \",len(web_list))\n",
    "\n",
    "print(\"\\n\")\n",
    "print(\"---------------------------------------------\")\n",
    "print(\"\\n\")"
   ]
  },
  {
   "cell_type": "code",
   "execution_count": 5,
   "id": "e8048b1c",
   "metadata": {},
   "outputs": [
    {
     "data": {
      "text/html": [
       "<div><i>Table length=26763</i>\n",
       "<table id=\"table139840005203344\" class=\"table-striped table-bordered table-condensed\">\n",
       "<thead><tr><th>TARGETID</th><th>Z</th><th>ZERR</th><th>ZWARN</th><th>SPECTYPE</th><th>COADD_FIBERSTATUS</th><th>TARGET_RA</th><th>TARGET_DEC</th><th>MORPHTYPE</th><th>EBV</th><th>FLUX_G</th><th>FLUX_R</th><th>FLUX_Z</th><th>FLUX_W1</th><th>FLUX_W2</th><th>FLUX_IVAR_G</th><th>FLUX_IVAR_R</th><th>FLUX_IVAR_Z</th><th>FLUX_IVAR_W1</th><th>FLUX_IVAR_W2</th><th>MW_TRANSMISSION_G</th><th>MW_TRANSMISSION_R</th><th>MW_TRANSMISSION_Z</th><th>MW_TRANSMISSION_W1</th><th>MW_TRANSMISSION_W2</th><th>PROBA_RF</th><th>MASKBITS</th><th>SV1_DESI_TARGET</th><th>SV1_SCND_TARGET</th><th>DESI_TARGET</th><th>COADD_NUMEXP</th><th>COADD_EXPTIME</th><th>CMX_TARGET</th><th>SV2_DESI_TARGET</th><th>SV3_DESI_TARGET</th><th>SV2_SCND_TARGET</th><th>SV3_SCND_TARGET</th><th>SCND_TARGET</th><th>TSNR2_LYA</th><th>TSNR2_QSO</th><th>DELTA_CHI2_MGII</th><th>A_MGII</th><th>SIGMA_MGII</th><th>B_MGII</th><th>VAR_A_MGII</th><th>VAR_SIGMA_MGII</th><th>VAR_B_MGII</th><th>Z_RR</th><th>Z_QN</th><th>C_LYA</th><th>C_CIV</th><th>C_CIII</th><th>C_MgII</th><th>C_Hbeta</th><th>C_Halpha</th><th>Z_LYA</th><th>Z_CIV</th><th>Z_CIII</th><th>Z_MgII</th><th>Z_Hbeta</th><th>Z_Halpha</th><th>QSO_MASKBITS</th><th>HPXPIXEL</th><th>SURVEY</th><th>PROGRAM</th><th>PCA_COEFFS</th><th>PCA_CHI2</th><th>BAL_PROB</th><th>BI_CIV</th><th>ERR_BI_CIV</th><th>NCIV_2000</th><th>VMIN_CIV_2000</th><th>VMAX_CIV_2000</th><th>POSMIN_CIV_2000</th><th>FMIN_CIV_2000</th><th>AI_CIV</th><th>ERR_AI_CIV</th><th>NCIV_450</th><th>VMIN_CIV_450</th><th>VMAX_CIV_450</th><th>POSMIN_CIV_450</th><th>FMIN_CIV_450</th><th>BI_SIIV</th><th>ERR_BI_SIIV</th><th>NSIIV_2000</th><th>VMIN_SIIV_2000</th><th>VMAX_SIIV_2000</th><th>POSMIN_SIIV_2000</th><th>FMIN_SIIV_2000</th><th>AI_SIIV</th><th>ERR_AI_SIIV</th><th>NSIIV_450</th><th>VMIN_SIIV_450</th><th>VMAX_SIIV_450</th><th>POSMIN_SIIV_450</th><th>FMIN_SIIV_450</th><th>BALMASK</th><th>Z_MASK</th><th>ZERR_MASK</th><th>ZWARN_MASK</th><th>CHI2_MASK</th><th>DELTACHI2_MASK</th><th>SPECTYPE_MASK</th><th>SNR_CIV</th></tr></thead>\n",
       "<thead><tr><th></th><th></th><th></th><th></th><th></th><th></th><th>deg</th><th>deg</th><th></th><th>mag</th><th>nanomaggy</th><th>nanomaggy</th><th>nanomaggy</th><th>nanomaggy</th><th>nanomaggy</th><th>nanomaggy^-2</th><th>nanomaggy^-2</th><th>nanomaggy^-2</th><th>nanomaggy^-2</th><th>nanomaggy^-2</th><th></th><th></th><th></th><th></th><th></th><th></th><th></th><th></th><th></th><th></th><th></th><th></th><th></th><th></th><th></th><th></th><th></th><th></th><th></th><th></th><th></th><th></th><th></th><th></th><th></th><th></th><th></th><th></th><th></th><th></th><th></th><th></th><th></th><th></th><th></th><th></th><th></th><th></th><th></th><th></th><th></th><th></th><th></th><th></th><th></th><th></th><th></th><th></th><th>km / s</th><th>km / s</th><th></th><th>km / s</th><th>km / s</th><th>km / s</th><th></th><th>km / s</th><th>km / s</th><th></th><th>km / s</th><th>km / s</th><th>km / s</th><th></th><th>km / s</th><th>km / s</th><th></th><th>km / s</th><th>km / s</th><th>km / s</th><th></th><th>km / s</th><th>km / s</th><th></th><th>km / s</th><th>km / s</th><th>km / s</th><th></th><th></th><th></th><th></th><th></th><th></th><th></th><th></th><th></th></tr></thead>\n",
       "<thead><tr><th>int64</th><th>float64</th><th>float64</th><th>int64</th><th>str6</th><th>int32</th><th>float64</th><th>float64</th><th>str4</th><th>float32</th><th>float32</th><th>float32</th><th>float32</th><th>float32</th><th>float32</th><th>float32</th><th>float32</th><th>float32</th><th>float32</th><th>float32</th><th>float64</th><th>float64</th><th>float64</th><th>float64</th><th>float64</th><th>float64</th><th>int16</th><th>int64</th><th>int64</th><th>int64</th><th>int16</th><th>float32</th><th>int64</th><th>int64</th><th>int64</th><th>int64</th><th>int64</th><th>int64</th><th>float32</th><th>float32</th><th>float32</th><th>float32</th><th>float32</th><th>float32</th><th>float32</th><th>float32</th><th>float32</th><th>float32</th><th>float32</th><th>float32</th><th>float32</th><th>float32</th><th>float32</th><th>float32</th><th>float32</th><th>float32</th><th>float32</th><th>float32</th><th>float32</th><th>float32</th><th>float32</th><th>int32</th><th>int64</th><th>str3</th><th>str4</th><th>float32[5]</th><th>float32</th><th>float32</th><th>float32</th><th>float32</th><th>int32</th><th>float32[5]</th><th>float32[5]</th><th>float32[5]</th><th>float32[5]</th><th>float32</th><th>float32</th><th>int32</th><th>float32[17]</th><th>float32[17]</th><th>float32[17]</th><th>float32[17]</th><th>float32</th><th>float32</th><th>int32</th><th>float32[5]</th><th>float32[5]</th><th>float32[5]</th><th>float32[5]</th><th>float32</th><th>float32</th><th>int32</th><th>float32[17]</th><th>float32[17]</th><th>float32[17]</th><th>float32[17]</th><th>uint8</th><th>float64</th><th>float64</th><th>int64</th><th>float64</th><th>float64</th><th>str6</th><th>float64</th></tr></thead>\n",
       "<tr><td>39628215118992442</td><td>2.1837342473623393</td><td>0.00013626615461198534</td><td>0</td><td>QSO</td><td>0</td><td>130.64931448777944</td><td>17.92248565776863</td><td>PSF</td><td>0.023616284</td><td>3.5690012</td><td>3.1463985</td><td>4.338265</td><td>7.2705436</td><td>6.3402815</td><td>1239.8733</td><td>408.09125</td><td>75.880165</td><td>2.8767319</td><td>0.6142675</td><td>0.9239833775496703</td><td>0.9239833775496703</td><td>0.9239833775496703</td><td>0.9239833775496703</td><td>0.9239833775496703</td><td>0.9943965839147568</td><td>0</td><td>54047318697103110</td><td>0</td><td>0</td><td>6</td><td>6083.957</td><td>0</td><td>0</td><td>0</td><td>0</td><td>0</td><td>0</td><td>293.5955</td><td>112.386826</td><td>23.017323</td><td>0.21148743</td><td>-35.7064</td><td>0.68574977</td><td>0.0004154714</td><td>21.983559</td><td>0.0001771788</td><td>2.1837342</td><td>2.181272</td><td>1.0</td><td>0.8930895</td><td>0.9996561</td><td>0.9999963</td><td>2.249572e-05</td><td>1.7975288e-05</td><td>2.181272</td><td>2.1808524</td><td>2.188304</td><td>2.1916366</td><td>-0.19505365</td><td>-0.1221109</td><td>14</td><td>4679</td><td>sv1</td><td>dark</td><td>61.846046 .. 2.4299164</td><td>1.4206071</td><td>0.0</td><td>0.0</td><td>0.0</td><td>0</td><td>-1.0 .. -1.0</td><td>-1.0 .. -1.0</td><td>-1.0 .. -1.0</td><td>-1.0 .. -1.0</td><td>0.0</td><td>0.0</td><td>0</td><td>-1.0 .. -1.0</td><td>-1.0 .. -1.0</td><td>-1.0 .. -1.0</td><td>-1.0 .. -1.0</td><td>0.0</td><td>0.0</td><td>0</td><td>-1.0 .. -1.0</td><td>-1.0 .. -1.0</td><td>-1.0 .. -1.0</td><td>-1.0 .. -1.0</td><td>0.0</td><td>0.0</td><td>0</td><td>-1.0 .. -1.0</td><td>-1.0 .. -1.0</td><td>-1.0 .. -1.0</td><td>-1.0 .. -1.0</td><td>0</td><td>-1.0</td><td>-1.0</td><td>-1</td><td>-1.0</td><td>-1.0</td><td>-1</td><td>4.686259937194885</td></tr>\n",
       "<tr><td>39628209360211028</td><td>2.379998216697697</td><td>0.0001367309022860157</td><td>0</td><td>QSO</td><td>0</td><td>130.64326258132235</td><td>17.790880437347397</td><td>PSF</td><td>0.02099619</td><td>5.5868263</td><td>6.355662</td><td>8.894712</td><td>17.68829</td><td>29.616795</td><td>472.5694</td><td>231.43127</td><td>51.24521</td><td>2.6626232</td><td>0.5704455</td><td>0.9321236482870953</td><td>0.9321236482870953</td><td>0.9321236482870953</td><td>0.9321236482870953</td><td>0.9321236482870953</td><td>0.9981658909320831</td><td>0</td><td>4665733337124491014</td><td>34359869440</td><td>0</td><td>6</td><td>6083.957</td><td>0</td><td>0</td><td>0</td><td>0</td><td>0</td><td>0</td><td>299.52124</td><td>115.79789</td><td>252.642</td><td>0.8162872</td><td>27.105427</td><td>1.2413735</td><td>0.0011176108</td><td>1.7980521</td><td>0.0002412979</td><td>2.3799982</td><td>2.381573</td><td>0.9999887</td><td>0.99999917</td><td>0.99999946</td><td>0.9999993</td><td>3.1276253e-05</td><td>5.6267647e-05</td><td>2.3844068</td><td>2.3840988</td><td>2.381573</td><td>2.380935</td><td>0.3083418</td><td>-0.20571752</td><td>14</td><td>4679</td><td>sv1</td><td>dark</td><td>106.65552 .. -2.613535</td><td>1.7681665</td><td>0.0</td><td>0.0</td><td>0.0</td><td>0</td><td>-1.0 .. -1.0</td><td>-1.0 .. -1.0</td><td>-1.0 .. -1.0</td><td>-1.0 .. -1.0</td><td>0.0</td><td>0.0</td><td>0</td><td>-1.0 .. -1.0</td><td>-1.0 .. -1.0</td><td>-1.0 .. -1.0</td><td>-1.0 .. -1.0</td><td>0.0</td><td>0.0</td><td>0</td><td>-1.0 .. -1.0</td><td>-1.0 .. -1.0</td><td>-1.0 .. -1.0</td><td>-1.0 .. -1.0</td><td>0.0</td><td>0.0</td><td>0</td><td>-1.0 .. -1.0</td><td>-1.0 .. -1.0</td><td>-1.0 .. -1.0</td><td>-1.0 .. -1.0</td><td>0</td><td>-1.0</td><td>-1.0</td><td>-1</td><td>-1.0</td><td>-1.0</td><td>-1</td><td>8.752494914401394</td></tr>\n",
       "<tr><td>616088955892269587</td><td>2.5971315676669833</td><td>0.0009061007876880467</td><td>5</td><td>GALAXY</td><td>0</td><td>130.50800267936415</td><td>17.48771823413258</td><td>--</td><td>0.0</td><td>0.0</td><td>0.0</td><td>0.0</td><td>0.0</td><td>0.0</td><td>0.0</td><td>0.0</td><td>0.0</td><td>0.0</td><td>0.0</td><td>1.0</td><td>1.0</td><td>1.0</td><td>1.0</td><td>1.0</td><td>0.997675796508789</td><td>0</td><td>0</td><td>0</td><td>4294967296</td><td>6</td><td>6083.957</td><td>0</td><td>0</td><td>0</td><td>0</td><td>0</td><td>0</td><td>573.2433</td><td>131.74387</td><td>2.8584974</td><td>212.43936</td><td>20548.268</td><td>-212.46445</td><td>238150930000.0</td><td>557045350000000.0</td><td>238150930000.0</td><td>1.5130881</td><td>2.6257803</td><td>0.99792814</td><td>0.91791207</td><td>0.9980847</td><td>0.00012173784</td><td>0.00097000634</td><td>0.00031907175</td><td>2.5875</td><td>2.58788</td><td>2.6257803</td><td>2.487477</td><td>0.8058257</td><td>0.13870285</td><td>24</td><td>4679</td><td>sv1</td><td>dark</td><td>-0.57354563 .. 0.3004979</td><td>1.115602</td><td>0.0</td><td>0.0</td><td>0.0</td><td>0</td><td>-1.0 .. -1.0</td><td>-1.0 .. -1.0</td><td>-1.0 .. -1.0</td><td>-1.0 .. -1.0</td><td>0.0</td><td>0.0</td><td>0</td><td>-1.0 .. -1.0</td><td>-1.0 .. -1.0</td><td>-1.0 .. -1.0</td><td>-1.0 .. -1.0</td><td>0.0</td><td>0.0</td><td>0</td><td>-1.0 .. -1.0</td><td>-1.0 .. -1.0</td><td>-1.0 .. -1.0</td><td>-1.0 .. -1.0</td><td>0.0</td><td>0.0</td><td>0</td><td>-1.0 .. -1.0</td><td>-1.0 .. -1.0</td><td>-1.0 .. -1.0</td><td>-1.0 .. -1.0</td><td>0</td><td>-1.0</td><td>-1.0</td><td>-1</td><td>-1.0</td><td>-1.0</td><td>-1</td><td>0.4339465951321364</td></tr>\n",
       "<tr><td>39628203593041814</td><td>2.8079013224987324</td><td>0.0005989840812583594</td><td>4</td><td>QSO</td><td>0</td><td>130.65942014142595</td><td>17.404729615023136</td><td>REX</td><td>0.020429475</td><td>0.19399005</td><td>0.21637553</td><td>0.030013867</td><td>1.3414879</td><td>0.30725873</td><td>1269.2968</td><td>420.2752</td><td>70.0833</td><td>2.90216</td><td>0.62234944</td><td>0.9338937669565738</td><td>0.9338937669565738</td><td>0.9338937669565738</td><td>0.9338937669565738</td><td>0.9338937669565738</td><td>0.10944151792675257</td><td>0</td><td>549755814402</td><td>0</td><td>0</td><td>6</td><td>6083.957</td><td>0</td><td>0</td><td>0</td><td>0</td><td>0</td><td>0</td><td>422.2199</td><td>110.28888</td><td>--</td><td>--</td><td>--</td><td>--</td><td>--</td><td>--</td><td>--</td><td>2.8079014</td><td>1.8865212</td><td>0.0007418761</td><td>0.005847081</td><td>0.026740354</td><td>0.0008404601</td><td>7.429562e-05</td><td>2.4857657e-06</td><td>2.6414564</td><td>1.8895075</td><td>1.8865212</td><td>1.8798453</td><td>0.8092968</td><td>-0.18898557</td><td>2</td><td>4679</td><td>sv1</td><td>dark</td><td>0.028049631 .. -0.18834104</td><td>1.1972917</td><td>0.0</td><td>0.0</td><td>0.0</td><td>0</td><td>-1.0 .. -1.0</td><td>-1.0 .. -1.0</td><td>-1.0 .. -1.0</td><td>-1.0 .. -1.0</td><td>0.0</td><td>0.0</td><td>0</td><td>-1.0 .. -1.0</td><td>-1.0 .. -1.0</td><td>-1.0 .. -1.0</td><td>-1.0 .. -1.0</td><td>0.0</td><td>0.0</td><td>0</td><td>-1.0 .. -1.0</td><td>-1.0 .. -1.0</td><td>-1.0 .. -1.0</td><td>-1.0 .. -1.0</td><td>0.0</td><td>0.0</td><td>0</td><td>-1.0 .. -1.0</td><td>-1.0 .. -1.0</td><td>-1.0 .. -1.0</td><td>-1.0 .. -1.0</td><td>0</td><td>-1.0</td><td>-1.0</td><td>-1</td><td>-1.0</td><td>-1.0</td><td>-1</td><td>0.5200207468187741</td></tr>\n",
       "<tr><td>39628220869379919</td><td>2.611571231820271</td><td>0.00033182551696189414</td><td>0</td><td>QSO</td><td>0</td><td>130.4326679509037</td><td>18.152087788159587</td><td>PSF</td><td>0.024326205</td><td>1.9797709</td><td>2.250798</td><td>3.1411994</td><td>4.919679</td><td>6.4535885</td><td>842.06134</td><td>124.20459</td><td>32.289257</td><td>2.9298084</td><td>0.60784066</td><td>0.9217900166356564</td><td>0.9217900166356564</td><td>0.9217900166356564</td><td>0.9217900166356564</td><td>0.9217900166356564</td><td>0.9958621953725815</td><td>0</td><td>4665733337124491014</td><td>34359738368</td><td>0</td><td>6</td><td>6083.957</td><td>0</td><td>0</td><td>0</td><td>0</td><td>0</td><td>0</td><td>304.8161</td><td>114.21387</td><td>--</td><td>--</td><td>--</td><td>--</td><td>--</td><td>--</td><td>--</td><td>2.6115713</td><td>2.6176395</td><td>0.9999998</td><td>0.99999946</td><td>0.99999994</td><td>7.330219e-05</td><td>1.5474452e-05</td><td>1.1895483e-05</td><td>2.6174328</td><td>2.620024</td><td>2.6176395</td><td>1.4318179</td><td>-0.250444</td><td>-0.18148762</td><td>10</td><td>4685</td><td>sv1</td><td>dark</td><td>31.392038 .. 0.9303576</td><td>1.2236111</td><td>0.0</td><td>0.0</td><td>0.0</td><td>0</td><td>-1.0 .. -1.0</td><td>-1.0 .. -1.0</td><td>-1.0 .. -1.0</td><td>-1.0 .. -1.0</td><td>0.0</td><td>0.0</td><td>0</td><td>-1.0 .. -1.0</td><td>-1.0 .. -1.0</td><td>-1.0 .. -1.0</td><td>-1.0 .. -1.0</td><td>0.0</td><td>0.0</td><td>0</td><td>-1.0 .. -1.0</td><td>-1.0 .. -1.0</td><td>-1.0 .. -1.0</td><td>-1.0 .. -1.0</td><td>0.0</td><td>0.0</td><td>0</td><td>-1.0 .. -1.0</td><td>-1.0 .. -1.0</td><td>-1.0 .. -1.0</td><td>-1.0 .. -1.0</td><td>0</td><td>-1.0</td><td>-1.0</td><td>-1</td><td>-1.0</td><td>-1.0</td><td>-1</td><td>2.6217502749577846</td></tr>\n",
       "<tr><td>39628215114793309</td><td>2.5811666922249024</td><td>0.0003111231129018288</td><td>0</td><td>QSO</td><td>0</td><td>130.16196895990075</td><td>17.987512270648192</td><td>PSF</td><td>0.025100797</td><td>0.54678106</td><td>0.5488882</td><td>0.77170223</td><td>0.9355877</td><td>0.40979353</td><td>1681.8734</td><td>282.87836</td><td>57.84835</td><td>3.1406977</td><td>0.6381151</td><td>0.9194027883661932</td><td>0.9194027883661932</td><td>0.9194027883661932</td><td>0.9194027883661932</td><td>0.9194027883661932</td><td>0.9320001247823239</td><td>0</td><td>36032920187604742</td><td>0</td><td>0</td><td>6</td><td>6083.957</td><td>0</td><td>0</td><td>0</td><td>0</td><td>0</td><td>0</td><td>225.9433</td><td>121.43204</td><td>--</td><td>--</td><td>--</td><td>--</td><td>--</td><td>--</td><td>--</td><td>2.5811667</td><td>2.576098</td><td>0.9999953</td><td>0.9999974</td><td>1.0</td><td>1.4686445e-05</td><td>9.427151e-06</td><td>3.1077918e-05</td><td>2.5732946</td><td>2.5741124</td><td>2.576098</td><td>1.034728</td><td>0.051854737</td><td>-0.12255226</td><td>10</td><td>4685</td><td>sv1</td><td>dark</td><td>11.30963 .. 0.20294493</td><td>1.1874</td><td>0.0</td><td>0.0</td><td>0.0</td><td>0</td><td>-1.0 .. -1.0</td><td>-1.0 .. -1.0</td><td>-1.0 .. -1.0</td><td>-1.0 .. -1.0</td><td>0.0</td><td>0.0</td><td>0</td><td>-1.0 .. -1.0</td><td>-1.0 .. -1.0</td><td>-1.0 .. -1.0</td><td>-1.0 .. -1.0</td><td>0.0</td><td>0.0</td><td>0</td><td>-1.0 .. -1.0</td><td>-1.0 .. -1.0</td><td>-1.0 .. -1.0</td><td>-1.0 .. -1.0</td><td>0.0</td><td>0.0</td><td>0</td><td>-1.0 .. -1.0</td><td>-1.0 .. -1.0</td><td>-1.0 .. -1.0</td><td>-1.0 .. -1.0</td><td>0</td><td>-1.0</td><td>-1.0</td><td>-1</td><td>-1.0</td><td>-1.0</td><td>-1</td><td>1.467028382717384</td></tr>\n",
       "<tr><td>...</td><td>...</td><td>...</td><td>...</td><td>...</td><td>...</td><td>...</td><td>...</td><td>...</td><td>...</td><td>...</td><td>...</td><td>...</td><td>...</td><td>...</td><td>...</td><td>...</td><td>...</td><td>...</td><td>...</td><td>...</td><td>...</td><td>...</td><td>...</td><td>...</td><td>...</td><td>...</td><td>...</td><td>...</td><td>...</td><td>...</td><td>...</td><td>...</td><td>...</td><td>...</td><td>...</td><td>...</td><td>...</td><td>...</td><td>...</td><td>...</td><td>...</td><td>...</td><td>...</td><td>...</td><td>...</td><td>...</td><td>...</td><td>...</td><td>...</td><td>...</td><td>...</td><td>...</td><td>...</td><td>...</td><td>...</td><td>...</td><td>...</td><td>...</td><td>...</td><td>...</td><td>...</td><td>...</td><td>...</td><td>...</td><td>...</td><td>...</td><td>...</td><td>...</td><td>...</td><td>...</td><td>...</td><td>...</td><td>...</td><td>...</td><td>...</td><td>...</td><td>...</td><td>...</td><td>...</td><td>...</td><td>...</td><td>...</td><td>...</td><td>...</td><td>...</td><td>...</td><td>...</td><td>...</td><td>...</td><td>...</td><td>...</td><td>...</td><td>...</td><td>...</td><td>...</td><td>...</td><td>...</td><td>...</td><td>...</td><td>...</td><td>...</td><td>...</td><td>...</td></tr>\n",
       "<tr><td>39628433243768615</td><td>2.4054545162257366</td><td>0.0006224917597137392</td><td>4</td><td>GALAXY</td><td>0</td><td>193.07603233476254</td><td>27.838229721309443</td><td>REX</td><td>0.011398098</td><td>0.4166391</td><td>0.44655362</td><td>0.6447875</td><td>1.313447</td><td>1.2135321</td><td>1017.4543</td><td>317.2545</td><td>111.75336</td><td>3.9604697</td><td>0.85126805</td><td>0.9625609609326155</td><td>0.9625609609326155</td><td>0.9625609609326155</td><td>0.9625609609326155</td><td>0.9625609609326155</td><td>0.9830963634252549</td><td>0</td><td>0</td><td>0</td><td>0</td><td>1</td><td>834.8022</td><td>0</td><td>0</td><td>1179714</td><td>0</td><td>0</td><td>0</td><td>143.94566</td><td>42.581093</td><td>0.26097405</td><td>-273.68573</td><td>-5189.343</td><td>273.8709</td><td>6130467600000.0</td><td>564153150000000.0</td><td>6130467600000.0</td><td>0.450816</td><td>2.3884091</td><td>0.13958286</td><td>0.014496094</td><td>0.8165452</td><td>0.9980081</td><td>1.8085261e-06</td><td>1.4248769e-06</td><td>2.3864322</td><td>2.392137</td><td>2.378725</td><td>2.3884091</td><td>0.1515387</td><td>0.4602769</td><td>24</td><td>28151</td><td>sv3</td><td>dark</td><td>6.829296 .. 0.50519973</td><td>0.99939454</td><td>0.0</td><td>0.0</td><td>0.0</td><td>0</td><td>-1.0 .. -1.0</td><td>-1.0 .. -1.0</td><td>-1.0 .. -1.0</td><td>-1.0 .. -1.0</td><td>0.0</td><td>0.0</td><td>0</td><td>-1.0 .. -1.0</td><td>-1.0 .. -1.0</td><td>-1.0 .. -1.0</td><td>-1.0 .. -1.0</td><td>0.0</td><td>0.0</td><td>0</td><td>-1.0 .. -1.0</td><td>-1.0 .. -1.0</td><td>-1.0 .. -1.0</td><td>-1.0 .. -1.0</td><td>0.0</td><td>0.0</td><td>0</td><td>-1.0 .. -1.0</td><td>-1.0 .. -1.0</td><td>-1.0 .. -1.0</td><td>-1.0 .. -1.0</td><td>0</td><td>-1.0</td><td>-1.0</td><td>-1</td><td>-1.0</td><td>-1.0</td><td>-1</td><td>0.6351182781580509</td></tr>\n",
       "<tr><td>39628433239577364</td><td>2.3019126940796646</td><td>0.0001849490080351351</td><td>0</td><td>QSO</td><td>0</td><td>192.96304311546356</td><td>27.757008432211247</td><td>PSF</td><td>0.010740051</td><td>1.4980975</td><td>0.9532685</td><td>2.344088</td><td>6.951374</td><td>10.982312</td><td>872.6903</td><td>410.86414</td><td>82.92136</td><td>3.8474288</td><td>0.8519517</td><td>0.9646837932467046</td><td>0.9646837932467046</td><td>0.9646837932467046</td><td>0.9646837932467046</td><td>0.9646837932467046</td><td>0.9537730286121369</td><td>0</td><td>0</td><td>0</td><td>0</td><td>8</td><td>7162.9116</td><td>0</td><td>0</td><td>4611686018428829766</td><td>0</td><td>67108864</td><td>0</td><td>484.6966</td><td>145.25386</td><td>66.66359</td><td>0.30878028</td><td>-41.316753</td><td>0.41130185</td><td>0.00025407848</td><td>9.632654</td><td>0.0002057599</td><td>2.3019128</td><td>2.3060372</td><td>0.9999999</td><td>0.99999934</td><td>0.9999952</td><td>0.9997083</td><td>1.6137963e-05</td><td>7.3951196e-06</td><td>2.3060372</td><td>2.306168</td><td>2.3058496</td><td>2.3063731</td><td>0.7029081</td><td>0.4012012</td><td>14</td><td>28151</td><td>sv3</td><td>dark</td><td>43.931557 .. -0.75723934</td><td>1.1323352</td><td>0.0</td><td>0.0</td><td>0.0</td><td>0</td><td>-1.0 .. -1.0</td><td>-1.0 .. -1.0</td><td>-1.0 .. -1.0</td><td>-1.0 .. -1.0</td><td>0.0</td><td>0.0</td><td>0</td><td>-1.0 .. -1.0</td><td>-1.0 .. -1.0</td><td>-1.0 .. -1.0</td><td>-1.0 .. -1.0</td><td>0.0</td><td>0.0</td><td>0</td><td>-1.0 .. -1.0</td><td>-1.0 .. -1.0</td><td>-1.0 .. -1.0</td><td>-1.0 .. -1.0</td><td>0.0</td><td>0.0</td><td>0</td><td>-1.0 .. -1.0</td><td>-1.0 .. -1.0</td><td>-1.0 .. -1.0</td><td>-1.0 .. -1.0</td><td>0</td><td>-1.0</td><td>-1.0</td><td>-1</td><td>-1.0</td><td>-1.0</td><td>-1</td><td>5.628485248826476</td></tr>\n",
       "<tr><td>39628438587315370</td><td>2.48288906669729</td><td>0.0001784551666335194</td><td>0</td><td>QSO</td><td>0</td><td>192.96484247492822</td><td>27.937436695401022</td><td>PSF</td><td>0.010918078</td><td>2.4269662</td><td>2.6825607</td><td>3.4349477</td><td>7.695988</td><td>7.902134</td><td>1750.391</td><td>680.4556</td><td>248.83694</td><td>3.151338</td><td>0.7741334</td><td>0.964109024447267</td><td>0.964109024447267</td><td>0.964109024447267</td><td>0.964109024447267</td><td>0.964109024447267</td><td>0.9964816968441009</td><td>0</td><td>0</td><td>0</td><td>0</td><td>2</td><td>1664.911</td><td>0</td><td>0</td><td>1441862</td><td>0</td><td>0</td><td>0</td><td>304.26926</td><td>75.58258</td><td>--</td><td>--</td><td>--</td><td>--</td><td>--</td><td>--</td><td>--</td><td>2.4828892</td><td>2.4749892</td><td>1.0</td><td>1.0</td><td>0.9999999</td><td>0.99999994</td><td>1.0972326e-05</td><td>1.0533982e-05</td><td>2.475794</td><td>2.4749892</td><td>2.4824865</td><td>2.4806852</td><td>0.7241893</td><td>-0.12116875</td><td>10</td><td>28151</td><td>sv3</td><td>dark</td><td>63.1594 .. 1.0034151</td><td>0.98921007</td><td>0.0</td><td>0.0</td><td>0.0</td><td>0</td><td>-1.0 .. -1.0</td><td>-1.0 .. -1.0</td><td>-1.0 .. -1.0</td><td>-1.0 .. -1.0</td><td>0.0</td><td>0.0</td><td>0</td><td>-1.0 .. -1.0</td><td>-1.0 .. -1.0</td><td>-1.0 .. -1.0</td><td>-1.0 .. -1.0</td><td>0.0</td><td>0.0</td><td>0</td><td>-1.0 .. -1.0</td><td>-1.0 .. -1.0</td><td>-1.0 .. -1.0</td><td>-1.0 .. -1.0</td><td>0.0</td><td>0.0</td><td>0</td><td>-1.0 .. -1.0</td><td>-1.0 .. -1.0</td><td>-1.0 .. -1.0</td><td>-1.0 .. -1.0</td><td>0</td><td>-1.0</td><td>-1.0</td><td>-1</td><td>-1.0</td><td>-1.0</td><td>-1</td><td>4.913128568568</td></tr>\n",
       "<tr><td>39628433243767434</td><td>2.4791010344027633</td><td>5.5494977172814406e-05</td><td>0</td><td>QSO</td><td>0</td><td>193.00867521857472</td><td>27.838502715912846</td><td>PSF</td><td>0.0105957985</td><td>21.791784</td><td>23.146353</td><td>30.36105</td><td>31.91365</td><td>49.458466</td><td>358.7424</td><td>191.6421</td><td>146.50809</td><td>3.0088067</td><td>0.69257545</td><td>0.9651497709991053</td><td>0.9651497709991053</td><td>0.9651497709991053</td><td>0.9651497709991053</td><td>0.9651497709991053</td><td>0.9981888589859009</td><td>0</td><td>0</td><td>0</td><td>0</td><td>4</td><td>4027.3237</td><td>0</td><td>0</td><td>262148</td><td>0</td><td>0</td><td>0</td><td>543.17535</td><td>145.98853</td><td>--</td><td>--</td><td>--</td><td>--</td><td>--</td><td>--</td><td>--</td><td>2.479101</td><td>2.4910336</td><td>0.99999696</td><td>0.9999988</td><td>0.9999991</td><td>0.9999972</td><td>5.8973535e-05</td><td>1.1429319e-05</td><td>2.4866853</td><td>2.4875512</td><td>2.4910336</td><td>2.4912045</td><td>0.71882665</td><td>0.49272358</td><td>10</td><td>28151</td><td>sv3</td><td>dark</td><td>354.86328 .. 4.5888314</td><td>2.7037628</td><td>0.0</td><td>0.0</td><td>0.0</td><td>0</td><td>-1.0 .. -1.0</td><td>-1.0 .. -1.0</td><td>-1.0 .. -1.0</td><td>-1.0 .. -1.0</td><td>0.0</td><td>0.0</td><td>0</td><td>-1.0 .. -1.0</td><td>-1.0 .. -1.0</td><td>-1.0 .. -1.0</td><td>-1.0 .. -1.0</td><td>0.0</td><td>0.0</td><td>0</td><td>-1.0 .. -1.0</td><td>-1.0 .. -1.0</td><td>-1.0 .. -1.0</td><td>-1.0 .. -1.0</td><td>0.0</td><td>0.0</td><td>0</td><td>-1.0 .. -1.0</td><td>-1.0 .. -1.0</td><td>-1.0 .. -1.0</td><td>-1.0 .. -1.0</td><td>0</td><td>-1.0</td><td>-1.0</td><td>-1</td><td>-1.0</td><td>-1.0</td><td>-1</td><td>25.399272452939968</td></tr>\n",
       "<tr><td>39628438587314469</td><td>2.889453321415095</td><td>0.0002625297929625958</td><td>0</td><td>GALAXY</td><td>0</td><td>192.92174266670034</td><td>27.875023142960064</td><td>PSF</td><td>0.0105423955</td><td>2.6526725</td><td>4.196714</td><td>5.7183356</td><td>7.91932</td><td>10.832435</td><td>1163.9438</td><td>437.023</td><td>122.27504</td><td>3.5879629</td><td>0.8145887</td><td>0.9653223352170737</td><td>0.9653223352170737</td><td>0.9653223352170737</td><td>0.9653223352170737</td><td>0.9653223352170737</td><td>0.986655010342598</td><td>1</td><td>0</td><td>0</td><td>0</td><td>1</td><td>834.8022</td><td>0</td><td>0</td><td>4611686018427650052</td><td>0</td><td>34359738368</td><td>0</td><td>146.50815</td><td>37.707603</td><td>3.4114656</td><td>0.2057293</td><td>117.2021</td><td>0.82765937</td><td>2.4350243</td><td>324055.88</td><td>2.4986677</td><td>1.3370736</td><td>2.889323</td><td>0.9998628</td><td>0.9998611</td><td>0.9997635</td><td>0.00013213503</td><td>2.5835521e-05</td><td>3.7317906e-05</td><td>2.889323</td><td>2.8862686</td><td>2.9052415</td><td>1.6699604</td><td>0.69489413</td><td>0.120426215</td><td>24</td><td>28151</td><td>sv3</td><td>dark</td><td>52.97709 .. 0.44886452</td><td>1.0736812</td><td>0.0</td><td>0.0</td><td>0.0</td><td>0</td><td>-1.0 .. -1.0</td><td>-1.0 .. -1.0</td><td>-1.0 .. -1.0</td><td>-1.0 .. -1.0</td><td>0.0</td><td>0.0</td><td>0</td><td>-1.0 .. -1.0</td><td>-1.0 .. -1.0</td><td>-1.0 .. -1.0</td><td>-1.0 .. -1.0</td><td>0.0</td><td>0.0</td><td>0</td><td>-1.0 .. -1.0</td><td>-1.0 .. -1.0</td><td>-1.0 .. -1.0</td><td>-1.0 .. -1.0</td><td>49.710697</td><td>4.418387</td><td>1</td><td>23325.055 .. -1.0</td><td>23898.457 .. -1.0</td><td>23722.025 .. -1.0</td><td>-0.38626432 .. -1.0</td><td>0</td><td>-1.0</td><td>-1.0</td><td>-1</td><td>-1.0</td><td>-1.0</td><td>-1</td><td>2.4001093788827057</td></tr>\n",
       "<tr><td>39628443922467506</td><td>2.786025645418057</td><td>8.596279695567914e-05</td><td>0</td><td>QSO</td><td>0</td><td>192.88366014102886</td><td>28.2732445934184</td><td>PSF</td><td>0.010948905</td><td>1.8939661</td><td>2.3405228</td><td>2.1375043</td><td>3.193541</td><td>5.8009834</td><td>933.97906</td><td>371.11694</td><td>203.02528</td><td>3.904822</td><td>0.823466</td><td>0.9640095334730497</td><td>0.9640095334730497</td><td>0.9640095334730497</td><td>0.9640095334730497</td><td>0.9640095334730497</td><td>0.9945060176849365</td><td>0</td><td>0</td><td>0</td><td>0</td><td>8</td><td>7162.9116</td><td>0</td><td>0</td><td>262148</td><td>0</td><td>0</td><td>0</td><td>322.46542</td><td>113.64728</td><td>--</td><td>--</td><td>--</td><td>--</td><td>--</td><td>--</td><td>--</td><td>2.7860258</td><td>2.787068</td><td>0.99994993</td><td>0.9999668</td><td>0.9999941</td><td>3.2286753e-06</td><td>1.6105727e-05</td><td>3.6635083e-06</td><td>2.8038852</td><td>2.8070076</td><td>2.787068</td><td>0.81727964</td><td>0.81850797</td><td>-0.12549613</td><td>10</td><td>28151</td><td>sv3</td><td>dark</td><td>27.609463 .. 0.23359382</td><td>1.2603859</td><td>0.0</td><td>0.0</td><td>0.0</td><td>0</td><td>-1.0 .. -1.0</td><td>-1.0 .. -1.0</td><td>-1.0 .. -1.0</td><td>-1.0 .. -1.0</td><td>0.0</td><td>0.0</td><td>0</td><td>-1.0 .. -1.0</td><td>-1.0 .. -1.0</td><td>-1.0 .. -1.0</td><td>-1.0 .. -1.0</td><td>0.0</td><td>0.0</td><td>0</td><td>-1.0 .. -1.0</td><td>-1.0 .. -1.0</td><td>-1.0 .. -1.0</td><td>-1.0 .. -1.0</td><td>0.0</td><td>0.0</td><td>0</td><td>-1.0 .. -1.0</td><td>-1.0 .. -1.0</td><td>-1.0 .. -1.0</td><td>-1.0 .. -1.0</td><td>0</td><td>-1.0</td><td>-1.0</td><td>-1</td><td>-1.0</td><td>-1.0</td><td>-1</td><td>3.440726001228997</td></tr>\n",
       "</table></div>"
      ],
      "text/plain": [
       "<Table length=26763>\n",
       "     TARGETID              Z          ... SPECTYPE_MASK      SNR_CIV      \n",
       "                                      ...                                 \n",
       "      int64             float64       ...      str6          float64      \n",
       "------------------ ------------------ ... ------------- ------------------\n",
       " 39628215118992442 2.1837342473623393 ...            -1  4.686259937194885\n",
       " 39628209360211028  2.379998216697697 ...            -1  8.752494914401394\n",
       "616088955892269587 2.5971315676669833 ...            -1 0.4339465951321364\n",
       " 39628203593041814 2.8079013224987324 ...            -1 0.5200207468187741\n",
       " 39628220869379919  2.611571231820271 ...            -1 2.6217502749577846\n",
       " 39628215114793309 2.5811666922249024 ...            -1  1.467028382717384\n",
       "               ...                ... ...           ...                ...\n",
       " 39628433243768615 2.4054545162257366 ...            -1 0.6351182781580509\n",
       " 39628433239577364 2.3019126940796646 ...            -1  5.628485248826476\n",
       " 39628438587315370   2.48288906669729 ...            -1     4.913128568568\n",
       " 39628433243767434 2.4791010344027633 ...            -1 25.399272452939968\n",
       " 39628438587314469  2.889453321415095 ...            -1 2.4001093788827057\n",
       " 39628443922467506  2.786025645418057 ...            -1  3.440726001228997"
      ]
     },
     "execution_count": 5,
     "metadata": {},
     "output_type": "execute_result"
    }
   ],
   "source": [
    "EDRcat_stk"
   ]
  },
  {
   "cell_type": "code",
   "execution_count": 6,
   "id": "575eb783",
   "metadata": {
    "scrolled": false
   },
   "outputs": [
    {
     "data": {
      "text/html": [
       "<div><i>Table length=21133</i>\n",
       "<table id=\"table139840004681744\" class=\"table-striped table-bordered table-condensed\">\n",
       "<thead><tr><th>TARGETID</th><th>Z</th><th>ZERR</th><th>ZWARN</th><th>SPECTYPE</th><th>COADD_FIBERSTATUS</th><th>TARGET_RA</th><th>TARGET_DEC</th><th>MORPHTYPE</th><th>EBV</th><th>FLUX_G</th><th>FLUX_R</th><th>FLUX_Z</th><th>FLUX_W1</th><th>FLUX_W2</th><th>FLUX_IVAR_G</th><th>FLUX_IVAR_R</th><th>FLUX_IVAR_Z</th><th>FLUX_IVAR_W1</th><th>FLUX_IVAR_W2</th><th>MW_TRANSMISSION_G</th><th>MW_TRANSMISSION_R</th><th>MW_TRANSMISSION_Z</th><th>MW_TRANSMISSION_W1</th><th>MW_TRANSMISSION_W2</th><th>PROBA_RF</th><th>MASKBITS</th><th>SV1_DESI_TARGET</th><th>SV1_SCND_TARGET</th><th>DESI_TARGET</th><th>COADD_NUMEXP</th><th>COADD_EXPTIME</th><th>CMX_TARGET</th><th>SV2_DESI_TARGET</th><th>SV3_DESI_TARGET</th><th>SV2_SCND_TARGET</th><th>SV3_SCND_TARGET</th><th>SCND_TARGET</th><th>TSNR2_LYA</th><th>TSNR2_QSO</th><th>DELTA_CHI2_MGII</th><th>A_MGII</th><th>SIGMA_MGII</th><th>B_MGII</th><th>VAR_A_MGII</th><th>VAR_SIGMA_MGII</th><th>VAR_B_MGII</th><th>Z_RR</th><th>Z_QN</th><th>C_LYA</th><th>C_CIV</th><th>C_CIII</th><th>C_MgII</th><th>C_Hbeta</th><th>C_Halpha</th><th>Z_LYA</th><th>Z_CIV</th><th>Z_CIII</th><th>Z_MgII</th><th>Z_Hbeta</th><th>Z_Halpha</th><th>QSO_MASKBITS</th><th>HPXPIXEL</th><th>SURVEY</th><th>PROGRAM</th><th>LASTNIGHT</th><th>PCA_COEFFS</th><th>PCA_CHI2</th><th>BAL_PROB</th><th>BI_CIV</th><th>ERR_BI_CIV</th><th>NCIV_2000</th><th>VMIN_CIV_2000</th><th>VMAX_CIV_2000</th><th>POSMIN_CIV_2000</th><th>FMIN_CIV_2000</th><th>AI_CIV</th><th>ERR_AI_CIV</th><th>NCIV_450</th><th>VMIN_CIV_450</th><th>VMAX_CIV_450</th><th>POSMIN_CIV_450</th><th>FMIN_CIV_450</th><th>BI_SIIV</th><th>ERR_BI_SIIV</th><th>NSIIV_2000</th><th>VMIN_SIIV_2000</th><th>VMAX_SIIV_2000</th><th>POSMIN_SIIV_2000</th><th>FMIN_SIIV_2000</th><th>AI_SIIV</th><th>ERR_AI_SIIV</th><th>NSIIV_450</th><th>VMIN_SIIV_450</th><th>VMAX_SIIV_450</th><th>POSMIN_SIIV_450</th><th>FMIN_SIIV_450</th><th>BALMASK</th></tr></thead>\n",
       "<thead><tr><th>int64</th><th>float64</th><th>float64</th><th>int64</th><th>str6</th><th>int32</th><th>float64</th><th>float64</th><th>str4</th><th>float32</th><th>float32</th><th>float32</th><th>float32</th><th>float32</th><th>float32</th><th>float32</th><th>float32</th><th>float32</th><th>float32</th><th>float32</th><th>float64</th><th>float64</th><th>float64</th><th>float64</th><th>float64</th><th>float64</th><th>int16</th><th>int64</th><th>int64</th><th>int64</th><th>int16</th><th>float32</th><th>int64</th><th>int64</th><th>int64</th><th>int64</th><th>int64</th><th>int64</th><th>float32</th><th>float32</th><th>float32</th><th>float32</th><th>float32</th><th>float32</th><th>float32</th><th>float32</th><th>float32</th><th>float32</th><th>float32</th><th>float32</th><th>float32</th><th>float32</th><th>float32</th><th>float32</th><th>float32</th><th>float32</th><th>float32</th><th>float32</th><th>float32</th><th>float32</th><th>float32</th><th>int32</th><th>int64</th><th>str3</th><th>str4</th><th>int64</th><th>float32[5]</th><th>float32</th><th>float32</th><th>float32</th><th>float32</th><th>int32</th><th>float32[5]</th><th>float32[5]</th><th>float32[5]</th><th>float32[5]</th><th>float32</th><th>float32</th><th>int32</th><th>float32[17]</th><th>float32[17]</th><th>float32[17]</th><th>float32[17]</th><th>float32</th><th>float32</th><th>int32</th><th>float32[5]</th><th>float32[5]</th><th>float32[5]</th><th>float32[5]</th><th>float32</th><th>float32</th><th>int32</th><th>float32[17]</th><th>float32[17]</th><th>float32[17]</th><th>float32[17]</th><th>uint8</th></tr></thead>\n",
       "<tr><td>39628362695576436</td><td>2.8416229272676015</td><td>0.00032908791013198203</td><td>0</td><td>QSO</td><td>0</td><td>197.14390063990936</td><td>24.52098352105162</td><td>PSF</td><td>0.01735756</td><td>2.3939388</td><td>3.1558244</td><td>3.0474098</td><td>3.3776402</td><td>6.646939</td><td>1261.5374</td><td>438.6839</td><td>85.196915</td><td>3.6998565</td><td>0.798743</td><td>0.943547462409841</td><td>0.943547462409841</td><td>0.943547462409841</td><td>0.943547462409841</td><td>0.943547462409841</td><td>0.9813056305646897</td><td>0</td><td>54043195528495108</td><td>0</td><td>0</td><td>6</td><td>4035.6438</td><td>0</td><td>0</td><td>0</td><td>0</td><td>0</td><td>0</td><td>647.7955</td><td>169.77591</td><td>--</td><td>--</td><td>--</td><td>--</td><td>--</td><td>--</td><td>--</td><td>2.8416228</td><td>2.8446302</td><td>0.999997</td><td>0.99999416</td><td>0.9999999</td><td>7.459293e-05</td><td>1.4724725e-05</td><td>4.361528e-05</td><td>2.8442981</td><td>2.8439817</td><td>2.8446302</td><td>0.4838516</td><td>-0.094580084</td><td>0.034311153</td><td>10</td><td>10282</td><td>sv1</td><td>dark</td><td>20210403</td><td>35.26518 .. -0.19467184</td><td>1.2041646</td><td>0.0</td><td>0.0</td><td>0.0</td><td>0</td><td>-1.0 .. -1.0</td><td>-1.0 .. -1.0</td><td>-1.0 .. -1.0</td><td>-1.0 .. -1.0</td><td>0.0</td><td>0.0</td><td>0</td><td>-1.0 .. -1.0</td><td>-1.0 .. -1.0</td><td>-1.0 .. -1.0</td><td>-1.0 .. -1.0</td><td>0.0</td><td>0.0</td><td>0</td><td>-1.0 .. -1.0</td><td>-1.0 .. -1.0</td><td>-1.0 .. -1.0</td><td>-1.0 .. -1.0</td><td>0.0</td><td>0.0</td><td>0</td><td>-1.0 .. -1.0</td><td>-1.0 .. -1.0</td><td>-1.0 .. -1.0</td><td>-1.0 .. -1.0</td><td>0</td></tr>\n",
       "<tr><td>39628362691384025</td><td>2.241123990212007</td><td>0.00013619029778055847</td><td>0</td><td>GALAXY</td><td>0</td><td>196.9679519879933</td><td>24.56685640575941</td><td>PSF</td><td>0.018219369</td><td>3.9227269</td><td>5.548474</td><td>6.6379075</td><td>8.6862</td><td>11.593429</td><td>1343.1218</td><td>474.38766</td><td>106.84847</td><td>3.5014746</td><td>0.79002535</td><td>0.9408291455349964</td><td>0.9408291455349964</td><td>0.9408291455349964</td><td>0.9408291455349964</td><td>0.9408291455349964</td><td>0.9948333728313447</td><td>0</td><td>4665729213955883012</td><td>131072</td><td>0</td><td>6</td><td>4035.6438</td><td>0</td><td>0</td><td>0</td><td>0</td><td>0</td><td>0</td><td>644.00146</td><td>179.21617</td><td>4.543879</td><td>-2695.9287</td><td>7988.7046</td><td>2698.2803</td><td>-26377143000000.0</td><td>-57683927000000.0</td><td>-26377143000000.0</td><td>0.38234955</td><td>2.2411656</td><td>1.0</td><td>1.0</td><td>0.9999896</td><td>0.9999998</td><td>4.5593447e-06</td><td>3.392021e-06</td><td>2.2411656</td><td>2.240448</td><td>2.2410743</td><td>2.235775</td><td>0.7045512</td><td>-0.04391338</td><td>24</td><td>10282</td><td>sv1</td><td>dark</td><td>20210403</td><td>80.79744 .. 0.5062046</td><td>1.3529189</td><td>0.0</td><td>0.0</td><td>0.0</td><td>0</td><td>-1.0 .. -1.0</td><td>-1.0 .. -1.0</td><td>-1.0 .. -1.0</td><td>-1.0 .. -1.0</td><td>0.0</td><td>0.0</td><td>0</td><td>-1.0 .. -1.0</td><td>-1.0 .. -1.0</td><td>-1.0 .. -1.0</td><td>-1.0 .. -1.0</td><td>0.0</td><td>0.0</td><td>0</td><td>-1.0 .. -1.0</td><td>-1.0 .. -1.0</td><td>-1.0 .. -1.0</td><td>-1.0 .. -1.0</td><td>8.348205</td><td>2.2783027</td><td>1</td><td>12431.525 .. -1.0</td><td>12960.832 .. -1.0</td><td>12802.04 .. -1.0</td><td>0.28305736 .. -1.0</td><td>0</td></tr>\n",
       "<tr><td>39628368198500958</td><td>2.8737682616418354</td><td>0.0003963213065264614</td><td>0</td><td>QSO</td><td>0</td><td>197.3543040445033</td><td>24.70854692704085</td><td>PSF</td><td>0.016603509</td><td>0.7753115</td><td>1.078134</td><td>0.94954526</td><td>0.99991345</td><td>2.2617981</td><td>761.6638</td><td>128.2516</td><td>27.794256</td><td>3.9494672</td><td>0.85433364</td><td>0.9459323313378998</td><td>0.9459323313378998</td><td>0.9459323313378998</td><td>0.9459323313378998</td><td>0.9459323313378998</td><td>0.8243512066304683</td><td>256</td><td>36028797018996740</td><td>0</td><td>0</td><td>6</td><td>4035.6438</td><td>0</td><td>0</td><td>0</td><td>0</td><td>0</td><td>0</td><td>470.22546</td><td>139.7975</td><td>--</td><td>--</td><td>--</td><td>--</td><td>--</td><td>--</td><td>--</td><td>2.8737683</td><td>2.8676348</td><td>0.99999607</td><td>0.999997</td><td>0.9999928</td><td>1.0872421e-05</td><td>1.25157285e-05</td><td>3.3050386e-05</td><td>2.8675168</td><td>2.8676348</td><td>2.8653617</td><td>1.2452846</td><td>-0.11137664</td><td>0.273469</td><td>10</td><td>10282</td><td>sv1</td><td>dark</td><td>20210403</td><td>11.835367 .. 0.16376917</td><td>1.1658344</td><td>0.0</td><td>0.0</td><td>0.0</td><td>0</td><td>-1.0 .. -1.0</td><td>-1.0 .. -1.0</td><td>-1.0 .. -1.0</td><td>-1.0 .. -1.0</td><td>0.0</td><td>0.0</td><td>0</td><td>-1.0 .. -1.0</td><td>-1.0 .. -1.0</td><td>-1.0 .. -1.0</td><td>-1.0 .. -1.0</td><td>0.0</td><td>0.0</td><td>0</td><td>-1.0 .. -1.0</td><td>-1.0 .. -1.0</td><td>-1.0 .. -1.0</td><td>-1.0 .. -1.0</td><td>0.0</td><td>0.0</td><td>0</td><td>-1.0 .. -1.0</td><td>-1.0 .. -1.0</td><td>-1.0 .. -1.0</td><td>-1.0 .. -1.0</td><td>0</td></tr>\n",
       "<tr><td>39628368194309846</td><td>2.317623875345408</td><td>4.644631796834977e-05</td><td>0</td><td>QSO</td><td>0</td><td>197.2426879668466</td><td>24.630838170511577</td><td>PSF</td><td>0.016782852</td><td>13.683401</td><td>13.364317</td><td>17.862452</td><td>26.150757</td><td>48.975723</td><td>463.8845</td><td>131.97903</td><td>38.341618</td><td>3.004494</td><td>0.6515981</td><td>0.9453645700553363</td><td>0.9453645700553363</td><td>0.9453645700553363</td><td>0.9453645700553363</td><td>0.9453645700553363</td><td>0.9982012715339661</td><td>0</td><td>6971572223169576964</td><td>34359869440</td><td>0</td><td>6</td><td>4035.6438</td><td>0</td><td>0</td><td>0</td><td>0</td><td>0</td><td>0</td><td>523.98895</td><td>154.51921</td><td>120.32705</td><td>1.4966811</td><td>-40.400005</td><td>2.7184923</td><td>0.0012631682</td><td>1.9284371</td><td>0.00081223267</td><td>2.3176239</td><td>2.3162823</td><td>0.9999949</td><td>0.9999886</td><td>0.9999951</td><td>0.9999948</td><td>8.163955e-05</td><td>0.00017747206</td><td>2.320981</td><td>2.320213</td><td>2.3162823</td><td>2.3157825</td><td>0.47351003</td><td>0.39101183</td><td>14</td><td>10282</td><td>sv1</td><td>dark</td><td>20210403</td><td>220.49908 .. -6.139493</td><td>2.3174875</td><td>0.0</td><td>0.0</td><td>0.0</td><td>0</td><td>-1.0 .. -1.0</td><td>-1.0 .. -1.0</td><td>-1.0 .. -1.0</td><td>-1.0 .. -1.0</td><td>0.0</td><td>0.0</td><td>0</td><td>-1.0 .. -1.0</td><td>-1.0 .. -1.0</td><td>-1.0 .. -1.0</td><td>-1.0 .. -1.0</td><td>0.0</td><td>0.0</td><td>0</td><td>-1.0 .. -1.0</td><td>-1.0 .. -1.0</td><td>-1.0 .. -1.0</td><td>-1.0 .. -1.0</td><td>0.0</td><td>0.0</td><td>0</td><td>-1.0 .. -1.0</td><td>-1.0 .. -1.0</td><td>-1.0 .. -1.0</td><td>-1.0 .. -1.0</td><td>0</td></tr>\n",
       "<tr><td>39628368194309407</td><td>2.1261863706273023</td><td>7.450446030491371e-05</td><td>0</td><td>QSO</td><td>0</td><td>197.22031786660807</td><td>24.729863584809838</td><td>PSF</td><td>0.01938141</td><td>8.465571</td><td>8.915989</td><td>13.79762</td><td>16.880308</td><td>22.700628</td><td>412.88025</td><td>252.35965</td><td>65.42616</td><td>3.3858373</td><td>0.7725043</td><td>0.9371762306561462</td><td>0.9371762306561462</td><td>0.9371762306561462</td><td>0.9371762306561462</td><td>0.9371762306561462</td><td>0.9981583037376404</td><td>0</td><td>4665733337124491014</td><td>131072</td><td>0</td><td>6</td><td>4035.6438</td><td>0</td><td>0</td><td>0</td><td>0</td><td>0</td><td>0</td><td>468.23785</td><td>149.65076</td><td>961.6406</td><td>1.5166441</td><td>-26.254246</td><td>1.9328101</td><td>0.00072190847</td><td>0.3172892</td><td>0.0001817528</td><td>2.1261864</td><td>2.1328456</td><td>0.9999822</td><td>0.9999124</td><td>0.99999785</td><td>0.99999934</td><td>0.000173635</td><td>0.00016241756</td><td>2.1330936</td><td>2.133621</td><td>2.1310933</td><td>2.1328456</td><td>0.7111629</td><td>0.35575193</td><td>14</td><td>10282</td><td>sv1</td><td>dark</td><td>20210403</td><td>155.747 .. -0.2753246</td><td>3.378635</td><td>0.0</td><td>0.0</td><td>0.0</td><td>0</td><td>-1.0 .. -1.0</td><td>-1.0 .. -1.0</td><td>-1.0 .. -1.0</td><td>-1.0 .. -1.0</td><td>0.0</td><td>0.0</td><td>0</td><td>-1.0 .. -1.0</td><td>-1.0 .. -1.0</td><td>-1.0 .. -1.0</td><td>-1.0 .. -1.0</td><td>0.0</td><td>0.0</td><td>0</td><td>-1.0 .. -1.0</td><td>-1.0 .. -1.0</td><td>-1.0 .. -1.0</td><td>-1.0 .. -1.0</td><td>0.0</td><td>0.0</td><td>0</td><td>-1.0 .. -1.0</td><td>-1.0 .. -1.0</td><td>-1.0 .. -1.0</td><td>-1.0 .. -1.0</td><td>0</td></tr>\n",
       "<tr><td>39628362699768732</td><td>2.362916162225716</td><td>0.0001140726453741081</td><td>0</td><td>QSO</td><td>0</td><td>197.3424854277732</td><td>24.600798130960488</td><td>PSF</td><td>0.01656355</td><td>4.00747</td><td>7.3292274</td><td>12.022153</td><td>24.993546</td><td>30.713783</td><td>770.3251</td><td>242.93686</td><td>17.687021</td><td>2.6883154</td><td>0.67937094</td><td>0.9460588804487212</td><td>0.9460588804487212</td><td>0.9460588804487212</td><td>0.9460588804487212</td><td>0.9460588804487212</td><td>0.9815438522100448</td><td>272</td><td>4665729213955883012</td><td>34359869440</td><td>0</td><td>6</td><td>4035.6438</td><td>0</td><td>0</td><td>0</td><td>0</td><td>0</td><td>0</td><td>399.04053</td><td>132.21927</td><td>349.63095</td><td>0.75794226</td><td>-67.45646</td><td>1.5232334</td><td>0.01067252</td><td>87.42753</td><td>0.012440308</td><td>1.2895257</td><td>2.3755357</td><td>0.99998534</td><td>0.99996203</td><td>0.9999852</td><td>0.99999666</td><td>3.9027345e-05</td><td>2.9048051e-05</td><td>2.376198</td><td>2.3818657</td><td>2.3762622</td><td>2.3755357</td><td>-0.052169736</td><td>-0.45145366</td><td>30</td><td>10282</td><td>sv1</td><td>dark</td><td>20210403</td><td>80.359474 .. -0.7073492</td><td>1.5294789</td><td>0.0</td><td>0.0</td><td>0.0</td><td>0</td><td>-1.0 .. -1.0</td><td>-1.0 .. -1.0</td><td>-1.0 .. -1.0</td><td>-1.0 .. -1.0</td><td>707.5642</td><td>6.010602</td><td>2</td><td>1079.4989 .. -1.0</td><td>2460.724 .. -1.0</td><td>1770.1116 .. -1.0</td><td>-0.13966458 .. -1.0</td><td>0.0</td><td>0.0</td><td>0</td><td>-1.0 .. -1.0</td><td>-1.0 .. -1.0</td><td>-1.0 .. -1.0</td><td>-1.0 .. -1.0</td><td>19.378439</td><td>3.3282135</td><td>1</td><td>647.6767 .. -1.0</td><td>1259.842 .. -1.0</td><td>1208.8282 .. -1.0</td><td>0.22547391 .. -1.0</td><td>0</td></tr>\n",
       "<tr><td>...</td><td>...</td><td>...</td><td>...</td><td>...</td><td>...</td><td>...</td><td>...</td><td>...</td><td>...</td><td>...</td><td>...</td><td>...</td><td>...</td><td>...</td><td>...</td><td>...</td><td>...</td><td>...</td><td>...</td><td>...</td><td>...</td><td>...</td><td>...</td><td>...</td><td>...</td><td>...</td><td>...</td><td>...</td><td>...</td><td>...</td><td>...</td><td>...</td><td>...</td><td>...</td><td>...</td><td>...</td><td>...</td><td>...</td><td>...</td><td>...</td><td>...</td><td>...</td><td>...</td><td>...</td><td>...</td><td>...</td><td>...</td><td>...</td><td>...</td><td>...</td><td>...</td><td>...</td><td>...</td><td>...</td><td>...</td><td>...</td><td>...</td><td>...</td><td>...</td><td>...</td><td>...</td><td>...</td><td>...</td><td>...</td><td>...</td><td>...</td><td>...</td><td>...</td><td>...</td><td>...</td><td>...</td><td>...</td><td>...</td><td>...</td><td>...</td><td>...</td><td>...</td><td>...</td><td>...</td><td>...</td><td>...</td><td>...</td><td>...</td><td>...</td><td>...</td><td>...</td><td>...</td><td>...</td><td>...</td><td>...</td><td>...</td><td>...</td><td>...</td><td>...</td><td>...</td><td>...</td><td>...</td></tr>\n",
       "<tr><td>39633154075528486</td><td>2.4024127259999997</td><td>8.561802351216167e-05</td><td>0</td><td>QSO</td><td>0</td><td>247.47106530738824</td><td>44.1315865578505</td><td>PSF</td><td>0.0067211264</td><td>10.888801</td><td>11.853837</td><td>13.964059</td><td>16.61804</td><td>24.68108</td><td>211.48813</td><td>146.00388</td><td>88.59073</td><td>5.276731</td><td>1.4013087</td><td>0.9773119866381614</td><td>0.9773119866381614</td><td>0.9773119866381614</td><td>0.9773119866381614</td><td>0.9773119866381614</td><td>0.9982012039422989</td><td>0</td><td>0</td><td>0</td><td>0</td><td>4</td><td>3240.7815</td><td>0</td><td>0</td><td>1028</td><td>0</td><td>0</td><td>0</td><td>711.5044</td><td>188.53888</td><td>283.3944</td><td>0.6832125</td><td>48.910973</td><td>1.9850153</td><td>0.0014470693</td><td>15.542672</td><td>0.0014843044</td><td>2.4024127</td><td>2.4195259</td><td>0.9999696</td><td>0.99999636</td><td>0.99998814</td><td>0.9999966</td><td>8.999209e-05</td><td>0.00027147515</td><td>2.419782</td><td>2.4180431</td><td>2.4198365</td><td>2.4195259</td><td>0.32134002</td><td>0.37699685</td><td>14</td><td>9992</td><td>sv3</td><td>dark</td><td>20210417</td><td>215.22636 .. 6.918724</td><td>2.0435913</td><td>0.0</td><td>0.0</td><td>0.0</td><td>0</td><td>-1.0 .. -1.0</td><td>-1.0 .. -1.0</td><td>-1.0 .. -1.0</td><td>-1.0 .. -1.0</td><td>0.0</td><td>0.0</td><td>0</td><td>-1.0 .. -1.0</td><td>-1.0 .. -1.0</td><td>-1.0 .. -1.0</td><td>-1.0 .. -1.0</td><td>0.0</td><td>0.0</td><td>0</td><td>-1.0 .. -1.0</td><td>-1.0 .. -1.0</td><td>-1.0 .. -1.0</td><td>-1.0 .. -1.0</td><td>0.0</td><td>0.0</td><td>0</td><td>-1.0 .. -1.0</td><td>-1.0 .. -1.0</td><td>-1.0 .. -1.0</td><td>-1.0 .. -1.0</td><td>0</td></tr>\n",
       "<tr><td>39633145363956665</td><td>2.3698545381005536</td><td>0.0001928917784884759</td><td>0</td><td>QSO</td><td>0</td><td>247.3171453863784</td><td>43.81376729389586</td><td>PSF</td><td>0.008561197</td><td>3.327022</td><td>3.5338478</td><td>6.6103454</td><td>10.627311</td><td>12.344738</td><td>378.25476</td><td>179.06996</td><td>129.28043</td><td>5.7329855</td><td>1.558036</td><td>0.9711908466688328</td><td>0.9711908466688328</td><td>0.9711908466688328</td><td>0.9711908466688328</td><td>0.9711908466688328</td><td>0.9967738678455352</td><td>0</td><td>0</td><td>0</td><td>0</td><td>4</td><td>3071.917</td><td>0</td><td>0</td><td>4611686018427393606</td><td>0</td><td>100663296</td><td>0</td><td>628.67267</td><td>146.00012</td><td>98.492645</td><td>0.14714839</td><td>28.014236</td><td>0.7965605</td><td>0.0007928348</td><td>46.058414</td><td>0.00022950333</td><td>2.3698545</td><td>2.3788047</td><td>1.0</td><td>1.0</td><td>0.9999993</td><td>0.99999994</td><td>1.6915092e-05</td><td>1.3263525e-05</td><td>2.378493</td><td>2.3788047</td><td>2.3764267</td><td>2.3763561</td><td>-0.035595104</td><td>0.2710241</td><td>14</td><td>9992</td><td>sv3</td><td>dark</td><td>20210410</td><td>46.841484 .. 1.9463793</td><td>1.308076</td><td>0.0</td><td>0.0</td><td>0.0</td><td>0</td><td>-1.0 .. -1.0</td><td>-1.0 .. -1.0</td><td>-1.0 .. -1.0</td><td>-1.0 .. -1.0</td><td>130.2266</td><td>2.093551</td><td>1</td><td>40.46373 .. -1.0</td><td>867.49255 .. -1.0</td><td>545.87024 .. -1.0</td><td>-0.017372197 .. -1.0</td><td>0.0</td><td>0.0</td><td>0</td><td>-1.0 .. -1.0</td><td>-1.0 .. -1.0</td><td>-1.0 .. -1.0</td><td>-1.0 .. -1.0</td><td>0.0</td><td>0.0</td><td>0</td><td>-1.0 .. -1.0</td><td>-1.0 .. -1.0</td><td>-1.0 .. -1.0</td><td>-1.0 .. -1.0</td><td>0</td></tr>\n",
       "<tr><td>39633145359764770</td><td>2.2256660356499327</td><td>0.00023939686070661992</td><td>0</td><td>QSO</td><td>0</td><td>247.15703719734134</td><td>43.852209928226905</td><td>PSF</td><td>0.0076222997</td><td>2.3993747</td><td>3.4800248</td><td>4.9839044</td><td>7.333546</td><td>9.987185</td><td>387.31342</td><td>176.85243</td><td>99.23358</td><td>6.028344</td><td>1.5961391</td><td>0.974309356650376</td><td>0.974309356650376</td><td>0.974309356650376</td><td>0.974309356650376</td><td>0.974309356650376</td><td>0.9874682701826095</td><td>0</td><td>0</td><td>0</td><td>0</td><td>1</td><td>752.3298</td><td>0</td><td>0</td><td>1028</td><td>0</td><td>0</td><td>0</td><td>195.84967</td><td>42.70293</td><td>49.360535</td><td>0.5482071</td><td>-28.235203</td><td>1.124106</td><td>0.0035229486</td><td>16.353928</td><td>0.0009589318</td><td>1.185939</td><td>2.216872</td><td>0.9999896</td><td>1.0</td><td>0.9999004</td><td>0.9999856</td><td>8.256448e-06</td><td>5.476479e-06</td><td>2.2150838</td><td>2.216872</td><td>2.2292304</td><td>2.225406</td><td>0.39053446</td><td>-0.044901486</td><td>30</td><td>9992</td><td>sv3</td><td>dark</td><td>20210407</td><td>58.78326 .. -0.772192</td><td>1.1007866</td><td>0.0</td><td>3559.0684</td><td>35.138912</td><td>1</td><td>3009.3928 .. -1.0</td><td>9009.374 .. -1.0</td><td>5313.3857 .. -1.0</td><td>-0.671462 .. -1.0</td><td>0.0</td><td>0.0</td><td>0</td><td>-1.0 .. -1.0</td><td>-1.0 .. -1.0</td><td>-1.0 .. -1.0</td><td>-1.0 .. -1.0</td><td>82.10362</td><td>5.8029428</td><td>1</td><td>3023.6074 .. -1.0</td><td>5150.983 .. -1.0</td><td>4512.77 .. -1.0</td><td>-0.62915295 .. -1.0</td><td>3003.4194</td><td>35.19604</td><td>4</td><td>7863.386 .. -1.0</td><td>8448.414 .. -1.0</td><td>8129.308 .. -1.0</td><td>-0.04923115 .. -1.0</td><td>0</td></tr>\n",
       "<tr><td>39633154075527611</td><td>2.41139023551836</td><td>0.00019081428763456643</td><td>0</td><td>GALAXY</td><td>0</td><td>247.39415863117645</td><td>44.33690983078974</td><td>PSF</td><td>0.009492741</td><td>2.0709138</td><td>3.9562557</td><td>9.045031</td><td>16.070114</td><td>25.50366</td><td>400.70294</td><td>174.94159</td><td>108.22261</td><td>5.237524</td><td>1.3750945</td><td>0.9681066233718099</td><td>0.9681066233718099</td><td>0.9681066233718099</td><td>0.9681066233718099</td><td>0.9681066233718099</td><td>0.9785594291687012</td><td>0</td><td>0</td><td>0</td><td>0</td><td>1</td><td>752.3298</td><td>0</td><td>0</td><td>4611686018427388932</td><td>0</td><td>100663296</td><td>0</td><td>207.63422</td><td>39.63672</td><td>9.055787</td><td>6.8891068</td><td>753.4585</td><td>-5.6742063</td><td>3896544.0</td><td>12104367000.0</td><td>3896609.0</td><td>1.5336792</td><td>2.424566</td><td>0.99954873</td><td>0.99957913</td><td>0.9999995</td><td>1.0</td><td>0.0002919223</td><td>0.00018662283</td><td>2.4339209</td><td>2.4320598</td><td>2.42624</td><td>2.424566</td><td>0.46057707</td><td>0.45581302</td><td>24</td><td>9992</td><td>sv3</td><td>dark</td><td>20210407</td><td>59.766228 .. 0.8735197</td><td>1.0658156</td><td>0.0</td><td>0.0</td><td>0.0</td><td>0</td><td>-1.0 .. -1.0</td><td>-1.0 .. -1.0</td><td>-1.0 .. -1.0</td><td>-1.0 .. -1.0</td><td>0.0</td><td>0.0</td><td>0</td><td>-1.0 .. -1.0</td><td>-1.0 .. -1.0</td><td>-1.0 .. -1.0</td><td>-1.0 .. -1.0</td><td>0.0</td><td>0.0</td><td>0</td><td>-1.0 .. -1.0</td><td>-1.0 .. -1.0</td><td>-1.0 .. -1.0</td><td>-1.0 .. -1.0</td><td>0.0</td><td>0.0</td><td>0</td><td>-1.0 .. -1.0</td><td>-1.0 .. -1.0</td><td>-1.0 .. -1.0</td><td>-1.0 .. -1.0</td><td>0</td></tr>\n",
       "<tr><td>39633145359762168</td><td>2.620823191667046</td><td>0.00014761869703782746</td><td>0</td><td>QSO</td><td>0</td><td>246.9652801809915</td><td>43.78373602823141</td><td>PSF</td><td>0.006460611</td><td>4.3114424</td><td>6.1236033</td><td>9.447228</td><td>16.000965</td><td>20.448118</td><td>317.00012</td><td>151.672</td><td>64.86087</td><td>5.1945643</td><td>1.420608</td><td>0.9781817245576154</td><td>0.9781817245576154</td><td>0.9781817245576154</td><td>0.9781817245576154</td><td>0.9781817245576154</td><td>0.9961188995838165</td><td>0</td><td>0</td><td>0</td><td>0</td><td>4</td><td>3335.2861</td><td>0</td><td>0</td><td>4611686018427388932</td><td>0</td><td>100663296</td><td>0</td><td>645.50366</td><td>164.72998</td><td>--</td><td>--</td><td>--</td><td>--</td><td>--</td><td>--</td><td>--</td><td>2.6208231</td><td>2.6564074</td><td>0.9999982</td><td>0.99999887</td><td>0.9999996</td><td>1.6486556e-05</td><td>6.0723276e-05</td><td>9.76086e-06</td><td>2.6523218</td><td>2.65218</td><td>2.6564074</td><td>0.84217244</td><td>0.84126866</td><td>-0.120074116</td><td>10</td><td>9992</td><td>sv3</td><td>dark</td><td>20210418</td><td>87.29159 .. 2.2432475</td><td>1.5258467</td><td>0.0</td><td>0.0</td><td>0.0</td><td>0</td><td>-1.0 .. -1.0</td><td>-1.0 .. -1.0</td><td>-1.0 .. -1.0</td><td>-1.0 .. -1.0</td><td>302.70734</td><td>2.380034</td><td>1</td><td>35.013653 .. -1.0</td><td>933.0031 .. -1.0</td><td>633.67334 .. -1.0</td><td>-0.11312271 .. -1.0</td><td>0.0</td><td>0.0</td><td>0</td><td>-1.0 .. -1.0</td><td>-1.0 .. -1.0</td><td>-1.0 .. -1.0</td><td>-1.0 .. -1.0</td><td>0.0</td><td>0.0</td><td>0</td><td>-1.0 .. -1.0</td><td>-1.0 .. -1.0</td><td>-1.0 .. -1.0</td><td>-1.0 .. -1.0</td><td>0</td></tr>\n",
       "<tr><td>39633140972521559</td><td>2.6659722253656275</td><td>7.929513095777737e-05</td><td>0</td><td>QSO</td><td>0</td><td>246.77951946485257</td><td>43.441566779701375</td><td>PSF</td><td>0.009013265</td><td>2.473628</td><td>2.9253588</td><td>3.7736382</td><td>5.0392547</td><td>6.9442554</td><td>378.08786</td><td>142.18994</td><td>161.81839</td><td>5.6973677</td><td>1.5900565</td><td>0.9696928802522067</td><td>0.9696928802522067</td><td>0.9696928802522067</td><td>0.9696928802522067</td><td>0.9696928802522067</td><td>0.9966973049640655</td><td>0</td><td>0</td><td>0</td><td>0</td><td>7</td><td>5437.795</td><td>0</td><td>0</td><td>5702</td><td>0</td><td>0</td><td>0</td><td>717.34546</td><td>212.97328</td><td>--</td><td>--</td><td>--</td><td>--</td><td>--</td><td>--</td><td>--</td><td>2.6659722</td><td>2.6707478</td><td>0.99999905</td><td>0.99999946</td><td>0.9999981</td><td>1.1418675e-05</td><td>6.5002587e-06</td><td>1.812043e-05</td><td>2.6684368</td><td>2.6707478</td><td>2.6644073</td><td>2.5156555</td><td>1.0401626</td><td>-0.35371488</td><td>10</td><td>9992</td><td>sv3</td><td>dark</td><td>20210416</td><td>49.79995 .. -0.7303788</td><td>1.1443527</td><td>0.0</td><td>0.0</td><td>0.0</td><td>0</td><td>-1.0 .. -1.0</td><td>-1.0 .. -1.0</td><td>-1.0 .. -1.0</td><td>-1.0 .. -1.0</td><td>111.94131</td><td>1.9515344</td><td>1</td><td>10.082951 .. -1.0</td><td>854.77826 .. -1.0</td><td>52.31772 .. -1.0</td><td>0.073197186 .. -1.0</td><td>0.0</td><td>0.0</td><td>0</td><td>-1.0 .. -1.0</td><td>-1.0 .. -1.0</td><td>-1.0 .. -1.0</td><td>-1.0 .. -1.0</td><td>0.0</td><td>0.0</td><td>0</td><td>-1.0 .. -1.0</td><td>-1.0 .. -1.0</td><td>-1.0 .. -1.0</td><td>-1.0 .. -1.0</td><td>0</td></tr>\n",
       "<tr><td>39633154079723272</td><td>3.9236339806909353</td><td>0.0003890103883801284</td><td>0</td><td>QSO</td><td>0</td><td>247.85259592990585</td><td>44.28516557334545</td><td>PSF</td><td>0.009317292</td><td>0.406102</td><td>1.6295171</td><td>1.7573991</td><td>3.7226765</td><td>4.2353272</td><td>525.8243</td><td>194.16182</td><td>223.60638</td><td>6.439633</td><td>1.71765</td><td>0.9686867631031099</td><td>0.9686867631031099</td><td>0.9686867631031099</td><td>0.9686867631031099</td><td>0.9686867631031099</td><td>0.8948107910454273</td><td>0</td><td>0</td><td>0</td><td>0</td><td>1</td><td>781.8566</td><td>0</td><td>0</td><td>1028</td><td>0</td><td>0</td><td>0</td><td>116.91261</td><td>30.247301</td><td>--</td><td>--</td><td>--</td><td>--</td><td>--</td><td>--</td><td>--</td><td>3.923634</td><td>3.9349067</td><td>0.99999785</td><td>0.99999607</td><td>0.9999967</td><td>6.853541e-06</td><td>1.0365995e-05</td><td>3.3781824e-05</td><td>3.9349067</td><td>3.9320915</td><td>3.9155285</td><td>1.2782166</td><td>0.53374004</td><td>-0.18337134</td><td>10</td><td>9993</td><td>sv3</td><td>dark</td><td>20210409</td><td>18.322918 .. 0.3030245</td><td>1.000289</td><td>0.0</td><td>0.0</td><td>0.0</td><td>0</td><td>-1.0 .. -1.0</td><td>-1.0 .. -1.0</td><td>-1.0 .. -1.0</td><td>-1.0 .. -1.0</td><td>0.0</td><td>0.0</td><td>0</td><td>-1.0 .. -1.0</td><td>-1.0 .. -1.0</td><td>-1.0 .. -1.0</td><td>-1.0 .. -1.0</td><td>0.0</td><td>0.0</td><td>0</td><td>-1.0 .. -1.0</td><td>-1.0 .. -1.0</td><td>-1.0 .. -1.0</td><td>-1.0 .. -1.0</td><td>0.0</td><td>0.0</td><td>0</td><td>-1.0 .. -1.0</td><td>-1.0 .. -1.0</td><td>-1.0 .. -1.0</td><td>-1.0 .. -1.0</td><td>0</td></tr>\n",
       "</table></div>"
      ],
      "text/plain": [
       "<Table length=21133>\n",
       "     TARGETID             Z          ...    FMIN_SIIV_450    BALMASK\n",
       "      int64            float64       ...     float32[17]      uint8 \n",
       "----------------- ------------------ ... ------------------- -------\n",
       "39628362695576436 2.8416229272676015 ...        -1.0 .. -1.0       0\n",
       "39628362691384025  2.241123990212007 ...  0.28305736 .. -1.0       0\n",
       "39628368198500958 2.8737682616418354 ...        -1.0 .. -1.0       0\n",
       "39628368194309846  2.317623875345408 ...        -1.0 .. -1.0       0\n",
       "39628368194309407 2.1261863706273023 ...        -1.0 .. -1.0       0\n",
       "39628362699768732  2.362916162225716 ...  0.22547391 .. -1.0       0\n",
       "              ...                ... ...                 ...     ...\n",
       "39633154075528486 2.4024127259999997 ...        -1.0 .. -1.0       0\n",
       "39633145363956665 2.3698545381005536 ...        -1.0 .. -1.0       0\n",
       "39633145359764770 2.2256660356499327 ... -0.04923115 .. -1.0       0\n",
       "39633154075527611   2.41139023551836 ...        -1.0 .. -1.0       0\n",
       "39633145359762168  2.620823191667046 ...        -1.0 .. -1.0       0\n",
       "39633140972521559 2.6659722253656275 ...        -1.0 .. -1.0       0\n",
       "39633154079723272 3.9236339806909353 ...        -1.0 .. -1.0       0"
      ]
     },
     "execution_count": 6,
     "metadata": {},
     "output_type": "execute_result"
    }
   ],
   "source": [
    "file_cor = \"qso_catalog_sv13.fits\" # Name of the first catalog (sv1)\n",
    "lc_cor = os.path.join(local_dir,file_cor) # lc_sv1 = Local file sv1\n",
    "fc_cor = fits.open(lc_cor) # fc_sv1 = Open .fits catalog file of sv1\n",
    "cat_cor = Table.read(fc_cor)\n",
    "w = (cat_cor['Z']>=2.1) & (cat_cor['PROGRAM']=='dark') # q_sv1 = Query from main catalog (filtering)\n",
    "cat_cor = cat_cor[w]\n",
    "cat_cor"
   ]
  },
  {
   "cell_type": "code",
   "execution_count": 7,
   "id": "2ee633b5",
   "metadata": {},
   "outputs": [
    {
     "data": {
      "image/png": "[encoded data removed]",
      "text/plain": [
       "<Figure size 640x480 with 1 Axes>"
      ]
     },
     "metadata": {},
     "output_type": "display_data"
    }
   ],
   "source": [
    "# A index o BI_CIV.\n",
    "# El P1D calculado viene en el paper de Corentin en un link para descargar.\n",
    "# Hacer lo de las carpetas para los archivos healpix.\n",
    "# Paper Corentin: Data aviability en un link del articulo para descargar los datos para comparar.\n",
    "f = 'Z'\n",
    "f = str(f)\n",
    "plt.hist(EDRcat_stk[f], bins=np.arange(min(EDRcat_stk[f]), max(EDRcat_stk[f]) + 0.1, 0.1) \\\n",
    ", ec=\"red\", facecolor=\"none\", histtype='step')\n",
    "plt.hist(cat_cor[f], bins=np.arange(min(cat_cor[f]), max(cat_cor[f]) + 0.1, 0.1),ec=\"blue\", facecolor=\"none\", histtype='step')\n",
    "plt.show()"
   ]
  },
  {
   "cell_type": "code",
   "execution_count": 9,
   "id": "bbf3c6ba",
   "metadata": {},
   "outputs": [
    {
     "name": "stdout",
     "output_type": "stream",
     "text": [
      "26763\n",
      "21133\n"
     ]
    }
   ],
   "source": [
    "svs = []\n",
    "cor = []\n",
    "\n",
    "for i in range(len(EDRcat_stk)):\n",
    "    svs.append(int(EDRcat_stk['TARGETID'][i]))\n",
    "print(len(svs))\n",
    "for a in range(len(cat_cor)):\n",
    "    cor.append(int(cat_cor['TARGETID'][a]))\n",
    "print(len(cor))\n",
    "\n",
    "np.savetxt('/home/colgoat/Jupyter/desi_test/svs.txt',svs, fmt = '%s', delimiter = ',')\n",
    "np.savetxt('/home/colgoat/Jupyter/desi_test/cor.txt',cor, fmt = '%s', delimiter = ',')"
   ]
  },
  {
   "cell_type": "code",
   "execution_count": 8,
   "id": "8ed04d07",
   "metadata": {},
   "outputs": [],
   "source": [
    "np.savetxt('/home/colgoat/Spyder/DESI_weblist.txt',web_list, fmt = '%s', delimiter = ',')"
   ]
  },
  {
   "cell_type": "code",
   "execution_count": null,
   "id": "4c0bbb42",
   "metadata": {},
   "outputs": [],
   "source": [
    "# Checking if the files exist on the web\n",
    "\n",
    "'''chw_list = [] # chw_list = Check web list\n",
    "\n",
    "for i in range(len(web_list)):\n",
    "    chw_list.append(check_link(web_list[i]))\n",
    "    \n",
    "chw_list = np.array(chw_list)\n",
    "\n",
    "print(\"---------------------------------------------\")\n",
    "print(\"\\n\")\n",
    "\n",
    "print(\"Number of links working on database: \",np.count_nonzero(chw_list == True))\n",
    "print(\"Links not found: \",np.count_nonzero(chw_list == False))\n",
    "\n",
    "print(\"\\n\")\n",
    "print(\"---------------------------------------------\")\n",
    "print(\"\\n\")'''\n"
   ]
  },
  {
   "cell_type": "code",
   "execution_count": 12,
   "id": "40324b44",
   "metadata": {
    "scrolled": false
   },
   "outputs": [
    {
     "name": "stdout",
     "output_type": "stream",
     "text": [
      "---------------------------------------------\n",
      "\n",
      "\n",
      "Coadded files on folder: 2/1247\n",
      "To be downloaded: 1245/1247\n",
      "\n",
      "\n",
      "---------------------------------------------\n",
      "\n",
      "\n",
      "---------------------------------------------\n",
      "\n",
      "\n",
      "DOWNLOADING AND MODIFYING COADD FILES\n",
      "\n",
      "\n",
      "---------------------------------------------\n",
      "\n",
      "\n"
     ]
    }
   ],
   "source": [
    "# Checking if the files exist on the directory\n",
    "\n",
    "df_list = os.listdir(local_dir) # df_list = Downloaded files (Excluding catalogs)\n",
    "df_list.sort()\n",
    "df_list = np.array(df_list)\n",
    "\n",
    "fi_f = np.char.find(df_list, \"coadd\", start=0, end=None) ## fi_f = File (coadded) identification on folder\n",
    "\n",
    "y = 0 # part of the list\n",
    "n = 0 # not part of the list\n",
    "\n",
    "for i in range(len(df_list)):\n",
    "    if (fi_f[i]==(-1)):\n",
    "        n = n + 1\n",
    "    elif(fi_f[i]==(0)):\n",
    "        y = y + 1\n",
    "\n",
    "print(\"---------------------------------------------\")\n",
    "print(\"\\n\")\n",
    "\n",
    "print(f\"Coadded files on folder: {y}/{len(web_list)}\")\n",
    "print(f\"To be downloaded: {len(web_list)-(y)}/{len(web_list)}\")\n",
    "\n",
    "print(\"\\n\")\n",
    "print(\"---------------------------------------------\")\n",
    "print(\"\\n\")\n",
    "print(\"---------------------------------------------\")\n",
    "print(\"\\n\")\n",
    "\n",
    "print(f\"DOWNLOADING AND MODIFYING COADD FILES\")\n",
    "\n",
    "print(\"\\n\")\n",
    "print(\"---------------------------------------------\")\n",
    "print(\"\\n\")"
   ]
  },
  {
   "cell_type": "code",
   "execution_count": 15,
   "id": "214f12c0",
   "metadata": {
    "scrolled": false
   },
   "outputs": [
    {
     "name": "stdout",
     "output_type": "stream",
     "text": [
      "(1/1247) coadd-sv1-dark-10282.fits ON DISK!! \n",
      "\n",
      "(2/1247) coadd-sv1-dark-10347.fits ON DISK!! \n",
      "\n",
      "(3/1247) coadd-sv1-dark-10350.fits ON DISK!! \n",
      "\n",
      "(4/1247) coadd-sv1-dark-10351.fits ON DISK!! \n",
      "\n",
      "(5/1247) coadd-sv1-dark-10368.fits ON DISK!! \n",
      "\n",
      "(6/1247) coadd-sv1-dark-10369.fits ON DISK!! \n",
      "\n",
      "(7/1247) coadd-sv1-dark-10370.fits ON DISK!! \n",
      "\n",
      "(8/1247) coadd-sv1-dark-10371.fits ON DISK!! \n",
      "\n",
      "(9/1247) coadd-sv1-dark-10372.fits ON DISK!! \n",
      "\n",
      "(10/1247) coadd-sv1-dark-10374.fits ON DISK!! \n",
      "\n",
      "(11/1247) coadd-sv1-dark-10375.fits ON DISK!! \n",
      "\n",
      "(12/1247) coadd-sv1-dark-10376.fits ON DISK!! \n",
      "\n",
      "(13/1247) coadd-sv1-dark-10377.fits ON DISK!! \n",
      "\n",
      "(14/1247) coadd-sv1-dark-10378.fits ON DISK!! \n",
      "\n",
      "(15/1247) coadd-sv1-dark-10379.fits ON DISK!! \n",
      "\n",
      "(16/1247) coadd-sv1-dark-10380.fits ON DISK!! \n",
      "\n",
      "(17/1247) coadd-sv1-dark-10381.fits ON DISK!! \n",
      "\n",
      "(18/1247) coadd-sv1-dark-10382.fits ON DISK!! \n",
      "\n",
      "(19/1247) coadd-sv1-dark-10400.fits ON DISK!! \n",
      "\n",
      "(20/1247) coadd-sv1-dark-10402.fits ON DISK!! \n",
      "\n",
      "\n",
      "\n",
      "---------------------------------------------\n",
      "\n",
      "\n",
      "All Done!!!\n",
      "\n",
      "\n",
      "---------------------------------------------\n",
      "\n",
      "\n"
     ]
    }
   ],
   "source": [
    "for f in range(20):\n",
    "    f_tbm = os.path.join(local_dir,nf_coadd[f]) # f_tbm = Path to the file to be modified\n",
    "    \n",
    "    f_r = nf_coadd[f].replace('.fits', '.txt')# Changing .fits for .txt\n",
    "    f_r = f_r.replace('coadd', 'report_codd')# Changing coadd for report\n",
    "    f_r = os.path.join(local_dir,f_r) # f_r = File report in txt generated after the download, this in order to avoid downloading issues\n",
    "    \n",
    "    # To make the download it is necessary that the file fits or the download report is not present\n",
    "    \n",
    "    if not (os.path.exists(f_tbm) and os.path.exists(f_r)):\n",
    "        print(f\"({f+1}/{len(web_list)}) Downloading {nf_coadd[f]} ...\")\n",
    "        download = urllib.request.urlretrieve(web_list[f], f_tbm) # Downloading files\n",
    "        \n",
    "        if (len(str(nf_coadd[f])) == 25): # Extracting HPXPIXEL and SURVEY value on list\n",
    "            sv = nf_coadd[f][6:9]\n",
    "            hpix = nf_coadd[f][15:20]\n",
    "        elif(len(str(nf_coadd[f])) == 24):\n",
    "            hpix = nf_coadd[f][15:19]\n",
    "            sv = nf_coadd[f][6:9]\n",
    "            \n",
    "        hpx_query = (EDRcat_stk['HPXPIXEL'] == int(hpix)) & (EDRcat_stk['SURVEY'] == str(sv)) # hpx_query = HEALPIX and SV Query on stacked catalog\n",
    "        tmp_cat = EDRcat_stk[hpx_query] # Temporary catalog restricted to a specific value of HEALPIX\n",
    "        \n",
    "        jdf = Table.read(f_tbm) # jdf = (Just Downloaded file ) Open file just downloaded to match with stacked catalog\n",
    "\n",
    "        selected = [] # Targets selected to be extracted\n",
    "        for x in range(len(tmp_cat)):\n",
    "            selected.append(tmp_cat[\"TARGETID\"][x])\n",
    "\n",
    "        chosen_ini = np.array(selected)\n",
    "        chosen_bool = np.isin(jdf[\"TARGETID\"],chosen_ini)\n",
    "        chosen_ibool = np.invert(chosen_bool)\n",
    "\n",
    "        idx = np.where(chosen_ibool)\n",
    "        print(f\"Targets on cat: {len(chosen_ini)} , Total in coadded: {len(chosen_bool)} , Rejected: {len(idx[0])}\")\n",
    "        \n",
    "        # Modifying the file to get the selected spectra\n",
    "        \n",
    "        with fits.open(f_tbm , mode='update') as hdul:\n",
    "            \n",
    "            HDUnames = ['PRIMARY','FIBERMAP','EXP_FIBERMAP', \\\n",
    "                       \"B_WAVELENGTH\",\"B_FLUX\",\"B_IVAR\",\"B_MASK\",\"B_RESOLUTION\", \\\n",
    "                       \"R_WAVELENGTH\",\"R_FLUX\",\"R_IVAR\",\"R_MASK\",\"R_RESOLUTION\", \\\n",
    "                       \"Z_WAVELENGTH\",\"Z_FLUX\",\"Z_IVAR\",\"Z_MASK\",\"Z_RESOLUTION\", \\\n",
    "                       \"SCORES\"]\n",
    "            #First: BinaryTable (catalog)\n",
    "            T1 = Table.read(hdul[1])\n",
    "            T1.remove_rows(idx)\n",
    "            hdu_f = fits.BinTableHDU(T1, name = HDUnames[1]) #First hdu\n",
    "            hdul[1] = hdu_f\n",
    "\n",
    "            #Image HDU arrays (spectra) 12 (4-7,9-12,14-17)\n",
    "\n",
    "            for i in range(15):\n",
    "                c = i+3 #counter\n",
    "                if ((c != 3) and (c != 8) and (c != 13)):\n",
    "                            hdu_temp = hdul[c].data\n",
    "                            hdu_temp = np.delete(hdu_temp,np.invert(chosen_bool),0)\n",
    "                            hdu_ff = fits.ImageHDU(hdu_temp,name = HDUnames[c]) #hdu for file\n",
    "                            hdul[c] = hdu_ff\n",
    "\n",
    "            #Last: BinaryTable (scores)\n",
    "            T2 = Table.read(hdul[18])\n",
    "            T2.remove_rows(idx)\n",
    "            hdu_l = fits.BinTableHDU(T2, name = HDUnames[18]) #Last hdu\n",
    "            hdul[18] = hdu_l\n",
    "\n",
    "            hdul.flush()\n",
    "            hdul.close()\n",
    "        \n",
    "        # Making the report as .txt\n",
    "        with open(f_r, 'w') as report:\n",
    "            report.write(f\"File: {nf_coadd[f]} \\n\")\n",
    "            report.write(f\"Targets on cat: {len(chosen_ini)} , Total in coadded: {len(chosen_bool)} , Rejected: {len(idx[0])} \\n\")\n",
    "            report.write(\"\\n\")\n",
    "            report.write(\"---------------------------------------------\")\n",
    "            report.write(\"\\n\")\n",
    "\n",
    "            for z in range(len(selected)):\n",
    "                report.write(f\" {selected[z]} \\n\")\n",
    "\n",
    "            report.write(\"\\n\")\n",
    "            report.write(\"---------------------------------------------\")\n",
    "            report.write(\"\\n\")   \n",
    "            report.write(\"FILE on folder and modified!! \\n\")\n",
    "            report.close()\n",
    "        \n",
    "        \n",
    "        print (\"FILE on folder and modified!! \\n\")\n",
    "    else:\n",
    "        print(f\"({f+1}/{len(web_list)}) {nf_coadd[f]} ON DISK!! \\n\")\n",
    "            \n",
    "\n",
    "print(\"\\n\")\n",
    "print(\"---------------------------------------------\")\n",
    "print(\"\\n\")\n",
    "\n",
    "print(f\"All Done!!!\")\n",
    "\n",
    "print(\"\\n\")\n",
    "print(\"---------------------------------------------\")\n",
    "print(\"\\n\")\n",
    "        \n"
   ]
  },
  {
   "cell_type": "code",
   "execution_count": 15,
   "id": "6ac67606",
   "metadata": {},
   "outputs": [
    {
     "name": "stdout",
     "output_type": "stream",
     "text": [
      "---------------------------------------------\n",
      "\n",
      "\n",
      "Coadded files on folder: 7/1247\n",
      "To be downloaded: 1240/1247\n",
      "\n",
      "\n",
      "---------------------------------------------\n",
      "\n",
      "\n",
      "---------------------------------------------\n",
      "\n",
      "\n",
      "DOWNLOADING AND MODIFYING COADD FILES\n",
      "\n",
      "\n",
      "---------------------------------------------\n",
      "\n",
      "\n"
     ]
    }
   ],
   "source": [
    "# Checking if the files exist on the directory\n",
    "\n",
    "df_list = os.listdir(local_dir) # df_list = Downloaded files (Excluding catalogs)\n",
    "df_list.sort()\n",
    "df_list = np.array(df_list)\n",
    "\n",
    "fi_f = np.char.find(df_list, \"coadd\", start=0, end=None) ## fi_f = File (coadded) identification on folder\n",
    "\n",
    "y = 0 # part of the list\n",
    "n = 0 # not part of the list\n",
    "\n",
    "for i in range(len(df_list)):\n",
    "    if (fi_f[i]==(-1)):\n",
    "        n = n + 1\n",
    "    elif(fi_f[i]==(0)):\n",
    "        y = y + 1\n",
    "\n",
    "print(\"---------------------------------------------\")\n",
    "print(\"\\n\")\n",
    "\n",
    "print(f\"Coadded files on folder: {y}/{len(web_list)}\")\n",
    "print(f\"To be downloaded: {len(web_list)-(y)}/{len(web_list)}\")\n",
    "\n",
    "print(\"\\n\")\n",
    "print(\"---------------------------------------------\")\n",
    "print(\"\\n\")\n",
    "print(\"---------------------------------------------\")\n",
    "print(\"\\n\")\n",
    "\n",
    "print(f\"DOWNLOADING AND MODIFYING COADD FILES\")\n",
    "\n",
    "print(\"\\n\")\n",
    "print(\"---------------------------------------------\")\n",
    "print(\"\\n\")"
   ]
  },
  {
   "cell_type": "code",
   "execution_count": 19,
   "id": "78ec29e4",
   "metadata": {},
   "outputs": [],
   "source": [
    "\n",
    "\n",
    "for b in range(len(web_list)):\n",
    "    if (len(str(web_list[b])) == 105):\n",
    "        nf_coadd.append(str(web_list[b][81:105]))\n",
    "    if (len(str(web_list[b])) == 108):\n",
    "        nf_coadd.append(str(web_list[b][83:108]))"
   ]
  },
  {
   "cell_type": "code",
   "execution_count": 18,
   "id": "07c6dd0d",
   "metadata": {},
   "outputs": [
    {
     "data": {
      "text/plain": [
       "26763"
      ]
     },
     "execution_count": 18,
     "metadata": {},
     "output_type": "execute_result"
    }
   ],
   "source": [
    "HPX_sv1 = np.array(HPX_sv1)\n",
    "HPX_sv3 = np.array(HPX_sv3)\n",
    "\n",
    "FSV1 = HPX_sv1 #Folders SV1\n",
    "FSV3 = HPX_sv3 #Folders SV3\n",
    "len(FSV1)+len(FSV3)\n",
    "\n",
    "#os.mkdir(local_dir+'/'+str(int(FSV1[0])))\n",
    "#web_list[0]"
   ]
  },
  {
   "cell_type": "code",
   "execution_count": 20,
   "id": "b7f5ffb8",
   "metadata": {},
   "outputs": [
    {
     "data": {
      "text/plain": [
       "array([-1, -1,  0,  0,  0,  0,  0,  0,  0, -1, -1, -1, -1, -1, -1, -1, -1])"
      ]
     },
     "execution_count": 20,
     "metadata": {},
     "output_type": "execute_result"
    }
   ],
   "source": [
    "df_list = os.listdir(local_dir) # df_list = Downloaded files (Excluding catalogs)\n",
    "df_list.sort()\n",
    "df_list = np.array(df_list)\n",
    "\n",
    "fi_f = np.char.find(df_list, \"coadd\", start=0, end=None) ## fi_f = File (coadded) identification on folder\n",
    "\n",
    "fi_f"
   ]
  },
  {
   "cell_type": "code",
   "execution_count": null,
   "id": "2bb4ce88",
   "metadata": {},
   "outputs": [],
   "source": [
    "survy = []\n",
    "healpix_vl = []\n",
    "\n",
    "for x in range(len(nf_coadd)):\n",
    "        if (len(str(nf_coadd[x])) == 25): # Extracting HPXPIXEL and SURVEY value on list\n",
    "            survy.append(nf_coadd[x][6:9])\n",
    "            healpix_vl.append(nf_coadd[x][15:20])\n",
    "        elif(len(str(nf_coadd[x])) == 24):\n",
    "            survy.append(nf_coadd[x][6:9])\n",
    "            healpix_vl.append(nf_coadd[x][15:19])"
   ]
  },
  {
   "cell_type": "code",
   "execution_count": null,
   "id": "06e7b3b3",
   "metadata": {},
   "outputs": [],
   "source": [
    "test = (EDRcat_stk['HPXPIXEL'] == int(healpix_vl[0])) & (EDRcat_stk['SURVEY'] == str(survy[0]))\n",
    "tmp = EDRcat_stk[test]\n",
    "tmp.sort(['TARGETID'])\n",
    "\n",
    "\n",
    "prueba = fits.open(f'/home/colgoat/spc_DESIedr/coadd-{survy[0]}-dark-{healpix_vl[0]}.fits')\n",
    "\n",
    "t = Table.read(prueba[1])\n",
    "t.sort(['TARGETID'])\n",
    "\n",
    "for R in range(len(tmp)):\n",
    "    if ( (tmp['TARGETID'][R]==t['TARGETID'][R]) and (tmp['TARGET_RA'][R]==t['TARGET_RA'][R]) and (tmp['TARGET_DEC'][R]==t['TARGET_DEC'][R]) ):\n",
    "        print(f\"All good for: {t['TARGETID'][R]}\")\n",
    "    else:\n",
    "        print(f\"Something failed for: {t['TARGETID'][R]}\")\n",
    "print(len(tmp),len(t))\n",
    "\n",
    "\n"
   ]
  },
  {
   "cell_type": "code",
   "execution_count": null,
   "id": "c3f5f0da",
   "metadata": {
    "scrolled": false
   },
   "outputs": [],
   "source": [
    "test = (EDRcat_stk['HPXPIXEL'] == HealPix) & (EDRcat_stk['SURVEY'] == \"sv1\")\n",
    "\n",
    "tmp = EDRcat_stk[test]\n",
    "\n",
    "tmp.sort(['TARGETID'])\n",
    "\n",
    "tmp"
   ]
  },
  {
   "cell_type": "code",
   "execution_count": null,
   "id": "6c620716",
   "metadata": {},
   "outputs": [],
   "source": [
    "prueba = fits.open(f'/home/colgoat/spc_DESIedr/coadd-sv1-dark-{str(HealPix)}.fits')\n",
    "\n",
    "t = Table.read(prueba[1])\n",
    "t.sort(['TARGETID'])\n",
    "t"
   ]
  },
  {
   "cell_type": "code",
   "execution_count": null,
   "id": "711b738a",
   "metadata": {},
   "outputs": [],
   "source": [
    "for R in range(len(tmp)):\n",
    "    if ( (tmp['TARGETID'][R]==t['TARGETID'][R]) and (tmp['TARGET_RA'][R]==t['TARGET_RA'][R]) and (tmp['TARGET_DEC'][R]==t['TARGET_DEC'][R]) ):\n",
    "        print(f\"All good for: {t['TARGETID'][R]}\")"
   ]
  },
  {
   "cell_type": "code",
   "execution_count": null,
   "id": "ee715b9e",
   "metadata": {},
   "outputs": [],
   "source": []
  }
 ],
 "metadata": {
  "kernelspec": {
   "display_name": "Python 3 (ipykernel)",
   "language": "python",
   "name": "python3"
  },
  "language_info": {
   "codemirror_mode": {
    "name": "ipython",
    "version": 3
   },
   "file_extension": ".py",
   "mimetype": "text/x-python",
   "name": "python",
   "nbconvert_exporter": "python",
   "pygments_lexer": "ipython3",
   "version": "3.10.6"
  }
 },
 "nbformat": 4,
 "nbformat_minor": 5
}
