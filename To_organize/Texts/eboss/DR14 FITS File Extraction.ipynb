{
 "cells": [
  {
   "cell_type": "markdown",
   "id": "59b4fe9f",
   "metadata": {},
   "source": [
    "### Import Quasar catalog for DR14"
   ]
  },
  {
   "cell_type": "code",
   "execution_count": 1,
   "id": "f9647207",
   "metadata": {
    "ExecuteTime": {
     "end_time": "2023-08-31T02:18:03.808237Z",
     "start_time": "2023-08-31T02:17:59.126661Z"
    },
    "scrolled": true
   },
   "outputs": [
    {
     "name": "stdout",
     "output_type": "stream",
     "text": [
      "/home/hquintero/eboss/DR14Q_v4_4.fits already exist\n"
     ]
    },
    {
     "name": "stderr",
     "output_type": "stream",
     "text": [
      "WARNING: UnitsWarning: '-' did not parse as fits unit: Invalid character at col 0 If this is meant to be a custom unit, define it with 'u.def_unit'. To have it recognized inside a file reader or other code, enable it with 'u.add_enabled_units'. For details, see https://docs.astropy.org/en/latest/units/combining_and_defining.html [astropy.units.core]\n",
      "WARNING: UnitsWarning: 'nanomaggies' did not parse as fits unit: At col 0, Unit 'nanomaggies' not supported by the FITS standard.  If this is meant to be a custom unit, define it with 'u.def_unit'. To have it recognized inside a file reader or other code, enable it with 'u.add_enabled_units'. For details, see https://docs.astropy.org/en/latest/units/combining_and_defining.html [astropy.units.core]\n",
      "WARNING: UnitsWarning: 'counts/s' did not parse as fits unit: At col 0, Unit 'counts' not supported by the FITS standard. Did you mean count? If this is meant to be a custom unit, define it with 'u.def_unit'. To have it recognized inside a file reader or other code, enable it with 'u.add_enabled_units'. For details, see https://docs.astropy.org/en/latest/units/combining_and_defining.html [astropy.units.core]\n",
      "WARNING: UnitsWarning: 'erg/s/cm2' contains multiple slashes, which is discouraged by the FITS standard [astropy.units.format.generic]\n",
      "WARNING: UnitsWarning: 'Vega' did not parse as fits unit: At col 0, Unit 'Vega' not supported by the FITS standard.  If this is meant to be a custom unit, define it with 'u.def_unit'. To have it recognized inside a file reader or other code, enable it with 'u.add_enabled_units'. For details, see https://docs.astropy.org/en/latest/units/combining_and_defining.html [astropy.units.core]\n",
      "WARNING: UnitsWarning: 'W/m2/Hz' contains multiple slashes, which is discouraged by the FITS standard [astropy.units.format.generic]\n"
     ]
    },
    {
     "data": {
      "text/plain": [
       "168045"
      ]
     },
     "execution_count": 1,
     "metadata": {},
     "output_type": "execute_result"
    }
   ],
   "source": [
    "import os\n",
    "import sys\n",
    "import glob\n",
    "import numpy as np\n",
    "import  scipy.optimize    as op\n",
    "import matplotlib.pyplot as plt\n",
    "import urllib.request\n",
    "from astropy.io import fits as pyfits\n",
    "from astropy.table import Table\n",
    "\n",
    "DATA_URL=\"https://data.sdss.org/sas/dr14/eboss/qso/DR14Q/\"\n",
    "file=\"DR14Q_v4_4.fits\"\n",
    "local_dir=\"/home/hquintero/eboss/\"\n",
    "local_file = os.path.join(local_dir,file)\n",
    "\n",
    "if not os.path.exists(file):\n",
    "        print(\"downloading DR14 quasar dataset from %s to %s\"\n",
    "              % (DATA_URL+file, local_file ))\n",
    "        tmp = urllib.request.urlretrieve(DATA_URL+local_file, local_file)\n",
    "        print (\"Downloaded file\"+local_file)\n",
    "else:\n",
    "    print(\"%s already exist\"%(local_file))\n",
    "    \n",
    "    \n",
    "catalog=Table.read('DR14Q_v4_4.fits')\n",
    "\n",
    "w=(catalog['THING_ID']>0) & (catalog['Z']>=2.1) & (catalog['RA']!=catalog['DEC']) & (catalog['RA']>0) & (catalog['MJD']< 56870) & (catalog['BI_CIV']<=0)\n",
    "\n",
    "reduced_cat=catalog[w]\n",
    "len(reduced_cat)\n",
    "#catalog\n",
    "#plt.style.use('bmh')\n",
    "#plt.hist(reduced_cat['FIRST_SNR'])\n",
    "#stats.describe(reduced_cat['FIRST_SNR'])"
   ]
  },
  {
   "cell_type": "markdown",
   "id": "72498e4b",
   "metadata": {},
   "source": [
    "### Creating small catalog"
   ]
  },
  {
   "cell_type": "code",
   "execution_count": 2,
   "id": "5a19d1d8",
   "metadata": {},
   "outputs": [
    {
     "name": "stdout",
     "output_type": "stream",
     "text": [
      "-- 1\n",
      "Label: 2.497\n"
     ]
    }
   ],
   "source": [
    "small_cat=reduced_cat[0:168046]\n",
    "\n",
    "#small_cat\n",
    "\n",
    "for i in range(1):\n",
    "    print(\"--\", i + 1)\n",
    "    print(\"Label:\", small_cat['Z'][i])"
   ]
  },
  {
   "cell_type": "markdown",
   "id": "0cd5de29",
   "metadata": {
    "heading_collapsed": true
   },
   "source": [
    "### Plot data"
   ]
  },
  {
   "cell_type": "code",
   "execution_count": 3,
   "id": "d445a19b",
   "metadata": {
    "hidden": true,
    "scrolled": false
   },
   "outputs": [
    {
     "data": {
      "text/plain": [
       "(array([9.9086e+04, 4.4688e+04, 1.7475e+04, 5.4050e+03, 1.0150e+03,\n",
       "        3.2500e+02, 4.2000e+01, 2.0000e+00, 6.0000e+00, 1.0000e+00]),\n",
       " array([2.1       , 2.58680266, 3.07360532, 3.56040798, 4.04721064,\n",
       "        4.5340133 , 5.02081596, 5.50761862, 5.99442128, 6.48122394,\n",
       "        6.9680266 ]),\n",
       " <BarContainer object of 10 artists>)"
      ]
     },
     "execution_count": 3,
     "metadata": {},
     "output_type": "execute_result"
    },
    {
     "data": {
      "image/png": "[encoded data removed]",
      "text/plain": [
       "<Figure size 640x480 with 1 Axes>"
      ]
     },
     "metadata": {},
     "output_type": "display_data"
    }
   ],
   "source": [
    "plt.hist(small_cat['Z'])"
   ]
  },
  {
   "cell_type": "markdown",
   "id": "da105cb2",
   "metadata": {
    "heading_collapsed": true
   },
   "source": [
    "### Saving data as a new fits catalog file for quasars with query"
   ]
  },
  {
   "cell_type": "code",
   "execution_count": 4,
   "id": "aa05364c",
   "metadata": {
    "hidden": true
   },
   "outputs": [],
   "source": [
    "from astropy.io import fits\n",
    "\n",
    "archivo = fits.open('exDR14Qcat.fits')\n",
    "#archivo.info()\n",
    "#archivo[1] = hdu # assuming the first extension is a table\n",
    "\n",
    "#hdu[0] = archivo[0]\n",
    "hdu = fits.BinTableHDU(small_cat)\n",
    "archivo[1] = hdu\n",
    "\n",
    "\n",
    "archivo.close()\n",
    "\n",
    "passer = archivo\n",
    "\n",
    "with fits.open('exDR14Qcat.fits', mode='update') as passer:\n",
    "    # Change something in hdul.\n",
    "    \n",
    "    passer[1] = hdu\n",
    "    \n",
    "    passer.flush()  # changes are written back to original.fits\n",
    "\n",
    "# closing the file will also flush any changes and prevent further writing\n"
   ]
  },
  {
   "cell_type": "markdown",
   "id": "bf5cc285",
   "metadata": {},
   "source": [
    "### Checking the number of saved objects in small catalog"
   ]
  },
  {
   "cell_type": "code",
   "execution_count": 5,
   "id": "63c37ca2",
   "metadata": {
    "scrolled": true
   },
   "outputs": [
    {
     "data": {
      "text/html": [
       "<div><i>Table length=168045</i>\n",
       "<table id=\"table139754374840224\" class=\"table-striped table-bordered table-condensed\">\n",
       "<thead><tr><th>SDSS_NAME</th><th>RA</th><th>DEC</th><th>THING_ID</th><th>PLATE</th><th>MJD</th><th>FIBERID</th><th>SPECTRO</th><th>Z</th><th>Z_ERR</th><th>SOURCE_Z</th><th>Z_VI</th><th>Z_PIPE</th><th>Z_PIPE_ERR</th><th>ZWARNING</th><th>Z_PCA</th><th>Z_PCA_ER</th><th>Z_MGII</th><th>BOSS_TARGET1</th><th>ANCILLARY_TARGET1</th><th>ANCILLARY_TARGET2</th><th>EBOSS_TARGET0</th><th>EBOSS_TARGET1</th><th>EBOSS_TARGET2</th><th>N_SPEC_SDSS</th><th>N_SPEC_BOSS</th><th>N_SPEC</th><th>PLATE_DUPLICATE</th><th>MJD_DUPLICATE</th><th>FIBERID_DUPLICATE</th><th>SPECTRO_DUPLICATE</th><th>BI_CIV</th><th>ERR_BI_CIV</th><th>RUN_NUMBER</th><th>RERUN_NUMBER</th><th>COL_NUMBER</th><th>FIELD_NUMBER</th><th>OBJ_ID</th><th>PSFFLUX</th><th>IVAR_PSFFLUX</th><th>PSFMAG</th><th>ERR_PSFMAG</th><th>MI</th><th>GAL_EXT</th><th>RASS_COUNTS</th><th>RASS_COUNTS_SNR</th><th>SDSS2ROSAT_SEP</th><th>FLUX_0.2_2.0keV</th><th>FLUX_0.2_2.0keV_ERR</th><th>FLUX_2.0_12.0keV</th><th>FLUX_2.0_12.0keV_ERR</th><th>FLUX_0.2_12.0keV</th><th>FLUX_0.2_12.0keV_ERR</th><th>LUM_0.2_12.0keV</th><th>SDSS2XMM_SEP</th><th>GALEX_MATCHED</th><th>FUV</th><th>FUV_IVAR</th><th>NUV</th><th>NUV_IVAR</th><th>JMAG</th><th>ERR_JMAG</th><th>JSNR</th><th>JRDFLAG</th><th>HMAG</th><th>ERR_HMAG</th><th>HSNR</th><th>HRDFLAG</th><th>KMAG</th><th>ERR_KMAG</th><th>KSNR</th><th>KRDFLAG</th><th>SDSS2MASS_SEP</th><th>W1MAG</th><th>ERR_W1MAG</th><th>W1SNR</th><th>W1CHI2</th><th>W2MAG</th><th>ERR_W2MAG</th><th>W2SNR</th><th>W2CHI2</th><th>W3MAG</th><th>ERR_W3MAG</th><th>W3SNR</th><th>W3CHI2</th><th>W4MAG</th><th>ERR_W4MAG</th><th>W4SNR</th><th>W4CHI2</th><th>CC_FLAGS</th><th>PH_FLAGS</th><th>SDSS2WISE_SEP</th><th>UKIDSS_MATCHED</th><th>YFLUX</th><th>YFLUX_ERR</th><th>JFLUX</th><th>JFLUX_ERR</th><th>HFLUX</th><th>HFLUX_ERR</th><th>KFLUX</th><th>KFLUX_ERR</th><th>FIRST_MATCHED</th><th>FIRST_FLUX</th><th>FIRST_SNR</th><th>SDSS2FIRST_SEP</th></tr></thead>\n",
       "<thead><tr><th>-</th><th>deg</th><th>deg</th><th>-</th><th>-</th><th>-</th><th>-</th><th>-</th><th>-</th><th>-</th><th>-</th><th>-</th><th>-</th><th>-</th><th>-</th><th>-</th><th>-</th><th>-</th><th>-</th><th>-</th><th>-</th><th>-</th><th>-</th><th>-</th><th>-</th><th>-</th><th>-</th><th>-</th><th>-</th><th>-</th><th>-</th><th>km / s</th><th>km / s</th><th>-</th><th>-</th><th>-</th><th>-</th><th>-</th><th>nanomaggies</th><th>-</th><th>mag</th><th>mag</th><th>-</th><th>mag</th><th>counts/s</th><th>-</th><th>arcsec</th><th>erg / (cm2 s)</th><th>erg / (cm2 s)</th><th>erg / (cm2 s)</th><th>erg / (cm2 s)</th><th>erg / (cm2 s)</th><th>erg / (cm2 s)</th><th>erg / s</th><th>arcsec</th><th>-</th><th>-</th><th>-</th><th>-</th><th>-</th><th>Vega</th><th>Vega</th><th>-</th><th>-</th><th>Vega</th><th>Vega</th><th>-</th><th>-</th><th>Vega</th><th>Vega</th><th>-</th><th>-</th><th>arcsec</th><th>-</th><th>-</th><th>-</th><th>-</th><th>-</th><th>-</th><th>-</th><th>-</th><th>-</th><th>-</th><th>-</th><th>-</th><th>-</th><th>-</th><th>-</th><th>-</th><th>-</th><th>-</th><th>arcsec</th><th>-</th><th>W / (Hz m2)</th><th>W / (Hz m2)</th><th>W / (Hz m2)</th><th>W / (Hz m2)</th><th>W / (Hz m2)</th><th>W / (Hz m2)</th><th>W / (Hz m2)</th><th>W / (Hz m2)</th><th>-</th><th>mJy</th><th>-</th><th>arcsec</th></tr></thead>\n",
       "<thead><tr><th>bytes18</th><th>float64</th><th>float64</th><th>int32</th><th>int16</th><th>int32</th><th>int16</th><th>bytes4</th><th>float64</th><th>float64</th><th>bytes4</th><th>float64</th><th>float64</th><th>float64</th><th>int16</th><th>float64</th><th>float64</th><th>float64</th><th>int64</th><th>int64</th><th>int64</th><th>int64</th><th>int64</th><th>int64</th><th>int16</th><th>int16</th><th>int16</th><th>int32[51]</th><th>int32[51]</th><th>int32[51]</th><th>bytes1[51]</th><th>float64</th><th>float64</th><th>int16</th><th>bytes1</th><th>int16</th><th>int16</th><th>bytes1</th><th>float64[5]</th><th>float64[5]</th><th>float64[5]</th><th>float64[5]</th><th>float64</th><th>float64[5]</th><th>float64</th><th>float64</th><th>float64</th><th>float64</th><th>float64</th><th>float64</th><th>float64</th><th>float64</th><th>float64</th><th>float64</th><th>float64</th><th>float32</th><th>float64</th><th>float64</th><th>float64</th><th>float64</th><th>float64</th><th>float64</th><th>float32</th><th>int16</th><th>float64</th><th>float64</th><th>float32</th><th>int16</th><th>float64</th><th>float64</th><th>float32</th><th>int16</th><th>float64</th><th>float64</th><th>float64</th><th>float64</th><th>float64</th><th>float64</th><th>float64</th><th>float64</th><th>float64</th><th>float64</th><th>float64</th><th>float64</th><th>float64</th><th>float64</th><th>float64</th><th>float64</th><th>float64</th><th>bytes4</th><th>bytes4</th><th>float64</th><th>float32</th><th>float64</th><th>float64</th><th>float64</th><th>float64</th><th>float64</th><th>float64</th><th>float64</th><th>float64</th><th>int16</th><th>float64</th><th>float64</th><th>float64</th></tr></thead>\n",
       "<tr><td>000000.66+145828.8</td><td>0.002756432550313548</td><td>14.974675485824303</td><td>244864389</td><td>6177</td><td>56268</td><td>595</td><td>BOSS</td><td>2.497</td><td>0.0</td><td>VI</td><td>2.496999979019165</td><td>2.49796199798584</td><td>0.0008690897957421839</td><td>0</td><td>2.5099661</td><td>-1.0</td><td>-1.0</td><td>2199023255552</td><td>0</td><td>0</td><td>0</td><td>0</td><td>0</td><td>0</td><td>1</td><td>1</td><td>0 .. -1</td><td>0 .. -1</td><td>0 .. -1</td><td>- .. -</td><td>0.0</td><td>0.0</td><td>0</td><td>-</td><td>0</td><td>0</td><td>-</td><td>1.660184383392334 .. 5.348500728607178</td><td>15.485949516296387 .. 0.861799418926239</td><td>21.94196891784668 .. 20.659208297729492</td><td>0.16387343406677246 .. 0.21075020730495453</td><td>-25.664871</td><td>0.16341499984264374 .. 0.048689112067222595</td><td>0.0</td><td>0.0</td><td>-1.0</td><td>--</td><td>--</td><td>--</td><td>--</td><td>--</td><td>--</td><td>--</td><td>--</td><td>1.0</td><td>0.04631861299276352</td><td>701.1042837308206</td><td>0.05252976343035698</td><td>384.75096219826605</td><td>--</td><td>--</td><td>--</td><td>-1</td><td>--</td><td>--</td><td>--</td><td>-1</td><td>--</td><td>--</td><td>--</td><td>-1</td><td>--</td><td>17.5</td><td>0.185</td><td>5.900000095367432</td><td>0.9299</td><td>16.206</td><td>0.211</td><td>5.199999809265137</td><td>0.8249</td><td>12.321</td><td>--</td><td>0.30000001192092896</td><td>1.149</td><td>8.51</td><td>0.185</td><td>0.699999988079071</td><td>1.036</td><td>0000</td><td>BBUU</td><td>0.495515</td><td>1.0</td><td>1.8603829687921641e-31</td><td>3.147684406018196e-32</td><td>2.310947837572515e-31</td><td>4.565332356351401e-32</td><td>2.355314285756731e-31</td><td>5.970480393631547e-32</td><td>2.427149215733221e-31</td><td>6.521724355219432e-32</td><td>0</td><td>-1.0</td><td>-1.0</td><td>-1.0</td></tr>\n",
       "<tr><td>...</td><td>...</td><td>...</td><td>...</td><td>...</td><td>...</td><td>...</td><td>...</td><td>...</td><td>...</td><td>...</td><td>...</td><td>...</td><td>...</td><td>...</td><td>...</td><td>...</td><td>...</td><td>...</td><td>...</td><td>...</td><td>...</td><td>...</td><td>...</td><td>...</td><td>...</td><td>...</td><td>...</td><td>...</td><td>...</td><td>...</td><td>...</td><td>...</td><td>...</td><td>...</td><td>...</td><td>...</td><td>...</td><td>...</td><td>...</td><td>...</td><td>...</td><td>...</td><td>...</td><td>...</td><td>...</td><td>...</td><td>...</td><td>...</td><td>...</td><td>...</td><td>...</td><td>...</td><td>...</td><td>...</td><td>...</td><td>...</td><td>...</td><td>...</td><td>...</td><td>...</td><td>...</td><td>...</td><td>...</td><td>...</td><td>...</td><td>...</td><td>...</td><td>...</td><td>...</td><td>...</td><td>...</td><td>...</td><td>...</td><td>...</td><td>...</td><td>...</td><td>...</td><td>...</td><td>...</td><td>...</td><td>...</td><td>...</td><td>...</td><td>...</td><td>...</td><td>...</td><td>...</td><td>...</td><td>...</td><td>...</td><td>...</td><td>...</td><td>...</td><td>...</td><td>...</td><td>...</td><td>...</td><td>...</td><td>...</td><td>...</td><td>...</td><td>...</td><td>...</td><td>...</td></tr>\n",
       "<tr><td>235959.83+344315.0</td><td>359.9993034693268</td><td>34.720842482815726</td><td>401165277</td><td>7145</td><td>56567</td><td>240</td><td>BOSS</td><td>3.109</td><td>0.0</td><td>VI</td><td>3.108999967575073</td><td>3.1135237216949463</td><td>0.00039327019476331765</td><td>0</td><td>3.1030495</td><td>-1.0</td><td>-1.0</td><td>3298535424000</td><td>0</td><td>0</td><td>0</td><td>0</td><td>0</td><td>0</td><td>0</td><td>0</td><td>-1 .. -1</td><td>-1 .. -1</td><td>-1 .. -1</td><td>- .. -</td><td>0.0</td><td>0.0</td><td>0</td><td>-</td><td>0</td><td>0</td><td>-</td><td>0.26430341601371765 .. 15.253443717956543</td><td>27.282411575317383 .. 1.2617765665054321</td><td>23.72138786315918 .. 19.539033889770508</td><td>0.5398540496826172 .. 0.063071109354496</td><td>-27.310951</td><td>0.3354918956756592 .. 0.09995901584625244</td><td>0.0</td><td>0.0</td><td>-1.0</td><td>--</td><td>--</td><td>--</td><td>--</td><td>--</td><td>--</td><td>--</td><td>--</td><td>1.0</td><td>-0.17406196892261505</td><td>21.936797353156877</td><td>0.14728955924510956</td><td>7.039888551569028</td><td>--</td><td>--</td><td>--</td><td>-1</td><td>--</td><td>--</td><td>--</td><td>-1</td><td>--</td><td>--</td><td>--</td><td>-1</td><td>--</td><td>--</td><td>--</td><td>--</td><td>--</td><td>--</td><td>--</td><td>--</td><td>--</td><td>--</td><td>--</td><td>--</td><td>--</td><td>--</td><td>--</td><td>--</td><td>--</td><td></td><td></td><td>--</td><td>0.0</td><td>0.0</td><td>0.0</td><td>0.0</td><td>0.0</td><td>0.0</td><td>0.0</td><td>0.0</td><td>0.0</td><td>-1</td><td>-1.0</td><td>-1.0</td><td>-1.0</td></tr>\n",
       "</table></div>"
      ],
      "text/plain": [
       "<Table length=168045>\n",
       "    SDSS_NAME               RA                 DEC         ... FIRST_SNR SDSS2FIRST_SEP\n",
       "        -                  deg                 deg         ...     -         arcsec    \n",
       "     bytes18             float64             float64       ...  float64     float64    \n",
       "------------------ -------------------- ------------------ ... --------- --------------\n",
       "000000.66+145828.8 0.002756432550313548 14.974675485824303 ...      -1.0           -1.0\n",
       "               ...                  ...                ... ...       ...            ...\n",
       "235959.83+344315.0    359.9993034693268 34.720842482815726 ...      -1.0           -1.0"
      ]
     },
     "execution_count": 5,
     "metadata": {},
     "output_type": "execute_result"
    }
   ],
   "source": [
    "pruf=Table.read('exDR14Qcat.fits')\n",
    "pruf"
   ]
  },
  {
   "cell_type": "markdown",
   "id": "0ffae7cd",
   "metadata": {},
   "source": [
    "### Comparing the FITS properties between saved and prior catalog"
   ]
  },
  {
   "cell_type": "code",
   "execution_count": 6,
   "id": "3aede9b9",
   "metadata": {},
   "outputs": [
    {
     "name": "stdout",
     "output_type": "stream",
     "text": [
      "Filename: exDR14Qcat.fits\n",
      "No.    Name      Ver    Type      Cards   Dimensions   Format\n",
      "  0  PRIMARY       1 PrimaryHDU      16   (7055,)   uint8   \n",
      "  1  DR14Q_v4_4    1 BinTableHDU    357   168045R x 105C   [18A, D, D, J, I, J, I, 4A, D, D, 4A, D, D, D, I, D, D, D, K, K, K, K, K, K, I, I, I, 51J, 51J, 51J, 51A, D, D, I, 1A, I, I, 1A, 5D, 5D, 5D, 5D, D, 5D, D, D, D, D, D, D, D, D, D, D, D, E, D, D, D, D, D, D, E, I, D, D, E, I, D, D, E, I, D, D, D, D, D, D, D, D, D, D, D, D, D, D, D, D, D, 4A, 4A, D, E, D, D, D, D, D, D, D, D, I, D, D, D]   \n"
     ]
    }
   ],
   "source": [
    "nuevo = fits.open('exDR14Qcat.fits')\n",
    "nuevo.info()"
   ]
  },
  {
   "cell_type": "code",
   "execution_count": 7,
   "id": "b6589781",
   "metadata": {
    "scrolled": false
   },
   "outputs": [
    {
     "name": "stdout",
     "output_type": "stream",
     "text": [
      "Filename: DR14Q_v4_4.fits\n",
      "No.    Name      Ver    Type      Cards   Dimensions   Format\n",
      "  0  PRIMARY       1 PrimaryHDU      16   (7055,)   uint8   \n",
      "  1  DR14Q_v4_4    1 BinTableHDU    328   526356R x 105C   [18A, D, D, J, I, J, I, 4A, D, D, 4A, D, D, D, I, D, D, D, K, K, K, K, K, K, I, I, I, 51J, 51J, 51J, 51A, D, D, I, A, I, I, A, 5D, 5D, 5D, 5D, D, 5D, D, D, D, D, D, D, D, D, D, D, D, E, D, D, D, D, D, D, E, I, D, D, E, I, D, D, E, I, D, D, D, D, D, D, D, D, D, D, D, D, D, D, D, D, D, 4A, 4A, D, E, D, D, D, D, D, D, D, D, I, D, D, D]   \n"
     ]
    }
   ],
   "source": [
    "nuevo = fits.open('DR14Q_v4_4.fits')\n",
    "nuevo.info()"
   ]
  },
  {
   "cell_type": "markdown",
   "id": "add5dea9",
   "metadata": {},
   "source": [
    "### Proof"
   ]
  },
  {
   "cell_type": "code",
   "execution_count": 1,
   "id": "6836acda",
   "metadata": {
    "ExecuteTime": {
     "end_time": "2023-05-28T04:25:51.059450Z",
     "start_time": "2023-05-28T04:25:38.816102Z"
    }
   },
   "outputs": [
    {
     "name": "stdout",
     "output_type": "stream",
     "text": [
      "/home/colgoat/Jupyter/DR14Q_v4_4.fits already exist\n"
     ]
    },
    {
     "name": "stderr",
     "output_type": "stream",
     "text": [
      "WARNING: UnitsWarning: '-' did not parse as fits unit: Invalid character at col 0 If this is meant to be a custom unit, define it with 'u.def_unit'. To have it recognized inside a file reader or other code, enable it with 'u.add_enabled_units'. For details, see https://docs.astropy.org/en/latest/units/combining_and_defining.html [astropy.units.core]\n",
      "WARNING: UnitsWarning: 'nanomaggies' did not parse as fits unit: At col 0, Unit 'nanomaggies' not supported by the FITS standard.  If this is meant to be a custom unit, define it with 'u.def_unit'. To have it recognized inside a file reader or other code, enable it with 'u.add_enabled_units'. For details, see https://docs.astropy.org/en/latest/units/combining_and_defining.html [astropy.units.core]\n",
      "WARNING: UnitsWarning: 'counts/s' did not parse as fits unit: At col 0, Unit 'counts' not supported by the FITS standard. Did you mean count? If this is meant to be a custom unit, define it with 'u.def_unit'. To have it recognized inside a file reader or other code, enable it with 'u.add_enabled_units'. For details, see https://docs.astropy.org/en/latest/units/combining_and_defining.html [astropy.units.core]\n",
      "WARNING: UnitsWarning: 'erg/s/cm2' contains multiple slashes, which is discouraged by the FITS standard [astropy.units.format.generic]\n",
      "WARNING: UnitsWarning: 'Vega' did not parse as fits unit: At col 0, Unit 'Vega' not supported by the FITS standard.  If this is meant to be a custom unit, define it with 'u.def_unit'. To have it recognized inside a file reader or other code, enable it with 'u.add_enabled_units'. For details, see https://docs.astropy.org/en/latest/units/combining_and_defining.html [astropy.units.core]\n",
      "WARNING: UnitsWarning: 'W/m2/Hz' contains multiple slashes, which is discouraged by the FITS standard [astropy.units.format.generic]\n"
     ]
    },
    {
     "data": {
      "text/html": [
       "<div><i>Table length=168045</i>\n",
       "<table id=\"table140602271978384\" class=\"table-striped table-bordered table-condensed\">\n",
       "<thead><tr><th>SDSS_NAME</th><th>RA</th><th>DEC</th><th>THING_ID</th><th>PLATE</th><th>MJD</th><th>FIBERID</th><th>SPECTRO</th><th>Z</th><th>Z_ERR</th><th>SOURCE_Z</th><th>Z_VI</th><th>Z_PIPE</th><th>Z_PIPE_ERR</th><th>ZWARNING</th><th>Z_PCA</th><th>Z_PCA_ER</th><th>Z_MGII</th><th>BOSS_TARGET1</th><th>ANCILLARY_TARGET1</th><th>ANCILLARY_TARGET2</th><th>EBOSS_TARGET0</th><th>EBOSS_TARGET1</th><th>EBOSS_TARGET2</th><th>N_SPEC_SDSS</th><th>N_SPEC_BOSS</th><th>N_SPEC</th><th>PLATE_DUPLICATE</th><th>MJD_DUPLICATE</th><th>FIBERID_DUPLICATE</th><th>SPECTRO_DUPLICATE</th><th>BI_CIV</th><th>ERR_BI_CIV</th><th>RUN_NUMBER</th><th>RERUN_NUMBER</th><th>COL_NUMBER</th><th>FIELD_NUMBER</th><th>OBJ_ID</th><th>PSFFLUX</th><th>IVAR_PSFFLUX</th><th>PSFMAG</th><th>ERR_PSFMAG</th><th>MI</th><th>GAL_EXT</th><th>RASS_COUNTS</th><th>RASS_COUNTS_SNR</th><th>SDSS2ROSAT_SEP</th><th>FLUX_0.2_2.0keV</th><th>FLUX_0.2_2.0keV_ERR</th><th>FLUX_2.0_12.0keV</th><th>FLUX_2.0_12.0keV_ERR</th><th>FLUX_0.2_12.0keV</th><th>FLUX_0.2_12.0keV_ERR</th><th>LUM_0.2_12.0keV</th><th>SDSS2XMM_SEP</th><th>GALEX_MATCHED</th><th>FUV</th><th>FUV_IVAR</th><th>NUV</th><th>NUV_IVAR</th><th>JMAG</th><th>ERR_JMAG</th><th>JSNR</th><th>JRDFLAG</th><th>HMAG</th><th>ERR_HMAG</th><th>HSNR</th><th>HRDFLAG</th><th>KMAG</th><th>ERR_KMAG</th><th>KSNR</th><th>KRDFLAG</th><th>SDSS2MASS_SEP</th><th>W1MAG</th><th>ERR_W1MAG</th><th>W1SNR</th><th>W1CHI2</th><th>W2MAG</th><th>ERR_W2MAG</th><th>W2SNR</th><th>W2CHI2</th><th>W3MAG</th><th>ERR_W3MAG</th><th>W3SNR</th><th>W3CHI2</th><th>W4MAG</th><th>ERR_W4MAG</th><th>W4SNR</th><th>W4CHI2</th><th>CC_FLAGS</th><th>PH_FLAGS</th><th>SDSS2WISE_SEP</th><th>UKIDSS_MATCHED</th><th>YFLUX</th><th>YFLUX_ERR</th><th>JFLUX</th><th>JFLUX_ERR</th><th>HFLUX</th><th>HFLUX_ERR</th><th>KFLUX</th><th>KFLUX_ERR</th><th>FIRST_MATCHED</th><th>FIRST_FLUX</th><th>FIRST_SNR</th><th>SDSS2FIRST_SEP</th></tr></thead>\n",
       "<thead><tr><th>-</th><th>deg</th><th>deg</th><th>-</th><th>-</th><th>-</th><th>-</th><th>-</th><th>-</th><th>-</th><th>-</th><th>-</th><th>-</th><th>-</th><th>-</th><th>-</th><th>-</th><th>-</th><th>-</th><th>-</th><th>-</th><th>-</th><th>-</th><th>-</th><th>-</th><th>-</th><th>-</th><th>-</th><th>-</th><th>-</th><th>-</th><th>km / s</th><th>km / s</th><th>-</th><th>-</th><th>-</th><th>-</th><th>-</th><th>nanomaggies</th><th>-</th><th>mag</th><th>mag</th><th>-</th><th>mag</th><th>counts/s</th><th>-</th><th>arcsec</th><th>erg / (cm2 s)</th><th>erg / (cm2 s)</th><th>erg / (cm2 s)</th><th>erg / (cm2 s)</th><th>erg / (cm2 s)</th><th>erg / (cm2 s)</th><th>erg / s</th><th>arcsec</th><th>-</th><th>-</th><th>-</th><th>-</th><th>-</th><th>Vega</th><th>Vega</th><th>-</th><th>-</th><th>Vega</th><th>Vega</th><th>-</th><th>-</th><th>Vega</th><th>Vega</th><th>-</th><th>-</th><th>arcsec</th><th>-</th><th>-</th><th>-</th><th>-</th><th>-</th><th>-</th><th>-</th><th>-</th><th>-</th><th>-</th><th>-</th><th>-</th><th>-</th><th>-</th><th>-</th><th>-</th><th>-</th><th>-</th><th>arcsec</th><th>-</th><th>W / (Hz m2)</th><th>W / (Hz m2)</th><th>W / (Hz m2)</th><th>W / (Hz m2)</th><th>W / (Hz m2)</th><th>W / (Hz m2)</th><th>W / (Hz m2)</th><th>W / (Hz m2)</th><th>-</th><th>mJy</th><th>-</th><th>arcsec</th></tr></thead>\n",
       "<thead><tr><th>bytes18</th><th>float64</th><th>float64</th><th>int32</th><th>int16</th><th>int32</th><th>int16</th><th>bytes4</th><th>float64</th><th>float64</th><th>bytes4</th><th>float64</th><th>float64</th><th>float64</th><th>int16</th><th>float64</th><th>float64</th><th>float64</th><th>int64</th><th>int64</th><th>int64</th><th>int64</th><th>int64</th><th>int64</th><th>int16</th><th>int16</th><th>int16</th><th>int32[51]</th><th>int32[51]</th><th>int32[51]</th><th>bytes1[51]</th><th>float64</th><th>float64</th><th>int16</th><th>bytes1</th><th>int16</th><th>int16</th><th>bytes1</th><th>float64[5]</th><th>float64[5]</th><th>float64[5]</th><th>float64[5]</th><th>float64</th><th>float64[5]</th><th>float64</th><th>float64</th><th>float64</th><th>float64</th><th>float64</th><th>float64</th><th>float64</th><th>float64</th><th>float64</th><th>float64</th><th>float64</th><th>float32</th><th>float64</th><th>float64</th><th>float64</th><th>float64</th><th>float64</th><th>float64</th><th>float32</th><th>int16</th><th>float64</th><th>float64</th><th>float32</th><th>int16</th><th>float64</th><th>float64</th><th>float32</th><th>int16</th><th>float64</th><th>float64</th><th>float64</th><th>float64</th><th>float64</th><th>float64</th><th>float64</th><th>float64</th><th>float64</th><th>float64</th><th>float64</th><th>float64</th><th>float64</th><th>float64</th><th>float64</th><th>float64</th><th>float64</th><th>bytes4</th><th>bytes4</th><th>float64</th><th>float32</th><th>float64</th><th>float64</th><th>float64</th><th>float64</th><th>float64</th><th>float64</th><th>float64</th><th>float64</th><th>int16</th><th>float64</th><th>float64</th><th>float64</th></tr></thead>\n",
       "<tr><td>000000.66+145828.8</td><td>0.002756432550313548</td><td>14.974675485824303</td><td>244864389</td><td>6177</td><td>56268</td><td>595</td><td>BOSS</td><td>2.497</td><td>0.0</td><td>VI</td><td>2.496999979019165</td><td>2.49796199798584</td><td>0.0008690897957421839</td><td>0</td><td>2.5099661</td><td>-1.0</td><td>-1.0</td><td>2199023255552</td><td>0</td><td>0</td><td>0</td><td>0</td><td>0</td><td>0</td><td>1</td><td>1</td><td>0 .. -1</td><td>0 .. -1</td><td>0 .. -1</td><td>- .. -</td><td>0.0</td><td>0.0</td><td>0</td><td>-</td><td>0</td><td>0</td><td>-</td><td>1.660184383392334 .. 5.348500728607178</td><td>15.485949516296387 .. 0.861799418926239</td><td>21.94196891784668 .. 20.659208297729492</td><td>0.16387343406677246 .. 0.21075020730495453</td><td>-25.664871</td><td>0.16341499984264374 .. 0.048689112067222595</td><td>0.0</td><td>0.0</td><td>-1.0</td><td>--</td><td>--</td><td>--</td><td>--</td><td>--</td><td>--</td><td>--</td><td>--</td><td>1.0</td><td>0.04631861299276352</td><td>701.1042837308206</td><td>0.05252976343035698</td><td>384.75096219826605</td><td>--</td><td>--</td><td>--</td><td>-1</td><td>--</td><td>--</td><td>--</td><td>-1</td><td>--</td><td>--</td><td>--</td><td>-1</td><td>--</td><td>17.5</td><td>0.185</td><td>5.900000095367432</td><td>0.9299</td><td>16.206</td><td>0.211</td><td>5.199999809265137</td><td>0.8249</td><td>12.321</td><td>--</td><td>0.30000001192092896</td><td>1.149</td><td>8.51</td><td>0.185</td><td>0.699999988079071</td><td>1.036</td><td>0000</td><td>BBUU</td><td>0.495515</td><td>1.0</td><td>1.8603829687921641e-31</td><td>3.147684406018196e-32</td><td>2.310947837572515e-31</td><td>4.565332356351401e-32</td><td>2.355314285756731e-31</td><td>5.970480393631547e-32</td><td>2.427149215733221e-31</td><td>6.521724355219432e-32</td><td>0</td><td>-1.0</td><td>-1.0</td><td>-1.0</td></tr>\n",
       "<tr><td>000001.37-011930.0</td><td>0.005746209112004408</td><td>-1.3250088011125059</td><td>66666942</td><td>4354</td><td>55810</td><td>646</td><td>BOSS</td><td>2.3280000000000003</td><td>0.0</td><td>VI</td><td>2.328000068664551</td><td>2.333164691925049</td><td>0.0001957574422704056</td><td>0</td><td>2.3350306</td><td>2.3483452999999996</td><td>2.3483452999999996</td><td>16492675088384</td><td>0</td><td>0</td><td>0</td><td>0</td><td>0</td><td>0</td><td>0</td><td>0</td><td>-1 .. -1</td><td>-1 .. -1</td><td>-1 .. -1</td><td>- .. -</td><td>0.0</td><td>0.0</td><td>0</td><td>-</td><td>0</td><td>0</td><td>-</td><td>5.298428535461426 .. 10.920283317565918</td><td>7.55182409286499 .. 0.9089431166648865</td><td>20.688875198364258 .. 19.899463653564453</td><td>0.07446388900279999 .. 0.10334030538797379</td><td>-26.184576</td><td>0.186440572142601 .. 0.05554952844977379</td><td>0.0</td><td>0.0</td><td>-1.0</td><td>--</td><td>--</td><td>--</td><td>--</td><td>--</td><td>--</td><td>--</td><td>--</td><td>1.0</td><td>0.09291329234838486</td><td>44.988086770623894</td><td>0.22756947576999664</td><td>2.5174224638761955</td><td>--</td><td>--</td><td>--</td><td>-1</td><td>--</td><td>--</td><td>--</td><td>-1</td><td>--</td><td>--</td><td>--</td><td>-1</td><td>--</td><td>16.72</td><td>0.103</td><td>10.600000381469727</td><td>1.038</td><td>15.929</td><td>0.16699999999999998</td><td>6.5</td><td>0.9004</td><td>11.903</td><td>0.285</td><td>3.799999952316284</td><td>0.9703</td><td>8.981</td><td>0.103</td><td>-0.800000011920929</td><td>0.8492</td><td>0000</td><td>ABBU</td><td>0.450972</td><td>0.0</td><td>0.0</td><td>0.0</td><td>0.0</td><td>0.0</td><td>0.0</td><td>0.0</td><td>0.0</td><td>0.0</td><td>0</td><td>-1.0</td><td>-1.0</td><td>-1.0</td></tr>\n",
       "<tr><td>000001.63+303109.6</td><td>0.006818797719915892</td><td>30.519356120921465</td><td>373839246</td><td>6498</td><td>56565</td><td>177</td><td>BOSS</td><td>2.377</td><td>0.0</td><td>VI</td><td>2.377000093460083</td><td>2.3736331462860107</td><td>0.0004984131664969027</td><td>0</td><td>2.385122</td><td>2.380129</td><td>2.380129</td><td>3298535407616</td><td>0</td><td>0</td><td>0</td><td>0</td><td>0</td><td>0</td><td>1</td><td>1</td><td>0 .. -1</td><td>0 .. -1</td><td>0 .. -1</td><td>- .. -</td><td>0.0</td><td>0.0</td><td>0</td><td>-</td><td>0</td><td>0</td><td>-</td><td>0.8643057346343994 .. 3.282501220703125</td><td>32.162330627441406 .. 1.7680301666259766</td><td>22.630905151367188 .. 21.15809440612793</td><td>0.21072298288345337 .. 0.22677209973335266</td><td>-24.588036</td><td>0.20482011139392853 .. 0.061025671660900116</td><td>0.0</td><td>0.0</td><td>-1.0</td><td>--</td><td>--</td><td>--</td><td>--</td><td>--</td><td>--</td><td>--</td><td>--</td><td>1.0</td><td>0.047141242772340775</td><td>29.392266606517573</td><td>0.3764856457710266</td><td>8.347144602579759</td><td>--</td><td>--</td><td>--</td><td>-1</td><td>--</td><td>--</td><td>--</td><td>-1</td><td>--</td><td>--</td><td>--</td><td>-1</td><td>--</td><td>--</td><td>--</td><td>--</td><td>--</td><td>--</td><td>--</td><td>--</td><td>--</td><td>--</td><td>--</td><td>--</td><td>--</td><td>--</td><td>--</td><td>--</td><td>--</td><td></td><td></td><td>--</td><td>0.0</td><td>0.0</td><td>0.0</td><td>0.0</td><td>0.0</td><td>0.0</td><td>0.0</td><td>0.0</td><td>0.0</td><td>-1</td><td>-1.0</td><td>-1.0</td><td>-1.0</td></tr>\n",
       "<tr><td>000001.81+141150.5</td><td>0.007578550192420154</td><td>14.197385436316592</td><td>237177970</td><td>6177</td><td>56268</td><td>608</td><td>BOSS</td><td>3.7110000000000003</td><td>0.0</td><td>VI</td><td>3.7109999656677246</td><td>3.7117843627929688</td><td>0.0006505508790723983</td><td>0</td><td>3.7220237000000003</td><td>-1.0</td><td>-1.0</td><td>2199023255552</td><td>0</td><td>0</td><td>0</td><td>0</td><td>0</td><td>0</td><td>0</td><td>0</td><td>-1 .. -1</td><td>-1 .. -1</td><td>-1 .. -1</td><td>- .. -</td><td>0.0</td><td>0.0</td><td>0</td><td>-</td><td>0</td><td>0</td><td>-</td><td>-0.2515270709991455 .. 4.488283157348633</td><td>16.394065856933594 .. 1.0866059064865112</td><td>25.511531829833984 .. 20.841421127319336</td><td>0.7124401330947876 .. 0.22039131820201874</td><td>-26.63237</td><td>0.24081189930438995 .. 0.07174933701753616</td><td>0.0</td><td>0.0</td><td>-1.0</td><td>--</td><td>--</td><td>--</td><td>--</td><td>--</td><td>--</td><td>--</td><td>--</td><td>1.0</td><td>-0.10591911524534224</td><td>294.57753699891174</td><td>-0.06454353034496307</td><td>246.27792357057652</td><td>--</td><td>--</td><td>--</td><td>-1</td><td>--</td><td>--</td><td>--</td><td>-1</td><td>--</td><td>--</td><td>--</td><td>-1</td><td>--</td><td>17.221</td><td>0.14800000000000002</td><td>7.300000190734863</td><td>0.9375</td><td>17.116</td><td>0.4920000000000001</td><td>2.200000047683716</td><td>0.8113</td><td>12.361</td><td>--</td><td>0.10000000149011612</td><td>0.8645</td><td>8.701</td><td>0.14800000000000002</td><td>-0.20000000298023224</td><td>0.8814</td><td>0000</td><td>BCUU</td><td>0.724597</td><td>1.0</td><td>2.2453359746892787e-31</td><td>5.508096164252549e-32</td><td>2.2171520870350925e-31</td><td>3.7478921154216437e-32</td><td>1.7926857789305685e-31</td><td>6.573567770320923e-32</td><td>2.6942429262372303e-31</td><td>6.276590877529181e-32</td><td>0</td><td>-1.0</td><td>-1.0</td><td>-1.0</td></tr>\n",
       "<tr><td>000002.20+114148.5</td><td>0.009191302171927871</td><td>11.696819998933652</td><td>216253507</td><td>6182</td><td>56190</td><td>652</td><td>BOSS</td><td>2.559</td><td>0.0</td><td>VI</td><td>2.559000015258789</td><td>2.545538663864136</td><td>0.0006021891604177654</td><td>0</td><td>2.5550947</td><td>-1.0</td><td>-1.0</td><td>0</td><td>0</td><td>1024</td><td>0</td><td>0</td><td>0</td><td>0</td><td>0</td><td>0</td><td>-1 .. -1</td><td>-1 .. -1</td><td>-1 .. -1</td><td>- .. -</td><td>0.0</td><td>0.0</td><td>0</td><td>-</td><td>0</td><td>0</td><td>-</td><td>2.6512045860290527 .. 10.317191123962402</td><td>7.4088239669799805 .. 0.9827603697776794</td><td>21.438377380371094 .. 19.960554122924805</td><td>0.14962279796600342 .. 0.10507900267839432</td><td>-26.29607</td><td>0.38205835223197937 .. 0.11383338272571564</td><td>0.0</td><td>0.0</td><td>-1.0</td><td>--</td><td>--</td><td>--</td><td>--</td><td>--</td><td>--</td><td>--</td><td>--</td><td>1.0</td><td>0.03737923875451088</td><td>4.4626409253510095</td><td>0.7012360095977783</td><td>9.303091420674447</td><td>--</td><td>--</td><td>--</td><td>-1</td><td>--</td><td>--</td><td>--</td><td>-1</td><td>--</td><td>--</td><td>--</td><td>-1</td><td>--</td><td>16.566</td><td>0.099</td><td>11.0</td><td>0.944</td><td>16.492</td><td>--</td><td>1.600000023841858</td><td>0.8646</td><td>12.115</td><td>--</td><td>0.8999999761581421</td><td>0.9463</td><td>8.23</td><td>0.099</td><td>1.399999976158142</td><td>0.9361</td><td>hHd0</td><td>AUUU</td><td>0.679408</td><td>1.0</td><td>3.0802000394088165e-31</td><td>2.976424283058195e-32</td><td>1.7870805516681073e-31</td><td>5.701621325711477e-32</td><td>3.809273374136272e-31</td><td>6.199369127140613e-32</td><td>3.1782694172080884e-31</td><td>7.115068646982017e-32</td><td>0</td><td>-1.0</td><td>-1.0</td><td>-1.0</td></tr>\n",
       "<tr><td>000002.35+220637.9</td><td>0.009821461994647509</td><td>22.11054392605524</td><td>304272558</td><td>6879</td><td>56539</td><td>414</td><td>BOSS</td><td>2.6510000000000002</td><td>0.0</td><td>VI</td><td>2.651000022888184</td><td>2.6508500576019287</td><td>0.000567692331969738</td><td>0</td><td>2.6618903</td><td>-1.0</td><td>-1.0</td><td>2199023796224</td><td>0</td><td>1024</td><td>0</td><td>0</td><td>0</td><td>0</td><td>0</td><td>0</td><td>-1 .. -1</td><td>-1 .. -1</td><td>-1 .. -1</td><td>- .. -</td><td>0.0</td><td>0.0</td><td>0</td><td>-</td><td>0</td><td>0</td><td>-</td><td>2.5245540142059326 .. 12.810166358947754</td><td>13.601418495178223 .. 0.8575358986854553</td><td>21.491214752197266 .. 19.727508544921875</td><td>0.11590246856212616 .. 0.09092097729444504</td><td>-26.363455</td><td>0.19841493666172028 .. 0.05911726504564285</td><td>0.0</td><td>0.0</td><td>-1.0</td><td>--</td><td>--</td><td>--</td><td>--</td><td>--</td><td>--</td><td>--</td><td>--</td><td>1.0</td><td>-0.228431299328804</td><td>3.3919949989087415</td><td>-0.14233444631099698</td><td>30.94315108372602</td><td>--</td><td>--</td><td>--</td><td>-1</td><td>--</td><td>--</td><td>--</td><td>-1</td><td>--</td><td>--</td><td>--</td><td>-1</td><td>--</td><td>16.865</td><td>0.104</td><td>10.399999618530273</td><td>0.9984</td><td>15.434</td><td>0.107</td><td>10.199999809265137</td><td>0.8976</td><td>11.623</td><td>0.226</td><td>4.800000190734863</td><td>1.05</td><td>8.648</td><td>0.104</td><td>0.800000011920929</td><td>0.907</td><td>0000</td><td>AABU</td><td>0.312272</td><td>0.0</td><td>0.0</td><td>0.0</td><td>0.0</td><td>0.0</td><td>0.0</td><td>0.0</td><td>0.0</td><td>0.0</td><td>-1</td><td>-1.0</td><td>-1.0</td><td>-1.0</td></tr>\n",
       "<tr><td>...</td><td>...</td><td>...</td><td>...</td><td>...</td><td>...</td><td>...</td><td>...</td><td>...</td><td>...</td><td>...</td><td>...</td><td>...</td><td>...</td><td>...</td><td>...</td><td>...</td><td>...</td><td>...</td><td>...</td><td>...</td><td>...</td><td>...</td><td>...</td><td>...</td><td>...</td><td>...</td><td>...</td><td>...</td><td>...</td><td>...</td><td>...</td><td>...</td><td>...</td><td>...</td><td>...</td><td>...</td><td>...</td><td>...</td><td>...</td><td>...</td><td>...</td><td>...</td><td>...</td><td>...</td><td>...</td><td>...</td><td>...</td><td>...</td><td>...</td><td>...</td><td>...</td><td>...</td><td>...</td><td>...</td><td>...</td><td>...</td><td>...</td><td>...</td><td>...</td><td>...</td><td>...</td><td>...</td><td>...</td><td>...</td><td>...</td><td>...</td><td>...</td><td>...</td><td>...</td><td>...</td><td>...</td><td>...</td><td>...</td><td>...</td><td>...</td><td>...</td><td>...</td><td>...</td><td>...</td><td>...</td><td>...</td><td>...</td><td>...</td><td>...</td><td>...</td><td>...</td><td>...</td><td>...</td><td>...</td><td>...</td><td>...</td><td>...</td><td>...</td><td>...</td><td>...</td><td>...</td><td>...</td><td>...</td><td>...</td><td>...</td><td>...</td><td>...</td><td>...</td><td>...</td></tr>\n",
       "<tr><td>235959.37+294704.4</td><td>359.99739206407736</td><td>29.784564234733445</td><td>368262933</td><td>7134</td><td>56566</td><td>436</td><td>BOSS</td><td>2.199</td><td>0.0</td><td>VI</td><td>2.1989998817443848</td><td>2.181215047836304</td><td>0.0004703309386968613</td><td>0</td><td>2.1907961</td><td>-1.0</td><td>-1.0</td><td>2199023796224</td><td>0</td><td>0</td><td>0</td><td>0</td><td>0</td><td>0</td><td>0</td><td>0</td><td>-1 .. -1</td><td>-1 .. -1</td><td>-1 .. -1</td><td>- .. -</td><td>0.0</td><td>0.0</td><td>0</td><td>-</td><td>0</td><td>0</td><td>-</td><td>1.0647767782211304 .. 6.463043212890625</td><td>14.938095092773438 .. 1.1025470495224</td><td>22.41355323791504 .. 20.459945678710938</td><td>0.25515177845954895 .. 0.15595178306102753</td><td>-24.984957</td><td>0.21776767075061798 .. 0.06488335877656937</td><td>0.0</td><td>0.0</td><td>-1.0</td><td>--</td><td>--</td><td>--</td><td>--</td><td>--</td><td>--</td><td>--</td><td>--</td><td>1.0</td><td>0.0</td><td>0.0</td><td>0.0</td><td>0.0</td><td>--</td><td>--</td><td>--</td><td>-1</td><td>--</td><td>--</td><td>--</td><td>-1</td><td>--</td><td>--</td><td>--</td><td>-1</td><td>--</td><td>17.34</td><td>0.122</td><td>8.899999618530273</td><td>0.945</td><td>16.778</td><td>--</td><td>1.2999999523162842</td><td>0.8594</td><td>11.872</td><td>--</td><td>1.7000000476837158</td><td>1.02</td><td>9.207</td><td>0.122</td><td>-1.2000000476837158</td><td>0.9891</td><td>0000</td><td>BUUU</td><td>0.29757100000000003</td><td>0.0</td><td>0.0</td><td>0.0</td><td>0.0</td><td>0.0</td><td>0.0</td><td>0.0</td><td>0.0</td><td>0.0</td><td>-1</td><td>-1.0</td><td>-1.0</td><td>-1.0</td></tr>\n",
       "<tr><td>235959.41-094933.8</td><td>359.9975732868029</td><td>-9.826069037488603</td><td>24413973</td><td>7167</td><td>56604</td><td>276</td><td>BOSS</td><td>2.439</td><td>0.0</td><td>VI</td><td>2.438999891281128</td><td>2.43824315071106</td><td>0.0005174393299967051</td><td>0</td><td>2.4365077</td><td>-1.0</td><td>-1.0</td><td>3298534899712</td><td>0</td><td>0</td><td>0</td><td>0</td><td>0</td><td>0</td><td>0</td><td>0</td><td>-1 .. -1</td><td>-1 .. -1</td><td>-1 .. -1</td><td>- .. -</td><td>0.0</td><td>0.0</td><td>0</td><td>-</td><td>0</td><td>0</td><td>-</td><td>0.9114334583282471 .. 6.550995349884033</td><td>9.97319221496582 .. 0.5737668871879578</td><td>22.575931549072266 .. 20.445634841918945</td><td>0.36057761311531067 .. 0.2134222537279129</td><td>-25.347937</td><td>0.14428138732910156 .. 0.04298830032348633</td><td>0.0</td><td>0.0</td><td>-1.0</td><td>--</td><td>--</td><td>--</td><td>--</td><td>--</td><td>--</td><td>--</td><td>--</td><td>1.0</td><td>-0.007836785167455673</td><td>956.5325145026019</td><td>0.03973940387368202</td><td>680.3626203554007</td><td>--</td><td>--</td><td>--</td><td>-1</td><td>--</td><td>--</td><td>--</td><td>-1</td><td>--</td><td>--</td><td>--</td><td>-1</td><td>--</td><td>17.494</td><td>0.18600000000000005</td><td>5.800000190734863</td><td>0.9342</td><td>16.508</td><td>--</td><td>1.5</td><td>0.893</td><td>12.249</td><td>--</td><td>0.6000000238418579</td><td>0.9806</td><td>9.015</td><td>0.18600000000000005</td><td>-0.30000001192092896</td><td>0.916</td><td>0000</td><td>BUUU</td><td>0.771053</td><td>0.0</td><td>0.0</td><td>0.0</td><td>0.0</td><td>0.0</td><td>0.0</td><td>0.0</td><td>0.0</td><td>0.0</td><td>0</td><td>-1.0</td><td>-1.0</td><td>-1.0</td></tr>\n",
       "<tr><td>235959.70+084505.2</td><td>359.99877436139883</td><td>8.751452235361512</td><td>190787316</td><td>6152</td><td>56164</td><td>12</td><td>BOSS</td><td>2.205</td><td>0.0</td><td>VI</td><td>2.2049999237060547</td><td>2.1861588954925537</td><td>0.0005236854776740074</td><td>0</td><td>2.2050369</td><td>2.2072399</td><td>2.2072399</td><td>2199023779840</td><td>0</td><td>0</td><td>0</td><td>0</td><td>0</td><td>0</td><td>0</td><td>0</td><td>-1 .. -1</td><td>-1 .. -1</td><td>-1 .. -1</td><td>- .. -</td><td>0.0</td><td>0.0</td><td>0</td><td>-</td><td>0</td><td>0</td><td>-</td><td>10.209931373596191 .. 33.29141616821289</td><td>1.9940565824508667 .. 0.5809568762779236</td><td>19.97723960876465 .. 18.693634033203125</td><td>0.07527824491262436 .. 0.042745593935251236</td><td>-27.205271000000003</td><td>0.2600480318069458 .. 0.07748069614171982</td><td>0.0</td><td>0.0</td><td>-1.0</td><td>--</td><td>--</td><td>--</td><td>--</td><td>--</td><td>--</td><td>--</td><td>--</td><td>1.0</td><td>-0.012690875679254532</td><td>4.967534234447898</td><td>0.4558853209018707</td><td>25.000072736504702</td><td>--</td><td>--</td><td>--</td><td>-1</td><td>--</td><td>--</td><td>--</td><td>-1</td><td>--</td><td>--</td><td>--</td><td>-1</td><td>--</td><td>15.836</td><td>0.051</td><td>21.399999618530273</td><td>0.9278</td><td>14.646</td><td>0.06</td><td>18.0</td><td>0.9767</td><td>11.143</td><td>0.171</td><td>6.400000095367432</td><td>0.9539</td><td>9.072</td><td>0.051</td><td>2.0</td><td>0.9777</td><td>0000</td><td>AABC</td><td>0.344997</td><td>0.0</td><td>0.0</td><td>0.0</td><td>0.0</td><td>0.0</td><td>0.0</td><td>0.0</td><td>0.0</td><td>0.0</td><td>0</td><td>-1.0</td><td>-1.0</td><td>-1.0</td></tr>\n",
       "<tr><td>235959.74+100700.4</td><td>359.99892231843813</td><td>10.116800342372995</td><td>202268211</td><td>6182</td><td>56190</td><td>380</td><td>BOSS</td><td>2.415</td><td>0.0</td><td>VI</td><td>2.414999961853028</td><td>2.4158482551574707</td><td>0.0004391265101730824</td><td>0</td><td>2.4162044999999996</td><td>2.394154</td><td>2.394154</td><td>2199023255552</td><td>0</td><td>0</td><td>0</td><td>0</td><td>0</td><td>0</td><td>0</td><td>0</td><td>-1 .. -1</td><td>-1 .. -1</td><td>-1 .. -1</td><td>- .. -</td><td>0.0</td><td>0.0</td><td>0</td><td>-</td><td>0</td><td>0</td><td>-</td><td>0.13701799511909485 .. 2.3733279705047607</td><td>8.572785377502441 .. 0.8092840313911438</td><td>24.122575759887695 .. 21.46878433227539</td><td>1.1895657777786255 .. 0.43150395154953003</td><td>-25.087162</td><td>0.39340513944625854 .. 0.117214135825634</td><td>0.0</td><td>0.0</td><td>-1.0</td><td>--</td><td>--</td><td>--</td><td>--</td><td>--</td><td>--</td><td>--</td><td>--</td><td>1.0</td><td>0.8168631196022034</td><td>5.3016064747843945</td><td>0.18351194262504572</td><td>7.803975152448138</td><td>--</td><td>--</td><td>--</td><td>-1</td><td>--</td><td>--</td><td>--</td><td>-1</td><td>--</td><td>--</td><td>--</td><td>-1</td><td>--</td><td>--</td><td>--</td><td>--</td><td>--</td><td>--</td><td>--</td><td>--</td><td>--</td><td>--</td><td>--</td><td>--</td><td>--</td><td>--</td><td>--</td><td>--</td><td>--</td><td></td><td></td><td>--</td><td>1.0</td><td>1.1244376940898019e-31</td><td>2.6793083880594683e-32</td><td>1.4119519749068605e-31</td><td>3.7041008366232856e-32</td><td>1.6103698965022135e-31</td><td>5.596675541058764e-32</td><td>1.9354891819975573e-31</td><td>5.194566547759703e-32</td><td>0</td><td>-1.0</td><td>-1.0</td><td>-1.0</td></tr>\n",
       "<tr><td>235959.78+285717.0</td><td>359.9991177907408</td><td>28.95473424342157</td><td>360831416</td><td>6511</td><td>56540</td><td>912</td><td>BOSS</td><td>2.452</td><td>0.0</td><td>VI</td><td>2.45199990272522</td><td>2.4509875774383545</td><td>0.0006248197169043124</td><td>0</td><td>2.4450705000000004</td><td>-1.0</td><td>-1.0</td><td>3298535424000</td><td>0</td><td>0</td><td>0</td><td>0</td><td>0</td><td>0</td><td>1</td><td>1</td><td>0 .. -1</td><td>0 .. -1</td><td>0 .. -1</td><td>- .. -</td><td>0.0</td><td>0.0</td><td>0</td><td>-</td><td>0</td><td>0</td><td>-</td><td>1.4106802940368652 .. 4.767739295959473</td><td>29.066919326782227 .. 2.151970863342285</td><td>22.115888595581055 .. 20.778961181640625</td><td>0.14002498984336853 .. 0.14825759828090668</td><td>-25.083122</td><td>0.23128443956375122 .. 0.06891065090894699</td><td>0.0</td><td>0.0</td><td>-1.0</td><td>--</td><td>--</td><td>--</td><td>--</td><td>--</td><td>--</td><td>--</td><td>--</td><td>1.0</td><td>0.012952172197401524</td><td>9.38362862573936</td><td>0.5922036170959473</td><td>0.3776120550528195</td><td>--</td><td>--</td><td>--</td><td>-1</td><td>--</td><td>--</td><td>--</td><td>-1</td><td>--</td><td>--</td><td>--</td><td>-1</td><td>--</td><td>17.312</td><td>0.122</td><td>8.899999618530273</td><td>0.9385</td><td>16.092</td><td>0.172</td><td>6.300000190734863</td><td>0.9008</td><td>12.012</td><td>--</td><td>1.399999976158142</td><td>1.01</td><td>8.572000000000001</td><td>0.122</td><td>1.600000023841858</td><td>0.999</td><td>0000</td><td>BBUU</td><td>1.948948</td><td>0.0</td><td>0.0</td><td>0.0</td><td>0.0</td><td>0.0</td><td>0.0</td><td>0.0</td><td>0.0</td><td>0.0</td><td>-1</td><td>-1.0</td><td>-1.0</td><td>-1.0</td></tr>\n",
       "<tr><td>235959.83+344315.0</td><td>359.9993034693268</td><td>34.720842482815726</td><td>401165277</td><td>7145</td><td>56567</td><td>240</td><td>BOSS</td><td>3.109</td><td>0.0</td><td>VI</td><td>3.108999967575073</td><td>3.1135237216949463</td><td>0.00039327019476331765</td><td>0</td><td>3.1030495</td><td>-1.0</td><td>-1.0</td><td>3298535424000</td><td>0</td><td>0</td><td>0</td><td>0</td><td>0</td><td>0</td><td>0</td><td>0</td><td>-1 .. -1</td><td>-1 .. -1</td><td>-1 .. -1</td><td>- .. -</td><td>0.0</td><td>0.0</td><td>0</td><td>-</td><td>0</td><td>0</td><td>-</td><td>0.26430341601371765 .. 15.253443717956543</td><td>27.282411575317383 .. 1.2617765665054321</td><td>23.72138786315918 .. 19.539033889770508</td><td>0.5398540496826172 .. 0.063071109354496</td><td>-27.310951</td><td>0.3354918956756592 .. 0.09995901584625244</td><td>0.0</td><td>0.0</td><td>-1.0</td><td>--</td><td>--</td><td>--</td><td>--</td><td>--</td><td>--</td><td>--</td><td>--</td><td>1.0</td><td>-0.17406196892261505</td><td>21.936797353156877</td><td>0.14728955924510956</td><td>7.039888551569028</td><td>--</td><td>--</td><td>--</td><td>-1</td><td>--</td><td>--</td><td>--</td><td>-1</td><td>--</td><td>--</td><td>--</td><td>-1</td><td>--</td><td>--</td><td>--</td><td>--</td><td>--</td><td>--</td><td>--</td><td>--</td><td>--</td><td>--</td><td>--</td><td>--</td><td>--</td><td>--</td><td>--</td><td>--</td><td>--</td><td></td><td></td><td>--</td><td>0.0</td><td>0.0</td><td>0.0</td><td>0.0</td><td>0.0</td><td>0.0</td><td>0.0</td><td>0.0</td><td>0.0</td><td>-1</td><td>-1.0</td><td>-1.0</td><td>-1.0</td></tr>\n",
       "</table></div>"
      ],
      "text/plain": [
       "<Table length=168045>\n",
       "    SDSS_NAME               RA          ... FIRST_SNR SDSS2FIRST_SEP\n",
       "        -                  deg          ...     -         arcsec    \n",
       "     bytes18             float64        ...  float64     float64    \n",
       "------------------ -------------------- ... --------- --------------\n",
       "000000.66+145828.8 0.002756432550313548 ...      -1.0           -1.0\n",
       "000001.37-011930.0 0.005746209112004408 ...      -1.0           -1.0\n",
       "000001.63+303109.6 0.006818797719915892 ...      -1.0           -1.0\n",
       "000001.81+141150.5 0.007578550192420154 ...      -1.0           -1.0\n",
       "000002.20+114148.5 0.009191302171927871 ...      -1.0           -1.0\n",
       "000002.35+220637.9 0.009821461994647509 ...      -1.0           -1.0\n",
       "               ...                  ... ...       ...            ...\n",
       "235959.37+294704.4   359.99739206407736 ...      -1.0           -1.0\n",
       "235959.41-094933.8    359.9975732868029 ...      -1.0           -1.0\n",
       "235959.70+084505.2   359.99877436139883 ...      -1.0           -1.0\n",
       "235959.74+100700.4   359.99892231843813 ...      -1.0           -1.0\n",
       "235959.78+285717.0    359.9991177907408 ...      -1.0           -1.0\n",
       "235959.83+344315.0    359.9993034693268 ...      -1.0           -1.0"
      ]
     },
     "execution_count": 1,
     "metadata": {},
     "output_type": "execute_result"
    }
   ],
   "source": [
    "import os\n",
    "import sys\n",
    "import glob\n",
    "import numpy as np\n",
    "import  scipy.optimize    as op\n",
    "import matplotlib.pyplot as plt\n",
    "import urllib.request\n",
    "from astropy.io import fits as pyfits\n",
    "from astropy.table import Table\n",
    "\n",
    "DATA_URL=\"https://data.sdss.org/sas/dr14/eboss/qso/DR14Q/\"\n",
    "file=\"DR14Q_v4_4.fits\"\n",
    "local_dir=\"/home/colgoat/Jupyter/\"\n",
    "local_file = os.path.join(local_dir,file)\n",
    "\n",
    "if not os.path.exists(file):\n",
    "        print(\"downloading DR14 quasar dataset from %s to %s\"\n",
    "              % (DATA_URL+file, local_file ))\n",
    "        tmp = urllib.request.urlretrieve(DATA_URL+local_file, local_file)\n",
    "        print (\"Downloaded file\"+local_file)\n",
    "else:\n",
    "    print(\"%s already exist\"%(local_file))\n",
    "    \n",
    "    \n",
    "catalog=Table.read('DR14Q_v4_4.fits')\n",
    "\n",
    "w=(catalog['THING_ID']==110619413)\n",
    "reduced_cat=catalog[w]\n",
    "reduced_cat\n",
    "#catalog\n",
    "#plt.style.use('bmh')\n",
    "#plt.hist(reduced_cat['FIRST_SNR'])\n",
    "#stats.describe(reduced_cat['FIRST_SNR'])"
   ]
  },
  {
   "cell_type": "code",
   "execution_count": 2,
   "id": "60f66868",
   "metadata": {
    "ExecuteTime": {
     "end_time": "2023-05-28T04:26:54.413401Z",
     "start_time": "2023-05-28T04:26:54.296044Z"
    }
   },
   "outputs": [
    {
     "data": {
      "text/html": [
       "<div><i>Table length=1</i>\n",
       "<table id=\"table140603367523760\" class=\"table-striped table-bordered table-condensed\">\n",
       "<thead><tr><th>SDSS_NAME</th><th>RA</th><th>DEC</th><th>THING_ID</th><th>PLATE</th><th>MJD</th><th>FIBERID</th><th>SPECTRO</th><th>Z</th><th>Z_ERR</th><th>SOURCE_Z</th><th>Z_VI</th><th>Z_PIPE</th><th>Z_PIPE_ERR</th><th>ZWARNING</th><th>Z_PCA</th><th>Z_PCA_ER</th><th>Z_MGII</th><th>BOSS_TARGET1</th><th>ANCILLARY_TARGET1</th><th>ANCILLARY_TARGET2</th><th>EBOSS_TARGET0</th><th>EBOSS_TARGET1</th><th>EBOSS_TARGET2</th><th>N_SPEC_SDSS</th><th>N_SPEC_BOSS</th><th>N_SPEC</th><th>PLATE_DUPLICATE</th><th>MJD_DUPLICATE</th><th>FIBERID_DUPLICATE</th><th>SPECTRO_DUPLICATE</th><th>BI_CIV</th><th>ERR_BI_CIV</th><th>RUN_NUMBER</th><th>RERUN_NUMBER</th><th>COL_NUMBER</th><th>FIELD_NUMBER</th><th>OBJ_ID</th><th>PSFFLUX</th><th>IVAR_PSFFLUX</th><th>PSFMAG</th><th>ERR_PSFMAG</th><th>MI</th><th>GAL_EXT</th><th>RASS_COUNTS</th><th>RASS_COUNTS_SNR</th><th>SDSS2ROSAT_SEP</th><th>FLUX_0.2_2.0keV</th><th>FLUX_0.2_2.0keV_ERR</th><th>FLUX_2.0_12.0keV</th><th>FLUX_2.0_12.0keV_ERR</th><th>FLUX_0.2_12.0keV</th><th>FLUX_0.2_12.0keV_ERR</th><th>LUM_0.2_12.0keV</th><th>SDSS2XMM_SEP</th><th>GALEX_MATCHED</th><th>FUV</th><th>FUV_IVAR</th><th>NUV</th><th>NUV_IVAR</th><th>JMAG</th><th>ERR_JMAG</th><th>JSNR</th><th>JRDFLAG</th><th>HMAG</th><th>ERR_HMAG</th><th>HSNR</th><th>HRDFLAG</th><th>KMAG</th><th>ERR_KMAG</th><th>KSNR</th><th>KRDFLAG</th><th>SDSS2MASS_SEP</th><th>W1MAG</th><th>ERR_W1MAG</th><th>W1SNR</th><th>W1CHI2</th><th>W2MAG</th><th>ERR_W2MAG</th><th>W2SNR</th><th>W2CHI2</th><th>W3MAG</th><th>ERR_W3MAG</th><th>W3SNR</th><th>W3CHI2</th><th>W4MAG</th><th>ERR_W4MAG</th><th>W4SNR</th><th>W4CHI2</th><th>CC_FLAGS</th><th>PH_FLAGS</th><th>SDSS2WISE_SEP</th><th>UKIDSS_MATCHED</th><th>YFLUX</th><th>YFLUX_ERR</th><th>JFLUX</th><th>JFLUX_ERR</th><th>HFLUX</th><th>HFLUX_ERR</th><th>KFLUX</th><th>KFLUX_ERR</th><th>FIRST_MATCHED</th><th>FIRST_FLUX</th><th>FIRST_SNR</th><th>SDSS2FIRST_SEP</th></tr></thead>\n",
       "<thead><tr><th>-</th><th>deg</th><th>deg</th><th>-</th><th>-</th><th>-</th><th>-</th><th>-</th><th>-</th><th>-</th><th>-</th><th>-</th><th>-</th><th>-</th><th>-</th><th>-</th><th>-</th><th>-</th><th>-</th><th>-</th><th>-</th><th>-</th><th>-</th><th>-</th><th>-</th><th>-</th><th>-</th><th>-</th><th>-</th><th>-</th><th>-</th><th>km / s</th><th>km / s</th><th>-</th><th>-</th><th>-</th><th>-</th><th>-</th><th>nanomaggies</th><th>-</th><th>mag</th><th>mag</th><th>-</th><th>mag</th><th>counts/s</th><th>-</th><th>arcsec</th><th>erg / (cm2 s)</th><th>erg / (cm2 s)</th><th>erg / (cm2 s)</th><th>erg / (cm2 s)</th><th>erg / (cm2 s)</th><th>erg / (cm2 s)</th><th>erg / s</th><th>arcsec</th><th>-</th><th>-</th><th>-</th><th>-</th><th>-</th><th>Vega</th><th>Vega</th><th>-</th><th>-</th><th>Vega</th><th>Vega</th><th>-</th><th>-</th><th>Vega</th><th>Vega</th><th>-</th><th>-</th><th>arcsec</th><th>-</th><th>-</th><th>-</th><th>-</th><th>-</th><th>-</th><th>-</th><th>-</th><th>-</th><th>-</th><th>-</th><th>-</th><th>-</th><th>-</th><th>-</th><th>-</th><th>-</th><th>-</th><th>arcsec</th><th>-</th><th>W / (Hz m2)</th><th>W / (Hz m2)</th><th>W / (Hz m2)</th><th>W / (Hz m2)</th><th>W / (Hz m2)</th><th>W / (Hz m2)</th><th>W / (Hz m2)</th><th>W / (Hz m2)</th><th>-</th><th>mJy</th><th>-</th><th>arcsec</th></tr></thead>\n",
       "<thead><tr><th>bytes18</th><th>float64</th><th>float64</th><th>int32</th><th>int16</th><th>int32</th><th>int16</th><th>bytes4</th><th>float64</th><th>float64</th><th>bytes4</th><th>float64</th><th>float64</th><th>float64</th><th>int16</th><th>float64</th><th>float64</th><th>float64</th><th>int64</th><th>int64</th><th>int64</th><th>int64</th><th>int64</th><th>int64</th><th>int16</th><th>int16</th><th>int16</th><th>int32[51]</th><th>int32[51]</th><th>int32[51]</th><th>bytes1[51]</th><th>float64</th><th>float64</th><th>int16</th><th>bytes1</th><th>int16</th><th>int16</th><th>bytes1</th><th>float64[5]</th><th>float64[5]</th><th>float64[5]</th><th>float64[5]</th><th>float64</th><th>float64[5]</th><th>float64</th><th>float64</th><th>float64</th><th>float64</th><th>float64</th><th>float64</th><th>float64</th><th>float64</th><th>float64</th><th>float64</th><th>float64</th><th>float32</th><th>float64</th><th>float64</th><th>float64</th><th>float64</th><th>float64</th><th>float64</th><th>float32</th><th>int16</th><th>float64</th><th>float64</th><th>float32</th><th>int16</th><th>float64</th><th>float64</th><th>float32</th><th>int16</th><th>float64</th><th>float64</th><th>float64</th><th>float64</th><th>float64</th><th>float64</th><th>float64</th><th>float64</th><th>float64</th><th>float64</th><th>float64</th><th>float64</th><th>float64</th><th>float64</th><th>float64</th><th>float64</th><th>float64</th><th>bytes4</th><th>bytes4</th><th>float64</th><th>float32</th><th>float64</th><th>float64</th><th>float64</th><th>float64</th><th>float64</th><th>float64</th><th>float64</th><th>float64</th><th>int16</th><th>float64</th><th>float64</th><th>float64</th></tr></thead>\n",
       "<tr><td>023259.60+004801.7</td><td>38.24833557824455</td><td>0.8004873344302204</td><td>110619413</td><td>3615</td><td>55445</td><td>946</td><td>BOSS</td><td>2.25</td><td>0.0</td><td>VI</td><td>2.25</td><td>0.09913666546344756</td><td>4.58932772744447e-05</td><td>0</td><td>2.252736</td><td>2.2540944</td><td>2.2540944</td><td>246784</td><td>0</td><td>0</td><td>0</td><td>0</td><td>0</td><td>0</td><td>15</td><td>15</td><td>0 .. -1</td><td>0 .. -1</td><td>0 .. -1</td><td>- .. -</td><td>0.0</td><td>0.0</td><td>0</td><td>-</td><td>0</td><td>0</td><td>-</td><td>4.560428142547607 .. 20.3826961517334</td><td>14.244935989379883 .. 1.1710692644119263</td><td>20.851463317871094 .. 19.225418090820312</td><td>0.06296096742153168 .. 0.049094125628471375</td><td>-26.441088</td><td>0.10553616285324097 .. 0.031444251537323</td><td>0.0</td><td>0.0</td><td>-1.0</td><td>--</td><td>--</td><td>--</td><td>--</td><td>--</td><td>--</td><td>--</td><td>--</td><td>1.0</td><td>0.11552616208791733</td><td>416.17484786731285</td><td>-0.006352559197694063</td><td>29.60464338891779</td><td>--</td><td>--</td><td>--</td><td>-1</td><td>--</td><td>--</td><td>--</td><td>-1</td><td>--</td><td>--</td><td>--</td><td>-1</td><td>--</td><td>15.675</td><td>0.042</td><td>26.0</td><td>0.9083</td><td>14.686</td><td>0.058</td><td>18.600000381469727</td><td>0.8928</td><td>11.087</td><td>0.122</td><td>8.899999618530273</td><td>0.9082</td><td>8.427999999999999</td><td>0.042</td><td>4.099999904632568</td><td>0.9104</td><td>0000</td><td>AABB</td><td>0.175844</td><td>1.0</td><td>1.0257672154992935e-30</td><td>3.3786993149343086e-32</td><td>9.786165384154944e-31</td><td>4.1433724960764165e-32</td><td>9.225027639264496e-31</td><td>5.774854623767702e-32</td><td>1.3124616360264275e-30</td><td>5.807810783387357e-32</td><td>0</td><td>-1.0</td><td>-1.0</td><td>-1.0</td></tr>\n",
       "</table></div>"
      ],
      "text/plain": [
       "<Table length=1>\n",
       "    SDSS_NAME              RA        ... FIRST_SNR SDSS2FIRST_SEP\n",
       "        -                 deg        ...     -         arcsec    \n",
       "     bytes18            float64      ...  float64     float64    \n",
       "------------------ ----------------- ... --------- --------------\n",
       "023259.60+004801.7 38.24833557824455 ...      -1.0           -1.0"
      ]
     },
     "execution_count": 2,
     "metadata": {},
     "output_type": "execute_result"
    }
   ],
   "source": [
    "w=(catalog['THING_ID']==110619413)\n",
    "reduced_cat=catalog[w]\n",
    "reduced_cat"
   ]
  },
  {
   "cell_type": "markdown",
   "id": "a08a299e",
   "metadata": {},
   "source": [
    "## REPEATING THE PROCESS INCLUDING BAL QUASARS"
   ]
  },
  {
   "cell_type": "code",
   "execution_count": 1,
   "id": "3bbf4476",
   "metadata": {
    "ExecuteTime": {
     "end_time": "2023-08-31T02:20:36.913759Z",
     "start_time": "2023-08-31T02:20:33.493456Z"
    }
   },
   "outputs": [
    {
     "name": "stdout",
     "output_type": "stream",
     "text": [
      "/home/colgoat/Jupyter/DR14Q_v4_4.fits already exist\n"
     ]
    },
    {
     "name": "stderr",
     "output_type": "stream",
     "text": [
      "WARNING: UnitsWarning: '-' did not parse as fits unit: Invalid character at col 0 If this is meant to be a custom unit, define it with 'u.def_unit'. To have it recognized inside a file reader or other code, enable it with 'u.add_enabled_units'. For details, see https://docs.astropy.org/en/latest/units/combining_and_defining.html [astropy.units.core]\n",
      "WARNING: UnitsWarning: 'nanomaggies' did not parse as fits unit: At col 0, Unit 'nanomaggies' not supported by the FITS standard.  If this is meant to be a custom unit, define it with 'u.def_unit'. To have it recognized inside a file reader or other code, enable it with 'u.add_enabled_units'. For details, see https://docs.astropy.org/en/latest/units/combining_and_defining.html [astropy.units.core]\n",
      "WARNING: UnitsWarning: 'counts/s' did not parse as fits unit: At col 0, Unit 'counts' not supported by the FITS standard. Did you mean count? If this is meant to be a custom unit, define it with 'u.def_unit'. To have it recognized inside a file reader or other code, enable it with 'u.add_enabled_units'. For details, see https://docs.astropy.org/en/latest/units/combining_and_defining.html [astropy.units.core]\n",
      "WARNING: UnitsWarning: 'erg/s/cm2' contains multiple slashes, which is discouraged by the FITS standard [astropy.units.format.generic]\n",
      "WARNING: UnitsWarning: 'Vega' did not parse as fits unit: At col 0, Unit 'Vega' not supported by the FITS standard.  If this is meant to be a custom unit, define it with 'u.def_unit'. To have it recognized inside a file reader or other code, enable it with 'u.add_enabled_units'. For details, see https://docs.astropy.org/en/latest/units/combining_and_defining.html [astropy.units.core]\n",
      "WARNING: UnitsWarning: 'W/m2/Hz' contains multiple slashes, which is discouraged by the FITS standard [astropy.units.format.generic]\n"
     ]
    },
    {
     "data": {
      "text/html": [
       "<div><i>Table length=180485</i>\n",
       "<table id=\"table139977703314992\" class=\"table-striped table-bordered table-condensed\">\n",
       "<thead><tr><th>SDSS_NAME</th><th>RA</th><th>DEC</th><th>THING_ID</th><th>PLATE</th><th>MJD</th><th>FIBERID</th><th>SPECTRO</th><th>Z</th><th>Z_ERR</th><th>SOURCE_Z</th><th>Z_VI</th><th>Z_PIPE</th><th>Z_PIPE_ERR</th><th>ZWARNING</th><th>Z_PCA</th><th>Z_PCA_ER</th><th>Z_MGII</th><th>BOSS_TARGET1</th><th>ANCILLARY_TARGET1</th><th>ANCILLARY_TARGET2</th><th>EBOSS_TARGET0</th><th>EBOSS_TARGET1</th><th>EBOSS_TARGET2</th><th>N_SPEC_SDSS</th><th>N_SPEC_BOSS</th><th>N_SPEC</th><th>PLATE_DUPLICATE</th><th>MJD_DUPLICATE</th><th>FIBERID_DUPLICATE</th><th>SPECTRO_DUPLICATE</th><th>BI_CIV</th><th>ERR_BI_CIV</th><th>RUN_NUMBER</th><th>RERUN_NUMBER</th><th>COL_NUMBER</th><th>FIELD_NUMBER</th><th>OBJ_ID</th><th>PSFFLUX</th><th>IVAR_PSFFLUX</th><th>PSFMAG</th><th>ERR_PSFMAG</th><th>MI</th><th>GAL_EXT</th><th>RASS_COUNTS</th><th>RASS_COUNTS_SNR</th><th>SDSS2ROSAT_SEP</th><th>FLUX_0.2_2.0keV</th><th>FLUX_0.2_2.0keV_ERR</th><th>FLUX_2.0_12.0keV</th><th>FLUX_2.0_12.0keV_ERR</th><th>FLUX_0.2_12.0keV</th><th>FLUX_0.2_12.0keV_ERR</th><th>LUM_0.2_12.0keV</th><th>SDSS2XMM_SEP</th><th>GALEX_MATCHED</th><th>FUV</th><th>FUV_IVAR</th><th>NUV</th><th>NUV_IVAR</th><th>JMAG</th><th>ERR_JMAG</th><th>JSNR</th><th>JRDFLAG</th><th>HMAG</th><th>ERR_HMAG</th><th>HSNR</th><th>HRDFLAG</th><th>KMAG</th><th>ERR_KMAG</th><th>KSNR</th><th>KRDFLAG</th><th>SDSS2MASS_SEP</th><th>W1MAG</th><th>ERR_W1MAG</th><th>W1SNR</th><th>W1CHI2</th><th>W2MAG</th><th>ERR_W2MAG</th><th>W2SNR</th><th>W2CHI2</th><th>W3MAG</th><th>ERR_W3MAG</th><th>W3SNR</th><th>W3CHI2</th><th>W4MAG</th><th>ERR_W4MAG</th><th>W4SNR</th><th>W4CHI2</th><th>CC_FLAGS</th><th>PH_FLAGS</th><th>SDSS2WISE_SEP</th><th>UKIDSS_MATCHED</th><th>YFLUX</th><th>YFLUX_ERR</th><th>JFLUX</th><th>JFLUX_ERR</th><th>HFLUX</th><th>HFLUX_ERR</th><th>KFLUX</th><th>KFLUX_ERR</th><th>FIRST_MATCHED</th><th>FIRST_FLUX</th><th>FIRST_SNR</th><th>SDSS2FIRST_SEP</th></tr></thead>\n",
       "<thead><tr><th>-</th><th>deg</th><th>deg</th><th>-</th><th>-</th><th>-</th><th>-</th><th>-</th><th>-</th><th>-</th><th>-</th><th>-</th><th>-</th><th>-</th><th>-</th><th>-</th><th>-</th><th>-</th><th>-</th><th>-</th><th>-</th><th>-</th><th>-</th><th>-</th><th>-</th><th>-</th><th>-</th><th>-</th><th>-</th><th>-</th><th>-</th><th>km / s</th><th>km / s</th><th>-</th><th>-</th><th>-</th><th>-</th><th>-</th><th>nanomaggies</th><th>-</th><th>mag</th><th>mag</th><th>-</th><th>mag</th><th>counts/s</th><th>-</th><th>arcsec</th><th>erg / (cm2 s)</th><th>erg / (cm2 s)</th><th>erg / (cm2 s)</th><th>erg / (cm2 s)</th><th>erg / (cm2 s)</th><th>erg / (cm2 s)</th><th>erg / s</th><th>arcsec</th><th>-</th><th>-</th><th>-</th><th>-</th><th>-</th><th>Vega</th><th>Vega</th><th>-</th><th>-</th><th>Vega</th><th>Vega</th><th>-</th><th>-</th><th>Vega</th><th>Vega</th><th>-</th><th>-</th><th>arcsec</th><th>-</th><th>-</th><th>-</th><th>-</th><th>-</th><th>-</th><th>-</th><th>-</th><th>-</th><th>-</th><th>-</th><th>-</th><th>-</th><th>-</th><th>-</th><th>-</th><th>-</th><th>-</th><th>arcsec</th><th>-</th><th>W / (Hz m2)</th><th>W / (Hz m2)</th><th>W / (Hz m2)</th><th>W / (Hz m2)</th><th>W / (Hz m2)</th><th>W / (Hz m2)</th><th>W / (Hz m2)</th><th>W / (Hz m2)</th><th>-</th><th>mJy</th><th>-</th><th>arcsec</th></tr></thead>\n",
       "<thead><tr><th>bytes18</th><th>float64</th><th>float64</th><th>int32</th><th>int16</th><th>int32</th><th>int16</th><th>bytes4</th><th>float64</th><th>float64</th><th>bytes4</th><th>float64</th><th>float64</th><th>float64</th><th>int16</th><th>float64</th><th>float64</th><th>float64</th><th>int64</th><th>int64</th><th>int64</th><th>int64</th><th>int64</th><th>int64</th><th>int16</th><th>int16</th><th>int16</th><th>int32[51]</th><th>int32[51]</th><th>int32[51]</th><th>bytes1[51]</th><th>float64</th><th>float64</th><th>int16</th><th>bytes1</th><th>int16</th><th>int16</th><th>bytes1</th><th>float64[5]</th><th>float64[5]</th><th>float64[5]</th><th>float64[5]</th><th>float64</th><th>float64[5]</th><th>float64</th><th>float64</th><th>float64</th><th>float64</th><th>float64</th><th>float64</th><th>float64</th><th>float64</th><th>float64</th><th>float64</th><th>float64</th><th>float32</th><th>float64</th><th>float64</th><th>float64</th><th>float64</th><th>float64</th><th>float64</th><th>float32</th><th>int16</th><th>float64</th><th>float64</th><th>float32</th><th>int16</th><th>float64</th><th>float64</th><th>float32</th><th>int16</th><th>float64</th><th>float64</th><th>float64</th><th>float64</th><th>float64</th><th>float64</th><th>float64</th><th>float64</th><th>float64</th><th>float64</th><th>float64</th><th>float64</th><th>float64</th><th>float64</th><th>float64</th><th>float64</th><th>float64</th><th>bytes4</th><th>bytes4</th><th>float64</th><th>float32</th><th>float64</th><th>float64</th><th>float64</th><th>float64</th><th>float64</th><th>float64</th><th>float64</th><th>float64</th><th>int16</th><th>float64</th><th>float64</th><th>float64</th></tr></thead>\n",
       "<tr><td>000000.66+145828.8</td><td>0.002756432550313548</td><td>14.974675485824303</td><td>244864389</td><td>6177</td><td>56268</td><td>595</td><td>BOSS</td><td>2.497</td><td>0.0</td><td>VI</td><td>2.496999979019165</td><td>2.49796199798584</td><td>0.0008690897957421839</td><td>0</td><td>2.5099661</td><td>-1.0</td><td>-1.0</td><td>2199023255552</td><td>0</td><td>0</td><td>0</td><td>0</td><td>0</td><td>0</td><td>1</td><td>1</td><td>0 .. -1</td><td>0 .. -1</td><td>0 .. -1</td><td>- .. -</td><td>0.0</td><td>0.0</td><td>0</td><td>-</td><td>0</td><td>0</td><td>-</td><td>1.660184383392334 .. 5.348500728607178</td><td>15.485949516296387 .. 0.861799418926239</td><td>21.94196891784668 .. 20.659208297729492</td><td>0.16387343406677246 .. 0.21075020730495453</td><td>-25.664871</td><td>0.16341499984264374 .. 0.048689112067222595</td><td>0.0</td><td>0.0</td><td>-1.0</td><td>--</td><td>--</td><td>--</td><td>--</td><td>--</td><td>--</td><td>--</td><td>--</td><td>1.0</td><td>0.04631861299276352</td><td>701.1042837308206</td><td>0.05252976343035698</td><td>384.75096219826605</td><td>--</td><td>--</td><td>--</td><td>-1</td><td>--</td><td>--</td><td>--</td><td>-1</td><td>--</td><td>--</td><td>--</td><td>-1</td><td>--</td><td>17.5</td><td>0.185</td><td>5.900000095367432</td><td>0.9299</td><td>16.206</td><td>0.211</td><td>5.199999809265137</td><td>0.8249</td><td>12.321</td><td>--</td><td>0.30000001192092896</td><td>1.149</td><td>8.51</td><td>0.185</td><td>0.699999988079071</td><td>1.036</td><td>0000</td><td>BBUU</td><td>0.495515</td><td>1.0</td><td>1.8603829687921641e-31</td><td>3.147684406018196e-32</td><td>2.310947837572515e-31</td><td>4.565332356351401e-32</td><td>2.355314285756731e-31</td><td>5.970480393631547e-32</td><td>2.427149215733221e-31</td><td>6.521724355219432e-32</td><td>0</td><td>-1.0</td><td>-1.0</td><td>-1.0</td></tr>\n",
       "<tr><td>...</td><td>...</td><td>...</td><td>...</td><td>...</td><td>...</td><td>...</td><td>...</td><td>...</td><td>...</td><td>...</td><td>...</td><td>...</td><td>...</td><td>...</td><td>...</td><td>...</td><td>...</td><td>...</td><td>...</td><td>...</td><td>...</td><td>...</td><td>...</td><td>...</td><td>...</td><td>...</td><td>...</td><td>...</td><td>...</td><td>...</td><td>...</td><td>...</td><td>...</td><td>...</td><td>...</td><td>...</td><td>...</td><td>...</td><td>...</td><td>...</td><td>...</td><td>...</td><td>...</td><td>...</td><td>...</td><td>...</td><td>...</td><td>...</td><td>...</td><td>...</td><td>...</td><td>...</td><td>...</td><td>...</td><td>...</td><td>...</td><td>...</td><td>...</td><td>...</td><td>...</td><td>...</td><td>...</td><td>...</td><td>...</td><td>...</td><td>...</td><td>...</td><td>...</td><td>...</td><td>...</td><td>...</td><td>...</td><td>...</td><td>...</td><td>...</td><td>...</td><td>...</td><td>...</td><td>...</td><td>...</td><td>...</td><td>...</td><td>...</td><td>...</td><td>...</td><td>...</td><td>...</td><td>...</td><td>...</td><td>...</td><td>...</td><td>...</td><td>...</td><td>...</td><td>...</td><td>...</td><td>...</td><td>...</td><td>...</td><td>...</td><td>...</td><td>...</td><td>...</td><td>...</td></tr>\n",
       "<tr><td>235959.98+344449.6</td><td>359.9999541295649</td><td>34.747133291446325</td><td>401165238</td><td>7145</td><td>56567</td><td>262</td><td>BOSS</td><td>2.375</td><td>0.0</td><td>VI</td><td>2.375</td><td>2.397723913192749</td><td>0.0003489350492600352</td><td>0</td><td>2.3635013</td><td>2.3669076000000002</td><td>2.3669076000000002</td><td>3298535424000</td><td>0</td><td>0</td><td>0</td><td>0</td><td>0</td><td>0</td><td>0</td><td>0</td><td>-1 .. -1</td><td>-1 .. -1</td><td>-1 .. -1</td><td>- .. -</td><td>199.63788</td><td>13.583471</td><td>0</td><td>-</td><td>0</td><td>0</td><td>-</td><td>2.0665082931518555 .. 10.901832580566406</td><td>20.731266021728516 .. 1.3692610263824463</td><td>21.706958770751953 .. 19.901283264160156</td><td>0.11434675753116608 .. 0.08433660119771957</td><td>-26.091427</td><td>0.3320152461528778 .. 0.09892316162586212</td><td>0.0</td><td>0.0</td><td>-1.0</td><td>--</td><td>--</td><td>--</td><td>--</td><td>--</td><td>--</td><td>--</td><td>--</td><td>1.0</td><td>-0.353803426027298</td><td>2.7362933480076053</td><td>0.3526000678539276</td><td>0.9934353697992904</td><td>--</td><td>--</td><td>--</td><td>-1</td><td>--</td><td>--</td><td>--</td><td>-1</td><td>--</td><td>--</td><td>--</td><td>-1</td><td>--</td><td>--</td><td>--</td><td>--</td><td>--</td><td>--</td><td>--</td><td>--</td><td>--</td><td>--</td><td>--</td><td>--</td><td>--</td><td>--</td><td>--</td><td>--</td><td>--</td><td></td><td></td><td>--</td><td>0.0</td><td>0.0</td><td>0.0</td><td>0.0</td><td>0.0</td><td>0.0</td><td>0.0</td><td>0.0</td><td>0.0</td><td>-1</td><td>-1.0</td><td>-1.0</td><td>-1.0</td></tr>\n",
       "</table></div>"
      ],
      "text/plain": [
       "<Table length=180485>\n",
       "    SDSS_NAME               RA                 DEC         ... FIRST_SNR SDSS2FIRST_SEP\n",
       "        -                  deg                 deg         ...     -         arcsec    \n",
       "     bytes18             float64             float64       ...  float64     float64    \n",
       "------------------ -------------------- ------------------ ... --------- --------------\n",
       "000000.66+145828.8 0.002756432550313548 14.974675485824303 ...      -1.0           -1.0\n",
       "               ...                  ...                ... ...       ...            ...\n",
       "235959.98+344449.6    359.9999541295649 34.747133291446325 ...      -1.0           -1.0"
      ]
     },
     "execution_count": 1,
     "metadata": {},
     "output_type": "execute_result"
    }
   ],
   "source": [
    "import os\n",
    "import sys\n",
    "import glob\n",
    "import numpy as np\n",
    "import  scipy.optimize    as op\n",
    "import matplotlib.pyplot as plt\n",
    "import urllib.request\n",
    "from astropy.io import fits as pyfits\n",
    "from astropy.table import Table\n",
    "\n",
    "DATA_URL = \"https://data.sdss.org/sas/dr14/eboss/qso/DR14Q/\"\n",
    "file = \"DR14Q_v4_4.fits\"\n",
    "local_dir = \"/home/colgoat/Jupyter/\"\n",
    "local_file = os.path.join(local_dir,file)\n",
    "\n",
    "if not os.path.exists(file):\n",
    "        print(\"downloading DR14 quasar dataset from %s to %s\"\n",
    "              % (DATA_URL+file, local_file ))\n",
    "        tmp = urllib.request.urlretrieve(DATA_URL+local_file, local_file)\n",
    "        print (\"Downloaded file\"+local_file)\n",
    "else:\n",
    "    print(\"%s already exist\"%(local_file))\n",
    "    \n",
    "    \n",
    "catalog = Table.read('DR14Q_v4_4.fits')\n",
    "\n",
    "w = (catalog['THING_ID']>0) & (catalog['Z']>=2.1) & (catalog['RA']!=catalog['DEC']) \\\n",
    "& (catalog['RA']>0) & (catalog['MJD']< 56870) #& (catalog['BI_CIV']<=0)\n",
    "reduced_cat = catalog[w]\n",
    "reduced_cat"
   ]
  },
  {
   "cell_type": "code",
   "execution_count": 3,
   "id": "4f73312d",
   "metadata": {
    "ExecuteTime": {
     "end_time": "2023-08-31T02:21:37.772520Z",
     "start_time": "2023-08-31T02:21:37.756920Z"
    }
   },
   "outputs": [
    {
     "name": "stdout",
     "output_type": "stream",
     "text": [
      "-- 1\n",
      "Label: 2.497\n"
     ]
    }
   ],
   "source": [
    "small_cat=reduced_cat[0:180486]\n",
    "\n",
    "#small_cat\n",
    "\n",
    "for i in range(1):\n",
    "    print(\"--\", i + 1)\n",
    "    print(\"Label:\", small_cat['Z'][i])"
   ]
  },
  {
   "cell_type": "code",
   "execution_count": 4,
   "id": "83cc23b5",
   "metadata": {
    "ExecuteTime": {
     "end_time": "2023-08-31T02:24:44.402107Z",
     "start_time": "2023-08-31T02:24:19.492936Z"
    }
   },
   "outputs": [],
   "source": [
    "from astropy.io import fits\n",
    "\n",
    "archivo = fits.open('BALsamDR14.fits')\n",
    "#archivo.info()\n",
    "#archivo[1] = hdu # assuming the first extension is a table\n",
    "\n",
    "#hdu[0] = archivo[0]\n",
    "hdu = fits.BinTableHDU(small_cat)\n",
    "archivo[1] = hdu\n",
    "\n",
    "\n",
    "archivo.close()\n",
    "\n",
    "passer = archivo\n",
    "\n",
    "with fits.open('BALsamDR14.fits', mode='update') as passer:\n",
    "    # Change something in hdul.\n",
    "    \n",
    "    passer[1] = hdu\n",
    "    passer.flush()  # changes are written back to original.fits\n",
    "\n",
    "# closing the file will also flush any changes and prevent further writing\n"
   ]
  },
  {
   "cell_type": "code",
   "execution_count": 5,
   "id": "131cc873",
   "metadata": {
    "ExecuteTime": {
     "end_time": "2023-08-31T02:25:24.741446Z",
     "start_time": "2023-08-31T02:25:23.723590Z"
    }
   },
   "outputs": [
    {
     "data": {
      "text/html": [
       "<div><i>Table length=180485</i>\n",
       "<table id=\"table139975810580048\" class=\"table-striped table-bordered table-condensed\">\n",
       "<thead><tr><th>SDSS_NAME</th><th>RA</th><th>DEC</th><th>THING_ID</th><th>PLATE</th><th>MJD</th><th>FIBERID</th><th>SPECTRO</th><th>Z</th><th>Z_ERR</th><th>SOURCE_Z</th><th>Z_VI</th><th>Z_PIPE</th><th>Z_PIPE_ERR</th><th>ZWARNING</th><th>Z_PCA</th><th>Z_PCA_ER</th><th>Z_MGII</th><th>BOSS_TARGET1</th><th>ANCILLARY_TARGET1</th><th>ANCILLARY_TARGET2</th><th>EBOSS_TARGET0</th><th>EBOSS_TARGET1</th><th>EBOSS_TARGET2</th><th>N_SPEC_SDSS</th><th>N_SPEC_BOSS</th><th>N_SPEC</th><th>PLATE_DUPLICATE</th><th>MJD_DUPLICATE</th><th>FIBERID_DUPLICATE</th><th>SPECTRO_DUPLICATE</th><th>BI_CIV</th><th>ERR_BI_CIV</th><th>RUN_NUMBER</th><th>RERUN_NUMBER</th><th>COL_NUMBER</th><th>FIELD_NUMBER</th><th>OBJ_ID</th><th>PSFFLUX</th><th>IVAR_PSFFLUX</th><th>PSFMAG</th><th>ERR_PSFMAG</th><th>MI</th><th>GAL_EXT</th><th>RASS_COUNTS</th><th>RASS_COUNTS_SNR</th><th>SDSS2ROSAT_SEP</th><th>FLUX_0.2_2.0keV</th><th>FLUX_0.2_2.0keV_ERR</th><th>FLUX_2.0_12.0keV</th><th>FLUX_2.0_12.0keV_ERR</th><th>FLUX_0.2_12.0keV</th><th>FLUX_0.2_12.0keV_ERR</th><th>LUM_0.2_12.0keV</th><th>SDSS2XMM_SEP</th><th>GALEX_MATCHED</th><th>FUV</th><th>FUV_IVAR</th><th>NUV</th><th>NUV_IVAR</th><th>JMAG</th><th>ERR_JMAG</th><th>JSNR</th><th>JRDFLAG</th><th>HMAG</th><th>ERR_HMAG</th><th>HSNR</th><th>HRDFLAG</th><th>KMAG</th><th>ERR_KMAG</th><th>KSNR</th><th>KRDFLAG</th><th>SDSS2MASS_SEP</th><th>W1MAG</th><th>ERR_W1MAG</th><th>W1SNR</th><th>W1CHI2</th><th>W2MAG</th><th>ERR_W2MAG</th><th>W2SNR</th><th>W2CHI2</th><th>W3MAG</th><th>ERR_W3MAG</th><th>W3SNR</th><th>W3CHI2</th><th>W4MAG</th><th>ERR_W4MAG</th><th>W4SNR</th><th>W4CHI2</th><th>CC_FLAGS</th><th>PH_FLAGS</th><th>SDSS2WISE_SEP</th><th>UKIDSS_MATCHED</th><th>YFLUX</th><th>YFLUX_ERR</th><th>JFLUX</th><th>JFLUX_ERR</th><th>HFLUX</th><th>HFLUX_ERR</th><th>KFLUX</th><th>KFLUX_ERR</th><th>FIRST_MATCHED</th><th>FIRST_FLUX</th><th>FIRST_SNR</th><th>SDSS2FIRST_SEP</th></tr></thead>\n",
       "<thead><tr><th>-</th><th>deg</th><th>deg</th><th>-</th><th>-</th><th>-</th><th>-</th><th>-</th><th>-</th><th>-</th><th>-</th><th>-</th><th>-</th><th>-</th><th>-</th><th>-</th><th>-</th><th>-</th><th>-</th><th>-</th><th>-</th><th>-</th><th>-</th><th>-</th><th>-</th><th>-</th><th>-</th><th>-</th><th>-</th><th>-</th><th>-</th><th>km / s</th><th>km / s</th><th>-</th><th>-</th><th>-</th><th>-</th><th>-</th><th>nanomaggies</th><th>-</th><th>mag</th><th>mag</th><th>-</th><th>mag</th><th>counts/s</th><th>-</th><th>arcsec</th><th>erg / (cm2 s)</th><th>erg / (cm2 s)</th><th>erg / (cm2 s)</th><th>erg / (cm2 s)</th><th>erg / (cm2 s)</th><th>erg / (cm2 s)</th><th>erg / s</th><th>arcsec</th><th>-</th><th>-</th><th>-</th><th>-</th><th>-</th><th>Vega</th><th>Vega</th><th>-</th><th>-</th><th>Vega</th><th>Vega</th><th>-</th><th>-</th><th>Vega</th><th>Vega</th><th>-</th><th>-</th><th>arcsec</th><th>-</th><th>-</th><th>-</th><th>-</th><th>-</th><th>-</th><th>-</th><th>-</th><th>-</th><th>-</th><th>-</th><th>-</th><th>-</th><th>-</th><th>-</th><th>-</th><th>-</th><th>-</th><th>arcsec</th><th>-</th><th>W / (Hz m2)</th><th>W / (Hz m2)</th><th>W / (Hz m2)</th><th>W / (Hz m2)</th><th>W / (Hz m2)</th><th>W / (Hz m2)</th><th>W / (Hz m2)</th><th>W / (Hz m2)</th><th>-</th><th>mJy</th><th>-</th><th>arcsec</th></tr></thead>\n",
       "<thead><tr><th>bytes18</th><th>float64</th><th>float64</th><th>int32</th><th>int16</th><th>int32</th><th>int16</th><th>bytes4</th><th>float64</th><th>float64</th><th>bytes4</th><th>float64</th><th>float64</th><th>float64</th><th>int16</th><th>float64</th><th>float64</th><th>float64</th><th>int64</th><th>int64</th><th>int64</th><th>int64</th><th>int64</th><th>int64</th><th>int16</th><th>int16</th><th>int16</th><th>int32[51]</th><th>int32[51]</th><th>int32[51]</th><th>bytes1[51]</th><th>float64</th><th>float64</th><th>int16</th><th>bytes1</th><th>int16</th><th>int16</th><th>bytes1</th><th>float64[5]</th><th>float64[5]</th><th>float64[5]</th><th>float64[5]</th><th>float64</th><th>float64[5]</th><th>float64</th><th>float64</th><th>float64</th><th>float64</th><th>float64</th><th>float64</th><th>float64</th><th>float64</th><th>float64</th><th>float64</th><th>float64</th><th>float32</th><th>float64</th><th>float64</th><th>float64</th><th>float64</th><th>float64</th><th>float64</th><th>float32</th><th>int16</th><th>float64</th><th>float64</th><th>float32</th><th>int16</th><th>float64</th><th>float64</th><th>float32</th><th>int16</th><th>float64</th><th>float64</th><th>float64</th><th>float64</th><th>float64</th><th>float64</th><th>float64</th><th>float64</th><th>float64</th><th>float64</th><th>float64</th><th>float64</th><th>float64</th><th>float64</th><th>float64</th><th>float64</th><th>float64</th><th>bytes4</th><th>bytes4</th><th>float64</th><th>float32</th><th>float64</th><th>float64</th><th>float64</th><th>float64</th><th>float64</th><th>float64</th><th>float64</th><th>float64</th><th>int16</th><th>float64</th><th>float64</th><th>float64</th></tr></thead>\n",
       "<tr><td>000000.66+145828.8</td><td>0.002756432550313548</td><td>14.974675485824303</td><td>244864389</td><td>6177</td><td>56268</td><td>595</td><td>BOSS</td><td>2.497</td><td>0.0</td><td>VI</td><td>2.496999979019165</td><td>2.49796199798584</td><td>0.0008690897957421839</td><td>0</td><td>2.5099661</td><td>-1.0</td><td>-1.0</td><td>2199023255552</td><td>0</td><td>0</td><td>0</td><td>0</td><td>0</td><td>0</td><td>1</td><td>1</td><td>0 .. -1</td><td>0 .. -1</td><td>0 .. -1</td><td>- .. -</td><td>0.0</td><td>0.0</td><td>0</td><td>-</td><td>0</td><td>0</td><td>-</td><td>1.660184383392334 .. 5.348500728607178</td><td>15.485949516296387 .. 0.861799418926239</td><td>21.94196891784668 .. 20.659208297729492</td><td>0.16387343406677246 .. 0.21075020730495453</td><td>-25.664871</td><td>0.16341499984264374 .. 0.048689112067222595</td><td>0.0</td><td>0.0</td><td>-1.0</td><td>--</td><td>--</td><td>--</td><td>--</td><td>--</td><td>--</td><td>--</td><td>--</td><td>1.0</td><td>0.04631861299276352</td><td>701.1042837308206</td><td>0.05252976343035698</td><td>384.75096219826605</td><td>--</td><td>--</td><td>--</td><td>-1</td><td>--</td><td>--</td><td>--</td><td>-1</td><td>--</td><td>--</td><td>--</td><td>-1</td><td>--</td><td>17.5</td><td>0.185</td><td>5.900000095367432</td><td>0.9299</td><td>16.206</td><td>0.211</td><td>5.199999809265137</td><td>0.8249</td><td>12.321</td><td>--</td><td>0.30000001192092896</td><td>1.149</td><td>8.51</td><td>0.185</td><td>0.699999988079071</td><td>1.036</td><td>0000</td><td>BBUU</td><td>0.495515</td><td>1.0</td><td>1.8603829687921641e-31</td><td>3.147684406018196e-32</td><td>2.310947837572515e-31</td><td>4.565332356351401e-32</td><td>2.355314285756731e-31</td><td>5.970480393631547e-32</td><td>2.427149215733221e-31</td><td>6.521724355219432e-32</td><td>0</td><td>-1.0</td><td>-1.0</td><td>-1.0</td></tr>\n",
       "<tr><td>...</td><td>...</td><td>...</td><td>...</td><td>...</td><td>...</td><td>...</td><td>...</td><td>...</td><td>...</td><td>...</td><td>...</td><td>...</td><td>...</td><td>...</td><td>...</td><td>...</td><td>...</td><td>...</td><td>...</td><td>...</td><td>...</td><td>...</td><td>...</td><td>...</td><td>...</td><td>...</td><td>...</td><td>...</td><td>...</td><td>...</td><td>...</td><td>...</td><td>...</td><td>...</td><td>...</td><td>...</td><td>...</td><td>...</td><td>...</td><td>...</td><td>...</td><td>...</td><td>...</td><td>...</td><td>...</td><td>...</td><td>...</td><td>...</td><td>...</td><td>...</td><td>...</td><td>...</td><td>...</td><td>...</td><td>...</td><td>...</td><td>...</td><td>...</td><td>...</td><td>...</td><td>...</td><td>...</td><td>...</td><td>...</td><td>...</td><td>...</td><td>...</td><td>...</td><td>...</td><td>...</td><td>...</td><td>...</td><td>...</td><td>...</td><td>...</td><td>...</td><td>...</td><td>...</td><td>...</td><td>...</td><td>...</td><td>...</td><td>...</td><td>...</td><td>...</td><td>...</td><td>...</td><td>...</td><td>...</td><td>...</td><td>...</td><td>...</td><td>...</td><td>...</td><td>...</td><td>...</td><td>...</td><td>...</td><td>...</td><td>...</td><td>...</td><td>...</td><td>...</td><td>...</td></tr>\n",
       "<tr><td>235959.98+344449.6</td><td>359.9999541295649</td><td>34.747133291446325</td><td>401165238</td><td>7145</td><td>56567</td><td>262</td><td>BOSS</td><td>2.375</td><td>0.0</td><td>VI</td><td>2.375</td><td>2.397723913192749</td><td>0.0003489350492600352</td><td>0</td><td>2.3635013</td><td>2.3669076000000002</td><td>2.3669076000000002</td><td>3298535424000</td><td>0</td><td>0</td><td>0</td><td>0</td><td>0</td><td>0</td><td>0</td><td>0</td><td>-1 .. -1</td><td>-1 .. -1</td><td>-1 .. -1</td><td>- .. -</td><td>199.63788</td><td>13.583471</td><td>0</td><td>-</td><td>0</td><td>0</td><td>-</td><td>2.0665082931518555 .. 10.901832580566406</td><td>20.731266021728516 .. 1.3692610263824463</td><td>21.706958770751953 .. 19.901283264160156</td><td>0.11434675753116608 .. 0.08433660119771957</td><td>-26.091427</td><td>0.3320152461528778 .. 0.09892316162586212</td><td>0.0</td><td>0.0</td><td>-1.0</td><td>--</td><td>--</td><td>--</td><td>--</td><td>--</td><td>--</td><td>--</td><td>--</td><td>1.0</td><td>-0.353803426027298</td><td>2.7362933480076053</td><td>0.3526000678539276</td><td>0.9934353697992904</td><td>--</td><td>--</td><td>--</td><td>-1</td><td>--</td><td>--</td><td>--</td><td>-1</td><td>--</td><td>--</td><td>--</td><td>-1</td><td>--</td><td>--</td><td>--</td><td>--</td><td>--</td><td>--</td><td>--</td><td>--</td><td>--</td><td>--</td><td>--</td><td>--</td><td>--</td><td>--</td><td>--</td><td>--</td><td>--</td><td></td><td></td><td>--</td><td>0.0</td><td>0.0</td><td>0.0</td><td>0.0</td><td>0.0</td><td>0.0</td><td>0.0</td><td>0.0</td><td>0.0</td><td>-1</td><td>-1.0</td><td>-1.0</td><td>-1.0</td></tr>\n",
       "</table></div>"
      ],
      "text/plain": [
       "<Table length=180485>\n",
       "    SDSS_NAME               RA                 DEC         ... FIRST_SNR SDSS2FIRST_SEP\n",
       "        -                  deg                 deg         ...     -         arcsec    \n",
       "     bytes18             float64             float64       ...  float64     float64    \n",
       "------------------ -------------------- ------------------ ... --------- --------------\n",
       "000000.66+145828.8 0.002756432550313548 14.974675485824303 ...      -1.0           -1.0\n",
       "               ...                  ...                ... ...       ...            ...\n",
       "235959.98+344449.6    359.9999541295649 34.747133291446325 ...      -1.0           -1.0"
      ]
     },
     "execution_count": 5,
     "metadata": {},
     "output_type": "execute_result"
    }
   ],
   "source": [
    "pruf=Table.read('BALsamDR14.fits')\n",
    "pruf"
   ]
  },
  {
   "cell_type": "code",
   "execution_count": 6,
   "id": "112affcc",
   "metadata": {
    "ExecuteTime": {
     "end_time": "2023-08-31T02:31:02.276930Z",
     "start_time": "2023-08-31T02:31:02.261463Z"
    }
   },
   "outputs": [
    {
     "name": "stdout",
     "output_type": "stream",
     "text": [
      "Filename: BALsamDR14.fits\n",
      "No.    Name      Ver    Type      Cards   Dimensions   Format\n",
      "  0  PRIMARY       1 PrimaryHDU      16   (7055,)   uint8   \n",
      "  1  DR14Q_v4_4    1 BinTableHDU    357   180485R x 105C   [18A, D, D, J, I, J, I, 4A, D, D, 4A, D, D, D, I, D, D, D, K, K, K, K, K, K, I, I, I, 51J, 51J, 51J, 51A, D, D, I, 1A, I, I, 1A, 5D, 5D, 5D, 5D, D, 5D, D, D, D, D, D, D, D, D, D, D, D, E, D, D, D, D, D, D, E, I, D, D, E, I, D, D, E, I, D, D, D, D, D, D, D, D, D, D, D, D, D, D, D, D, D, 4A, 4A, D, E, D, D, D, D, D, D, D, D, I, D, D, D]   \n"
     ]
    }
   ],
   "source": [
    "nuevo = fits.open('BALsamDR14.fits')\n",
    "nuevo.info()"
   ]
  },
  {
   "cell_type": "markdown",
   "id": "b88285a3",
   "metadata": {},
   "source": [
    "## Catalog for SideBands"
   ]
  },
  {
   "cell_type": "code",
   "execution_count": 1,
   "id": "055e8dde",
   "metadata": {},
   "outputs": [
    {
     "name": "stdout",
     "output_type": "stream",
     "text": [
      "/home/colgoat/Jupyter/DR14Q_v4_4.fits already exist\n"
     ]
    },
    {
     "name": "stderr",
     "output_type": "stream",
     "text": [
      "WARNING: UnitsWarning: '-' did not parse as fits unit: Invalid character at col 0 If this is meant to be a custom unit, define it with 'u.def_unit'. To have it recognized inside a file reader or other code, enable it with 'u.add_enabled_units'. For details, see https://docs.astropy.org/en/latest/units/combining_and_defining.html [astropy.units.core]\n",
      "WARNING: UnitsWarning: 'nanomaggies' did not parse as fits unit: At col 0, Unit 'nanomaggies' not supported by the FITS standard.  If this is meant to be a custom unit, define it with 'u.def_unit'. To have it recognized inside a file reader or other code, enable it with 'u.add_enabled_units'. For details, see https://docs.astropy.org/en/latest/units/combining_and_defining.html [astropy.units.core]\n",
      "WARNING: UnitsWarning: 'counts/s' did not parse as fits unit: At col 0, Unit 'counts' not supported by the FITS standard. Did you mean count? If this is meant to be a custom unit, define it with 'u.def_unit'. To have it recognized inside a file reader or other code, enable it with 'u.add_enabled_units'. For details, see https://docs.astropy.org/en/latest/units/combining_and_defining.html [astropy.units.core]\n",
      "WARNING: UnitsWarning: 'erg/s/cm2' contains multiple slashes, which is discouraged by the FITS standard [astropy.units.format.generic]\n",
      "WARNING: UnitsWarning: 'Vega' did not parse as fits unit: At col 0, Unit 'Vega' not supported by the FITS standard.  If this is meant to be a custom unit, define it with 'u.def_unit'. To have it recognized inside a file reader or other code, enable it with 'u.add_enabled_units'. For details, see https://docs.astropy.org/en/latest/units/combining_and_defining.html [astropy.units.core]\n",
      "WARNING: UnitsWarning: 'W/m2/Hz' contains multiple slashes, which is discouraged by the FITS standard [astropy.units.format.generic]\n"
     ]
    }
   ],
   "source": [
    "import os\n",
    "import sys\n",
    "import glob\n",
    "import numpy as np\n",
    "import  scipy.optimize    as op\n",
    "import matplotlib.pyplot as plt\n",
    "import urllib.request\n",
    "from astropy.io import fits as pyfits\n",
    "from astropy.table import Table\n",
    "\n",
    "DATA_URL = \"https://data.sdss.org/sas/dr14/eboss/qso/DR14Q/\"\n",
    "file = \"DR14Q_v4_4.fits\"\n",
    "local_dir = \"/home/colgoat/Jupyter/\"\n",
    "local_file = os.path.join(local_dir,file)\n",
    "\n",
    "if not os.path.exists(file):\n",
    "        print(\"downloading DR14 quasar dataset from %s to %s\"\n",
    "              % (DATA_URL+file, local_file ))\n",
    "        tmp = urllib.request.urlretrieve(DATA_URL+local_file, local_file)\n",
    "        print (\"Downloaded file\"+local_file)\n",
    "else:\n",
    "    print(\"%s already exist\"%(local_file))\n",
    "    \n",
    "    \n",
    "catalog = Table.read('DR14Q_v4_4.fits')"
   ]
  },
  {
   "cell_type": "code",
   "execution_count": 7,
   "id": "26d00282",
   "metadata": {
    "scrolled": false
   },
   "outputs": [
    {
     "data": {
      "text/plain": [
       "101784"
      ]
     },
     "execution_count": 7,
     "metadata": {},
     "output_type": "execute_result"
    }
   ],
   "source": [
    "w = (catalog['THING_ID']>0) & (catalog['Z']<=2.1) & (catalog['RA']!=catalog['DEC']) \\\n",
    "& (catalog['RA']>0) & (catalog['MJD']< 56870) & (catalog['BI_CIV']<=0)\n",
    "reduced_cat = catalog[w]\n",
    "len(reduced_cat)"
   ]
  },
  {
   "cell_type": "code",
   "execution_count": 8,
   "id": "47e93cb2",
   "metadata": {},
   "outputs": [
    {
     "name": "stdout",
     "output_type": "stream",
     "text": [
      "-- 1\n",
      "Label: 1.619\n"
     ]
    }
   ],
   "source": [
    "small_cat=reduced_cat[0:1017845]\n",
    "\n",
    "#small_cat\n",
    "\n",
    "for i in range(1):\n",
    "    print(\"--\", i + 1)\n",
    "    print(\"Label:\", small_cat['Z'][i])"
   ]
  },
  {
   "cell_type": "code",
   "execution_count": 9,
   "id": "3c7fb6b2",
   "metadata": {},
   "outputs": [
    {
     "name": "stderr",
     "output_type": "stream",
     "text": [
      "WARNING: UnitsWarning: '-' did not parse as fits unit: Invalid character at col 0 If this is meant to be a custom unit, define it with 'u.def_unit'. To have it recognized inside a file reader or other code, enable it with 'u.add_enabled_units'. For details, see https://docs.astropy.org/en/latest/units/combining_and_defining.html [astropy.units.core]\n",
      "WARNING: UnitsWarning: 'nanomaggies' did not parse as fits unit: At col 0, Unit 'nanomaggies' not supported by the FITS standard.  If this is meant to be a custom unit, define it with 'u.def_unit'. To have it recognized inside a file reader or other code, enable it with 'u.add_enabled_units'. For details, see https://docs.astropy.org/en/latest/units/combining_and_defining.html [astropy.units.core]\n",
      "WARNING: UnitsWarning: 'counts/s' did not parse as fits unit: At col 0, Unit 'counts' not supported by the FITS standard. Did you mean count? If this is meant to be a custom unit, define it with 'u.def_unit'. To have it recognized inside a file reader or other code, enable it with 'u.add_enabled_units'. For details, see https://docs.astropy.org/en/latest/units/combining_and_defining.html [astropy.units.core]\n",
      "WARNING: UnitsWarning: 'Vega' did not parse as fits unit: At col 0, Unit 'Vega' not supported by the FITS standard.  If this is meant to be a custom unit, define it with 'u.def_unit'. To have it recognized inside a file reader or other code, enable it with 'u.add_enabled_units'. For details, see https://docs.astropy.org/en/latest/units/combining_and_defining.html [astropy.units.core]\n"
     ]
    }
   ],
   "source": [
    "from astropy.io import fits\n",
    "\n",
    "archivo = fits.open('SBcatDR14.fits')\n",
    "#archivo.info()\n",
    "#archivo[1] = hdu # assuming the first extension is a table\n",
    "\n",
    "#hdu[0] = archivo[0]\n",
    "hdu = fits.BinTableHDU(small_cat)\n",
    "archivo[1] = hdu\n",
    "\n",
    "\n",
    "archivo.close()\n",
    "\n",
    "passer = archivo\n",
    "\n",
    "with fits.open('SBcatDR14.fits', mode='update') as passer:\n",
    "    # Change something in hdul.\n",
    "    \n",
    "    passer[1] = hdu\n",
    "    passer.flush()  # changes are written back to original.fits\n",
    "\n",
    "# closing the file will also flush any changes and prevent further writing\n"
   ]
  },
  {
   "cell_type": "code",
   "execution_count": 10,
   "id": "328dff17",
   "metadata": {},
   "outputs": [
    {
     "data": {
      "text/html": [
       "<div><i>Table length=101784</i>\n",
       "<table id=\"table140618897255936\" class=\"table-striped table-bordered table-condensed\">\n",
       "<thead><tr><th>SDSS_NAME</th><th>RA</th><th>DEC</th><th>THING_ID</th><th>PLATE</th><th>MJD</th><th>FIBERID</th><th>SPECTRO</th><th>Z</th><th>Z_ERR</th><th>SOURCE_Z</th><th>Z_VI</th><th>Z_PIPE</th><th>Z_PIPE_ERR</th><th>ZWARNING</th><th>Z_PCA</th><th>Z_PCA_ER</th><th>Z_MGII</th><th>BOSS_TARGET1</th><th>ANCILLARY_TARGET1</th><th>ANCILLARY_TARGET2</th><th>EBOSS_TARGET0</th><th>EBOSS_TARGET1</th><th>EBOSS_TARGET2</th><th>N_SPEC_SDSS</th><th>N_SPEC_BOSS</th><th>N_SPEC</th><th>PLATE_DUPLICATE</th><th>MJD_DUPLICATE</th><th>FIBERID_DUPLICATE</th><th>SPECTRO_DUPLICATE</th><th>BI_CIV</th><th>ERR_BI_CIV</th><th>RUN_NUMBER</th><th>RERUN_NUMBER</th><th>COL_NUMBER</th><th>FIELD_NUMBER</th><th>OBJ_ID</th><th>PSFFLUX</th><th>IVAR_PSFFLUX</th><th>PSFMAG</th><th>ERR_PSFMAG</th><th>MI</th><th>GAL_EXT</th><th>RASS_COUNTS</th><th>RASS_COUNTS_SNR</th><th>SDSS2ROSAT_SEP</th><th>FLUX_0.2_2.0keV</th><th>FLUX_0.2_2.0keV_ERR</th><th>FLUX_2.0_12.0keV</th><th>FLUX_2.0_12.0keV_ERR</th><th>FLUX_0.2_12.0keV</th><th>FLUX_0.2_12.0keV_ERR</th><th>LUM_0.2_12.0keV</th><th>SDSS2XMM_SEP</th><th>GALEX_MATCHED</th><th>FUV</th><th>FUV_IVAR</th><th>NUV</th><th>NUV_IVAR</th><th>JMAG</th><th>ERR_JMAG</th><th>JSNR</th><th>JRDFLAG</th><th>HMAG</th><th>ERR_HMAG</th><th>HSNR</th><th>HRDFLAG</th><th>KMAG</th><th>ERR_KMAG</th><th>KSNR</th><th>KRDFLAG</th><th>SDSS2MASS_SEP</th><th>W1MAG</th><th>ERR_W1MAG</th><th>W1SNR</th><th>W1CHI2</th><th>W2MAG</th><th>ERR_W2MAG</th><th>W2SNR</th><th>W2CHI2</th><th>W3MAG</th><th>ERR_W3MAG</th><th>W3SNR</th><th>W3CHI2</th><th>W4MAG</th><th>ERR_W4MAG</th><th>W4SNR</th><th>W4CHI2</th><th>CC_FLAGS</th><th>PH_FLAGS</th><th>SDSS2WISE_SEP</th><th>UKIDSS_MATCHED</th><th>YFLUX</th><th>YFLUX_ERR</th><th>JFLUX</th><th>JFLUX_ERR</th><th>HFLUX</th><th>HFLUX_ERR</th><th>KFLUX</th><th>KFLUX_ERR</th><th>FIRST_MATCHED</th><th>FIRST_FLUX</th><th>FIRST_SNR</th><th>SDSS2FIRST_SEP</th></tr></thead>\n",
       "<thead><tr><th>-</th><th>deg</th><th>deg</th><th>-</th><th>-</th><th>-</th><th>-</th><th>-</th><th>-</th><th>-</th><th>-</th><th>-</th><th>-</th><th>-</th><th>-</th><th>-</th><th>-</th><th>-</th><th>-</th><th>-</th><th>-</th><th>-</th><th>-</th><th>-</th><th>-</th><th>-</th><th>-</th><th>-</th><th>-</th><th>-</th><th>-</th><th>km / s</th><th>km / s</th><th>-</th><th>-</th><th>-</th><th>-</th><th>-</th><th>nanomaggies</th><th>-</th><th>mag</th><th>mag</th><th>-</th><th>mag</th><th>counts/s</th><th>-</th><th>arcsec</th><th>erg / (cm2 s)</th><th>erg / (cm2 s)</th><th>erg / (cm2 s)</th><th>erg / (cm2 s)</th><th>erg / (cm2 s)</th><th>erg / (cm2 s)</th><th>erg / s</th><th>arcsec</th><th>-</th><th>-</th><th>-</th><th>-</th><th>-</th><th>Vega</th><th>Vega</th><th>-</th><th>-</th><th>Vega</th><th>Vega</th><th>-</th><th>-</th><th>Vega</th><th>Vega</th><th>-</th><th>-</th><th>arcsec</th><th>-</th><th>-</th><th>-</th><th>-</th><th>-</th><th>-</th><th>-</th><th>-</th><th>-</th><th>-</th><th>-</th><th>-</th><th>-</th><th>-</th><th>-</th><th>-</th><th>-</th><th>-</th><th>arcsec</th><th>-</th><th>W / (Hz m2)</th><th>W / (Hz m2)</th><th>W / (Hz m2)</th><th>W / (Hz m2)</th><th>W / (Hz m2)</th><th>W / (Hz m2)</th><th>W / (Hz m2)</th><th>W / (Hz m2)</th><th>-</th><th>mJy</th><th>-</th><th>arcsec</th></tr></thead>\n",
       "<thead><tr><th>bytes18</th><th>float64</th><th>float64</th><th>int32</th><th>int16</th><th>int32</th><th>int16</th><th>bytes4</th><th>float64</th><th>float64</th><th>bytes4</th><th>float64</th><th>float64</th><th>float64</th><th>int16</th><th>float64</th><th>float64</th><th>float64</th><th>int64</th><th>int64</th><th>int64</th><th>int64</th><th>int64</th><th>int64</th><th>int16</th><th>int16</th><th>int16</th><th>int32[51]</th><th>int32[51]</th><th>int32[51]</th><th>bytes1[51]</th><th>float64</th><th>float64</th><th>int16</th><th>bytes1</th><th>int16</th><th>int16</th><th>bytes1</th><th>float64[5]</th><th>float64[5]</th><th>float64[5]</th><th>float64[5]</th><th>float64</th><th>float64[5]</th><th>float64</th><th>float64</th><th>float64</th><th>float64</th><th>float64</th><th>float64</th><th>float64</th><th>float64</th><th>float64</th><th>float64</th><th>float64</th><th>float32</th><th>float64</th><th>float64</th><th>float64</th><th>float64</th><th>float64</th><th>float64</th><th>float32</th><th>int16</th><th>float64</th><th>float64</th><th>float32</th><th>int16</th><th>float64</th><th>float64</th><th>float32</th><th>int16</th><th>float64</th><th>float64</th><th>float64</th><th>float64</th><th>float64</th><th>float64</th><th>float64</th><th>float64</th><th>float64</th><th>float64</th><th>float64</th><th>float64</th><th>float64</th><th>float64</th><th>float64</th><th>float64</th><th>float64</th><th>bytes4</th><th>bytes4</th><th>float64</th><th>float32</th><th>float64</th><th>float64</th><th>float64</th><th>float64</th><th>float64</th><th>float64</th><th>float64</th><th>float64</th><th>int16</th><th>float64</th><th>float64</th><th>float64</th></tr></thead>\n",
       "<tr><td>000000.97+044947.2</td><td>0.004052389452795069</td><td>4.829780562529699</td><td>154078229</td><td>4415</td><td>55831</td><td>464</td><td>BOSS</td><td>1.619</td><td>0.0</td><td>VI</td><td>1.61899995803833</td><td>1.6172041893005369</td><td>0.00048571047955192636</td><td>0</td><td>1.6273098</td><td>1.6304535</td><td>1.6304535</td><td>2199023910912</td><td>0</td><td>0</td><td>0</td><td>0</td><td>0</td><td>0</td><td>0</td><td>0</td><td>-1 .. -1</td><td>-1 .. -1</td><td>-1 .. -1</td><td>- .. -</td><td>0.0</td><td>0.0</td><td>0</td><td>-</td><td>0</td><td>0</td><td>-</td><td>6.689760208129883 .. 19.600666046142578</td><td>7.062735080718994 .. 0.5412449240684509</td><td>20.435998916625977 .. 19.267778396606445</td><td>0.061016492545604706 .. 0.07507961243391037</td><td>-25.806284</td><td>0.13920745253562927 .. 0.0414765328168869</td><td>0.0</td><td>0.0</td><td>-1.0</td><td>--</td><td>--</td><td>--</td><td>--</td><td>--</td><td>--</td><td>--</td><td>--</td><td>1.0</td><td>0.349308043718338</td><td>22.587234277440285</td><td>1.573292851448059</td><td>13.871135159044835</td><td>--</td><td>--</td><td>--</td><td>-1</td><td>--</td><td>--</td><td>--</td><td>-1</td><td>--</td><td>--</td><td>--</td><td>-1</td><td>--</td><td>15.503</td><td>0.044</td><td>24.5</td><td>0.9052</td><td>13.987</td><td>0.044</td><td>24.5</td><td>0.913</td><td>10.764</td><td>0.112</td><td>9.699999809265137</td><td>0.9418</td><td>8.056000000000001</td><td>0.044</td><td>5.300000190734863</td><td>1.052</td><td>0000</td><td>AABB</td><td>0.26852</td><td>1.0</td><td>5.5254370569158805e-31</td><td>3.5955865449950646e-32</td><td>6.597499659809314e-31</td><td>4.1546516582461446e-32</td><td>9.038159772512016e-31</td><td>4.4203324833151824e-32</td><td>8.567425066363647e-31</td><td>5.178768491431826e-32</td><td>0</td><td>-1.0</td><td>-1.0</td><td>-1.0</td></tr>\n",
       "<tr><td>000001.27-020159.7</td><td>0.005316971570891838</td><td>-2.033273291001564</td><td>62120483</td><td>4354</td><td>55810</td><td>678</td><td>BOSS</td><td>1.36</td><td>0.0</td><td>VI</td><td>1.3600000143051147</td><td>1.3604756593704224</td><td>0.0004507622215896845</td><td>0</td><td>1.3619123</td><td>1.3622836</td><td>1.3622836</td><td>262144</td><td>0</td><td>0</td><td>0</td><td>0</td><td>0</td><td>0</td><td>0</td><td>0</td><td>-1 .. -1</td><td>-1 .. -1</td><td>-1 .. -1</td><td>- .. -</td><td>0.0</td><td>0.0</td><td>0</td><td>-</td><td>0</td><td>0</td><td>-</td><td>5.7982611656188965 .. 28.749858856201172</td><td>10.57221794128418 .. 1.0262092351913452</td><td>20.591123580932617 .. 18.852691650390625</td><td>0.0575224943459034 .. 0.037230249494314194</td><td>-25.890327</td><td>0.1619756519794464 .. 0.04826026037335396</td><td>0.0</td><td>0.0</td><td>-1.0</td><td>--</td><td>--</td><td>--</td><td>--</td><td>--</td><td>--</td><td>--</td><td>--</td><td>1.0</td><td>0.0</td><td>0.0</td><td>0.0</td><td>0.0</td><td>--</td><td>--</td><td>--</td><td>-1</td><td>--</td><td>--</td><td>--</td><td>-1</td><td>--</td><td>--</td><td>--</td><td>-1</td><td>--</td><td>14.888</td><td>0.034</td><td>32.0</td><td>1.105</td><td>13.519</td><td>0.035</td><td>31.299999237060547</td><td>0.9211</td><td>10.444</td><td>0.08800000000000001</td><td>12.300000190734863</td><td>0.9571</td><td>8.145</td><td>0.034</td><td>4.199999809265137</td><td>1.038</td><td>0000</td><td>AAAB</td><td>0.092102</td><td>0.0</td><td>0.0</td><td>0.0</td><td>0.0</td><td>0.0</td><td>0.0</td><td>0.0</td><td>0.0</td><td>0.0</td><td>1</td><td>1.26</td><td>7.048389</td><td>0.57105</td></tr>\n",
       "<tr><td>000002.05+344043.2</td><td>0.008563098399520186</td><td>34.67868220474087</td><td>401165525</td><td>7145</td><td>56567</td><td>238</td><td>BOSS</td><td>1.5759999999999998</td><td>0.0</td><td>VI</td><td>1.5759999752044678</td><td>1.5759912729263306</td><td>0.0009467027848586439</td><td>0</td><td>1.5761043</td><td>1.5771078</td><td>1.5771078</td><td>3298535407616</td><td>0</td><td>0</td><td>0</td><td>0</td><td>0</td><td>0</td><td>0</td><td>0</td><td>-1 .. -1</td><td>-1 .. -1</td><td>-1 .. -1</td><td>- .. -</td><td>0.0</td><td>0.0</td><td>0</td><td>-</td><td>0</td><td>0</td><td>-</td><td>0.7073176503181458 .. 3.0587785243988037</td><td>25.60173988342285 .. 1.5422550439834595</td><td>22.835729598999023 .. 21.22753143310547</td><td>0.2820742726325989 .. 0.2572886049747467</td><td>-23.398966</td><td>0.3382720649242401 .. 0.10078736394643784</td><td>0.0</td><td>0.0</td><td>-1.0</td><td>--</td><td>--</td><td>--</td><td>--</td><td>--</td><td>--</td><td>--</td><td>--</td><td>1.0</td><td>0.3569828271865845</td><td>9.907824228000448</td><td>-0.2354433238506317</td><td>22.81207677034536</td><td>--</td><td>--</td><td>--</td><td>-1</td><td>--</td><td>--</td><td>--</td><td>-1</td><td>--</td><td>--</td><td>--</td><td>-1</td><td>--</td><td>--</td><td>--</td><td>--</td><td>--</td><td>--</td><td>--</td><td>--</td><td>--</td><td>--</td><td>--</td><td>--</td><td>--</td><td>--</td><td>--</td><td>--</td><td>--</td><td></td><td></td><td>--</td><td>0.0</td><td>0.0</td><td>0.0</td><td>0.0</td><td>0.0</td><td>0.0</td><td>0.0</td><td>0.0</td><td>0.0</td><td>-1</td><td>-1.0</td><td>-1.0</td><td>-1.0</td></tr>\n",
       "<tr><td>000002.15+151516.6</td><td>0.008980309127366581</td><td>15.254638826634542</td><td>246765254</td><td>6172</td><td>56269</td><td>394</td><td>BOSS</td><td>1.71</td><td>0.0</td><td>VI</td><td>1.7100000381469729</td><td>1.7100993394851685</td><td>0.0005770057323388755</td><td>0</td><td>1.7096761000000005</td><td>1.7128751</td><td>1.7128751</td><td>0</td><td>0</td><td>256</td><td>0</td><td>0</td><td>0</td><td>0</td><td>0</td><td>0</td><td>-1 .. -1</td><td>-1 .. -1</td><td>-1 .. -1</td><td>- .. -</td><td>0.0</td><td>0.0</td><td>0</td><td>-</td><td>0</td><td>0</td><td>-</td><td>1.3356870412826538 .. 6.058216094970703</td><td>21.05721664428711 .. 0.9768350720405579</td><td>22.174001693725586 .. 20.528289794921875</td><td>0.1733725666999817 .. 0.17614950239658356</td><td>-24.776472</td><td>0.18157906830310822 .. 0.05410105362534523</td><td>0.0</td><td>0.0</td><td>-1.0</td><td>--</td><td>--</td><td>--</td><td>--</td><td>--</td><td>--</td><td>--</td><td>--</td><td>1.0</td><td>0.06419068574905397</td><td>0.8835398182365495</td><td>0.2073007375001908</td><td>0.6091327269944166</td><td>--</td><td>--</td><td>--</td><td>-1</td><td>--</td><td>--</td><td>--</td><td>-1</td><td>--</td><td>--</td><td>--</td><td>-1</td><td>--</td><td>17.13</td><td>0.124</td><td>8.800000190734863</td><td>0.9638</td><td>15.774</td><td>0.128</td><td>8.399999618530273</td><td>0.8913</td><td>12.057</td><td>--</td><td>1.399999976158142</td><td>0.9719</td><td>8.627</td><td>0.124</td><td>1.2999999523162842</td><td>0.9768</td><td>0000</td><td>BBUU</td><td>0.996725</td><td>1.0</td><td>2.1711531122964556e-31</td><td>3.0420083455000354e-32</td><td>2.9103251189918247e-31</td><td>4.6943440368484967e-32</td><td>1.5722007720849685e-31</td><td>5.927228078993042e-32</td><td>1.538285173976173e-31</td><td>6.478741228787263e-32</td><td>-1</td><td>-1.0</td><td>-1.0</td><td>-1.0</td></tr>\n",
       "<tr><td>000003.28+105744.5</td><td>0.013678815652951927</td><td>10.962386582518182</td><td>209557973</td><td>6182</td><td>56190</td><td>672</td><td>BOSS</td><td>1.819</td><td>0.0</td><td>VI</td><td>1.819000005722046</td><td>1.8330423831939693</td><td>0.0006164286751300098</td><td>0</td><td>1.8557029999999999</td><td>1.8231416</td><td>1.8231416</td><td>2199023779840</td><td>0</td><td>1024</td><td>0</td><td>0</td><td>0</td><td>0</td><td>0</td><td>0</td><td>-1 .. -1</td><td>-1 .. -1</td><td>-1 .. -1</td><td>- .. -</td><td>0.0</td><td>0.0</td><td>0</td><td>-</td><td>0</td><td>0</td><td>-</td><td>0.8970019817352295 .. 8.410898208618164</td><td>7.3517327308654785 .. 0.4109329879283905</td><td>22.592485427856445 .. 20.17958641052246</td><td>0.4261338412761688 .. 0.19832386076450348</td><td>-24.839493</td><td>0.3365863561630249 .. 0.1002851128578186</td><td>0.0</td><td>0.0</td><td>-1.0</td><td>--</td><td>--</td><td>--</td><td>--</td><td>--</td><td>--</td><td>--</td><td>--</td><td>1.0</td><td>0.4955947101116181</td><td>10.584761423624828</td><td>0.3164235353469849</td><td>17.65877632818198</td><td>--</td><td>--</td><td>--</td><td>-1</td><td>--</td><td>--</td><td>--</td><td>-1</td><td>--</td><td>--</td><td>--</td><td>-1</td><td>--</td><td>16.027</td><td>0.058</td><td>18.700000762939453</td><td>0.9544</td><td>14.834</td><td>0.07</td><td>15.399999618530273</td><td>0.9712</td><td>11.127</td><td>0.153</td><td>7.099999904632568</td><td>0.9885</td><td>8.439</td><td>0.058</td><td>3.0</td><td>1.006</td><td>0000</td><td>AABC</td><td>0.272113</td><td>1.0</td><td>2.471530945343997e-31</td><td>2.803247222685591e-32</td><td>4.074952729837371e-31</td><td>4.987044187318361e-32</td><td>4.771287371400074e-31</td><td>5.461199229379321e-32</td><td>7.616197170164119e-31</td><td>5.862068076138262e-32</td><td>0</td><td>-1.0</td><td>-1.0</td><td>-1.0</td></tr>\n",
       "<tr><td>000005.51-053016.9</td><td>0.022969949852296168</td><td>-5.504712354296796</td><td>43012928</td><td>7034</td><td>56564</td><td>372</td><td>BOSS</td><td>2.089</td><td>0.0</td><td>VI</td><td>2.08899998664856</td><td>2.0890309810638428</td><td>0.00042947870679199696</td><td>0</td><td>2.0932465000000002</td><td>2.0869772</td><td>2.0869772</td><td>2199023796224</td><td>0</td><td>1024</td><td>0</td><td>0</td><td>0</td><td>0</td><td>0</td><td>0</td><td>-1 .. -1</td><td>-1 .. -1</td><td>-1 .. -1</td><td>- .. -</td><td>0.0</td><td>0.0</td><td>0</td><td>-</td><td>0</td><td>0</td><td>-</td><td>3.551813840866089 .. 6.647235870361328</td><td>12.057205200195312 .. 1.9015841484069824</td><td>21.1221923828125 .. 20.430185317993164</td><td>0.087761789560318 .. 0.1156163439154625</td><td>-25.2628</td><td>0.14359045028686523 .. 0.042782437056303024</td><td>0.0</td><td>0.0</td><td>-1.0</td><td>--</td><td>--</td><td>--</td><td>--</td><td>--</td><td>--</td><td>--</td><td>--</td><td>1.0</td><td>0.5066657066345215</td><td>8.923028831205043</td><td>0.5825618505477905</td><td>10.033894534223396</td><td>--</td><td>--</td><td>--</td><td>-1</td><td>--</td><td>--</td><td>--</td><td>-1</td><td>--</td><td>--</td><td>--</td><td>-1</td><td>--</td><td>16.846</td><td>0.122</td><td>8.899999618530273</td><td>1.002</td><td>15.58</td><td>0.158</td><td>6.900000095367432</td><td>0.9629</td><td>12.069</td><td>--</td><td>1.0</td><td>0.8934</td><td>8.399</td><td>0.122</td><td>0.699999988079071</td><td>1.107</td><td>D000</td><td>BBUU</td><td>0.609567</td><td>0.0</td><td>0.0</td><td>0.0</td><td>0.0</td><td>0.0</td><td>0.0</td><td>0.0</td><td>0.0</td><td>0.0</td><td>0</td><td>-1.0</td><td>-1.0</td><td>-1.0</td></tr>\n",
       "<tr><td>000005.77-042007.1</td><td>0.02407721155233844</td><td>-4.3353233567384635</td><td>48163313</td><td>7034</td><td>56564</td><td>646</td><td>BOSS</td><td>1.6380000000000001</td><td>0.0</td><td>VI</td><td>1.6380000114440918</td><td>1.639238357543945</td><td>0.0010508382692933085</td><td>0</td><td>1.6375556999999998</td><td>1.6286428</td><td>1.6286428</td><td>0</td><td>0</td><td>256</td><td>0</td><td>0</td><td>0</td><td>0</td><td>0</td><td>0</td><td>-1 .. -1</td><td>-1 .. -1</td><td>-1 .. -1</td><td>- .. -</td><td>0.0</td><td>0.0</td><td>0</td><td>-</td><td>0</td><td>0</td><td>-</td><td>1.132650375366211 .. 3.0411598682403564</td><td>16.784074783325195 .. 2.30291485786438</td><td>22.348539352416992 .. 21.23317527770996</td><td>0.22714291512966156 .. 0.21153894066810608</td><td>-23.758474</td><td>0.16007204353809357 .. 0.04769308865070343</td><td>0.0</td><td>0.0</td><td>-1.0</td><td>--</td><td>--</td><td>--</td><td>--</td><td>--</td><td>--</td><td>--</td><td>--</td><td>1.0</td><td>0.0</td><td>0.0</td><td>0.0</td><td>0.0</td><td>--</td><td>--</td><td>--</td><td>-1</td><td>--</td><td>--</td><td>--</td><td>-1</td><td>--</td><td>--</td><td>--</td><td>-1</td><td>--</td><td>17.281</td><td>0.175</td><td>6.199999809265137</td><td>0.9201</td><td>16.409000000000002</td><td>--</td><td>1.399999976158142</td><td>1.006</td><td>12.147</td><td>--</td><td>0.6000000238418579</td><td>0.9324</td><td>8.791</td><td>0.175</td><td>-1.899999976158142</td><td>1.127</td><td>0000</td><td>BUUU</td><td>1.948785</td><td>0.0</td><td>0.0</td><td>0.0</td><td>0.0</td><td>0.0</td><td>0.0</td><td>0.0</td><td>0.0</td><td>0.0</td><td>0</td><td>-1.0</td><td>-1.0</td><td>-1.0</td></tr>\n",
       "<tr><td>000006.01-035334.1</td><td>0.02506467209562402</td><td>-3.8928106419202138</td><td>49938905</td><td>7034</td><td>56564</td><td>636</td><td>BOSS</td><td>0.675</td><td>0.0</td><td>VI</td><td>0.675000011920929</td><td>0.6753928065299988</td><td>0.00019250523473601788</td><td>0</td><td>0.6750803000000001</td><td>0.675438</td><td>0.675438</td><td>2199023796224</td><td>0</td><td>0</td><td>0</td><td>0</td><td>0</td><td>0</td><td>0</td><td>0</td><td>-1 .. -1</td><td>-1 .. -1</td><td>-1 .. -1</td><td>- .. -</td><td>0.0</td><td>0.0</td><td>0</td><td>-</td><td>0</td><td>0</td><td>-</td><td>3.0747480392456055 .. 6.545780658721924</td><td>8.074091911315918 .. 0.8530077338218689</td><td>21.27823257446289 .. 20.44647979736328</td><td>0.12375838309526443 .. 0.17517010867595673</td><td>-22.566381</td><td>0.15529699623584747 .. 0.046270374208688736</td><td>0.0</td><td>0.0</td><td>-1.0</td><td>--</td><td>--</td><td>--</td><td>--</td><td>--</td><td>--</td><td>--</td><td>--</td><td>1.0</td><td>0.0</td><td>0.0</td><td>0.0</td><td>0.0</td><td>--</td><td>--</td><td>--</td><td>-1</td><td>--</td><td>--</td><td>--</td><td>-1</td><td>--</td><td>--</td><td>--</td><td>-1</td><td>--</td><td>17.003</td><td>0.12</td><td>9.100000381469727</td><td>0.9319</td><td>16.491</td><td>0.315</td><td>3.4000000953674316</td><td>0.9438</td><td>12.157</td><td>0.377</td><td>2.9000000953674316</td><td>0.8502</td><td>8.636000000000001</td><td>0.12</td><td>0.6000000238418579</td><td>0.9139</td><td>0000</td><td>BBCU</td><td>0.330697</td><td>0.0</td><td>0.0</td><td>0.0</td><td>0.0</td><td>0.0</td><td>0.0</td><td>0.0</td><td>0.0</td><td>0.0</td><td>0</td><td>-1.0</td><td>-1.0</td><td>-1.0</td></tr>\n",
       "<tr><td>000006.71+301933.2</td><td>0.027981730523606533</td><td>30.32590132480945</td><td>371542509</td><td>6498</td><td>56565</td><td>166</td><td>BOSS</td><td>2.028</td><td>0.0</td><td>VI</td><td>2.0280001163482666</td><td>1.7280044555664062</td><td>9.54180908203125</td><td>0</td><td>2.1042662</td><td>-1.0</td><td>-1.0</td><td>2199023255552</td><td>0</td><td>0</td><td>0</td><td>0</td><td>0</td><td>0</td><td>0</td><td>0</td><td>-1 .. -1</td><td>-1 .. -1</td><td>-1 .. -1</td><td>- .. -</td><td>0.0</td><td>0.0</td><td>0</td><td>-</td><td>0</td><td>0</td><td>-</td><td>1.7757428884506226 .. 3.8299129009246826</td><td>13.837023735046387 .. 1.3085119724273682</td><td>21.869863510131836 .. 21.00359344482422</td><td>0.16236408054828644 .. 0.23116616904735565</td><td>-24.580828</td><td>0.19994036853313446 .. 0.0595717616379261</td><td>0.0</td><td>0.0</td><td>-1.0</td><td>--</td><td>--</td><td>--</td><td>--</td><td>--</td><td>--</td><td>--</td><td>--</td><td>1.0</td><td>0.1818685382604599</td><td>20.840967619867484</td><td>-0.07142042368650436</td><td>26.79314234062881</td><td>--</td><td>--</td><td>--</td><td>-1</td><td>--</td><td>--</td><td>--</td><td>-1</td><td>--</td><td>--</td><td>--</td><td>-1</td><td>--</td><td>--</td><td>--</td><td>--</td><td>--</td><td>--</td><td>--</td><td>--</td><td>--</td><td>--</td><td>--</td><td>--</td><td>--</td><td>--</td><td>--</td><td>--</td><td>--</td><td></td><td></td><td>--</td><td>0.0</td><td>0.0</td><td>0.0</td><td>0.0</td><td>0.0</td><td>0.0</td><td>0.0</td><td>0.0</td><td>0.0</td><td>-1</td><td>-1.0</td><td>-1.0</td><td>-1.0</td></tr>\n",
       "<tr><td>000007.05+060333.8</td><td>0.029414423420234925</td><td>6.059398176614312</td><td>165446730</td><td>4535</td><td>55860</td><td>306</td><td>BOSS</td><td>1.546</td><td>0.0</td><td>VI</td><td>1.5460000038146973</td><td>1.5464497804641724</td><td>0.0005052234628237784</td><td>0</td><td>1.5484738</td><td>1.5493752</td><td>1.5493752</td><td>2199023910912</td><td>0</td><td>0</td><td>0</td><td>0</td><td>0</td><td>0</td><td>1</td><td>1</td><td>0 .. -1</td><td>0 .. -1</td><td>0 .. -1</td><td>- .. -</td><td>0.0</td><td>0.0</td><td>0</td><td>-</td><td>0</td><td>0</td><td>-</td><td>2.808008909225464 .. 4.70754337310791</td><td>7.280135154724121 .. 0.6293643116950989</td><td>21.376314163208008 .. 20.792129516601562</td><td>0.14259611070156097 .. 0.2773394286632538</td><td>-24.543106</td><td>0.2532512843608856 .. 0.07545562088489532</td><td>0.0</td><td>0.0</td><td>-1.0</td><td>--</td><td>--</td><td>--</td><td>--</td><td>--</td><td>--</td><td>--</td><td>--</td><td>1.0</td><td>0.0</td><td>0.0</td><td>0.0</td><td>0.0</td><td>--</td><td>--</td><td>--</td><td>-1</td><td>--</td><td>--</td><td>--</td><td>-1</td><td>--</td><td>--</td><td>--</td><td>-1</td><td>--</td><td>16.7</td><td>0.09</td><td>12.0</td><td>1.016</td><td>15.87</td><td>0.16399999999999998</td><td>6.599999904632568</td><td>0.8199</td><td>12.564</td><td>--</td><td>0.20000000298023224</td><td>0.7987</td><td>8.458</td><td>0.09</td><td>1.5</td><td>1.074</td><td>0000</td><td>ABUU</td><td>0.5294449999999999</td><td>1.0</td><td>1.6942492942455345e-31</td><td>2.5018933766785616e-32</td><td>1.9176496446306084e-31</td><td>4.5319565452485037e-32</td><td>2.383220051447512e-31</td><td>4.75972033066383e-32</td><td>2.871222534510591e-31</td><td>5.721823959371883e-32</td><td>0</td><td>-1.0</td><td>-1.0</td><td>-1.0</td></tr>\n",
       "<tr><td>000009.27+020622.0</td><td>0.038657366027280204</td><td>2.1061119205856427</td><td>131150230</td><td>4296</td><td>55499</td><td>616</td><td>BOSS</td><td>1.432</td><td>0.0</td><td>VI</td><td>1.4320000410079956</td><td>1.4366942644119265</td><td>0.00029210065258666873</td><td>0</td><td>1.4345733999999999</td><td>1.4346149</td><td>1.4346149</td><td>12094628036608</td><td>0</td><td>0</td><td>0</td><td>0</td><td>0</td><td>0</td><td>0</td><td>0</td><td>-1 .. -1</td><td>-1 .. -1</td><td>-1 .. -1</td><td>- .. -</td><td>0.0</td><td>0.0</td><td>0</td><td>-</td><td>0</td><td>0</td><td>-</td><td>6.306905746459961 .. 22.53984832763672</td><td>11.247359275817871 .. 1.437349796295166</td><td>20.499923706054688 .. 19.116455078125</td><td>0.05128083750605583 .. 0.04009201377630234</td><td>-25.719877</td><td>0.11340265721082687 .. 0.033788055181503296</td><td>0.0</td><td>0.0</td><td>-1.0</td><td>--</td><td>--</td><td>--</td><td>--</td><td>--</td><td>--</td><td>--</td><td>--</td><td>1.0</td><td>0.0957825854420662</td><td>207.1017937900428</td><td>1.7621957063674933</td><td>7.265762510889084</td><td>--</td><td>--</td><td>--</td><td>-1</td><td>--</td><td>--</td><td>--</td><td>-1</td><td>--</td><td>--</td><td>--</td><td>-1</td><td>--</td><td>15.555</td><td>0.044</td><td>24.799999237060547</td><td>0.9003</td><td>14.17</td><td>0.045</td><td>24.0</td><td>0.8774</td><td>11.099</td><td>0.151</td><td>7.199999809265137</td><td>0.9234</td><td>7.835</td><td>0.044</td><td>1.399999976158142</td><td>0.8091</td><td>0000</td><td>AABU</td><td>0.118786</td><td>1.0</td><td>8.404127271938376e-31</td><td>2.908098967790237e-32</td><td>8.794317105168403e-31</td><td>3.9191378385758457e-32</td><td>1.1115204687872602e-30</td><td>5.195525751149974e-32</td><td>1.0097728751247172e-30</td><td>5.404933016782861e-32</td><td>0</td><td>-1.0</td><td>-1.0</td><td>-1.0</td></tr>\n",
       "<tr><td>000010.13+301729.1</td><td>0.042228346715774016</td><td>30.291416796311808</td><td>371542597</td><td>6498</td><td>56565</td><td>162</td><td>BOSS</td><td>1.976</td><td>0.0</td><td>VI</td><td>1.9759999513626096</td><td>1.9761892557144165</td><td>0.0012756392825394867</td><td>0</td><td>1.9723115000000002</td><td>1.9753051</td><td>1.9753051</td><td>0</td><td>0</td><td>256</td><td>0</td><td>0</td><td>0</td><td>0</td><td>0</td><td>0</td><td>-1 .. -1</td><td>-1 .. -1</td><td>-1 .. -1</td><td>- .. -</td><td>0.0</td><td>0.0</td><td>0</td><td>-</td><td>0</td><td>0</td><td>-</td><td>0.9025086760520935 .. 1.5723931789398193</td><td>15.541056632995605 .. 1.3371217250823975</td><td>22.58614158630371 .. 21.82279396057129</td><td>0.2914588749408722 .. 0.43482500314712524</td><td>-23.957129</td><td>0.20836052298545837 .. 0.06208052486181259</td><td>0.0</td><td>0.0</td><td>-1.0</td><td>--</td><td>--</td><td>--</td><td>--</td><td>--</td><td>--</td><td>--</td><td>--</td><td>1.0</td><td>-0.1392889767885208</td><td>6.4707035888377264</td><td>-0.1501053273677826</td><td>5.141565846676079</td><td>--</td><td>--</td><td>--</td><td>-1</td><td>--</td><td>--</td><td>--</td><td>-1</td><td>--</td><td>--</td><td>--</td><td>-1</td><td>--</td><td>--</td><td>--</td><td>--</td><td>--</td><td>--</td><td>--</td><td>--</td><td>--</td><td>--</td><td>--</td><td>--</td><td>--</td><td>--</td><td>--</td><td>--</td><td>--</td><td></td><td></td><td>--</td><td>0.0</td><td>0.0</td><td>0.0</td><td>0.0</td><td>0.0</td><td>0.0</td><td>0.0</td><td>0.0</td><td>0.0</td><td>-1</td><td>-1.0</td><td>-1.0</td><td>-1.0</td></tr>\n",
       "<tr><td>000010.42-080844.5</td><td>0.043455282572736564</td><td>-8.145694646668987</td><td>30553484</td><td>7147</td><td>56574</td><td>174</td><td>BOSS</td><td>0.835</td><td>0.0</td><td>VI</td><td>0.8349999785423279</td><td>0.8347171545028687</td><td>0.0003016578848473728</td><td>0</td><td>0.8356948000000001</td><td>0.8366623</td><td>0.8366623</td><td>3298535424000</td><td>0</td><td>0</td><td>0</td><td>0</td><td>0</td><td>0</td><td>0</td><td>0</td><td>-1 .. -1</td><td>-1 .. -1</td><td>-1 .. -1</td><td>- .. -</td><td>0.0</td><td>0.0</td><td>0</td><td>-</td><td>0</td><td>0</td><td>-</td><td>3.4634342193603516 .. 9.21342945098877</td><td>6.583784580230713 .. 0.9525192975997925</td><td>21.149463653564453 .. 20.08201026916504</td><td>0.12177690863609314 .. 0.11921584606170654</td><td>-23.6157</td><td>0.1602986603975296 .. 0.04776060953736305</td><td>0.0</td><td>0.0</td><td>-1.0</td><td>--</td><td>--</td><td>--</td><td>--</td><td>--</td><td>--</td><td>--</td><td>--</td><td>1.0</td><td>1.173944354057312</td><td>70.56852102764059</td><td>3.1656644344329834</td><td>63.55428100753376</td><td>--</td><td>--</td><td>--</td><td>-1</td><td>--</td><td>--</td><td>--</td><td>-1</td><td>--</td><td>--</td><td>--</td><td>-1</td><td>--</td><td>--</td><td>--</td><td>--</td><td>--</td><td>--</td><td>--</td><td>--</td><td>--</td><td>--</td><td>--</td><td>--</td><td>--</td><td>--</td><td>--</td><td>--</td><td>--</td><td></td><td></td><td>--</td><td>0.0</td><td>0.0</td><td>0.0</td><td>0.0</td><td>0.0</td><td>0.0</td><td>0.0</td><td>0.0</td><td>0.0</td><td>0</td><td>-1.0</td><td>-1.0</td><td>-1.0</td></tr>\n",
       "<tr><td>000010.75-054320.0</td><td>0.04480456261075005</td><td>-5.722222936052879</td><td>42126422</td><td>7034</td><td>56564</td><td>328</td><td>BOSS</td><td>0.753</td><td>0.0</td><td>VI</td><td>0.753000020980835</td><td>0.7527757883071899</td><td>0.0001380784233333543</td><td>0</td><td>0.75217515</td><td>0.7519884</td><td>0.7519884</td><td>3298535424000</td><td>0</td><td>1024</td><td>0</td><td>0</td><td>0</td><td>0</td><td>0</td><td>0</td><td>-1 .. -1</td><td>-1 .. -1</td><td>-1 .. -1</td><td>- .. -</td><td>0.0</td><td>0.0</td><td>0</td><td>-</td><td>0</td><td>0</td><td>-</td><td>4.255795478820801 .. 11.60998821258545</td><td>7.719667434692383 .. 1.0568183660507202</td><td>20.926374435424805 .. 19.83353614807129</td><td>0.09162338823080063 .. 0.0902385339140892</td><td>-23.412798</td><td>0.13879700005054474 .. 0.041354238986968994</td><td>0.0</td><td>0.0</td><td>-1.0</td><td>--</td><td>--</td><td>--</td><td>--</td><td>--</td><td>--</td><td>--</td><td>--</td><td>1.0</td><td>2.3238956928253174</td><td>2.378461231807884</td><td>3.206202507019043</td><td>3.626559336130081</td><td>--</td><td>--</td><td>--</td><td>-1</td><td>--</td><td>--</td><td>--</td><td>-1</td><td>--</td><td>--</td><td>--</td><td>-1</td><td>--</td><td>16.291</td><td>0.076</td><td>14.199999809265137</td><td>1.094</td><td>15.396</td><td>0.13699999999999998</td><td>7.900000095367432</td><td>0.924</td><td>12.247</td><td>0.459</td><td>2.4000000953674316</td><td>1.017</td><td>8.466000000000001</td><td>0.076</td><td>1.2000000476837158</td><td>1.193</td><td>0000</td><td>ABCU</td><td>0.668756</td><td>0.0</td><td>0.0</td><td>0.0</td><td>0.0</td><td>0.0</td><td>0.0</td><td>0.0</td><td>0.0</td><td>0.0</td><td>0</td><td>-1.0</td><td>-1.0</td><td>-1.0</td></tr>\n",
       "<tr><td>000012.21+262205.5</td><td>0.05089503504950699</td><td>26.36820334337195</td><td>339851488</td><td>6517</td><td>56563</td><td>20</td><td>BOSS</td><td>1.886</td><td>0.0</td><td>VI</td><td>1.8860000371932983</td><td>1.885497450828552</td><td>0.0007039545453153551</td><td>0</td><td>1.8853693</td><td>1.8889042</td><td>1.8889042</td><td>0</td><td>0</td><td>256</td><td>0</td><td>0</td><td>0</td><td>0</td><td>0</td><td>0</td><td>-1 .. -1</td><td>-1 .. -1</td><td>-1 .. -1</td><td>- .. -</td><td>0.0</td><td>0.0</td><td>0</td><td>-</td><td>0</td><td>0</td><td>-</td><td>1.9516977071762085 .. 3.1029675006866455</td><td>15.15253734588623 .. 0.7572903633117676</td><td>21.76842498779297 .. 21.2134952545166</td><td>0.1414637267589569 .. 0.36291614174842834</td><td>-24.547998</td><td>0.18345016241073608 .. 0.054658543318510056</td><td>0.0</td><td>0.0</td><td>-1.0</td><td>--</td><td>--</td><td>--</td><td>--</td><td>--</td><td>--</td><td>--</td><td>--</td><td>1.0</td><td>1.2958930730819702</td><td>7.968130737023606</td><td>2.084225416183472</td><td>9.98324999189247</td><td>--</td><td>--</td><td>--</td><td>-1</td><td>--</td><td>--</td><td>--</td><td>-1</td><td>--</td><td>--</td><td>--</td><td>-1</td><td>--</td><td>17.337</td><td>0.15</td><td>7.199999809265137</td><td>0.9179</td><td>16.62</td><td>--</td><td>1.2000000476837158</td><td>0.7677</td><td>11.994000000000002</td><td>--</td><td>0.8999999761581421</td><td>0.9431</td><td>8.777999999999999</td><td>0.15</td><td>-0.10000000149011612</td><td>0.8017</td><td>0000</td><td>BUUU</td><td>0.915725</td><td>0.0</td><td>0.0</td><td>0.0</td><td>0.0</td><td>0.0</td><td>0.0</td><td>0.0</td><td>0.0</td><td>0.0</td><td>-1</td><td>-1.0</td><td>-1.0</td><td>-1.0</td></tr>\n",
       "<tr><td>000012.62-044245.1</td><td>0.05261636463782793</td><td>-4.712533669438013</td><td>46996796</td><td>7034</td><td>56564</td><td>354</td><td>BOSS</td><td>0.8959999999999999</td><td>0.0</td><td>VI</td><td>0.8960000276565552</td><td>0.8971521854400635</td><td>0.00046716112410649657</td><td>0</td><td>0.8965879999999999</td><td>0.89947313</td><td>0.89947313</td><td>0</td><td>0</td><td>1024</td><td>0</td><td>0</td><td>0</td><td>0</td><td>0</td><td>0</td><td>-1 .. -1</td><td>-1 .. -1</td><td>-1 .. -1</td><td>- .. -</td><td>0.0</td><td>0.0</td><td>0</td><td>-</td><td>0</td><td>0</td><td>-</td><td>3.9932777881622314 .. 7.442903518676758</td><td>12.358856201171875 .. 1.859842300415039</td><td>20.995344161987305 .. 20.310068130493164</td><td>0.0771508440375328 .. 0.10491152852773666</td><td>-23.535229</td><td>0.13537143170833588 .. 0.04033359885215759</td><td>0.0</td><td>0.0</td><td>-1.0</td><td>--</td><td>--</td><td>--</td><td>--</td><td>--</td><td>--</td><td>--</td><td>--</td><td>1.0</td><td>0.7800309062004089</td><td>66.5571757301959</td><td>1.6606380939483645</td><td>175.71479835069854</td><td>--</td><td>--</td><td>--</td><td>-1</td><td>--</td><td>--</td><td>--</td><td>-1</td><td>--</td><td>--</td><td>--</td><td>-1</td><td>--</td><td>16.331</td><td>0.08</td><td>13.699999809265137</td><td>0.8571</td><td>15.87</td><td>0.188</td><td>5.800000190734863</td><td>0.9137</td><td>12.398</td><td>--</td><td>0.30000001192092896</td><td>0.9897</td><td>8.787</td><td>0.08</td><td>-0.30000001192092896</td><td>0.8195</td><td>0000</td><td>ABUU</td><td>0.152345</td><td>0.0</td><td>0.0</td><td>0.0</td><td>0.0</td><td>0.0</td><td>0.0</td><td>0.0</td><td>0.0</td><td>0.0</td><td>0</td><td>-1.0</td><td>-1.0</td><td>-1.0</td></tr>\n",
       "<tr><td>000015.17+243230.1</td><td>0.06324021406953761</td><td>24.541694535471184</td><td>325348173</td><td>6513</td><td>56543</td><td>160</td><td>BOSS</td><td>2.052</td><td>0.0</td><td>VI</td><td>2.0520000457763667</td><td>2.0581133365631104</td><td>0.0006267690332606435</td><td>0</td><td>2.045717</td><td>2.0467193</td><td>2.0467193</td><td>2199023271936</td><td>0</td><td>0</td><td>0</td><td>0</td><td>0</td><td>0</td><td>0</td><td>0</td><td>-1 .. -1</td><td>-1 .. -1</td><td>-1 .. -1</td><td>- .. -</td><td>0.0</td><td>0.0</td><td>0</td><td>-</td><td>0</td><td>0</td><td>-</td><td>1.757245421409607 .. 3.6075854301452637</td><td>7.471292495727539 .. 0.6095139384269714</td><td>21.881092071533203 .. 21.063915252685547</td><td>0.22322849929332733 .. 0.35664671659469604</td><td>-24.320875</td><td>0.38150736689567566 .. 0.11366922408342361</td><td>0.0</td><td>0.0</td><td>-1.0</td><td>--</td><td>--</td><td>--</td><td>--</td><td>--</td><td>--</td><td>--</td><td>--</td><td>1.0</td><td>-0.006816073320806026</td><td>48.25852799290097</td><td>0.08745644241571426</td><td>452.0796925203135</td><td>--</td><td>--</td><td>--</td><td>-1</td><td>--</td><td>--</td><td>--</td><td>-1</td><td>--</td><td>--</td><td>--</td><td>-1</td><td>--</td><td>17.237000000000002</td><td>0.145</td><td>7.5</td><td>1.063</td><td>16.511</td><td>--</td><td>1.7000000476837158</td><td>0.8408</td><td>12.414</td><td>--</td><td>-1.100000023841858</td><td>0.8129</td><td>8.296</td><td>0.145</td><td>0.800000011920929</td><td>0.8753</td><td>0000</td><td>BUUU</td><td>0.744376</td><td>0.0</td><td>0.0</td><td>0.0</td><td>0.0</td><td>0.0</td><td>0.0</td><td>0.0</td><td>0.0</td><td>0.0</td><td>-1</td><td>-1.0</td><td>-1.0</td><td>-1.0</td></tr>\n",
       "<tr><td>...</td><td>...</td><td>...</td><td>...</td><td>...</td><td>...</td><td>...</td><td>...</td><td>...</td><td>...</td><td>...</td><td>...</td><td>...</td><td>...</td><td>...</td><td>...</td><td>...</td><td>...</td><td>...</td><td>...</td><td>...</td><td>...</td><td>...</td><td>...</td><td>...</td><td>...</td><td>...</td><td>...</td><td>...</td><td>...</td><td>...</td><td>...</td><td>...</td><td>...</td><td>...</td><td>...</td><td>...</td><td>...</td><td>...</td><td>...</td><td>...</td><td>...</td><td>...</td><td>...</td><td>...</td><td>...</td><td>...</td><td>...</td><td>...</td><td>...</td><td>...</td><td>...</td><td>...</td><td>...</td><td>...</td><td>...</td><td>...</td><td>...</td><td>...</td><td>...</td><td>...</td><td>...</td><td>...</td><td>...</td><td>...</td><td>...</td><td>...</td><td>...</td><td>...</td><td>...</td><td>...</td><td>...</td><td>...</td><td>...</td><td>...</td><td>...</td><td>...</td><td>...</td><td>...</td><td>...</td><td>...</td><td>...</td><td>...</td><td>...</td><td>...</td><td>...</td><td>...</td><td>...</td><td>...</td><td>...</td><td>...</td><td>...</td><td>...</td><td>...</td><td>...</td><td>...</td><td>...</td><td>...</td><td>...</td><td>...</td><td>...</td><td>...</td><td>...</td><td>...</td><td>...</td></tr>\n",
       "<tr><td>235946.08+325322.0</td><td>359.94201512693337</td><td>32.88945260200758</td><td>389481928</td><td>7144</td><td>56564</td><td>296</td><td>BOSS</td><td>1.87</td><td>0.0</td><td>VI</td><td>1.870000004768372</td><td>1.868993043899536</td><td>0.0017578171100467446</td><td>0</td><td>1.8777785</td><td>1.8709961</td><td>1.8709961</td><td>0</td><td>0</td><td>256</td><td>0</td><td>0</td><td>0</td><td>0</td><td>0</td><td>0</td><td>-1 .. -1</td><td>-1 .. -1</td><td>-1 .. -1</td><td>- .. -</td><td>0.0</td><td>0.0</td><td>0</td><td>-</td><td>0</td><td>0</td><td>-</td><td>1.002944827079773 .. 3.246225357055664</td><td>37.04136657714844 .. 2.24650239944458</td><td>22.47624397277832 .. 21.169084548950195</td><td>0.17131935060024261 .. 0.20304127037525177</td><td>-23.803501</td><td>0.1979512721300125 .. 0.05897911265492439</td><td>0.0</td><td>0.0</td><td>-1.0</td><td>--</td><td>--</td><td>--</td><td>--</td><td>--</td><td>--</td><td>--</td><td>--</td><td>1.0</td><td>0.0</td><td>0.0</td><td>0.0</td><td>0.0</td><td>--</td><td>--</td><td>--</td><td>-1</td><td>--</td><td>--</td><td>--</td><td>-1</td><td>--</td><td>--</td><td>--</td><td>-1</td><td>--</td><td>17.271</td><td>0.13</td><td>8.300000190734863</td><td>0.8283</td><td>16.574</td><td>0.251</td><td>4.300000190734863</td><td>0.9903</td><td>12.623</td><td>--</td><td>-1.100000023841858</td><td>0.915</td><td>8.626</td><td>0.13</td><td>0.4000000059604645</td><td>0.8661</td><td>0000</td><td>BBUU</td><td>0.677312</td><td>0.0</td><td>0.0</td><td>0.0</td><td>0.0</td><td>0.0</td><td>0.0</td><td>0.0</td><td>0.0</td><td>0.0</td><td>-1</td><td>-1.0</td><td>-1.0</td><td>-1.0</td></tr>\n",
       "<tr><td>235946.09+303829.0</td><td>359.9420519884446</td><td>30.64139494708195</td><td>373684364</td><td>6498</td><td>56565</td><td>190</td><td>BOSS</td><td>1.62</td><td>0.0</td><td>VI</td><td>1.6200000047683716</td><td>1.60504150390625</td><td>0.0005812686868011951</td><td>0</td><td>1.6140987</td><td>1.6159608</td><td>1.6159608</td><td>0</td><td>0</td><td>1024</td><td>0</td><td>0</td><td>0</td><td>0</td><td>0</td><td>0</td><td>-1 .. -1</td><td>-1 .. -1</td><td>-1 .. -1</td><td>- .. -</td><td>0.0</td><td>0.0</td><td>0</td><td>-</td><td>0</td><td>0</td><td>-</td><td>1.9106364250183105 .. 8.527350425720215</td><td>10.950800895690918 .. 1.214951515197754</td><td>21.791271209716797 .. 20.164878845214844</td><td>0.16990616917610168 .. 0.11381152272224426</td><td>-24.945869</td><td>0.19610081613063812 .. 0.058427777141332626</td><td>0.0</td><td>0.0</td><td>-1.0</td><td>--</td><td>--</td><td>--</td><td>--</td><td>--</td><td>--</td><td>--</td><td>--</td><td>1.0</td><td>-0.015661202371120453</td><td>4.425487891756443</td><td>-0.23296183347702026</td><td>8.107081488239398</td><td>--</td><td>--</td><td>--</td><td>-1</td><td>--</td><td>--</td><td>--</td><td>-1</td><td>--</td><td>--</td><td>--</td><td>-1</td><td>--</td><td>17.213</td><td>0.12</td><td>9.0</td><td>0.8918</td><td>15.979</td><td>0.14800000000000002</td><td>7.300000190734863</td><td>0.9024</td><td>11.911</td><td>--</td><td>1.7000000476837158</td><td>0.9757</td><td>8.952</td><td>0.12</td><td>0.30000001192092896</td><td>0.8376</td><td>0000</td><td>BBUU</td><td>0.7507550000000001</td><td>0.0</td><td>0.0</td><td>0.0</td><td>0.0</td><td>0.0</td><td>0.0</td><td>0.0</td><td>0.0</td><td>0.0</td><td>-1</td><td>-1.0</td><td>-1.0</td><td>-1.0</td></tr>\n",
       "<tr><td>235946.67+333838.1</td><td>359.94448861516594</td><td>33.64393568656025</td><td>394635601</td><td>7144</td><td>56564</td><td>766</td><td>BOSS</td><td>2.0780000000000003</td><td>0.0</td><td>VI</td><td>2.0780000686645512</td><td>2.0792324542999268</td><td>0.0010435048025101423</td><td>0</td><td>2.0770316</td><td>2.0926423</td><td>2.0926423</td><td>2199023255552</td><td>0</td><td>0</td><td>0</td><td>0</td><td>0</td><td>0</td><td>0</td><td>0</td><td>-1 .. -1</td><td>-1 .. -1</td><td>-1 .. -1</td><td>- .. -</td><td>0.0</td><td>0.0</td><td>0</td><td>-</td><td>0</td><td>0</td><td>-</td><td>2.036128282546997 .. 3.0661253929138184</td><td>11.687488555908203 .. 1.3720343112945557</td><td>21.722890853881836 .. 21.225187301635742</td><td>0.15452207624912262 .. 0.27225229144096375</td><td>-24.534651</td><td>0.2172088325023651 .. 0.06471686065196991</td><td>0.0</td><td>0.0</td><td>-1.0</td><td>--</td><td>--</td><td>--</td><td>--</td><td>--</td><td>--</td><td>--</td><td>--</td><td>1.0</td><td>-0.2377886772155761</td><td>31.025264104661993</td><td>0.19144165515899653</td><td>6.136049052649673</td><td>--</td><td>--</td><td>--</td><td>-1</td><td>--</td><td>--</td><td>--</td><td>-1</td><td>--</td><td>--</td><td>--</td><td>-1</td><td>--</td><td>--</td><td>--</td><td>--</td><td>--</td><td>--</td><td>--</td><td>--</td><td>--</td><td>--</td><td>--</td><td>--</td><td>--</td><td>--</td><td>--</td><td>--</td><td>--</td><td></td><td></td><td>--</td><td>0.0</td><td>0.0</td><td>0.0</td><td>0.0</td><td>0.0</td><td>0.0</td><td>0.0</td><td>0.0</td><td>0.0</td><td>-1</td><td>-1.0</td><td>-1.0</td><td>-1.0</td></tr>\n",
       "<tr><td>235948.98-083753.4</td><td>359.95408689676435</td><td>-8.631526048637317</td><td>28914120</td><td>7167</td><td>56604</td><td>742</td><td>BOSS</td><td>0.569</td><td>0.0</td><td>VI</td><td>0.5690000057220459</td><td>0.5685369372367859</td><td>4.0252394683193415e-05</td><td>0</td><td>0.5700993000000001</td><td>0.56975245</td><td>0.56975245</td><td>0</td><td>0</td><td>1024</td><td>0</td><td>0</td><td>0</td><td>0</td><td>0</td><td>0</td><td>-1 .. -1</td><td>-1 .. -1</td><td>-1 .. -1</td><td>- .. -</td><td>0.0</td><td>0.0</td><td>0</td><td>-</td><td>0</td><td>0</td><td>-</td><td>12.129669189453125 .. 27.038110733032227</td><td>4.329962730407715 .. 0.7747723460197449</td><td>19.790233612060547 .. 18.919246673583984</td><td>0.04300486668944359 .. 0.04555240273475647</td><td>-24.016794</td><td>0.15345202386379242 .. 0.045720670372247696</td><td>0.0</td><td>0.0</td><td>-1.0</td><td>--</td><td>--</td><td>--</td><td>--</td><td>--</td><td>--</td><td>--</td><td>--</td><td>1.0</td><td>0.22309835255146027</td><td>1.851882644008872</td><td>0.5335955023765564</td><td>14.746933740626028</td><td>--</td><td>--</td><td>--</td><td>-1</td><td>--</td><td>--</td><td>--</td><td>-1</td><td>--</td><td>--</td><td>--</td><td>-1</td><td>--</td><td>13.864</td><td>0.027000000000000003</td><td>40.70000076293945</td><td>0.9806</td><td>12.672</td><td>0.028</td><td>39.29999923706055</td><td>0.9546</td><td>9.788</td><td>0.057</td><td>18.899999618530273</td><td>0.8170000000000001</td><td>7.49</td><td>0.027000000000000003</td><td>8.0</td><td>1.04</td><td>0000</td><td>AAAB</td><td>0.133621</td><td>0.0</td><td>0.0</td><td>0.0</td><td>0.0</td><td>0.0</td><td>0.0</td><td>0.0</td><td>0.0</td><td>0.0</td><td>0</td><td>-1.0</td><td>-1.0</td><td>-1.0</td></tr>\n",
       "<tr><td>235949.10+171759.0</td><td>359.9546053818061</td><td>17.299727782094482</td><td>264739139</td><td>6172</td><td>56269</td><td>582</td><td>BOSS</td><td>1.8530000000000002</td><td>0.0</td><td>VI</td><td>1.8530000448226929</td><td>1.8532456159591681</td><td>0.001044499920681119</td><td>0</td><td>1.8520072</td><td>1.8657038000000001</td><td>1.8657038000000001</td><td>0</td><td>0</td><td>1024</td><td>0</td><td>0</td><td>0</td><td>0</td><td>0</td><td>0</td><td>-1 .. -1</td><td>-1 .. -1</td><td>-1 .. -1</td><td>- .. -</td><td>0.0</td><td>0.0</td><td>0</td><td>-</td><td>0</td><td>0</td><td>-</td><td>1.1757127046585083 .. 3.723604679107666</td><td>15.089076042175293 .. 1.0942482948303223</td><td>22.30916976928711 .. 21.03204917907715</td><td>0.2312663346529007 .. 0.2590315639972687</td><td>-24.48625</td><td>0.14211978018283844 .. 0.04234425723552704</td><td>0.0</td><td>0.0</td><td>-1.0</td><td>--</td><td>--</td><td>--</td><td>--</td><td>--</td><td>--</td><td>--</td><td>--</td><td>1.0</td><td>0.23881153762340546</td><td>10.970929650399713</td><td>-0.21594899892807007</td><td>9.057865366069617</td><td>--</td><td>--</td><td>--</td><td>-1</td><td>--</td><td>--</td><td>--</td><td>-1</td><td>--</td><td>--</td><td>--</td><td>-1</td><td>--</td><td>17.198</td><td>0.13699999999999998</td><td>7.900000095367432</td><td>0.8326</td><td>16.58</td><td>0.282</td><td>3.9000000953674316</td><td>0.9053</td><td>11.942</td><td>--</td><td>1.7000000476837158</td><td>1.077</td><td>8.907</td><td>0.13699999999999998</td><td>0.20000000298023224</td><td>0.866</td><td>0000</td><td>BBUU</td><td>1.371674</td><td>0.0</td><td>0.0</td><td>0.0</td><td>0.0</td><td>0.0</td><td>0.0</td><td>0.0</td><td>0.0</td><td>0.0</td><td>-1</td><td>-1.0</td><td>-1.0</td><td>-1.0</td></tr>\n",
       "<tr><td>235949.67+163639.5</td><td>359.9569798391939</td><td>16.610989547721086</td><td>259473428</td><td>6172</td><td>56269</td><td>600</td><td>BOSS</td><td>1.7009999999999998</td><td>0.0</td><td>VI</td><td>1.7009999752044678</td><td>1.7006567716598509</td><td>0.0008007679134607315</td><td>0</td><td>1.7007078999999998</td><td>1.7041453999999998</td><td>1.7041453999999998</td><td>2199023255552</td><td>0</td><td>1024</td><td>0</td><td>0</td><td>0</td><td>0</td><td>1</td><td>1</td><td>0 .. -1</td><td>0 .. -1</td><td>0 .. -1</td><td>- .. -</td><td>0.0</td><td>0.0</td><td>0</td><td>-</td><td>0</td><td>0</td><td>-</td><td>1.31173574924469 .. 3.025216579437256</td><td>7.119827747344971 .. 1.2214142084121704</td><td>22.193222045898438 .. 21.238304138183594</td><td>0.30336666107177734 .. 0.291703462600708</td><td>-24.231129</td><td>0.17928215861320496 .. 0.053416695445775986</td><td>0.0</td><td>0.0</td><td>-1.0</td><td>--</td><td>--</td><td>--</td><td>--</td><td>--</td><td>--</td><td>--</td><td>--</td><td>1.0</td><td>0.0854388028383255</td><td>70.34121885964797</td><td>0.4491392076015472</td><td>73.76793718407073</td><td>--</td><td>--</td><td>--</td><td>-1</td><td>--</td><td>--</td><td>--</td><td>-1</td><td>--</td><td>--</td><td>--</td><td>-1</td><td>--</td><td>17.160999999999998</td><td>0.134</td><td>8.100000381469727</td><td>0.9098</td><td>15.821</td><td>0.14800000000000002</td><td>7.400000095367432</td><td>0.9758</td><td>12.08</td><td>--</td><td>1.100000023841858</td><td>1.019</td><td>8.88</td><td>0.134</td><td>-1.0</td><td>1.052</td><td>0000</td><td>BBUU</td><td>0.326693</td><td>0.0</td><td>0.0</td><td>0.0</td><td>0.0</td><td>0.0</td><td>0.0</td><td>0.0</td><td>0.0</td><td>0.0</td><td>-1</td><td>-1.0</td><td>-1.0</td><td>-1.0</td></tr>\n",
       "<tr><td>235951.23+241951.9</td><td>359.96347222050207</td><td>24.331100610534715</td><td>323503189</td><td>6513</td><td>56543</td><td>212</td><td>BOSS</td><td>1.64</td><td>0.0</td><td>VI</td><td>1.6399999856948853</td><td>1.6399526596069336</td><td>0.0005684977513737978</td><td>0</td><td>1.637664</td><td>1.6395574</td><td>1.6395574</td><td>3298534883328</td><td>0</td><td>1024</td><td>0</td><td>0</td><td>0</td><td>0</td><td>0</td><td>0</td><td>-1 .. -1</td><td>-1 .. -1</td><td>-1 .. -1</td><td>- .. -</td><td>0.0</td><td>0.0</td><td>0</td><td>-</td><td>0</td><td>0</td><td>-</td><td>0.24757330119609833 .. 3.9313857555389404</td><td>16.310131072998047 .. 1.7069441080093384</td><td>23.769271850585938 .. 20.977066040039062</td><td>0.719298243522644 .. 0.19782862067222595</td><td>-24.426607</td><td>0.4756409823894501 .. 0.1417161077260971</td><td>0.0</td><td>0.0</td><td>-1.0</td><td>--</td><td>--</td><td>--</td><td>--</td><td>--</td><td>--</td><td>--</td><td>--</td><td>1.0</td><td>-0.28842514753341675</td><td>22.91459142294817</td><td>0.17150697112083435</td><td>61.82253495338876</td><td>--</td><td>--</td><td>--</td><td>-1</td><td>--</td><td>--</td><td>--</td><td>-1</td><td>--</td><td>--</td><td>--</td><td>-1</td><td>--</td><td>17.524</td><td>0.181</td><td>6.0</td><td>0.949</td><td>16.335</td><td>0.223</td><td>4.900000095367432</td><td>0.9059</td><td>12.004</td><td>--</td><td>1.399999976158142</td><td>0.9845</td><td>8.419</td><td>0.181</td><td>1.100000023841858</td><td>0.8798</td><td>0000</td><td>BBUU</td><td>0.1978</td><td>0.0</td><td>0.0</td><td>0.0</td><td>0.0</td><td>0.0</td><td>0.0</td><td>0.0</td><td>0.0</td><td>0.0</td><td>-1</td><td>-1.0</td><td>-1.0</td><td>-1.0</td></tr>\n",
       "<tr><td>235951.58+124829.5</td><td>359.964940044043</td><td>12.808219528499713</td><td>224763818</td><td>6151</td><td>56265</td><td>938</td><td>BOSS</td><td>0.752</td><td>0.0</td><td>VI</td><td>0.7519999742507935</td><td>0.7521669864654541</td><td>0.00010677648970158772</td><td>0</td><td>0.7527121</td><td>0.75239974</td><td>0.75239974</td><td>3298535424000</td><td>0</td><td>0</td><td>0</td><td>0</td><td>0</td><td>0</td><td>0</td><td>0</td><td>-1 .. -1</td><td>-1 .. -1</td><td>-1 .. -1</td><td>- .. -</td><td>0.0</td><td>0.0</td><td>0</td><td>-</td><td>0</td><td>0</td><td>-</td><td>6.014371395111084 .. 16.254884719848633</td><td>7.77899169921875 .. 1.0013487339019775</td><td>20.551437377929688 .. 19.47029685974121</td><td>0.06465502828359604 .. 0.06647448986768723</td><td>-24.042252</td><td>0.3802042603492737 .. 0.11328096687793732</td><td>0.0</td><td>0.0</td><td>-1.0</td><td>--</td><td>--</td><td>--</td><td>--</td><td>--</td><td>--</td><td>--</td><td>--</td><td>1.0</td><td>1.2612292766571045</td><td>163.83325027808002</td><td>3.0652377605438232</td><td>217.92306805543151</td><td>--</td><td>--</td><td>--</td><td>-1</td><td>--</td><td>--</td><td>--</td><td>-1</td><td>--</td><td>--</td><td>--</td><td>-1</td><td>--</td><td>15.23</td><td>0.04</td><td>27.399999618530273</td><td>1.056</td><td>14.017</td><td>0.044</td><td>25.0</td><td>0.9953</td><td>10.991</td><td>0.13</td><td>8.300000190734863</td><td>0.9688</td><td>8.398</td><td>0.04</td><td>1.399999976158142</td><td>0.9853</td><td>0000</td><td>AABU</td><td>0.073601</td><td>1.0</td><td>3.5461716424476547e-31</td><td>2.6758421490924806e-32</td><td>5.213431233750005e-31</td><td>3.451932025243361e-32</td><td>5.4608845495416044e-31</td><td>8.046857158003128e-32</td><td>1.0588208941302914e-30</td><td>5.45452712344405e-32</td><td>0</td><td>-1.0</td><td>-1.0</td><td>-1.0</td></tr>\n",
       "<tr><td>235951.66-050212.3</td><td>359.96527777104416</td><td>-5.036751368617909</td><td>45755655</td><td>7034</td><td>56564</td><td>348</td><td>BOSS</td><td>0.813</td><td>0.0</td><td>VI</td><td>0.8130000233650208</td><td>0.8128622174263</td><td>0.00010753441165434195</td><td>0</td><td>0.8206114</td><td>0.8164813</td><td>0.8164813</td><td>0</td><td>0</td><td>1024</td><td>0</td><td>0</td><td>0</td><td>0</td><td>0</td><td>0</td><td>-1 .. -1</td><td>-1 .. -1</td><td>-1 .. -1</td><td>- .. -</td><td>0.0</td><td>0.0</td><td>0</td><td>-</td><td>0</td><td>0</td><td>-</td><td>2.4295907020568848 .. 10.013916015625</td><td>11.845519065856934 .. 0.7274638414382935</td><td>21.53257942199707 .. 19.99260902404785</td><td>0.12898792326450348 .. 0.1257542073726654</td><td>-23.616516</td><td>0.12416771799325943 .. 0.036995477974414825</td><td>0.0</td><td>0.0</td><td>-1.0</td><td>--</td><td>--</td><td>--</td><td>--</td><td>--</td><td>--</td><td>--</td><td>--</td><td>1.0</td><td>0.17966218292713165</td><td>144.23513777398253</td><td>0.41618356108665466</td><td>15.8080371013444</td><td>--</td><td>--</td><td>--</td><td>-1</td><td>--</td><td>--</td><td>--</td><td>-1</td><td>--</td><td>--</td><td>--</td><td>-1</td><td>--</td><td>15.652</td><td>0.05</td><td>21.700000762939453</td><td>0.8508</td><td>14.638</td><td>0.068</td><td>15.899999618530273</td><td>0.9316</td><td>12.241</td><td>0.429</td><td>2.5</td><td>0.8492</td><td>8.885</td><td>0.05</td><td>-0.10000000149011612</td><td>0.9797</td><td>0000</td><td>AACU</td><td>0.6001890000000001</td><td>0.0</td><td>0.0</td><td>0.0</td><td>0.0</td><td>0.0</td><td>0.0</td><td>0.0</td><td>0.0</td><td>0.0</td><td>0</td><td>-1.0</td><td>-1.0</td><td>-1.0</td></tr>\n",
       "<tr><td>235951.73-013457.6</td><td>359.9655453314043</td><td>-1.5826747384742084</td><td>65182215</td><td>4354</td><td>55810</td><td>656</td><td>BOSS</td><td>1.172</td><td>0.0</td><td>VI</td><td>1.1720000505447388</td><td>1.1717387437820437</td><td>0.00037485017674043775</td><td>0</td><td>1.1726181999999998</td><td>1.172366</td><td>1.172366</td><td>9895604781056</td><td>0</td><td>0</td><td>0</td><td>0</td><td>0</td><td>0</td><td>0</td><td>0</td><td>-1 .. -1</td><td>-1 .. -1</td><td>-1 .. -1</td><td>- .. -</td><td>0.0</td><td>0.0</td><td>0</td><td>-</td><td>0</td><td>0</td><td>-</td><td>4.093467712402344 .. 6.473578453063965</td><td>9.045186042785645 .. 1.2143135070800781</td><td>20.968503952026367 .. 20.458221435546875</td><td>0.08798538893461227 .. 0.14837178587913513</td><td>-24.110418</td><td>0.1483387053012848 .. 0.044197168201208115</td><td>0.0</td><td>0.0</td><td>-1.0</td><td>--</td><td>--</td><td>--</td><td>--</td><td>--</td><td>--</td><td>--</td><td>--</td><td>1.0</td><td>0.4911909997463226</td><td>286.30872554983193</td><td>2.3464858531951904</td><td>13.772472279634151</td><td>--</td><td>--</td><td>--</td><td>-1</td><td>--</td><td>--</td><td>--</td><td>-1</td><td>--</td><td>--</td><td>--</td><td>-1</td><td>--</td><td>15.931</td><td>0.058</td><td>18.899999618530273</td><td>0.8285</td><td>15.001</td><td>0.081</td><td>13.399999618530273</td><td>0.8459</td><td>12.398</td><td>0.517</td><td>2.0999999046325684</td><td>0.8769</td><td>8.245</td><td>0.058</td><td>1.5</td><td>0.8521</td><td>0000</td><td>AACU</td><td>0.236945</td><td>0.0</td><td>0.0</td><td>0.0</td><td>0.0</td><td>0.0</td><td>0.0</td><td>0.0</td><td>0.0</td><td>0.0</td><td>0</td><td>-1.0</td><td>-1.0</td><td>-1.0</td></tr>\n",
       "<tr><td>235952.00+330349.4</td><td>359.96670662537</td><td>33.06373747782595</td><td>390444340</td><td>7144</td><td>56564</td><td>274</td><td>BOSS</td><td>0.691</td><td>0.0</td><td>VI</td><td>0.6909999847412109</td><td>0.6914535760879517</td><td>9.46998770814389e-05</td><td>0</td><td>0.6920810000000001</td><td>0.6921146</td><td>0.6921146</td><td>3298535407616</td><td>0</td><td>0</td><td>0</td><td>0</td><td>0</td><td>0</td><td>0</td><td>0</td><td>-1 .. -1</td><td>-1 .. -1</td><td>-1 .. -1</td><td>- .. -</td><td>0.0</td><td>0.0</td><td>0</td><td>-</td><td>0</td><td>0</td><td>-</td><td>3.20094633102417 .. 11.136640548706055</td><td>25.044710159301758 .. 1.8772201538085938</td><td>21.23473358154297 .. 19.87835121154785</td><td>0.06752003729343414 .. 0.07053601741790771</td><td>-23.268509</td><td>0.19129234552383423 .. 0.056995101273059845</td><td>0.0</td><td>0.0</td><td>-1.0</td><td>--</td><td>--</td><td>--</td><td>--</td><td>--</td><td>--</td><td>--</td><td>--</td><td>1.0</td><td>0.0</td><td>0.0</td><td>0.0</td><td>0.0</td><td>--</td><td>--</td><td>--</td><td>-1</td><td>--</td><td>--</td><td>--</td><td>-1</td><td>--</td><td>--</td><td>--</td><td>-1</td><td>--</td><td>15.453</td><td>0.041</td><td>26.700000762939453</td><td>0.9888</td><td>14.492</td><td>0.055</td><td>19.700000762939453</td><td>0.856</td><td>11.481</td><td>0.171</td><td>6.300000190734863</td><td>1.086</td><td>8.591000000000001</td><td>0.041</td><td>3.4000000953674316</td><td>1.026</td><td>0000</td><td>AABB</td><td>0.387522</td><td>0.0</td><td>0.0</td><td>0.0</td><td>0.0</td><td>0.0</td><td>0.0</td><td>0.0</td><td>0.0</td><td>0.0</td><td>-1</td><td>-1.0</td><td>-1.0</td><td>-1.0</td></tr>\n",
       "<tr><td>235952.58-041253.7</td><td>359.96908574634483</td><td>-4.214940379661426</td><td>48673231</td><td>7034</td><td>56564</td><td>644</td><td>BOSS</td><td>1.6219999999999999</td><td>0.0</td><td>VI</td><td>1.621999979019165</td><td>1.6215397119522097</td><td>0.00029550300678238267</td><td>0</td><td>1.6189438</td><td>1.6159792</td><td>1.6159792</td><td>0</td><td>0</td><td>256</td><td>0</td><td>0</td><td>0</td><td>0</td><td>0</td><td>0</td><td>-1 .. -1</td><td>-1 .. -1</td><td>-1 .. -1</td><td>- .. -</td><td>0.0</td><td>0.0</td><td>0</td><td>-</td><td>0</td><td>0</td><td>-</td><td>6.841473579406738 .. 13.255683898925781</td><td>9.973551750183105 .. 1.7966833114624023</td><td>20.411670684814453 .. 19.69062614440918</td><td>0.05020954832434654 .. 0.0607290156185627</td><td>-25.521332</td><td>0.16163459420204163 .. 0.04815864562988281</td><td>0.0</td><td>0.0</td><td>-1.0</td><td>--</td><td>--</td><td>--</td><td>--</td><td>--</td><td>--</td><td>--</td><td>--</td><td>1.0</td><td>0.0</td><td>0.0</td><td>0.0</td><td>0.0</td><td>--</td><td>--</td><td>--</td><td>-1</td><td>--</td><td>--</td><td>--</td><td>-1</td><td>--</td><td>--</td><td>--</td><td>-1</td><td>--</td><td>16.326</td><td>0.077</td><td>14.0</td><td>0.9261</td><td>15.24</td><td>0.114</td><td>9.5</td><td>0.8525</td><td>12.079</td><td>--</td><td>1.0</td><td>0.8529</td><td>8.302999999999999</td><td>0.077</td><td>1.7999999523162842</td><td>0.7352</td><td>0000</td><td>ABUU</td><td>0.243785</td><td>0.0</td><td>0.0</td><td>0.0</td><td>0.0</td><td>0.0</td><td>0.0</td><td>0.0</td><td>0.0</td><td>0.0</td><td>0</td><td>-1.0</td><td>-1.0</td><td>-1.0</td></tr>\n",
       "<tr><td>235952.84+163251.8</td><td>359.97018134381796</td><td>16.547739424611823</td><td>257680695</td><td>6139</td><td>56192</td><td>944</td><td>BOSS</td><td>0.9790000000000001</td><td>0.0</td><td>VI</td><td>0.9789999723434448</td><td>0.9796007871627808</td><td>0.0004365331260487437</td><td>0</td><td>0.9824776</td><td>0.98120767</td><td>0.98120767</td><td>0</td><td>0</td><td>1024</td><td>0</td><td>0</td><td>0</td><td>0</td><td>1</td><td>1</td><td>0 .. -1</td><td>0 .. -1</td><td>0 .. -1</td><td>- .. -</td><td>0.0</td><td>0.0</td><td>0</td><td>-</td><td>0</td><td>0</td><td>-</td><td>3.413754463195801 .. 18.48346519470215</td><td>10.623801231384277 .. 0.8739551901817322</td><td>21.165098190307617 .. 19.3313045501709</td><td>0.09725145250558853 .. 0.06263376772403717</td><td>-24.711847</td><td>0.17898191511631012 .. 0.05332724004983902</td><td>0.0</td><td>0.0</td><td>-1.0</td><td>--</td><td>--</td><td>--</td><td>--</td><td>--</td><td>--</td><td>--</td><td>--</td><td>1.0</td><td>1.024056315422058</td><td>24.334862220230235</td><td>0.8003436923027039</td><td>51.62829422278956</td><td>--</td><td>--</td><td>--</td><td>-1</td><td>--</td><td>--</td><td>--</td><td>-1</td><td>--</td><td>--</td><td>--</td><td>-1</td><td>--</td><td>15.253</td><td>0.037000000000000005</td><td>29.700000762939453</td><td>0.9968</td><td>14.129</td><td>0.042</td><td>25.700000762939453</td><td>0.8358</td><td>11.244000000000002</td><td>0.138</td><td>7.900000095367432</td><td>1.119</td><td>9.019</td><td>0.037000000000000005</td><td>2.0999999046325684</td><td>1.047</td><td>0000</td><td>AABC</td><td>0.147266</td><td>0.0</td><td>0.0</td><td>0.0</td><td>0.0</td><td>0.0</td><td>0.0</td><td>0.0</td><td>0.0</td><td>0.0</td><td>-1</td><td>-1.0</td><td>-1.0</td><td>-1.0</td></tr>\n",
       "<tr><td>235953.36-042459.4</td><td>359.9723454605764</td><td>-4.416501462304582</td><td>48163470</td><td>7034</td><td>56564</td><td>652</td><td>BOSS</td><td>1.569</td><td>0.0</td><td>VI</td><td>1.569000005722046</td><td>1.5697485208511353</td><td>0.00048040409456007177</td><td>0</td><td>1.568774</td><td>1.5694003</td><td>1.5694003</td><td>0</td><td>0</td><td>256</td><td>0</td><td>0</td><td>0</td><td>0</td><td>0</td><td>0</td><td>-1 .. -1</td><td>-1 .. -1</td><td>-1 .. -1</td><td>- .. -</td><td>0.0</td><td>0.0</td><td>0</td><td>-</td><td>0</td><td>0</td><td>-</td><td>4.313383102416992 .. 7.616947650909424</td><td>11.305143356323242 .. 2.075914144515991</td><td>20.911813735961914 .. 20.285442352294922</td><td>0.07470594346523285 .. 0.0971161499619484</td><td>-24.942455</td><td>0.15756787359714508 .. 0.04694697633385658</td><td>0.0</td><td>0.0</td><td>-1.0</td><td>--</td><td>--</td><td>--</td><td>--</td><td>--</td><td>--</td><td>--</td><td>--</td><td>1.0</td><td>0.7270287871360779</td><td>54.50214350504621</td><td>0.9582875370979308</td><td>9.851910405260078</td><td>--</td><td>--</td><td>--</td><td>-1</td><td>--</td><td>--</td><td>--</td><td>-1</td><td>--</td><td>--</td><td>--</td><td>-1</td><td>--</td><td>16.394000000000002</td><td>0.079</td><td>13.800000190734863</td><td>0.8566</td><td>15.414</td><td>0.129</td><td>8.399999618530273</td><td>0.9828</td><td>12.076</td><td>--</td><td>1.100000023841858</td><td>0.8325</td><td>8.448</td><td>0.079</td><td>0.800000011920929</td><td>0.883</td><td>0000</td><td>ABUU</td><td>0.34798</td><td>0.0</td><td>0.0</td><td>0.0</td><td>0.0</td><td>0.0</td><td>0.0</td><td>0.0</td><td>0.0</td><td>0.0</td><td>0</td><td>-1.0</td><td>-1.0</td><td>-1.0</td></tr>\n",
       "<tr><td>235953.93+145519.4</td><td>359.97473329569686</td><td>14.92208075483104</td><td>242957181</td><td>6172</td><td>56269</td><td>368</td><td>BOSS</td><td>0.787</td><td>0.0</td><td>VI</td><td>0.7870000004768372</td><td>0.786469578742981</td><td>8.408269786741585e-05</td><td>0</td><td>0.7840746999999999</td><td>0.7849656</td><td>0.7849656</td><td>2199023255552</td><td>0</td><td>0</td><td>0</td><td>0</td><td>0</td><td>0</td><td>0</td><td>0</td><td>-1 .. -1</td><td>-1 .. -1</td><td>-1 .. -1</td><td>- .. -</td><td>0.0</td><td>0.0</td><td>0</td><td>-</td><td>0</td><td>0</td><td>-</td><td>0.4942586421966553 .. 2.9067983627319336</td><td>23.924461364746094 .. 1.2224383354187012</td><td>23.186939239501953 .. 21.2770938873291</td><td>0.3907593786716461 .. 0.3010527193546295</td><td>-22.095158</td><td>0.17074385285377502 .. 0.05087272822856903</td><td>0.0</td><td>0.0</td><td>-1.0</td><td>--</td><td>--</td><td>--</td><td>--</td><td>--</td><td>--</td><td>--</td><td>--</td><td>1.0</td><td>0.2528119683265686</td><td>6.7640068514068385</td><td>-0.06153382360935211</td><td>59.53127662641518</td><td>--</td><td>--</td><td>--</td><td>-1</td><td>--</td><td>--</td><td>--</td><td>-1</td><td>--</td><td>--</td><td>--</td><td>-1</td><td>--</td><td>17.167</td><td>0.147</td><td>7.400000095367432</td><td>0.8181</td><td>16.223</td><td>0.23</td><td>4.699999809265137</td><td>0.7933</td><td>12.442</td><td>--</td><td>0.20000000298023224</td><td>1.054</td><td>8.796</td><td>0.147</td><td>0.20000000298023224</td><td>0.914</td><td>0000</td><td>BBUU</td><td>0.405533</td><td>1.0</td><td>1.5979337540176894e-31</td><td>2.7023072289068936e-32</td><td>3.383035125847317e-31</td><td>3.8280802258045117e-32</td><td>1.795920621834596e-31</td><td>4.652128802101004e-32</td><td>2.4103236597932913e-31</td><td>5.558738224127498e-32</td><td>0</td><td>-1.0</td><td>-1.0</td><td>-1.0</td></tr>\n",
       "<tr><td>235954.29+090908.7</td><td>359.9762256794808</td><td>9.15243956000457</td><td>194651780</td><td>4534</td><td>55863</td><td>506</td><td>BOSS</td><td>0.836</td><td>0.0</td><td>VI</td><td>0.8360000252723694</td><td>0.8358789682388306</td><td>0.00018004841695073992</td><td>0</td><td>0.83564705</td><td>0.83582586</td><td>0.83582586</td><td>16492675088384</td><td>0</td><td>0</td><td>0</td><td>0</td><td>0</td><td>0</td><td>0</td><td>0</td><td>-1 .. -1</td><td>-1 .. -1</td><td>-1 .. -1</td><td>- .. -</td><td>0.0</td><td>0.0</td><td>0</td><td>-</td><td>0</td><td>0</td><td>-</td><td>1.3833078145980835 .. 3.272500514984131</td><td>7.248376369476318 .. 0.8874278664588928</td><td>22.136749267578125 .. 21.161113739013672</td><td>0.2857365310192108 .. 0.32089921832084656</td><td>-22.47847</td><td>0.31377530097961426 .. 0.09348861128091812</td><td>0.0</td><td>0.0</td><td>-1.0</td><td>--</td><td>--</td><td>--</td><td>--</td><td>--</td><td>--</td><td>--</td><td>--</td><td>1.0</td><td>-0.3491846621036529</td><td>33.201056554561525</td><td>1.6889965534210205</td><td>5.982270926669543</td><td>--</td><td>--</td><td>--</td><td>-1</td><td>--</td><td>--</td><td>--</td><td>-1</td><td>--</td><td>--</td><td>--</td><td>-1</td><td>--</td><td>16.743</td><td>0.105</td><td>10.300000190734863</td><td>1.0</td><td>16.361</td><td>0.262</td><td>4.099999904632568</td><td>0.8948</td><td>11.817</td><td>--</td><td>1.5</td><td>0.9605</td><td>8.174</td><td>0.105</td><td>1.7999999523162842</td><td>0.8126</td><td>0000</td><td>ABUU</td><td>0.7177680000000001</td><td>1.0</td><td>1.327488356471181e-31</td><td>2.6135383036366094e-32</td><td>1.8508031600307028e-31</td><td>3.2011837987864076e-32</td><td>3.113837985751947e-31</td><td>4.4002835455411446e-32</td><td>4.221575431599617e-31</td><td>4.652143495780389e-32</td><td>0</td><td>-1.0</td><td>-1.0</td><td>-1.0</td></tr>\n",
       "<tr><td>235954.98+015621.6</td><td>359.97909398449417</td><td>1.9393604177357573</td><td>129453617</td><td>4296</td><td>55499</td><td>438</td><td>BOSS</td><td>1.85</td><td>0.0</td><td>VI</td><td>1.8500000238418581</td><td>1.848704218864441</td><td>0.0011451034806668758</td><td>0</td><td>1.8467216</td><td>1.8551598000000002</td><td>1.8551598000000002</td><td>2199023386624</td><td>0</td><td>0</td><td>0</td><td>0</td><td>0</td><td>0</td><td>0</td><td>0</td><td>-1 .. -1</td><td>-1 .. -1</td><td>-1 .. -1</td><td>- .. -</td><td>0.0</td><td>0.0</td><td>0</td><td>-</td><td>0</td><td>0</td><td>-</td><td>0.967915952205658 .. 2.0415914058685303</td><td>10.82524299621582 .. 1.3299793004989624</td><td>22.51337242126465 .. 21.604402542114258</td><td>0.3275039792060852 .. 0.3733573257923126</td><td>-23.822847</td><td>0.10334450751543045 .. 0.030791250988841057</td><td>0.0</td><td>0.0</td><td>-1.0</td><td>--</td><td>--</td><td>--</td><td>--</td><td>--</td><td>--</td><td>--</td><td>--</td><td>1.0</td><td>0.44572514295578003</td><td>31.828726208086845</td><td>0.6501260995864868</td><td>166.55224289217864</td><td>--</td><td>--</td><td>--</td><td>-1</td><td>--</td><td>--</td><td>--</td><td>-1</td><td>--</td><td>--</td><td>--</td><td>-1</td><td>--</td><td>--</td><td>--</td><td>--</td><td>--</td><td>--</td><td>--</td><td>--</td><td>--</td><td>--</td><td>--</td><td>--</td><td>--</td><td>--</td><td>--</td><td>--</td><td>--</td><td></td><td></td><td>--</td><td>1.0</td><td>1.901111732158325e-32</td><td>2.6274279448859256e-32</td><td>5.002076409076677e-32</td><td>3.7624121155165877e-32</td><td>1.3027795827663315e-31</td><td>5.192094483139922e-32</td><td>2.0073968750743636e-31</td><td>5.352657607507441e-32</td><td>0</td><td>-1.0</td><td>-1.0</td><td>-1.0</td></tr>\n",
       "<tr><td>235958.43+211024.3</td><td>359.9934918482994</td><td>21.173441295297398</td><td>297314738</td><td>6110</td><td>56279</td><td>890</td><td>BOSS</td><td>1.198</td><td>0.0</td><td>VI</td><td>1.1979999542236328</td><td>1.1973974704742432</td><td>0.0006879185675643382</td><td>0</td><td>1.1982012</td><td>1.1985106</td><td>1.1985106</td><td>2199023255552</td><td>0</td><td>0</td><td>0</td><td>0</td><td>0</td><td>0</td><td>0</td><td>0</td><td>-1 .. -1</td><td>-1 .. -1</td><td>-1 .. -1</td><td>- .. -</td><td>0.0</td><td>0.0</td><td>0</td><td>-</td><td>0</td><td>0</td><td>-</td><td>1.4136738777160645 .. 4.397337436676025</td><td>5.959595680236816 .. 0.8530807495117188</td><td>22.113632202148438 .. 20.862506866455078</td><td>0.30861061811447144 .. 0.2533598244190216</td><td>-23.0305</td><td>0.2052038162946701 .. 0.061139993369579315</td><td>0.0</td><td>0.0</td><td>-1.0</td><td>--</td><td>--</td><td>--</td><td>--</td><td>--</td><td>--</td><td>--</td><td>--</td><td>1.0</td><td>-0.04394540190696716</td><td>177.689511381979</td><td>0.8087283968925476</td><td>70.01344163987171</td><td>--</td><td>--</td><td>--</td><td>-1</td><td>--</td><td>--</td><td>--</td><td>-1</td><td>--</td><td>--</td><td>--</td><td>-1</td><td>--</td><td>16.909000000000002</td><td>0.105</td><td>10.300000190734863</td><td>0.9884</td><td>16.362000000000002</td><td>0.219</td><td>4.900000095367432</td><td>0.94</td><td>12.517</td><td>--</td><td>-0.20000000298023224</td><td>0.9462</td><td>9.035</td><td>0.105</td><td>-0.800000011920929</td><td>0.8804</td><td>0000</td><td>ABUU</td><td>0.17793599999999998</td><td>0.0</td><td>0.0</td><td>0.0</td><td>0.0</td><td>0.0</td><td>0.0</td><td>0.0</td><td>0.0</td><td>0.0</td><td>-1</td><td>-1.0</td><td>-1.0</td><td>-1.0</td></tr>\n",
       "</table></div>"
      ],
      "text/plain": [
       "<Table length=101784>\n",
       "    SDSS_NAME      ... SDSS2FIRST_SEP\n",
       "        -          ...     arcsec    \n",
       "     bytes18       ...    float64    \n",
       "------------------ ... --------------\n",
       "000000.97+044947.2 ...           -1.0\n",
       "000001.27-020159.7 ...        0.57105\n",
       "000002.05+344043.2 ...           -1.0\n",
       "000002.15+151516.6 ...           -1.0\n",
       "000003.28+105744.5 ...           -1.0\n",
       "000005.51-053016.9 ...           -1.0\n",
       "000005.77-042007.1 ...           -1.0\n",
       "000006.01-035334.1 ...           -1.0\n",
       "000006.71+301933.2 ...           -1.0\n",
       "000007.05+060333.8 ...           -1.0\n",
       "000009.27+020622.0 ...           -1.0\n",
       "000010.13+301729.1 ...           -1.0\n",
       "000010.42-080844.5 ...           -1.0\n",
       "000010.75-054320.0 ...           -1.0\n",
       "000012.21+262205.5 ...           -1.0\n",
       "000012.62-044245.1 ...           -1.0\n",
       "000015.17+243230.1 ...           -1.0\n",
       "               ... ...            ...\n",
       "235946.08+325322.0 ...           -1.0\n",
       "235946.09+303829.0 ...           -1.0\n",
       "235946.67+333838.1 ...           -1.0\n",
       "235948.98-083753.4 ...           -1.0\n",
       "235949.10+171759.0 ...           -1.0\n",
       "235949.67+163639.5 ...           -1.0\n",
       "235951.23+241951.9 ...           -1.0\n",
       "235951.58+124829.5 ...           -1.0\n",
       "235951.66-050212.3 ...           -1.0\n",
       "235951.73-013457.6 ...           -1.0\n",
       "235952.00+330349.4 ...           -1.0\n",
       "235952.58-041253.7 ...           -1.0\n",
       "235952.84+163251.8 ...           -1.0\n",
       "235953.36-042459.4 ...           -1.0\n",
       "235953.93+145519.4 ...           -1.0\n",
       "235954.29+090908.7 ...           -1.0\n",
       "235954.98+015621.6 ...           -1.0\n",
       "235958.43+211024.3 ...           -1.0"
      ]
     },
     "execution_count": 10,
     "metadata": {},
     "output_type": "execute_result"
    }
   ],
   "source": [
    "pruf=Table.read('SBcatDR14.fits')\n",
    "pruf"
   ]
  },
  {
   "cell_type": "code",
   "execution_count": 11,
   "id": "94ac21a0",
   "metadata": {},
   "outputs": [
    {
     "name": "stdout",
     "output_type": "stream",
     "text": [
      "Filename: SBcatDR14.fits\n",
      "No.    Name      Ver    Type      Cards   Dimensions   Format\n",
      "  0  PRIMARY       1 PrimaryHDU      16   (7055,)   uint8   \n",
      "  1  DR14Q_v4_4    1 BinTableHDU    357   101784R x 105C   [18A, D, D, J, I, J, I, 4A, D, D, 4A, D, D, D, I, D, D, D, K, K, K, K, K, K, I, I, I, 51J, 51J, 51J, 51A, D, D, I, 1A, I, I, 1A, 5D, 5D, 5D, 5D, D, 5D, D, D, D, D, D, D, D, D, D, D, D, E, D, D, D, D, D, D, E, I, D, D, E, I, D, D, E, I, D, D, D, D, D, D, D, D, D, D, D, D, D, D, D, D, D, 4A, 4A, D, E, D, D, D, D, D, D, D, D, I, D, D, D]   \n"
     ]
    }
   ],
   "source": [
    "nuevo = fits.open('SBcatDR14.fits')\n",
    "nuevo.info()"
   ]
  },
  {
   "cell_type": "code",
   "execution_count": null,
   "id": "4320c549",
   "metadata": {},
   "outputs": [],
   "source": []
  }
 ],
 "metadata": {
  "kernelspec": {
   "display_name": "Python 3 (ipykernel)",
   "language": "python",
   "name": "python3"
  },
  "language_info": {
   "codemirror_mode": {
    "name": "ipython",
    "version": 3
   },
   "file_extension": ".py",
   "mimetype": "text/x-python",
   "name": "python",
   "nbconvert_exporter": "python",
   "pygments_lexer": "ipython3",
   "version": "3.10.6"
  }
 },
 "nbformat": 4,
 "nbformat_minor": 5
}
